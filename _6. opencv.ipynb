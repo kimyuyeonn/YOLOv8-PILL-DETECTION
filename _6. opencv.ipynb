{
 "cells": [
  {
   "cell_type": "code",
   "execution_count": null,
   "metadata": {},
   "outputs": [
    {
     "name": "stdout",
     "output_type": "stream",
     "text": [
      "Collecting ultralytics\n",
      "  Obtaining dependency information for ultralytics from https://files.pythonhosted.org/packages/12/44/1ae54087337a2a446fd3a2876570765a3c2676e481f7bf8cc81a45ded356/ultralytics-8.0.207-py3-none-any.whl.metadata\n",
      "  Downloading ultralytics-8.0.207-py3-none-any.whl.metadata (31 kB)\n",
      "Requirement already satisfied: matplotlib>=3.3.0 in c:\\users\\tomozart21\\anaconda3\\envs\\pt_gpu\\lib\\site-packages (from ultralytics) (3.8.1)\n",
      "Requirement already satisfied: numpy>=1.22.2 in c:\\users\\tomozart21\\anaconda3\\envs\\pt_gpu\\lib\\site-packages (from ultralytics) (1.25.2)\n",
      "Collecting opencv-python>=4.6.0 (from ultralytics)\n",
      "  Obtaining dependency information for opencv-python>=4.6.0 from https://files.pythonhosted.org/packages/38/d2/3e8c13ffc37ca5ebc6f382b242b44acb43eb489042e1728407ac3904e72f/opencv_python-4.8.1.78-cp37-abi3-win_amd64.whl.metadata\n",
      "  Downloading opencv_python-4.8.1.78-cp37-abi3-win_amd64.whl.metadata (20 kB)\n",
      "Requirement already satisfied: pillow>=7.1.2 in c:\\users\\tomozart21\\anaconda3\\envs\\pt_gpu\\lib\\site-packages (from ultralytics) (9.4.0)\n",
      "Collecting pyyaml>=5.3.1 (from ultralytics)\n",
      "  Obtaining dependency information for pyyaml>=5.3.1 from https://files.pythonhosted.org/packages/b3/34/65bb4b2d7908044963ebf614fe0fdb080773fc7030d7e39c8d3eddcd4257/PyYAML-6.0.1-cp311-cp311-win_amd64.whl.metadata\n",
      "  Downloading PyYAML-6.0.1-cp311-cp311-win_amd64.whl.metadata (2.1 kB)\n",
      "Requirement already satisfied: requests>=2.23.0 in c:\\users\\tomozart21\\anaconda3\\envs\\pt_gpu\\lib\\site-packages (from ultralytics) (2.31.0)\n",
      "Collecting scipy>=1.4.1 (from ultralytics)\n",
      "  Obtaining dependency information for scipy>=1.4.1 from https://files.pythonhosted.org/packages/81/d7/d2537d51efb692d0c411e64267ba349e7668d40f5bc73cefe78ccd650dcd/scipy-1.11.3-cp311-cp311-win_amd64.whl.metadata\n",
      "  Downloading scipy-1.11.3-cp311-cp311-win_amd64.whl.metadata (60 kB)\n",
      "     ---------------------------------------- 0.0/60.4 kB ? eta -:--:--\n",
      "     ---------------------------------------- 60.4/60.4 kB 3.3 MB/s eta 0:00:00\n",
      "Requirement already satisfied: torch>=1.8.0 in c:\\users\\tomozart21\\anaconda3\\envs\\pt_gpu\\lib\\site-packages (from ultralytics) (2.0.1)\n",
      "Requirement already satisfied: torchvision>=0.9.0 in c:\\users\\tomozart21\\anaconda3\\envs\\pt_gpu\\lib\\site-packages (from ultralytics) (0.15.2)\n",
      "Collecting tqdm>=4.64.0 (from ultralytics)\n",
      "  Obtaining dependency information for tqdm>=4.64.0 from https://files.pythonhosted.org/packages/00/e5/f12a80907d0884e6dff9c16d0c0114d81b8cd07dc3ae54c5e962cc83037e/tqdm-4.66.1-py3-none-any.whl.metadata\n",
      "  Downloading tqdm-4.66.1-py3-none-any.whl.metadata (57 kB)\n",
      "     ---------------------------------------- 0.0/57.6 kB ? eta -:--:--\n",
      "     ---------------------------------------- 57.6/57.6 kB 3.0 MB/s eta 0:00:00\n",
      "Requirement already satisfied: pandas>=1.1.4 in c:\\users\\tomozart21\\anaconda3\\envs\\pt_gpu\\lib\\site-packages (from ultralytics) (2.1.2)\n",
      "Collecting seaborn>=0.11.0 (from ultralytics)\n",
      "  Obtaining dependency information for seaborn>=0.11.0 from https://files.pythonhosted.org/packages/7b/e5/83fcd7e9db036c179e0352bfcd20f81d728197a16f883e7b90307a88e65e/seaborn-0.13.0-py3-none-any.whl.metadata\n",
      "  Downloading seaborn-0.13.0-py3-none-any.whl.metadata (5.3 kB)\n",
      "Requirement already satisfied: psutil in c:\\users\\tomozart21\\anaconda3\\envs\\pt_gpu\\lib\\site-packages (from ultralytics) (5.9.0)\n",
      "Collecting py-cpuinfo (from ultralytics)\n",
      "  Using cached py_cpuinfo-9.0.0-py3-none-any.whl (22 kB)\n",
      "Collecting thop>=0.1.1 (from ultralytics)\n",
      "  Using cached thop-0.1.1.post2209072238-py3-none-any.whl (15 kB)\n",
      "Requirement already satisfied: contourpy>=1.0.1 in c:\\users\\tomozart21\\anaconda3\\envs\\pt_gpu\\lib\\site-packages (from matplotlib>=3.3.0->ultralytics) (1.2.0)\n",
      "Requirement already satisfied: cycler>=0.10 in c:\\users\\tomozart21\\anaconda3\\envs\\pt_gpu\\lib\\site-packages (from matplotlib>=3.3.0->ultralytics) (0.12.1)\n",
      "Requirement already satisfied: fonttools>=4.22.0 in c:\\users\\tomozart21\\anaconda3\\envs\\pt_gpu\\lib\\site-packages (from matplotlib>=3.3.0->ultralytics) (4.44.0)\n",
      "Requirement already satisfied: kiwisolver>=1.3.1 in c:\\users\\tomozart21\\anaconda3\\envs\\pt_gpu\\lib\\site-packages (from matplotlib>=3.3.0->ultralytics) (1.4.5)\n",
      "Requirement already satisfied: packaging>=20.0 in c:\\users\\tomozart21\\anaconda3\\envs\\pt_gpu\\lib\\site-packages (from matplotlib>=3.3.0->ultralytics) (23.0)\n",
      "Requirement already satisfied: pyparsing>=2.3.1 in c:\\users\\tomozart21\\anaconda3\\envs\\pt_gpu\\lib\\site-packages (from matplotlib>=3.3.0->ultralytics) (3.1.1)\n",
      "Requirement already satisfied: python-dateutil>=2.7 in c:\\users\\tomozart21\\anaconda3\\envs\\pt_gpu\\lib\\site-packages (from matplotlib>=3.3.0->ultralytics) (2.8.2)\n",
      "Requirement already satisfied: pytz>=2020.1 in c:\\users\\tomozart21\\anaconda3\\envs\\pt_gpu\\lib\\site-packages (from pandas>=1.1.4->ultralytics) (2023.3.post1)\n",
      "Requirement already satisfied: tzdata>=2022.1 in c:\\users\\tomozart21\\anaconda3\\envs\\pt_gpu\\lib\\site-packages (from pandas>=1.1.4->ultralytics) (2023.3)\n",
      "Requirement already satisfied: charset-normalizer<4,>=2 in c:\\users\\tomozart21\\anaconda3\\envs\\pt_gpu\\lib\\site-packages (from requests>=2.23.0->ultralytics) (2.0.4)\n",
      "Requirement already satisfied: idna<4,>=2.5 in c:\\users\\tomozart21\\anaconda3\\envs\\pt_gpu\\lib\\site-packages (from requests>=2.23.0->ultralytics) (3.4)\n",
      "Requirement already satisfied: urllib3<3,>=1.21.1 in c:\\users\\tomozart21\\anaconda3\\envs\\pt_gpu\\lib\\site-packages (from requests>=2.23.0->ultralytics) (1.26.16)\n",
      "Requirement already satisfied: certifi>=2017.4.17 in c:\\users\\tomozart21\\anaconda3\\envs\\pt_gpu\\lib\\site-packages (from requests>=2.23.0->ultralytics) (2023.7.22)\n",
      "Requirement already satisfied: filelock in c:\\users\\tomozart21\\anaconda3\\envs\\pt_gpu\\lib\\site-packages (from torch>=1.8.0->ultralytics) (3.9.0)\n",
      "Requirement already satisfied: typing-extensions in c:\\users\\tomozart21\\anaconda3\\envs\\pt_gpu\\lib\\site-packages (from torch>=1.8.0->ultralytics) (4.7.1)\n",
      "Requirement already satisfied: sympy in c:\\users\\tomozart21\\anaconda3\\envs\\pt_gpu\\lib\\site-packages (from torch>=1.8.0->ultralytics) (1.11.1)\n",
      "Requirement already satisfied: networkx in c:\\users\\tomozart21\\anaconda3\\envs\\pt_gpu\\lib\\site-packages (from torch>=1.8.0->ultralytics) (3.1)\n",
      "Requirement already satisfied: jinja2 in c:\\users\\tomozart21\\anaconda3\\envs\\pt_gpu\\lib\\site-packages (from torch>=1.8.0->ultralytics) (3.1.2)\n",
      "Requirement already satisfied: colorama in c:\\users\\tomozart21\\anaconda3\\envs\\pt_gpu\\lib\\site-packages (from tqdm>=4.64.0->ultralytics) (0.4.6)\n",
      "Requirement already satisfied: six>=1.5 in c:\\users\\tomozart21\\anaconda3\\envs\\pt_gpu\\lib\\site-packages (from python-dateutil>=2.7->matplotlib>=3.3.0->ultralytics) (1.16.0)\n",
      "Requirement already satisfied: MarkupSafe>=2.0 in c:\\users\\tomozart21\\anaconda3\\envs\\pt_gpu\\lib\\site-packages (from jinja2->torch>=1.8.0->ultralytics) (2.1.1)\n",
      "Requirement already satisfied: mpmath>=0.19 in c:\\users\\tomozart21\\anaconda3\\envs\\pt_gpu\\lib\\site-packages (from sympy->torch>=1.8.0->ultralytics) (1.3.0)\n",
      "Downloading ultralytics-8.0.207-py3-none-any.whl (645 kB)\n",
      "   ---------------------------------------- 0.0/645.2 kB ? eta -:--:--\n",
      "   ---------------------- ----------------- 358.4/645.2 kB 7.4 MB/s eta 0:00:01\n",
      "   ---------------------------------------- 645.2/645.2 kB 6.8 MB/s eta 0:00:00\n",
      "Using cached opencv_python-4.8.1.78-cp37-abi3-win_amd64.whl (38.1 MB)\n",
      "Downloading PyYAML-6.0.1-cp311-cp311-win_amd64.whl (144 kB)\n",
      "   ---------------------------------------- 0.0/144.7 kB ? eta -:--:--\n",
      "   ---------------------------------------- 144.7/144.7 kB 8.4 MB/s eta 0:00:00\n",
      "Downloading scipy-1.11.3-cp311-cp311-win_amd64.whl (44.1 MB)\n",
      "   ---------------------------------------- 0.0/44.1 MB ? eta -:--:--\n",
      "   ---------------------------------------- 0.5/44.1 MB 14.1 MB/s eta 0:00:04\n",
      "    --------------------------------------- 1.0/44.1 MB 12.9 MB/s eta 0:00:04\n",
      "   - -------------------------------------- 1.6/44.1 MB 12.5 MB/s eta 0:00:04\n",
      "   - -------------------------------------- 2.1/44.1 MB 12.4 MB/s eta 0:00:04\n",
      "   -- ------------------------------------- 2.7/44.1 MB 12.3 MB/s eta 0:00:04\n",
      "   -- ------------------------------------- 3.3/44.1 MB 11.5 MB/s eta 0:00:04\n",
      "   --- ------------------------------------ 3.8/44.1 MB 11.6 MB/s eta 0:00:04\n",
      "   --- ------------------------------------ 4.4/44.1 MB 11.6 MB/s eta 0:00:04\n",
      "   ---- ----------------------------------- 4.9/44.1 MB 11.7 MB/s eta 0:00:04\n",
      "   ---- ----------------------------------- 5.5/44.1 MB 11.7 MB/s eta 0:00:04\n",
      "   ----- ---------------------------------- 6.1/44.1 MB 11.7 MB/s eta 0:00:04\n",
      "   ------ --------------------------------- 6.6/44.1 MB 11.7 MB/s eta 0:00:04\n",
      "   ------ --------------------------------- 7.2/44.1 MB 11.8 MB/s eta 0:00:04\n",
      "   ------- -------------------------------- 7.7/44.1 MB 11.8 MB/s eta 0:00:04\n",
      "   ------- -------------------------------- 8.3/44.1 MB 11.8 MB/s eta 0:00:04\n",
      "   -------- ------------------------------- 8.8/44.1 MB 11.8 MB/s eta 0:00:03\n",
      "   -------- ------------------------------- 9.4/44.1 MB 11.8 MB/s eta 0:00:03\n",
      "   --------- ------------------------------ 10.0/44.1 MB 11.8 MB/s eta 0:00:03\n",
      "   --------- ------------------------------ 10.5/44.1 MB 11.9 MB/s eta 0:00:03\n",
      "   ---------- ----------------------------- 11.1/44.1 MB 11.9 MB/s eta 0:00:03\n",
      "   ---------- ----------------------------- 11.7/44.1 MB 11.9 MB/s eta 0:00:03\n",
      "   ----------- ---------------------------- 12.2/44.1 MB 11.9 MB/s eta 0:00:03\n",
      "   ----------- ---------------------------- 12.8/44.1 MB 11.9 MB/s eta 0:00:03\n",
      "   ------------ --------------------------- 13.3/44.1 MB 11.9 MB/s eta 0:00:03\n",
      "   ------------ --------------------------- 13.9/44.1 MB 11.9 MB/s eta 0:00:03\n",
      "   ------------- -------------------------- 14.4/44.1 MB 11.9 MB/s eta 0:00:03\n",
      "   ------------- -------------------------- 15.0/44.1 MB 11.9 MB/s eta 0:00:03\n",
      "   -------------- ------------------------- 15.6/44.1 MB 11.9 MB/s eta 0:00:03\n",
      "   -------------- ------------------------- 16.1/44.1 MB 11.9 MB/s eta 0:00:03\n",
      "   --------------- ------------------------ 16.7/44.1 MB 11.9 MB/s eta 0:00:03\n",
      "   --------------- ------------------------ 17.2/44.1 MB 11.9 MB/s eta 0:00:03\n",
      "   ---------------- ----------------------- 17.8/44.1 MB 11.9 MB/s eta 0:00:03\n",
      "   ---------------- ----------------------- 18.3/44.1 MB 11.9 MB/s eta 0:00:03\n",
      "   ----------------- ---------------------- 18.9/44.1 MB 11.9 MB/s eta 0:00:03\n",
      "   ----------------- ---------------------- 19.4/44.1 MB 11.7 MB/s eta 0:00:03\n",
      "   ------------------ --------------------- 19.9/44.1 MB 11.7 MB/s eta 0:00:03\n",
      "   ------------------ --------------------- 20.5/44.1 MB 11.9 MB/s eta 0:00:02\n",
      "   ------------------- -------------------- 21.1/44.1 MB 11.9 MB/s eta 0:00:02\n",
      "   ------------------- -------------------- 21.6/44.1 MB 11.9 MB/s eta 0:00:02\n",
      "   -------------------- ------------------- 22.2/44.1 MB 11.9 MB/s eta 0:00:02\n",
      "   -------------------- ------------------- 22.7/44.1 MB 11.9 MB/s eta 0:00:02\n",
      "   --------------------- ------------------ 23.3/44.1 MB 11.9 MB/s eta 0:00:02\n",
      "   --------------------- ------------------ 23.8/44.1 MB 11.9 MB/s eta 0:00:02\n",
      "   ---------------------- ----------------- 24.4/44.1 MB 11.9 MB/s eta 0:00:02\n",
      "   ---------------------- ----------------- 24.9/44.1 MB 11.9 MB/s eta 0:00:02\n",
      "   ----------------------- ---------------- 25.5/44.1 MB 11.9 MB/s eta 0:00:02\n",
      "   ----------------------- ---------------- 26.1/44.1 MB 11.9 MB/s eta 0:00:02\n",
      "   ------------------------ --------------- 26.6/44.1 MB 11.9 MB/s eta 0:00:02\n",
      "   ------------------------ --------------- 27.2/44.1 MB 11.9 MB/s eta 0:00:02\n",
      "   ------------------------- -------------- 27.7/44.1 MB 11.9 MB/s eta 0:00:02\n",
      "   ------------------------- -------------- 28.3/44.1 MB 11.9 MB/s eta 0:00:02\n",
      "   -------------------------- ------------- 28.8/44.1 MB 11.9 MB/s eta 0:00:02\n",
      "   -------------------------- ------------- 29.4/44.1 MB 11.9 MB/s eta 0:00:02\n",
      "   --------------------------- ------------ 30.0/44.1 MB 11.9 MB/s eta 0:00:02\n",
      "   --------------------------- ------------ 30.5/44.1 MB 11.9 MB/s eta 0:00:02\n",
      "   ---------------------------- ----------- 31.1/44.1 MB 11.9 MB/s eta 0:00:02\n",
      "   ---------------------------- ----------- 31.6/44.1 MB 11.9 MB/s eta 0:00:02\n",
      "   ----------------------------- ---------- 32.2/44.1 MB 11.9 MB/s eta 0:00:02\n",
      "   ----------------------------- ---------- 32.7/44.1 MB 11.9 MB/s eta 0:00:01\n",
      "   ------------------------------ --------- 33.3/44.1 MB 11.9 MB/s eta 0:00:01\n",
      "   ------------------------------ --------- 33.9/44.1 MB 11.9 MB/s eta 0:00:01\n",
      "   ------------------------------- -------- 34.4/44.1 MB 11.9 MB/s eta 0:00:01\n",
      "   ------------------------------- -------- 35.0/44.1 MB 11.9 MB/s eta 0:00:01\n",
      "   -------------------------------- ------- 35.5/44.1 MB 11.9 MB/s eta 0:00:01\n",
      "   -------------------------------- ------- 36.1/44.1 MB 11.9 MB/s eta 0:00:01\n",
      "   --------------------------------- ------ 36.6/44.1 MB 11.9 MB/s eta 0:00:01\n",
      "   --------------------------------- ------ 37.2/44.1 MB 11.9 MB/s eta 0:00:01\n",
      "   ---------------------------------- ----- 37.8/44.1 MB 11.9 MB/s eta 0:00:01\n",
      "   ---------------------------------- ----- 38.3/44.1 MB 11.9 MB/s eta 0:00:01\n",
      "   ----------------------------------- ---- 38.9/44.1 MB 11.9 MB/s eta 0:00:01\n",
      "   ----------------------------------- ---- 39.4/44.1 MB 11.9 MB/s eta 0:00:01\n",
      "   ------------------------------------ --- 40.0/44.1 MB 11.9 MB/s eta 0:00:01\n",
      "   ------------------------------------ --- 40.6/44.1 MB 11.9 MB/s eta 0:00:01\n",
      "   ------------------------------------- -- 41.1/44.1 MB 11.9 MB/s eta 0:00:01\n",
      "   ------------------------------------- -- 41.7/44.1 MB 11.9 MB/s eta 0:00:01\n",
      "   -------------------------------------- - 42.3/44.1 MB 11.9 MB/s eta 0:00:01\n",
      "   -------------------------------------- - 42.8/44.1 MB 11.9 MB/s eta 0:00:01\n",
      "   ---------------------------------------  43.4/44.1 MB 11.9 MB/s eta 0:00:01\n",
      "   ---------------------------------------  43.9/44.1 MB 11.7 MB/s eta 0:00:01\n",
      "   ---------------------------------------  44.1/44.1 MB 11.9 MB/s eta 0:00:01\n",
      "   ---------------------------------------  44.1/44.1 MB 11.9 MB/s eta 0:00:01\n",
      "   ---------------------------------------- 44.1/44.1 MB 10.6 MB/s eta 0:00:00\n",
      "Using cached seaborn-0.13.0-py3-none-any.whl (294 kB)\n",
      "Using cached tqdm-4.66.1-py3-none-any.whl (78 kB)\n",
      "Installing collected packages: py-cpuinfo, tqdm, scipy, pyyaml, opencv-python, thop, seaborn, ultralytics\n",
      "Successfully installed opencv-python-4.8.1.78 py-cpuinfo-9.0.0 pyyaml-6.0.1 scipy-1.11.3 seaborn-0.13.0 thop-0.1.1.post2209072238 tqdm-4.66.1 ultralytics-8.0.207\n",
      "Note: you may need to restart the kernel to use updated packages.\n"
     ]
    }
   ],
   "source": [
    "pip install ultralytics"
   ]
  },
  {
   "cell_type": "code",
   "execution_count": 2,
   "metadata": {},
   "outputs": [],
   "source": [
    "from ultralytics import YOLO"
   ]
  },
  {
   "cell_type": "code",
   "execution_count": 3,
   "metadata": {},
   "outputs": [],
   "source": [
    "model = YOLO('./weights/last.pt')"
   ]
  },
  {
   "cell_type": "code",
   "execution_count": 4,
   "metadata": {},
   "outputs": [
    {
     "name": "stderr",
     "output_type": "stream",
     "text": [
      "\n",
      "image 1/1 c:\\Users\\tomozart21\\VS_PROJECT\\PILL_RnE\\DATASET\\COMBI\\K-001562_K-005391_K-005391_K-002052.png: 640x512 1 K-001562, 1 K-002052, 2 K-005391s, 61.0ms\n",
      "Speed: 6.0ms preprocess, 61.0ms inference, 32.0ms postprocess per image at shape (1, 3, 640, 512)\n"
     ]
    },
    {
     "data": {
      "text/plain": [
       "[ultralytics.engine.results.Results object with attributes:\n",
       " \n",
       " boxes: ultralytics.engine.results.Boxes object\n",
       " keypoints: None\n",
       " masks: None\n",
       " names: {0: 'K-001562', 1: 'K-001901', 2: 'K-002052', 3: 'K-004378', 4: 'K-005391', 5: 'K-006192', 6: 'K-006563', 7: 'K-006697', 8: 'K-007024', 9: 'K-007348', 10: 'K-012769', 11: 'K-013398', 12: 'K-013900', 13: 'K-015710', 14: 'K-016206', 15: 'K-016548', 16: 'K-016688', 17: 'K-021771', 18: 'K-023933', 19: 'K-024029', 20: 'K-024127', 21: 'K-025629', 22: 'K-027777', 23: 'K-028408', 24: 'K-031490', 25: 'K-038104', 26: 'K-038722', 27: 'K-040265', 28: 'K-041149', 29: 'K-044830', 30: 'K-044834'}\n",
       " orig_img: array([[[255, 255, 255],\n",
       "         [255, 255, 255],\n",
       "         [255, 255, 255],\n",
       "         ...,\n",
       "         [255, 255, 255],\n",
       "         [255, 255, 255],\n",
       "         [255, 255, 255]],\n",
       " \n",
       "        [[255, 255, 255],\n",
       "         [255, 255, 255],\n",
       "         [255, 255, 255],\n",
       "         ...,\n",
       "         [255, 255, 255],\n",
       "         [255, 255, 255],\n",
       "         [255, 255, 255]],\n",
       " \n",
       "        [[255, 255, 255],\n",
       "         [255, 255, 255],\n",
       "         [255, 255, 255],\n",
       "         ...,\n",
       "         [255, 255, 255],\n",
       "         [255, 255, 255],\n",
       "         [255, 255, 255]],\n",
       " \n",
       "        ...,\n",
       " \n",
       "        [[255, 255, 255],\n",
       "         [255, 255, 255],\n",
       "         [255, 255, 255],\n",
       "         ...,\n",
       "         [255, 255, 255],\n",
       "         [255, 255, 255],\n",
       "         [255, 255, 255]],\n",
       " \n",
       "        [[255, 255, 255],\n",
       "         [255, 255, 255],\n",
       "         [255, 255, 255],\n",
       "         ...,\n",
       "         [255, 255, 255],\n",
       "         [255, 255, 255],\n",
       "         [255, 255, 255]],\n",
       " \n",
       "        [[255, 255, 255],\n",
       "         [255, 255, 255],\n",
       "         [255, 255, 255],\n",
       "         ...,\n",
       "         [255, 255, 255],\n",
       "         [255, 255, 255],\n",
       "         [255, 255, 255]]], dtype=uint8)\n",
       " orig_shape: (1280, 976)\n",
       " path: 'c:\\\\Users\\\\tomozart21\\\\VS_PROJECT\\\\PILL_RnE\\\\DATASET\\\\COMBI\\\\K-001562_K-005391_K-005391_K-002052.png'\n",
       " probs: None\n",
       " save_dir: None\n",
       " speed: {'preprocess': 5.99980354309082, 'inference': 60.99987030029297, 'postprocess': 31.999588012695312}]"
      ]
     },
     "execution_count": 4,
     "metadata": {},
     "output_type": "execute_result"
    }
   ],
   "source": [
    "model = YOLO('./weights/last.pt')\n",
    "model.predict('./DATASET/COMBI/K-001562_K-005391_K-005391_K-002052.png')"
   ]
  },
  {
   "cell_type": "code",
   "execution_count": null,
   "metadata": {},
   "outputs": [],
   "source": [
    "class_list = ['K-001562', 'K-001901', 'K-002052', 'K-004378', 'K-005391', 'K-006192', 'K-006563', 'K-006697', 'K-007024', 'K-007348', 'K-012769', 'K-013398', 'K-013900', 'K-015710', 'K-016206', 'K-016548', 'K-016688', 'K-021771', 'K-023933', 'K-024029', 'K-024127', 'K-025629', 'K-027777', 'K-028408', 'K-031490', 'K-038104', 'K-038722', 'K-040265', 'K-041149', 'K-044830', 'K-044834']"
   ]
  },
  {
   "cell_type": "code",
   "execution_count": 6,
   "metadata": {},
   "outputs": [
    {
     "name": "stderr",
     "output_type": "stream",
     "text": [
      "\n",
      "image 1/1 c:\\Users\\tomozart21\\VS_PROJECT\\PILL_RnE\\DATASET\\COMBI\\K-001562_K-005391_K-005391_K-002052.png: 640x512 1 K-001562, 1 K-002052, 2 K-005391s, 62.0ms\n",
      "Speed: 2.0ms preprocess, 62.0ms inference, 2.0ms postprocess per image at shape (1, 3, 640, 512)\n"
     ]
    },
    {
     "data": {
      "text/plain": [
       "[ultralytics.engine.results.Results object with attributes:\n",
       " \n",
       " boxes: ultralytics.engine.results.Boxes object\n",
       " keypoints: None\n",
       " masks: None\n",
       " names: {0: 'K-001562', 1: 'K-001901', 2: 'K-002052', 3: 'K-004378', 4: 'K-005391', 5: 'K-006192', 6: 'K-006563', 7: 'K-006697', 8: 'K-007024', 9: 'K-007348', 10: 'K-012769', 11: 'K-013398', 12: 'K-013900', 13: 'K-015710', 14: 'K-016206', 15: 'K-016548', 16: 'K-016688', 17: 'K-021771', 18: 'K-023933', 19: 'K-024029', 20: 'K-024127', 21: 'K-025629', 22: 'K-027777', 23: 'K-028408', 24: 'K-031490', 25: 'K-038104', 26: 'K-038722', 27: 'K-040265', 28: 'K-041149', 29: 'K-044830', 30: 'K-044834'}\n",
       " orig_img: array([[[255, 255, 255],\n",
       "         [255, 255, 255],\n",
       "         [255, 255, 255],\n",
       "         ...,\n",
       "         [255, 255, 255],\n",
       "         [255, 255, 255],\n",
       "         [255, 255, 255]],\n",
       " \n",
       "        [[255, 255, 255],\n",
       "         [255, 255, 255],\n",
       "         [255, 255, 255],\n",
       "         ...,\n",
       "         [255, 255, 255],\n",
       "         [255, 255, 255],\n",
       "         [255, 255, 255]],\n",
       " \n",
       "        [[255, 255, 255],\n",
       "         [255, 255, 255],\n",
       "         [255, 255, 255],\n",
       "         ...,\n",
       "         [255, 255, 255],\n",
       "         [255, 255, 255],\n",
       "         [255, 255, 255]],\n",
       " \n",
       "        ...,\n",
       " \n",
       "        [[255, 255, 255],\n",
       "         [255, 255, 255],\n",
       "         [255, 255, 255],\n",
       "         ...,\n",
       "         [255, 255, 255],\n",
       "         [255, 255, 255],\n",
       "         [255, 255, 255]],\n",
       " \n",
       "        [[255, 255, 255],\n",
       "         [255, 255, 255],\n",
       "         [255, 255, 255],\n",
       "         ...,\n",
       "         [255, 255, 255],\n",
       "         [255, 255, 255],\n",
       "         [255, 255, 255]],\n",
       " \n",
       "        [[255, 255, 255],\n",
       "         [255, 255, 255],\n",
       "         [255, 255, 255],\n",
       "         ...,\n",
       "         [255, 255, 255],\n",
       "         [255, 255, 255],\n",
       "         [255, 255, 255]]], dtype=uint8)\n",
       " orig_shape: (1280, 976)\n",
       " path: 'c:\\\\Users\\\\tomozart21\\\\VS_PROJECT\\\\PILL_RnE\\\\DATASET\\\\COMBI\\\\K-001562_K-005391_K-005391_K-002052.png'\n",
       " probs: None\n",
       " save_dir: None\n",
       " speed: {'preprocess': 1.9998550415039062, 'inference': 62.00075149536133, 'postprocess': 1.9984245300292969}]"
      ]
     },
     "execution_count": 6,
     "metadata": {},
     "output_type": "execute_result"
    }
   ],
   "source": [
    "model.predict('./DATASET/COMBI/K-001562_K-005391_K-005391_K-002052.png', )"
   ]
  },
  {
   "cell_type": "code",
   "execution_count": 7,
   "metadata": {},
   "outputs": [
    {
     "data": {
      "text/plain": [
       "ultralytics.engine.results.Boxes object with attributes:\n",
       "\n",
       "cls: tensor([4., 2., 0., 4.], device='cuda:0')\n",
       "conf: tensor([0.9820, 0.9790, 0.9753, 0.9751], device='cuda:0')\n",
       "data: tensor([[4.0659e+01, 9.1083e+02, 2.2499e+02, 1.1025e+03, 9.8198e-01, 4.0000e+00],\n",
       "        [6.8521e+02, 9.3008e+02, 8.8092e+02, 1.1192e+03, 9.7902e-01, 2.0000e+00],\n",
       "        [8.0765e+01, 7.3914e+01, 3.0741e+02, 4.5204e+02, 9.7531e-01, 0.0000e+00],\n",
       "        [5.2894e+02, 1.4844e+02, 9.2023e+02, 5.2996e+02, 9.7510e-01, 4.0000e+00]], device='cuda:0')\n",
       "id: None\n",
       "is_track: False\n",
       "orig_shape: (1280, 976)\n",
       "shape: torch.Size([4, 6])\n",
       "xywh: tensor([[ 132.8244, 1006.6435,  184.3301,  191.6244],\n",
       "        [ 783.0652, 1024.6383,  195.7144,  189.1147],\n",
       "        [ 194.0882,  262.9767,  226.6471,  378.1248],\n",
       "        [ 724.5844,  339.2021,  391.2817,  381.5175]], device='cuda:0')\n",
       "xywhn: tensor([[0.1361, 0.7864, 0.1889, 0.1497],\n",
       "        [0.8023, 0.8005, 0.2005, 0.1477],\n",
       "        [0.1989, 0.2055, 0.2322, 0.2954],\n",
       "        [0.7424, 0.2650, 0.4009, 0.2981]], device='cuda:0')\n",
       "xyxy: tensor([[  40.6594,  910.8313,  224.9895, 1102.4557],\n",
       "        [ 685.2080,  930.0809,  880.9224, 1119.1957],\n",
       "        [  80.7646,   73.9142,  307.4117,  452.0391],\n",
       "        [ 528.9435,  148.4433,  920.2252,  529.9608]], device='cuda:0')\n",
       "xyxyn: tensor([[0.0417, 0.7116, 0.2305, 0.8613],\n",
       "        [0.7021, 0.7266, 0.9026, 0.8744],\n",
       "        [0.0828, 0.0577, 0.3150, 0.3532],\n",
       "        [0.5420, 0.1160, 0.9429, 0.4140]], device='cuda:0')"
      ]
     },
     "execution_count": 7,
     "metadata": {},
     "output_type": "execute_result"
    }
   ],
   "source": [
    "result[0].boxes"
   ]
  },
  {
   "cell_type": "code",
   "execution_count": 68,
   "metadata": {},
   "outputs": [
    {
     "name": "stdout",
     "output_type": "stream",
     "text": [
      "tensor([4.], device='cuda:0')\n",
      "tensor([0.9820], device='cuda:0')\n",
      "tensor([[  40.6594,  910.8313,  224.9895, 1102.4557]], device='cuda:0')\n",
      "4.0\n",
      "0.9819812178611755\n",
      "[40.659400939941406, 910.831298828125, 224.98947143554688, 1102.4556884765625]\n"
     ]
    },
    {
     "ename": "IndexError",
     "evalue": "list index out of range",
     "output_type": "error",
     "traceback": [
      "\u001b[1;31m---------------------------------------------------------------------------\u001b[0m",
      "\u001b[1;31mIndexError\u001b[0m                                Traceback (most recent call last)",
      "\u001b[1;32mc:\\Users\\tomozart21\\VS_PROJECT\\PILL_RnE\\_6. opencv.ipynb 셀 8\u001b[0m line \u001b[0;36m9\n\u001b[0;32m      <a href='vscode-notebook-cell:/c%3A/Users/tomozart21/VS_PROJECT/PILL_RnE/_6.%20opencv.ipynb#X13sZmlsZQ%3D%3D?line=5'>6</a>\u001b[0m \u001b[39mprint\u001b[39m(result[\u001b[39m0\u001b[39m]\u001b[39m.\u001b[39mboxes\u001b[39m.\u001b[39mconf\u001b[39m.\u001b[39mtolist()[\u001b[39m0\u001b[39m]) \u001b[39m# 0.9819812178611755\u001b[39;00m\n\u001b[0;32m      <a href='vscode-notebook-cell:/c%3A/Users/tomozart21/VS_PROJECT/PILL_RnE/_6.%20opencv.ipynb#X13sZmlsZQ%3D%3D?line=6'>7</a>\u001b[0m \u001b[39mprint\u001b[39m(result[\u001b[39m0\u001b[39m]\u001b[39m.\u001b[39mboxes\u001b[39m.\u001b[39mxyxy\u001b[39m.\u001b[39mtolist()[\u001b[39m0\u001b[39m]) \u001b[39m# [40.659400939941406, 910.831298828125, 224.98947143554688, 1102.4556884765625]\u001b[39;00m\n\u001b[1;32m----> <a href='vscode-notebook-cell:/c%3A/Users/tomozart21/VS_PROJECT/PILL_RnE/_6.%20opencv.ipynb#X13sZmlsZQ%3D%3D?line=8'>9</a>\u001b[0m \u001b[39mcls\u001b[39m \u001b[39m=\u001b[39m \u001b[39mint\u001b[39m(result[\u001b[39m0\u001b[39m]\u001b[39m.\u001b[39mboxes\u001b[39m.\u001b[39mcls\u001b[39m.\u001b[39mtolist()[\u001b[39m1\u001b[39m])  \n\u001b[0;32m     <a href='vscode-notebook-cell:/c%3A/Users/tomozart21/VS_PROJECT/PILL_RnE/_6.%20opencv.ipynb#X13sZmlsZQ%3D%3D?line=10'>11</a>\u001b[0m cls_code \u001b[39m=\u001b[39m [\u001b[39m'\u001b[39m\u001b[39mMinocin Cap. 50mg\u001b[39m\u001b[39m'\u001b[39m, \u001b[39m'\u001b[39m\u001b[39mBuspar Tab. 10mg Boryung\u001b[39m\u001b[39m'\u001b[39m, \u001b[39m'\u001b[39m\u001b[39mDinacs Tab.\u001b[39m\u001b[39m'\u001b[39m, \u001b[39m'\u001b[39m\u001b[39mTylenol Tab. 500mg\u001b[39m\u001b[39m'\u001b[39m, \u001b[39m'\u001b[39m\u001b[39mProscar Tab. 5mg\u001b[39m\u001b[39m'\u001b[39m, \u001b[39m'\u001b[39m\u001b[39mBeecom-CF Tab.\u001b[39m\u001b[39m'\u001b[39m, \u001b[39m'\u001b[39m\u001b[39mJoins Tab.\u001b[39m\u001b[39m'\u001b[39m, \u001b[39m'\u001b[39m\u001b[39mSsiznal Tab.\u001b[39m\u001b[39m'\u001b[39m, \u001b[39m'\u001b[39m\u001b[39mFestal Plus Tab.\u001b[39m\u001b[39m'\u001b[39m, \u001b[39m'\u001b[39m\u001b[39mRiboteine Tab.\u001b[39m\u001b[39m'\u001b[39m, \u001b[39m'\u001b[39m\u001b[39mDr. Bearse Tab.\u001b[39m\u001b[39m'\u001b[39m, \u001b[39m'\u001b[39m\u001b[39mIsotinone Soft Cap.\u001b[39m\u001b[39m'\u001b[39m, \u001b[39m'\u001b[39m\u001b[39mEbixa Tab.\u001b[39m\u001b[39m'\u001b[39m, \u001b[39m'\u001b[39m\u001b[39mEntelon Tab. 150mg\u001b[39m\u001b[39m'\u001b[39m, \u001b[39m'\u001b[39m\u001b[39mAvodart Soft Cap. 0.5mg\u001b[39m\u001b[39m'\u001b[39m, \u001b[39m'\u001b[39m\u001b[39mGabatopa Tab. 100mg\u001b[39m\u001b[39m'\u001b[39m, \u001b[39m'\u001b[39m\u001b[39mOmacor Soft Cap.\u001b[39m\u001b[39m'\u001b[39m, \u001b[39m'\u001b[39m\u001b[39mRabiet Tab.20mg\u001b[39m\u001b[39m'\u001b[39m, \u001b[39m'\u001b[39m\u001b[39mAllerdin Tab.\u001b[39m\u001b[39m'\u001b[39m, \u001b[39m'\u001b[39m\u001b[39mNeotigason Cap. 10mg\u001b[39m\u001b[39m'\u001b[39m, \u001b[39m'\u001b[39m\u001b[39mCacepin Tab 25mg\u001b[39m\u001b[39m'\u001b[39m, \u001b[39m'\u001b[39m\u001b[39mZeromine Soft Cap.\u001b[39m\u001b[39m'\u001b[39m, \u001b[39m'\u001b[39m\u001b[39mKanarb Tab. 60mg\u001b[39m\u001b[39m'\u001b[39m, \u001b[39m'\u001b[39m\u001b[39mOlzapine Tab. 2.5mg\u001b[39m\u001b[39m'\u001b[39m, \u001b[39m'\u001b[39m\u001b[39mAspid Tab.\u001b[39m\u001b[39m'\u001b[39m, \u001b[39m'\u001b[39m\u001b[39mHanmi Tams Cap. 0.4mg\u001b[39m\u001b[39m'\u001b[39m, \u001b[39m'\u001b[39m\u001b[39mEntresto Film Coated Tab. 100mg\u001b[39m\u001b[39m'\u001b[39m, \u001b[39m'\u001b[39m\u001b[39mAgen-F Tab.\u001b[39m\u001b[39m'\u001b[39m, \u001b[39m'\u001b[39m\u001b[39mRamnos Cap. 500mg\u001b[39m\u001b[39m'\u001b[39m, \u001b[39m'\u001b[39m\u001b[39mHaben Herb F Cap.\u001b[39m\u001b[39m'\u001b[39m, \u001b[39m'\u001b[39m\u001b[39mElsteine Tab.\u001b[39m\u001b[39m'\u001b[39m]\n\u001b[0;32m     <a href='vscode-notebook-cell:/c%3A/Users/tomozart21/VS_PROJECT/PILL_RnE/_6.%20opencv.ipynb#X13sZmlsZQ%3D%3D?line=11'>12</a>\u001b[0m \u001b[39mprint\u001b[39m(cls_code[\u001b[39mcls\u001b[39m])\n",
      "\u001b[1;31mIndexError\u001b[0m: list index out of range"
     ]
    }
   ],
   "source": [
    "print(result[0].boxes.cls) # tensor([4., 2., 0., 4.], device='cuda:0')\n",
    "print(result[0].boxes.conf) # tensor([0.9820, 0.9790, 0.9753, 0.9751], device='cuda:0')\n",
    "print(result[0].boxes.xyxy) # tensor([[  40.6594,  910.8313,  224.9895, 1102.4557], [ 685.2080,  930.0809,  880.9224, 1119.1957], ...], device='cuda:0')\n",
    "\n",
    "print(result[0].boxes.cls.tolist()[0]) # 4.0\n",
    "print(result[0].boxes.conf.tolist()[0]) # 0.9819812178611755\n",
    "print(result[0].boxes.xyxy.tolist()[0]) # [40.659400939941406, 910.831298828125, 224.98947143554688, 1102.4556884765625]\n",
    "\n",
    "cls = int(result[0].boxes.cls.tolist()[1])  \n",
    "\n",
    "cls_code = ['Minocin Cap. 50mg', 'Buspar Tab. 10mg Boryung', 'Dinacs Tab.', 'Tylenol Tab. 500mg', 'Proscar Tab. 5mg', 'Beecom-CF Tab.', 'Joins Tab.', 'Ssiznal Tab.', 'Festal Plus Tab.', 'Riboteine Tab.', 'Dr. Bearse Tab.', 'Isotinone Soft Cap.', 'Ebixa Tab.', 'Entelon Tab. 150mg', 'Avodart Soft Cap. 0.5mg', 'Gabatopa Tab. 100mg', 'Omacor Soft Cap.', 'Rabiet Tab.20mg', 'Allerdin Tab.', 'Neotigason Cap. 10mg', 'Cacepin Tab 25mg', 'Zeromine Soft Cap.', 'Kanarb Tab. 60mg', 'Olzapine Tab. 2.5mg', 'Aspid Tab.', 'Hanmi Tams Cap. 0.4mg', 'Entresto Film Coated Tab. 100mg', 'Agen-F Tab.', 'Ramnos Cap. 500mg', 'Haben Herb F Cap.', 'Elsteine Tab.']\n",
    "print(cls_code[cls])"
   ]
  },
  {
   "cell_type": "code",
   "execution_count": 10,
   "metadata": {},
   "outputs": [
    {
     "data": {
      "text/plain": [
       "-1"
      ]
     },
     "execution_count": 10,
     "metadata": {},
     "output_type": "execute_result"
    }
   ],
   "source": [
    "import cv2\n",
    "\n",
    "rgb_image = cv2.imread('./DATASET/COMBI/K-001562_K-005391_K-005391_K-002052.png')\n",
    "\n",
    "cv2.imshow('rgb_image', rgb_image)\n",
    "cv2.waitKey(0) "
   ]
  },
  {
   "cell_type": "code",
   "execution_count": 3,
   "metadata": {},
   "outputs": [
    {
     "name": "stderr",
     "output_type": "stream",
     "text": [
      "\n",
      "image 1/1 c:\\Users\\tomozart21\\VS_PROJECT\\PILL_RnE\\DATASET\\COMBI\\K-001562_K-005391_K-005391_K-002052.png: 640x512 1 K-001562, 1 K-002052, 2 K-005391s, 55.7ms\n",
      "Speed: 1.0ms preprocess, 55.7ms inference, 2.0ms postprocess per image at shape (1, 3, 640, 512)\n"
     ]
    }
   ],
   "source": [
    "# 테두리 그리기\n",
    "import datetime\n",
    "import cv2\n",
    "from ultralytics import YOLO\n",
    "\n",
    "CONFIDENCE_THRESHOLD = 0.8\n",
    "GREEN = (0, 255, 0)\n",
    "WHITE = (255, 255, 255)\n",
    "\n",
    "classcode = ['K-001562', 'K-001901', 'K-002052', 'K-004378', 'K-005391', 'K-006192', 'K-006563', 'K-006697', 'K-007024', 'K-007348', 'K-012769', 'K-013398', 'K-013900', 'K-015710', 'K-016206', 'K-016548', 'K-016688', 'K-021771', 'K-023933', 'K-024029', 'K-024127', 'K-025629', 'K-027777', 'K-028408', 'K-031490', 'K-038104', 'K-038722', 'K-040265', 'K-041149', 'K-044830', 'K-044834']\n",
    "classname_en = ['Minocin Cap. 50mg', 'Buspar Tab. 10mg Boryung', 'Dinacs Tab.', 'Tylenol Tab. 500mg', 'Proscar Tab. 5mg', 'Beecom-CF Tab.', 'Joins Tab.', 'Ssiznal Tab.', 'Festal Plus Tab.', 'Riboteine Tab.', 'Dr. Bearse Tab.', 'Isotinone Soft Cap.', 'Ebixa Tab.', 'Entelon Tab. 150mg', 'Avodart Soft Cap. 0.5mg', 'Gabatopa Tab. 100mg', 'Omacor Soft Cap.', 'Rabiet Tab.20mg', 'Allerdin Tab.', 'Neotigason Cap. 10mg', 'Cacepin Tab 25mg', 'Zeromine Soft Cap.', 'Kanarb Tab. 60mg', 'Olzapine Tab. 2.5mg', 'Aspid Tab.', 'Hanmi Tams Cap. 0.4mg', 'Entresto Film Coated Tab. 100mg', 'Agen-F Tab.', 'Ramnos Cap. 500mg', 'Haben Herb F Cap.', 'Elsteine Tab.']\n",
    "\n",
    "\n",
    "model = YOLO('./weights/last.pt')\n",
    "detection = model('./DATASET/COMBI/K-001562_K-005391_K-005391_K-002052.png')[0] # results = model.predict('./DATASET/COMBI/K-001562_K-005391_K-005391_K-002052.png', )\n",
    "\n",
    "\n",
    "frame = cv2.imread('./DATASET/COMBI/K-001562_K-005391_K-005391_K-002052.png')\n",
    "\n",
    "for data in detection.boxes.data.tolist():  # data : [xmin, ymin, xmax, ymax, confidence_score, class_id]\n",
    "    confidence = data[4]\n",
    "    if confidence < CONFIDENCE_THRESHOLD:\n",
    "        continue\n",
    "\n",
    "    x1, y1, x2, y2 = int(data[0]), int(data[1]), int(data[2]), int(data[3])\n",
    "    cls = int(data[5])\n",
    "    cv2.rectangle(frame, (x1, y1), (x2, y2), GREEN, 2)\n",
    "    cv2.putText(frame, classname_en[cls]+' '+str(round(confidence, 2)) + '%', (x1, y1), cv2.FONT_ITALIC, 1, WHITE, 2)\n",
    "\n",
    "cv2.imshow('frame', frame)\n",
    "cv2.waitKey(0) \n",
    "cv2.destroyAllWindows()\n",
    "    # cv2.imwrite(frame, \"./temp/frame.jpg\")\n",
    "\n",
    "\n",
    "# detection.boxes.data.tolist()\n",
    "# [40.659400939941406, 910.831298828125, 224.98947143554688, 1102.4556884765625, 0.9819812178611755, 4.0]\n",
    "# [685.2080078125, 930.0809326171875, 880.92236328125, 1119.1956787109375, 0.979022204875946, 2.0]\n",
    "# [80.76461791992188, 73.91424560546875, 307.41168212890625, 452.0390625, 0.9753074645996094, 0.0]\n",
    "# [528.9434814453125, 148.44329833984375, 920.2252197265625, 529.9608154296875, 0.9750985503196716, 4.0]\n",
    "\n",
    "# [0] 40.659400939941406\n",
    "# [1] 910.831298828125\n",
    "# [2] 224.98947143554688\n",
    "# [3] 1102.4556884765625 \n",
    "# [4] 0.9819812178611755 conf\n",
    "# [5] 4.0 cls\n"
   ]
  },
  {
   "cell_type": "code",
   "execution_count": 5,
   "metadata": {},
   "outputs": [
    {
     "name": "stderr",
     "output_type": "stream",
     "text": [
      "\n",
      "0: 384x640 1 K-041149, 64.0ms\n",
      "Speed: 2.0ms preprocess, 64.0ms inference, 167.6ms postprocess per image at shape (1, 3, 384, 640)\n"
     ]
    },
    {
     "name": "stdout",
     "output_type": "stream",
     "text": [
      "Time to process 1 frame: 1509 milliseconds\n"
     ]
    },
    {
     "name": "stderr",
     "output_type": "stream",
     "text": [
      "\n",
      "0: 384x640 (no detections), 53.0ms\n",
      "Speed: 2.0ms preprocess, 53.0ms inference, 2.0ms postprocess per image at shape (1, 3, 384, 640)\n",
      "\n",
      "0: 384x640 (no detections), 51.0ms\n",
      "Speed: 3.0ms preprocess, 51.0ms inference, 1.0ms postprocess per image at shape (1, 3, 384, 640)\n",
      "\n"
     ]
    },
    {
     "name": "stdout",
     "output_type": "stream",
     "text": [
      "Time to process 1 frame: 78 milliseconds\n",
      "Time to process 1 frame: 80 milliseconds\n"
     ]
    },
    {
     "name": "stderr",
     "output_type": "stream",
     "text": [
      "0: 384x640 (no detections), 52.5ms\n",
      "Speed: 2.0ms preprocess, 52.5ms inference, 1.0ms postprocess per image at shape (1, 3, 384, 640)\n",
      "\n",
      "0: 384x640 (no detections), 48.0ms\n",
      "Speed: 2.0ms preprocess, 48.0ms inference, 2.0ms postprocess per image at shape (1, 3, 384, 640)\n",
      "\n",
      "0: 384x640 (no detections), 48.0ms\n",
      "Speed: 2.5ms preprocess, 48.0ms inference, 2.0ms postprocess per image at shape (1, 3, 384, 640)\n",
      "\n",
      "0: 384x640 (no detections), 47.5ms\n"
     ]
    },
    {
     "name": "stdout",
     "output_type": "stream",
     "text": [
      "Time to process 1 frame: 141 milliseconds\n",
      "Time to process 1 frame: 68 milliseconds\n",
      "Time to process 1 frame: 66 milliseconds\n"
     ]
    },
    {
     "name": "stderr",
     "output_type": "stream",
     "text": [
      "Speed: 2.0ms preprocess, 47.5ms inference, 2.0ms postprocess per image at shape (1, 3, 384, 640)\n",
      "\n",
      "0: 384x640 (no detections), 47.5ms\n",
      "Speed: 2.0ms preprocess, 47.5ms inference, 2.0ms postprocess per image at shape (1, 3, 384, 640)\n",
      "\n",
      "0: 384x640 (no detections), 48.0ms\n",
      "Speed: 2.0ms preprocess, 48.0ms inference, 1.0ms postprocess per image at shape (1, 3, 384, 640)\n",
      "\n"
     ]
    },
    {
     "name": "stdout",
     "output_type": "stream",
     "text": [
      "Time to process 1 frame: 66 milliseconds\n",
      "Time to process 1 frame: 69 milliseconds\n",
      "Time to process 1 frame: 66 milliseconds\n"
     ]
    },
    {
     "name": "stderr",
     "output_type": "stream",
     "text": [
      "0: 384x640 (no detections), 49.0ms\n",
      "Speed: 3.0ms preprocess, 49.0ms inference, 1.0ms postprocess per image at shape (1, 3, 384, 640)\n",
      "\n",
      "0: 384x640 (no detections), 48.0ms\n",
      "Speed: 2.0ms preprocess, 48.0ms inference, 3.0ms postprocess per image at shape (1, 3, 384, 640)\n",
      "\n",
      "0: 384x640 (no detections), 47.7ms\n",
      "Speed: 2.0ms preprocess, 47.7ms inference, 1.6ms postprocess per image at shape (1, 3, 384, 640)\n",
      "\n"
     ]
    },
    {
     "name": "stdout",
     "output_type": "stream",
     "text": [
      "Time to process 1 frame: 83 milliseconds\n",
      "Time to process 1 frame: 71 milliseconds\n",
      "Time to process 1 frame: 67 milliseconds\n"
     ]
    },
    {
     "name": "stderr",
     "output_type": "stream",
     "text": [
      "0: 384x640 (no detections), 48.0ms\n",
      "Speed: 2.0ms preprocess, 48.0ms inference, 2.0ms postprocess per image at shape (1, 3, 384, 640)\n",
      "\n",
      "0: 384x640 (no detections), 48.0ms\n",
      "Speed: 2.0ms preprocess, 48.0ms inference, 2.0ms postprocess per image at shape (1, 3, 384, 640)\n",
      "\n",
      "0: 384x640 (no detections), 47.5ms\n",
      "Speed: 2.0ms preprocess, 47.5ms inference, 2.0ms postprocess per image at shape (1, 3, 384, 640)\n",
      "\n"
     ]
    },
    {
     "name": "stdout",
     "output_type": "stream",
     "text": [
      "Time to process 1 frame: 67 milliseconds\n",
      "Time to process 1 frame: 70 milliseconds\n",
      "Time to process 1 frame: 69 milliseconds\n"
     ]
    },
    {
     "name": "stderr",
     "output_type": "stream",
     "text": [
      "0: 384x640 (no detections), 47.5ms\n",
      "Speed: 2.0ms preprocess, 47.5ms inference, 4.0ms postprocess per image at shape (1, 3, 384, 640)\n",
      "\n",
      "0: 384x640 (no detections), 46.0ms\n",
      "Speed: 2.0ms preprocess, 46.0ms inference, 2.0ms postprocess per image at shape (1, 3, 384, 640)\n",
      "\n",
      "0: 384x640 (no detections), 54.2ms\n",
      "Speed: 2.0ms preprocess, 54.2ms inference, 2.0ms postprocess per image at shape (1, 3, 384, 640)\n",
      "\n"
     ]
    },
    {
     "name": "stdout",
     "output_type": "stream",
     "text": [
      "Time to process 1 frame: 71 milliseconds\n",
      "Time to process 1 frame: 66 milliseconds\n",
      "Time to process 1 frame: 76 milliseconds\n"
     ]
    },
    {
     "name": "stderr",
     "output_type": "stream",
     "text": [
      "0: 384x640 (no detections), 51.8ms\n",
      "Speed: 2.0ms preprocess, 51.8ms inference, 1.0ms postprocess per image at shape (1, 3, 384, 640)\n",
      "\n",
      "0: 384x640 (no detections), 51.5ms\n",
      "Speed: 2.0ms preprocess, 51.5ms inference, 2.0ms postprocess per image at shape (1, 3, 384, 640)\n",
      "\n",
      "0: 384x640 (no detections), 53.0ms\n",
      "Speed: 2.0ms preprocess, 53.0ms inference, 1.0ms postprocess per image at shape (1, 3, 384, 640)\n",
      "\n"
     ]
    },
    {
     "name": "stdout",
     "output_type": "stream",
     "text": [
      "Time to process 1 frame: 70 milliseconds\n",
      "Time to process 1 frame: 75 milliseconds\n",
      "Time to process 1 frame: 72 milliseconds\n"
     ]
    },
    {
     "name": "stderr",
     "output_type": "stream",
     "text": [
      "0: 384x640 (no detections), 53.0ms\n",
      "Speed: 2.0ms preprocess, 53.0ms inference, 2.0ms postprocess per image at shape (1, 3, 384, 640)\n",
      "\n",
      "0: 384x640 (no detections), 50.5ms\n",
      "Speed: 2.0ms preprocess, 50.5ms inference, 1.0ms postprocess per image at shape (1, 3, 384, 640)\n",
      "\n",
      "0: 384x640 (no detections), 53.1ms\n",
      "Speed: 2.0ms preprocess, 53.1ms inference, 2.0ms postprocess per image at shape (1, 3, 384, 640)\n",
      "\n"
     ]
    },
    {
     "name": "stdout",
     "output_type": "stream",
     "text": [
      "Time to process 1 frame: 73 milliseconds\n",
      "Time to process 1 frame: 69 milliseconds\n",
      "Time to process 1 frame: 71 milliseconds\n"
     ]
    },
    {
     "name": "stderr",
     "output_type": "stream",
     "text": [
      "0: 384x640 (no detections), 52.0ms\n",
      "Speed: 2.0ms preprocess, 52.0ms inference, 1.0ms postprocess per image at shape (1, 3, 384, 640)\n",
      "\n",
      "0: 384x640 (no detections), 49.9ms\n",
      "Speed: 2.0ms preprocess, 49.9ms inference, 3.0ms postprocess per image at shape (1, 3, 384, 640)\n",
      "\n",
      "0: 384x640 (no detections), 49.5ms\n",
      "Speed: 2.0ms preprocess, 49.5ms inference, 1.0ms postprocess per image at shape (1, 3, 384, 640)\n",
      "\n"
     ]
    },
    {
     "name": "stdout",
     "output_type": "stream",
     "text": [
      "Time to process 1 frame: 70 milliseconds\n",
      "Time to process 1 frame: 71 milliseconds\n",
      "Time to process 1 frame: 69 milliseconds\n"
     ]
    },
    {
     "name": "stderr",
     "output_type": "stream",
     "text": [
      "0: 384x640 (no detections), 52.5ms\n",
      "Speed: 2.0ms preprocess, 52.5ms inference, 2.0ms postprocess per image at shape (1, 3, 384, 640)\n",
      "\n",
      "0: 384x640 (no detections), 52.0ms\n",
      "Speed: 2.0ms preprocess, 52.0ms inference, 1.0ms postprocess per image at shape (1, 3, 384, 640)\n",
      "\n",
      "0: 384x640 (no detections), 50.0ms\n",
      "Speed: 3.0ms preprocess, 50.0ms inference, 2.0ms postprocess per image at shape (1, 3, 384, 640)\n",
      "\n"
     ]
    },
    {
     "name": "stdout",
     "output_type": "stream",
     "text": [
      "Time to process 1 frame: 73 milliseconds\n",
      "Time to process 1 frame: 74 milliseconds\n",
      "Time to process 1 frame: 76 milliseconds\n"
     ]
    },
    {
     "name": "stderr",
     "output_type": "stream",
     "text": [
      "0: 384x640 (no detections), 51.0ms\n",
      "Speed: 3.0ms preprocess, 51.0ms inference, 1.0ms postprocess per image at shape (1, 3, 384, 640)\n",
      "\n",
      "0: 384x640 (no detections), 52.6ms\n",
      "Speed: 2.0ms preprocess, 52.6ms inference, 1.6ms postprocess per image at shape (1, 3, 384, 640)\n",
      "\n",
      "0: 384x640 (no detections), 49.5ms\n",
      "Speed: 2.0ms preprocess, 49.5ms inference, 2.0ms postprocess per image at shape (1, 3, 384, 640)\n",
      "\n"
     ]
    },
    {
     "name": "stdout",
     "output_type": "stream",
     "text": [
      "Time to process 1 frame: 71 milliseconds\n",
      "Time to process 1 frame: 72 milliseconds\n",
      "Time to process 1 frame: 71 milliseconds\n"
     ]
    },
    {
     "name": "stderr",
     "output_type": "stream",
     "text": [
      "0: 384x640 (no detections), 53.0ms\n",
      "Speed: 2.0ms preprocess, 53.0ms inference, 2.0ms postprocess per image at shape (1, 3, 384, 640)\n",
      "\n",
      "0: 384x640 (no detections), 50.0ms\n",
      "Speed: 3.0ms preprocess, 50.0ms inference, 1.0ms postprocess per image at shape (1, 3, 384, 640)\n",
      "\n",
      "0: 384x640 (no detections), 49.5ms\n",
      "Speed: 3.0ms preprocess, 49.5ms inference, 1.0ms postprocess per image at shape (1, 3, 384, 640)\n",
      "\n"
     ]
    },
    {
     "name": "stdout",
     "output_type": "stream",
     "text": [
      "Time to process 1 frame: 73 milliseconds\n",
      "Time to process 1 frame: 69 milliseconds\n",
      "Time to process 1 frame: 70 milliseconds\n"
     ]
    },
    {
     "name": "stderr",
     "output_type": "stream",
     "text": [
      "0: 384x640 (no detections), 49.5ms\n",
      "Speed: 2.0ms preprocess, 49.5ms inference, 2.0ms postprocess per image at shape (1, 3, 384, 640)\n",
      "\n",
      "0: 384x640 (no detections), 52.0ms\n",
      "Speed: 2.0ms preprocess, 52.0ms inference, 2.0ms postprocess per image at shape (1, 3, 384, 640)\n",
      "\n",
      "0: 384x640 (no detections), 52.2ms\n",
      "Speed: 2.0ms preprocess, 52.2ms inference, 1.0ms postprocess per image at shape (1, 3, 384, 640)\n",
      "\n"
     ]
    },
    {
     "name": "stdout",
     "output_type": "stream",
     "text": [
      "Time to process 1 frame: 67 milliseconds\n",
      "Time to process 1 frame: 71 milliseconds\n",
      "Time to process 1 frame: 80 milliseconds\n"
     ]
    },
    {
     "name": "stderr",
     "output_type": "stream",
     "text": [
      "0: 384x640 (no detections), 49.5ms\n",
      "Speed: 2.0ms preprocess, 49.5ms inference, 3.0ms postprocess per image at shape (1, 3, 384, 640)\n",
      "\n",
      "0: 384x640 (no detections), 53.5ms\n",
      "Speed: 2.0ms preprocess, 53.5ms inference, 1.0ms postprocess per image at shape (1, 3, 384, 640)\n",
      "\n",
      "0: 384x640 (no detections), 51.0ms\n",
      "Speed: 2.0ms preprocess, 51.0ms inference, 1.0ms postprocess per image at shape (1, 3, 384, 640)\n",
      "\n"
     ]
    },
    {
     "name": "stdout",
     "output_type": "stream",
     "text": [
      "Time to process 1 frame: 69 milliseconds\n",
      "Time to process 1 frame: 74 milliseconds\n",
      "Time to process 1 frame: 69 milliseconds\n"
     ]
    },
    {
     "name": "stderr",
     "output_type": "stream",
     "text": [
      "0: 384x640 1 K-038722, 52.0ms\n",
      "Speed: 2.0ms preprocess, 52.0ms inference, 15.0ms postprocess per image at shape (1, 3, 384, 640)\n",
      "\n",
      "0: 384x640 1 K-004378, 53.0ms\n",
      "Speed: 2.0ms preprocess, 53.0ms inference, 2.0ms postprocess per image at shape (1, 3, 384, 640)\n",
      "\n",
      "0: 384x640 (no detections), 50.5ms\n",
      "Speed: 2.0ms preprocess, 50.5ms inference, 2.0ms postprocess per image at shape (1, 3, 384, 640)\n",
      "\n"
     ]
    },
    {
     "name": "stdout",
     "output_type": "stream",
     "text": [
      "Time to process 1 frame: 86 milliseconds\n",
      "Time to process 1 frame: 73 milliseconds\n",
      "Time to process 1 frame: 70 milliseconds\n"
     ]
    },
    {
     "name": "stderr",
     "output_type": "stream",
     "text": [
      "0: 384x640 1 K-004378, 1 K-038722, 52.5ms\n",
      "Speed: 2.0ms preprocess, 52.5ms inference, 2.0ms postprocess per image at shape (1, 3, 384, 640)\n",
      "\n",
      "0: 384x640 (no detections), 51.0ms\n",
      "Speed: 2.0ms preprocess, 51.0ms inference, 1.0ms postprocess per image at shape (1, 3, 384, 640)\n",
      "\n",
      "0: 384x640 1 K-024029, 53.0ms\n",
      "Speed: 2.0ms preprocess, 53.0ms inference, 2.0ms postprocess per image at shape (1, 3, 384, 640)\n",
      "\n"
     ]
    },
    {
     "name": "stdout",
     "output_type": "stream",
     "text": [
      "Time to process 1 frame: 70 milliseconds\n",
      "Time to process 1 frame: 70 milliseconds\n",
      "Time to process 1 frame: 72 milliseconds\n"
     ]
    },
    {
     "name": "stderr",
     "output_type": "stream",
     "text": [
      "0: 384x640 (no detections), 49.5ms\n",
      "Speed: 3.0ms preprocess, 49.5ms inference, 2.0ms postprocess per image at shape (1, 3, 384, 640)\n",
      "\n",
      "0: 384x640 (no detections), 50.5ms\n",
      "Speed: 2.0ms preprocess, 50.5ms inference, 2.0ms postprocess per image at shape (1, 3, 384, 640)\n",
      "\n",
      "0: 384x640 3 K-031490s, 52.8ms\n",
      "Speed: 2.0ms preprocess, 52.8ms inference, 2.0ms postprocess per image at shape (1, 3, 384, 640)\n",
      "\n"
     ]
    },
    {
     "name": "stdout",
     "output_type": "stream",
     "text": [
      "Time to process 1 frame: 69 milliseconds\n",
      "Time to process 1 frame: 71 milliseconds\n",
      "Time to process 1 frame: 73 milliseconds\n"
     ]
    },
    {
     "name": "stderr",
     "output_type": "stream",
     "text": [
      "0: 384x640 3 K-031490s, 50.7ms\n",
      "Speed: 2.0ms preprocess, 50.7ms inference, 2.6ms postprocess per image at shape (1, 3, 384, 640)\n",
      "\n",
      "0: 384x640 3 K-031490s, 51.5ms\n",
      "Speed: 3.0ms preprocess, 51.5ms inference, 2.0ms postprocess per image at shape (1, 3, 384, 640)\n",
      "\n",
      "0: 384x640 3 K-031490s, 52.5ms\n",
      "Speed: 2.0ms preprocess, 52.5ms inference, 2.0ms postprocess per image at shape (1, 3, 384, 640)\n",
      "\n"
     ]
    },
    {
     "name": "stdout",
     "output_type": "stream",
     "text": [
      "Time to process 1 frame: 73 milliseconds\n",
      "Time to process 1 frame: 76 milliseconds\n",
      "Time to process 1 frame: 75 milliseconds\n"
     ]
    },
    {
     "name": "stderr",
     "output_type": "stream",
     "text": [
      "0: 384x640 3 K-031490s, 51.0ms\n",
      "Speed: 2.0ms preprocess, 51.0ms inference, 3.0ms postprocess per image at shape (1, 3, 384, 640)\n",
      "\n",
      "0: 384x640 2 K-031490s, 52.0ms\n",
      "Speed: 3.0ms preprocess, 52.0ms inference, 2.0ms postprocess per image at shape (1, 3, 384, 640)\n",
      "\n",
      "0: 384x640 3 K-031490s, 52.0ms\n",
      "Speed: 3.0ms preprocess, 52.0ms inference, 2.0ms postprocess per image at shape (1, 3, 384, 640)\n",
      "\n"
     ]
    },
    {
     "name": "stdout",
     "output_type": "stream",
     "text": [
      "Time to process 1 frame: 73 milliseconds\n",
      "Time to process 1 frame: 77 milliseconds\n",
      "Time to process 1 frame: 74 milliseconds\n"
     ]
    },
    {
     "name": "stderr",
     "output_type": "stream",
     "text": [
      "0: 384x640 1 K-006697, 2 K-031490s, 50.1ms\n",
      "Speed: 3.0ms preprocess, 50.1ms inference, 3.0ms postprocess per image at shape (1, 3, 384, 640)\n",
      "\n",
      "0: 384x640 1 K-006697, 3 K-031490s, 1 K-038104, 52.2ms\n",
      "Speed: 2.0ms preprocess, 52.2ms inference, 3.0ms postprocess per image at shape (1, 3, 384, 640)\n",
      "\n",
      "0: 384x640 1 K-006697, 1 K-007024, 4 K-031490s, 51.0ms\n",
      "Speed: 2.0ms preprocess, 51.0ms inference, 2.0ms postprocess per image at shape (1, 3, 384, 640)\n",
      "\n"
     ]
    },
    {
     "name": "stdout",
     "output_type": "stream",
     "text": [
      "Time to process 1 frame: 75 milliseconds\n",
      "Time to process 1 frame: 71 milliseconds\n",
      "Time to process 1 frame: 72 milliseconds\n"
     ]
    },
    {
     "name": "stderr",
     "output_type": "stream",
     "text": [
      "0: 384x640 1 K-006697, 4 K-031490s, 51.0ms\n",
      "Speed: 3.0ms preprocess, 51.0ms inference, 2.0ms postprocess per image at shape (1, 3, 384, 640)\n",
      "\n",
      "0: 384x640 1 K-006697, 4 K-031490s, 52.0ms\n",
      "Speed: 2.0ms preprocess, 52.0ms inference, 3.0ms postprocess per image at shape (1, 3, 384, 640)\n",
      "\n",
      "0: 384x640 1 K-001901, 1 K-006697, 4 K-031490s, 51.5ms\n",
      "Speed: 2.0ms preprocess, 51.5ms inference, 3.0ms postprocess per image at shape (1, 3, 384, 640)\n",
      "\n"
     ]
    },
    {
     "name": "stdout",
     "output_type": "stream",
     "text": [
      "Time to process 1 frame: 73 milliseconds\n",
      "Time to process 1 frame: 73 milliseconds\n",
      "Time to process 1 frame: 77 milliseconds\n"
     ]
    },
    {
     "name": "stderr",
     "output_type": "stream",
     "text": [
      "0: 384x640 1 K-001901, 1 K-006697, 4 K-031490s, 49.5ms\n",
      "Speed: 3.0ms preprocess, 49.5ms inference, 3.0ms postprocess per image at shape (1, 3, 384, 640)\n",
      "\n",
      "0: 384x640 1 K-001901, 1 K-006697, 4 K-031490s, 52.9ms\n",
      "Speed: 2.0ms preprocess, 52.9ms inference, 2.0ms postprocess per image at shape (1, 3, 384, 640)\n",
      "\n",
      "0: 384x640 1 K-001901, 1 K-006697, 4 K-031490s, 49.0ms\n",
      "Speed: 2.0ms preprocess, 49.0ms inference, 2.0ms postprocess per image at shape (1, 3, 384, 640)\n",
      "\n"
     ]
    },
    {
     "name": "stdout",
     "output_type": "stream",
     "text": [
      "Time to process 1 frame: 74 milliseconds\n",
      "Time to process 1 frame: 74 milliseconds\n",
      "Time to process 1 frame: 72 milliseconds\n"
     ]
    },
    {
     "name": "stderr",
     "output_type": "stream",
     "text": [
      "0: 384x640 1 K-001901, 1 K-006697, 4 K-031490s, 49.5ms\n",
      "Speed: 2.0ms preprocess, 49.5ms inference, 2.0ms postprocess per image at shape (1, 3, 384, 640)\n",
      "\n",
      "0: 384x640 1 K-001901, 1 K-006697, 3 K-031490s, 52.1ms\n",
      "Speed: 3.0ms preprocess, 52.1ms inference, 2.0ms postprocess per image at shape (1, 3, 384, 640)\n",
      "\n",
      "0: 384x640 1 K-001901, 1 K-006697, 4 K-031490s, 1 K-044834, 49.5ms\n",
      "Speed: 2.0ms preprocess, 49.5ms inference, 2.0ms postprocess per image at shape (1, 3, 384, 640)\n",
      "\n"
     ]
    },
    {
     "name": "stdout",
     "output_type": "stream",
     "text": [
      "Time to process 1 frame: 72 milliseconds\n",
      "Time to process 1 frame: 75 milliseconds\n",
      "Time to process 1 frame: 76 milliseconds\n"
     ]
    },
    {
     "name": "stderr",
     "output_type": "stream",
     "text": [
      "0: 384x640 1 K-001901, 1 K-006697, 1 K-024127, 4 K-031490s, 1 K-044834, 52.0ms\n",
      "Speed: 2.0ms preprocess, 52.0ms inference, 2.0ms postprocess per image at shape (1, 3, 384, 640)\n",
      "\n",
      "0: 384x640 2 K-001901s, 1 K-006697, 4 K-031490s, 51.0ms\n",
      "Speed: 2.0ms preprocess, 51.0ms inference, 3.0ms postprocess per image at shape (1, 3, 384, 640)\n",
      "\n",
      "0: 384x640 2 K-001901s, 1 K-006697, 4 K-031490s, 51.5ms\n",
      "Speed: 2.0ms preprocess, 51.5ms inference, 3.0ms postprocess per image at shape (1, 3, 384, 640)\n",
      "\n"
     ]
    },
    {
     "name": "stdout",
     "output_type": "stream",
     "text": [
      "Time to process 1 frame: 75 milliseconds\n",
      "Time to process 1 frame: 74 milliseconds\n",
      "Time to process 1 frame: 72 milliseconds\n"
     ]
    },
    {
     "name": "stderr",
     "output_type": "stream",
     "text": [
      "0: 384x640 2 K-001901s, 1 K-006697, 4 K-031490s, 49.4ms\n",
      "Speed: 3.0ms preprocess, 49.4ms inference, 4.0ms postprocess per image at shape (1, 3, 384, 640)\n",
      "\n",
      "0: 384x640 2 K-001901s, 1 K-006697, 1 K-024127, 4 K-031490s, 52.0ms\n",
      "Speed: 3.0ms preprocess, 52.0ms inference, 2.0ms postprocess per image at shape (1, 3, 384, 640)\n",
      "\n",
      "0: 384x640 2 K-001901s, 1 K-006697, 1 K-024127, 5 K-031490s, 49.0ms\n",
      "Speed: 2.0ms preprocess, 49.0ms inference, 3.0ms postprocess per image at shape (1, 3, 384, 640)\n",
      "\n"
     ]
    },
    {
     "name": "stdout",
     "output_type": "stream",
     "text": [
      "Time to process 1 frame: 75 milliseconds\n",
      "Time to process 1 frame: 74 milliseconds\n",
      "Time to process 1 frame: 71 milliseconds\n"
     ]
    },
    {
     "name": "stderr",
     "output_type": "stream",
     "text": [
      "0: 384x640 2 K-001901s, 1 K-006697, 1 K-024127, 4 K-031490s, 49.5ms\n",
      "Speed: 2.0ms preprocess, 49.5ms inference, 2.0ms postprocess per image at shape (1, 3, 384, 640)\n",
      "\n",
      "0: 384x640 2 K-001901s, 1 K-006697, 1 K-024127, 4 K-031490s, 51.5ms\n",
      "Speed: 2.0ms preprocess, 51.5ms inference, 3.0ms postprocess per image at shape (1, 3, 384, 640)\n",
      "\n",
      "0: 384x640 2 K-001901s, 1 K-006697, 1 K-024127, 4 K-031490s, 52.4ms\n",
      "Speed: 2.0ms preprocess, 52.4ms inference, 3.0ms postprocess per image at shape (1, 3, 384, 640)\n",
      "\n"
     ]
    },
    {
     "name": "stdout",
     "output_type": "stream",
     "text": [
      "Time to process 1 frame: 72 milliseconds\n",
      "Time to process 1 frame: 74 milliseconds\n",
      "Time to process 1 frame: 74 milliseconds\n"
     ]
    },
    {
     "name": "stderr",
     "output_type": "stream",
     "text": [
      "0: 384x640 2 K-001901s, 1 K-006697, 1 K-024127, 4 K-031490s, 51.0ms\n",
      "Speed: 2.0ms preprocess, 51.0ms inference, 2.0ms postprocess per image at shape (1, 3, 384, 640)\n",
      "\n",
      "0: 384x640 1 K-001901, 1 K-006697, 1 K-024127, 5 K-031490s, 51.0ms\n",
      "Speed: 3.0ms preprocess, 51.0ms inference, 3.0ms postprocess per image at shape (1, 3, 384, 640)\n",
      "\n",
      "0: 384x640 1 K-001901, 1 K-006697, 5 K-031490s, 50.5ms\n",
      "Speed: 2.0ms preprocess, 50.5ms inference, 2.0ms postprocess per image at shape (1, 3, 384, 640)\n",
      "\n"
     ]
    },
    {
     "name": "stdout",
     "output_type": "stream",
     "text": [
      "Time to process 1 frame: 76 milliseconds\n",
      "Time to process 1 frame: 76 milliseconds\n",
      "Time to process 1 frame: 71 milliseconds\n"
     ]
    },
    {
     "name": "stderr",
     "output_type": "stream",
     "text": [
      "0: 384x640 2 K-006697s, 4 K-031490s, 50.5ms\n",
      "Speed: 3.0ms preprocess, 50.5ms inference, 3.0ms postprocess per image at shape (1, 3, 384, 640)\n",
      "\n",
      "0: 384x640 2 K-001901s, 1 K-006697, 5 K-031490s, 52.0ms\n",
      "Speed: 2.0ms preprocess, 52.0ms inference, 2.0ms postprocess per image at shape (1, 3, 384, 640)\n",
      "\n",
      "0: 384x640 2 K-001901s, 2 K-006697s, 5 K-031490s, 49.4ms\n",
      "Speed: 3.0ms preprocess, 49.4ms inference, 1.6ms postprocess per image at shape (1, 3, 384, 640)\n",
      "\n"
     ]
    },
    {
     "name": "stdout",
     "output_type": "stream",
     "text": [
      "Time to process 1 frame: 74 milliseconds\n",
      "Time to process 1 frame: 74 milliseconds\n",
      "Time to process 1 frame: 71 milliseconds\n"
     ]
    },
    {
     "name": "stderr",
     "output_type": "stream",
     "text": [
      "0: 384x640 2 K-001901s, 1 K-006697, 5 K-031490s, 53.1ms\n",
      "Speed: 2.0ms preprocess, 53.1ms inference, 3.0ms postprocess per image at shape (1, 3, 384, 640)\n",
      "\n",
      "0: 384x640 2 K-001901s, 1 K-006697, 5 K-031490s, 49.5ms\n",
      "Speed: 3.0ms preprocess, 49.5ms inference, 3.0ms postprocess per image at shape (1, 3, 384, 640)\n",
      "\n",
      "0: 384x640 2 K-001901s, 1 K-006697, 5 K-031490s, 49.6ms\n",
      "Speed: 2.0ms preprocess, 49.6ms inference, 2.1ms postprocess per image at shape (1, 3, 384, 640)\n",
      "\n"
     ]
    },
    {
     "name": "stdout",
     "output_type": "stream",
     "text": [
      "Time to process 1 frame: 74 milliseconds\n",
      "Time to process 1 frame: 74 milliseconds\n",
      "Time to process 1 frame: 70 milliseconds\n"
     ]
    },
    {
     "name": "stderr",
     "output_type": "stream",
     "text": [
      "0: 384x640 2 K-001901s, 1 K-006697, 5 K-031490s, 53.0ms\n",
      "Speed: 2.0ms preprocess, 53.0ms inference, 3.0ms postprocess per image at shape (1, 3, 384, 640)\n",
      "\n",
      "0: 384x640 2 K-001901s, 1 K-006697, 5 K-031490s, 52.0ms\n",
      "Speed: 2.0ms preprocess, 52.0ms inference, 3.0ms postprocess per image at shape (1, 3, 384, 640)\n",
      "\n",
      "0: 384x640 2 K-001901s, 1 K-006697, 5 K-031490s, 52.5ms\n",
      "Speed: 1.0ms preprocess, 52.5ms inference, 2.0ms postprocess per image at shape (1, 3, 384, 640)\n",
      "\n"
     ]
    },
    {
     "name": "stdout",
     "output_type": "stream",
     "text": [
      "Time to process 1 frame: 75 milliseconds\n",
      "Time to process 1 frame: 77 milliseconds\n",
      "Time to process 1 frame: 76 milliseconds\n"
     ]
    },
    {
     "name": "stderr",
     "output_type": "stream",
     "text": [
      "0: 384x640 2 K-001901s, 1 K-006697, 5 K-031490s, 49.1ms\n",
      "Speed: 2.0ms preprocess, 49.1ms inference, 4.0ms postprocess per image at shape (1, 3, 384, 640)\n",
      "\n",
      "0: 384x640 2 K-001901s, 2 K-006697s, 4 K-031490s, 52.5ms\n",
      "Speed: 2.0ms preprocess, 52.5ms inference, 2.0ms postprocess per image at shape (1, 3, 384, 640)\n",
      "\n",
      "0: 384x640 2 K-001901s, 1 K-006697, 5 K-031490s, 50.0ms\n",
      "Speed: 1.0ms preprocess, 50.0ms inference, 2.0ms postprocess per image at shape (1, 3, 384, 640)\n",
      "\n"
     ]
    },
    {
     "name": "stdout",
     "output_type": "stream",
     "text": [
      "Time to process 1 frame: 73 milliseconds\n",
      "Time to process 1 frame: 74 milliseconds\n",
      "Time to process 1 frame: 72 milliseconds\n"
     ]
    },
    {
     "name": "stderr",
     "output_type": "stream",
     "text": [
      "0: 384x640 2 K-001901s, 1 K-006697, 5 K-031490s, 1 K-038104, 53.0ms\n",
      "Speed: 2.0ms preprocess, 53.0ms inference, 2.0ms postprocess per image at shape (1, 3, 384, 640)\n",
      "\n",
      "0: 384x640 2 K-001901s, 1 K-006697, 5 K-031490s, 50.5ms\n",
      "Speed: 2.0ms preprocess, 50.5ms inference, 2.0ms postprocess per image at shape (1, 3, 384, 640)\n",
      "\n",
      "0: 384x640 2 K-001901s, 2 K-006697s, 5 K-031490s, 49.5ms\n",
      "Speed: 2.0ms preprocess, 49.5ms inference, 2.0ms postprocess per image at shape (1, 3, 384, 640)\n",
      "\n"
     ]
    },
    {
     "name": "stdout",
     "output_type": "stream",
     "text": [
      "Time to process 1 frame: 76 milliseconds\n",
      "Time to process 1 frame: 75 milliseconds\n",
      "Time to process 1 frame: 73 milliseconds\n"
     ]
    },
    {
     "name": "stderr",
     "output_type": "stream",
     "text": [
      "0: 384x640 2 K-001901s, 1 K-006697, 5 K-031490s, 51.9ms\n",
      "Speed: 2.0ms preprocess, 51.9ms inference, 2.1ms postprocess per image at shape (1, 3, 384, 640)\n",
      "\n",
      "0: 384x640 2 K-001901s, 2 K-006697s, 3 K-031490s, 51.0ms\n",
      "Speed: 3.0ms preprocess, 51.0ms inference, 2.0ms postprocess per image at shape (1, 3, 384, 640)\n",
      "\n",
      "0: 384x640 2 K-001901s, 2 K-006697s, 5 K-031490s, 52.5ms\n",
      "Speed: 2.0ms preprocess, 52.5ms inference, 2.0ms postprocess per image at shape (1, 3, 384, 640)\n",
      "\n"
     ]
    },
    {
     "name": "stdout",
     "output_type": "stream",
     "text": [
      "Time to process 1 frame: 75 milliseconds\n",
      "Time to process 1 frame: 75 milliseconds\n",
      "Time to process 1 frame: 74 milliseconds\n"
     ]
    },
    {
     "name": "stderr",
     "output_type": "stream",
     "text": [
      "0: 384x640 2 K-001901s, 2 K-006697s, 5 K-031490s, 51.5ms\n",
      "Speed: 2.0ms preprocess, 51.5ms inference, 3.0ms postprocess per image at shape (1, 3, 384, 640)\n",
      "\n",
      "0: 384x640 2 K-001901s, 2 K-006697s, 4 K-031490s, 50.5ms\n",
      "Speed: 2.0ms preprocess, 50.5ms inference, 2.0ms postprocess per image at shape (1, 3, 384, 640)\n",
      "\n",
      "0: 384x640 2 K-001901s, 1 K-006697, 5 K-031490s, 51.0ms\n",
      "Speed: 2.0ms preprocess, 51.0ms inference, 3.0ms postprocess per image at shape (1, 3, 384, 640)\n",
      "\n"
     ]
    },
    {
     "name": "stdout",
     "output_type": "stream",
     "text": [
      "Time to process 1 frame: 74 milliseconds\n",
      "Time to process 1 frame: 73 milliseconds\n",
      "Time to process 1 frame: 74 milliseconds\n"
     ]
    },
    {
     "name": "stderr",
     "output_type": "stream",
     "text": [
      "0: 384x640 2 K-001901s, 1 K-006697, 4 K-031490s, 52.0ms\n",
      "Speed: 3.0ms preprocess, 52.0ms inference, 2.0ms postprocess per image at shape (1, 3, 384, 640)\n",
      "\n",
      "0: 384x640 2 K-001901s, 1 K-006697, 5 K-031490s, 50.6ms\n",
      "Speed: 2.1ms preprocess, 50.6ms inference, 1.0ms postprocess per image at shape (1, 3, 384, 640)\n",
      "\n",
      "0: 384x640 2 K-001901s, 1 K-006697, 5 K-031490s, 53.5ms\n",
      "Speed: 2.0ms preprocess, 53.5ms inference, 3.0ms postprocess per image at shape (1, 3, 384, 640)\n",
      "\n"
     ]
    },
    {
     "name": "stdout",
     "output_type": "stream",
     "text": [
      "Time to process 1 frame: 75 milliseconds\n",
      "Time to process 1 frame: 72 milliseconds\n",
      "Time to process 1 frame: 75 milliseconds\n"
     ]
    },
    {
     "name": "stderr",
     "output_type": "stream",
     "text": [
      "0: 384x640 2 K-001901s, 1 K-006697, 5 K-031490s, 53.0ms\n",
      "Speed: 2.0ms preprocess, 53.0ms inference, 2.5ms postprocess per image at shape (1, 3, 384, 640)\n",
      "\n",
      "0: 384x640 2 K-001901s, 1 K-006697, 5 K-031490s, 50.0ms\n",
      "Speed: 2.0ms preprocess, 50.0ms inference, 3.0ms postprocess per image at shape (1, 3, 384, 640)\n",
      "\n",
      "0: 384x640 2 K-001901s, 1 K-006697, 5 K-031490s, 51.6ms\n",
      "Speed: 2.0ms preprocess, 51.6ms inference, 2.0ms postprocess per image at shape (1, 3, 384, 640)\n",
      "\n"
     ]
    },
    {
     "name": "stdout",
     "output_type": "stream",
     "text": [
      "Time to process 1 frame: 74 milliseconds\n",
      "Time to process 1 frame: 74 milliseconds\n",
      "Time to process 1 frame: 72 milliseconds\n"
     ]
    },
    {
     "name": "stderr",
     "output_type": "stream",
     "text": [
      "0: 384x640 2 K-001901s, 1 K-006697, 5 K-031490s, 52.5ms\n",
      "Speed: 1.0ms preprocess, 52.5ms inference, 3.0ms postprocess per image at shape (1, 3, 384, 640)\n",
      "\n",
      "0: 384x640 2 K-001901s, 1 K-006697, 5 K-031490s, 51.9ms\n",
      "Speed: 3.0ms preprocess, 51.9ms inference, 2.0ms postprocess per image at shape (1, 3, 384, 640)\n",
      "\n",
      "0: 384x640 2 K-001901s, 1 K-006697, 5 K-031490s, 50.0ms\n",
      "Speed: 2.0ms preprocess, 50.0ms inference, 3.0ms postprocess per image at shape (1, 3, 384, 640)\n",
      "\n"
     ]
    },
    {
     "name": "stdout",
     "output_type": "stream",
     "text": [
      "Time to process 1 frame: 74 milliseconds\n",
      "Time to process 1 frame: 76 milliseconds\n",
      "Time to process 1 frame: 70 milliseconds\n"
     ]
    },
    {
     "name": "stderr",
     "output_type": "stream",
     "text": [
      "0: 384x640 2 K-001901s, 1 K-006697, 5 K-031490s, 53.0ms\n",
      "Speed: 2.0ms preprocess, 53.0ms inference, 2.0ms postprocess per image at shape (1, 3, 384, 640)\n",
      "\n",
      "0: 384x640 2 K-001901s, 1 K-006697, 5 K-031490s, 50.1ms\n",
      "Speed: 2.0ms preprocess, 50.1ms inference, 3.0ms postprocess per image at shape (1, 3, 384, 640)\n",
      "\n",
      "0: 384x640 2 K-001901s, 1 K-006697, 5 K-031490s, 52.1ms\n",
      "Speed: 2.0ms preprocess, 52.1ms inference, 2.0ms postprocess per image at shape (1, 3, 384, 640)\n",
      "\n"
     ]
    },
    {
     "name": "stdout",
     "output_type": "stream",
     "text": [
      "Time to process 1 frame: 73 milliseconds\n",
      "Time to process 1 frame: 71 milliseconds\n",
      "Time to process 1 frame: 71 milliseconds\n"
     ]
    },
    {
     "name": "stderr",
     "output_type": "stream",
     "text": [
      "0: 384x640 2 K-001901s, 1 K-006697, 5 K-031490s, 51.6ms\n",
      "Speed: 3.0ms preprocess, 51.6ms inference, 2.0ms postprocess per image at shape (1, 3, 384, 640)\n",
      "\n",
      "0: 384x640 2 K-001901s, 1 K-006697, 5 K-031490s, 52.0ms\n",
      "Speed: 2.0ms preprocess, 52.0ms inference, 2.0ms postprocess per image at shape (1, 3, 384, 640)\n",
      "\n",
      "0: 384x640 2 K-001901s, 1 K-006697, 5 K-031490s, 49.9ms\n",
      "Speed: 2.0ms preprocess, 49.9ms inference, 2.0ms postprocess per image at shape (1, 3, 384, 640)\n",
      "\n"
     ]
    },
    {
     "name": "stdout",
     "output_type": "stream",
     "text": [
      "Time to process 1 frame: 73 milliseconds\n",
      "Time to process 1 frame: 71 milliseconds\n",
      "Time to process 1 frame: 70 milliseconds\n"
     ]
    },
    {
     "name": "stderr",
     "output_type": "stream",
     "text": [
      "0: 384x640 2 K-001901s, 2 K-006697s, 5 K-031490s, 51.5ms\n",
      "Speed: 2.0ms preprocess, 51.5ms inference, 3.0ms postprocess per image at shape (1, 3, 384, 640)\n",
      "\n",
      "0: 384x640 2 K-001901s, 2 K-006697s, 4 K-031490s, 52.0ms\n",
      "Speed: 2.0ms preprocess, 52.0ms inference, 3.2ms postprocess per image at shape (1, 3, 384, 640)\n",
      "\n",
      "0: 384x640 2 K-001901s, 1 K-006697, 5 K-031490s, 50.0ms\n",
      "Speed: 2.0ms preprocess, 50.0ms inference, 2.0ms postprocess per image at shape (1, 3, 384, 640)\n",
      "\n"
     ]
    },
    {
     "name": "stdout",
     "output_type": "stream",
     "text": [
      "Time to process 1 frame: 71 milliseconds\n",
      "Time to process 1 frame: 73 milliseconds\n",
      "Time to process 1 frame: 70 milliseconds\n"
     ]
    },
    {
     "name": "stderr",
     "output_type": "stream",
     "text": [
      "0: 384x640 2 K-001901s, 1 K-006697, 5 K-031490s, 49.2ms\n",
      "Speed: 3.0ms preprocess, 49.2ms inference, 3.0ms postprocess per image at shape (1, 3, 384, 640)\n",
      "\n",
      "0: 384x640 2 K-001901s, 1 K-006697, 4 K-031490s, 51.5ms\n",
      "Speed: 2.0ms preprocess, 51.5ms inference, 2.0ms postprocess per image at shape (1, 3, 384, 640)\n",
      "\n",
      "0: 384x640 2 K-001901s, 1 K-006697, 5 K-031490s, 52.1ms\n",
      "Speed: 3.0ms preprocess, 52.1ms inference, 1.6ms postprocess per image at shape (1, 3, 384, 640)\n",
      "\n"
     ]
    },
    {
     "name": "stdout",
     "output_type": "stream",
     "text": [
      "Time to process 1 frame: 70 milliseconds\n",
      "Time to process 1 frame: 72 milliseconds\n",
      "Time to process 1 frame: 73 milliseconds\n"
     ]
    },
    {
     "name": "stderr",
     "output_type": "stream",
     "text": [
      "0: 384x640 2 K-001901s, 2 K-006697s, 5 K-031490s, 50.0ms\n",
      "Speed: 2.0ms preprocess, 50.0ms inference, 3.0ms postprocess per image at shape (1, 3, 384, 640)\n",
      "\n",
      "0: 384x640 2 K-001901s, 1 K-006697, 5 K-031490s, 1 K-038104, 53.0ms\n",
      "Speed: 2.0ms preprocess, 53.0ms inference, 2.0ms postprocess per image at shape (1, 3, 384, 640)\n",
      "\n",
      "0: 384x640 2 K-001901s, 1 K-006697, 5 K-031490s, 1 K-038104, 51.5ms\n",
      "Speed: 2.0ms preprocess, 51.5ms inference, 3.0ms postprocess per image at shape (1, 3, 384, 640)\n",
      "\n"
     ]
    },
    {
     "name": "stdout",
     "output_type": "stream",
     "text": [
      "Time to process 1 frame: 71 milliseconds\n",
      "Time to process 1 frame: 73 milliseconds\n",
      "Time to process 1 frame: 73 milliseconds\n"
     ]
    },
    {
     "name": "stderr",
     "output_type": "stream",
     "text": [
      "0: 384x640 2 K-001901s, 1 K-006697, 4 K-031490s, 1 K-038104, 50.4ms\n",
      "Speed: 3.0ms preprocess, 50.4ms inference, 3.0ms postprocess per image at shape (1, 3, 384, 640)\n",
      "\n",
      "0: 384x640 2 K-001901s, 1 K-006697, 5 K-031490s, 1 K-038104, 50.0ms\n",
      "Speed: 3.0ms preprocess, 50.0ms inference, 3.0ms postprocess per image at shape (1, 3, 384, 640)\n",
      "\n",
      "0: 384x640 2 K-001901s, 1 K-006697, 5 K-031490s, 52.0ms\n",
      "Speed: 2.0ms preprocess, 52.0ms inference, 2.0ms postprocess per image at shape (1, 3, 384, 640)\n",
      "\n"
     ]
    },
    {
     "name": "stdout",
     "output_type": "stream",
     "text": [
      "Time to process 1 frame: 71 milliseconds\n",
      "Time to process 1 frame: 72 milliseconds\n",
      "Time to process 1 frame: 70 milliseconds\n"
     ]
    },
    {
     "name": "stderr",
     "output_type": "stream",
     "text": [
      "0: 384x640 2 K-001901s, 1 K-004378, 1 K-015710, 2 K-028408s, 3 K-031490s, 1 K-044834, 48.4ms\n",
      "Speed: 3.0ms preprocess, 48.4ms inference, 2.0ms postprocess per image at shape (1, 3, 384, 640)\n",
      "\n",
      "0: 384x640 3 K-001901s, 1 K-006697, 1 K-015710, 2 K-028408s, 4 K-031490s, 50.5ms\n",
      "Speed: 2.0ms preprocess, 50.5ms inference, 2.0ms postprocess per image at shape (1, 3, 384, 640)\n",
      "\n",
      "0: 384x640 2 K-001901s, 1 K-004378, 1 K-007024, 3 K-028408s, 1 K-031490, 1 K-044834, 50.0ms\n",
      "Speed: 2.0ms preprocess, 50.0ms inference, 3.0ms postprocess per image at shape (1, 3, 384, 640)\n",
      "\n"
     ]
    },
    {
     "name": "stdout",
     "output_type": "stream",
     "text": [
      "Time to process 1 frame: 70 milliseconds\n",
      "Time to process 1 frame: 72 milliseconds\n",
      "Time to process 1 frame: 73 milliseconds\n"
     ]
    },
    {
     "name": "stderr",
     "output_type": "stream",
     "text": [
      "0: 384x640 2 K-001901s, 1 K-004378, 1 K-007024, 3 K-028408s, 2 K-031490s, 1 K-044834, 53.0ms\n",
      "Speed: 3.0ms preprocess, 53.0ms inference, 2.0ms postprocess per image at shape (1, 3, 384, 640)\n",
      "\n",
      "0: 384x640 2 K-001901s, 1 K-004378, 1 K-016548, 3 K-028408s, 1 K-031490, 1 K-044834, 49.5ms\n",
      "Speed: 2.0ms preprocess, 49.5ms inference, 2.0ms postprocess per image at shape (1, 3, 384, 640)\n",
      "\n",
      "0: 384x640 2 K-001901s, 1 K-004378, 1 K-006697, 3 K-028408s, 2 K-031490s, 51.5ms\n",
      "Speed: 2.0ms preprocess, 51.5ms inference, 4.0ms postprocess per image at shape (1, 3, 384, 640)\n",
      "\n"
     ]
    },
    {
     "name": "stdout",
     "output_type": "stream",
     "text": [
      "Time to process 1 frame: 75 milliseconds\n",
      "Time to process 1 frame: 70 milliseconds\n",
      "Time to process 1 frame: 75 milliseconds\n"
     ]
    },
    {
     "name": "stderr",
     "output_type": "stream",
     "text": [
      "0: 384x640 2 K-001901s, 1 K-004378, 1 K-016548, 3 K-028408s, 2 K-031490s, 1 K-044834, 51.0ms\n",
      "Speed: 2.0ms preprocess, 51.0ms inference, 2.5ms postprocess per image at shape (1, 3, 384, 640)\n",
      "\n",
      "0: 384x640 2 K-001901s, 1 K-004378, 1 K-016548, 3 K-028408s, 1 K-031490, 1 K-044834, 51.8ms\n",
      "Speed: 2.7ms preprocess, 51.8ms inference, 2.0ms postprocess per image at shape (1, 3, 384, 640)\n",
      "\n",
      "0: 384x640 2 K-001901s, 1 K-004378, 1 K-016548, 3 K-028408s, 1 K-031490, 1 K-044834, 49.0ms\n",
      "Speed: 2.5ms preprocess, 49.0ms inference, 4.0ms postprocess per image at shape (1, 3, 384, 640)\n",
      "\n"
     ]
    },
    {
     "name": "stdout",
     "output_type": "stream",
     "text": [
      "Time to process 1 frame: 73 milliseconds\n",
      "Time to process 1 frame: 71 milliseconds\n",
      "Time to process 1 frame: 73 milliseconds\n"
     ]
    },
    {
     "name": "stderr",
     "output_type": "stream",
     "text": [
      "0: 384x640 2 K-001901s, 1 K-004378, 1 K-007024, 3 K-028408s, 2 K-031490s, 1 K-044834, 51.5ms\n",
      "Speed: 2.0ms preprocess, 51.5ms inference, 3.0ms postprocess per image at shape (1, 3, 384, 640)\n",
      "\n",
      "0: 384x640 2 K-001901s, 1 K-004378, 3 K-028408s, 1 K-031490, 1 K-044834, 49.5ms\n",
      "Speed: 2.0ms preprocess, 49.5ms inference, 2.0ms postprocess per image at shape (1, 3, 384, 640)\n",
      "\n",
      "0: 384x640 2 K-001901s, 1 K-004378, 3 K-028408s, 2 K-031490s, 1 K-044834, 50.0ms\n",
      "Speed: 2.0ms preprocess, 50.0ms inference, 2.0ms postprocess per image at shape (1, 3, 384, 640)\n",
      "\n"
     ]
    },
    {
     "name": "stdout",
     "output_type": "stream",
     "text": [
      "Time to process 1 frame: 72 milliseconds\n",
      "Time to process 1 frame: 70 milliseconds\n",
      "Time to process 1 frame: 70 milliseconds\n"
     ]
    },
    {
     "name": "stderr",
     "output_type": "stream",
     "text": [
      "0: 384x640 2 K-001901s, 1 K-006697, 2 K-028408s, 4 K-031490s, 1 K-044834, 49.0ms\n",
      "Speed: 2.5ms preprocess, 49.0ms inference, 3.0ms postprocess per image at shape (1, 3, 384, 640)\n",
      "\n",
      "0: 384x640 2 K-001901s, 1 K-004378, 3 K-028408s, 2 K-031490s, 1 K-044834, 53.0ms\n",
      "Speed: 2.0ms preprocess, 53.0ms inference, 2.6ms postprocess per image at shape (1, 3, 384, 640)\n",
      "\n",
      "0: 384x640 2 K-001901s, 1 K-004378, 3 K-028408s, 2 K-031490s, 1 K-044834, 50.5ms\n",
      "Speed: 2.0ms preprocess, 50.5ms inference, 2.0ms postprocess per image at shape (1, 3, 384, 640)\n",
      "\n"
     ]
    },
    {
     "name": "stdout",
     "output_type": "stream",
     "text": [
      "Time to process 1 frame: 71 milliseconds\n",
      "Time to process 1 frame: 74 milliseconds\n",
      "Time to process 1 frame: 71 milliseconds\n"
     ]
    },
    {
     "name": "stderr",
     "output_type": "stream",
     "text": [
      "0: 384x640 2 K-001901s, 1 K-004378, 3 K-028408s, 2 K-031490s, 1 K-044834, 53.0ms\n",
      "Speed: 2.0ms preprocess, 53.0ms inference, 2.0ms postprocess per image at shape (1, 3, 384, 640)\n",
      "\n",
      "0: 384x640 2 K-001901s, 1 K-004378, 3 K-028408s, 2 K-031490s, 1 K-044834, 50.0ms\n",
      "Speed: 2.0ms preprocess, 50.0ms inference, 2.0ms postprocess per image at shape (1, 3, 384, 640)\n",
      "\n",
      "0: 384x640 2 K-001901s, 1 K-004378, 1 K-006697, 3 K-028408s, 2 K-031490s, 52.7ms\n",
      "Speed: 2.0ms preprocess, 52.7ms inference, 3.0ms postprocess per image at shape (1, 3, 384, 640)\n",
      "\n"
     ]
    },
    {
     "name": "stdout",
     "output_type": "stream",
     "text": [
      "Time to process 1 frame: 73 milliseconds\n",
      "Time to process 1 frame: 71 milliseconds\n",
      "Time to process 1 frame: 73 milliseconds\n"
     ]
    },
    {
     "name": "stderr",
     "output_type": "stream",
     "text": [
      "0: 384x640 3 K-001901s, 1 K-004378, 1 K-006697, 3 K-028408s, 2 K-031490s, 1 K-044834, 49.5ms\n",
      "Speed: 2.0ms preprocess, 49.5ms inference, 3.0ms postprocess per image at shape (1, 3, 384, 640)\n",
      "\n",
      "0: 384x640 3 K-001901s, 1 K-004378, 3 K-028408s, 1 K-031490, 1 K-044834, 51.0ms\n",
      "Speed: 1.0ms preprocess, 51.0ms inference, 3.0ms postprocess per image at shape (1, 3, 384, 640)\n",
      "\n",
      "0: 384x640 2 K-001901s, 1 K-004378, 3 K-028408s, 1 K-031490, 1 K-044834, 51.6ms\n",
      "Speed: 2.0ms preprocess, 51.6ms inference, 3.0ms postprocess per image at shape (1, 3, 384, 640)\n",
      "\n"
     ]
    },
    {
     "name": "stdout",
     "output_type": "stream",
     "text": [
      "Time to process 1 frame: 72 milliseconds\n",
      "Time to process 1 frame: 72 milliseconds\n",
      "Time to process 1 frame: 74 milliseconds\n"
     ]
    },
    {
     "name": "stderr",
     "output_type": "stream",
     "text": [
      "0: 384x640 2 K-001901s, 1 K-004378, 3 K-028408s, 1 K-031490, 1 K-044834, 49.5ms\n",
      "Speed: 2.0ms preprocess, 49.5ms inference, 3.0ms postprocess per image at shape (1, 3, 384, 640)\n",
      "\n",
      "0: 384x640 2 K-001901s, 1 K-006697, 1 K-016548, 3 K-028408s, 1 K-031490, 1 K-044834, 50.5ms\n",
      "Speed: 2.0ms preprocess, 50.5ms inference, 3.0ms postprocess per image at shape (1, 3, 384, 640)\n",
      "\n",
      "0: 384x640 2 K-001901s, 1 K-004378, 3 K-028408s, 1 K-031490, 1 K-044834, 53.0ms\n",
      "Speed: 2.0ms preprocess, 53.0ms inference, 2.0ms postprocess per image at shape (1, 3, 384, 640)\n",
      "\n"
     ]
    },
    {
     "name": "stdout",
     "output_type": "stream",
     "text": [
      "Time to process 1 frame: 70 milliseconds\n",
      "Time to process 1 frame: 72 milliseconds\n",
      "Time to process 1 frame: 73 milliseconds\n"
     ]
    },
    {
     "name": "stderr",
     "output_type": "stream",
     "text": [
      "0: 384x640 2 K-001901s, 1 K-004378, 3 K-028408s, 1 K-031490, 1 K-044834, 52.0ms\n",
      "Speed: 2.0ms preprocess, 52.0ms inference, 2.0ms postprocess per image at shape (1, 3, 384, 640)\n",
      "\n",
      "0: 384x640 2 K-001901s, 1 K-006697, 3 K-028408s, 5 K-031490s, 50.5ms\n",
      "Speed: 2.0ms preprocess, 50.5ms inference, 2.0ms postprocess per image at shape (1, 3, 384, 640)\n",
      "\n",
      "0: 384x640 2 K-001901s, 1 K-006697, 3 K-028408s, 3 K-031490s, 48.5ms\n",
      "Speed: 2.0ms preprocess, 48.5ms inference, 3.0ms postprocess per image at shape (1, 3, 384, 640)\n",
      "\n"
     ]
    },
    {
     "name": "stdout",
     "output_type": "stream",
     "text": [
      "Time to process 1 frame: 72 milliseconds\n",
      "Time to process 1 frame: 71 milliseconds\n",
      "Time to process 1 frame: 74 milliseconds\n"
     ]
    },
    {
     "name": "stderr",
     "output_type": "stream",
     "text": [
      "0: 384x640 2 K-001901s, 1 K-004378, 3 K-028408s, 2 K-031490s, 1 K-044834, 51.8ms\n",
      "Speed: 3.2ms preprocess, 51.8ms inference, 3.0ms postprocess per image at shape (1, 3, 384, 640)\n",
      "\n",
      "0: 384x640 2 K-001901s, 1 K-004378, 3 K-028408s, 1 K-031490, 1 K-044834, 50.0ms\n",
      "Speed: 3.0ms preprocess, 50.0ms inference, 2.0ms postprocess per image at shape (1, 3, 384, 640)\n",
      "\n",
      "0: 384x640 2 K-001901s, 1 K-004378, 3 K-028408s, 1 K-031490, 1 K-044834, 52.0ms\n",
      "Speed: 2.0ms preprocess, 52.0ms inference, 2.0ms postprocess per image at shape (1, 3, 384, 640)\n",
      "\n"
     ]
    },
    {
     "name": "stdout",
     "output_type": "stream",
     "text": [
      "Time to process 1 frame: 75 milliseconds\n",
      "Time to process 1 frame: 72 milliseconds\n",
      "Time to process 1 frame: 73 milliseconds\n"
     ]
    },
    {
     "name": "stderr",
     "output_type": "stream",
     "text": [
      "0: 384x640 2 K-001901s, 2 K-004378s, 3 K-028408s, 1 K-031490, 1 K-044834, 51.1ms\n",
      "Speed: 2.0ms preprocess, 51.1ms inference, 4.0ms postprocess per image at shape (1, 3, 384, 640)\n",
      "\n",
      "0: 384x640 2 K-001901s, 2 K-004378s, 1 K-007024, 3 K-028408s, 1 K-031490, 1 K-044834, 50.2ms\n",
      "Speed: 2.0ms preprocess, 50.2ms inference, 2.0ms postprocess per image at shape (1, 3, 384, 640)\n",
      "\n",
      "0: 384x640 2 K-001901s, 2 K-004378s, 1 K-007024, 3 K-028408s, 1 K-031490, 1 K-044834, 50.0ms\n",
      "Speed: 3.0ms preprocess, 50.0ms inference, 2.0ms postprocess per image at shape (1, 3, 384, 640)\n",
      "\n"
     ]
    },
    {
     "name": "stdout",
     "output_type": "stream",
     "text": [
      "Time to process 1 frame: 75 milliseconds\n",
      "Time to process 1 frame: 69 milliseconds\n",
      "Time to process 1 frame: 71 milliseconds\n"
     ]
    },
    {
     "name": "stderr",
     "output_type": "stream",
     "text": [
      "0: 384x640 2 K-001901s, 2 K-004378s, 1 K-007024, 3 K-028408s, 1 K-031490, 1 K-044834, 52.2ms\n",
      "Speed: 2.0ms preprocess, 52.2ms inference, 3.0ms postprocess per image at shape (1, 3, 384, 640)\n",
      "\n",
      "0: 384x640 2 K-001901s, 2 K-004378s, 1 K-007024, 3 K-028408s, 1 K-031490, 1 K-044834, 52.5ms\n",
      "Speed: 3.0ms preprocess, 52.5ms inference, 2.0ms postprocess per image at shape (1, 3, 384, 640)\n",
      "\n",
      "0: 384x640 2 K-001901s, 3 K-004378s, 3 K-028408s, 1 K-031490, 1 K-044834, 50.5ms\n",
      "Speed: 2.0ms preprocess, 50.5ms inference, 3.0ms postprocess per image at shape (1, 3, 384, 640)\n",
      "\n"
     ]
    },
    {
     "name": "stdout",
     "output_type": "stream",
     "text": [
      "Time to process 1 frame: 73 milliseconds\n",
      "Time to process 1 frame: 75 milliseconds\n",
      "Time to process 1 frame: 72 milliseconds\n"
     ]
    },
    {
     "name": "stderr",
     "output_type": "stream",
     "text": [
      "0: 384x640 2 K-001901s, 2 K-004378s, 3 K-028408s, 1 K-031490, 1 K-044834, 50.0ms\n",
      "Speed: 2.0ms preprocess, 50.0ms inference, 3.0ms postprocess per image at shape (1, 3, 384, 640)\n",
      "\n",
      "0: 384x640 2 K-001901s, 2 K-004378s, 3 K-028408s, 1 K-031490, 1 K-044834, 53.0ms\n",
      "Speed: 3.0ms preprocess, 53.0ms inference, 2.0ms postprocess per image at shape (1, 3, 384, 640)\n",
      "\n",
      "0: 384x640 2 K-001901s, 2 K-004378s, 3 K-028408s, 1 K-031490, 1 K-044834, 50.5ms\n",
      "Speed: 2.0ms preprocess, 50.5ms inference, 2.0ms postprocess per image at shape (1, 3, 384, 640)\n",
      "\n"
     ]
    },
    {
     "name": "stdout",
     "output_type": "stream",
     "text": [
      "Time to process 1 frame: 71 milliseconds\n",
      "Time to process 1 frame: 73 milliseconds\n",
      "Time to process 1 frame: 73 milliseconds\n"
     ]
    },
    {
     "name": "stderr",
     "output_type": "stream",
     "text": [
      "0: 384x640 2 K-001901s, 2 K-004378s, 3 K-028408s, 1 K-031490, 1 K-044834, 51.5ms\n",
      "Speed: 2.0ms preprocess, 51.5ms inference, 3.0ms postprocess per image at shape (1, 3, 384, 640)\n",
      "\n",
      "0: 384x640 2 K-001901s, 2 K-004378s, 3 K-028408s, 1 K-031490, 1 K-044834, 51.3ms\n",
      "Speed: 3.0ms preprocess, 51.3ms inference, 2.2ms postprocess per image at shape (1, 3, 384, 640)\n",
      "\n",
      "0: 384x640 2 K-001901s, 1 K-004378, 3 K-028408s, 1 K-031490, 1 K-044834, 51.0ms\n",
      "Speed: 2.0ms preprocess, 51.0ms inference, 2.0ms postprocess per image at shape (1, 3, 384, 640)\n",
      "\n"
     ]
    },
    {
     "name": "stdout",
     "output_type": "stream",
     "text": [
      "Time to process 1 frame: 74 milliseconds\n",
      "Time to process 1 frame: 73 milliseconds\n",
      "Time to process 1 frame: 71 milliseconds\n"
     ]
    },
    {
     "name": "stderr",
     "output_type": "stream",
     "text": [
      "0: 384x640 2 K-001901s, 2 K-004378s, 3 K-028408s, 1 K-031490, 1 K-044834, 50.1ms\n",
      "Speed: 2.0ms preprocess, 50.1ms inference, 3.0ms postprocess per image at shape (1, 3, 384, 640)\n",
      "\n",
      "0: 384x640 2 K-001901s, 2 K-004378s, 1 K-007024, 3 K-028408s, 1 K-031490, 1 K-044834, 52.3ms\n",
      "Speed: 3.0ms preprocess, 52.3ms inference, 3.0ms postprocess per image at shape (1, 3, 384, 640)\n",
      "\n",
      "0: 384x640 2 K-001901s, 2 K-004378s, 3 K-028408s, 1 K-031490, 1 K-044834, 51.5ms\n",
      "Speed: 2.0ms preprocess, 51.5ms inference, 3.0ms postprocess per image at shape (1, 3, 384, 640)\n",
      "\n"
     ]
    },
    {
     "name": "stdout",
     "output_type": "stream",
     "text": [
      "Time to process 1 frame: 73 milliseconds\n",
      "Time to process 1 frame: 75 milliseconds\n",
      "Time to process 1 frame: 75 milliseconds\n"
     ]
    },
    {
     "name": "stderr",
     "output_type": "stream",
     "text": [
      "0: 384x640 2 K-001901s, 2 K-004378s, 1 K-007024, 3 K-028408s, 1 K-031490, 1 K-044834, 52.0ms\n",
      "Speed: 2.0ms preprocess, 52.0ms inference, 3.0ms postprocess per image at shape (1, 3, 384, 640)\n",
      "\n",
      "0: 384x640 2 K-001901s, 2 K-004378s, 1 K-007024, 1 K-015710, 3 K-028408s, 1 K-031490, 1 K-044834, 52.4ms\n",
      "Speed: 2.0ms preprocess, 52.4ms inference, 2.0ms postprocess per image at shape (1, 3, 384, 640)\n",
      "\n",
      "0: 384x640 2 K-001901s, 2 K-004378s, 1 K-007024, 3 K-028408s, 1 K-031490, 1 K-044834, 51.5ms\n",
      "Speed: 2.0ms preprocess, 51.5ms inference, 2.0ms postprocess per image at shape (1, 3, 384, 640)\n",
      "\n"
     ]
    },
    {
     "name": "stdout",
     "output_type": "stream",
     "text": [
      "Time to process 1 frame: 72 milliseconds\n",
      "Time to process 1 frame: 73 milliseconds\n",
      "Time to process 1 frame: 73 milliseconds\n"
     ]
    },
    {
     "name": "stderr",
     "output_type": "stream",
     "text": [
      "0: 384x640 2 K-001901s, 2 K-004378s, 1 K-007024, 3 K-028408s, 1 K-031490, 1 K-044834, 49.5ms\n",
      "Speed: 2.0ms preprocess, 49.5ms inference, 3.0ms postprocess per image at shape (1, 3, 384, 640)\n",
      "\n",
      "0: 384x640 2 K-001901s, 2 K-004378s, 1 K-007024, 3 K-028408s, 2 K-031490s, 1 K-044834, 52.0ms\n",
      "Speed: 2.0ms preprocess, 52.0ms inference, 2.0ms postprocess per image at shape (1, 3, 384, 640)\n",
      "\n",
      "0: 384x640 2 K-001901s, 2 K-004378s, 1 K-007024, 3 K-028408s, 2 K-031490s, 1 K-044834, 50.7ms\n",
      "Speed: 2.0ms preprocess, 50.7ms inference, 2.0ms postprocess per image at shape (1, 3, 384, 640)\n",
      "\n"
     ]
    },
    {
     "name": "stdout",
     "output_type": "stream",
     "text": [
      "Time to process 1 frame: 72 milliseconds\n",
      "Time to process 1 frame: 73 milliseconds\n",
      "Time to process 1 frame: 72 milliseconds\n"
     ]
    },
    {
     "name": "stderr",
     "output_type": "stream",
     "text": [
      "0: 384x640 2 K-001901s, 2 K-004378s, 1 K-007024, 3 K-028408s, 1 K-031490, 1 K-044834, 49.7ms\n",
      "Speed: 1.0ms preprocess, 49.7ms inference, 3.0ms postprocess per image at shape (1, 3, 384, 640)\n",
      "\n",
      "0: 384x640 2 K-001901s, 2 K-004378s, 1 K-007024, 3 K-028408s, 1 K-031490, 1 K-044834, 50.5ms\n",
      "Speed: 2.0ms preprocess, 50.5ms inference, 2.0ms postprocess per image at shape (1, 3, 384, 640)\n",
      "\n",
      "0: 384x640 2 K-001901s, 2 K-004378s, 1 K-007024, 3 K-028408s, 1 K-031490, 1 K-044834, 52.5ms\n",
      "Speed: 2.0ms preprocess, 52.5ms inference, 2.0ms postprocess per image at shape (1, 3, 384, 640)\n",
      "\n"
     ]
    },
    {
     "name": "stdout",
     "output_type": "stream",
     "text": [
      "Time to process 1 frame: 72 milliseconds\n",
      "Time to process 1 frame: 76 milliseconds\n",
      "Time to process 1 frame: 73 milliseconds\n"
     ]
    },
    {
     "name": "stderr",
     "output_type": "stream",
     "text": [
      "0: 384x640 2 K-001901s, 2 K-004378s, 1 K-007024, 3 K-028408s, 2 K-031490s, 1 K-044834, 51.0ms\n",
      "Speed: 2.0ms preprocess, 51.0ms inference, 3.0ms postprocess per image at shape (1, 3, 384, 640)\n",
      "\n",
      "0: 384x640 2 K-001901s, 2 K-004378s, 1 K-007024, 3 K-028408s, 1 K-031490, 1 K-044834, 53.0ms\n",
      "Speed: 2.0ms preprocess, 53.0ms inference, 2.0ms postprocess per image at shape (1, 3, 384, 640)\n",
      "\n",
      "0: 384x640 2 K-001901s, 2 K-004378s, 1 K-007024, 3 K-028408s, 1 K-031490, 1 K-044834, 50.5ms\n",
      "Speed: 2.0ms preprocess, 50.5ms inference, 2.0ms postprocess per image at shape (1, 3, 384, 640)\n",
      "\n"
     ]
    },
    {
     "name": "stdout",
     "output_type": "stream",
     "text": [
      "Time to process 1 frame: 75 milliseconds\n",
      "Time to process 1 frame: 73 milliseconds\n",
      "Time to process 1 frame: 71 milliseconds\n"
     ]
    },
    {
     "name": "stderr",
     "output_type": "stream",
     "text": [
      "0: 384x640 2 K-001901s, 2 K-004378s, 1 K-007024, 3 K-028408s, 1 K-031490, 1 K-044834, 52.5ms\n",
      "Speed: 2.0ms preprocess, 52.5ms inference, 3.0ms postprocess per image at shape (1, 3, 384, 640)\n",
      "\n",
      "0: 384x640 2 K-001901s, 2 K-004378s, 1 K-007024, 3 K-028408s, 1 K-031490, 1 K-044834, 51.0ms\n",
      "Speed: 2.0ms preprocess, 51.0ms inference, 2.0ms postprocess per image at shape (1, 3, 384, 640)\n",
      "\n",
      "0: 384x640 2 K-001901s, 2 K-004378s, 1 K-007024, 3 K-028408s, 1 K-031490, 1 K-044834, 52.6ms\n",
      "Speed: 2.0ms preprocess, 52.6ms inference, 2.1ms postprocess per image at shape (1, 3, 384, 640)\n",
      "\n"
     ]
    },
    {
     "name": "stdout",
     "output_type": "stream",
     "text": [
      "Time to process 1 frame: 75 milliseconds\n",
      "Time to process 1 frame: 72 milliseconds\n",
      "Time to process 1 frame: 73 milliseconds\n"
     ]
    },
    {
     "name": "stderr",
     "output_type": "stream",
     "text": [
      "0: 384x640 2 K-001901s, 2 K-004378s, 3 K-028408s, 1 K-031490, 1 K-044834, 49.5ms\n",
      "Speed: 3.0ms preprocess, 49.5ms inference, 2.0ms postprocess per image at shape (1, 3, 384, 640)\n",
      "\n",
      "0: 384x640 2 K-001901s, 2 K-004378s, 1 K-007024, 3 K-028408s, 1 K-031490, 1 K-044834, 50.4ms\n",
      "Speed: 2.0ms preprocess, 50.4ms inference, 2.0ms postprocess per image at shape (1, 3, 384, 640)\n",
      "\n",
      "0: 384x640 2 K-001901s, 2 K-004378s, 1 K-007024, 3 K-028408s, 1 K-031490, 1 K-044834, 52.0ms\n",
      "Speed: 2.0ms preprocess, 52.0ms inference, 2.0ms postprocess per image at shape (1, 3, 384, 640)\n",
      "\n"
     ]
    },
    {
     "name": "stdout",
     "output_type": "stream",
     "text": [
      "Time to process 1 frame: 72 milliseconds\n",
      "Time to process 1 frame: 71 milliseconds\n",
      "Time to process 1 frame: 75 milliseconds\n"
     ]
    },
    {
     "name": "stderr",
     "output_type": "stream",
     "text": [
      "0: 384x640 2 K-001901s, 2 K-004378s, 1 K-007024, 3 K-028408s, 2 K-031490s, 1 K-044834, 51.0ms\n",
      "Speed: 2.0ms preprocess, 51.0ms inference, 2.0ms postprocess per image at shape (1, 3, 384, 640)\n",
      "\n",
      "0: 384x640 2 K-001901s, 2 K-004378s, 3 K-028408s, 1 K-031490, 1 K-044834, 51.2ms\n",
      "Speed: 3.0ms preprocess, 51.2ms inference, 2.0ms postprocess per image at shape (1, 3, 384, 640)\n",
      "\n",
      "0: 384x640 2 K-001901s, 2 K-004378s, 1 K-007024, 3 K-028408s, 1 K-031490, 1 K-044834, 51.5ms\n",
      "Speed: 2.0ms preprocess, 51.5ms inference, 2.0ms postprocess per image at shape (1, 3, 384, 640)\n",
      "\n"
     ]
    },
    {
     "name": "stdout",
     "output_type": "stream",
     "text": [
      "Time to process 1 frame: 72 milliseconds\n",
      "Time to process 1 frame: 73 milliseconds\n",
      "Time to process 1 frame: 73 milliseconds\n"
     ]
    },
    {
     "name": "stderr",
     "output_type": "stream",
     "text": [
      "0: 384x640 2 K-001901s, 2 K-004378s, 1 K-007024, 1 K-012769, 3 K-028408s, 2 K-031490s, 1 K-044834, 49.8ms\n",
      "Speed: 2.0ms preprocess, 49.8ms inference, 2.0ms postprocess per image at shape (1, 3, 384, 640)\n",
      "\n",
      "0: 384x640 2 K-001901s, 2 K-004378s, 3 K-028408s, 1 K-031490, 1 K-044834, 53.0ms\n",
      "Speed: 2.0ms preprocess, 53.0ms inference, 2.0ms postprocess per image at shape (1, 3, 384, 640)\n",
      "\n",
      "0: 384x640 2 K-001901s, 1 K-004378, 1 K-012769, 3 K-028408s, 2 K-031490s, 1 K-044834, 50.0ms\n",
      "Speed: 1.5ms preprocess, 50.0ms inference, 2.0ms postprocess per image at shape (1, 3, 384, 640)\n",
      "\n"
     ]
    },
    {
     "name": "stdout",
     "output_type": "stream",
     "text": [
      "Time to process 1 frame: 70 milliseconds\n",
      "Time to process 1 frame: 73 milliseconds\n",
      "Time to process 1 frame: 72 milliseconds\n"
     ]
    },
    {
     "name": "stderr",
     "output_type": "stream",
     "text": [
      "0: 384x640 2 K-001901s, 2 K-004378s, 3 K-028408s, 1 K-031490, 1 K-044834, 51.5ms\n",
      "Speed: 2.0ms preprocess, 51.5ms inference, 2.0ms postprocess per image at shape (1, 3, 384, 640)\n",
      "\n",
      "0: 384x640 2 K-001901s, 2 K-004378s, 1 K-012769, 3 K-028408s, 1 K-031490, 1 K-044834, 50.5ms\n",
      "Speed: 3.0ms preprocess, 50.5ms inference, 2.0ms postprocess per image at shape (1, 3, 384, 640)\n",
      "\n",
      "0: 384x640 2 K-001901s, 2 K-004378s, 1 K-012769, 3 K-028408s, 1 K-031490, 1 K-044834, 49.0ms\n",
      "Speed: 2.0ms preprocess, 49.0ms inference, 2.0ms postprocess per image at shape (1, 3, 384, 640)\n",
      "\n"
     ]
    },
    {
     "name": "stdout",
     "output_type": "stream",
     "text": [
      "Time to process 1 frame: 73 milliseconds\n",
      "Time to process 1 frame: 72 milliseconds\n",
      "Time to process 1 frame: 72 milliseconds\n"
     ]
    },
    {
     "name": "stderr",
     "output_type": "stream",
     "text": [
      "0: 384x640 2 K-001901s, 2 K-004378s, 3 K-028408s, 1 K-031490, 1 K-044834, 50.0ms\n",
      "Speed: 2.0ms preprocess, 50.0ms inference, 3.0ms postprocess per image at shape (1, 3, 384, 640)\n",
      "\n",
      "0: 384x640 2 K-001901s, 2 K-004378s, 1 K-007024, 3 K-028408s, 1 K-031490, 1 K-044834, 51.5ms\n",
      "Speed: 2.0ms preprocess, 51.5ms inference, 3.0ms postprocess per image at shape (1, 3, 384, 640)\n",
      "\n",
      "0: 384x640 2 K-001901s, 2 K-004378s, 1 K-007024, 1 K-012769, 3 K-028408s, 1 K-031490, 1 K-044834, 50.5ms\n",
      "Speed: 2.0ms preprocess, 50.5ms inference, 4.0ms postprocess per image at shape (1, 3, 384, 640)\n",
      "\n"
     ]
    },
    {
     "name": "stdout",
     "output_type": "stream",
     "text": [
      "Time to process 1 frame: 73 milliseconds\n",
      "Time to process 1 frame: 70 milliseconds\n",
      "Time to process 1 frame: 76 milliseconds\n"
     ]
    },
    {
     "name": "stderr",
     "output_type": "stream",
     "text": [
      "0: 384x640 2 K-001901s, 1 K-004378, 1 K-007024, 1 K-012769, 3 K-028408s, 1 K-031490, 1 K-044834, 52.0ms\n",
      "Speed: 2.0ms preprocess, 52.0ms inference, 2.0ms postprocess per image at shape (1, 3, 384, 640)\n",
      "\n",
      "0: 384x640 2 K-001901s, 2 K-004378s, 1 K-012769, 3 K-028408s, 1 K-031490, 1 K-044834, 51.0ms\n",
      "Speed: 2.0ms preprocess, 51.0ms inference, 4.0ms postprocess per image at shape (1, 3, 384, 640)\n",
      "\n",
      "0: 384x640 2 K-001901s, 2 K-004378s, 1 K-007024, 1 K-012769, 3 K-028408s, 2 K-031490s, 1 K-044834, 51.5ms\n",
      "Speed: 2.0ms preprocess, 51.5ms inference, 3.0ms postprocess per image at shape (1, 3, 384, 640)\n",
      "\n"
     ]
    },
    {
     "name": "stdout",
     "output_type": "stream",
     "text": [
      "Time to process 1 frame: 72 milliseconds\n",
      "Time to process 1 frame: 74 milliseconds\n",
      "Time to process 1 frame: 74 milliseconds\n"
     ]
    },
    {
     "name": "stderr",
     "output_type": "stream",
     "text": [
      "0: 384x640 2 K-001901s, 2 K-004378s, 1 K-012769, 3 K-028408s, 1 K-031490, 1 K-044834, 49.5ms\n",
      "Speed: 2.0ms preprocess, 49.5ms inference, 3.0ms postprocess per image at shape (1, 3, 384, 640)\n",
      "\n",
      "0: 384x640 2 K-001901s, 1 K-004378, 1 K-007024, 1 K-012769, 3 K-028408s, 1 K-031490, 1 K-044834, 51.9ms\n",
      "Speed: 2.0ms preprocess, 51.9ms inference, 2.0ms postprocess per image at shape (1, 3, 384, 640)\n",
      "\n",
      "0: 384x640 2 K-001901s, 2 K-004378s, 1 K-012769, 3 K-028408s, 2 K-031490s, 1 K-044834, 50.0ms\n",
      "Speed: 2.0ms preprocess, 50.0ms inference, 2.0ms postprocess per image at shape (1, 3, 384, 640)\n",
      "\n"
     ]
    },
    {
     "name": "stdout",
     "output_type": "stream",
     "text": [
      "Time to process 1 frame: 72 milliseconds\n",
      "Time to process 1 frame: 75 milliseconds\n",
      "Time to process 1 frame: 71 milliseconds\n"
     ]
    },
    {
     "name": "stderr",
     "output_type": "stream",
     "text": [
      "0: 384x640 2 K-001901s, 1 K-004378, 1 K-012769, 3 K-028408s, 2 K-031490s, 1 K-044834, 50.0ms\n",
      "Speed: 2.5ms preprocess, 50.0ms inference, 2.0ms postprocess per image at shape (1, 3, 384, 640)\n",
      "\n",
      "0: 384x640 2 K-001901s, 1 K-004378, 3 K-028408s, 2 K-031490s, 1 K-044834, 51.5ms\n",
      "Speed: 2.0ms preprocess, 51.5ms inference, 4.0ms postprocess per image at shape (1, 3, 384, 640)\n",
      "\n",
      "0: 384x640 2 K-001901s, 1 K-004378, 1 K-012769, 3 K-028408s, 2 K-031490s, 1 K-044834, 50.5ms\n",
      "Speed: 3.0ms preprocess, 50.5ms inference, 2.0ms postprocess per image at shape (1, 3, 384, 640)\n",
      "\n"
     ]
    },
    {
     "name": "stdout",
     "output_type": "stream",
     "text": [
      "Time to process 1 frame: 71 milliseconds\n",
      "Time to process 1 frame: 74 milliseconds\n",
      "Time to process 1 frame: 72 milliseconds\n"
     ]
    },
    {
     "name": "stderr",
     "output_type": "stream",
     "text": [
      "0: 384x640 2 K-001901s, 2 K-004378s, 1 K-012769, 3 K-028408s, 1 K-031490, 1 K-044834, 51.0ms\n",
      "Speed: 2.0ms preprocess, 51.0ms inference, 3.0ms postprocess per image at shape (1, 3, 384, 640)\n",
      "\n",
      "0: 384x640 2 K-001901s, 2 K-004378s, 3 K-028408s, 1 K-031490, 1 K-044834, 53.0ms\n",
      "Speed: 3.0ms preprocess, 53.0ms inference, 2.0ms postprocess per image at shape (1, 3, 384, 640)\n",
      "\n",
      "0: 384x640 2 K-001901s, 2 K-004378s, 1 K-012769, 3 K-028408s, 1 K-031490, 1 K-044834, 50.0ms\n",
      "Speed: 2.1ms preprocess, 50.0ms inference, 2.0ms postprocess per image at shape (1, 3, 384, 640)\n",
      "\n"
     ]
    },
    {
     "name": "stdout",
     "output_type": "stream",
     "text": [
      "Time to process 1 frame: 74 milliseconds\n",
      "Time to process 1 frame: 76 milliseconds\n",
      "Time to process 1 frame: 70 milliseconds\n"
     ]
    },
    {
     "name": "stderr",
     "output_type": "stream",
     "text": [
      "0: 384x640 2 K-001901s, 2 K-004378s, 1 K-012769, 3 K-028408s, 1 K-031490, 1 K-044834, 50.5ms\n",
      "Speed: 3.0ms preprocess, 50.5ms inference, 3.0ms postprocess per image at shape (1, 3, 384, 640)\n",
      "\n",
      "0: 384x640 2 K-001901s, 2 K-004378s, 3 K-028408s, 1 K-031490, 1 K-044834, 53.0ms\n",
      "Speed: 2.0ms preprocess, 53.0ms inference, 1.5ms postprocess per image at shape (1, 3, 384, 640)\n",
      "\n",
      "0: 384x640 2 K-001901s, 2 K-004378s, 1 K-012769, 3 K-028408s, 2 K-031490s, 1 K-044834, 51.0ms\n",
      "Speed: 3.0ms preprocess, 51.0ms inference, 3.0ms postprocess per image at shape (1, 3, 384, 640)\n",
      "\n"
     ]
    },
    {
     "name": "stdout",
     "output_type": "stream",
     "text": [
      "Time to process 1 frame: 73 milliseconds\n",
      "Time to process 1 frame: 78 milliseconds\n",
      "Time to process 1 frame: 74 milliseconds\n"
     ]
    },
    {
     "name": "stderr",
     "output_type": "stream",
     "text": [
      "0: 384x640 2 K-001901s, 2 K-004378s, 1 K-012769, 3 K-028408s, 2 K-031490s, 1 K-044834, 50.0ms\n",
      "Speed: 2.1ms preprocess, 50.0ms inference, 3.0ms postprocess per image at shape (1, 3, 384, 640)\n",
      "\n",
      "0: 384x640 2 K-001901s, 2 K-004378s, 1 K-012769, 1 K-015710, 3 K-028408s, 1 K-031490, 1 K-044834, 50.5ms\n",
      "Speed: 3.0ms preprocess, 50.5ms inference, 4.0ms postprocess per image at shape (1, 3, 384, 640)\n",
      "\n",
      "0: 384x640 2 K-001901s, 1 K-004378, 1 K-012769, 3 K-028408s, 1 K-031490, 1 K-044834, 52.2ms\n",
      "Speed: 2.0ms preprocess, 52.2ms inference, 3.0ms postprocess per image at shape (1, 3, 384, 640)\n",
      "\n"
     ]
    },
    {
     "name": "stdout",
     "output_type": "stream",
     "text": [
      "Time to process 1 frame: 72 milliseconds\n",
      "Time to process 1 frame: 74 milliseconds\n",
      "Time to process 1 frame: 74 milliseconds\n"
     ]
    },
    {
     "name": "stderr",
     "output_type": "stream",
     "text": [
      "0: 384x640 3 K-001901s, 2 K-004378s, 1 K-012769, 3 K-028408s, 1 K-031490, 1 K-044834, 51.0ms\n",
      "Speed: 2.0ms preprocess, 51.0ms inference, 3.0ms postprocess per image at shape (1, 3, 384, 640)\n",
      "\n",
      "0: 384x640 2 K-001901s, 1 K-004378, 1 K-012769, 3 K-028408s, 1 K-031490, 1 K-044834, 53.0ms\n",
      "Speed: 2.0ms preprocess, 53.0ms inference, 2.0ms postprocess per image at shape (1, 3, 384, 640)\n",
      "\n",
      "0: 384x640 2 K-001901s, 1 K-004378, 1 K-012769, 3 K-028408s, 1 K-031490, 1 K-044834, 50.5ms\n",
      "Speed: 2.0ms preprocess, 50.5ms inference, 2.0ms postprocess per image at shape (1, 3, 384, 640)\n",
      "\n"
     ]
    },
    {
     "name": "stdout",
     "output_type": "stream",
     "text": [
      "Time to process 1 frame: 76 milliseconds\n",
      "Time to process 1 frame: 74 milliseconds\n",
      "Time to process 1 frame: 74 milliseconds\n"
     ]
    },
    {
     "name": "stderr",
     "output_type": "stream",
     "text": [
      "0: 384x640 2 K-001901s, 1 K-006697, 1 K-012769, 2 K-015710s, 1 K-028408, 2 K-031490s, 1 K-044834, 50.5ms\n",
      "Speed: 2.0ms preprocess, 50.5ms inference, 3.0ms postprocess per image at shape (1, 3, 384, 640)\n",
      "\n",
      "0: 384x640 2 K-001901s, 1 K-006697, 2 K-015710s, 3 K-031490s, 1 K-044834, 51.5ms\n",
      "Speed: 2.0ms preprocess, 51.5ms inference, 2.0ms postprocess per image at shape (1, 3, 384, 640)\n",
      "\n",
      "0: 384x640 1 K-001901, 1 K-006697, 1 K-007024, 1 K-031490, 1 K-038722, 1 K-044834, 49.0ms\n",
      "Speed: 3.0ms preprocess, 49.0ms inference, 3.0ms postprocess per image at shape (1, 3, 384, 640)\n",
      "\n"
     ]
    },
    {
     "name": "stdout",
     "output_type": "stream",
     "text": [
      "Time to process 1 frame: 72 milliseconds\n",
      "Time to process 1 frame: 74 milliseconds\n",
      "Time to process 1 frame: 70 milliseconds\n"
     ]
    },
    {
     "name": "stderr",
     "output_type": "stream",
     "text": [
      "0: 384x640 2 K-006697s, 2 K-031490s, 1 K-044834, 50.3ms\n",
      "Speed: 2.1ms preprocess, 50.3ms inference, 3.0ms postprocess per image at shape (1, 3, 384, 640)\n",
      "\n",
      "0: 384x640 (no detections), 52.1ms\n",
      "Speed: 3.0ms preprocess, 52.1ms inference, 1.0ms postprocess per image at shape (1, 3, 384, 640)\n",
      "\n",
      "0: 384x640 1 K-001901, 51.1ms\n",
      "Speed: 2.0ms preprocess, 51.1ms inference, 2.0ms postprocess per image at shape (1, 3, 384, 640)\n",
      "\n"
     ]
    },
    {
     "name": "stdout",
     "output_type": "stream",
     "text": [
      "Time to process 1 frame: 70 milliseconds\n",
      "Time to process 1 frame: 69 milliseconds\n",
      "Time to process 1 frame: 69 milliseconds\n"
     ]
    },
    {
     "name": "stderr",
     "output_type": "stream",
     "text": [
      "0: 384x640 (no detections), 53.0ms\n",
      "Speed: 2.0ms preprocess, 53.0ms inference, 2.0ms postprocess per image at shape (1, 3, 384, 640)\n",
      "\n",
      "0: 384x640 (no detections), 51.0ms\n",
      "Speed: 1.3ms preprocess, 51.0ms inference, 1.0ms postprocess per image at shape (1, 3, 384, 640)\n",
      "\n",
      "0: 384x640 (no detections), 53.4ms\n",
      "Speed: 2.0ms preprocess, 53.4ms inference, 1.0ms postprocess per image at shape (1, 3, 384, 640)\n",
      "\n"
     ]
    },
    {
     "name": "stdout",
     "output_type": "stream",
     "text": [
      "Time to process 1 frame: 71 milliseconds\n",
      "Time to process 1 frame: 68 milliseconds\n",
      "Time to process 1 frame: 69 milliseconds\n"
     ]
    },
    {
     "name": "stderr",
     "output_type": "stream",
     "text": [
      "0: 384x640 (no detections), 53.1ms\n",
      "Speed: 2.0ms preprocess, 53.1ms inference, 1.3ms postprocess per image at shape (1, 3, 384, 640)\n",
      "\n",
      "0: 384x640 (no detections), 51.0ms\n",
      "Speed: 3.0ms preprocess, 51.0ms inference, 2.0ms postprocess per image at shape (1, 3, 384, 640)\n",
      "\n",
      "0: 384x640 (no detections), 50.0ms\n",
      "Speed: 3.2ms preprocess, 50.0ms inference, 1.0ms postprocess per image at shape (1, 3, 384, 640)\n",
      "\n"
     ]
    },
    {
     "name": "stdout",
     "output_type": "stream",
     "text": [
      "Time to process 1 frame: 70 milliseconds\n",
      "Time to process 1 frame: 68 milliseconds\n",
      "Time to process 1 frame: 68 milliseconds\n"
     ]
    },
    {
     "name": "stderr",
     "output_type": "stream",
     "text": [
      "0: 384x640 (no detections), 50.5ms\n",
      "Speed: 2.0ms preprocess, 50.5ms inference, 1.0ms postprocess per image at shape (1, 3, 384, 640)\n",
      "\n",
      "0: 384x640 1 K-007024, 53.0ms\n",
      "Speed: 2.0ms preprocess, 53.0ms inference, 1.0ms postprocess per image at shape (1, 3, 384, 640)\n",
      "\n",
      "0: 384x640 3 K-006697s, 51.0ms\n",
      "Speed: 2.0ms preprocess, 51.0ms inference, 2.0ms postprocess per image at shape (1, 3, 384, 640)\n",
      "\n"
     ]
    },
    {
     "name": "stdout",
     "output_type": "stream",
     "text": [
      "Time to process 1 frame: 67 milliseconds\n",
      "Time to process 1 frame: 71 milliseconds\n",
      "Time to process 1 frame: 69 milliseconds\n"
     ]
    },
    {
     "name": "stderr",
     "output_type": "stream",
     "text": [
      "0: 384x640 1 K-001901, 1 K-006697, 5 K-031490s, 50.2ms\n",
      "Speed: 2.0ms preprocess, 50.2ms inference, 3.0ms postprocess per image at shape (1, 3, 384, 640)\n",
      "\n",
      "0: 384x640 1 K-001901, 1 K-006697, 2 K-031490s, 51.4ms\n",
      "Speed: 2.0ms preprocess, 51.4ms inference, 1.6ms postprocess per image at shape (1, 3, 384, 640)\n",
      "\n",
      "0: 384x640 1 K-006697, 2 K-031490s, 51.0ms\n",
      "Speed: 2.0ms preprocess, 51.0ms inference, 3.5ms postprocess per image at shape (1, 3, 384, 640)\n",
      "\n"
     ]
    },
    {
     "name": "stdout",
     "output_type": "stream",
     "text": [
      "Time to process 1 frame: 70 milliseconds\n",
      "Time to process 1 frame: 70 milliseconds\n",
      "Time to process 1 frame: 74 milliseconds\n"
     ]
    },
    {
     "name": "stderr",
     "output_type": "stream",
     "text": [
      "0: 384x640 1 K-006697, 3 K-031490s, 53.0ms\n",
      "Speed: 2.0ms preprocess, 53.0ms inference, 3.0ms postprocess per image at shape (1, 3, 384, 640)\n",
      "\n",
      "0: 384x640 1 K-001901, 1 K-006697, 4 K-031490s, 1 K-041149, 50.5ms\n",
      "Speed: 2.0ms preprocess, 50.5ms inference, 2.0ms postprocess per image at shape (1, 3, 384, 640)\n",
      "\n",
      "0: 384x640 1 K-001901, 1 K-006697, 1 K-015710, 4 K-031490s, 50.1ms\n",
      "Speed: 2.0ms preprocess, 50.1ms inference, 3.0ms postprocess per image at shape (1, 3, 384, 640)\n",
      "\n"
     ]
    },
    {
     "name": "stdout",
     "output_type": "stream",
     "text": [
      "Time to process 1 frame: 72 milliseconds\n",
      "Time to process 1 frame: 71 milliseconds\n",
      "Time to process 1 frame: 70 milliseconds\n"
     ]
    },
    {
     "name": "stderr",
     "output_type": "stream",
     "text": [
      "0: 384x640 1 K-001901, 1 K-006697, 4 K-031490s, 51.5ms\n",
      "Speed: 2.0ms preprocess, 51.5ms inference, 2.0ms postprocess per image at shape (1, 3, 384, 640)\n",
      "\n",
      "0: 384x640 1 K-001901, 1 K-006697, 2 K-015710s, 4 K-031490s, 52.0ms\n",
      "Speed: 3.0ms preprocess, 52.0ms inference, 2.0ms postprocess per image at shape (1, 3, 384, 640)\n",
      "\n",
      "0: 384x640 1 K-001901, 1 K-006697, 1 K-015710, 4 K-031490s, 51.1ms\n",
      "Speed: 2.0ms preprocess, 51.1ms inference, 3.0ms postprocess per image at shape (1, 3, 384, 640)\n",
      "\n"
     ]
    },
    {
     "name": "stdout",
     "output_type": "stream",
     "text": [
      "Time to process 1 frame: 71 milliseconds\n",
      "Time to process 1 frame: 73 milliseconds\n",
      "Time to process 1 frame: 74 milliseconds\n"
     ]
    },
    {
     "name": "stderr",
     "output_type": "stream",
     "text": [
      "0: 384x640 1 K-001901, 1 K-006697, 2 K-028408s, 2 K-031490s, 1 K-044834, 52.5ms\n",
      "Speed: 2.0ms preprocess, 52.5ms inference, 2.0ms postprocess per image at shape (1, 3, 384, 640)\n",
      "\n",
      "0: 384x640 1 K-001901, 1 K-006697, 2 K-028408s, 2 K-031490s, 1 K-044834, 50.5ms\n",
      "Speed: 2.0ms preprocess, 50.5ms inference, 2.0ms postprocess per image at shape (1, 3, 384, 640)\n",
      "\n",
      "0: 384x640 1 K-001901, 1 K-006697, 2 K-028408s, 3 K-031490s, 51.0ms\n",
      "Speed: 2.0ms preprocess, 51.0ms inference, 3.0ms postprocess per image at shape (1, 3, 384, 640)\n",
      "\n"
     ]
    },
    {
     "name": "stdout",
     "output_type": "stream",
     "text": [
      "Time to process 1 frame: 73 milliseconds\n",
      "Time to process 1 frame: 71 milliseconds\n",
      "Time to process 1 frame: 72 milliseconds\n"
     ]
    },
    {
     "name": "stderr",
     "output_type": "stream",
     "text": [
      "0: 384x640 1 K-001901, 1 K-004378, 2 K-006697s, 2 K-028408s, 3 K-031490s, 1 K-044834, 53.0ms\n",
      "Speed: 2.0ms preprocess, 53.0ms inference, 2.0ms postprocess per image at shape (1, 3, 384, 640)\n",
      "\n",
      "0: 384x640 1 K-001901, 1 K-006697, 1 K-015710, 1 K-028408, 5 K-031490s, 50.5ms\n",
      "Speed: 2.0ms preprocess, 50.5ms inference, 2.0ms postprocess per image at shape (1, 3, 384, 640)\n",
      "\n",
      "0: 384x640 1 K-001901, 1 K-006697, 2 K-028408s, 3 K-031490s, 1 K-044834, 52.9ms\n",
      "Speed: 3.0ms preprocess, 52.9ms inference, 2.1ms postprocess per image at shape (1, 3, 384, 640)\n",
      "\n"
     ]
    },
    {
     "name": "stdout",
     "output_type": "stream",
     "text": [
      "Time to process 1 frame: 73 milliseconds\n",
      "Time to process 1 frame: 72 milliseconds\n",
      "Time to process 1 frame: 74 milliseconds\n"
     ]
    },
    {
     "name": "stderr",
     "output_type": "stream",
     "text": [
      "0: 384x640 1 K-001901, 1 K-004378, 1 K-006697, 2 K-028408s, 3 K-031490s, 50.3ms\n",
      "Speed: 2.0ms preprocess, 50.3ms inference, 3.0ms postprocess per image at shape (1, 3, 384, 640)\n",
      "\n",
      "0: 384x640 1 K-001901, 1 K-006697, 3 K-028408s, 2 K-031490s, 1 K-044834, 51.0ms\n",
      "Speed: 3.0ms preprocess, 51.0ms inference, 2.0ms postprocess per image at shape (1, 3, 384, 640)\n",
      "\n",
      "0: 384x640 1 K-001901, 1 K-006697, 2 K-028408s, 3 K-031490s, 1 K-044834, 51.0ms\n",
      "Speed: 2.0ms preprocess, 51.0ms inference, 3.0ms postprocess per image at shape (1, 3, 384, 640)\n",
      "\n"
     ]
    },
    {
     "name": "stdout",
     "output_type": "stream",
     "text": [
      "Time to process 1 frame: 72 milliseconds\n",
      "Time to process 1 frame: 72 milliseconds\n",
      "Time to process 1 frame: 73 milliseconds\n"
     ]
    },
    {
     "name": "stderr",
     "output_type": "stream",
     "text": [
      "0: 384x640 1 K-001901, 1 K-006697, 2 K-028408s, 2 K-031490s, 1 K-044834, 52.1ms\n",
      "Speed: 2.0ms preprocess, 52.1ms inference, 3.0ms postprocess per image at shape (1, 3, 384, 640)\n",
      "\n",
      "0: 384x640 1 K-001901, 1 K-006697, 3 K-028408s, 3 K-031490s, 50.5ms\n",
      "Speed: 2.0ms preprocess, 50.5ms inference, 4.0ms postprocess per image at shape (1, 3, 384, 640)\n",
      "\n",
      "0: 384x640 1 K-001901, 1 K-006697, 2 K-028408s, 3 K-031490s, 1 K-044834, 48.0ms\n",
      "Speed: 2.0ms preprocess, 48.0ms inference, 3.0ms postprocess per image at shape (1, 3, 384, 640)\n"
     ]
    },
    {
     "name": "stdout",
     "output_type": "stream",
     "text": [
      "Time to process 1 frame: 73 milliseconds\n",
      "Time to process 1 frame: 75 milliseconds\n",
      "Time to process 1 frame: 71 milliseconds\n"
     ]
    },
    {
     "name": "stderr",
     "output_type": "stream",
     "text": [
      "\n",
      "0: 384x640 1 K-001901, 1 K-006697, 2 K-028408s, 3 K-031490s, 48.5ms\n",
      "Speed: 2.0ms preprocess, 48.5ms inference, 3.0ms postprocess per image at shape (1, 3, 384, 640)\n",
      "\n",
      "0: 384x640 1 K-001901, 1 K-004378, 3 K-028408s, 2 K-031490s, 1 K-044834, 46.9ms\n",
      "Speed: 2.0ms preprocess, 46.9ms inference, 2.6ms postprocess per image at shape (1, 3, 384, 640)\n",
      "\n",
      "0: 384x640 1 K-001901, 1 K-006697, 3 K-028408s, 2 K-031490s, 1 K-044834, 46.0ms\n",
      "Speed: 2.0ms preprocess, 46.0ms inference, 3.0ms postprocess per image at shape (1, 3, 384, 640)\n",
      "\n"
     ]
    },
    {
     "name": "stdout",
     "output_type": "stream",
     "text": [
      "Time to process 1 frame: 73 milliseconds\n",
      "Time to process 1 frame: 70 milliseconds\n",
      "Time to process 1 frame: 69 milliseconds\n"
     ]
    },
    {
     "name": "stderr",
     "output_type": "stream",
     "text": [
      "0: 384x640 1 K-001901, 1 K-004378, 1 K-006697, 3 K-028408s, 2 K-031490s, 1 K-044834, 47.0ms\n",
      "Speed: 2.0ms preprocess, 47.0ms inference, 4.0ms postprocess per image at shape (1, 3, 384, 640)\n",
      "\n",
      "0: 384x640 1 K-001901, 1 K-006697, 3 K-028408s, 2 K-031490s, 1 K-044834, 47.1ms\n",
      "Speed: 2.0ms preprocess, 47.1ms inference, 2.0ms postprocess per image at shape (1, 3, 384, 640)\n",
      "\n",
      "0: 384x640 1 K-001901, 1 K-006697, 2 K-028408s, 2 K-031490s, 1 K-044834, 48.0ms\n",
      "Speed: 2.0ms preprocess, 48.0ms inference, 2.0ms postprocess per image at shape (1, 3, 384, 640)\n"
     ]
    },
    {
     "name": "stdout",
     "output_type": "stream",
     "text": [
      "Time to process 1 frame: 70 milliseconds\n",
      "Time to process 1 frame: 69 milliseconds\n",
      "Time to process 1 frame: 71 milliseconds\n"
     ]
    },
    {
     "name": "stderr",
     "output_type": "stream",
     "text": [
      "\n",
      "0: 384x640 2 K-001901s, 1 K-006697, 2 K-028408s, 3 K-031490s, 2 K-044834s, 46.0ms\n",
      "Speed: 2.0ms preprocess, 46.0ms inference, 3.0ms postprocess per image at shape (1, 3, 384, 640)\n",
      "\n",
      "0: 384x640 2 K-001901s, 1 K-004378, 1 K-006697, 2 K-028408s, 2 K-031490s, 1 K-044834, 48.0ms\n",
      "Speed: 2.0ms preprocess, 48.0ms inference, 3.0ms postprocess per image at shape (1, 3, 384, 640)\n",
      "\n",
      "0: 384x640 2 K-001901s, 1 K-006697, 2 K-015710s, 3 K-031490s, 1 K-044834, 47.5ms\n",
      "Speed: 2.0ms preprocess, 47.5ms inference, 2.0ms postprocess per image at shape (1, 3, 384, 640)\n",
      "\n"
     ]
    },
    {
     "name": "stdout",
     "output_type": "stream",
     "text": [
      "Time to process 1 frame: 67 milliseconds\n",
      "Time to process 1 frame: 73 milliseconds\n",
      "Time to process 1 frame: 70 milliseconds\n"
     ]
    },
    {
     "name": "stderr",
     "output_type": "stream",
     "text": [
      "0: 384x640 2 K-001901s, 1 K-006697, 1 K-015710, 5 K-031490s, 48.6ms\n",
      "Speed: 2.1ms preprocess, 48.6ms inference, 2.0ms postprocess per image at shape (1, 3, 384, 640)\n",
      "\n",
      "0: 384x640 2 K-001901s, 1 K-006697, 1 K-015710, 5 K-031490s, 48.0ms\n",
      "Speed: 2.0ms preprocess, 48.0ms inference, 3.0ms postprocess per image at shape (1, 3, 384, 640)\n",
      "\n",
      "0: 384x640 2 K-001901s, 1 K-006697, 1 K-015710, 1 K-028408, 5 K-031490s, 48.0ms\n",
      "Speed: 2.0ms preprocess, 48.0ms inference, 3.0ms postprocess per image at shape (1, 3, 384, 640)\n",
      "\n"
     ]
    },
    {
     "name": "stdout",
     "output_type": "stream",
     "text": [
      "Time to process 1 frame: 69 milliseconds\n",
      "Time to process 1 frame: 70 milliseconds\n",
      "Time to process 1 frame: 70 milliseconds\n"
     ]
    },
    {
     "name": "stderr",
     "output_type": "stream",
     "text": [
      "0: 384x640 2 K-001901s, 1 K-006697, 2 K-015710s, 3 K-031490s, 48.5ms\n",
      "Speed: 2.0ms preprocess, 48.5ms inference, 3.0ms postprocess per image at shape (1, 3, 384, 640)\n",
      "\n",
      "0: 384x640 2 K-001901s, 1 K-006697, 1 K-015710, 2 K-028408s, 3 K-031490s, 1 K-044834, 48.5ms\n",
      "Speed: 2.0ms preprocess, 48.5ms inference, 3.0ms postprocess per image at shape (1, 3, 384, 640)\n",
      "\n",
      "0: 384x640 2 K-001901s, 1 K-004378, 3 K-028408s, 1 K-031490, 1 K-044834, 47.0ms\n",
      "Speed: 2.0ms preprocess, 47.0ms inference, 4.0ms postprocess per image at shape (1, 3, 384, 640)\n",
      "\n"
     ]
    },
    {
     "name": "stdout",
     "output_type": "stream",
     "text": [
      "Time to process 1 frame: 70 milliseconds\n",
      "Time to process 1 frame: 72 milliseconds\n",
      "Time to process 1 frame: 68 milliseconds\n"
     ]
    },
    {
     "name": "stderr",
     "output_type": "stream",
     "text": [
      "0: 384x640 2 K-001901s, 1 K-006697, 2 K-028408s, 3 K-031490s, 1 K-044834, 48.0ms\n",
      "Speed: 3.0ms preprocess, 48.0ms inference, 3.2ms postprocess per image at shape (1, 3, 384, 640)\n",
      "\n",
      "0: 384x640 2 K-001901s, 1 K-006697, 2 K-028408s, 2 K-031490s, 1 K-044834, 47.5ms\n",
      "Speed: 2.0ms preprocess, 47.5ms inference, 3.0ms postprocess per image at shape (1, 3, 384, 640)\n",
      "\n",
      "0: 384x640 2 K-001901s, 1 K-004378, 1 K-006697, 2 K-028408s, 3 K-031490s, 1 K-044834, 47.5ms\n",
      "Speed: 2.0ms preprocess, 47.5ms inference, 2.0ms postprocess per image at shape (1, 3, 384, 640)\n",
      "\n"
     ]
    },
    {
     "name": "stdout",
     "output_type": "stream",
     "text": [
      "Time to process 1 frame: 70 milliseconds\n",
      "Time to process 1 frame: 69 milliseconds\n",
      "Time to process 1 frame: 70 milliseconds\n"
     ]
    },
    {
     "name": "stderr",
     "output_type": "stream",
     "text": [
      "0: 384x640 2 K-001901s, 1 K-006697, 2 K-028408s, 2 K-031490s, 1 K-044834, 47.0ms\n",
      "Speed: 2.0ms preprocess, 47.0ms inference, 4.0ms postprocess per image at shape (1, 3, 384, 640)\n",
      "\n",
      "0: 384x640 2 K-001901s, 1 K-006697, 1 K-015710, 4 K-031490s, 1 K-044834, 47.0ms\n",
      "Speed: 2.1ms preprocess, 47.0ms inference, 5.0ms postprocess per image at shape (1, 3, 384, 640)\n",
      "\n",
      "0: 384x640 2 K-001901s, 1 K-006697, 1 K-015710, 4 K-031490s, 1 K-044834, 47.2ms\n",
      "Speed: 2.0ms preprocess, 47.2ms inference, 3.0ms postprocess per image at shape (1, 3, 384, 640)\n",
      "\n"
     ]
    },
    {
     "name": "stdout",
     "output_type": "stream",
     "text": [
      "Time to process 1 frame: 70 milliseconds\n",
      "Time to process 1 frame: 72 milliseconds\n",
      "Time to process 1 frame: 69 milliseconds\n"
     ]
    },
    {
     "name": "stderr",
     "output_type": "stream",
     "text": [
      "0: 384x640 1 K-001901, 1 K-006697, 5 K-031490s, 47.0ms\n",
      "Speed: 2.0ms preprocess, 47.0ms inference, 5.1ms postprocess per image at shape (1, 3, 384, 640)\n",
      "\n",
      "0: 384x640 1 K-001901, 1 K-006697, 5 K-031490s, 53.2ms\n",
      "Speed: 3.0ms preprocess, 53.2ms inference, 3.0ms postprocess per image at shape (1, 3, 384, 640)\n",
      "\n",
      "0: 384x640 1 K-001901, 1 K-006697, 2 K-031490s, 54.0ms\n",
      "Speed: 2.0ms preprocess, 54.0ms inference, 2.0ms postprocess per image at shape (1, 3, 384, 640)\n",
      "\n"
     ]
    },
    {
     "name": "stdout",
     "output_type": "stream",
     "text": [
      "Time to process 1 frame: 73 milliseconds\n",
      "Time to process 1 frame: 77 milliseconds\n",
      "Time to process 1 frame: 74 milliseconds\n"
     ]
    },
    {
     "name": "stderr",
     "output_type": "stream",
     "text": [
      "0: 384x640 1 K-001901, 2 K-006697s, 2 K-031490s, 54.0ms\n",
      "Speed: 3.0ms preprocess, 54.0ms inference, 2.0ms postprocess per image at shape (1, 3, 384, 640)\n",
      "\n",
      "0: 384x640 (no detections), 54.5ms\n",
      "Speed: 3.0ms preprocess, 54.5ms inference, 1.0ms postprocess per image at shape (1, 3, 384, 640)\n",
      "\n",
      "0: 384x640 (no detections), 52.3ms\n",
      "Speed: 2.0ms preprocess, 52.3ms inference, 2.0ms postprocess per image at shape (1, 3, 384, 640)\n",
      "\n"
     ]
    },
    {
     "name": "stdout",
     "output_type": "stream",
     "text": [
      "Time to process 1 frame: 76 milliseconds\n",
      "Time to process 1 frame: 72 milliseconds\n",
      "Time to process 1 frame: 70 milliseconds\n"
     ]
    },
    {
     "name": "stderr",
     "output_type": "stream",
     "text": [
      "0: 384x640 (no detections), 54.0ms\n",
      "Speed: 3.0ms preprocess, 54.0ms inference, 2.0ms postprocess per image at shape (1, 3, 384, 640)\n",
      "\n",
      "0: 384x640 (no detections), 52.7ms\n",
      "Speed: 3.0ms preprocess, 52.7ms inference, 2.1ms postprocess per image at shape (1, 3, 384, 640)\n",
      "\n",
      "0: 384x640 (no detections), 54.5ms\n",
      "Speed: 2.0ms preprocess, 54.5ms inference, 2.0ms postprocess per image at shape (1, 3, 384, 640)\n",
      "\n"
     ]
    },
    {
     "name": "stdout",
     "output_type": "stream",
     "text": [
      "Time to process 1 frame: 72 milliseconds\n",
      "Time to process 1 frame: 72 milliseconds\n",
      "Time to process 1 frame: 75 milliseconds\n"
     ]
    },
    {
     "name": "stderr",
     "output_type": "stream",
     "text": [
      "0: 384x640 (no detections), 53.5ms\n",
      "Speed: 3.0ms preprocess, 53.5ms inference, 2.0ms postprocess per image at shape (1, 3, 384, 640)\n",
      "\n",
      "0: 384x640 (no detections), 57.5ms\n",
      "Speed: 2.0ms preprocess, 57.5ms inference, 1.0ms postprocess per image at shape (1, 3, 384, 640)\n",
      "\n",
      "0: 384x640 (no detections), 53.0ms\n",
      "Speed: 2.0ms preprocess, 53.0ms inference, 3.0ms postprocess per image at shape (1, 3, 384, 640)\n",
      "\n"
     ]
    },
    {
     "name": "stdout",
     "output_type": "stream",
     "text": [
      "Time to process 1 frame: 73 milliseconds\n",
      "Time to process 1 frame: 75 milliseconds\n",
      "Time to process 1 frame: 73 milliseconds\n"
     ]
    },
    {
     "name": "stderr",
     "output_type": "stream",
     "text": [
      "0: 384x640 (no detections), 52.0ms\n",
      "Speed: 2.0ms preprocess, 52.0ms inference, 1.0ms postprocess per image at shape (1, 3, 384, 640)\n",
      "\n",
      "0: 384x640 (no detections), 55.5ms\n",
      "Speed: 2.0ms preprocess, 55.5ms inference, 1.0ms postprocess per image at shape (1, 3, 384, 640)\n",
      "\n",
      "0: 384x640 (no detections), 52.5ms\n",
      "Speed: 2.0ms preprocess, 52.5ms inference, 1.0ms postprocess per image at shape (1, 3, 384, 640)\n",
      "\n"
     ]
    },
    {
     "name": "stdout",
     "output_type": "stream",
     "text": [
      "Time to process 1 frame: 69 milliseconds\n",
      "Time to process 1 frame: 73 milliseconds\n",
      "Time to process 1 frame: 71 milliseconds\n"
     ]
    },
    {
     "name": "stderr",
     "output_type": "stream",
     "text": [
      "0: 384x640 2 K-006697s, 2 K-031490s, 54.0ms\n",
      "Speed: 2.0ms preprocess, 54.0ms inference, 2.3ms postprocess per image at shape (1, 3, 384, 640)\n",
      "\n",
      "0: 384x640 2 K-001901s, 1 K-006697, 1 K-015710, 1 K-028408, 2 K-031490s, 1 K-044834, 52.6ms\n",
      "Speed: 3.0ms preprocess, 52.6ms inference, 2.0ms postprocess per image at shape (1, 3, 384, 640)\n",
      "\n",
      "0: 384x640 2 K-001901s, 1 K-006697, 5 K-031490s, 52.0ms\n",
      "Speed: 2.0ms preprocess, 52.0ms inference, 4.0ms postprocess per image at shape (1, 3, 384, 640)\n",
      "\n"
     ]
    },
    {
     "name": "stdout",
     "output_type": "stream",
     "text": [
      "Time to process 1 frame: 73 milliseconds\n",
      "Time to process 1 frame: 75 milliseconds\n",
      "Time to process 1 frame: 75 milliseconds\n"
     ]
    },
    {
     "name": "stderr",
     "output_type": "stream",
     "text": [
      "0: 384x640 2 K-001901s, 1 K-006697, 1 K-015710, 4 K-031490s, 54.5ms\n",
      "Speed: 3.0ms preprocess, 54.5ms inference, 4.0ms postprocess per image at shape (1, 3, 384, 640)\n",
      "\n",
      "0: 384x640 2 K-001901s, 1 K-006697, 2 K-015710s, 4 K-031490s, 52.5ms\n",
      "Speed: 3.0ms preprocess, 52.5ms inference, 3.0ms postprocess per image at shape (1, 3, 384, 640)\n",
      "\n",
      "0: 384x640 1 K-001901, 2 K-006697s, 1 K-024127, 4 K-031490s, 57.3ms\n",
      "Speed: 2.0ms preprocess, 57.3ms inference, 2.0ms postprocess per image at shape (1, 3, 384, 640)\n",
      "\n"
     ]
    },
    {
     "name": "stdout",
     "output_type": "stream",
     "text": [
      "Time to process 1 frame: 78 milliseconds\n",
      "Time to process 1 frame: 77 milliseconds\n",
      "Time to process 1 frame: 77 milliseconds\n"
     ]
    },
    {
     "name": "stderr",
     "output_type": "stream",
     "text": [
      "0: 384x640 2 K-001901s, 1 K-006697, 1 K-028408, 4 K-031490s, 53.0ms\n",
      "Speed: 3.0ms preprocess, 53.0ms inference, 2.0ms postprocess per image at shape (1, 3, 384, 640)\n",
      "\n",
      "0: 384x640 2 K-001901s, 1 K-006697, 1 K-024127, 5 K-031490s, 57.0ms\n",
      "Speed: 4.0ms preprocess, 57.0ms inference, 3.0ms postprocess per image at shape (1, 3, 384, 640)\n",
      "\n",
      "0: 384x640 2 K-001901s, 1 K-006697, 5 K-031490s, 50.0ms\n",
      "Speed: 3.0ms preprocess, 50.0ms inference, 2.0ms postprocess per image at shape (1, 3, 384, 640)\n",
      "\n"
     ]
    },
    {
     "name": "stdout",
     "output_type": "stream",
     "text": [
      "Time to process 1 frame: 77 milliseconds\n",
      "Time to process 1 frame: 82 milliseconds\n",
      "Time to process 1 frame: 71 milliseconds\n"
     ]
    },
    {
     "name": "stderr",
     "output_type": "stream",
     "text": [
      "0: 384x640 2 K-001901s, 1 K-006697, 4 K-031490s, 52.5ms\n",
      "Speed: 2.0ms preprocess, 52.5ms inference, 4.0ms postprocess per image at shape (1, 3, 384, 640)\n",
      "\n",
      "0: 384x640 2 K-001901s, 3 K-006697s, 1 K-016548, 1 K-031490, 50.5ms\n",
      "Speed: 2.0ms preprocess, 50.5ms inference, 2.0ms postprocess per image at shape (1, 3, 384, 640)\n",
      "\n",
      "0: 384x640 1 K-001901, 1 K-006697, 4 K-031490s, 49.4ms\n",
      "Speed: 2.0ms preprocess, 49.4ms inference, 2.6ms postprocess per image at shape (1, 3, 384, 640)\n",
      "\n"
     ]
    },
    {
     "name": "stdout",
     "output_type": "stream",
     "text": [
      "Time to process 1 frame: 76 milliseconds\n",
      "Time to process 1 frame: 71 milliseconds\n",
      "Time to process 1 frame: 69 milliseconds\n"
     ]
    },
    {
     "name": "stderr",
     "output_type": "stream",
     "text": [
      "0: 384x640 2 K-001901s, 1 K-006697, 4 K-031490s, 49.0ms\n",
      "Speed: 2.0ms preprocess, 49.0ms inference, 3.0ms postprocess per image at shape (1, 3, 384, 640)\n",
      "\n",
      "0: 384x640 2 K-001901s, 1 K-004378, 1 K-006697, 4 K-031490s, 51.5ms\n",
      "Speed: 3.0ms preprocess, 51.5ms inference, 3.0ms postprocess per image at shape (1, 3, 384, 640)\n",
      "\n",
      "0: 384x640 2 K-001901s, 1 K-006697, 4 K-031490s, 49.3ms\n",
      "Speed: 4.0ms preprocess, 49.3ms inference, 3.0ms postprocess per image at shape (1, 3, 384, 640)\n",
      "\n"
     ]
    },
    {
     "name": "stdout",
     "output_type": "stream",
     "text": [
      "Time to process 1 frame: 70 milliseconds\n",
      "Time to process 1 frame: 75 milliseconds\n",
      "Time to process 1 frame: 73 milliseconds\n"
     ]
    },
    {
     "name": "stderr",
     "output_type": "stream",
     "text": [
      "0: 384x640 2 K-001901s, 1 K-004378, 1 K-006697, 1 K-015710, 1 K-028408, 2 K-031490s, 1 K-044834, 52.2ms\n",
      "Speed: 2.0ms preprocess, 52.2ms inference, 2.0ms postprocess per image at shape (1, 3, 384, 640)\n",
      "\n",
      "0: 384x640 2 K-001901s, 1 K-006697, 3 K-031490s, 1 K-044834, 50.0ms\n",
      "Speed: 3.0ms preprocess, 50.0ms inference, 2.0ms postprocess per image at shape (1, 3, 384, 640)\n",
      "\n",
      "0: 384x640 2 K-001901s, 1 K-006697, 4 K-031490s, 52.0ms\n",
      "Speed: 1.5ms preprocess, 52.0ms inference, 3.0ms postprocess per image at shape (1, 3, 384, 640)\n",
      "\n"
     ]
    },
    {
     "name": "stdout",
     "output_type": "stream",
     "text": [
      "Time to process 1 frame: 73 milliseconds\n",
      "Time to process 1 frame: 70 milliseconds\n",
      "Time to process 1 frame: 72 milliseconds\n"
     ]
    },
    {
     "name": "stderr",
     "output_type": "stream",
     "text": [
      "0: 384x640 2 K-001901s, 1 K-004378, 1 K-016548, 1 K-031490, 3 K-044834s, 49.9ms\n",
      "Speed: 2.0ms preprocess, 49.9ms inference, 2.0ms postprocess per image at shape (1, 3, 384, 640)\n",
      "\n",
      "0: 384x640 2 K-001901s, 1 K-004378, 1 K-031490, 3 K-044834s, 52.5ms\n",
      "Speed: 3.0ms preprocess, 52.5ms inference, 2.0ms postprocess per image at shape (1, 3, 384, 640)\n",
      "\n",
      "0: 384x640 2 K-001901s, 1 K-006697, 1 K-007024, 2 K-031490s, 1 K-044834, 50.0ms\n",
      "Speed: 3.0ms preprocess, 50.0ms inference, 3.0ms postprocess per image at shape (1, 3, 384, 640)\n",
      "\n"
     ]
    },
    {
     "name": "stdout",
     "output_type": "stream",
     "text": [
      "Time to process 1 frame: 72 milliseconds\n",
      "Time to process 1 frame: 73 milliseconds\n",
      "Time to process 1 frame: 73 milliseconds\n"
     ]
    },
    {
     "name": "stderr",
     "output_type": "stream",
     "text": [
      "0: 384x640 2 K-001901s, 1 K-006697, 3 K-031490s, 50.0ms\n",
      "Speed: 2.0ms preprocess, 50.0ms inference, 4.0ms postprocess per image at shape (1, 3, 384, 640)\n",
      "\n",
      "0: 384x640 2 K-001901s, 1 K-004378, 1 K-006697, 2 K-031490s, 1 K-044834, 52.5ms\n",
      "Speed: 2.0ms preprocess, 52.5ms inference, 3.0ms postprocess per image at shape (1, 3, 384, 640)\n",
      "\n",
      "0: 384x640 2 K-001901s, 1 K-006697, 4 K-031490s, 1 K-044834, 57.5ms\n",
      "Speed: 2.0ms preprocess, 57.5ms inference, 3.0ms postprocess per image at shape (1, 3, 384, 640)\n",
      "\n"
     ]
    },
    {
     "name": "stdout",
     "output_type": "stream",
     "text": [
      "Time to process 1 frame: 72 milliseconds\n",
      "Time to process 1 frame: 77 milliseconds\n",
      "Time to process 1 frame: 79 milliseconds\n"
     ]
    },
    {
     "name": "stderr",
     "output_type": "stream",
     "text": [
      "0: 384x640 2 K-001901s, 1 K-006697, 1 K-016548, 3 K-031490s, 57.6ms\n",
      "Speed: 2.0ms preprocess, 57.6ms inference, 2.0ms postprocess per image at shape (1, 3, 384, 640)\n",
      "\n",
      "0: 384x640 2 K-001901s, 1 K-006697, 2 K-031490s, 1 K-044834, 56.5ms\n",
      "Speed: 3.0ms preprocess, 56.5ms inference, 5.0ms postprocess per image at shape (1, 3, 384, 640)\n",
      "\n",
      "0: 384x640 2 K-001901s, 1 K-004378, 1 K-007024, 1 K-016548, 2 K-031490s, 2 K-044834s, 56.0ms\n",
      "Speed: 3.0ms preprocess, 56.0ms inference, 2.0ms postprocess per image at shape (1, 3, 384, 640)\n",
      "\n"
     ]
    },
    {
     "name": "stdout",
     "output_type": "stream",
     "text": [
      "Time to process 1 frame: 78 milliseconds\n",
      "Time to process 1 frame: 80 milliseconds\n",
      "Time to process 1 frame: 78 milliseconds\n"
     ]
    },
    {
     "name": "stderr",
     "output_type": "stream",
     "text": [
      "0: 384x640 2 K-001901s, 1 K-006697, 1 K-007024, 2 K-031490s, 55.0ms\n",
      "Speed: 3.0ms preprocess, 55.0ms inference, 2.0ms postprocess per image at shape (1, 3, 384, 640)\n",
      "\n",
      "0: 384x640 2 K-001901s, 1 K-006697, 2 K-031490s, 52.5ms\n",
      "Speed: 1.5ms preprocess, 52.5ms inference, 3.0ms postprocess per image at shape (1, 3, 384, 640)\n",
      "\n",
      "0: 384x640 2 K-001901s, 1 K-006697, 2 K-031490s, 50.5ms\n",
      "Speed: 2.0ms preprocess, 50.5ms inference, 3.0ms postprocess per image at shape (1, 3, 384, 640)\n",
      "\n"
     ]
    },
    {
     "name": "stdout",
     "output_type": "stream",
     "text": [
      "Time to process 1 frame: 76 milliseconds\n",
      "Time to process 1 frame: 71 milliseconds\n",
      "Time to process 1 frame: 71 milliseconds\n"
     ]
    },
    {
     "name": "stderr",
     "output_type": "stream",
     "text": [
      "0: 384x640 2 K-001901s, 1 K-006697, 3 K-031490s, 50.0ms\n",
      "Speed: 2.0ms preprocess, 50.0ms inference, 4.0ms postprocess per image at shape (1, 3, 384, 640)\n",
      "\n",
      "0: 384x640 2 K-001901s, 1 K-006697, 1 K-015710, 1 K-031490, 50.0ms\n",
      "Speed: 2.0ms preprocess, 50.0ms inference, 3.0ms postprocess per image at shape (1, 3, 384, 640)\n",
      "\n",
      "0: 384x640 2 K-001901s, 1 K-004378, 1 K-016548, 1 K-031490, 1 K-044834, 52.5ms\n",
      "Speed: 2.0ms preprocess, 52.5ms inference, 2.0ms postprocess per image at shape (1, 3, 384, 640)\n",
      "\n"
     ]
    },
    {
     "name": "stdout",
     "output_type": "stream",
     "text": [
      "Time to process 1 frame: 74 milliseconds\n",
      "Time to process 1 frame: 72 milliseconds\n",
      "Time to process 1 frame: 72 milliseconds\n"
     ]
    },
    {
     "name": "stderr",
     "output_type": "stream",
     "text": [
      "0: 384x640 2 K-001901s, 1 K-004378, 1 K-007024, 1 K-016548, 1 K-031490, 49.5ms\n",
      "Speed: 2.0ms preprocess, 49.5ms inference, 2.0ms postprocess per image at shape (1, 3, 384, 640)\n",
      "\n",
      "0: 384x640 2 K-001901s, 1 K-004378, 1 K-015710, 1 K-016548, 1 K-031490, 1 K-044834, 51.5ms\n",
      "Speed: 2.0ms preprocess, 51.5ms inference, 3.0ms postprocess per image at shape (1, 3, 384, 640)\n",
      "\n",
      "0: 384x640 2 K-001901s, 1 K-004378, 1 K-016548, 1 K-031490, 2 K-044834s, 51.0ms\n",
      "Speed: 2.0ms preprocess, 51.0ms inference, 2.0ms postprocess per image at shape (1, 3, 384, 640)\n",
      "\n"
     ]
    },
    {
     "name": "stdout",
     "output_type": "stream",
     "text": [
      "Time to process 1 frame: 71 milliseconds\n",
      "Time to process 1 frame: 73 milliseconds\n",
      "Time to process 1 frame: 71 milliseconds\n"
     ]
    },
    {
     "name": "stderr",
     "output_type": "stream",
     "text": [
      "0: 384x640 2 K-001901s, 1 K-004378, 1 K-016548, 1 K-031490, 2 K-044834s, 51.0ms\n",
      "Speed: 1.4ms preprocess, 51.0ms inference, 3.0ms postprocess per image at shape (1, 3, 384, 640)\n",
      "\n",
      "0: 384x640 2 K-001901s, 1 K-004378, 1 K-016548, 1 K-031490, 2 K-044834s, 49.1ms\n",
      "Speed: 3.0ms preprocess, 49.1ms inference, 2.0ms postprocess per image at shape (1, 3, 384, 640)\n",
      "\n",
      "0: 384x640 2 K-001901s, 1 K-004378, 1 K-016548, 1 K-031490, 2 K-044834s, 52.5ms\n",
      "Speed: 2.0ms preprocess, 52.5ms inference, 2.0ms postprocess per image at shape (1, 3, 384, 640)\n",
      "\n"
     ]
    },
    {
     "name": "stdout",
     "output_type": "stream",
     "text": [
      "Time to process 1 frame: 71 milliseconds\n",
      "Time to process 1 frame: 71 milliseconds\n",
      "Time to process 1 frame: 73 milliseconds\n"
     ]
    },
    {
     "name": "stderr",
     "output_type": "stream",
     "text": [
      "0: 384x640 2 K-001901s, 1 K-004378, 1 K-016548, 1 K-031490, 2 K-044834s, 51.0ms\n",
      "Speed: 2.0ms preprocess, 51.0ms inference, 4.0ms postprocess per image at shape (1, 3, 384, 640)\n",
      "\n",
      "0: 384x640 2 K-001901s, 1 K-004378, 1 K-016548, 1 K-031490, 1 K-044834, 53.0ms\n",
      "Speed: 2.0ms preprocess, 53.0ms inference, 2.0ms postprocess per image at shape (1, 3, 384, 640)\n",
      "\n",
      "0: 384x640 2 K-001901s, 1 K-004378, 1 K-016548, 2 K-031490s, 1 K-044834, 49.5ms\n",
      "Speed: 2.0ms preprocess, 49.5ms inference, 3.0ms postprocess per image at shape (1, 3, 384, 640)\n",
      "\n"
     ]
    },
    {
     "name": "stdout",
     "output_type": "stream",
     "text": [
      "Time to process 1 frame: 73 milliseconds\n",
      "Time to process 1 frame: 75 milliseconds\n",
      "Time to process 1 frame: 71 milliseconds\n"
     ]
    },
    {
     "name": "stderr",
     "output_type": "stream",
     "text": [
      "0: 384x640 2 K-001901s, 1 K-006697, 1 K-031490, 51.5ms\n",
      "Speed: 2.0ms preprocess, 51.5ms inference, 2.0ms postprocess per image at shape (1, 3, 384, 640)\n",
      "\n",
      "0: 384x640 2 K-001901s, 2 K-006697s, 1 K-031490, 50.0ms\n",
      "Speed: 2.0ms preprocess, 50.0ms inference, 2.0ms postprocess per image at shape (1, 3, 384, 640)\n",
      "\n",
      "0: 384x640 1 K-006697, 2 K-031490s, 49.2ms\n",
      "Speed: 2.1ms preprocess, 49.2ms inference, 4.0ms postprocess per image at shape (1, 3, 384, 640)\n",
      "\n"
     ]
    },
    {
     "name": "stdout",
     "output_type": "stream",
     "text": [
      "Time to process 1 frame: 72 milliseconds\n",
      "Time to process 1 frame: 70 milliseconds\n",
      "Time to process 1 frame: 70 milliseconds\n"
     ]
    },
    {
     "name": "stderr",
     "output_type": "stream",
     "text": [
      "0: 384x640 2 K-001901s, 1 K-006697, 1 K-031490, 52.5ms\n",
      "Speed: 2.0ms preprocess, 52.5ms inference, 2.0ms postprocess per image at shape (1, 3, 384, 640)\n",
      "\n",
      "0: 384x640 2 K-001901s, 1 K-006697, 3 K-031490s, 50.5ms\n",
      "Speed: 3.0ms preprocess, 50.5ms inference, 3.0ms postprocess per image at shape (1, 3, 384, 640)\n",
      "\n",
      "0: 384x640 2 K-001901s, 1 K-006697, 1 K-016548, 1 K-031490, 52.0ms\n",
      "Speed: 2.0ms preprocess, 52.0ms inference, 2.0ms postprocess per image at shape (1, 3, 384, 640)\n",
      "\n"
     ]
    },
    {
     "name": "stdout",
     "output_type": "stream",
     "text": [
      "Time to process 1 frame: 73 milliseconds\n",
      "Time to process 1 frame: 72 milliseconds\n",
      "Time to process 1 frame: 74 milliseconds\n"
     ]
    },
    {
     "name": "stderr",
     "output_type": "stream",
     "text": [
      "0: 384x640 3 K-001901s, 3 K-006697s, 1 K-024127, 1 K-031490, 53.0ms\n",
      "Speed: 2.0ms preprocess, 53.0ms inference, 3.0ms postprocess per image at shape (1, 3, 384, 640)\n",
      "\n",
      "0: 384x640 2 K-001901s, 2 K-006697s, 1 K-016548, 2 K-031490s, 53.5ms\n",
      "Speed: 2.0ms preprocess, 53.5ms inference, 2.0ms postprocess per image at shape (1, 3, 384, 640)\n",
      "\n",
      "0: 384x640 3 K-001901s, 1 K-006697, 4 K-031490s, 50.6ms\n",
      "Speed: 2.0ms preprocess, 50.6ms inference, 4.0ms postprocess per image at shape (1, 3, 384, 640)\n",
      "\n"
     ]
    },
    {
     "name": "stdout",
     "output_type": "stream",
     "text": [
      "Time to process 1 frame: 74 milliseconds\n",
      "Time to process 1 frame: 74 milliseconds\n",
      "Time to process 1 frame: 73 milliseconds\n"
     ]
    },
    {
     "name": "stderr",
     "output_type": "stream",
     "text": [
      "0: 384x640 3 K-006697s, 2 K-031490s, 50.5ms\n",
      "Speed: 3.0ms preprocess, 50.5ms inference, 4.0ms postprocess per image at shape (1, 3, 384, 640)\n",
      "\n",
      "0: 384x640 2 K-006697s, 1 K-007024, 2 K-031490s, 53.0ms\n",
      "Speed: 3.0ms preprocess, 53.0ms inference, 2.0ms postprocess per image at shape (1, 3, 384, 640)\n",
      "\n",
      "0: 384x640 3 K-006697s, 2 K-031490s, 51.0ms\n",
      "Speed: 2.0ms preprocess, 51.0ms inference, 2.0ms postprocess per image at shape (1, 3, 384, 640)\n",
      "\n"
     ]
    },
    {
     "name": "stdout",
     "output_type": "stream",
     "text": [
      "Time to process 1 frame: 73 milliseconds\n",
      "Time to process 1 frame: 74 milliseconds\n",
      "Time to process 1 frame: 70 milliseconds\n"
     ]
    },
    {
     "name": "stderr",
     "output_type": "stream",
     "text": [
      "0: 384x640 2 K-001901s, 1 K-004378, 1 K-006697, 1 K-028408, 4 K-031490s, 1 K-044834, 53.5ms\n",
      "Speed: 2.0ms preprocess, 53.5ms inference, 2.0ms postprocess per image at shape (1, 3, 384, 640)\n",
      "\n",
      "0: 384x640 2 K-001901s, 1 K-006697, 1 K-024127, 5 K-031490s, 51.2ms\n",
      "Speed: 3.0ms preprocess, 51.2ms inference, 2.0ms postprocess per image at shape (1, 3, 384, 640)\n",
      "\n",
      "0: 384x640 2 K-001901s, 1 K-006697, 5 K-031490s, 49.0ms\n",
      "Speed: 2.0ms preprocess, 49.0ms inference, 3.0ms postprocess per image at shape (1, 3, 384, 640)\n",
      "\n"
     ]
    },
    {
     "name": "stdout",
     "output_type": "stream",
     "text": [
      "Time to process 1 frame: 74 milliseconds\n",
      "Time to process 1 frame: 73 milliseconds\n",
      "Time to process 1 frame: 69 milliseconds\n"
     ]
    },
    {
     "name": "stderr",
     "output_type": "stream",
     "text": [
      "0: 384x640 2 K-001901s, 1 K-006697, 5 K-031490s, 50.1ms\n",
      "Speed: 2.3ms preprocess, 50.1ms inference, 3.0ms postprocess per image at shape (1, 3, 384, 640)\n",
      "\n",
      "0: 384x640 3 K-001901s, 1 K-004378, 1 K-006697, 6 K-031490s, 51.5ms\n",
      "Speed: 2.0ms preprocess, 51.5ms inference, 2.0ms postprocess per image at shape (1, 3, 384, 640)\n",
      "\n",
      "0: 384x640 1 K-001901, 1 K-006697, 4 K-031490s, 1 K-038722, 51.0ms\n",
      "Speed: 3.0ms preprocess, 51.0ms inference, 3.0ms postprocess per image at shape (1, 3, 384, 640)\n",
      "\n"
     ]
    },
    {
     "name": "stdout",
     "output_type": "stream",
     "text": [
      "Time to process 1 frame: 71 milliseconds\n",
      "Time to process 1 frame: 73 milliseconds\n",
      "Time to process 1 frame: 74 milliseconds\n"
     ]
    },
    {
     "name": "stderr",
     "output_type": "stream",
     "text": [
      "0: 384x640 2 K-001901s, 1 K-006697, 5 K-031490s, 53.5ms\n",
      "Speed: 2.0ms preprocess, 53.5ms inference, 3.0ms postprocess per image at shape (1, 3, 384, 640)\n",
      "\n",
      "0: 384x640 2 K-001901s, 1 K-005391, 1 K-006697, 1 K-024127, 5 K-031490s, 52.0ms\n",
      "Speed: 3.0ms preprocess, 52.0ms inference, 2.0ms postprocess per image at shape (1, 3, 384, 640)\n",
      "\n",
      "0: 384x640 2 K-001901s, 1 K-006697, 1 K-016548, 1 K-024127, 4 K-031490s, 53.0ms\n",
      "Speed: 2.0ms preprocess, 53.0ms inference, 2.0ms postprocess per image at shape (1, 3, 384, 640)\n",
      "\n"
     ]
    },
    {
     "name": "stdout",
     "output_type": "stream",
     "text": [
      "Time to process 1 frame: 74 milliseconds\n",
      "Time to process 1 frame: 74 milliseconds\n",
      "Time to process 1 frame: 73 milliseconds\n"
     ]
    },
    {
     "name": "stderr",
     "output_type": "stream",
     "text": [
      "0: 384x640 2 K-001901s, 1 K-006697, 1 K-024127, 4 K-031490s, 50.9ms\n",
      "Speed: 2.0ms preprocess, 50.9ms inference, 2.1ms postprocess per image at shape (1, 3, 384, 640)\n",
      "\n",
      "0: 384x640 2 K-001901s, 1 K-006697, 1 K-016548, 4 K-031490s, 52.5ms\n",
      "Speed: 2.0ms preprocess, 52.5ms inference, 2.0ms postprocess per image at shape (1, 3, 384, 640)\n",
      "\n",
      "0: 384x640 2 K-001901s, 1 K-006697, 1 K-016548, 4 K-031490s, 51.7ms\n",
      "Speed: 2.0ms preprocess, 51.7ms inference, 3.0ms postprocess per image at shape (1, 3, 384, 640)\n",
      "\n"
     ]
    },
    {
     "name": "stdout",
     "output_type": "stream",
     "text": [
      "Time to process 1 frame: 73 milliseconds\n",
      "Time to process 1 frame: 72 milliseconds\n",
      "Time to process 1 frame: 72 milliseconds\n"
     ]
    },
    {
     "name": "stderr",
     "output_type": "stream",
     "text": [
      "0: 384x640 1 K-001901, 1 K-006697, 1 K-024127, 5 K-031490s, 1 K-038722, 50.0ms\n",
      "Speed: 3.0ms preprocess, 50.0ms inference, 3.0ms postprocess per image at shape (1, 3, 384, 640)\n",
      "\n",
      "0: 384x640 2 K-001901s, 1 K-006697, 1 K-024127, 5 K-031490s, 51.5ms\n",
      "Speed: 2.0ms preprocess, 51.5ms inference, 2.0ms postprocess per image at shape (1, 3, 384, 640)\n",
      "\n",
      "0: 384x640 2 K-001901s, 1 K-006697, 5 K-031490s, 52.5ms\n",
      "Speed: 2.0ms preprocess, 52.5ms inference, 3.0ms postprocess per image at shape (1, 3, 384, 640)\n",
      "\n"
     ]
    },
    {
     "name": "stdout",
     "output_type": "stream",
     "text": [
      "Time to process 1 frame: 72 milliseconds\n",
      "Time to process 1 frame: 73 milliseconds\n",
      "Time to process 1 frame: 72 milliseconds\n"
     ]
    },
    {
     "name": "stderr",
     "output_type": "stream",
     "text": [
      "0: 384x640 2 K-001901s, 1 K-006697, 1 K-024127, 5 K-031490s, 51.0ms\n",
      "Speed: 2.0ms preprocess, 51.0ms inference, 2.0ms postprocess per image at shape (1, 3, 384, 640)\n",
      "\n",
      "0: 384x640 2 K-001901s, 1 K-006697, 5 K-031490s, 52.9ms\n",
      "Speed: 2.0ms preprocess, 52.9ms inference, 2.0ms postprocess per image at shape (1, 3, 384, 640)\n",
      "\n",
      "0: 384x640 2 K-001901s, 1 K-006697, 5 K-031490s, 50.1ms\n",
      "Speed: 3.0ms preprocess, 50.1ms inference, 3.0ms postprocess per image at shape (1, 3, 384, 640)\n",
      "\n"
     ]
    },
    {
     "name": "stdout",
     "output_type": "stream",
     "text": [
      "Time to process 1 frame: 72 milliseconds\n",
      "Time to process 1 frame: 72 milliseconds\n",
      "Time to process 1 frame: 72 milliseconds\n"
     ]
    },
    {
     "name": "stderr",
     "output_type": "stream",
     "text": [
      "0: 384x640 2 K-001901s, 1 K-006697, 1 K-016548, 4 K-031490s, 51.1ms\n",
      "Speed: 3.0ms preprocess, 51.1ms inference, 3.0ms postprocess per image at shape (1, 3, 384, 640)\n",
      "\n",
      "0: 384x640 2 K-001901s, 1 K-006697, 1 K-016548, 4 K-031490s, 52.5ms\n",
      "Speed: 3.0ms preprocess, 52.5ms inference, 3.0ms postprocess per image at shape (1, 3, 384, 640)\n",
      "\n",
      "0: 384x640 2 K-001901s, 1 K-006697, 1 K-016548, 4 K-031490s, 51.5ms\n",
      "Speed: 22.0ms preprocess, 51.5ms inference, 3.0ms postprocess per image at shape (1, 3, 384, 640)\n"
     ]
    },
    {
     "name": "stdout",
     "output_type": "stream",
     "text": [
      "Time to process 1 frame: 72 milliseconds\n",
      "Time to process 1 frame: 75 milliseconds\n"
     ]
    },
    {
     "name": "stderr",
     "output_type": "stream",
     "text": [
      "\n",
      "0: 384x640 2 K-001901s, 1 K-006697, 1 K-016548, 4 K-031490s, 49.0ms\n",
      "Speed: 3.0ms preprocess, 49.0ms inference, 3.0ms postprocess per image at shape (1, 3, 384, 640)\n",
      "\n",
      "0: 384x640 2 K-001901s, 1 K-006697, 5 K-031490s, 51.5ms\n",
      "Speed: 2.0ms preprocess, 51.5ms inference, 3.0ms postprocess per image at shape (1, 3, 384, 640)\n",
      "\n"
     ]
    },
    {
     "name": "stdout",
     "output_type": "stream",
     "text": [
      "Time to process 1 frame: 101 milliseconds\n",
      "Time to process 1 frame: 70 milliseconds\n",
      "Time to process 1 frame: 73 milliseconds\n"
     ]
    },
    {
     "name": "stderr",
     "output_type": "stream",
     "text": [
      "0: 384x640 2 K-001901s, 1 K-006697, 5 K-031490s, 51.5ms\n",
      "Speed: 2.0ms preprocess, 51.5ms inference, 4.0ms postprocess per image at shape (1, 3, 384, 640)\n",
      "\n",
      "0: 384x640 2 K-001901s, 1 K-006697, 1 K-016548, 4 K-031490s, 52.5ms\n",
      "Speed: 2.0ms preprocess, 52.5ms inference, 4.0ms postprocess per image at shape (1, 3, 384, 640)\n",
      "\n",
      "0: 384x640 2 K-001901s, 1 K-006697, 1 K-016548, 4 K-031490s, 51.0ms\n",
      "Speed: 2.0ms preprocess, 51.0ms inference, 3.0ms postprocess per image at shape (1, 3, 384, 640)\n",
      "\n"
     ]
    },
    {
     "name": "stdout",
     "output_type": "stream",
     "text": [
      "Time to process 1 frame: 74 milliseconds\n",
      "Time to process 1 frame: 75 milliseconds\n",
      "Time to process 1 frame: 75 milliseconds\n"
     ]
    },
    {
     "name": "stderr",
     "output_type": "stream",
     "text": [
      "0: 384x640 2 K-001901s, 1 K-006697, 1 K-016548, 4 K-031490s, 53.0ms\n",
      "Speed: 2.0ms preprocess, 53.0ms inference, 2.0ms postprocess per image at shape (1, 3, 384, 640)\n",
      "\n",
      "0: 384x640 2 K-001901s, 1 K-006697, 1 K-016548, 4 K-031490s, 53.0ms\n",
      "Speed: 2.5ms preprocess, 53.0ms inference, 2.0ms postprocess per image at shape (1, 3, 384, 640)\n",
      "\n",
      "0: 384x640 2 K-001901s, 1 K-006697, 1 K-016548, 4 K-031490s, 50.5ms\n",
      "Speed: 1.0ms preprocess, 50.5ms inference, 3.0ms postprocess per image at shape (1, 3, 384, 640)\n",
      "\n"
     ]
    },
    {
     "name": "stdout",
     "output_type": "stream",
     "text": [
      "Time to process 1 frame: 73 milliseconds\n",
      "Time to process 1 frame: 76 milliseconds\n",
      "Time to process 1 frame: 73 milliseconds\n"
     ]
    },
    {
     "name": "stderr",
     "output_type": "stream",
     "text": [
      "0: 384x640 2 K-001901s, 1 K-006697, 1 K-016548, 4 K-031490s, 52.9ms\n",
      "Speed: 2.0ms preprocess, 52.9ms inference, 2.0ms postprocess per image at shape (1, 3, 384, 640)\n",
      "\n",
      "0: 384x640 2 K-001901s, 1 K-006697, 1 K-016548, 4 K-031490s, 51.0ms\n",
      "Speed: 2.0ms preprocess, 51.0ms inference, 4.5ms postprocess per image at shape (1, 3, 384, 640)\n",
      "\n",
      "0: 384x640 2 K-001901s, 1 K-006697, 1 K-024127, 5 K-031490s, 51.0ms\n",
      "Speed: 2.0ms preprocess, 51.0ms inference, 3.0ms postprocess per image at shape (1, 3, 384, 640)\n",
      "\n"
     ]
    },
    {
     "name": "stdout",
     "output_type": "stream",
     "text": [
      "Time to process 1 frame: 83 milliseconds\n",
      "Time to process 1 frame: 75 milliseconds\n",
      "Time to process 1 frame: 72 milliseconds\n"
     ]
    },
    {
     "name": "stderr",
     "output_type": "stream",
     "text": [
      "0: 384x640 2 K-001901s, 1 K-004378, 1 K-006697, 1 K-016548, 4 K-031490s, 51.0ms\n",
      "Speed: 2.0ms preprocess, 51.0ms inference, 88.5ms postprocess per image at shape (1, 3, 384, 640)\n",
      "\n",
      "0: 384x640 2 K-001901s, 1 K-004378, 1 K-016548, 4 K-031490s, 51.5ms\n",
      "Speed: 2.0ms preprocess, 51.5ms inference, 3.0ms postprocess per image at shape (1, 3, 384, 640)\n",
      "\n",
      "0: 384x640 2 K-001901s, 1 K-004378, 1 K-016548, 4 K-031490s, 50.2ms\n",
      "Speed: 2.0ms preprocess, 50.2ms inference, 3.0ms postprocess per image at shape (1, 3, 384, 640)\n",
      "\n"
     ]
    },
    {
     "name": "stdout",
     "output_type": "stream",
     "text": [
      "Time to process 1 frame: 159 milliseconds\n",
      "Time to process 1 frame: 72 milliseconds\n",
      "Time to process 1 frame: 71 milliseconds\n"
     ]
    },
    {
     "name": "stderr",
     "output_type": "stream",
     "text": [
      "0: 384x640 2 K-001901s, 1 K-004378, 1 K-016548, 2 K-028408s, 2 K-031490s, 50.0ms\n",
      "Speed: 2.0ms preprocess, 50.0ms inference, 3.0ms postprocess per image at shape (1, 3, 384, 640)\n",
      "\n",
      "0: 384x640 2 K-001901s, 1 K-004378, 1 K-016548, 2 K-028408s, 4 K-031490s, 52.5ms\n",
      "Speed: 2.0ms preprocess, 52.5ms inference, 2.0ms postprocess per image at shape (1, 3, 384, 640)\n",
      "\n",
      "0: 384x640 2 K-001901s, 1 K-006697, 1 K-016548, 4 K-031490s, 52.5ms\n",
      "Speed: 3.0ms preprocess, 52.5ms inference, 2.0ms postprocess per image at shape (1, 3, 384, 640)\n",
      "\n"
     ]
    },
    {
     "name": "stdout",
     "output_type": "stream",
     "text": [
      "Time to process 1 frame: 72 milliseconds\n",
      "Time to process 1 frame: 73 milliseconds\n",
      "Time to process 1 frame: 74 milliseconds\n"
     ]
    },
    {
     "name": "stderr",
     "output_type": "stream",
     "text": [
      "0: 384x640 2 K-001901s, 1 K-004378, 1 K-016548, 4 K-031490s, 51.5ms\n",
      "Speed: 2.0ms preprocess, 51.5ms inference, 3.0ms postprocess per image at shape (1, 3, 384, 640)\n",
      "\n",
      "0: 384x640 2 K-001901s, 1 K-004378, 1 K-016548, 1 K-028408, 3 K-031490s, 52.0ms\n",
      "Speed: 2.0ms preprocess, 52.0ms inference, 3.0ms postprocess per image at shape (1, 3, 384, 640)\n",
      "\n",
      "0: 384x640 2 K-001901s, 1 K-004378, 1 K-016548, 3 K-028408s, 4 K-031490s, 50.4ms\n",
      "Speed: 2.0ms preprocess, 50.4ms inference, 2.1ms postprocess per image at shape (1, 3, 384, 640)\n",
      "\n"
     ]
    },
    {
     "name": "stdout",
     "output_type": "stream",
     "text": [
      "Time to process 1 frame: 74 milliseconds\n",
      "Time to process 1 frame: 74 milliseconds\n",
      "Time to process 1 frame: 71 milliseconds\n"
     ]
    },
    {
     "name": "stderr",
     "output_type": "stream",
     "text": [
      "0: 384x640 2 K-001901s, 1 K-004378, 1 K-016548, 1 K-028408, 4 K-031490s, 50.1ms\n",
      "Speed: 2.0ms preprocess, 50.1ms inference, 2.0ms postprocess per image at shape (1, 3, 384, 640)\n",
      "\n",
      "0: 384x640 2 K-001901s, 1 K-004378, 1 K-016548, 3 K-028408s, 2 K-031490s, 53.1ms\n",
      "Speed: 2.0ms preprocess, 53.1ms inference, 2.0ms postprocess per image at shape (1, 3, 384, 640)\n",
      "\n",
      "0: 384x640 2 K-001901s, 1 K-004378, 1 K-016548, 3 K-028408s, 3 K-031490s, 50.0ms\n",
      "Speed: 3.0ms preprocess, 50.0ms inference, 3.0ms postprocess per image at shape (1, 3, 384, 640)\n",
      "\n"
     ]
    },
    {
     "name": "stdout",
     "output_type": "stream",
     "text": [
      "Time to process 1 frame: 72 milliseconds\n",
      "Time to process 1 frame: 77 milliseconds\n",
      "Time to process 1 frame: 72 milliseconds\n"
     ]
    },
    {
     "name": "stderr",
     "output_type": "stream",
     "text": [
      "0: 384x640 2 K-001901s, 1 K-004378, 1 K-016548, 4 K-031490s, 51.0ms\n",
      "Speed: 2.0ms preprocess, 51.0ms inference, 4.0ms postprocess per image at shape (1, 3, 384, 640)\n",
      "\n",
      "0: 384x640 2 K-001901s, 1 K-004378, 1 K-016548, 2 K-028408s, 4 K-031490s, 50.5ms\n",
      "Speed: 3.0ms preprocess, 50.5ms inference, 3.0ms postprocess per image at shape (1, 3, 384, 640)\n",
      "\n",
      "0: 384x640 2 K-001901s, 1 K-004378, 1 K-016548, 2 K-028408s, 4 K-031490s, 51.5ms\n",
      "Speed: 2.0ms preprocess, 51.5ms inference, 2.0ms postprocess per image at shape (1, 3, 384, 640)\n",
      "\n"
     ]
    },
    {
     "name": "stdout",
     "output_type": "stream",
     "text": [
      "Time to process 1 frame: 73 milliseconds\n",
      "Time to process 1 frame: 75 milliseconds\n",
      "Time to process 1 frame: 72 milliseconds\n"
     ]
    },
    {
     "name": "stderr",
     "output_type": "stream",
     "text": [
      "0: 384x640 2 K-001901s, 1 K-004378, 1 K-016548, 2 K-028408s, 3 K-031490s, 50.9ms\n",
      "Speed: 2.0ms preprocess, 50.9ms inference, 3.0ms postprocess per image at shape (1, 3, 384, 640)\n",
      "\n",
      "0: 384x640 2 K-001901s, 1 K-004378, 1 K-016548, 1 K-028408, 4 K-031490s, 52.0ms\n",
      "Speed: 2.0ms preprocess, 52.0ms inference, 2.0ms postprocess per image at shape (1, 3, 384, 640)\n",
      "\n",
      "0: 384x640 2 K-001901s, 1 K-004378, 1 K-016548, 4 K-031490s, 51.0ms\n",
      "Speed: 2.0ms preprocess, 51.0ms inference, 2.0ms postprocess per image at shape (1, 3, 384, 640)\n",
      "\n"
     ]
    },
    {
     "name": "stdout",
     "output_type": "stream",
     "text": [
      "Time to process 1 frame: 73 milliseconds\n",
      "Time to process 1 frame: 75 milliseconds\n",
      "Time to process 1 frame: 72 milliseconds\n"
     ]
    },
    {
     "name": "stderr",
     "output_type": "stream",
     "text": [
      "0: 384x640 2 K-001901s, 1 K-006697, 1 K-016548, 4 K-031490s, 51.1ms\n",
      "Speed: 2.0ms preprocess, 51.1ms inference, 3.0ms postprocess per image at shape (1, 3, 384, 640)\n",
      "\n",
      "0: 384x640 2 K-001901s, 1 K-006697, 1 K-024127, 5 K-031490s, 52.1ms\n",
      "Speed: 2.0ms preprocess, 52.1ms inference, 2.0ms postprocess per image at shape (1, 3, 384, 640)\n",
      "\n",
      "0: 384x640 2 K-001901s, 1 K-004378, 1 K-016548, 4 K-031490s, 1 K-038104, 52.0ms\n",
      "Speed: 3.0ms preprocess, 52.0ms inference, 2.0ms postprocess per image at shape (1, 3, 384, 640)\n",
      "\n"
     ]
    },
    {
     "name": "stdout",
     "output_type": "stream",
     "text": [
      "Time to process 1 frame: 71 milliseconds\n",
      "Time to process 1 frame: 74 milliseconds\n",
      "Time to process 1 frame: 73 milliseconds\n"
     ]
    },
    {
     "name": "stderr",
     "output_type": "stream",
     "text": [
      "0: 384x640 2 K-001901s, 1 K-006697, 1 K-016548, 4 K-031490s, 1 K-038104, 51.0ms\n",
      "Speed: 2.0ms preprocess, 51.0ms inference, 4.0ms postprocess per image at shape (1, 3, 384, 640)\n",
      "\n",
      "0: 384x640 2 K-001901s, 1 K-006697, 1 K-016548, 4 K-031490s, 1 K-038104, 51.5ms\n",
      "Speed: 2.1ms preprocess, 51.5ms inference, 2.0ms postprocess per image at shape (1, 3, 384, 640)\n",
      "\n",
      "0: 384x640 2 K-001901s, 1 K-004378, 1 K-016548, 1 K-028408, 4 K-031490s, 47.5ms\n",
      "Speed: 2.0ms preprocess, 47.5ms inference, 2.0ms postprocess per image at shape (1, 3, 384, 640)\n",
      "\n"
     ]
    },
    {
     "name": "stdout",
     "output_type": "stream",
     "text": [
      "Time to process 1 frame: 75 milliseconds\n",
      "Time to process 1 frame: 70 milliseconds\n",
      "Time to process 1 frame: 69 milliseconds\n"
     ]
    },
    {
     "name": "stderr",
     "output_type": "stream",
     "text": [
      "0: 384x640 2 K-001901s, 1 K-006697, 1 K-016548, 4 K-031490s, 52.0ms\n",
      "Speed: 2.0ms preprocess, 52.0ms inference, 2.0ms postprocess per image at shape (1, 3, 384, 640)\n",
      "\n",
      "0: 384x640 2 K-001901s, 1 K-006697, 1 K-016548, 4 K-031490s, 49.0ms\n",
      "Speed: 3.0ms preprocess, 49.0ms inference, 2.0ms postprocess per image at shape (1, 3, 384, 640)\n",
      "\n",
      "0: 384x640 2 K-001901s, 1 K-004378, 1 K-006697, 1 K-016548, 1 K-028408, 4 K-031490s, 51.5ms\n",
      "Speed: 2.0ms preprocess, 51.5ms inference, 2.0ms postprocess per image at shape (1, 3, 384, 640)\n",
      "\n"
     ]
    },
    {
     "name": "stdout",
     "output_type": "stream",
     "text": [
      "Time to process 1 frame: 73 milliseconds\n",
      "Time to process 1 frame: 71 milliseconds\n",
      "Time to process 1 frame: 73 milliseconds\n"
     ]
    },
    {
     "name": "stderr",
     "output_type": "stream",
     "text": [
      "0: 384x640 2 K-001901s, 1 K-004378, 1 K-016548, 3 K-028408s, 2 K-031490s, 50.5ms\n",
      "Speed: 2.0ms preprocess, 50.5ms inference, 3.0ms postprocess per image at shape (1, 3, 384, 640)\n",
      "\n",
      "0: 384x640 2 K-001901s, 1 K-004378, 1 K-016548, 3 K-028408s, 3 K-031490s, 51.0ms\n",
      "Speed: 2.0ms preprocess, 51.0ms inference, 3.0ms postprocess per image at shape (1, 3, 384, 640)\n",
      "\n",
      "0: 384x640 2 K-001901s, 1 K-004378, 1 K-016548, 1 K-028408, 4 K-031490s, 51.0ms\n",
      "Speed: 2.0ms preprocess, 51.0ms inference, 3.0ms postprocess per image at shape (1, 3, 384, 640)\n",
      "\n"
     ]
    },
    {
     "name": "stdout",
     "output_type": "stream",
     "text": [
      "Time to process 1 frame: 72 milliseconds\n",
      "Time to process 1 frame: 72 milliseconds\n",
      "Time to process 1 frame: 73 milliseconds\n"
     ]
    },
    {
     "name": "stderr",
     "output_type": "stream",
     "text": [
      "0: 384x640 2 K-001901s, 1 K-004378, 1 K-016548, 1 K-028408, 4 K-031490s, 52.0ms\n",
      "Speed: 2.0ms preprocess, 52.0ms inference, 3.0ms postprocess per image at shape (1, 3, 384, 640)\n",
      "\n",
      "0: 384x640 2 K-001901s, 1 K-004378, 1 K-016548, 2 K-028408s, 3 K-031490s, 49.5ms\n",
      "Speed: 3.0ms preprocess, 49.5ms inference, 3.0ms postprocess per image at shape (1, 3, 384, 640)\n",
      "\n",
      "0: 384x640 2 K-001901s, 1 K-004378, 1 K-016548, 3 K-028408s, 2 K-031490s, 52.2ms\n",
      "Speed: 2.0ms preprocess, 52.2ms inference, 2.0ms postprocess per image at shape (1, 3, 384, 640)\n",
      "\n"
     ]
    },
    {
     "name": "stdout",
     "output_type": "stream",
     "text": [
      "Time to process 1 frame: 73 milliseconds\n",
      "Time to process 1 frame: 73 milliseconds\n",
      "Time to process 1 frame: 73 milliseconds\n"
     ]
    },
    {
     "name": "stderr",
     "output_type": "stream",
     "text": [
      "0: 384x640 2 K-001901s, 1 K-006697, 4 K-031490s, 50.0ms\n",
      "Speed: 2.0ms preprocess, 50.0ms inference, 2.0ms postprocess per image at shape (1, 3, 384, 640)\n",
      "\n",
      "0: 384x640 2 K-001901s, 1 K-004378, 3 K-028408s, 3 K-031490s, 52.0ms\n",
      "Speed: 2.0ms preprocess, 52.0ms inference, 2.0ms postprocess per image at shape (1, 3, 384, 640)\n",
      "\n",
      "0: 384x640 2 K-001901s, 1 K-004378, 1 K-016548, 3 K-028408s, 3 K-031490s, 51.8ms\n",
      "Speed: 2.0ms preprocess, 51.8ms inference, 2.0ms postprocess per image at shape (1, 3, 384, 640)\n",
      "\n"
     ]
    },
    {
     "name": "stdout",
     "output_type": "stream",
     "text": [
      "Time to process 1 frame: 71 milliseconds\n",
      "Time to process 1 frame: 73 milliseconds\n",
      "Time to process 1 frame: 73 milliseconds\n"
     ]
    },
    {
     "name": "stderr",
     "output_type": "stream",
     "text": [
      "0: 384x640 2 K-001901s, 1 K-004378, 1 K-016548, 3 K-028408s, 2 K-031490s, 51.5ms\n",
      "Speed: 2.0ms preprocess, 51.5ms inference, 2.0ms postprocess per image at shape (1, 3, 384, 640)\n",
      "\n",
      "0: 384x640 2 K-001901s, 1 K-004378, 1 K-016548, 1 K-024029, 2 K-028408s, 4 K-031490s, 49.0ms\n",
      "Speed: 2.0ms preprocess, 49.0ms inference, 2.0ms postprocess per image at shape (1, 3, 384, 640)\n",
      "\n",
      "0: 384x640 2 K-001901s, 1 K-004378, 1 K-016548, 3 K-028408s, 3 K-031490s, 50.0ms\n",
      "Speed: 2.0ms preprocess, 50.0ms inference, 2.0ms postprocess per image at shape (1, 3, 384, 640)\n",
      "\n"
     ]
    },
    {
     "name": "stdout",
     "output_type": "stream",
     "text": [
      "Time to process 1 frame: 73 milliseconds\n",
      "Time to process 1 frame: 73 milliseconds\n",
      "Time to process 1 frame: 70 milliseconds\n"
     ]
    },
    {
     "name": "stderr",
     "output_type": "stream",
     "text": [
      "0: 384x640 2 K-001901s, 1 K-004378, 1 K-016548, 3 K-028408s, 2 K-031490s, 52.0ms\n",
      "Speed: 2.5ms preprocess, 52.0ms inference, 2.0ms postprocess per image at shape (1, 3, 384, 640)\n",
      "\n",
      "0: 384x640 2 K-001901s, 1 K-004378, 1 K-016548, 3 K-028408s, 2 K-031490s, 50.5ms\n",
      "Speed: 2.0ms preprocess, 50.5ms inference, 3.0ms postprocess per image at shape (1, 3, 384, 640)\n",
      "\n",
      "0: 384x640 2 K-001901s, 1 K-004378, 1 K-016548, 3 K-028408s, 3 K-031490s, 51.3ms\n",
      "Speed: 2.0ms preprocess, 51.3ms inference, 3.8ms postprocess per image at shape (1, 3, 384, 640)\n",
      "\n"
     ]
    },
    {
     "name": "stdout",
     "output_type": "stream",
     "text": [
      "Time to process 1 frame: 73 milliseconds\n",
      "Time to process 1 frame: 73 milliseconds\n",
      "Time to process 1 frame: 77 milliseconds\n"
     ]
    },
    {
     "name": "stderr",
     "output_type": "stream",
     "text": [
      "0: 384x640 2 K-001901s, 1 K-004378, 1 K-016548, 3 K-028408s, 1 K-031490, 51.3ms\n",
      "Speed: 3.0ms preprocess, 51.3ms inference, 4.0ms postprocess per image at shape (1, 3, 384, 640)\n",
      "\n",
      "0: 384x640 2 K-001901s, 1 K-004378, 1 K-016548, 2 K-028408s, 4 K-031490s, 1 K-044834, 49.0ms\n",
      "Speed: 3.0ms preprocess, 49.0ms inference, 2.0ms postprocess per image at shape (1, 3, 384, 640)\n",
      "\n",
      "0: 384x640 2 K-001901s, 1 K-004378, 1 K-016548, 1 K-028408, 3 K-031490s, 51.5ms\n",
      "Speed: 2.0ms preprocess, 51.5ms inference, 3.0ms postprocess per image at shape (1, 3, 384, 640)\n",
      "\n"
     ]
    },
    {
     "name": "stdout",
     "output_type": "stream",
     "text": [
      "Time to process 1 frame: 76 milliseconds\n",
      "Time to process 1 frame: 73 milliseconds\n",
      "Time to process 1 frame: 75 milliseconds\n"
     ]
    },
    {
     "name": "stderr",
     "output_type": "stream",
     "text": [
      "0: 384x640 2 K-001901s, 1 K-004378, 1 K-016548, 2 K-028408s, 4 K-031490s, 52.5ms\n",
      "Speed: 2.0ms preprocess, 52.5ms inference, 3.0ms postprocess per image at shape (1, 3, 384, 640)\n",
      "\n",
      "0: 384x640 2 K-001901s, 1 K-006697, 5 K-031490s, 50.0ms\n",
      "Speed: 2.0ms preprocess, 50.0ms inference, 2.5ms postprocess per image at shape (1, 3, 384, 640)\n",
      "\n",
      "0: 384x640 2 K-001901s, 1 K-006697, 5 K-031490s, 1 K-038104, 52.0ms\n",
      "Speed: 2.0ms preprocess, 52.0ms inference, 2.0ms postprocess per image at shape (1, 3, 384, 640)\n",
      "\n"
     ]
    },
    {
     "name": "stdout",
     "output_type": "stream",
     "text": [
      "Time to process 1 frame: 73 milliseconds\n",
      "Time to process 1 frame: 72 milliseconds\n",
      "Time to process 1 frame: 71 milliseconds\n"
     ]
    },
    {
     "name": "stderr",
     "output_type": "stream",
     "text": [
      "0: 384x640 2 K-001901s, 1 K-006697, 5 K-031490s, 49.8ms\n",
      "Speed: 4.5ms preprocess, 49.8ms inference, 5.0ms postprocess per image at shape (1, 3, 384, 640)\n",
      "\n",
      "0: 384x640 2 K-001901s, 1 K-006697, 4 K-031490s, 1 K-038104, 3 K-044834s, 51.1ms\n",
      "Speed: 3.0ms preprocess, 51.1ms inference, 4.0ms postprocess per image at shape (1, 3, 384, 640)\n",
      "\n",
      "0: 384x640 2 K-001901s, 1 K-006697, 4 K-031490s, 1 K-038104, 3 K-044834s, 50.4ms\n",
      "Speed: 2.0ms preprocess, 50.4ms inference, 3.0ms postprocess per image at shape (1, 3, 384, 640)\n",
      "\n"
     ]
    },
    {
     "name": "stdout",
     "output_type": "stream",
     "text": [
      "Time to process 1 frame: 74 milliseconds\n",
      "Time to process 1 frame: 74 milliseconds\n",
      "Time to process 1 frame: 72 milliseconds\n"
     ]
    },
    {
     "name": "stderr",
     "output_type": "stream",
     "text": [
      "0: 384x640 1 K-001901, 2 K-031490s, 52.0ms\n",
      "Speed: 2.0ms preprocess, 52.0ms inference, 3.0ms postprocess per image at shape (1, 3, 384, 640)\n",
      "\n",
      "0: 384x640 1 K-001901, 1 K-006697, 4 K-031490s, 52.0ms\n",
      "Speed: 2.0ms preprocess, 52.0ms inference, 2.0ms postprocess per image at shape (1, 3, 384, 640)\n",
      "\n",
      "0: 384x640 1 K-006697, 2 K-031490s, 1 K-044834, 51.0ms\n",
      "Speed: 3.0ms preprocess, 51.0ms inference, 2.0ms postprocess per image at shape (1, 3, 384, 640)\n",
      "\n"
     ]
    },
    {
     "name": "stdout",
     "output_type": "stream",
     "text": [
      "Time to process 1 frame: 84 milliseconds\n",
      "Time to process 1 frame: 72 milliseconds\n",
      "Time to process 1 frame: 71 milliseconds\n"
     ]
    },
    {
     "name": "stderr",
     "output_type": "stream",
     "text": [
      "0: 384x640 1 K-006697, 3 K-031490s, 50.5ms\n",
      "Speed: 3.0ms preprocess, 50.5ms inference, 3.0ms postprocess per image at shape (1, 3, 384, 640)\n",
      "\n",
      "0: 384x640 1 K-007024, 51.5ms\n",
      "Speed: 2.0ms preprocess, 51.5ms inference, 2.0ms postprocess per image at shape (1, 3, 384, 640)\n",
      "\n",
      "0: 384x640 1 K-007024, 1 K-013900, 51.0ms\n",
      "Speed: 3.0ms preprocess, 51.0ms inference, 3.0ms postprocess per image at shape (1, 3, 384, 640)\n",
      "\n"
     ]
    },
    {
     "name": "stdout",
     "output_type": "stream",
     "text": [
      "Time to process 1 frame: 72 milliseconds\n",
      "Time to process 1 frame: 72 milliseconds\n",
      "Time to process 1 frame: 71 milliseconds\n"
     ]
    },
    {
     "name": "stderr",
     "output_type": "stream",
     "text": [
      "0: 384x640 2 K-031490s, 1 K-044834, 50.0ms\n",
      "Speed: 2.0ms preprocess, 50.0ms inference, 3.0ms postprocess per image at shape (1, 3, 384, 640)\n",
      "\n",
      "0: 384x640 1 K-001901, 1 K-006697, 4 K-031490s, 50.5ms\n",
      "Speed: 3.0ms preprocess, 50.5ms inference, 2.0ms postprocess per image at shape (1, 3, 384, 640)\n",
      "\n",
      "0: 384x640 1 K-006697, 1 K-024029, 3 K-031490s, 50.5ms\n",
      "Speed: 2.0ms preprocess, 50.5ms inference, 4.0ms postprocess per image at shape (1, 3, 384, 640)\n",
      "\n"
     ]
    },
    {
     "name": "stdout",
     "output_type": "stream",
     "text": [
      "Time to process 1 frame: 70 milliseconds\n",
      "Time to process 1 frame: 71 milliseconds\n",
      "Time to process 1 frame: 72 milliseconds\n"
     ]
    },
    {
     "name": "stderr",
     "output_type": "stream",
     "text": [
      "0: 384x640 1 K-006697, 4 K-031490s, 51.0ms\n",
      "Speed: 2.0ms preprocess, 51.0ms inference, 2.0ms postprocess per image at shape (1, 3, 384, 640)\n",
      "\n",
      "0: 384x640 2 K-006697s, 3 K-031490s, 50.4ms\n",
      "Speed: 2.0ms preprocess, 50.4ms inference, 2.0ms postprocess per image at shape (1, 3, 384, 640)\n",
      "\n",
      "0: 384x640 2 K-006697s, 4 K-031490s, 52.2ms\n",
      "Speed: 2.0ms preprocess, 52.2ms inference, 3.0ms postprocess per image at shape (1, 3, 384, 640)\n",
      "\n"
     ]
    },
    {
     "name": "stdout",
     "output_type": "stream",
     "text": [
      "Time to process 1 frame: 71 milliseconds\n",
      "Time to process 1 frame: 70 milliseconds\n",
      "Time to process 1 frame: 74 milliseconds\n"
     ]
    },
    {
     "name": "stderr",
     "output_type": "stream",
     "text": [
      "0: 384x640 1 K-001901, 1 K-004378, 2 K-028408s, 4 K-031490s, 50.5ms\n",
      "Speed: 2.0ms preprocess, 50.5ms inference, 5.0ms postprocess per image at shape (1, 3, 384, 640)\n",
      "\n",
      "0: 384x640 2 K-006697s, 4 K-031490s, 51.0ms\n",
      "Speed: 3.0ms preprocess, 51.0ms inference, 2.0ms postprocess per image at shape (1, 3, 384, 640)\n",
      "\n",
      "0: 384x640 2 K-006697s, 4 K-031490s, 50.0ms\n",
      "Speed: 2.0ms preprocess, 50.0ms inference, 2.0ms postprocess per image at shape (1, 3, 384, 640)\n",
      "\n"
     ]
    },
    {
     "name": "stdout",
     "output_type": "stream",
     "text": [
      "Time to process 1 frame: 74 milliseconds\n",
      "Time to process 1 frame: 73 milliseconds\n",
      "Time to process 1 frame: 70 milliseconds\n"
     ]
    },
    {
     "name": "stderr",
     "output_type": "stream",
     "text": [
      "0: 384x640 1 K-001562, 1 K-001901, 1 K-006697, 4 K-031490s, 53.0ms\n",
      "Speed: 2.2ms preprocess, 53.0ms inference, 2.0ms postprocess per image at shape (1, 3, 384, 640)\n",
      "\n",
      "0: 384x640 1 K-001562, 1 K-001901, 1 K-006697, 1 K-028408, 4 K-031490s, 52.0ms\n",
      "Speed: 2.0ms preprocess, 52.0ms inference, 2.7ms postprocess per image at shape (1, 3, 384, 640)\n",
      "\n",
      "0: 384x640 1 K-001901, 1 K-006697, 1 K-028408, 5 K-031490s, 50.5ms\n",
      "Speed: 2.0ms preprocess, 50.5ms inference, 2.0ms postprocess per image at shape (1, 3, 384, 640)\n",
      "\n"
     ]
    },
    {
     "name": "stdout",
     "output_type": "stream",
     "text": [
      "Time to process 1 frame: 73 milliseconds\n",
      "Time to process 1 frame: 75 milliseconds\n",
      "Time to process 1 frame: 71 milliseconds\n"
     ]
    },
    {
     "name": "stderr",
     "output_type": "stream",
     "text": [
      "0: 384x640 1 K-001901, 1 K-004378, 1 K-006697, 1 K-007024, 2 K-028408s, 4 K-031490s, 52.7ms\n",
      "Speed: 3.0ms preprocess, 52.7ms inference, 3.0ms postprocess per image at shape (1, 3, 384, 640)\n",
      "\n",
      "0: 384x640 1 K-001901, 1 K-004378, 1 K-006697, 1 K-007024, 2 K-028408s, 4 K-031490s, 50.0ms\n",
      "Speed: 2.0ms preprocess, 50.0ms inference, 4.0ms postprocess per image at shape (1, 3, 384, 640)\n",
      "\n",
      "0: 384x640 1 K-001901, 1 K-004378, 1 K-006697, 2 K-028408s, 3 K-031490s, 59.0ms\n",
      "Speed: 3.2ms preprocess, 59.0ms inference, 3.0ms postprocess per image at shape (1, 3, 384, 640)\n",
      "\n"
     ]
    },
    {
     "name": "stdout",
     "output_type": "stream",
     "text": [
      "Time to process 1 frame: 74 milliseconds\n",
      "Time to process 1 frame: 76 milliseconds\n",
      "Time to process 1 frame: 84 milliseconds\n"
     ]
    },
    {
     "name": "stderr",
     "output_type": "stream",
     "text": [
      "0: 384x640 1 K-001901, 1 K-004378, 2 K-028408s, 3 K-031490s, 52.3ms\n",
      "Speed: 2.0ms preprocess, 52.3ms inference, 4.0ms postprocess per image at shape (1, 3, 384, 640)\n",
      "\n",
      "0: 384x640 1 K-001901, 1 K-004378, 2 K-006697s, 1 K-028408, 3 K-031490s, 52.5ms\n",
      "Speed: 2.0ms preprocess, 52.5ms inference, 2.0ms postprocess per image at shape (1, 3, 384, 640)\n",
      "\n",
      "0: 384x640 1 K-001562, 1 K-001901, 1 K-004378, 1 K-028408, 4 K-031490s, 53.0ms\n",
      "Speed: 1.8ms preprocess, 53.0ms inference, 1.0ms postprocess per image at shape (1, 3, 384, 640)\n",
      "\n"
     ]
    },
    {
     "name": "stdout",
     "output_type": "stream",
     "text": [
      "Time to process 1 frame: 75 milliseconds\n",
      "Time to process 1 frame: 73 milliseconds\n",
      "Time to process 1 frame: 70 milliseconds\n"
     ]
    },
    {
     "name": "stderr",
     "output_type": "stream",
     "text": [
      "0: 384x640 1 K-001901, 1 K-006697, 4 K-031490s, 50.0ms\n",
      "Speed: 2.0ms preprocess, 50.0ms inference, 3.0ms postprocess per image at shape (1, 3, 384, 640)\n",
      "\n",
      "0: 384x640 1 K-001562, 1 K-001901, 1 K-004378, 1 K-006697, 2 K-028408s, 4 K-031490s, 52.5ms\n",
      "Speed: 2.0ms preprocess, 52.5ms inference, 3.0ms postprocess per image at shape (1, 3, 384, 640)\n",
      "\n",
      "0: 384x640 1 K-001901, 1 K-004378, 1 K-028408, 3 K-031490s, 50.5ms\n",
      "Speed: 2.0ms preprocess, 50.5ms inference, 3.0ms postprocess per image at shape (1, 3, 384, 640)\n",
      "\n"
     ]
    },
    {
     "name": "stdout",
     "output_type": "stream",
     "text": [
      "Time to process 1 frame: 71 milliseconds\n",
      "Time to process 1 frame: 73 milliseconds\n",
      "Time to process 1 frame: 71 milliseconds\n"
     ]
    },
    {
     "name": "stderr",
     "output_type": "stream",
     "text": [
      "0: 384x640 1 K-001901, 1 K-006697, 1 K-028408, 4 K-031490s, 49.8ms\n",
      "Speed: 2.0ms preprocess, 49.8ms inference, 5.0ms postprocess per image at shape (1, 3, 384, 640)\n",
      "\n",
      "0: 384x640 1 K-001901, 2 K-006697s, 1 K-028408, 4 K-031490s, 53.0ms\n",
      "Speed: 2.0ms preprocess, 53.0ms inference, 3.0ms postprocess per image at shape (1, 3, 384, 640)\n",
      "\n",
      "0: 384x640 1 K-001562, 1 K-001901, 1 K-004378, 1 K-006697, 2 K-028408s, 5 K-031490s, 50.0ms\n",
      "Speed: 2.0ms preprocess, 50.0ms inference, 3.0ms postprocess per image at shape (1, 3, 384, 640)\n",
      "\n"
     ]
    },
    {
     "name": "stdout",
     "output_type": "stream",
     "text": [
      "Time to process 1 frame: 74 milliseconds\n",
      "Time to process 1 frame: 75 milliseconds\n",
      "Time to process 1 frame: 72 milliseconds\n"
     ]
    },
    {
     "name": "stderr",
     "output_type": "stream",
     "text": [
      "0: 384x640 1 K-001901, 1 K-006697, 1 K-028408, 5 K-031490s, 52.5ms\n",
      "Speed: 2.0ms preprocess, 52.5ms inference, 3.0ms postprocess per image at shape (1, 3, 384, 640)\n",
      "\n",
      "0: 384x640 1 K-001901, 1 K-004378, 2 K-028408s, 3 K-031490s, 51.5ms\n",
      "Speed: 3.0ms preprocess, 51.5ms inference, 3.0ms postprocess per image at shape (1, 3, 384, 640)\n",
      "\n",
      "0: 384x640 1 K-001901, 1 K-004378, 2 K-028408s, 3 K-031490s, 54.5ms\n",
      "Speed: 2.0ms preprocess, 54.5ms inference, 2.0ms postprocess per image at shape (1, 3, 384, 640)\n",
      "\n"
     ]
    },
    {
     "name": "stdout",
     "output_type": "stream",
     "text": [
      "Time to process 1 frame: 73 milliseconds\n",
      "Time to process 1 frame: 74 milliseconds\n",
      "Time to process 1 frame: 75 milliseconds\n"
     ]
    },
    {
     "name": "stderr",
     "output_type": "stream",
     "text": [
      "0: 384x640 1 K-001901, 1 K-004378, 1 K-006697, 2 K-028408s, 3 K-031490s, 49.0ms\n",
      "Speed: 2.0ms preprocess, 49.0ms inference, 2.0ms postprocess per image at shape (1, 3, 384, 640)\n",
      "\n",
      "0: 384x640 1 K-001901, 1 K-004378, 1 K-028408, 4 K-031490s, 52.0ms\n",
      "Speed: 2.0ms preprocess, 52.0ms inference, 3.0ms postprocess per image at shape (1, 3, 384, 640)\n",
      "\n",
      "0: 384x640 1 K-001901, 1 K-006697, 2 K-028408s, 3 K-031490s, 50.5ms\n",
      "Speed: 3.0ms preprocess, 50.5ms inference, 2.0ms postprocess per image at shape (1, 3, 384, 640)\n",
      "\n"
     ]
    },
    {
     "name": "stdout",
     "output_type": "stream",
     "text": [
      "Time to process 1 frame: 71 milliseconds\n",
      "Time to process 1 frame: 71 milliseconds\n",
      "Time to process 1 frame: 72 milliseconds\n"
     ]
    },
    {
     "name": "stderr",
     "output_type": "stream",
     "text": [
      "0: 384x640 1 K-001901, 1 K-006697, 2 K-028408s, 2 K-031490s, 50.1ms\n",
      "Speed: 2.0ms preprocess, 50.1ms inference, 2.0ms postprocess per image at shape (1, 3, 384, 640)\n",
      "\n",
      "0: 384x640 1 K-001562, 1 K-001901, 1 K-006697, 2 K-028408s, 2 K-031490s, 53.0ms\n",
      "Speed: 3.0ms preprocess, 53.0ms inference, 4.0ms postprocess per image at shape (1, 3, 384, 640)\n",
      "\n",
      "0: 384x640 1 K-001901, 2 K-006697s, 4 K-031490s, 48.0ms\n",
      "Speed: 3.0ms preprocess, 48.0ms inference, 2.0ms postprocess per image at shape (1, 3, 384, 640)\n"
     ]
    },
    {
     "name": "stdout",
     "output_type": "stream",
     "text": [
      "Time to process 1 frame: 68 milliseconds\n",
      "Time to process 1 frame: 80 milliseconds\n",
      "Time to process 1 frame: 69 milliseconds\n"
     ]
    },
    {
     "name": "stderr",
     "output_type": "stream",
     "text": [
      "\n",
      "0: 384x640 1 K-001901, 2 K-006697s, 2 K-031490s, 45.3ms\n",
      "Speed: 2.0ms preprocess, 45.3ms inference, 4.0ms postprocess per image at shape (1, 3, 384, 640)\n",
      "\n",
      "0: 384x640 1 K-001901, 1 K-006697, 1 K-031490, 47.1ms\n",
      "Speed: 2.0ms preprocess, 47.1ms inference, 3.0ms postprocess per image at shape (1, 3, 384, 640)\n",
      "\n",
      "0: 384x640 1 K-001901, 1 K-006697, 1 K-031490, 47.0ms\n",
      "Speed: 2.0ms preprocess, 47.0ms inference, 2.0ms postprocess per image at shape (1, 3, 384, 640)\n",
      "\n"
     ]
    },
    {
     "name": "stdout",
     "output_type": "stream",
     "text": [
      "Time to process 1 frame: 66 milliseconds\n",
      "Time to process 1 frame: 70 milliseconds\n",
      "Time to process 1 frame: 67 milliseconds\n"
     ]
    },
    {
     "name": "stderr",
     "output_type": "stream",
     "text": [
      "0: 384x640 1 K-006697, 1 K-031490, 48.0ms\n",
      "Speed: 3.0ms preprocess, 48.0ms inference, 3.0ms postprocess per image at shape (1, 3, 384, 640)\n",
      "\n",
      "0: 384x640 1 K-006697, 1 K-031490, 46.5ms\n",
      "Speed: 2.0ms preprocess, 46.5ms inference, 3.0ms postprocess per image at shape (1, 3, 384, 640)\n",
      "\n",
      "0: 384x640 1 K-006697, 1 K-031490, 46.5ms\n",
      "Speed: 2.0ms preprocess, 46.5ms inference, 2.0ms postprocess per image at shape (1, 3, 384, 640)\n",
      "\n"
     ]
    },
    {
     "name": "stdout",
     "output_type": "stream",
     "text": [
      "Time to process 1 frame: 69 milliseconds\n",
      "Time to process 1 frame: 67 milliseconds\n",
      "Time to process 1 frame: 67 milliseconds\n"
     ]
    },
    {
     "name": "stderr",
     "output_type": "stream",
     "text": [
      "0: 384x640 1 K-006697, 1 K-031490, 47.0ms\n",
      "Speed: 2.0ms preprocess, 47.0ms inference, 2.0ms postprocess per image at shape (1, 3, 384, 640)\n",
      "\n",
      "0: 384x640 1 K-006697, 46.0ms\n",
      "Speed: 2.0ms preprocess, 46.0ms inference, 3.0ms postprocess per image at shape (1, 3, 384, 640)\n",
      "\n",
      "0: 384x640 1 K-006697, 46.2ms\n",
      "Speed: 2.0ms preprocess, 46.2ms inference, 3.0ms postprocess per image at shape (1, 3, 384, 640)\n",
      "\n",
      "0: 384x640 1 K-006697, 48.0ms\n"
     ]
    },
    {
     "name": "stdout",
     "output_type": "stream",
     "text": [
      "Time to process 1 frame: 67 milliseconds\n",
      "Time to process 1 frame: 66 milliseconds\n",
      "Time to process 1 frame: 67 milliseconds\n"
     ]
    },
    {
     "name": "stderr",
     "output_type": "stream",
     "text": [
      "Speed: 2.0ms preprocess, 48.0ms inference, 3.0ms postprocess per image at shape (1, 3, 384, 640)\n",
      "\n",
      "0: 384x640 1 K-006697, 1 K-031490, 48.0ms\n",
      "Speed: 2.0ms preprocess, 48.0ms inference, 3.0ms postprocess per image at shape (1, 3, 384, 640)\n",
      "\n",
      "0: 384x640 1 K-001901, 1 K-006697, 4 K-031490s, 46.5ms\n",
      "Speed: 2.0ms preprocess, 46.5ms inference, 3.0ms postprocess per image at shape (1, 3, 384, 640)\n",
      "\n"
     ]
    },
    {
     "name": "stdout",
     "output_type": "stream",
     "text": [
      "Time to process 1 frame: 68 milliseconds\n",
      "Time to process 1 frame: 68 milliseconds\n",
      "Time to process 1 frame: 68 milliseconds\n"
     ]
    },
    {
     "name": "stderr",
     "output_type": "stream",
     "text": [
      "0: 384x640 1 K-001901, 1 K-004378, 1 K-006697, 4 K-031490s, 47.5ms\n",
      "Speed: 2.0ms preprocess, 47.5ms inference, 3.0ms postprocess per image at shape (1, 3, 384, 640)\n",
      "\n",
      "0: 384x640 1 K-001901, 1 K-004378, 4 K-031490s, 47.9ms\n",
      "Speed: 2.0ms preprocess, 47.9ms inference, 3.2ms postprocess per image at shape (1, 3, 384, 640)\n",
      "\n",
      "0: 384x640 1 K-001901, 1 K-004378, 4 K-031490s, 47.0ms\n",
      "Speed: 2.5ms preprocess, 47.0ms inference, 3.0ms postprocess per image at shape (1, 3, 384, 640)\n",
      "\n",
      "0: 384x640 1 K-001901, 1 K-004378, 4 K-031490s, 47.5ms\n"
     ]
    },
    {
     "name": "stdout",
     "output_type": "stream",
     "text": [
      "Time to process 1 frame: 69 milliseconds\n",
      "Time to process 1 frame: 69 milliseconds\n",
      "Time to process 1 frame: 69 milliseconds\n"
     ]
    },
    {
     "name": "stderr",
     "output_type": "stream",
     "text": [
      "Speed: 2.0ms preprocess, 47.5ms inference, 2.0ms postprocess per image at shape (1, 3, 384, 640)\n",
      "\n",
      "0: 384x640 1 K-001901, 1 K-004378, 4 K-031490s, 47.0ms\n",
      "Speed: 2.0ms preprocess, 47.0ms inference, 3.0ms postprocess per image at shape (1, 3, 384, 640)\n",
      "\n",
      "0: 384x640 1 K-001901, 1 K-006697, 4 K-031490s, 47.0ms\n",
      "Speed: 2.0ms preprocess, 47.0ms inference, 3.0ms postprocess per image at shape (1, 3, 384, 640)\n",
      "\n"
     ]
    },
    {
     "name": "stdout",
     "output_type": "stream",
     "text": [
      "Time to process 1 frame: 67 milliseconds\n",
      "Time to process 1 frame: 71 milliseconds\n",
      "Time to process 1 frame: 67 milliseconds\n"
     ]
    },
    {
     "name": "stderr",
     "output_type": "stream",
     "text": [
      "0: 384x640 1 K-001901, 1 K-006697, 4 K-031490s, 46.5ms\n",
      "Speed: 2.0ms preprocess, 46.5ms inference, 3.0ms postprocess per image at shape (1, 3, 384, 640)\n",
      "\n",
      "0: 384x640 1 K-001901, 1 K-004378, 4 K-031490s, 46.6ms\n",
      "Speed: 3.0ms preprocess, 46.6ms inference, 4.0ms postprocess per image at shape (1, 3, 384, 640)\n",
      "\n",
      "0: 384x640 1 K-001901, 1 K-004378, 4 K-031490s, 46.0ms\n",
      "Speed: 3.0ms preprocess, 46.0ms inference, 4.4ms postprocess per image at shape (1, 3, 384, 640)\n",
      "\n"
     ]
    },
    {
     "name": "stdout",
     "output_type": "stream",
     "text": [
      "Time to process 1 frame: 68 milliseconds\n",
      "Time to process 1 frame: 70 milliseconds\n",
      "Time to process 1 frame: 69 milliseconds\n"
     ]
    },
    {
     "name": "stderr",
     "output_type": "stream",
     "text": [
      "0: 384x640 1 K-001901, 1 K-004378, 4 K-031490s, 47.0ms\n",
      "Speed: 2.0ms preprocess, 47.0ms inference, 2.0ms postprocess per image at shape (1, 3, 384, 640)\n",
      "\n",
      "0: 384x640 1 K-001901, 1 K-004378, 1 K-006697, 4 K-031490s, 47.5ms\n",
      "Speed: 2.0ms preprocess, 47.5ms inference, 4.0ms postprocess per image at shape (1, 3, 384, 640)\n",
      "\n",
      "0: 384x640 1 K-001901, 1 K-004378, 4 K-031490s, 48.0ms\n",
      "Speed: 2.0ms preprocess, 48.0ms inference, 2.5ms postprocess per image at shape (1, 3, 384, 640)\n",
      "\n"
     ]
    },
    {
     "name": "stdout",
     "output_type": "stream",
     "text": [
      "Time to process 1 frame: 67 milliseconds\n",
      "Time to process 1 frame: 73 milliseconds\n",
      "Time to process 1 frame: 71 milliseconds\n"
     ]
    },
    {
     "name": "stderr",
     "output_type": "stream",
     "text": [
      "0: 384x640 1 K-001901, 1 K-004378, 4 K-031490s, 47.0ms\n",
      "Speed: 3.0ms preprocess, 47.0ms inference, 4.0ms postprocess per image at shape (1, 3, 384, 640)\n",
      "\n",
      "0: 384x640 1 K-001901, 1 K-004378, 4 K-031490s, 47.0ms\n",
      "Speed: 2.5ms preprocess, 47.0ms inference, 3.0ms postprocess per image at shape (1, 3, 384, 640)\n",
      "\n",
      "0: 384x640 1 K-001901, 1 K-004378, 1 K-006697, 4 K-031490s, 47.0ms\n",
      "Speed: 3.0ms preprocess, 47.0ms inference, 3.0ms postprocess per image at shape (1, 3, 384, 640)\n",
      "\n"
     ]
    },
    {
     "name": "stdout",
     "output_type": "stream",
     "text": [
      "Time to process 1 frame: 70 milliseconds\n",
      "Time to process 1 frame: 70 milliseconds\n",
      "Time to process 1 frame: 70 milliseconds\n"
     ]
    },
    {
     "name": "stderr",
     "output_type": "stream",
     "text": [
      "0: 384x640 1 K-001901, 1 K-004378, 1 K-006697, 4 K-031490s, 47.9ms\n",
      "Speed: 2.0ms preprocess, 47.9ms inference, 3.1ms postprocess per image at shape (1, 3, 384, 640)\n",
      "\n",
      "0: 384x640 1 K-001901, 1 K-004378, 4 K-031490s, 47.0ms\n",
      "Speed: 3.0ms preprocess, 47.0ms inference, 2.0ms postprocess per image at shape (1, 3, 384, 640)\n",
      "\n",
      "0: 384x640 1 K-001901, 1 K-004378, 1 K-006697, 4 K-031490s, 48.5ms\n",
      "Speed: 2.0ms preprocess, 48.5ms inference, 2.0ms postprocess per image at shape (1, 3, 384, 640)\n",
      "\n"
     ]
    },
    {
     "name": "stdout",
     "output_type": "stream",
     "text": [
      "Time to process 1 frame: 70 milliseconds\n",
      "Time to process 1 frame: 70 milliseconds\n",
      "Time to process 1 frame: 68 milliseconds\n"
     ]
    },
    {
     "name": "stderr",
     "output_type": "stream",
     "text": [
      "0: 384x640 1 K-001901, 1 K-006697, 4 K-031490s, 51.1ms\n",
      "Speed: 3.0ms preprocess, 51.1ms inference, 4.0ms postprocess per image at shape (1, 3, 384, 640)\n",
      "\n",
      "0: 384x640 1 K-001901, 1 K-004378, 1 K-006697, 4 K-031490s, 54.5ms\n",
      "Speed: 2.0ms preprocess, 54.5ms inference, 2.0ms postprocess per image at shape (1, 3, 384, 640)\n",
      "\n",
      "0: 384x640 1 K-001901, 1 K-004378, 1 K-006697, 4 K-031490s, 50.0ms\n",
      "Speed: 3.0ms preprocess, 50.0ms inference, 2.0ms postprocess per image at shape (1, 3, 384, 640)\n",
      "\n"
     ]
    },
    {
     "name": "stdout",
     "output_type": "stream",
     "text": [
      "Time to process 1 frame: 74 milliseconds\n",
      "Time to process 1 frame: 78 milliseconds\n",
      "Time to process 1 frame: 72 milliseconds\n"
     ]
    },
    {
     "name": "stderr",
     "output_type": "stream",
     "text": [
      "0: 384x640 1 K-001901, 1 K-007024, 4 K-031490s, 53.0ms\n",
      "Speed: 2.0ms preprocess, 53.0ms inference, 3.0ms postprocess per image at shape (1, 3, 384, 640)\n",
      "\n",
      "0: 384x640 1 K-001901, 1 K-004378, 1 K-007024, 4 K-031490s, 51.1ms\n",
      "Speed: 2.0ms preprocess, 51.1ms inference, 3.0ms postprocess per image at shape (1, 3, 384, 640)\n",
      "\n",
      "0: 384x640 1 K-006697, 4 K-031490s, 55.5ms\n",
      "Speed: 2.0ms preprocess, 55.5ms inference, 2.0ms postprocess per image at shape (1, 3, 384, 640)\n",
      "\n"
     ]
    },
    {
     "name": "stdout",
     "output_type": "stream",
     "text": [
      "Time to process 1 frame: 78 milliseconds\n",
      "Time to process 1 frame: 73 milliseconds\n",
      "Time to process 1 frame: 75 milliseconds\n"
     ]
    },
    {
     "name": "stderr",
     "output_type": "stream",
     "text": [
      "0: 384x640 1 K-006697, 4 K-031490s, 52.5ms\n",
      "Speed: 2.0ms preprocess, 52.5ms inference, 3.0ms postprocess per image at shape (1, 3, 384, 640)\n",
      "\n",
      "0: 384x640 1 K-006697, 4 K-031490s, 50.0ms\n",
      "Speed: 2.0ms preprocess, 50.0ms inference, 2.0ms postprocess per image at shape (1, 3, 384, 640)\n",
      "\n",
      "0: 384x640 1 K-031490, 54.5ms\n",
      "Speed: 2.0ms preprocess, 54.5ms inference, 3.0ms postprocess per image at shape (1, 3, 384, 640)\n",
      "\n"
     ]
    },
    {
     "name": "stdout",
     "output_type": "stream",
     "text": [
      "Time to process 1 frame: 74 milliseconds\n",
      "Time to process 1 frame: 70 milliseconds\n",
      "Time to process 1 frame: 75 milliseconds\n"
     ]
    },
    {
     "name": "stderr",
     "output_type": "stream",
     "text": [
      "0: 384x640 (no detections), 53.5ms\n",
      "Speed: 2.0ms preprocess, 53.5ms inference, 1.0ms postprocess per image at shape (1, 3, 384, 640)\n",
      "\n",
      "0: 384x640 1 K-038104, 50.9ms\n",
      "Speed: 2.0ms preprocess, 50.9ms inference, 2.1ms postprocess per image at shape (1, 3, 384, 640)\n",
      "\n",
      "0: 384x640 2 K-038104s, 59.0ms\n",
      "Speed: 2.0ms preprocess, 59.0ms inference, 3.0ms postprocess per image at shape (1, 3, 384, 640)\n",
      "\n"
     ]
    },
    {
     "name": "stdout",
     "output_type": "stream",
     "text": [
      "Time to process 1 frame: 72 milliseconds\n",
      "Time to process 1 frame: 70 milliseconds\n",
      "Time to process 1 frame: 80 milliseconds\n"
     ]
    },
    {
     "name": "stderr",
     "output_type": "stream",
     "text": [
      "0: 384x640 1 K-023933, 1 K-027777, 56.0ms\n",
      "Speed: 3.0ms preprocess, 56.0ms inference, 3.0ms postprocess per image at shape (1, 3, 384, 640)\n",
      "\n",
      "0: 384x640 1 K-013900, 58.1ms\n",
      "Speed: 3.0ms preprocess, 58.1ms inference, 3.0ms postprocess per image at shape (1, 3, 384, 640)\n",
      "\n",
      "0: 384x640 (no detections), 56.0ms\n",
      "Speed: 3.0ms preprocess, 56.0ms inference, 1.0ms postprocess per image at shape (1, 3, 384, 640)\n",
      "\n"
     ]
    },
    {
     "name": "stdout",
     "output_type": "stream",
     "text": [
      "Time to process 1 frame: 77 milliseconds\n",
      "Time to process 1 frame: 81 milliseconds\n",
      "Time to process 1 frame: 76 milliseconds\n"
     ]
    },
    {
     "name": "stderr",
     "output_type": "stream",
     "text": [
      "0: 384x640 (no detections), 57.5ms\n",
      "Speed: 3.0ms preprocess, 57.5ms inference, 1.0ms postprocess per image at shape (1, 3, 384, 640)\n",
      "\n",
      "0: 384x640 (no detections), 57.5ms\n",
      "Speed: 3.0ms preprocess, 57.5ms inference, 1.1ms postprocess per image at shape (1, 3, 384, 640)\n",
      "\n",
      "0: 384x640 1 K-006697, 1 K-038722, 1 K-044830, 52.0ms\n",
      "Speed: 2.0ms preprocess, 52.0ms inference, 2.0ms postprocess per image at shape (1, 3, 384, 640)\n",
      "\n"
     ]
    },
    {
     "name": "stdout",
     "output_type": "stream",
     "text": [
      "Time to process 1 frame: 76 milliseconds\n",
      "Time to process 1 frame: 75 milliseconds\n",
      "Time to process 1 frame: 70 milliseconds\n"
     ]
    },
    {
     "name": "stderr",
     "output_type": "stream",
     "text": [
      "0: 384x640 (no detections), 49.5ms\n",
      "Speed: 2.0ms preprocess, 49.5ms inference, 2.0ms postprocess per image at shape (1, 3, 384, 640)\n",
      "\n",
      "0: 384x640 (no detections), 52.5ms\n",
      "Speed: 3.0ms preprocess, 52.5ms inference, 1.0ms postprocess per image at shape (1, 3, 384, 640)\n",
      "\n",
      "0: 384x640 (no detections), 54.0ms\n",
      "Speed: 2.0ms preprocess, 54.0ms inference, 1.0ms postprocess per image at shape (1, 3, 384, 640)\n",
      "\n"
     ]
    },
    {
     "name": "stdout",
     "output_type": "stream",
     "text": [
      "Time to process 1 frame: 67 milliseconds\n",
      "Time to process 1 frame: 72 milliseconds\n",
      "Time to process 1 frame: 75 milliseconds\n"
     ]
    },
    {
     "name": "stderr",
     "output_type": "stream",
     "text": [
      "0: 384x640 (no detections), 54.0ms\n",
      "Speed: 3.0ms preprocess, 54.0ms inference, 2.0ms postprocess per image at shape (1, 3, 384, 640)\n",
      "\n",
      "0: 384x640 (no detections), 57.0ms\n",
      "Speed: 2.0ms preprocess, 57.0ms inference, 1.0ms postprocess per image at shape (1, 3, 384, 640)\n",
      "\n",
      "0: 384x640 (no detections), 57.5ms\n",
      "Speed: 2.0ms preprocess, 57.5ms inference, 1.0ms postprocess per image at shape (1, 3, 384, 640)\n",
      "\n"
     ]
    },
    {
     "name": "stdout",
     "output_type": "stream",
     "text": [
      "Time to process 1 frame: 73 milliseconds\n",
      "Time to process 1 frame: 74 milliseconds\n",
      "Time to process 1 frame: 73 milliseconds\n"
     ]
    },
    {
     "name": "stderr",
     "output_type": "stream",
     "text": [
      "0: 384x640 1 K-023933, 50.5ms\n",
      "Speed: 2.0ms preprocess, 50.5ms inference, 2.0ms postprocess per image at shape (1, 3, 384, 640)\n",
      "\n",
      "0: 384x640 (no detections), 49.5ms\n",
      "Speed: 2.0ms preprocess, 49.5ms inference, 2.0ms postprocess per image at shape (1, 3, 384, 640)\n",
      "\n",
      "0: 384x640 (no detections), 54.0ms\n",
      "Speed: 2.5ms preprocess, 54.0ms inference, 1.0ms postprocess per image at shape (1, 3, 384, 640)\n",
      "\n"
     ]
    },
    {
     "name": "stdout",
     "output_type": "stream",
     "text": [
      "Time to process 1 frame: 69 milliseconds\n",
      "Time to process 1 frame: 67 milliseconds\n",
      "Time to process 1 frame: 71 milliseconds\n"
     ]
    },
    {
     "name": "stderr",
     "output_type": "stream",
     "text": [
      "0: 384x640 (no detections), 50.5ms\n",
      "Speed: 2.0ms preprocess, 50.5ms inference, 2.0ms postprocess per image at shape (1, 3, 384, 640)\n",
      "\n",
      "0: 384x640 (no detections), 56.5ms\n",
      "Speed: 3.0ms preprocess, 56.5ms inference, 1.0ms postprocess per image at shape (1, 3, 384, 640)\n",
      "\n",
      "0: 384x640 1 K-004378, 55.0ms\n",
      "Speed: 2.0ms preprocess, 55.0ms inference, 3.0ms postprocess per image at shape (1, 3, 384, 640)\n",
      "\n"
     ]
    },
    {
     "name": "stdout",
     "output_type": "stream",
     "text": [
      "Time to process 1 frame: 69 milliseconds\n",
      "Time to process 1 frame: 74 milliseconds\n",
      "Time to process 1 frame: 74 milliseconds\n"
     ]
    },
    {
     "name": "stderr",
     "output_type": "stream",
     "text": [
      "0: 384x640 1 K-004378, 55.2ms\n",
      "Speed: 2.1ms preprocess, 55.2ms inference, 2.0ms postprocess per image at shape (1, 3, 384, 640)\n",
      "\n",
      "0: 384x640 1 K-004378, 51.5ms\n",
      "Speed: 2.0ms preprocess, 51.5ms inference, 2.0ms postprocess per image at shape (1, 3, 384, 640)\n",
      "\n",
      "0: 384x640 1 K-004378, 52.5ms\n",
      "Speed: 2.0ms preprocess, 52.5ms inference, 2.0ms postprocess per image at shape (1, 3, 384, 640)\n",
      "\n"
     ]
    },
    {
     "name": "stdout",
     "output_type": "stream",
     "text": [
      "Time to process 1 frame: 75 milliseconds\n",
      "Time to process 1 frame: 70 milliseconds\n",
      "Time to process 1 frame: 71 milliseconds\n"
     ]
    },
    {
     "name": "stderr",
     "output_type": "stream",
     "text": [
      "0: 384x640 1 K-004378, 53.0ms\n",
      "Speed: 2.0ms preprocess, 53.0ms inference, 4.0ms postprocess per image at shape (1, 3, 384, 640)\n",
      "\n",
      "0: 384x640 1 K-004378, 52.0ms\n",
      "Speed: 2.0ms preprocess, 52.0ms inference, 2.0ms postprocess per image at shape (1, 3, 384, 640)\n",
      "\n",
      "0: 384x640 (no detections), 49.5ms\n",
      "Speed: 3.0ms preprocess, 49.5ms inference, 1.0ms postprocess per image at shape (1, 3, 384, 640)\n",
      "\n"
     ]
    },
    {
     "name": "stdout",
     "output_type": "stream",
     "text": [
      "Time to process 1 frame: 75 milliseconds\n",
      "Time to process 1 frame: 70 milliseconds\n",
      "Time to process 1 frame: 68 milliseconds\n"
     ]
    },
    {
     "name": "stderr",
     "output_type": "stream",
     "text": [
      "0: 384x640 1 K-004378, 49.9ms\n",
      "Speed: 2.0ms preprocess, 49.9ms inference, 3.0ms postprocess per image at shape (1, 3, 384, 640)\n",
      "\n",
      "0: 384x640 1 K-004378, 52.5ms\n",
      "Speed: 2.1ms preprocess, 52.5ms inference, 3.0ms postprocess per image at shape (1, 3, 384, 640)\n",
      "\n",
      "0: 384x640 1 K-004378, 55.0ms\n",
      "Speed: 3.0ms preprocess, 55.0ms inference, 2.0ms postprocess per image at shape (1, 3, 384, 640)\n",
      "\n"
     ]
    },
    {
     "name": "stdout",
     "output_type": "stream",
     "text": [
      "Time to process 1 frame: 72 milliseconds\n",
      "Time to process 1 frame: 73 milliseconds\n",
      "Time to process 1 frame: 76 milliseconds\n"
     ]
    },
    {
     "name": "stderr",
     "output_type": "stream",
     "text": [
      "0: 384x640 1 K-004378, 51.5ms\n",
      "Speed: 2.0ms preprocess, 51.5ms inference, 2.0ms postprocess per image at shape (1, 3, 384, 640)\n",
      "\n",
      "0: 384x640 1 K-004378, 54.5ms\n",
      "Speed: 3.0ms preprocess, 54.5ms inference, 2.0ms postprocess per image at shape (1, 3, 384, 640)\n",
      "\n",
      "0: 384x640 (no detections), 56.0ms\n",
      "Speed: 2.0ms preprocess, 56.0ms inference, 1.0ms postprocess per image at shape (1, 3, 384, 640)\n",
      "\n"
     ]
    },
    {
     "name": "stdout",
     "output_type": "stream",
     "text": [
      "Time to process 1 frame: 69 milliseconds\n",
      "Time to process 1 frame: 75 milliseconds\n",
      "Time to process 1 frame: 73 milliseconds\n"
     ]
    },
    {
     "name": "stderr",
     "output_type": "stream",
     "text": [
      "0: 384x640 (no detections), 55.0ms\n",
      "Speed: 2.0ms preprocess, 55.0ms inference, 2.0ms postprocess per image at shape (1, 3, 384, 640)\n",
      "\n",
      "0: 384x640 (no detections), 53.7ms\n",
      "Speed: 3.0ms preprocess, 53.7ms inference, 1.0ms postprocess per image at shape (1, 3, 384, 640)\n",
      "\n",
      "0: 384x640 (no detections), 50.5ms\n",
      "Speed: 2.0ms preprocess, 50.5ms inference, 1.0ms postprocess per image at shape (1, 3, 384, 640)\n",
      "\n",
      "0: 384x640 (no detections), 50.0ms\n"
     ]
    },
    {
     "name": "stdout",
     "output_type": "stream",
     "text": [
      "Time to process 1 frame: 72 milliseconds\n",
      "Time to process 1 frame: 72 milliseconds\n",
      "Time to process 1 frame: 67 milliseconds\n"
     ]
    },
    {
     "name": "stderr",
     "output_type": "stream",
     "text": [
      "Speed: 3.0ms preprocess, 50.0ms inference, 1.0ms postprocess per image at shape (1, 3, 384, 640)\n",
      "\n",
      "0: 384x640 (no detections), 55.0ms\n",
      "Speed: 2.0ms preprocess, 55.0ms inference, 2.0ms postprocess per image at shape (1, 3, 384, 640)\n",
      "\n",
      "0: 384x640 (no detections), 55.5ms\n",
      "Speed: 2.0ms preprocess, 55.5ms inference, 1.0ms postprocess per image at shape (1, 3, 384, 640)\n",
      "\n"
     ]
    },
    {
     "name": "stdout",
     "output_type": "stream",
     "text": [
      "Time to process 1 frame: 70 milliseconds\n",
      "Time to process 1 frame: 74 milliseconds\n",
      "Time to process 1 frame: 74 milliseconds\n"
     ]
    },
    {
     "name": "stderr",
     "output_type": "stream",
     "text": [
      "0: 384x640 (no detections), 50.1ms\n",
      "Speed: 2.0ms preprocess, 50.1ms inference, 1.0ms postprocess per image at shape (1, 3, 384, 640)\n",
      "\n",
      "0: 384x640 (no detections), 47.0ms\n",
      "Speed: 3.0ms preprocess, 47.0ms inference, 1.0ms postprocess per image at shape (1, 3, 384, 640)\n",
      "\n",
      "0: 384x640 (no detections), 50.0ms\n",
      "Speed: 2.0ms preprocess, 50.0ms inference, 2.0ms postprocess per image at shape (1, 3, 384, 640)\n",
      "\n",
      "0: 384x640 (no detections), 52.0ms\n"
     ]
    },
    {
     "name": "stdout",
     "output_type": "stream",
     "text": [
      "Time to process 1 frame: 67 milliseconds\n",
      "Time to process 1 frame: 66 milliseconds\n",
      "Time to process 1 frame: 67 milliseconds\n"
     ]
    },
    {
     "name": "stderr",
     "output_type": "stream",
     "text": [
      "Speed: 2.0ms preprocess, 52.0ms inference, 1.0ms postprocess per image at shape (1, 3, 384, 640)\n",
      "\n",
      "0: 384x640 (no detections), 55.2ms\n",
      "Speed: 2.0ms preprocess, 55.2ms inference, 2.0ms postprocess per image at shape (1, 3, 384, 640)\n",
      "\n",
      "0: 384x640 (no detections), 51.0ms\n",
      "Speed: 2.0ms preprocess, 51.0ms inference, 1.0ms postprocess per image at shape (1, 3, 384, 640)\n",
      "\n"
     ]
    },
    {
     "name": "stdout",
     "output_type": "stream",
     "text": [
      "Time to process 1 frame: 71 milliseconds\n",
      "Time to process 1 frame: 73 milliseconds\n",
      "Time to process 1 frame: 68 milliseconds\n"
     ]
    },
    {
     "name": "stderr",
     "output_type": "stream",
     "text": [
      "0: 384x640 (no detections), 48.5ms\n",
      "Speed: 3.0ms preprocess, 48.5ms inference, 2.0ms postprocess per image at shape (1, 3, 384, 640)\n",
      "\n",
      "0: 384x640 1 K-004378, 49.5ms\n",
      "Speed: 2.0ms preprocess, 49.5ms inference, 4.0ms postprocess per image at shape (1, 3, 384, 640)\n",
      "\n",
      "0: 384x640 (no detections), 55.0ms\n",
      "Speed: 2.0ms preprocess, 55.0ms inference, 2.0ms postprocess per image at shape (1, 3, 384, 640)\n",
      "\n"
     ]
    },
    {
     "name": "stdout",
     "output_type": "stream",
     "text": [
      "Time to process 1 frame: 68 milliseconds\n",
      "Time to process 1 frame: 70 milliseconds\n",
      "Time to process 1 frame: 73 milliseconds\n"
     ]
    },
    {
     "name": "stderr",
     "output_type": "stream",
     "text": [
      "0: 384x640 (no detections), 54.9ms\n",
      "Speed: 2.0ms preprocess, 54.9ms inference, 1.0ms postprocess per image at shape (1, 3, 384, 640)\n",
      "\n",
      "0: 384x640 1 K-004378, 57.5ms\n",
      "Speed: 3.0ms preprocess, 57.5ms inference, 3.0ms postprocess per image at shape (1, 3, 384, 640)\n",
      "\n",
      "0: 384x640 (no detections), 52.5ms\n",
      "Speed: 5.0ms preprocess, 52.5ms inference, 1.0ms postprocess per image at shape (1, 3, 384, 640)\n",
      "\n"
     ]
    },
    {
     "name": "stdout",
     "output_type": "stream",
     "text": [
      "Time to process 1 frame: 74 milliseconds\n",
      "Time to process 1 frame: 80 milliseconds\n",
      "Time to process 1 frame: 74 milliseconds\n"
     ]
    },
    {
     "name": "stderr",
     "output_type": "stream",
     "text": [
      "0: 384x640 (no detections), 57.5ms\n",
      "Speed: 2.0ms preprocess, 57.5ms inference, 1.0ms postprocess per image at shape (1, 3, 384, 640)\n",
      "\n",
      "0: 384x640 (no detections), 53.5ms\n",
      "Speed: 2.0ms preprocess, 53.5ms inference, 2.0ms postprocess per image at shape (1, 3, 384, 640)\n",
      "\n",
      "0: 384x640 (no detections), 54.0ms\n",
      "Speed: 2.0ms preprocess, 54.0ms inference, 2.0ms postprocess per image at shape (1, 3, 384, 640)\n",
      "\n"
     ]
    },
    {
     "name": "stdout",
     "output_type": "stream",
     "text": [
      "Time to process 1 frame: 79 milliseconds\n",
      "Time to process 1 frame: 72 milliseconds\n",
      "Time to process 1 frame: 74 milliseconds\n"
     ]
    },
    {
     "name": "stderr",
     "output_type": "stream",
     "text": [
      "0: 384x640 (no detections), 48.6ms\n",
      "Speed: 4.5ms preprocess, 48.6ms inference, 2.6ms postprocess per image at shape (1, 3, 384, 640)\n",
      "\n",
      "0: 384x640 (no detections), 49.2ms\n",
      "Speed: 3.0ms preprocess, 49.2ms inference, 3.0ms postprocess per image at shape (1, 3, 384, 640)\n",
      "\n",
      "0: 384x640 (no detections), 60.5ms\n",
      "Speed: 2.0ms preprocess, 60.5ms inference, 2.0ms postprocess per image at shape (1, 3, 384, 640)\n",
      "\n"
     ]
    },
    {
     "name": "stdout",
     "output_type": "stream",
     "text": [
      "Time to process 1 frame: 72 milliseconds\n",
      "Time to process 1 frame: 70 milliseconds\n",
      "Time to process 1 frame: 81 milliseconds\n"
     ]
    },
    {
     "name": "stderr",
     "output_type": "stream",
     "text": [
      "0: 384x640 (no detections), 64.5ms\n",
      "Speed: 4.0ms preprocess, 64.5ms inference, 1.0ms postprocess per image at shape (1, 3, 384, 640)\n",
      "\n",
      "0: 384x640 (no detections), 47.0ms\n",
      "Speed: 2.0ms preprocess, 47.0ms inference, 1.0ms postprocess per image at shape (1, 3, 384, 640)\n",
      "\n",
      "0: 384x640 (no detections), 48.0ms\n",
      "Speed: 3.0ms preprocess, 48.0ms inference, 2.0ms postprocess per image at shape (1, 3, 384, 640)\n",
      "\n"
     ]
    },
    {
     "name": "stdout",
     "output_type": "stream",
     "text": [
      "Time to process 1 frame: 88 milliseconds\n",
      "Time to process 1 frame: 67 milliseconds\n",
      "Time to process 1 frame: 69 milliseconds\n"
     ]
    },
    {
     "name": "stderr",
     "output_type": "stream",
     "text": [
      "0: 384x640 (no detections), 50.5ms\n",
      "Speed: 1.0ms preprocess, 50.5ms inference, 1.0ms postprocess per image at shape (1, 3, 384, 640)\n",
      "\n",
      "0: 384x640 (no detections), 50.3ms\n",
      "Speed: 2.8ms preprocess, 50.3ms inference, 1.0ms postprocess per image at shape (1, 3, 384, 640)\n",
      "\n",
      "0: 384x640 (no detections), 50.0ms\n",
      "Speed: 2.0ms preprocess, 50.0ms inference, 1.0ms postprocess per image at shape (1, 3, 384, 640)\n",
      "\n"
     ]
    },
    {
     "name": "stdout",
     "output_type": "stream",
     "text": [
      "Time to process 1 frame: 69 milliseconds\n",
      "Time to process 1 frame: 68 milliseconds\n",
      "Time to process 1 frame: 67 milliseconds\n"
     ]
    },
    {
     "name": "stderr",
     "output_type": "stream",
     "text": [
      "0: 384x640 (no detections), 49.0ms\n",
      "Speed: 3.0ms preprocess, 49.0ms inference, 2.0ms postprocess per image at shape (1, 3, 384, 640)\n",
      "\n",
      "0: 384x640 (no detections), 50.5ms\n",
      "Speed: 2.0ms preprocess, 50.5ms inference, 1.0ms postprocess per image at shape (1, 3, 384, 640)\n",
      "\n",
      "0: 384x640 (no detections), 49.5ms\n",
      "Speed: 2.0ms preprocess, 49.5ms inference, 1.0ms postprocess per image at shape (1, 3, 384, 640)\n",
      "\n",
      "0: 384x640 (no detections), 50.0ms\n"
     ]
    },
    {
     "name": "stdout",
     "output_type": "stream",
     "text": [
      "Time to process 1 frame: 70 milliseconds\n",
      "Time to process 1 frame: 69 milliseconds\n",
      "Time to process 1 frame: 66 milliseconds\n"
     ]
    },
    {
     "name": "stderr",
     "output_type": "stream",
     "text": [
      "Speed: 2.0ms preprocess, 50.0ms inference, 2.0ms postprocess per image at shape (1, 3, 384, 640)\n",
      "\n",
      "0: 384x640 (no detections), 47.5ms\n",
      "Speed: 2.0ms preprocess, 47.5ms inference, 1.0ms postprocess per image at shape (1, 3, 384, 640)\n",
      "\n",
      "0: 384x640 (no detections), 47.2ms\n",
      "Speed: 2.1ms preprocess, 47.2ms inference, 2.0ms postprocess per image at shape (1, 3, 384, 640)\n",
      "\n"
     ]
    },
    {
     "name": "stdout",
     "output_type": "stream",
     "text": [
      "Time to process 1 frame: 67 milliseconds\n",
      "Time to process 1 frame: 65 milliseconds\n",
      "Time to process 1 frame: 64 milliseconds\n"
     ]
    },
    {
     "name": "stderr",
     "output_type": "stream",
     "text": [
      "0: 384x640 (no detections), 48.0ms\n",
      "Speed: 2.0ms preprocess, 48.0ms inference, 2.0ms postprocess per image at shape (1, 3, 384, 640)\n",
      "\n",
      "0: 384x640 (no detections), 48.0ms\n",
      "Speed: 3.0ms preprocess, 48.0ms inference, 3.0ms postprocess per image at shape (1, 3, 384, 640)\n",
      "\n",
      "0: 384x640 (no detections), 49.1ms\n",
      "Speed: 2.0ms preprocess, 49.1ms inference, 1.0ms postprocess per image at shape (1, 3, 384, 640)\n",
      "\n"
     ]
    },
    {
     "name": "stdout",
     "output_type": "stream",
     "text": [
      "Time to process 1 frame: 66 milliseconds\n",
      "Time to process 1 frame: 71 milliseconds\n",
      "Time to process 1 frame: 66 milliseconds\n"
     ]
    },
    {
     "name": "stderr",
     "output_type": "stream",
     "text": [
      "0: 384x640 (no detections), 49.1ms\n",
      "Speed: 2.0ms preprocess, 49.1ms inference, 1.0ms postprocess per image at shape (1, 3, 384, 640)\n",
      "\n",
      "0: 384x640 (no detections), 50.0ms\n",
      "Speed: 2.0ms preprocess, 50.0ms inference, 1.0ms postprocess per image at shape (1, 3, 384, 640)\n",
      "\n",
      "0: 384x640 (no detections), 50.5ms\n",
      "Speed: 2.0ms preprocess, 50.5ms inference, 2.0ms postprocess per image at shape (1, 3, 384, 640)\n",
      "\n",
      "0: 384x640 (no detections), 49.6ms\n"
     ]
    },
    {
     "name": "stdout",
     "output_type": "stream",
     "text": [
      "Time to process 1 frame: 66 milliseconds\n",
      "Time to process 1 frame: 67 milliseconds\n",
      "Time to process 1 frame: 69 milliseconds\n"
     ]
    },
    {
     "name": "stderr",
     "output_type": "stream",
     "text": [
      "Speed: 2.7ms preprocess, 49.6ms inference, 1.0ms postprocess per image at shape (1, 3, 384, 640)\n",
      "\n",
      "0: 384x640 (no detections), 49.0ms\n",
      "Speed: 2.0ms preprocess, 49.0ms inference, 1.0ms postprocess per image at shape (1, 3, 384, 640)\n",
      "\n",
      "0: 384x640 (no detections), 50.0ms\n",
      "Speed: 2.0ms preprocess, 50.0ms inference, 1.0ms postprocess per image at shape (1, 3, 384, 640)\n",
      "\n"
     ]
    },
    {
     "name": "stdout",
     "output_type": "stream",
     "text": [
      "Time to process 1 frame: 68 milliseconds\n",
      "Time to process 1 frame: 66 milliseconds\n",
      "Time to process 1 frame: 68 milliseconds\n"
     ]
    },
    {
     "name": "stderr",
     "output_type": "stream",
     "text": [
      "0: 384x640 (no detections), 49.5ms\n",
      "Speed: 2.0ms preprocess, 49.5ms inference, 2.0ms postprocess per image at shape (1, 3, 384, 640)\n",
      "\n",
      "0: 384x640 (no detections), 49.2ms\n",
      "Speed: 2.0ms preprocess, 49.2ms inference, 1.0ms postprocess per image at shape (1, 3, 384, 640)\n",
      "\n",
      "0: 384x640 (no detections), 50.0ms\n",
      "Speed: 2.0ms preprocess, 50.0ms inference, 2.0ms postprocess per image at shape (1, 3, 384, 640)\n",
      "\n"
     ]
    },
    {
     "name": "stdout",
     "output_type": "stream",
     "text": [
      "Time to process 1 frame: 69 milliseconds\n",
      "Time to process 1 frame: 66 milliseconds\n",
      "Time to process 1 frame: 68 milliseconds\n"
     ]
    },
    {
     "name": "stderr",
     "output_type": "stream",
     "text": [
      "0: 384x640 (no detections), 47.5ms\n",
      "Speed: 3.0ms preprocess, 47.5ms inference, 2.0ms postprocess per image at shape (1, 3, 384, 640)\n",
      "\n",
      "0: 384x640 (no detections), 47.5ms\n",
      "Speed: 2.0ms preprocess, 47.5ms inference, 1.0ms postprocess per image at shape (1, 3, 384, 640)\n",
      "\n",
      "0: 384x640 (no detections), 47.0ms\n",
      "Speed: 3.0ms preprocess, 47.0ms inference, 1.0ms postprocess per image at shape (1, 3, 384, 640)\n",
      "\n",
      "0: 384x640 (no detections), 48.0ms\n"
     ]
    },
    {
     "name": "stdout",
     "output_type": "stream",
     "text": [
      "Time to process 1 frame: 66 milliseconds\n",
      "Time to process 1 frame: 65 milliseconds\n",
      "Time to process 1 frame: 65 milliseconds\n"
     ]
    },
    {
     "name": "stderr",
     "output_type": "stream",
     "text": [
      "Speed: 2.0ms preprocess, 48.0ms inference, 1.0ms postprocess per image at shape (1, 3, 384, 640)\n",
      "\n",
      "0: 384x640 (no detections), 47.1ms\n",
      "Speed: 2.0ms preprocess, 47.1ms inference, 2.0ms postprocess per image at shape (1, 3, 384, 640)\n",
      "\n",
      "0: 384x640 (no detections), 47.0ms\n",
      "Speed: 3.0ms preprocess, 47.0ms inference, 2.0ms postprocess per image at shape (1, 3, 384, 640)\n",
      "\n"
     ]
    },
    {
     "name": "stdout",
     "output_type": "stream",
     "text": [
      "Time to process 1 frame: 66 milliseconds\n",
      "Time to process 1 frame: 65 milliseconds\n",
      "Time to process 1 frame: 67 milliseconds\n"
     ]
    },
    {
     "name": "stderr",
     "output_type": "stream",
     "text": [
      "0: 384x640 (no detections), 49.0ms\n",
      "Speed: 2.0ms preprocess, 49.0ms inference, 2.0ms postprocess per image at shape (1, 3, 384, 640)\n",
      "\n",
      "0: 384x640 (no detections), 49.5ms\n",
      "Speed: 2.0ms preprocess, 49.5ms inference, 2.0ms postprocess per image at shape (1, 3, 384, 640)\n",
      "\n",
      "0: 384x640 (no detections), 49.3ms\n",
      "Speed: 2.0ms preprocess, 49.3ms inference, 2.0ms postprocess per image at shape (1, 3, 384, 640)\n",
      "\n",
      "0: 384x640 (no detections), 50.0ms\n"
     ]
    },
    {
     "name": "stdout",
     "output_type": "stream",
     "text": [
      "Time to process 1 frame: 67 milliseconds\n",
      "Time to process 1 frame: 67 milliseconds\n",
      "Time to process 1 frame: 66 milliseconds\n"
     ]
    },
    {
     "name": "stderr",
     "output_type": "stream",
     "text": [
      "Speed: 2.0ms preprocess, 50.0ms inference, 1.0ms postprocess per image at shape (1, 3, 384, 640)\n",
      "\n",
      "0: 384x640 (no detections), 49.5ms\n",
      "Speed: 2.0ms preprocess, 49.5ms inference, 2.0ms postprocess per image at shape (1, 3, 384, 640)\n",
      "\n",
      "0: 384x640 (no detections), 50.5ms\n",
      "Speed: 2.0ms preprocess, 50.5ms inference, 1.0ms postprocess per image at shape (1, 3, 384, 640)\n",
      "\n"
     ]
    },
    {
     "name": "stdout",
     "output_type": "stream",
     "text": [
      "Time to process 1 frame: 68 milliseconds\n",
      "Time to process 1 frame: 68 milliseconds\n",
      "Time to process 1 frame: 68 milliseconds\n"
     ]
    },
    {
     "name": "stderr",
     "output_type": "stream",
     "text": [
      "0: 384x640 (no detections), 50.0ms\n",
      "Speed: 2.0ms preprocess, 50.0ms inference, 2.0ms postprocess per image at shape (1, 3, 384, 640)\n",
      "\n",
      "0: 384x640 (no detections), 49.6ms\n",
      "Speed: 2.0ms preprocess, 49.6ms inference, 1.0ms postprocess per image at shape (1, 3, 384, 640)\n",
      "\n",
      "0: 384x640 (no detections), 48.5ms\n",
      "Speed: 2.0ms preprocess, 48.5ms inference, 2.0ms postprocess per image at shape (1, 3, 384, 640)\n",
      "\n",
      "0: 384x640 (no detections), 49.0ms\n"
     ]
    },
    {
     "name": "stdout",
     "output_type": "stream",
     "text": [
      "Time to process 1 frame: 68 milliseconds\n",
      "Time to process 1 frame: 68 milliseconds\n",
      "Time to process 1 frame: 66 milliseconds\n"
     ]
    },
    {
     "name": "stderr",
     "output_type": "stream",
     "text": [
      "Speed: 2.0ms preprocess, 49.0ms inference, 1.0ms postprocess per image at shape (1, 3, 384, 640)\n",
      "\n",
      "0: 384x640 (no detections), 50.0ms\n",
      "Speed: 2.0ms preprocess, 50.0ms inference, 1.0ms postprocess per image at shape (1, 3, 384, 640)\n",
      "\n",
      "0: 384x640 (no detections), 47.5ms\n",
      "Speed: 3.0ms preprocess, 47.5ms inference, 1.0ms postprocess per image at shape (1, 3, 384, 640)\n",
      "\n"
     ]
    },
    {
     "name": "stdout",
     "output_type": "stream",
     "text": [
      "Time to process 1 frame: 66 milliseconds\n",
      "Time to process 1 frame: 67 milliseconds\n",
      "Time to process 1 frame: 66 milliseconds\n"
     ]
    },
    {
     "name": "stderr",
     "output_type": "stream",
     "text": [
      "0: 384x640 (no detections), 46.5ms\n",
      "Speed: 3.0ms preprocess, 46.5ms inference, 2.0ms postprocess per image at shape (1, 3, 384, 640)\n",
      "\n",
      "0: 384x640 (no detections), 50.0ms\n",
      "Speed: 2.0ms preprocess, 50.0ms inference, 2.0ms postprocess per image at shape (1, 3, 384, 640)\n",
      "\n",
      "0: 384x640 (no detections), 47.0ms\n",
      "Speed: 2.0ms preprocess, 47.0ms inference, 2.0ms postprocess per image at shape (1, 3, 384, 640)\n",
      "\n"
     ]
    },
    {
     "name": "stdout",
     "output_type": "stream",
     "text": [
      "Time to process 1 frame: 66 milliseconds\n",
      "Time to process 1 frame: 69 milliseconds\n",
      "Time to process 1 frame: 64 milliseconds\n"
     ]
    },
    {
     "name": "stderr",
     "output_type": "stream",
     "text": [
      "0: 384x640 (no detections), 49.5ms\n",
      "Speed: 2.0ms preprocess, 49.5ms inference, 1.0ms postprocess per image at shape (1, 3, 384, 640)\n",
      "\n",
      "0: 384x640 (no detections), 50.6ms\n",
      "Speed: 2.0ms preprocess, 50.6ms inference, 1.0ms postprocess per image at shape (1, 3, 384, 640)\n",
      "\n",
      "0: 384x640 (no detections), 49.0ms\n",
      "Speed: 2.0ms preprocess, 49.0ms inference, 2.0ms postprocess per image at shape (1, 3, 384, 640)\n",
      "\n"
     ]
    },
    {
     "name": "stdout",
     "output_type": "stream",
     "text": [
      "Time to process 1 frame: 66 milliseconds\n",
      "Time to process 1 frame: 68 milliseconds\n",
      "Time to process 1 frame: 67 milliseconds\n"
     ]
    },
    {
     "name": "stderr",
     "output_type": "stream",
     "text": [
      "0: 384x640 (no detections), 50.0ms\n",
      "Speed: 3.0ms preprocess, 50.0ms inference, 1.0ms postprocess per image at shape (1, 3, 384, 640)\n",
      "\n",
      "0: 384x640 (no detections), 50.5ms\n",
      "Speed: 2.0ms preprocess, 50.5ms inference, 1.0ms postprocess per image at shape (1, 3, 384, 640)\n",
      "\n",
      "0: 384x640 (no detections), 49.5ms\n",
      "Speed: 2.0ms preprocess, 49.5ms inference, 1.0ms postprocess per image at shape (1, 3, 384, 640)\n"
     ]
    },
    {
     "name": "stdout",
     "output_type": "stream",
     "text": [
      "Time to process 1 frame: 68 milliseconds\n",
      "Time to process 1 frame: 69 milliseconds\n",
      "Time to process 1 frame: 67 milliseconds\n"
     ]
    },
    {
     "name": "stderr",
     "output_type": "stream",
     "text": [
      "\n",
      "0: 384x640 (no detections), 46.5ms\n",
      "Speed: 2.0ms preprocess, 46.5ms inference, 2.0ms postprocess per image at shape (1, 3, 384, 640)\n",
      "\n",
      "0: 384x640 (no detections), 47.5ms\n",
      "Speed: 2.0ms preprocess, 47.5ms inference, 1.0ms postprocess per image at shape (1, 3, 384, 640)\n",
      "\n",
      "0: 384x640 (no detections), 47.0ms\n",
      "Speed: 2.0ms preprocess, 47.0ms inference, 4.0ms postprocess per image at shape (1, 3, 384, 640)\n",
      "\n"
     ]
    },
    {
     "name": "stdout",
     "output_type": "stream",
     "text": [
      "Time to process 1 frame: 63 milliseconds\n",
      "Time to process 1 frame: 65 milliseconds\n",
      "Time to process 1 frame: 66 milliseconds\n"
     ]
    },
    {
     "name": "stderr",
     "output_type": "stream",
     "text": [
      "0: 384x640 (no detections), 47.4ms\n",
      "Speed: 1.6ms preprocess, 47.4ms inference, 3.0ms postprocess per image at shape (1, 3, 384, 640)\n",
      "\n",
      "0: 384x640 (no detections), 47.5ms\n",
      "Speed: 2.0ms preprocess, 47.5ms inference, 2.0ms postprocess per image at shape (1, 3, 384, 640)\n",
      "\n",
      "0: 384x640 (no detections), 47.5ms\n",
      "Speed: 3.0ms preprocess, 47.5ms inference, 2.0ms postprocess per image at shape (1, 3, 384, 640)\n",
      "\n"
     ]
    },
    {
     "name": "stdout",
     "output_type": "stream",
     "text": [
      "Time to process 1 frame: 67 milliseconds\n",
      "Time to process 1 frame: 78 milliseconds\n",
      "Time to process 1 frame: 67 milliseconds\n"
     ]
    },
    {
     "name": "stderr",
     "output_type": "stream",
     "text": [
      "0: 384x640 (no detections), 48.0ms\n",
      "Speed: 2.0ms preprocess, 48.0ms inference, 2.0ms postprocess per image at shape (1, 3, 384, 640)\n",
      "\n",
      "0: 384x640 (no detections), 47.2ms\n",
      "Speed: 2.0ms preprocess, 47.2ms inference, 3.0ms postprocess per image at shape (1, 3, 384, 640)\n",
      "\n",
      "0: 384x640 1 K-004378, 47.5ms\n",
      "Speed: 2.0ms preprocess, 47.5ms inference, 4.0ms postprocess per image at shape (1, 3, 384, 640)\n",
      "\n",
      "0: 384x640 (no detections), 47.0ms\n"
     ]
    },
    {
     "name": "stdout",
     "output_type": "stream",
     "text": [
      "Time to process 1 frame: 66 milliseconds\n",
      "Time to process 1 frame: 66 milliseconds\n",
      "Time to process 1 frame: 68 milliseconds\n"
     ]
    },
    {
     "name": "stderr",
     "output_type": "stream",
     "text": [
      "Speed: 2.0ms preprocess, 47.0ms inference, 1.0ms postprocess per image at shape (1, 3, 384, 640)\n",
      "\n",
      "0: 384x640 (no detections), 47.1ms\n",
      "Speed: 2.0ms preprocess, 47.1ms inference, 2.0ms postprocess per image at shape (1, 3, 384, 640)\n",
      "\n",
      "0: 384x640 (no detections), 47.5ms\n",
      "Speed: 2.0ms preprocess, 47.5ms inference, 2.0ms postprocess per image at shape (1, 3, 384, 640)\n",
      "\n"
     ]
    },
    {
     "name": "stdout",
     "output_type": "stream",
     "text": [
      "Time to process 1 frame: 64 milliseconds\n",
      "Time to process 1 frame: 65 milliseconds\n",
      "Time to process 1 frame: 66 milliseconds\n"
     ]
    },
    {
     "name": "stderr",
     "output_type": "stream",
     "text": [
      "0: 384x640 (no detections), 46.0ms\n",
      "Speed: 3.0ms preprocess, 46.0ms inference, 2.0ms postprocess per image at shape (1, 3, 384, 640)\n",
      "\n",
      "0: 384x640 (no detections), 47.0ms\n",
      "Speed: 2.0ms preprocess, 47.0ms inference, 2.0ms postprocess per image at shape (1, 3, 384, 640)\n",
      "\n",
      "0: 384x640 (no detections), 46.5ms\n",
      "Speed: 2.0ms preprocess, 46.5ms inference, 2.0ms postprocess per image at shape (1, 3, 384, 640)\n",
      "\n"
     ]
    },
    {
     "name": "stdout",
     "output_type": "stream",
     "text": [
      "Time to process 1 frame: 64 milliseconds\n",
      "Time to process 1 frame: 69 milliseconds\n",
      "Time to process 1 frame: 65 milliseconds\n"
     ]
    },
    {
     "name": "stderr",
     "output_type": "stream",
     "text": [
      "0: 384x640 (no detections), 47.0ms\n",
      "Speed: 2.0ms preprocess, 47.0ms inference, 1.0ms postprocess per image at shape (1, 3, 384, 640)\n",
      "\n",
      "0: 384x640 (no detections), 47.0ms\n",
      "Speed: 2.0ms preprocess, 47.0ms inference, 2.0ms postprocess per image at shape (1, 3, 384, 640)\n",
      "\n",
      "0: 384x640 (no detections), 48.5ms\n",
      "Speed: 3.0ms preprocess, 48.5ms inference, 1.0ms postprocess per image at shape (1, 3, 384, 640)\n",
      "\n",
      "0: 384x640 (no detections), 47.5ms\n"
     ]
    },
    {
     "name": "stdout",
     "output_type": "stream",
     "text": [
      "Time to process 1 frame: 65 milliseconds\n",
      "Time to process 1 frame: 64 milliseconds\n",
      "Time to process 1 frame: 67 milliseconds\n"
     ]
    },
    {
     "name": "stderr",
     "output_type": "stream",
     "text": [
      "Speed: 2.0ms preprocess, 47.5ms inference, 1.0ms postprocess per image at shape (1, 3, 384, 640)\n",
      "\n",
      "0: 384x640 (no detections), 48.0ms\n",
      "Speed: 2.0ms preprocess, 48.0ms inference, 1.0ms postprocess per image at shape (1, 3, 384, 640)\n",
      "\n",
      "0: 384x640 (no detections), 47.5ms\n",
      "Speed: 2.0ms preprocess, 47.5ms inference, 1.0ms postprocess per image at shape (1, 3, 384, 640)\n",
      "\n",
      "0: 384x640 (no detections), 47.5ms\n"
     ]
    },
    {
     "name": "stdout",
     "output_type": "stream",
     "text": [
      "Time to process 1 frame: 65 milliseconds\n",
      "Time to process 1 frame: 65 milliseconds\n",
      "Time to process 1 frame: 66 milliseconds\n"
     ]
    },
    {
     "name": "stderr",
     "output_type": "stream",
     "text": [
      "Speed: 2.0ms preprocess, 47.5ms inference, 2.0ms postprocess per image at shape (1, 3, 384, 640)\n",
      "\n",
      "0: 384x640 (no detections), 47.0ms\n",
      "Speed: 2.0ms preprocess, 47.0ms inference, 2.0ms postprocess per image at shape (1, 3, 384, 640)\n",
      "\n",
      "0: 384x640 (no detections), 48.0ms\n",
      "Speed: 2.0ms preprocess, 48.0ms inference, 1.0ms postprocess per image at shape (1, 3, 384, 640)\n",
      "\n",
      "0: 384x640 (no detections), 47.5ms\n"
     ]
    },
    {
     "name": "stdout",
     "output_type": "stream",
     "text": [
      "Time to process 1 frame: 66 milliseconds\n",
      "Time to process 1 frame: 64 milliseconds\n",
      "Time to process 1 frame: 67 milliseconds\n"
     ]
    },
    {
     "name": "stderr",
     "output_type": "stream",
     "text": [
      "Speed: 2.0ms preprocess, 47.5ms inference, 2.1ms postprocess per image at shape (1, 3, 384, 640)\n",
      "\n",
      "0: 384x640 (no detections), 48.0ms\n",
      "Speed: 2.0ms preprocess, 48.0ms inference, 2.0ms postprocess per image at shape (1, 3, 384, 640)\n",
      "\n",
      "0: 384x640 (no detections), 47.0ms\n",
      "Speed: 2.0ms preprocess, 47.0ms inference, 2.0ms postprocess per image at shape (1, 3, 384, 640)\n",
      "\n"
     ]
    },
    {
     "name": "stdout",
     "output_type": "stream",
     "text": [
      "Time to process 1 frame: 66 milliseconds\n",
      "Time to process 1 frame: 66 milliseconds\n",
      "Time to process 1 frame: 65 milliseconds\n"
     ]
    },
    {
     "name": "stderr",
     "output_type": "stream",
     "text": [
      "0: 384x640 (no detections), 48.5ms\n",
      "Speed: 2.0ms preprocess, 48.5ms inference, 2.0ms postprocess per image at shape (1, 3, 384, 640)\n",
      "\n",
      "0: 384x640 (no detections), 46.5ms\n",
      "Speed: 3.0ms preprocess, 46.5ms inference, 1.0ms postprocess per image at shape (1, 3, 384, 640)\n",
      "\n",
      "0: 384x640 (no detections), 49.0ms\n",
      "Speed: 3.0ms preprocess, 49.0ms inference, 1.0ms postprocess per image at shape (1, 3, 384, 640)\n",
      "\n",
      "0: 384x640 (no detections), 47.0ms\n"
     ]
    },
    {
     "name": "stdout",
     "output_type": "stream",
     "text": [
      "Time to process 1 frame: 68 milliseconds\n",
      "Time to process 1 frame: 66 milliseconds\n",
      "Time to process 1 frame: 68 milliseconds\n"
     ]
    },
    {
     "name": "stderr",
     "output_type": "stream",
     "text": [
      "Speed: 2.5ms preprocess, 47.0ms inference, 2.0ms postprocess per image at shape (1, 3, 384, 640)\n",
      "\n",
      "0: 384x640 (no detections), 48.2ms\n",
      "Speed: 2.0ms preprocess, 48.2ms inference, 2.0ms postprocess per image at shape (1, 3, 384, 640)\n",
      "\n",
      "0: 384x640 (no detections), 48.0ms\n",
      "Speed: 2.0ms preprocess, 48.0ms inference, 2.0ms postprocess per image at shape (1, 3, 384, 640)\n",
      "\n"
     ]
    },
    {
     "name": "stdout",
     "output_type": "stream",
     "text": [
      "Time to process 1 frame: 66 milliseconds\n",
      "Time to process 1 frame: 66 milliseconds\n",
      "Time to process 1 frame: 65 milliseconds\n"
     ]
    },
    {
     "name": "stderr",
     "output_type": "stream",
     "text": [
      "0: 384x640 (no detections), 48.0ms\n",
      "Speed: 2.0ms preprocess, 48.0ms inference, 2.0ms postprocess per image at shape (1, 3, 384, 640)\n",
      "\n",
      "0: 384x640 (no detections), 47.1ms\n",
      "Speed: 3.0ms preprocess, 47.1ms inference, 1.0ms postprocess per image at shape (1, 3, 384, 640)\n",
      "\n",
      "0: 384x640 (no detections), 48.1ms\n",
      "Speed: 2.0ms preprocess, 48.1ms inference, 2.0ms postprocess per image at shape (1, 3, 384, 640)\n",
      "\n",
      "0: 384x640 (no detections), 48.0ms\n"
     ]
    },
    {
     "name": "stdout",
     "output_type": "stream",
     "text": [
      "Time to process 1 frame: 66 milliseconds\n",
      "Time to process 1 frame: 65 milliseconds\n",
      "Time to process 1 frame: 66 milliseconds\n"
     ]
    },
    {
     "name": "stderr",
     "output_type": "stream",
     "text": [
      "Speed: 2.0ms preprocess, 48.0ms inference, 2.0ms postprocess per image at shape (1, 3, 384, 640)\n",
      "\n",
      "0: 384x640 (no detections), 47.1ms\n",
      "Speed: 3.0ms preprocess, 47.1ms inference, 2.0ms postprocess per image at shape (1, 3, 384, 640)\n",
      "\n",
      "0: 384x640 1 K-031490, 46.5ms\n",
      "Speed: 2.0ms preprocess, 46.5ms inference, 3.0ms postprocess per image at shape (1, 3, 384, 640)\n",
      "\n",
      "0: 384x640 2 K-001901s, 1 K-006697, 5 K-031490s, 46.6ms\n"
     ]
    },
    {
     "name": "stdout",
     "output_type": "stream",
     "text": [
      "Time to process 1 frame: 66 milliseconds\n",
      "Time to process 1 frame: 66 milliseconds\n",
      "Time to process 1 frame: 68 milliseconds\n"
     ]
    },
    {
     "name": "stderr",
     "output_type": "stream",
     "text": [
      "Speed: 2.1ms preprocess, 46.6ms inference, 2.0ms postprocess per image at shape (1, 3, 384, 640)\n",
      "\n",
      "0: 384x640 2 K-001901s, 1 K-006697, 5 K-031490s, 48.0ms\n",
      "Speed: 3.0ms preprocess, 48.0ms inference, 3.0ms postprocess per image at shape (1, 3, 384, 640)\n",
      "\n",
      "0: 384x640 2 K-001901s, 1 K-006697, 5 K-031490s, 47.5ms\n",
      "Speed: 2.0ms preprocess, 47.5ms inference, 3.0ms postprocess per image at shape (1, 3, 384, 640)\n",
      "\n"
     ]
    },
    {
     "name": "stdout",
     "output_type": "stream",
     "text": [
      "Time to process 1 frame: 65 milliseconds\n",
      "Time to process 1 frame: 69 milliseconds\n",
      "Time to process 1 frame: 69 milliseconds\n"
     ]
    },
    {
     "name": "stderr",
     "output_type": "stream",
     "text": [
      "0: 384x640 2 K-001901s, 1 K-006697, 5 K-031490s, 48.5ms\n",
      "Speed: 2.0ms preprocess, 48.5ms inference, 3.0ms postprocess per image at shape (1, 3, 384, 640)\n",
      "\n",
      "0: 384x640 2 K-001901s, 1 K-006697, 5 K-031490s, 48.3ms\n",
      "Speed: 2.0ms preprocess, 48.3ms inference, 3.0ms postprocess per image at shape (1, 3, 384, 640)\n",
      "\n",
      "0: 384x640 1 K-001901, 1 K-006697, 5 K-031490s, 47.3ms\n",
      "Speed: 2.0ms preprocess, 47.3ms inference, 3.0ms postprocess per image at shape (1, 3, 384, 640)\n",
      "\n"
     ]
    },
    {
     "name": "stdout",
     "output_type": "stream",
     "text": [
      "Time to process 1 frame: 71 milliseconds\n",
      "Time to process 1 frame: 69 milliseconds\n",
      "Time to process 1 frame: 67 milliseconds\n"
     ]
    },
    {
     "name": "stderr",
     "output_type": "stream",
     "text": [
      "0: 384x640 1 K-001901, 1 K-006697, 5 K-031490s, 48.5ms\n",
      "Speed: 3.0ms preprocess, 48.5ms inference, 3.0ms postprocess per image at shape (1, 3, 384, 640)\n",
      "\n",
      "0: 384x640 2 K-001901s, 1 K-006697, 5 K-031490s, 47.0ms\n",
      "Speed: 2.0ms preprocess, 47.0ms inference, 4.0ms postprocess per image at shape (1, 3, 384, 640)\n",
      "\n",
      "0: 384x640 2 K-001901s, 1 K-006697, 5 K-031490s, 47.0ms\n",
      "Speed: 2.0ms preprocess, 47.0ms inference, 2.0ms postprocess per image at shape (1, 3, 384, 640)\n",
      "\n"
     ]
    },
    {
     "name": "stdout",
     "output_type": "stream",
     "text": [
      "Time to process 1 frame: 71 milliseconds\n",
      "Time to process 1 frame: 67 milliseconds\n",
      "Time to process 1 frame: 67 milliseconds\n"
     ]
    },
    {
     "name": "stderr",
     "output_type": "stream",
     "text": [
      "0: 384x640 1 K-001901, 1 K-006697, 5 K-031490s, 47.5ms\n",
      "Speed: 2.0ms preprocess, 47.5ms inference, 2.0ms postprocess per image at shape (1, 3, 384, 640)\n",
      "\n",
      "0: 384x640 2 K-001901s, 1 K-006697, 5 K-031490s, 47.5ms\n",
      "Speed: 2.0ms preprocess, 47.5ms inference, 4.0ms postprocess per image at shape (1, 3, 384, 640)\n",
      "\n",
      "0: 384x640 2 K-001901s, 1 K-006697, 5 K-031490s, 48.0ms\n",
      "Speed: 2.0ms preprocess, 48.0ms inference, 4.0ms postprocess per image at shape (1, 3, 384, 640)\n",
      "\n"
     ]
    },
    {
     "name": "stdout",
     "output_type": "stream",
     "text": [
      "Time to process 1 frame: 68 milliseconds\n",
      "Time to process 1 frame: 71 milliseconds\n",
      "Time to process 1 frame: 71 milliseconds\n"
     ]
    },
    {
     "name": "stderr",
     "output_type": "stream",
     "text": [
      "0: 384x640 2 K-001901s, 1 K-006697, 5 K-031490s, 47.0ms\n",
      "Speed: 3.0ms preprocess, 47.0ms inference, 4.0ms postprocess per image at shape (1, 3, 384, 640)\n",
      "\n",
      "0: 384x640 2 K-001901s, 1 K-006697, 5 K-031490s, 47.3ms\n",
      "Speed: 2.0ms preprocess, 47.3ms inference, 3.0ms postprocess per image at shape (1, 3, 384, 640)\n",
      "\n",
      "0: 384x640 2 K-001901s, 1 K-006697, 5 K-031490s, 48.5ms\n",
      "Speed: 2.0ms preprocess, 48.5ms inference, 3.0ms postprocess per image at shape (1, 3, 384, 640)\n",
      "\n"
     ]
    },
    {
     "name": "stdout",
     "output_type": "stream",
     "text": [
      "Time to process 1 frame: 71 milliseconds\n",
      "Time to process 1 frame: 69 milliseconds\n",
      "Time to process 1 frame: 68 milliseconds\n"
     ]
    },
    {
     "name": "stderr",
     "output_type": "stream",
     "text": [
      "0: 384x640 2 K-001901s, 1 K-006697, 5 K-031490s, 47.0ms\n",
      "Speed: 2.0ms preprocess, 47.0ms inference, 2.0ms postprocess per image at shape (1, 3, 384, 640)\n",
      "\n",
      "0: 384x640 1 K-001901, 1 K-006697, 5 K-031490s, 46.0ms\n",
      "Speed: 2.1ms preprocess, 46.0ms inference, 3.0ms postprocess per image at shape (1, 3, 384, 640)\n",
      "\n",
      "0: 384x640 2 K-001901s, 1 K-006697, 5 K-031490s, 48.0ms\n",
      "Speed: 2.0ms preprocess, 48.0ms inference, 3.0ms postprocess per image at shape (1, 3, 384, 640)\n",
      "\n"
     ]
    },
    {
     "name": "stdout",
     "output_type": "stream",
     "text": [
      "Time to process 1 frame: 67 milliseconds\n",
      "Time to process 1 frame: 67 milliseconds\n",
      "Time to process 1 frame: 69 milliseconds\n"
     ]
    },
    {
     "name": "stderr",
     "output_type": "stream",
     "text": [
      "0: 384x640 2 K-001901s, 1 K-006697, 5 K-031490s, 48.0ms\n",
      "Speed: 2.0ms preprocess, 48.0ms inference, 2.0ms postprocess per image at shape (1, 3, 384, 640)\n",
      "\n",
      "0: 384x640 1 K-006697, 2 K-031490s, 47.0ms\n",
      "Speed: 2.0ms preprocess, 47.0ms inference, 3.0ms postprocess per image at shape (1, 3, 384, 640)\n",
      "\n",
      "0: 384x640 1 K-006697, 2 K-031490s, 47.5ms\n",
      "Speed: 2.0ms preprocess, 47.5ms inference, 2.0ms postprocess per image at shape (1, 3, 384, 640)\n",
      "\n"
     ]
    },
    {
     "name": "stdout",
     "output_type": "stream",
     "text": [
      "Time to process 1 frame: 68 milliseconds\n",
      "Time to process 1 frame: 68 milliseconds\n",
      "Time to process 1 frame: 68 milliseconds\n"
     ]
    },
    {
     "name": "stderr",
     "output_type": "stream",
     "text": [
      "0: 384x640 1 K-006697, 1 K-031490, 47.5ms\n",
      "Speed: 2.0ms preprocess, 47.5ms inference, 3.0ms postprocess per image at shape (1, 3, 384, 640)\n",
      "\n",
      "0: 384x640 1 K-006697, 1 K-031490, 48.0ms\n",
      "Speed: 2.0ms preprocess, 48.0ms inference, 3.0ms postprocess per image at shape (1, 3, 384, 640)\n",
      "\n",
      "0: 384x640 (no detections), 47.0ms\n",
      "Speed: 2.0ms preprocess, 47.0ms inference, 1.0ms postprocess per image at shape (1, 3, 384, 640)\n",
      "\n",
      "0: 384x640 (no detections), 48.3ms\n"
     ]
    },
    {
     "name": "stdout",
     "output_type": "stream",
     "text": [
      "Time to process 1 frame: 65 milliseconds\n",
      "Time to process 1 frame: 68 milliseconds\n",
      "Time to process 1 frame: 68 milliseconds\n"
     ]
    },
    {
     "name": "stderr",
     "output_type": "stream",
     "text": [
      "Speed: 2.0ms preprocess, 48.3ms inference, 1.0ms postprocess per image at shape (1, 3, 384, 640)\n",
      "\n",
      "0: 384x640 (no detections), 47.0ms\n",
      "Speed: 2.0ms preprocess, 47.0ms inference, 2.0ms postprocess per image at shape (1, 3, 384, 640)\n",
      "\n",
      "0: 384x640 (no detections), 48.0ms\n",
      "Speed: 2.0ms preprocess, 48.0ms inference, 1.0ms postprocess per image at shape (1, 3, 384, 640)\n",
      "\n",
      "0: 384x640 (no detections), 46.5ms\n"
     ]
    },
    {
     "name": "stdout",
     "output_type": "stream",
     "text": [
      "Time to process 1 frame: 65 milliseconds\n",
      "Time to process 1 frame: 67 milliseconds\n",
      "Time to process 1 frame: 66 milliseconds\n"
     ]
    },
    {
     "name": "stderr",
     "output_type": "stream",
     "text": [
      "Speed: 2.0ms preprocess, 46.5ms inference, 1.0ms postprocess per image at shape (1, 3, 384, 640)\n",
      "\n",
      "0: 384x640 (no detections), 46.6ms\n",
      "Speed: 2.1ms preprocess, 46.6ms inference, 1.0ms postprocess per image at shape (1, 3, 384, 640)\n",
      "\n",
      "0: 384x640 (no detections), 47.0ms\n",
      "Speed: 3.0ms preprocess, 47.0ms inference, 2.0ms postprocess per image at shape (1, 3, 384, 640)\n",
      "\n"
     ]
    },
    {
     "name": "stdout",
     "output_type": "stream",
     "text": [
      "Time to process 1 frame: 67 milliseconds\n",
      "Time to process 1 frame: 66 milliseconds\n",
      "Time to process 1 frame: 65 milliseconds\n"
     ]
    },
    {
     "name": "stderr",
     "output_type": "stream",
     "text": [
      "0: 384x640 1 K-006697, 46.5ms\n",
      "Speed: 2.0ms preprocess, 46.5ms inference, 3.0ms postprocess per image at shape (1, 3, 384, 640)\n",
      "\n",
      "0: 384x640 2 K-001901s, 1 K-006697, 5 K-031490s, 47.0ms\n",
      "Speed: 2.0ms preprocess, 47.0ms inference, 4.0ms postprocess per image at shape (1, 3, 384, 640)\n",
      "\n",
      "0: 384x640 2 K-001901s, 1 K-006697, 5 K-031490s, 47.0ms\n",
      "Speed: 2.0ms preprocess, 47.0ms inference, 4.0ms postprocess per image at shape (1, 3, 384, 640)\n",
      "\n"
     ]
    },
    {
     "name": "stdout",
     "output_type": "stream",
     "text": [
      "Time to process 1 frame: 68 milliseconds\n",
      "Time to process 1 frame: 71 milliseconds\n",
      "Time to process 1 frame: 69 milliseconds\n"
     ]
    },
    {
     "name": "stderr",
     "output_type": "stream",
     "text": [
      "0: 384x640 2 K-001901s, 1 K-006697, 5 K-031490s, 48.0ms\n",
      "Speed: 2.0ms preprocess, 48.0ms inference, 3.0ms postprocess per image at shape (1, 3, 384, 640)\n",
      "\n",
      "0: 384x640 2 K-001901s, 1 K-006697, 5 K-031490s, 48.1ms\n",
      "Speed: 2.0ms preprocess, 48.1ms inference, 2.0ms postprocess per image at shape (1, 3, 384, 640)\n",
      "\n",
      "0: 384x640 2 K-001901s, 1 K-006697, 5 K-031490s, 48.4ms\n",
      "Speed: 1.6ms preprocess, 48.4ms inference, 2.0ms postprocess per image at shape (1, 3, 384, 640)\n",
      "\n"
     ]
    },
    {
     "name": "stdout",
     "output_type": "stream",
     "text": [
      "Time to process 1 frame: 69 milliseconds\n",
      "Time to process 1 frame: 69 milliseconds\n",
      "Time to process 1 frame: 71 milliseconds\n"
     ]
    },
    {
     "name": "stderr",
     "output_type": "stream",
     "text": [
      "0: 384x640 2 K-001901s, 1 K-006697, 5 K-031490s, 47.0ms\n",
      "Speed: 2.0ms preprocess, 47.0ms inference, 4.0ms postprocess per image at shape (1, 3, 384, 640)\n",
      "\n",
      "0: 384x640 2 K-001901s, 1 K-006697, 5 K-031490s, 48.0ms\n",
      "Speed: 2.0ms preprocess, 48.0ms inference, 3.0ms postprocess per image at shape (1, 3, 384, 640)\n",
      "\n",
      "0: 384x640 2 K-001901s, 1 K-006697, 5 K-031490s, 47.5ms\n",
      "Speed: 2.0ms preprocess, 47.5ms inference, 4.0ms postprocess per image at shape (1, 3, 384, 640)\n",
      "\n"
     ]
    },
    {
     "name": "stdout",
     "output_type": "stream",
     "text": [
      "Time to process 1 frame: 68 milliseconds\n",
      "Time to process 1 frame: 71 milliseconds\n",
      "Time to process 1 frame: 71 milliseconds\n"
     ]
    },
    {
     "name": "stderr",
     "output_type": "stream",
     "text": [
      "0: 384x640 2 K-001901s, 1 K-006697, 5 K-031490s, 47.5ms\n",
      "Speed: 3.0ms preprocess, 47.5ms inference, 3.0ms postprocess per image at shape (1, 3, 384, 640)\n",
      "\n",
      "0: 384x640 2 K-001901s, 1 K-006697, 5 K-031490s, 48.0ms\n",
      "Speed: 2.0ms preprocess, 48.0ms inference, 3.0ms postprocess per image at shape (1, 3, 384, 640)\n",
      "\n",
      "0: 384x640 2 K-001901s, 1 K-004378, 5 K-031490s, 48.0ms\n",
      "Speed: 3.0ms preprocess, 48.0ms inference, 4.0ms postprocess per image at shape (1, 3, 384, 640)\n",
      "\n"
     ]
    },
    {
     "name": "stdout",
     "output_type": "stream",
     "text": [
      "Time to process 1 frame: 70 milliseconds\n",
      "Time to process 1 frame: 70 milliseconds\n",
      "Time to process 1 frame: 71 milliseconds\n"
     ]
    },
    {
     "name": "stderr",
     "output_type": "stream",
     "text": [
      "0: 384x640 2 K-001901s, 1 K-004378, 5 K-031490s, 47.5ms\n",
      "Speed: 3.0ms preprocess, 47.5ms inference, 3.0ms postprocess per image at shape (1, 3, 384, 640)\n",
      "\n",
      "0: 384x640 2 K-001901s, 1 K-006697, 5 K-031490s, 47.5ms\n",
      "Speed: 2.0ms preprocess, 47.5ms inference, 3.0ms postprocess per image at shape (1, 3, 384, 640)\n",
      "\n",
      "0: 384x640 2 K-001901s, 1 K-006697, 5 K-031490s, 47.0ms\n",
      "Speed: 2.0ms preprocess, 47.0ms inference, 3.0ms postprocess per image at shape (1, 3, 384, 640)\n",
      "\n"
     ]
    },
    {
     "name": "stdout",
     "output_type": "stream",
     "text": [
      "Time to process 1 frame: 66 milliseconds\n",
      "Time to process 1 frame: 70 milliseconds\n",
      "Time to process 1 frame: 68 milliseconds\n"
     ]
    },
    {
     "name": "stderr",
     "output_type": "stream",
     "text": [
      "0: 384x640 2 K-001901s, 1 K-006697, 5 K-031490s, 46.0ms\n",
      "Speed: 2.2ms preprocess, 46.0ms inference, 2.0ms postprocess per image at shape (1, 3, 384, 640)\n",
      "\n",
      "0: 384x640 2 K-001901s, 1 K-004378, 1 K-006697, 5 K-031490s, 46.1ms\n",
      "Speed: 3.0ms preprocess, 46.1ms inference, 4.0ms postprocess per image at shape (1, 3, 384, 640)\n",
      "\n",
      "0: 384x640 2 K-001901s, 1 K-006697, 5 K-031490s, 48.0ms\n",
      "Speed: 2.0ms preprocess, 48.0ms inference, 3.0ms postprocess per image at shape (1, 3, 384, 640)\n",
      "\n"
     ]
    },
    {
     "name": "stdout",
     "output_type": "stream",
     "text": [
      "Time to process 1 frame: 67 milliseconds\n",
      "Time to process 1 frame: 70 milliseconds\n",
      "Time to process 1 frame: 70 milliseconds\n"
     ]
    },
    {
     "name": "stderr",
     "output_type": "stream",
     "text": [
      "0: 384x640 2 K-001901s, 1 K-006697, 5 K-031490s, 48.0ms\n",
      "Speed: 2.0ms preprocess, 48.0ms inference, 4.1ms postprocess per image at shape (1, 3, 384, 640)\n",
      "\n",
      "0: 384x640 2 K-001901s, 1 K-006697, 5 K-031490s, 46.5ms\n",
      "Speed: 3.0ms preprocess, 46.5ms inference, 3.0ms postprocess per image at shape (1, 3, 384, 640)\n",
      "\n",
      "0: 384x640 2 K-001901s, 1 K-006697, 5 K-031490s, 48.5ms\n",
      "Speed: 2.0ms preprocess, 48.5ms inference, 3.0ms postprocess per image at shape (1, 3, 384, 640)\n",
      "\n"
     ]
    },
    {
     "name": "stdout",
     "output_type": "stream",
     "text": [
      "Time to process 1 frame: 69 milliseconds\n",
      "Time to process 1 frame: 69 milliseconds\n",
      "Time to process 1 frame: 69 milliseconds\n"
     ]
    },
    {
     "name": "stderr",
     "output_type": "stream",
     "text": [
      "0: 384x640 2 K-001901s, 1 K-006697, 5 K-031490s, 47.0ms\n",
      "Speed: 3.0ms preprocess, 47.0ms inference, 4.0ms postprocess per image at shape (1, 3, 384, 640)\n",
      "\n",
      "0: 384x640 2 K-001901s, 1 K-006697, 5 K-031490s, 48.0ms\n",
      "Speed: 2.0ms preprocess, 48.0ms inference, 3.0ms postprocess per image at shape (1, 3, 384, 640)\n",
      "\n",
      "0: 384x640 2 K-001901s, 1 K-004378, 1 K-006697, 5 K-031490s, 47.5ms\n",
      "Speed: 2.0ms preprocess, 47.5ms inference, 2.0ms postprocess per image at shape (1, 3, 384, 640)\n",
      "\n",
      "0: 384x640 2 K-001901s, 1 K-006697, 5 K-031490s, 47.5ms\n"
     ]
    },
    {
     "name": "stdout",
     "output_type": "stream",
     "text": [
      "Time to process 1 frame: 70 milliseconds\n",
      "Time to process 1 frame: 69 milliseconds\n",
      "Time to process 1 frame: 68 milliseconds\n"
     ]
    },
    {
     "name": "stderr",
     "output_type": "stream",
     "text": [
      "Speed: 2.0ms preprocess, 47.5ms inference, 3.0ms postprocess per image at shape (1, 3, 384, 640)\n",
      "\n",
      "0: 384x640 2 K-001901s, 1 K-004378, 1 K-006697, 5 K-031490s, 48.3ms\n",
      "Speed: 2.0ms preprocess, 48.3ms inference, 3.2ms postprocess per image at shape (1, 3, 384, 640)\n",
      "\n",
      "0: 384x640 2 K-001901s, 1 K-004378, 5 K-031490s, 47.0ms\n",
      "Speed: 3.0ms preprocess, 47.0ms inference, 3.0ms postprocess per image at shape (1, 3, 384, 640)\n",
      "\n"
     ]
    },
    {
     "name": "stdout",
     "output_type": "stream",
     "text": [
      "Time to process 1 frame: 69 milliseconds\n",
      "Time to process 1 frame: 71 milliseconds\n",
      "Time to process 1 frame: 71 milliseconds\n"
     ]
    },
    {
     "name": "stderr",
     "output_type": "stream",
     "text": [
      "0: 384x640 2 K-001901s, 1 K-004378, 4 K-031490s, 47.5ms\n",
      "Speed: 2.0ms preprocess, 47.5ms inference, 3.0ms postprocess per image at shape (1, 3, 384, 640)\n",
      "\n",
      "0: 384x640 2 K-001901s, 1 K-004378, 5 K-031490s, 47.5ms\n",
      "Speed: 2.0ms preprocess, 47.5ms inference, 3.0ms postprocess per image at shape (1, 3, 384, 640)\n",
      "\n",
      "0: 384x640 2 K-001901s, 1 K-006697, 5 K-031490s, 48.0ms\n",
      "Speed: 2.0ms preprocess, 48.0ms inference, 4.0ms postprocess per image at shape (1, 3, 384, 640)\n",
      "\n"
     ]
    },
    {
     "name": "stdout",
     "output_type": "stream",
     "text": [
      "Time to process 1 frame: 70 milliseconds\n",
      "Time to process 1 frame: 70 milliseconds\n",
      "Time to process 1 frame: 71 milliseconds\n"
     ]
    },
    {
     "name": "stderr",
     "output_type": "stream",
     "text": [
      "0: 384x640 2 K-001901s, 1 K-006697, 5 K-031490s, 46.0ms\n",
      "Speed: 2.0ms preprocess, 46.0ms inference, 4.0ms postprocess per image at shape (1, 3, 384, 640)\n",
      "\n",
      "0: 384x640 2 K-001901s, 1 K-004378, 1 K-006697, 5 K-031490s, 47.5ms\n",
      "Speed: 2.0ms preprocess, 47.5ms inference, 2.0ms postprocess per image at shape (1, 3, 384, 640)\n",
      "\n",
      "0: 384x640 2 K-001901s, 1 K-004378, 5 K-031490s, 48.1ms\n",
      "Speed: 2.0ms preprocess, 48.1ms inference, 2.0ms postprocess per image at shape (1, 3, 384, 640)\n",
      "\n"
     ]
    },
    {
     "name": "stdout",
     "output_type": "stream",
     "text": [
      "Time to process 1 frame: 69 milliseconds\n",
      "Time to process 1 frame: 67 milliseconds\n",
      "Time to process 1 frame: 69 milliseconds\n"
     ]
    },
    {
     "name": "stderr",
     "output_type": "stream",
     "text": [
      "0: 384x640 2 K-001901s, 1 K-004378, 1 K-006697, 5 K-031490s, 47.0ms\n",
      "Speed: 2.0ms preprocess, 47.0ms inference, 3.0ms postprocess per image at shape (1, 3, 384, 640)\n",
      "\n",
      "0: 384x640 2 K-001901s, 1 K-004378, 1 K-006697, 5 K-031490s, 48.0ms\n",
      "Speed: 2.0ms preprocess, 48.0ms inference, 2.0ms postprocess per image at shape (1, 3, 384, 640)\n",
      "\n",
      "0: 384x640 2 K-001901s, 1 K-004378, 5 K-031490s, 46.5ms\n",
      "Speed: 2.0ms preprocess, 46.5ms inference, 5.0ms postprocess per image at shape (1, 3, 384, 640)\n",
      "\n"
     ]
    },
    {
     "name": "stdout",
     "output_type": "stream",
     "text": [
      "Time to process 1 frame: 69 milliseconds\n",
      "Time to process 1 frame: 69 milliseconds\n",
      "Time to process 1 frame: 69 milliseconds\n"
     ]
    },
    {
     "name": "stderr",
     "output_type": "stream",
     "text": [
      "0: 384x640 2 K-001901s, 1 K-004378, 5 K-031490s, 48.0ms\n",
      "Speed: 2.0ms preprocess, 48.0ms inference, 3.0ms postprocess per image at shape (1, 3, 384, 640)\n",
      "\n",
      "0: 384x640 2 K-001901s, 1 K-004378, 5 K-031490s, 47.0ms\n",
      "Speed: 2.0ms preprocess, 47.0ms inference, 3.0ms postprocess per image at shape (1, 3, 384, 640)\n",
      "\n",
      "0: 384x640 2 K-001901s, 1 K-004378, 1 K-006697, 4 K-031490s, 46.5ms\n",
      "Speed: 3.0ms preprocess, 46.5ms inference, 3.0ms postprocess per image at shape (1, 3, 384, 640)\n",
      "\n"
     ]
    },
    {
     "name": "stdout",
     "output_type": "stream",
     "text": [
      "Time to process 1 frame: 69 milliseconds\n",
      "Time to process 1 frame: 68 milliseconds\n",
      "Time to process 1 frame: 70 milliseconds\n"
     ]
    },
    {
     "name": "stderr",
     "output_type": "stream",
     "text": [
      "0: 384x640 2 K-001901s, 1 K-004378, 1 K-006697, 5 K-031490s, 46.4ms\n",
      "Speed: 2.0ms preprocess, 46.4ms inference, 4.0ms postprocess per image at shape (1, 3, 384, 640)\n",
      "\n",
      "0: 384x640 2 K-001901s, 1 K-004378, 5 K-031490s, 48.0ms\n",
      "Speed: 2.0ms preprocess, 48.0ms inference, 3.0ms postprocess per image at shape (1, 3, 384, 640)\n",
      "\n",
      "0: 384x640 2 K-001901s, 1 K-004378, 1 K-006697, 5 K-031490s, 47.0ms\n",
      "Speed: 2.0ms preprocess, 47.0ms inference, 4.0ms postprocess per image at shape (1, 3, 384, 640)\n",
      "\n"
     ]
    },
    {
     "name": "stdout",
     "output_type": "stream",
     "text": [
      "Time to process 1 frame: 68 milliseconds\n",
      "Time to process 1 frame: 69 milliseconds\n",
      "Time to process 1 frame: 69 milliseconds\n"
     ]
    },
    {
     "name": "stderr",
     "output_type": "stream",
     "text": [
      "0: 384x640 2 K-001901s, 1 K-004378, 1 K-006697, 5 K-031490s, 47.5ms\n",
      "Speed: 3.0ms preprocess, 47.5ms inference, 3.0ms postprocess per image at shape (1, 3, 384, 640)\n",
      "\n",
      "0: 384x640 2 K-001901s, 1 K-006697, 5 K-031490s, 47.2ms\n",
      "Speed: 2.0ms preprocess, 47.2ms inference, 2.0ms postprocess per image at shape (1, 3, 384, 640)\n",
      "\n",
      "0: 384x640 2 K-001901s, 1 K-004378, 1 K-006697, 5 K-031490s, 47.0ms\n",
      "Speed: 2.0ms preprocess, 47.0ms inference, 4.0ms postprocess per image at shape (1, 3, 384, 640)\n",
      "\n"
     ]
    },
    {
     "name": "stdout",
     "output_type": "stream",
     "text": [
      "Time to process 1 frame: 72 milliseconds\n",
      "Time to process 1 frame: 68 milliseconds\n",
      "Time to process 1 frame: 70 milliseconds\n"
     ]
    },
    {
     "name": "stderr",
     "output_type": "stream",
     "text": [
      "0: 384x640 2 K-001901s, 1 K-006697, 5 K-031490s, 46.0ms\n",
      "Speed: 2.0ms preprocess, 46.0ms inference, 5.0ms postprocess per image at shape (1, 3, 384, 640)\n",
      "\n",
      "0: 384x640 2 K-001901s, 1 K-004378, 5 K-031490s, 48.2ms\n",
      "Speed: 2.0ms preprocess, 48.2ms inference, 3.0ms postprocess per image at shape (1, 3, 384, 640)\n",
      "\n",
      "0: 384x640 2 K-001901s, 1 K-004378, 5 K-031490s, 47.5ms\n",
      "Speed: 2.0ms preprocess, 47.5ms inference, 2.0ms postprocess per image at shape (1, 3, 384, 640)\n",
      "\n"
     ]
    },
    {
     "name": "stdout",
     "output_type": "stream",
     "text": [
      "Time to process 1 frame: 72 milliseconds\n",
      "Time to process 1 frame: 74 milliseconds\n",
      "Time to process 1 frame: 69 milliseconds\n"
     ]
    },
    {
     "name": "stderr",
     "output_type": "stream",
     "text": [
      "0: 384x640 2 K-001901s, 1 K-004378, 5 K-031490s, 48.0ms\n",
      "Speed: 2.0ms preprocess, 48.0ms inference, 4.0ms postprocess per image at shape (1, 3, 384, 640)\n",
      "\n",
      "0: 384x640 2 K-001901s, 1 K-006697, 5 K-031490s, 47.0ms\n",
      "Speed: 3.0ms preprocess, 47.0ms inference, 4.0ms postprocess per image at shape (1, 3, 384, 640)\n",
      "\n",
      "0: 384x640 2 K-001901s, 1 K-004378, 5 K-031490s, 47.5ms\n",
      "Speed: 3.0ms preprocess, 47.5ms inference, 3.0ms postprocess per image at shape (1, 3, 384, 640)\n",
      "\n"
     ]
    },
    {
     "name": "stdout",
     "output_type": "stream",
     "text": [
      "Time to process 1 frame: 69 milliseconds\n",
      "Time to process 1 frame: 69 milliseconds\n",
      "Time to process 1 frame: 70 milliseconds\n"
     ]
    },
    {
     "name": "stderr",
     "output_type": "stream",
     "text": [
      "0: 384x640 2 K-001901s, 1 K-004378, 4 K-031490s, 47.0ms\n",
      "Speed: 2.0ms preprocess, 47.0ms inference, 3.5ms postprocess per image at shape (1, 3, 384, 640)\n",
      "\n",
      "0: 384x640 2 K-001901s, 1 K-004378, 1 K-006697, 5 K-031490s, 47.0ms\n",
      "Speed: 2.0ms preprocess, 47.0ms inference, 4.0ms postprocess per image at shape (1, 3, 384, 640)\n",
      "\n",
      "0: 384x640 2 K-001901s, 5 K-031490s, 47.4ms\n",
      "Speed: 2.0ms preprocess, 47.4ms inference, 3.0ms postprocess per image at shape (1, 3, 384, 640)\n",
      "\n"
     ]
    },
    {
     "name": "stdout",
     "output_type": "stream",
     "text": [
      "Time to process 1 frame: 68 milliseconds\n",
      "Time to process 1 frame: 69 milliseconds\n",
      "Time to process 1 frame: 67 milliseconds\n"
     ]
    },
    {
     "name": "stderr",
     "output_type": "stream",
     "text": [
      "0: 384x640 2 K-001901s, 1 K-004378, 5 K-031490s, 47.5ms\n",
      "Speed: 2.0ms preprocess, 47.5ms inference, 5.0ms postprocess per image at shape (1, 3, 384, 640)\n",
      "\n",
      "0: 384x640 2 K-001901s, 1 K-004378, 1 K-006697, 5 K-031490s, 47.0ms\n",
      "Speed: 3.0ms preprocess, 47.0ms inference, 2.0ms postprocess per image at shape (1, 3, 384, 640)\n",
      "\n",
      "0: 384x640 2 K-001901s, 1 K-004378, 1 K-006697, 5 K-031490s, 47.0ms\n",
      "Speed: 2.0ms preprocess, 47.0ms inference, 4.0ms postprocess per image at shape (1, 3, 384, 640)\n",
      "\n"
     ]
    },
    {
     "name": "stdout",
     "output_type": "stream",
     "text": [
      "Time to process 1 frame: 71 milliseconds\n",
      "Time to process 1 frame: 69 milliseconds\n",
      "Time to process 1 frame: 69 milliseconds\n"
     ]
    },
    {
     "name": "stderr",
     "output_type": "stream",
     "text": [
      "0: 384x640 2 K-001901s, 1 K-004378, 1 K-006697, 5 K-031490s, 47.5ms\n",
      "Speed: 2.0ms preprocess, 47.5ms inference, 3.0ms postprocess per image at shape (1, 3, 384, 640)\n",
      "\n",
      "0: 384x640 2 K-001901s, 1 K-006697, 5 K-031490s, 46.5ms\n",
      "Speed: 2.0ms preprocess, 46.5ms inference, 2.0ms postprocess per image at shape (1, 3, 384, 640)\n",
      "\n",
      "0: 384x640 2 K-001901s, 1 K-006697, 5 K-031490s, 47.0ms\n",
      "Speed: 2.0ms preprocess, 47.0ms inference, 3.0ms postprocess per image at shape (1, 3, 384, 640)\n",
      "\n",
      "0: 384x640 2 K-001901s, 1 K-004378, 5 K-031490s, 47.3ms\n"
     ]
    },
    {
     "name": "stdout",
     "output_type": "stream",
     "text": [
      "Time to process 1 frame: 71 milliseconds\n",
      "Time to process 1 frame: 68 milliseconds\n",
      "Time to process 1 frame: 67 milliseconds\n"
     ]
    },
    {
     "name": "stderr",
     "output_type": "stream",
     "text": [
      "Speed: 2.0ms preprocess, 47.3ms inference, 3.0ms postprocess per image at shape (1, 3, 384, 640)\n",
      "\n",
      "0: 384x640 2 K-001901s, 1 K-004378, 5 K-031490s, 46.5ms\n",
      "Speed: 2.0ms preprocess, 46.5ms inference, 3.0ms postprocess per image at shape (1, 3, 384, 640)\n",
      "\n",
      "0: 384x640 2 K-001901s, 1 K-004378, 5 K-031490s, 46.5ms\n",
      "Speed: 3.0ms preprocess, 46.5ms inference, 3.5ms postprocess per image at shape (1, 3, 384, 640)\n",
      "\n",
      "0: 384x640 2 K-001901s, 1 K-006697, 5 K-031490s, 47.0ms\n"
     ]
    },
    {
     "name": "stdout",
     "output_type": "stream",
     "text": [
      "Time to process 1 frame: 68 milliseconds\n",
      "Time to process 1 frame: 71 milliseconds\n",
      "Time to process 1 frame: 69 milliseconds\n"
     ]
    },
    {
     "name": "stderr",
     "output_type": "stream",
     "text": [
      "Speed: 2.0ms preprocess, 47.0ms inference, 2.0ms postprocess per image at shape (1, 3, 384, 640)\n",
      "\n",
      "0: 384x640 2 K-001901s, 1 K-004378, 1 K-006697, 5 K-031490s, 46.0ms\n",
      "Speed: 2.0ms preprocess, 46.0ms inference, 3.0ms postprocess per image at shape (1, 3, 384, 640)\n",
      "\n",
      "0: 384x640 2 K-001901s, 1 K-006697, 5 K-031490s, 46.5ms\n",
      "Speed: 2.0ms preprocess, 46.5ms inference, 3.0ms postprocess per image at shape (1, 3, 384, 640)\n",
      "\n"
     ]
    },
    {
     "name": "stdout",
     "output_type": "stream",
     "text": [
      "Time to process 1 frame: 67 milliseconds\n",
      "Time to process 1 frame: 67 milliseconds\n",
      "Time to process 1 frame: 68 milliseconds\n"
     ]
    },
    {
     "name": "stderr",
     "output_type": "stream",
     "text": [
      "0: 384x640 2 K-001901s, 1 K-004378, 1 K-006697, 5 K-031490s, 48.0ms\n",
      "Speed: 2.0ms preprocess, 48.0ms inference, 2.0ms postprocess per image at shape (1, 3, 384, 640)\n",
      "\n",
      "0: 384x640 2 K-001901s, 1 K-004378, 5 K-031490s, 46.9ms\n",
      "Speed: 2.0ms preprocess, 46.9ms inference, 3.0ms postprocess per image at shape (1, 3, 384, 640)\n",
      "\n",
      "0: 384x640 2 K-001901s, 1 K-004378, 5 K-031490s, 47.2ms\n",
      "Speed: 2.0ms preprocess, 47.2ms inference, 3.0ms postprocess per image at shape (1, 3, 384, 640)\n",
      "\n"
     ]
    },
    {
     "name": "stdout",
     "output_type": "stream",
     "text": [
      "Time to process 1 frame: 68 milliseconds\n",
      "Time to process 1 frame: 69 milliseconds\n",
      "Time to process 1 frame: 67 milliseconds\n"
     ]
    },
    {
     "name": "stderr",
     "output_type": "stream",
     "text": [
      "0: 384x640 2 K-001901s, 1 K-004378, 5 K-031490s, 47.0ms\n",
      "Speed: 2.0ms preprocess, 47.0ms inference, 3.0ms postprocess per image at shape (1, 3, 384, 640)\n",
      "\n",
      "0: 384x640 2 K-001901s, 1 K-004378, 1 K-006697, 5 K-031490s, 47.0ms\n",
      "Speed: 2.0ms preprocess, 47.0ms inference, 2.0ms postprocess per image at shape (1, 3, 384, 640)\n",
      "\n",
      "0: 384x640 2 K-001901s, 1 K-004378, 5 K-031490s, 47.5ms\n",
      "Speed: 2.0ms preprocess, 47.5ms inference, 3.0ms postprocess per image at shape (1, 3, 384, 640)\n",
      "\n",
      "0: 384x640 2 K-001901s, 1 K-004378, 1 K-006697, 4 K-031490s, 47.5ms\n"
     ]
    },
    {
     "name": "stdout",
     "output_type": "stream",
     "text": [
      "Time to process 1 frame: 67 milliseconds\n",
      "Time to process 1 frame: 70 milliseconds\n",
      "Time to process 1 frame: 68 milliseconds\n"
     ]
    },
    {
     "name": "stderr",
     "output_type": "stream",
     "text": [
      "Speed: 2.0ms preprocess, 47.5ms inference, 3.0ms postprocess per image at shape (1, 3, 384, 640)\n",
      "\n",
      "0: 384x640 2 K-001901s, 1 K-004378, 1 K-006697, 5 K-031490s, 48.0ms\n",
      "Speed: 2.0ms preprocess, 48.0ms inference, 3.0ms postprocess per image at shape (1, 3, 384, 640)\n",
      "\n",
      "0: 384x640 2 K-001901s, 1 K-004378, 5 K-031490s, 47.6ms\n",
      "Speed: 2.0ms preprocess, 47.6ms inference, 3.0ms postprocess per image at shape (1, 3, 384, 640)\n",
      "\n"
     ]
    },
    {
     "name": "stdout",
     "output_type": "stream",
     "text": [
      "Time to process 1 frame: 69 milliseconds\n",
      "Time to process 1 frame: 70 milliseconds\n",
      "Time to process 1 frame: 71 milliseconds\n"
     ]
    },
    {
     "name": "stderr",
     "output_type": "stream",
     "text": [
      "0: 384x640 2 K-001901s, 1 K-004378, 1 K-006697, 5 K-031490s, 48.1ms\n",
      "Speed: 2.0ms preprocess, 48.1ms inference, 3.0ms postprocess per image at shape (1, 3, 384, 640)\n",
      "\n",
      "0: 384x640 2 K-001901s, 1 K-004378, 1 K-006697, 5 K-031490s, 48.3ms\n",
      "Speed: 2.0ms preprocess, 48.3ms inference, 2.0ms postprocess per image at shape (1, 3, 384, 640)\n",
      "\n",
      "0: 384x640 2 K-001901s, 1 K-004378, 1 K-006697, 5 K-031490s, 47.0ms\n",
      "Speed: 2.0ms preprocess, 47.0ms inference, 2.0ms postprocess per image at shape (1, 3, 384, 640)\n",
      "\n"
     ]
    },
    {
     "name": "stdout",
     "output_type": "stream",
     "text": [
      "Time to process 1 frame: 68 milliseconds\n",
      "Time to process 1 frame: 67 milliseconds\n",
      "Time to process 1 frame: 67 milliseconds\n"
     ]
    },
    {
     "name": "stderr",
     "output_type": "stream",
     "text": [
      "0: 384x640 2 K-001901s, 1 K-004378, 5 K-031490s, 46.0ms\n",
      "Speed: 3.0ms preprocess, 46.0ms inference, 3.0ms postprocess per image at shape (1, 3, 384, 640)\n",
      "\n",
      "0: 384x640 2 K-001901s, 1 K-004378, 1 K-006697, 5 K-031490s, 46.5ms\n",
      "Speed: 2.0ms preprocess, 46.5ms inference, 3.0ms postprocess per image at shape (1, 3, 384, 640)\n",
      "\n",
      "0: 384x640 2 K-001901s, 1 K-006697, 5 K-031490s, 47.0ms\n",
      "Speed: 2.0ms preprocess, 47.0ms inference, 2.0ms postprocess per image at shape (1, 3, 384, 640)\n",
      "\n",
      "0: 384x640 2 K-001901s, 1 K-006697, 5 K-031490s, 46.8ms\n"
     ]
    },
    {
     "name": "stdout",
     "output_type": "stream",
     "text": [
      "Time to process 1 frame: 66 milliseconds\n",
      "Time to process 1 frame: 67 milliseconds\n",
      "Time to process 1 frame: 67 milliseconds\n"
     ]
    },
    {
     "name": "stderr",
     "output_type": "stream",
     "text": [
      "Speed: 2.0ms preprocess, 46.8ms inference, 2.0ms postprocess per image at shape (1, 3, 384, 640)\n",
      "\n",
      "0: 384x640 1 K-001901, 1 K-006697, 6 K-031490s, 46.5ms\n",
      "Speed: 2.0ms preprocess, 46.5ms inference, 3.0ms postprocess per image at shape (1, 3, 384, 640)\n",
      "\n",
      "0: 384x640 2 K-001901s, 1 K-006697, 5 K-031490s, 45.5ms\n",
      "Speed: 2.0ms preprocess, 45.5ms inference, 3.0ms postprocess per image at shape (1, 3, 384, 640)\n",
      "\n"
     ]
    },
    {
     "name": "stdout",
     "output_type": "stream",
     "text": [
      "Time to process 1 frame: 66 milliseconds\n",
      "Time to process 1 frame: 67 milliseconds\n",
      "Time to process 1 frame: 67 milliseconds\n"
     ]
    },
    {
     "name": "stderr",
     "output_type": "stream",
     "text": [
      "0: 384x640 2 K-001901s, 1 K-006697, 5 K-031490s, 46.0ms\n",
      "Speed: 2.0ms preprocess, 46.0ms inference, 3.0ms postprocess per image at shape (1, 3, 384, 640)\n",
      "\n",
      "0: 384x640 2 K-001901s, 1 K-006697, 5 K-031490s, 45.5ms\n",
      "Speed: 2.0ms preprocess, 45.5ms inference, 2.0ms postprocess per image at shape (1, 3, 384, 640)\n",
      "\n",
      "0: 384x640 1 K-001901, 1 K-006697, 5 K-031490s, 47.5ms\n",
      "Speed: 2.0ms preprocess, 47.5ms inference, 2.0ms postprocess per image at shape (1, 3, 384, 640)\n",
      "\n",
      "0: 384x640 1 K-001901, 1 K-006697, 6 K-031490s, 46.0ms\n"
     ]
    },
    {
     "name": "stdout",
     "output_type": "stream",
     "text": [
      "Time to process 1 frame: 66 milliseconds\n",
      "Time to process 1 frame: 66 milliseconds\n",
      "Time to process 1 frame: 68 milliseconds\n"
     ]
    },
    {
     "name": "stderr",
     "output_type": "stream",
     "text": [
      "Speed: 2.0ms preprocess, 46.0ms inference, 3.0ms postprocess per image at shape (1, 3, 384, 640)\n",
      "\n",
      "0: 384x640 2 K-001901s, 1 K-006697, 5 K-031490s, 45.8ms\n",
      "Speed: 2.0ms preprocess, 45.8ms inference, 3.0ms postprocess per image at shape (1, 3, 384, 640)\n",
      "\n",
      "0: 384x640 3 K-006697s, 1 K-031490, 46.5ms\n",
      "Speed: 2.0ms preprocess, 46.5ms inference, 2.0ms postprocess per image at shape (1, 3, 384, 640)\n",
      "\n",
      "0: 384x640 1 K-006697, 2 K-031490s, 46.0ms\n"
     ]
    },
    {
     "name": "stdout",
     "output_type": "stream",
     "text": [
      "Time to process 1 frame: 67 milliseconds\n",
      "Time to process 1 frame: 67 milliseconds\n",
      "Time to process 1 frame: 66 milliseconds\n"
     ]
    },
    {
     "name": "stderr",
     "output_type": "stream",
     "text": [
      "Speed: 2.0ms preprocess, 46.0ms inference, 3.5ms postprocess per image at shape (1, 3, 384, 640)\n",
      "\n",
      "0: 384x640 1 K-001901, 1 K-006697, 5 K-031490s, 46.0ms\n",
      "Speed: 2.0ms preprocess, 46.0ms inference, 3.0ms postprocess per image at shape (1, 3, 384, 640)\n",
      "\n",
      "0: 384x640 1 K-006697, 6 K-031490s, 45.5ms\n",
      "Speed: 2.0ms preprocess, 45.5ms inference, 3.0ms postprocess per image at shape (1, 3, 384, 640)\n",
      "\n"
     ]
    },
    {
     "name": "stdout",
     "output_type": "stream",
     "text": [
      "Time to process 1 frame: 68 milliseconds\n",
      "Time to process 1 frame: 66 milliseconds\n",
      "Time to process 1 frame: 65 milliseconds\n"
     ]
    },
    {
     "name": "stderr",
     "output_type": "stream",
     "text": [
      "0: 384x640 1 K-001901, 1 K-006697, 1 K-031490, 45.5ms\n",
      "Speed: 2.0ms preprocess, 45.5ms inference, 3.0ms postprocess per image at shape (1, 3, 384, 640)\n",
      "\n",
      "0: 384x640 2 K-006697s, 47.0ms\n",
      "Speed: 2.0ms preprocess, 47.0ms inference, 2.0ms postprocess per image at shape (1, 3, 384, 640)\n",
      "\n",
      "0: 384x640 1 K-006697, 4 K-031490s, 46.8ms\n",
      "Speed: 1.3ms preprocess, 46.8ms inference, 1.7ms postprocess per image at shape (1, 3, 384, 640)\n",
      "\n"
     ]
    },
    {
     "name": "stdout",
     "output_type": "stream",
     "text": [
      "Time to process 1 frame: 66 milliseconds\n",
      "Time to process 1 frame: 65 milliseconds\n",
      "Time to process 1 frame: 66 milliseconds\n"
     ]
    },
    {
     "name": "stderr",
     "output_type": "stream",
     "text": [
      "0: 384x640 1 K-001901, 1 K-006697, 4 K-031490s, 47.5ms\n",
      "Speed: 2.0ms preprocess, 47.5ms inference, 3.0ms postprocess per image at shape (1, 3, 384, 640)\n",
      "\n",
      "0: 384x640 1 K-001901, 1 K-006697, 5 K-031490s, 46.0ms\n",
      "Speed: 2.0ms preprocess, 46.0ms inference, 2.0ms postprocess per image at shape (1, 3, 384, 640)\n",
      "\n",
      "0: 384x640 1 K-001901, 1 K-006697, 5 K-031490s, 46.0ms\n",
      "Speed: 2.0ms preprocess, 46.0ms inference, 3.0ms postprocess per image at shape (1, 3, 384, 640)\n",
      "\n",
      "0: 384x640 1 K-006697, 4 K-031490s, 46.5ms\n"
     ]
    },
    {
     "name": "stdout",
     "output_type": "stream",
     "text": [
      "Time to process 1 frame: 68 milliseconds\n",
      "Time to process 1 frame: 67 milliseconds\n",
      "Time to process 1 frame: 66 milliseconds\n"
     ]
    },
    {
     "name": "stderr",
     "output_type": "stream",
     "text": [
      "Speed: 2.0ms preprocess, 46.5ms inference, 3.0ms postprocess per image at shape (1, 3, 384, 640)\n",
      "\n",
      "0: 384x640 1 K-006697, 4 K-031490s, 46.0ms\n",
      "Speed: 2.0ms preprocess, 46.0ms inference, 2.5ms postprocess per image at shape (1, 3, 384, 640)\n",
      "\n",
      "0: 384x640 1 K-006697, 4 K-031490s, 46.0ms\n",
      "Speed: 2.0ms preprocess, 46.0ms inference, 3.0ms postprocess per image at shape (1, 3, 384, 640)\n",
      "\n"
     ]
    },
    {
     "name": "stdout",
     "output_type": "stream",
     "text": [
      "Time to process 1 frame: 67 milliseconds\n",
      "Time to process 1 frame: 67 milliseconds\n",
      "Time to process 1 frame: 67 milliseconds\n"
     ]
    },
    {
     "name": "stderr",
     "output_type": "stream",
     "text": [
      "0: 384x640 1 K-006697, 5 K-031490s, 46.1ms\n",
      "Speed: 2.0ms preprocess, 46.1ms inference, 3.7ms postprocess per image at shape (1, 3, 384, 640)\n",
      "\n",
      "0: 384x640 1 K-001901, 1 K-006697, 5 K-031490s, 47.2ms\n",
      "Speed: 2.0ms preprocess, 47.2ms inference, 2.0ms postprocess per image at shape (1, 3, 384, 640)\n",
      "\n",
      "0: 384x640 2 K-001901s, 1 K-006697, 5 K-031490s, 46.0ms\n",
      "Speed: 3.0ms preprocess, 46.0ms inference, 3.0ms postprocess per image at shape (1, 3, 384, 640)\n",
      "\n"
     ]
    },
    {
     "name": "stdout",
     "output_type": "stream",
     "text": [
      "Time to process 1 frame: 68 milliseconds\n",
      "Time to process 1 frame: 69 milliseconds\n",
      "Time to process 1 frame: 68 milliseconds\n"
     ]
    },
    {
     "name": "stderr",
     "output_type": "stream",
     "text": [
      "0: 384x640 2 K-001901s, 1 K-006697, 5 K-031490s, 46.0ms\n",
      "Speed: 2.0ms preprocess, 46.0ms inference, 3.0ms postprocess per image at shape (1, 3, 384, 640)\n",
      "\n",
      "0: 384x640 2 K-001901s, 1 K-006697, 5 K-031490s, 46.5ms\n",
      "Speed: 2.0ms preprocess, 46.5ms inference, 3.0ms postprocess per image at shape (1, 3, 384, 640)\n",
      "\n",
      "0: 384x640 2 K-001901s, 1 K-006697, 5 K-031490s, 47.5ms\n",
      "Speed: 2.0ms preprocess, 47.5ms inference, 2.0ms postprocess per image at shape (1, 3, 384, 640)\n",
      "\n"
     ]
    },
    {
     "name": "stdout",
     "output_type": "stream",
     "text": [
      "Time to process 1 frame: 68 milliseconds\n",
      "Time to process 1 frame: 67 milliseconds\n",
      "Time to process 1 frame: 70 milliseconds\n"
     ]
    },
    {
     "name": "stderr",
     "output_type": "stream",
     "text": [
      "0: 384x640 2 K-001901s, 1 K-006697, 5 K-031490s, 46.0ms\n",
      "Speed: 2.0ms preprocess, 46.0ms inference, 3.0ms postprocess per image at shape (1, 3, 384, 640)\n",
      "\n",
      "0: 384x640 2 K-001901s, 1 K-006697, 5 K-031490s, 46.5ms\n",
      "Speed: 2.0ms preprocess, 46.5ms inference, 3.0ms postprocess per image at shape (1, 3, 384, 640)\n",
      "\n",
      "0: 384x640 2 K-001901s, 1 K-006697, 5 K-031490s, 47.1ms\n",
      "Speed: 2.0ms preprocess, 47.1ms inference, 2.0ms postprocess per image at shape (1, 3, 384, 640)\n",
      "\n",
      "0: 384x640 2 K-001901s, 1 K-006697, 5 K-031490s, 47.0ms\n"
     ]
    },
    {
     "name": "stdout",
     "output_type": "stream",
     "text": [
      "Time to process 1 frame: 68 milliseconds\n",
      "Time to process 1 frame: 68 milliseconds\n",
      "Time to process 1 frame: 64 milliseconds\n"
     ]
    },
    {
     "name": "stderr",
     "output_type": "stream",
     "text": [
      "Speed: 2.0ms preprocess, 47.0ms inference, 3.0ms postprocess per image at shape (1, 3, 384, 640)\n",
      "\n",
      "0: 384x640 2 K-001901s, 1 K-006697, 5 K-031490s, 46.6ms\n",
      "Speed: 3.0ms preprocess, 46.6ms inference, 3.0ms postprocess per image at shape (1, 3, 384, 640)\n",
      "\n",
      "0: 384x640 2 K-001901s, 1 K-004378, 1 K-006697, 5 K-031490s, 46.5ms\n",
      "Speed: 2.0ms preprocess, 46.5ms inference, 3.0ms postprocess per image at shape (1, 3, 384, 640)\n",
      "\n"
     ]
    },
    {
     "name": "stdout",
     "output_type": "stream",
     "text": [
      "Time to process 1 frame: 68 milliseconds\n",
      "Time to process 1 frame: 67 milliseconds\n",
      "Time to process 1 frame: 68 milliseconds\n"
     ]
    },
    {
     "name": "stderr",
     "output_type": "stream",
     "text": [
      "0: 384x640 2 K-001901s, 1 K-006697, 5 K-031490s, 46.5ms\n",
      "Speed: 2.0ms preprocess, 46.5ms inference, 3.0ms postprocess per image at shape (1, 3, 384, 640)\n",
      "\n",
      "0: 384x640 2 K-001901s, 1 K-006697, 5 K-031490s, 45.0ms\n",
      "Speed: 2.0ms preprocess, 45.0ms inference, 3.0ms postprocess per image at shape (1, 3, 384, 640)\n",
      "\n",
      "0: 384x640 2 K-001901s, 1 K-006697, 5 K-031490s, 46.2ms\n",
      "Speed: 2.0ms preprocess, 46.2ms inference, 3.0ms postprocess per image at shape (1, 3, 384, 640)\n",
      "\n"
     ]
    },
    {
     "name": "stdout",
     "output_type": "stream",
     "text": [
      "Time to process 1 frame: 69 milliseconds\n",
      "Time to process 1 frame: 66 milliseconds\n",
      "Time to process 1 frame: 66 milliseconds\n"
     ]
    },
    {
     "name": "stderr",
     "output_type": "stream",
     "text": [
      "0: 384x640 2 K-001901s, 1 K-006697, 5 K-031490s, 46.5ms\n",
      "Speed: 2.0ms preprocess, 46.5ms inference, 3.0ms postprocess per image at shape (1, 3, 384, 640)\n",
      "\n",
      "0: 384x640 2 K-001901s, 1 K-006697, 5 K-031490s, 47.0ms\n",
      "Speed: 2.0ms preprocess, 47.0ms inference, 2.0ms postprocess per image at shape (1, 3, 384, 640)\n",
      "\n",
      "0: 384x640 2 K-001901s, 1 K-006697, 5 K-031490s, 46.0ms\n",
      "Speed: 2.0ms preprocess, 46.0ms inference, 3.0ms postprocess per image at shape (1, 3, 384, 640)\n",
      "\n",
      "0: 384x640 2 K-001901s, 1 K-006697, 5 K-031490s, 46.5ms\n"
     ]
    },
    {
     "name": "stdout",
     "output_type": "stream",
     "text": [
      "Time to process 1 frame: 64 milliseconds\n",
      "Time to process 1 frame: 66 milliseconds\n",
      "Time to process 1 frame: 68 milliseconds\n"
     ]
    },
    {
     "name": "stderr",
     "output_type": "stream",
     "text": [
      "Speed: 1.0ms preprocess, 46.5ms inference, 3.0ms postprocess per image at shape (1, 3, 384, 640)\n",
      "\n",
      "0: 384x640 2 K-001901s, 1 K-006697, 5 K-031490s, 47.0ms\n",
      "Speed: 2.0ms preprocess, 47.0ms inference, 3.0ms postprocess per image at shape (1, 3, 384, 640)\n",
      "\n",
      "0: 384x640 2 K-001901s, 1 K-006697, 5 K-031490s, 47.0ms\n",
      "Speed: 2.0ms preprocess, 47.0ms inference, 3.0ms postprocess per image at shape (1, 3, 384, 640)\n",
      "\n"
     ]
    },
    {
     "name": "stdout",
     "output_type": "stream",
     "text": [
      "Time to process 1 frame: 66 milliseconds\n",
      "Time to process 1 frame: 68 milliseconds\n",
      "Time to process 1 frame: 68 milliseconds\n"
     ]
    },
    {
     "name": "stderr",
     "output_type": "stream",
     "text": [
      "0: 384x640 2 K-001901s, 1 K-006697, 5 K-031490s, 46.5ms\n",
      "Speed: 2.0ms preprocess, 46.5ms inference, 3.0ms postprocess per image at shape (1, 3, 384, 640)\n",
      "\n",
      "0: 384x640 2 K-001901s, 1 K-006697, 5 K-031490s, 46.1ms\n",
      "Speed: 1.6ms preprocess, 46.1ms inference, 3.0ms postprocess per image at shape (1, 3, 384, 640)\n",
      "\n",
      "0: 384x640 2 K-001901s, 1 K-006697, 5 K-031490s, 46.0ms\n",
      "Speed: 2.0ms preprocess, 46.0ms inference, 3.0ms postprocess per image at shape (1, 3, 384, 640)\n",
      "\n"
     ]
    },
    {
     "name": "stdout",
     "output_type": "stream",
     "text": [
      "Time to process 1 frame: 67 milliseconds\n",
      "Time to process 1 frame: 64 milliseconds\n",
      "Time to process 1 frame: 66 milliseconds\n"
     ]
    },
    {
     "name": "stderr",
     "output_type": "stream",
     "text": [
      "0: 384x640 2 K-001901s, 1 K-006697, 5 K-031490s, 46.1ms\n",
      "Speed: 2.0ms preprocess, 46.1ms inference, 3.0ms postprocess per image at shape (1, 3, 384, 640)\n",
      "\n",
      "0: 384x640 2 K-001901s, 1 K-006697, 5 K-031490s, 46.1ms\n",
      "Speed: 2.0ms preprocess, 46.1ms inference, 2.0ms postprocess per image at shape (1, 3, 384, 640)\n",
      "\n",
      "0: 384x640 2 K-001901s, 1 K-006697, 5 K-031490s, 47.0ms\n",
      "Speed: 2.0ms preprocess, 47.0ms inference, 2.0ms postprocess per image at shape (1, 3, 384, 640)\n",
      "\n"
     ]
    },
    {
     "name": "stdout",
     "output_type": "stream",
     "text": [
      "Time to process 1 frame: 66 milliseconds\n",
      "Time to process 1 frame: 67 milliseconds\n",
      "Time to process 1 frame: 67 milliseconds\n"
     ]
    },
    {
     "name": "stderr",
     "output_type": "stream",
     "text": [
      "0: 384x640 2 K-001901s, 1 K-006697, 5 K-031490s, 46.0ms\n",
      "Speed: 2.0ms preprocess, 46.0ms inference, 4.0ms postprocess per image at shape (1, 3, 384, 640)\n",
      "\n",
      "0: 384x640 2 K-001901s, 1 K-006697, 5 K-031490s, 46.5ms\n",
      "Speed: 2.0ms preprocess, 46.5ms inference, 3.0ms postprocess per image at shape (1, 3, 384, 640)\n",
      "\n",
      "0: 384x640 2 K-001901s, 1 K-004378, 1 K-006697, 5 K-031490s, 46.5ms\n",
      "Speed: 2.0ms preprocess, 46.5ms inference, 3.0ms postprocess per image at shape (1, 3, 384, 640)\n",
      "\n"
     ]
    },
    {
     "name": "stdout",
     "output_type": "stream",
     "text": [
      "Time to process 1 frame: 68 milliseconds\n",
      "Time to process 1 frame: 68 milliseconds\n",
      "Time to process 1 frame: 67 milliseconds\n"
     ]
    },
    {
     "name": "stderr",
     "output_type": "stream",
     "text": [
      "0: 384x640 2 K-001901s, 1 K-006697, 5 K-031490s, 46.0ms\n",
      "Speed: 2.0ms preprocess, 46.0ms inference, 3.0ms postprocess per image at shape (1, 3, 384, 640)\n",
      "\n",
      "0: 384x640 2 K-001901s, 1 K-004378, 1 K-006697, 5 K-031490s, 47.5ms\n",
      "Speed: 2.0ms preprocess, 47.5ms inference, 2.0ms postprocess per image at shape (1, 3, 384, 640)\n",
      "\n",
      "0: 384x640 2 K-001901s, 1 K-006697, 5 K-031490s, 47.5ms\n",
      "Speed: 2.0ms preprocess, 47.5ms inference, 2.0ms postprocess per image at shape (1, 3, 384, 640)\n",
      "\n"
     ]
    },
    {
     "name": "stdout",
     "output_type": "stream",
     "text": [
      "Time to process 1 frame: 66 milliseconds\n",
      "Time to process 1 frame: 68 milliseconds\n",
      "Time to process 1 frame: 68 milliseconds\n"
     ]
    },
    {
     "name": "stderr",
     "output_type": "stream",
     "text": [
      "0: 384x640 2 K-001901s, 1 K-006697, 5 K-031490s, 47.0ms\n",
      "Speed: 2.0ms preprocess, 47.0ms inference, 2.0ms postprocess per image at shape (1, 3, 384, 640)\n",
      "\n",
      "0: 384x640 2 K-001901s, 1 K-004378, 1 K-006697, 5 K-031490s, 47.0ms\n",
      "Speed: 2.0ms preprocess, 47.0ms inference, 2.0ms postprocess per image at shape (1, 3, 384, 640)\n",
      "\n",
      "0: 384x640 2 K-001901s, 1 K-006697, 5 K-031490s, 46.5ms\n",
      "Speed: 2.0ms preprocess, 46.5ms inference, 3.0ms postprocess per image at shape (1, 3, 384, 640)\n",
      "\n"
     ]
    },
    {
     "name": "stdout",
     "output_type": "stream",
     "text": [
      "Time to process 1 frame: 68 milliseconds\n",
      "Time to process 1 frame: 66 milliseconds\n",
      "Time to process 1 frame: 68 milliseconds\n"
     ]
    },
    {
     "name": "stderr",
     "output_type": "stream",
     "text": [
      "0: 384x640 2 K-001901s, 1 K-006697, 5 K-031490s, 47.0ms\n",
      "Speed: 2.0ms preprocess, 47.0ms inference, 3.0ms postprocess per image at shape (1, 3, 384, 640)\n",
      "\n",
      "0: 384x640 2 K-001901s, 1 K-006697, 5 K-031490s, 46.5ms\n",
      "Speed: 2.0ms preprocess, 46.5ms inference, 2.0ms postprocess per image at shape (1, 3, 384, 640)\n",
      "\n",
      "0: 384x640 2 K-001901s, 1 K-006697, 5 K-031490s, 46.5ms\n",
      "Speed: 2.0ms preprocess, 46.5ms inference, 2.0ms postprocess per image at shape (1, 3, 384, 640)\n",
      "\n",
      "0: 384x640 2 K-001901s, 1 K-006697, 5 K-031490s, 46.5ms\n"
     ]
    },
    {
     "name": "stdout",
     "output_type": "stream",
     "text": [
      "Time to process 1 frame: 67 milliseconds\n",
      "Time to process 1 frame: 68 milliseconds\n",
      "Time to process 1 frame: 66 milliseconds\n"
     ]
    },
    {
     "name": "stderr",
     "output_type": "stream",
     "text": [
      "Speed: 2.0ms preprocess, 46.5ms inference, 2.0ms postprocess per image at shape (1, 3, 384, 640)\n",
      "\n",
      "0: 384x640 2 K-001901s, 1 K-006697, 5 K-031490s, 47.0ms\n",
      "Speed: 2.0ms preprocess, 47.0ms inference, 2.0ms postprocess per image at shape (1, 3, 384, 640)\n",
      "\n",
      "0: 384x640 2 K-001901s, 1 K-006697, 5 K-031490s, 46.0ms\n",
      "Speed: 2.0ms preprocess, 46.0ms inference, 3.0ms postprocess per image at shape (1, 3, 384, 640)\n",
      "\n"
     ]
    },
    {
     "name": "stdout",
     "output_type": "stream",
     "text": [
      "Time to process 1 frame: 67 milliseconds\n",
      "Time to process 1 frame: 68 milliseconds\n",
      "Time to process 1 frame: 67 milliseconds\n"
     ]
    },
    {
     "name": "stderr",
     "output_type": "stream",
     "text": [
      "0: 384x640 2 K-001901s, 1 K-006697, 5 K-031490s, 46.5ms\n",
      "Speed: 2.0ms preprocess, 46.5ms inference, 2.0ms postprocess per image at shape (1, 3, 384, 640)\n",
      "\n",
      "0: 384x640 2 K-001901s, 1 K-006697, 5 K-031490s, 46.8ms\n",
      "Speed: 2.0ms preprocess, 46.8ms inference, 1.5ms postprocess per image at shape (1, 3, 384, 640)\n",
      "\n",
      "0: 384x640 2 K-001901s, 1 K-006697, 5 K-031490s, 47.0ms\n",
      "Speed: 2.0ms preprocess, 47.0ms inference, 2.0ms postprocess per image at shape (1, 3, 384, 640)\n",
      "\n"
     ]
    },
    {
     "name": "stdout",
     "output_type": "stream",
     "text": [
      "Time to process 1 frame: 68 milliseconds\n",
      "Time to process 1 frame: 68 milliseconds\n",
      "Time to process 1 frame: 67 milliseconds\n"
     ]
    },
    {
     "name": "stderr",
     "output_type": "stream",
     "text": [
      "0: 384x640 2 K-001901s, 1 K-006697, 5 K-031490s, 46.5ms\n",
      "Speed: 2.0ms preprocess, 46.5ms inference, 3.0ms postprocess per image at shape (1, 3, 384, 640)\n",
      "\n",
      "0: 384x640 2 K-001901s, 1 K-006697, 5 K-031490s, 46.5ms\n",
      "Speed: 2.0ms preprocess, 46.5ms inference, 3.0ms postprocess per image at shape (1, 3, 384, 640)\n",
      "\n",
      "0: 384x640 2 K-001901s, 1 K-006697, 5 K-031490s, 47.0ms\n",
      "Speed: 2.0ms preprocess, 47.0ms inference, 2.0ms postprocess per image at shape (1, 3, 384, 640)\n",
      "\n"
     ]
    },
    {
     "name": "stdout",
     "output_type": "stream",
     "text": [
      "Time to process 1 frame: 67 milliseconds\n",
      "Time to process 1 frame: 67 milliseconds\n",
      "Time to process 1 frame: 66 milliseconds\n"
     ]
    },
    {
     "name": "stderr",
     "output_type": "stream",
     "text": [
      "0: 384x640 2 K-001901s, 1 K-006697, 5 K-031490s, 46.0ms\n",
      "Speed: 2.0ms preprocess, 46.0ms inference, 2.0ms postprocess per image at shape (1, 3, 384, 640)\n",
      "\n",
      "0: 384x640 2 K-001901s, 1 K-006697, 5 K-031490s, 46.5ms\n",
      "Speed: 2.0ms preprocess, 46.5ms inference, 4.0ms postprocess per image at shape (1, 3, 384, 640)\n",
      "\n",
      "0: 384x640 2 K-001901s, 1 K-006697, 5 K-031490s, 45.5ms\n",
      "Speed: 2.0ms preprocess, 45.5ms inference, 4.0ms postprocess per image at shape (1, 3, 384, 640)\n",
      "\n"
     ]
    },
    {
     "name": "stdout",
     "output_type": "stream",
     "text": [
      "Time to process 1 frame: 66 milliseconds\n",
      "Time to process 1 frame: 69 milliseconds\n",
      "Time to process 1 frame: 66 milliseconds\n"
     ]
    },
    {
     "name": "stderr",
     "output_type": "stream",
     "text": [
      "0: 384x640 2 K-001901s, 1 K-006697, 5 K-031490s, 47.0ms\n",
      "Speed: 2.0ms preprocess, 47.0ms inference, 3.0ms postprocess per image at shape (1, 3, 384, 640)\n",
      "\n",
      "0: 384x640 2 K-001901s, 1 K-006697, 5 K-031490s, 46.5ms\n",
      "Speed: 2.0ms preprocess, 46.5ms inference, 2.0ms postprocess per image at shape (1, 3, 384, 640)\n",
      "\n",
      "0: 384x640 2 K-001901s, 1 K-004378, 1 K-006697, 5 K-031490s, 45.5ms\n",
      "Speed: 2.0ms preprocess, 45.5ms inference, 3.0ms postprocess per image at shape (1, 3, 384, 640)\n",
      "\n"
     ]
    },
    {
     "name": "stdout",
     "output_type": "stream",
     "text": [
      "Time to process 1 frame: 69 milliseconds\n",
      "Time to process 1 frame: 67 milliseconds\n",
      "Time to process 1 frame: 67 milliseconds\n"
     ]
    },
    {
     "name": "stderr",
     "output_type": "stream",
     "text": [
      "0: 384x640 2 K-001901s, 1 K-006697, 5 K-031490s, 46.0ms\n",
      "Speed: 2.0ms preprocess, 46.0ms inference, 3.0ms postprocess per image at shape (1, 3, 384, 640)\n",
      "\n",
      "0: 384x640 2 K-001901s, 1 K-006697, 5 K-031490s, 48.0ms\n",
      "Speed: 1.0ms preprocess, 48.0ms inference, 2.0ms postprocess per image at shape (1, 3, 384, 640)\n",
      "\n",
      "0: 384x640 2 K-001901s, 1 K-004378, 1 K-006697, 4 K-031490s, 45.5ms\n",
      "Speed: 2.0ms preprocess, 45.5ms inference, 3.0ms postprocess per image at shape (1, 3, 384, 640)\n",
      "\n"
     ]
    },
    {
     "name": "stdout",
     "output_type": "stream",
     "text": [
      "Time to process 1 frame: 67 milliseconds\n",
      "Time to process 1 frame: 68 milliseconds\n",
      "Time to process 1 frame: 68 milliseconds\n"
     ]
    },
    {
     "name": "stderr",
     "output_type": "stream",
     "text": [
      "0: 384x640 2 K-001901s, 1 K-004378, 1 K-006697, 5 K-031490s, 46.7ms\n",
      "Speed: 2.0ms preprocess, 46.7ms inference, 3.2ms postprocess per image at shape (1, 3, 384, 640)\n",
      "\n",
      "0: 384x640 2 K-001901s, 1 K-006697, 5 K-031490s, 47.0ms\n",
      "Speed: 3.0ms preprocess, 47.0ms inference, 2.0ms postprocess per image at shape (1, 3, 384, 640)\n",
      "\n",
      "0: 384x640 2 K-001901s, 1 K-006697, 5 K-031490s, 46.1ms\n",
      "Speed: 2.0ms preprocess, 46.1ms inference, 3.0ms postprocess per image at shape (1, 3, 384, 640)\n",
      "\n"
     ]
    },
    {
     "name": "stdout",
     "output_type": "stream",
     "text": [
      "Time to process 1 frame: 69 milliseconds\n",
      "Time to process 1 frame: 68 milliseconds\n",
      "Time to process 1 frame: 67 milliseconds\n"
     ]
    },
    {
     "name": "stderr",
     "output_type": "stream",
     "text": [
      "0: 384x640 2 K-001901s, 1 K-006697, 5 K-031490s, 46.5ms\n",
      "Speed: 2.0ms preprocess, 46.5ms inference, 4.0ms postprocess per image at shape (1, 3, 384, 640)\n",
      "\n",
      "0: 384x640 2 K-001901s, 1 K-004378, 1 K-006697, 5 K-031490s, 46.0ms\n",
      "Speed: 4.0ms preprocess, 46.0ms inference, 3.0ms postprocess per image at shape (1, 3, 384, 640)\n",
      "\n",
      "0: 384x640 2 K-001901s, 1 K-004378, 5 K-031490s, 46.0ms\n",
      "Speed: 2.0ms preprocess, 46.0ms inference, 3.0ms postprocess per image at shape (1, 3, 384, 640)\n",
      "\n"
     ]
    },
    {
     "name": "stdout",
     "output_type": "stream",
     "text": [
      "Time to process 1 frame: 71 milliseconds\n",
      "Time to process 1 frame: 70 milliseconds\n",
      "Time to process 1 frame: 66 milliseconds\n"
     ]
    },
    {
     "name": "stderr",
     "output_type": "stream",
     "text": [
      "0: 384x640 2 K-001901s, 1 K-004378, 5 K-031490s, 45.5ms\n",
      "Speed: 2.0ms preprocess, 45.5ms inference, 2.0ms postprocess per image at shape (1, 3, 384, 640)\n",
      "\n",
      "0: 384x640 2 K-001901s, 1 K-004378, 5 K-031490s, 47.8ms\n",
      "Speed: 2.0ms preprocess, 47.8ms inference, 2.7ms postprocess per image at shape (1, 3, 384, 640)\n",
      "\n",
      "0: 384x640 2 K-001901s, 1 K-006697, 5 K-031490s, 1 K-038104, 46.0ms\n",
      "Speed: 2.0ms preprocess, 46.0ms inference, 2.0ms postprocess per image at shape (1, 3, 384, 640)\n",
      "\n"
     ]
    },
    {
     "name": "stdout",
     "output_type": "stream",
     "text": [
      "Time to process 1 frame: 66 milliseconds\n",
      "Time to process 1 frame: 70 milliseconds\n",
      "Time to process 1 frame: 68 milliseconds\n"
     ]
    },
    {
     "name": "stderr",
     "output_type": "stream",
     "text": [
      "0: 384x640 2 K-001901s, 1 K-004378, 1 K-006697, 5 K-031490s, 45.5ms\n",
      "Speed: 2.0ms preprocess, 45.5ms inference, 4.0ms postprocess per image at shape (1, 3, 384, 640)\n",
      "\n",
      "0: 384x640 2 K-001901s, 1 K-006697, 4 K-031490s, 46.5ms\n",
      "Speed: 2.0ms preprocess, 46.5ms inference, 3.0ms postprocess per image at shape (1, 3, 384, 640)\n",
      "\n",
      "0: 384x640 2 K-001901s, 1 K-004378, 1 K-006697, 5 K-031490s, 47.0ms\n",
      "Speed: 2.0ms preprocess, 47.0ms inference, 2.0ms postprocess per image at shape (1, 3, 384, 640)\n",
      "\n"
     ]
    },
    {
     "name": "stdout",
     "output_type": "stream",
     "text": [
      "Time to process 1 frame: 67 milliseconds\n",
      "Time to process 1 frame: 67 milliseconds\n",
      "Time to process 1 frame: 67 milliseconds\n"
     ]
    },
    {
     "name": "stderr",
     "output_type": "stream",
     "text": [
      "0: 384x640 2 K-001901s, 1 K-004378, 1 K-006697, 4 K-031490s, 46.0ms\n",
      "Speed: 3.0ms preprocess, 46.0ms inference, 2.0ms postprocess per image at shape (1, 3, 384, 640)\n",
      "\n",
      "0: 384x640 2 K-001901s, 1 K-004378, 1 K-006697, 5 K-031490s, 47.5ms\n",
      "Speed: 2.0ms preprocess, 47.5ms inference, 3.0ms postprocess per image at shape (1, 3, 384, 640)\n",
      "\n",
      "0: 384x640 2 K-001901s, 1 K-004378, 1 K-006697, 5 K-031490s, 47.0ms\n",
      "Speed: 2.0ms preprocess, 47.0ms inference, 3.2ms postprocess per image at shape (1, 3, 384, 640)\n",
      "\n",
      "0: 384x640 2 K-001901s, 1 K-004378, 1 K-006697, 4 K-031490s, 46.0ms\n"
     ]
    },
    {
     "name": "stdout",
     "output_type": "stream",
     "text": [
      "Time to process 1 frame: 68 milliseconds\n",
      "Time to process 1 frame: 68 milliseconds\n",
      "Time to process 1 frame: 68 milliseconds\n"
     ]
    },
    {
     "name": "stderr",
     "output_type": "stream",
     "text": [
      "Speed: 2.0ms preprocess, 46.0ms inference, 3.0ms postprocess per image at shape (1, 3, 384, 640)\n",
      "\n",
      "0: 384x640 2 K-001901s, 1 K-004378, 4 K-031490s, 46.7ms\n",
      "Speed: 2.0ms preprocess, 46.7ms inference, 2.0ms postprocess per image at shape (1, 3, 384, 640)\n",
      "\n",
      "0: 384x640 2 K-001901s, 1 K-004378, 4 K-031490s, 46.2ms\n",
      "Speed: 2.0ms preprocess, 46.2ms inference, 3.0ms postprocess per image at shape (1, 3, 384, 640)\n",
      "\n"
     ]
    },
    {
     "name": "stdout",
     "output_type": "stream",
     "text": [
      "Time to process 1 frame: 67 milliseconds\n",
      "Time to process 1 frame: 67 milliseconds\n",
      "Time to process 1 frame: 66 milliseconds\n"
     ]
    },
    {
     "name": "stderr",
     "output_type": "stream",
     "text": [
      "0: 384x640 2 K-001901s, 1 K-006697, 4 K-031490s, 47.0ms\n",
      "Speed: 2.0ms preprocess, 47.0ms inference, 3.0ms postprocess per image at shape (1, 3, 384, 640)\n",
      "\n",
      "0: 384x640 2 K-001901s, 1 K-004378, 1 K-006697, 4 K-031490s, 47.0ms\n",
      "Speed: 2.0ms preprocess, 47.0ms inference, 2.0ms postprocess per image at shape (1, 3, 384, 640)\n",
      "\n",
      "0: 384x640 2 K-001901s, 1 K-006697, 4 K-031490s, 45.5ms\n",
      "Speed: 3.0ms preprocess, 45.5ms inference, 3.0ms postprocess per image at shape (1, 3, 384, 640)\n",
      "\n",
      "0: 384x640 2 K-001901s, 1 K-004378, 1 K-006697, 4 K-031490s, 46.0ms\n"
     ]
    },
    {
     "name": "stdout",
     "output_type": "stream",
     "text": [
      "Time to process 1 frame: 67 milliseconds\n",
      "Time to process 1 frame: 68 milliseconds\n",
      "Time to process 1 frame: 68 milliseconds\n"
     ]
    },
    {
     "name": "stderr",
     "output_type": "stream",
     "text": [
      "Speed: 2.0ms preprocess, 46.0ms inference, 3.0ms postprocess per image at shape (1, 3, 384, 640)\n",
      "\n",
      "0: 384x640 2 K-001901s, 1 K-004378, 1 K-006697, 4 K-031490s, 48.0ms\n",
      "Speed: 2.0ms preprocess, 48.0ms inference, 2.0ms postprocess per image at shape (1, 3, 384, 640)\n",
      "\n",
      "0: 384x640 2 K-001901s, 1 K-004378, 4 K-031490s, 46.0ms\n",
      "Speed: 3.0ms preprocess, 46.0ms inference, 3.0ms postprocess per image at shape (1, 3, 384, 640)\n",
      "\n"
     ]
    },
    {
     "name": "stdout",
     "output_type": "stream",
     "text": [
      "Time to process 1 frame: 68 milliseconds\n",
      "Time to process 1 frame: 65 milliseconds\n",
      "Time to process 1 frame: 68 milliseconds\n"
     ]
    },
    {
     "name": "stderr",
     "output_type": "stream",
     "text": [
      "0: 384x640 2 K-001901s, 1 K-004378, 4 K-031490s, 45.1ms\n",
      "Speed: 2.0ms preprocess, 45.1ms inference, 3.0ms postprocess per image at shape (1, 3, 384, 640)\n",
      "\n",
      "0: 384x640 2 K-001901s, 1 K-004378, 4 K-031490s, 46.0ms\n",
      "Speed: 2.0ms preprocess, 46.0ms inference, 3.0ms postprocess per image at shape (1, 3, 384, 640)\n",
      "\n",
      "0: 384x640 2 K-001901s, 1 K-004378, 4 K-031490s, 47.5ms\n",
      "Speed: 1.0ms preprocess, 47.5ms inference, 3.0ms postprocess per image at shape (1, 3, 384, 640)\n",
      "\n",
      "0: 384x640 2 K-001901s, 1 K-004378, 1 K-006697, 5 K-031490s, 46.5ms\n"
     ]
    },
    {
     "name": "stdout",
     "output_type": "stream",
     "text": [
      "Time to process 1 frame: 66 milliseconds\n",
      "Time to process 1 frame: 67 milliseconds\n",
      "Time to process 1 frame: 69 milliseconds\n"
     ]
    },
    {
     "name": "stderr",
     "output_type": "stream",
     "text": [
      "Speed: 2.0ms preprocess, 46.5ms inference, 2.0ms postprocess per image at shape (1, 3, 384, 640)\n",
      "\n",
      "0: 384x640 2 K-001901s, 1 K-006697, 5 K-031490s, 46.0ms\n",
      "Speed: 2.0ms preprocess, 46.0ms inference, 3.0ms postprocess per image at shape (1, 3, 384, 640)\n",
      "\n",
      "0: 384x640 2 K-001901s, 1 K-004378, 5 K-031490s, 45.9ms\n",
      "Speed: 2.1ms preprocess, 45.9ms inference, 3.0ms postprocess per image at shape (1, 3, 384, 640)\n",
      "\n"
     ]
    },
    {
     "name": "stdout",
     "output_type": "stream",
     "text": [
      "Time to process 1 frame: 67 milliseconds\n",
      "Time to process 1 frame: 66 milliseconds\n",
      "Time to process 1 frame: 67 milliseconds\n"
     ]
    },
    {
     "name": "stderr",
     "output_type": "stream",
     "text": [
      "0: 384x640 2 K-001901s, 1 K-004378, 5 K-031490s, 46.5ms\n",
      "Speed: 2.0ms preprocess, 46.5ms inference, 3.0ms postprocess per image at shape (1, 3, 384, 640)\n",
      "\n",
      "0: 384x640 2 K-001901s, 1 K-004378, 4 K-031490s, 46.5ms\n",
      "Speed: 2.0ms preprocess, 46.5ms inference, 3.0ms postprocess per image at shape (1, 3, 384, 640)\n",
      "\n",
      "0: 384x640 2 K-001901s, 1 K-004378, 1 K-006697, 5 K-031490s, 47.0ms\n",
      "Speed: 2.0ms preprocess, 47.0ms inference, 2.0ms postprocess per image at shape (1, 3, 384, 640)\n",
      "\n"
     ]
    },
    {
     "name": "stdout",
     "output_type": "stream",
     "text": [
      "Time to process 1 frame: 68 milliseconds\n",
      "Time to process 1 frame: 67 milliseconds\n",
      "Time to process 1 frame: 68 milliseconds\n"
     ]
    },
    {
     "name": "stderr",
     "output_type": "stream",
     "text": [
      "0: 384x640 2 K-001901s, 1 K-004378, 1 K-006697, 4 K-031490s, 46.5ms\n",
      "Speed: 2.0ms preprocess, 46.5ms inference, 4.0ms postprocess per image at shape (1, 3, 384, 640)\n",
      "\n",
      "0: 384x640 2 K-001901s, 1 K-004378, 5 K-031490s, 46.5ms\n",
      "Speed: 2.0ms preprocess, 46.5ms inference, 3.0ms postprocess per image at shape (1, 3, 384, 640)\n",
      "\n",
      "0: 384x640 2 K-001901s, 1 K-004378, 5 K-031490s, 46.0ms\n",
      "Speed: 2.0ms preprocess, 46.0ms inference, 2.0ms postprocess per image at shape (1, 3, 384, 640)\n",
      "\n"
     ]
    },
    {
     "name": "stdout",
     "output_type": "stream",
     "text": [
      "Time to process 1 frame: 70 milliseconds\n",
      "Time to process 1 frame: 68 milliseconds\n",
      "Time to process 1 frame: 67 milliseconds\n"
     ]
    },
    {
     "name": "stderr",
     "output_type": "stream",
     "text": [
      "0: 384x640 2 K-001901s, 1 K-004378, 1 K-006697, 5 K-031490s, 46.1ms\n",
      "Speed: 2.0ms preprocess, 46.1ms inference, 4.0ms postprocess per image at shape (1, 3, 384, 640)\n",
      "\n",
      "0: 384x640 2 K-001901s, 1 K-004378, 4 K-031490s, 47.5ms\n",
      "Speed: 2.0ms preprocess, 47.5ms inference, 3.0ms postprocess per image at shape (1, 3, 384, 640)\n",
      "\n",
      "0: 384x640 2 K-001901s, 1 K-004378, 1 K-006697, 5 K-031490s, 45.5ms\n",
      "Speed: 2.0ms preprocess, 45.5ms inference, 4.0ms postprocess per image at shape (1, 3, 384, 640)\n",
      "\n",
      "0: 384x640 2 K-001901s, 1 K-006697, 4 K-031490s, 46.0ms\n"
     ]
    },
    {
     "name": "stdout",
     "output_type": "stream",
     "text": [
      "Time to process 1 frame: 67 milliseconds\n",
      "Time to process 1 frame: 69 milliseconds\n",
      "Time to process 1 frame: 68 milliseconds\n"
     ]
    },
    {
     "name": "stderr",
     "output_type": "stream",
     "text": [
      "Speed: 2.0ms preprocess, 46.0ms inference, 3.0ms postprocess per image at shape (1, 3, 384, 640)\n",
      "\n",
      "0: 384x640 2 K-001901s, 1 K-004378, 4 K-031490s, 45.5ms\n",
      "Speed: 2.0ms preprocess, 45.5ms inference, 2.0ms postprocess per image at shape (1, 3, 384, 640)\n",
      "\n",
      "0: 384x640 2 K-001901s, 1 K-004378, 1 K-006697, 4 K-031490s, 46.5ms\n",
      "Speed: 2.0ms preprocess, 46.5ms inference, 3.0ms postprocess per image at shape (1, 3, 384, 640)\n",
      "\n"
     ]
    },
    {
     "name": "stdout",
     "output_type": "stream",
     "text": [
      "Time to process 1 frame: 67 milliseconds\n",
      "Time to process 1 frame: 68 milliseconds\n",
      "Time to process 1 frame: 69 milliseconds\n"
     ]
    },
    {
     "name": "stderr",
     "output_type": "stream",
     "text": [
      "0: 384x640 2 K-001901s, 1 K-004378, 4 K-031490s, 46.0ms\n",
      "Speed: 2.0ms preprocess, 46.0ms inference, 4.0ms postprocess per image at shape (1, 3, 384, 640)\n",
      "\n",
      "0: 384x640 2 K-001901s, 1 K-004378, 4 K-031490s, 46.8ms\n",
      "Speed: 2.0ms preprocess, 46.8ms inference, 2.7ms postprocess per image at shape (1, 3, 384, 640)\n",
      "\n",
      "0: 384x640 2 K-001901s, 1 K-004378, 1 K-006697, 4 K-031490s, 47.1ms\n",
      "Speed: 2.0ms preprocess, 47.1ms inference, 3.0ms postprocess per image at shape (1, 3, 384, 640)\n",
      "\n"
     ]
    },
    {
     "name": "stdout",
     "output_type": "stream",
     "text": [
      "Time to process 1 frame: 67 milliseconds\n",
      "Time to process 1 frame: 68 milliseconds\n",
      "Time to process 1 frame: 68 milliseconds\n"
     ]
    },
    {
     "name": "stderr",
     "output_type": "stream",
     "text": [
      "0: 384x640 2 K-001901s, 1 K-004378, 4 K-031490s, 46.5ms\n",
      "Speed: 2.0ms preprocess, 46.5ms inference, 3.0ms postprocess per image at shape (1, 3, 384, 640)\n",
      "\n",
      "0: 384x640 2 K-001901s, 1 K-006697, 4 K-031490s, 47.0ms\n",
      "Speed: 2.0ms preprocess, 47.0ms inference, 2.0ms postprocess per image at shape (1, 3, 384, 640)\n",
      "\n",
      "0: 384x640 2 K-001901s, 1 K-004378, 4 K-031490s, 47.0ms\n",
      "Speed: 1.5ms preprocess, 47.0ms inference, 3.0ms postprocess per image at shape (1, 3, 384, 640)\n",
      "\n"
     ]
    },
    {
     "name": "stdout",
     "output_type": "stream",
     "text": [
      "Time to process 1 frame: 68 milliseconds\n",
      "Time to process 1 frame: 68 milliseconds\n",
      "Time to process 1 frame: 68 milliseconds\n"
     ]
    },
    {
     "name": "stderr",
     "output_type": "stream",
     "text": [
      "0: 384x640 2 K-001901s, 1 K-006697, 5 K-031490s, 45.5ms\n",
      "Speed: 3.0ms preprocess, 45.5ms inference, 4.0ms postprocess per image at shape (1, 3, 384, 640)\n",
      "\n",
      "0: 384x640 2 K-001901s, 1 K-006697, 4 K-031490s, 46.0ms\n",
      "Speed: 2.0ms preprocess, 46.0ms inference, 3.0ms postprocess per image at shape (1, 3, 384, 640)\n",
      "\n",
      "0: 384x640 2 K-001901s, 1 K-004378, 4 K-031490s, 46.9ms\n",
      "Speed: 2.0ms preprocess, 46.9ms inference, 3.0ms postprocess per image at shape (1, 3, 384, 640)\n",
      "\n"
     ]
    },
    {
     "name": "stdout",
     "output_type": "stream",
     "text": [
      "Time to process 1 frame: 69 milliseconds\n",
      "Time to process 1 frame: 67 milliseconds\n",
      "Time to process 1 frame: 69 milliseconds\n"
     ]
    },
    {
     "name": "stderr",
     "output_type": "stream",
     "text": [
      "0: 384x640 2 K-001901s, 1 K-004378, 4 K-031490s, 46.5ms\n",
      "Speed: 2.0ms preprocess, 46.5ms inference, 3.0ms postprocess per image at shape (1, 3, 384, 640)\n",
      "\n",
      "0: 384x640 2 K-001901s, 1 K-004378, 4 K-031490s, 46.2ms\n",
      "Speed: 2.0ms preprocess, 46.2ms inference, 2.0ms postprocess per image at shape (1, 3, 384, 640)\n",
      "\n",
      "0: 384x640 2 K-001901s, 1 K-004378, 4 K-031490s, 47.0ms\n",
      "Speed: 2.0ms preprocess, 47.0ms inference, 2.0ms postprocess per image at shape (1, 3, 384, 640)\n",
      "\n"
     ]
    },
    {
     "name": "stdout",
     "output_type": "stream",
     "text": [
      "Time to process 1 frame: 69 milliseconds\n",
      "Time to process 1 frame: 67 milliseconds\n",
      "Time to process 1 frame: 69 milliseconds\n"
     ]
    },
    {
     "name": "stderr",
     "output_type": "stream",
     "text": [
      "0: 384x640 2 K-001901s, 1 K-006697, 4 K-031490s, 46.0ms\n",
      "Speed: 2.0ms preprocess, 46.0ms inference, 3.0ms postprocess per image at shape (1, 3, 384, 640)\n",
      "\n",
      "0: 384x640 2 K-001901s, 1 K-006697, 5 K-031490s, 47.0ms\n",
      "Speed: 2.0ms preprocess, 47.0ms inference, 2.0ms postprocess per image at shape (1, 3, 384, 640)\n",
      "\n",
      "0: 384x640 2 K-001901s, 1 K-006697, 5 K-031490s, 47.0ms\n",
      "Speed: 2.0ms preprocess, 47.0ms inference, 3.0ms postprocess per image at shape (1, 3, 384, 640)\n",
      "\n",
      "0: 384x640 2 K-001901s, 1 K-006697, 5 K-031490s, 46.4ms\n"
     ]
    },
    {
     "name": "stdout",
     "output_type": "stream",
     "text": [
      "Time to process 1 frame: 68 milliseconds\n",
      "Time to process 1 frame: 67 milliseconds\n",
      "Time to process 1 frame: 68 milliseconds\n"
     ]
    },
    {
     "name": "stderr",
     "output_type": "stream",
     "text": [
      "Speed: 2.0ms preprocess, 46.4ms inference, 3.0ms postprocess per image at shape (1, 3, 384, 640)\n",
      "\n",
      "0: 384x640 2 K-001901s, 1 K-006697, 5 K-031490s, 46.8ms\n",
      "Speed: 3.0ms preprocess, 46.8ms inference, 2.0ms postprocess per image at shape (1, 3, 384, 640)\n",
      "\n",
      "0: 384x640 2 K-001901s, 1 K-004378, 1 K-006697, 5 K-031490s, 46.5ms\n",
      "Speed: 2.0ms preprocess, 46.5ms inference, 3.0ms postprocess per image at shape (1, 3, 384, 640)\n",
      "\n"
     ]
    },
    {
     "name": "stdout",
     "output_type": "stream",
     "text": [
      "Time to process 1 frame: 67 milliseconds\n",
      "Time to process 1 frame: 70 milliseconds\n",
      "Time to process 1 frame: 69 milliseconds\n"
     ]
    },
    {
     "name": "stderr",
     "output_type": "stream",
     "text": [
      "0: 384x640 2 K-001901s, 1 K-006697, 4 K-031490s, 47.0ms\n",
      "Speed: 2.0ms preprocess, 47.0ms inference, 3.0ms postprocess per image at shape (1, 3, 384, 640)\n",
      "\n",
      "0: 384x640 2 K-001901s, 1 K-006697, 5 K-031490s, 46.0ms\n",
      "Speed: 3.0ms preprocess, 46.0ms inference, 3.0ms postprocess per image at shape (1, 3, 384, 640)\n",
      "\n",
      "0: 384x640 2 K-001901s, 1 K-006697, 4 K-031490s, 46.5ms\n",
      "Speed: 2.0ms preprocess, 46.5ms inference, 3.0ms postprocess per image at shape (1, 3, 384, 640)\n",
      "\n"
     ]
    },
    {
     "name": "stdout",
     "output_type": "stream",
     "text": [
      "Time to process 1 frame: 67 milliseconds\n",
      "Time to process 1 frame: 68 milliseconds\n",
      "Time to process 1 frame: 69 milliseconds\n"
     ]
    },
    {
     "name": "stderr",
     "output_type": "stream",
     "text": [
      "0: 384x640 2 K-001901s, 1 K-004378, 1 K-006697, 4 K-031490s, 47.0ms\n",
      "Speed: 2.0ms preprocess, 47.0ms inference, 2.5ms postprocess per image at shape (1, 3, 384, 640)\n",
      "\n",
      "0: 384x640 2 K-001901s, 1 K-006697, 4 K-031490s, 46.1ms\n",
      "Speed: 2.0ms preprocess, 46.1ms inference, 2.0ms postprocess per image at shape (1, 3, 384, 640)\n",
      "\n",
      "0: 384x640 2 K-001901s, 1 K-004378, 1 K-006697, 5 K-031490s, 46.5ms\n",
      "Speed: 2.0ms preprocess, 46.5ms inference, 2.0ms postprocess per image at shape (1, 3, 384, 640)\n",
      "\n"
     ]
    },
    {
     "name": "stdout",
     "output_type": "stream",
     "text": [
      "Time to process 1 frame: 68 milliseconds\n",
      "Time to process 1 frame: 66 milliseconds\n",
      "Time to process 1 frame: 67 milliseconds\n"
     ]
    },
    {
     "name": "stderr",
     "output_type": "stream",
     "text": [
      "0: 384x640 2 K-001901s, 1 K-006697, 5 K-031490s, 47.2ms\n",
      "Speed: 2.0ms preprocess, 47.2ms inference, 3.0ms postprocess per image at shape (1, 3, 384, 640)\n",
      "\n",
      "0: 384x640 2 K-001901s, 1 K-004378, 4 K-031490s, 46.0ms\n",
      "Speed: 2.0ms preprocess, 46.0ms inference, 3.0ms postprocess per image at shape (1, 3, 384, 640)\n",
      "\n",
      "0: 384x640 2 K-001901s, 1 K-004378, 5 K-031490s, 47.0ms\n",
      "Speed: 2.0ms preprocess, 47.0ms inference, 2.0ms postprocess per image at shape (1, 3, 384, 640)\n",
      "\n",
      "0: 384x640 2 K-001901s, 1 K-004378, 5 K-031490s, 46.5ms\n"
     ]
    },
    {
     "name": "stdout",
     "output_type": "stream",
     "text": [
      "Time to process 1 frame: 68 milliseconds\n",
      "Time to process 1 frame: 68 milliseconds\n",
      "Time to process 1 frame: 68 milliseconds\n"
     ]
    },
    {
     "name": "stderr",
     "output_type": "stream",
     "text": [
      "Speed: 2.0ms preprocess, 46.5ms inference, 2.0ms postprocess per image at shape (1, 3, 384, 640)\n",
      "\n",
      "0: 384x640 2 K-001901s, 1 K-004378, 5 K-031490s, 47.0ms\n",
      "Speed: 2.0ms preprocess, 47.0ms inference, 2.0ms postprocess per image at shape (1, 3, 384, 640)\n",
      "\n",
      "0: 384x640 2 K-001901s, 1 K-004378, 4 K-031490s, 46.0ms\n",
      "Speed: 2.0ms preprocess, 46.0ms inference, 4.0ms postprocess per image at shape (1, 3, 384, 640)\n",
      "\n"
     ]
    },
    {
     "name": "stdout",
     "output_type": "stream",
     "text": [
      "Time to process 1 frame: 68 milliseconds\n",
      "Time to process 1 frame: 67 milliseconds\n",
      "Time to process 1 frame: 69 milliseconds\n"
     ]
    },
    {
     "name": "stderr",
     "output_type": "stream",
     "text": [
      "0: 384x640 2 K-001901s, 1 K-004378, 1 K-006697, 5 K-031490s, 46.5ms\n",
      "Speed: 2.0ms preprocess, 46.5ms inference, 3.0ms postprocess per image at shape (1, 3, 384, 640)\n",
      "\n",
      "0: 384x640 2 K-001901s, 1 K-004378, 1 K-006697, 5 K-031490s, 47.2ms\n",
      "Speed: 2.0ms preprocess, 47.2ms inference, 2.0ms postprocess per image at shape (1, 3, 384, 640)\n",
      "\n",
      "0: 384x640 2 K-001901s, 1 K-004378, 1 K-006697, 5 K-031490s, 46.0ms\n",
      "Speed: 2.0ms preprocess, 46.0ms inference, 2.0ms postprocess per image at shape (1, 3, 384, 640)\n",
      "\n",
      "0: 384x640 2 K-001901s, 1 K-004378, 1 K-006697, 5 K-031490s, 47.0ms\n"
     ]
    },
    {
     "name": "stdout",
     "output_type": "stream",
     "text": [
      "Time to process 1 frame: 67 milliseconds\n",
      "Time to process 1 frame: 69 milliseconds\n",
      "Time to process 1 frame: 66 milliseconds\n"
     ]
    },
    {
     "name": "stderr",
     "output_type": "stream",
     "text": [
      "Speed: 2.0ms preprocess, 47.0ms inference, 2.0ms postprocess per image at shape (1, 3, 384, 640)\n",
      "\n",
      "0: 384x640 2 K-001901s, 1 K-006697, 5 K-031490s, 46.5ms\n",
      "Speed: 2.0ms preprocess, 46.5ms inference, 2.0ms postprocess per image at shape (1, 3, 384, 640)\n",
      "\n",
      "0: 384x640 2 K-001901s, 1 K-006697, 5 K-031490s, 47.0ms\n",
      "Speed: 2.0ms preprocess, 47.0ms inference, 2.0ms postprocess per image at shape (1, 3, 384, 640)\n",
      "\n"
     ]
    },
    {
     "name": "stdout",
     "output_type": "stream",
     "text": [
      "Time to process 1 frame: 67 milliseconds\n",
      "Time to process 1 frame: 66 milliseconds\n",
      "Time to process 1 frame: 68 milliseconds\n"
     ]
    },
    {
     "name": "stderr",
     "output_type": "stream",
     "text": [
      "0: 384x640 2 K-001901s, 1 K-006697, 5 K-031490s, 46.3ms\n",
      "Speed: 2.0ms preprocess, 46.3ms inference, 3.0ms postprocess per image at shape (1, 3, 384, 640)\n",
      "\n",
      "0: 384x640 2 K-001901s, 1 K-006697, 5 K-031490s, 45.5ms\n",
      "Speed: 2.0ms preprocess, 45.5ms inference, 3.0ms postprocess per image at shape (1, 3, 384, 640)\n",
      "\n",
      "0: 384x640 2 K-001901s, 1 K-006697, 5 K-031490s, 46.5ms\n",
      "Speed: 2.0ms preprocess, 46.5ms inference, 3.0ms postprocess per image at shape (1, 3, 384, 640)\n",
      "\n"
     ]
    },
    {
     "name": "stdout",
     "output_type": "stream",
     "text": [
      "Time to process 1 frame: 67 milliseconds\n",
      "Time to process 1 frame: 67 milliseconds\n",
      "Time to process 1 frame: 67 milliseconds\n"
     ]
    },
    {
     "name": "stderr",
     "output_type": "stream",
     "text": [
      "0: 384x640 2 K-001901s, 1 K-006697, 5 K-031490s, 47.0ms\n",
      "Speed: 2.0ms preprocess, 47.0ms inference, 3.0ms postprocess per image at shape (1, 3, 384, 640)\n",
      "\n",
      "0: 384x640 2 K-001901s, 1 K-006697, 5 K-031490s, 46.0ms\n",
      "Speed: 2.0ms preprocess, 46.0ms inference, 3.0ms postprocess per image at shape (1, 3, 384, 640)\n",
      "\n",
      "0: 384x640 2 K-001901s, 1 K-006697, 5 K-031490s, 47.0ms\n",
      "Speed: 2.0ms preprocess, 47.0ms inference, 2.0ms postprocess per image at shape (1, 3, 384, 640)\n",
      "\n"
     ]
    },
    {
     "name": "stdout",
     "output_type": "stream",
     "text": [
      "Time to process 1 frame: 68 milliseconds\n",
      "Time to process 1 frame: 69 milliseconds\n",
      "Time to process 1 frame: 67 milliseconds\n"
     ]
    },
    {
     "name": "stderr",
     "output_type": "stream",
     "text": [
      "0: 384x640 2 K-001901s, 1 K-006697, 5 K-031490s, 47.0ms\n",
      "Speed: 2.0ms preprocess, 47.0ms inference, 2.0ms postprocess per image at shape (1, 3, 384, 640)\n",
      "\n",
      "0: 384x640 2 K-001901s, 1 K-006697, 5 K-031490s, 47.1ms\n",
      "Speed: 2.0ms preprocess, 47.1ms inference, 2.1ms postprocess per image at shape (1, 3, 384, 640)\n",
      "\n",
      "0: 384x640 2 K-001901s, 5 K-031490s, 46.5ms\n",
      "Speed: 2.0ms preprocess, 46.5ms inference, 2.0ms postprocess per image at shape (1, 3, 384, 640)\n",
      "\n"
     ]
    },
    {
     "name": "stdout",
     "output_type": "stream",
     "text": [
      "Time to process 1 frame: 67 milliseconds\n",
      "Time to process 1 frame: 68 milliseconds\n",
      "Time to process 1 frame: 68 milliseconds\n"
     ]
    },
    {
     "name": "stderr",
     "output_type": "stream",
     "text": [
      "0: 384x640 2 K-001901s, 5 K-031490s, 45.5ms\n",
      "Speed: 2.0ms preprocess, 45.5ms inference, 3.0ms postprocess per image at shape (1, 3, 384, 640)\n",
      "\n",
      "0: 384x640 2 K-001901s, 1 K-006697, 5 K-031490s, 47.0ms\n",
      "Speed: 2.0ms preprocess, 47.0ms inference, 2.0ms postprocess per image at shape (1, 3, 384, 640)\n",
      "\n",
      "0: 384x640 2 K-001901s, 1 K-004378, 1 K-006697, 5 K-031490s, 46.0ms\n",
      "Speed: 2.0ms preprocess, 46.0ms inference, 3.0ms postprocess per image at shape (1, 3, 384, 640)\n",
      "\n"
     ]
    },
    {
     "name": "stdout",
     "output_type": "stream",
     "text": [
      "Time to process 1 frame: 68 milliseconds\n",
      "Time to process 1 frame: 69 milliseconds\n",
      "Time to process 1 frame: 69 milliseconds\n"
     ]
    },
    {
     "name": "stderr",
     "output_type": "stream",
     "text": [
      "0: 384x640 2 K-001901s, 1 K-006697, 5 K-031490s, 46.4ms\n",
      "Speed: 2.0ms preprocess, 46.4ms inference, 2.0ms postprocess per image at shape (1, 3, 384, 640)\n",
      "\n",
      "0: 384x640 2 K-001901s, 1 K-006697, 5 K-031490s, 47.0ms\n",
      "Speed: 2.0ms preprocess, 47.0ms inference, 3.0ms postprocess per image at shape (1, 3, 384, 640)\n",
      "\n",
      "0: 384x640 2 K-001901s, 1 K-006697, 5 K-031490s, 46.8ms\n",
      "Speed: 2.0ms preprocess, 46.8ms inference, 2.1ms postprocess per image at shape (1, 3, 384, 640)\n",
      "\n"
     ]
    },
    {
     "name": "stdout",
     "output_type": "stream",
     "text": [
      "Time to process 1 frame: 66 milliseconds\n",
      "Time to process 1 frame: 67 milliseconds\n",
      "Time to process 1 frame: 66 milliseconds\n"
     ]
    },
    {
     "name": "stderr",
     "output_type": "stream",
     "text": [
      "0: 384x640 2 K-001901s, 1 K-006697, 5 K-031490s, 45.5ms\n",
      "Speed: 2.0ms preprocess, 45.5ms inference, 4.7ms postprocess per image at shape (1, 3, 384, 640)\n",
      "\n",
      "0: 384x640 2 K-001901s, 1 K-004378, 1 K-006697, 5 K-031490s, 45.7ms\n",
      "Speed: 2.0ms preprocess, 45.7ms inference, 4.0ms postprocess per image at shape (1, 3, 384, 640)\n",
      "\n",
      "0: 384x640 2 K-001901s, 1 K-004378, 1 K-006697, 5 K-031490s, 47.0ms\n",
      "Speed: 2.0ms preprocess, 47.0ms inference, 3.0ms postprocess per image at shape (1, 3, 384, 640)\n",
      "\n",
      "0: 384x640 2 K-001901s, 1 K-004378, 5 K-031490s, 45.0ms\n"
     ]
    },
    {
     "name": "stdout",
     "output_type": "stream",
     "text": [
      "Time to process 1 frame: 68 milliseconds\n",
      "Time to process 1 frame: 67 milliseconds\n",
      "Time to process 1 frame: 69 milliseconds\n"
     ]
    },
    {
     "name": "stderr",
     "output_type": "stream",
     "text": [
      "Speed: 2.4ms preprocess, 45.0ms inference, 4.0ms postprocess per image at shape (1, 3, 384, 640)\n",
      "\n",
      "0: 384x640 2 K-001901s, 1 K-004378, 5 K-031490s, 45.5ms\n",
      "Speed: 3.0ms preprocess, 45.5ms inference, 3.0ms postprocess per image at shape (1, 3, 384, 640)\n",
      "\n",
      "0: 384x640 2 K-001901s, 1 K-006697, 5 K-031490s, 47.0ms\n",
      "Speed: 2.0ms preprocess, 47.0ms inference, 3.0ms postprocess per image at shape (1, 3, 384, 640)\n",
      "\n"
     ]
    },
    {
     "name": "stdout",
     "output_type": "stream",
     "text": [
      "Time to process 1 frame: 68 milliseconds\n",
      "Time to process 1 frame: 70 milliseconds\n",
      "Time to process 1 frame: 68 milliseconds\n"
     ]
    },
    {
     "name": "stderr",
     "output_type": "stream",
     "text": [
      "0: 384x640 2 K-001901s, 1 K-006697, 5 K-031490s, 47.4ms\n",
      "Speed: 2.0ms preprocess, 47.4ms inference, 3.2ms postprocess per image at shape (1, 3, 384, 640)\n",
      "\n",
      "0: 384x640 2 K-001901s, 1 K-006697, 5 K-031490s, 46.0ms\n",
      "Speed: 2.0ms preprocess, 46.0ms inference, 3.0ms postprocess per image at shape (1, 3, 384, 640)\n",
      "\n",
      "0: 384x640 2 K-001901s, 1 K-006697, 5 K-031490s, 46.1ms\n",
      "Speed: 2.0ms preprocess, 46.1ms inference, 2.0ms postprocess per image at shape (1, 3, 384, 640)\n",
      "\n"
     ]
    },
    {
     "name": "stdout",
     "output_type": "stream",
     "text": [
      "Time to process 1 frame: 70 milliseconds\n",
      "Time to process 1 frame: 68 milliseconds\n",
      "Time to process 1 frame: 68 milliseconds\n"
     ]
    },
    {
     "name": "stderr",
     "output_type": "stream",
     "text": [
      "0: 384x640 2 K-001901s, 1 K-006697, 5 K-031490s, 46.0ms\n",
      "Speed: 2.0ms preprocess, 46.0ms inference, 3.0ms postprocess per image at shape (1, 3, 384, 640)\n",
      "\n",
      "0: 384x640 2 K-001901s, 1 K-006697, 5 K-031490s, 46.0ms\n",
      "Speed: 2.0ms preprocess, 46.0ms inference, 3.0ms postprocess per image at shape (1, 3, 384, 640)\n",
      "\n",
      "0: 384x640 2 K-001901s, 1 K-006697, 5 K-031490s, 47.1ms\n",
      "Speed: 3.0ms preprocess, 47.1ms inference, 3.0ms postprocess per image at shape (1, 3, 384, 640)\n",
      "\n"
     ]
    },
    {
     "name": "stdout",
     "output_type": "stream",
     "text": [
      "Time to process 1 frame: 68 milliseconds\n",
      "Time to process 1 frame: 68 milliseconds\n",
      "Time to process 1 frame: 68 milliseconds\n"
     ]
    },
    {
     "name": "stderr",
     "output_type": "stream",
     "text": [
      "0: 384x640 2 K-001901s, 1 K-004378, 4 K-031490s, 45.0ms\n",
      "Speed: 2.0ms preprocess, 45.0ms inference, 3.3ms postprocess per image at shape (1, 3, 384, 640)\n",
      "\n",
      "0: 384x640 2 K-001901s, 1 K-004378, 4 K-031490s, 46.0ms\n",
      "Speed: 2.0ms preprocess, 46.0ms inference, 3.4ms postprocess per image at shape (1, 3, 384, 640)\n",
      "\n",
      "0: 384x640 2 K-001901s, 1 K-004378, 1 K-006697, 5 K-031490s, 46.1ms\n",
      "Speed: 2.0ms preprocess, 46.1ms inference, 2.0ms postprocess per image at shape (1, 3, 384, 640)\n",
      "\n"
     ]
    },
    {
     "name": "stdout",
     "output_type": "stream",
     "text": [
      "Time to process 1 frame: 67 milliseconds\n",
      "Time to process 1 frame: 66 milliseconds\n",
      "Time to process 1 frame: 66 milliseconds\n"
     ]
    },
    {
     "name": "stderr",
     "output_type": "stream",
     "text": [
      "0: 384x640 2 K-001901s, 1 K-004378, 5 K-031490s, 47.5ms\n",
      "Speed: 2.0ms preprocess, 47.5ms inference, 3.0ms postprocess per image at shape (1, 3, 384, 640)\n",
      "\n",
      "0: 384x640 2 K-001901s, 1 K-004378, 1 K-006697, 5 K-031490s, 46.0ms\n",
      "Speed: 3.0ms preprocess, 46.0ms inference, 3.0ms postprocess per image at shape (1, 3, 384, 640)\n",
      "\n",
      "0: 384x640 2 K-001901s, 1 K-004378, 5 K-031490s, 46.0ms\n",
      "Speed: 2.0ms preprocess, 46.0ms inference, 3.0ms postprocess per image at shape (1, 3, 384, 640)\n",
      "\n"
     ]
    },
    {
     "name": "stdout",
     "output_type": "stream",
     "text": [
      "Time to process 1 frame: 68 milliseconds\n",
      "Time to process 1 frame: 68 milliseconds\n",
      "Time to process 1 frame: 66 milliseconds\n"
     ]
    },
    {
     "name": "stderr",
     "output_type": "stream",
     "text": [
      "0: 384x640 2 K-001901s, 1 K-004378, 1 K-006697, 5 K-031490s, 46.5ms\n",
      "Speed: 2.0ms preprocess, 46.5ms inference, 3.0ms postprocess per image at shape (1, 3, 384, 640)\n",
      "\n",
      "0: 384x640 2 K-001901s, 1 K-004378, 1 K-006697, 4 K-031490s, 47.0ms\n",
      "Speed: 2.0ms preprocess, 47.0ms inference, 3.0ms postprocess per image at shape (1, 3, 384, 640)\n",
      "\n",
      "0: 384x640 2 K-001901s, 1 K-004378, 1 K-006697, 5 K-031490s, 46.0ms\n",
      "Speed: 2.0ms preprocess, 46.0ms inference, 3.0ms postprocess per image at shape (1, 3, 384, 640)\n",
      "\n"
     ]
    },
    {
     "name": "stdout",
     "output_type": "stream",
     "text": [
      "Time to process 1 frame: 68 milliseconds\n",
      "Time to process 1 frame: 69 milliseconds\n",
      "Time to process 1 frame: 67 milliseconds\n"
     ]
    },
    {
     "name": "stderr",
     "output_type": "stream",
     "text": [
      "0: 384x640 2 K-001901s, 1 K-004378, 4 K-031490s, 46.5ms\n",
      "Speed: 1.5ms preprocess, 46.5ms inference, 3.0ms postprocess per image at shape (1, 3, 384, 640)\n",
      "\n",
      "0: 384x640 2 K-001901s, 1 K-004378, 5 K-031490s, 46.5ms\n",
      "Speed: 2.0ms preprocess, 46.5ms inference, 3.0ms postprocess per image at shape (1, 3, 384, 640)\n",
      "\n",
      "0: 384x640 2 K-001901s, 1 K-004378, 1 K-006697, 5 K-031490s, 47.0ms\n",
      "Speed: 2.0ms preprocess, 47.0ms inference, 2.0ms postprocess per image at shape (1, 3, 384, 640)\n",
      "\n"
     ]
    },
    {
     "name": "stdout",
     "output_type": "stream",
     "text": [
      "Time to process 1 frame: 64 milliseconds\n",
      "Time to process 1 frame: 67 milliseconds\n",
      "Time to process 1 frame: 66 milliseconds\n"
     ]
    },
    {
     "name": "stderr",
     "output_type": "stream",
     "text": [
      "0: 384x640 2 K-001901s, 1 K-006697, 5 K-031490s, 46.0ms\n",
      "Speed: 2.5ms preprocess, 46.0ms inference, 4.0ms postprocess per image at shape (1, 3, 384, 640)\n",
      "\n",
      "0: 384x640 2 K-001901s, 1 K-004378, 5 K-031490s, 47.4ms\n",
      "Speed: 2.0ms preprocess, 47.4ms inference, 2.0ms postprocess per image at shape (1, 3, 384, 640)\n",
      "\n",
      "0: 384x640 2 K-001901s, 1 K-004378, 5 K-031490s, 47.0ms\n",
      "Speed: 1.0ms preprocess, 47.0ms inference, 2.0ms postprocess per image at shape (1, 3, 384, 640)\n",
      "\n",
      "0: 384x640 2 K-001901s, 1 K-004378, 1 K-006697, 4 K-031490s, 47.0ms\n"
     ]
    },
    {
     "name": "stdout",
     "output_type": "stream",
     "text": [
      "Time to process 1 frame: 68 milliseconds\n",
      "Time to process 1 frame: 68 milliseconds\n",
      "Time to process 1 frame: 66 milliseconds\n"
     ]
    },
    {
     "name": "stderr",
     "output_type": "stream",
     "text": [
      "Speed: 2.0ms preprocess, 47.0ms inference, 2.0ms postprocess per image at shape (1, 3, 384, 640)\n",
      "\n",
      "0: 384x640 2 K-001901s, 1 K-004378, 4 K-031490s, 46.0ms\n",
      "Speed: 1.6ms preprocess, 46.0ms inference, 3.0ms postprocess per image at shape (1, 3, 384, 640)\n",
      "\n",
      "0: 384x640 2 K-001901s, 1 K-006697, 5 K-031490s, 46.5ms\n",
      "Speed: 2.0ms preprocess, 46.5ms inference, 2.0ms postprocess per image at shape (1, 3, 384, 640)\n",
      "\n"
     ]
    },
    {
     "name": "stdout",
     "output_type": "stream",
     "text": [
      "Time to process 1 frame: 67 milliseconds\n",
      "Time to process 1 frame: 69 milliseconds\n",
      "Time to process 1 frame: 66 milliseconds\n"
     ]
    },
    {
     "name": "stderr",
     "output_type": "stream",
     "text": [
      "0: 384x640 2 K-001901s, 1 K-004378, 1 K-006697, 5 K-031490s, 46.0ms\n",
      "Speed: 2.0ms preprocess, 46.0ms inference, 3.0ms postprocess per image at shape (1, 3, 384, 640)\n",
      "\n",
      "0: 384x640 2 K-001901s, 1 K-006697, 5 K-031490s, 47.1ms\n",
      "Speed: 2.0ms preprocess, 47.1ms inference, 3.0ms postprocess per image at shape (1, 3, 384, 640)\n",
      "\n",
      "0: 384x640 2 K-001901s, 1 K-004378, 1 K-006697, 5 K-031490s, 45.5ms\n",
      "Speed: 2.0ms preprocess, 45.5ms inference, 3.0ms postprocess per image at shape (1, 3, 384, 640)\n",
      "\n",
      "0: 384x640 2 K-001901s, 1 K-004378, 1 K-006697, 5 K-031490s, 46.0ms\n"
     ]
    },
    {
     "name": "stdout",
     "output_type": "stream",
     "text": [
      "Time to process 1 frame: 66 milliseconds\n",
      "Time to process 1 frame: 68 milliseconds\n",
      "Time to process 1 frame: 67 milliseconds\n"
     ]
    },
    {
     "name": "stderr",
     "output_type": "stream",
     "text": [
      "Speed: 2.0ms preprocess, 46.0ms inference, 3.0ms postprocess per image at shape (1, 3, 384, 640)\n",
      "\n",
      "0: 384x640 2 K-001901s, 1 K-004378, 1 K-006697, 5 K-031490s, 46.0ms\n",
      "Speed: 2.0ms preprocess, 46.0ms inference, 3.0ms postprocess per image at shape (1, 3, 384, 640)\n",
      "\n",
      "0: 384x640 2 K-001901s, 1 K-004378, 1 K-006697, 5 K-031490s, 47.1ms\n",
      "Speed: 2.0ms preprocess, 47.1ms inference, 2.0ms postprocess per image at shape (1, 3, 384, 640)\n",
      "\n"
     ]
    },
    {
     "name": "stdout",
     "output_type": "stream",
     "text": [
      "Time to process 1 frame: 67 milliseconds\n",
      "Time to process 1 frame: 67 milliseconds\n",
      "Time to process 1 frame: 67 milliseconds\n"
     ]
    },
    {
     "name": "stderr",
     "output_type": "stream",
     "text": [
      "0: 384x640 2 K-001901s, 1 K-004378, 5 K-031490s, 47.0ms\n",
      "Speed: 2.0ms preprocess, 47.0ms inference, 3.5ms postprocess per image at shape (1, 3, 384, 640)\n",
      "\n",
      "0: 384x640 2 K-001901s, 1 K-006697, 5 K-031490s, 47.0ms\n",
      "Speed: 2.0ms preprocess, 47.0ms inference, 2.0ms postprocess per image at shape (1, 3, 384, 640)\n",
      "\n",
      "0: 384x640 2 K-001901s, 1 K-006697, 5 K-031490s, 46.5ms\n",
      "Speed: 2.0ms preprocess, 46.5ms inference, 3.0ms postprocess per image at shape (1, 3, 384, 640)\n",
      "\n",
      "0: 384x640 2 K-001901s, 1 K-004378, 4 K-031490s, 46.5ms\n"
     ]
    },
    {
     "name": "stdout",
     "output_type": "stream",
     "text": [
      "Time to process 1 frame: 69 milliseconds\n",
      "Time to process 1 frame: 66 milliseconds\n",
      "Time to process 1 frame: 67 milliseconds\n"
     ]
    },
    {
     "name": "stderr",
     "output_type": "stream",
     "text": [
      "Speed: 2.0ms preprocess, 46.5ms inference, 3.0ms postprocess per image at shape (1, 3, 384, 640)\n",
      "\n",
      "0: 384x640 2 K-001901s, 1 K-004378, 4 K-031490s, 46.0ms\n",
      "Speed: 2.0ms preprocess, 46.0ms inference, 3.0ms postprocess per image at shape (1, 3, 384, 640)\n",
      "\n",
      "0: 384x640 2 K-001901s, 1 K-006697, 4 K-031490s, 45.0ms\n",
      "Speed: 2.3ms preprocess, 45.0ms inference, 2.0ms postprocess per image at shape (1, 3, 384, 640)\n",
      "\n",
      "0: 384x640 2 K-001901s, 1 K-006697, 5 K-031490s, 45.9ms\n"
     ]
    },
    {
     "name": "stdout",
     "output_type": "stream",
     "text": [
      "Time to process 1 frame: 67 milliseconds\n",
      "Time to process 1 frame: 66 milliseconds\n",
      "Time to process 1 frame: 66 milliseconds\n"
     ]
    },
    {
     "name": "stderr",
     "output_type": "stream",
     "text": [
      "Speed: 2.0ms preprocess, 45.9ms inference, 3.0ms postprocess per image at shape (1, 3, 384, 640)\n",
      "\n",
      "0: 384x640 2 K-001901s, 1 K-006697, 5 K-031490s, 46.0ms\n",
      "Speed: 2.0ms preprocess, 46.0ms inference, 3.0ms postprocess per image at shape (1, 3, 384, 640)\n",
      "\n",
      "0: 384x640 2 K-001901s, 1 K-004378, 4 K-031490s, 47.0ms\n",
      "Speed: 2.0ms preprocess, 47.0ms inference, 2.0ms postprocess per image at shape (1, 3, 384, 640)\n",
      "\n"
     ]
    },
    {
     "name": "stdout",
     "output_type": "stream",
     "text": [
      "Time to process 1 frame: 66 milliseconds\n",
      "Time to process 1 frame: 66 milliseconds\n",
      "Time to process 1 frame: 66 milliseconds\n"
     ]
    },
    {
     "name": "stderr",
     "output_type": "stream",
     "text": [
      "0: 384x640 2 K-001901s, 1 K-006697, 4 K-031490s, 46.5ms\n",
      "Speed: 2.0ms preprocess, 46.5ms inference, 3.0ms postprocess per image at shape (1, 3, 384, 640)\n",
      "\n",
      "0: 384x640 2 K-001901s, 1 K-006697, 4 K-031490s, 46.0ms\n",
      "Speed: 2.0ms preprocess, 46.0ms inference, 3.1ms postprocess per image at shape (1, 3, 384, 640)\n",
      "\n",
      "0: 384x640 2 K-001901s, 1 K-004378, 1 K-006697, 4 K-031490s, 46.0ms\n",
      "Speed: 2.0ms preprocess, 46.0ms inference, 3.0ms postprocess per image at shape (1, 3, 384, 640)\n",
      "\n"
     ]
    },
    {
     "name": "stdout",
     "output_type": "stream",
     "text": [
      "Time to process 1 frame: 68 milliseconds\n",
      "Time to process 1 frame: 66 milliseconds\n",
      "Time to process 1 frame: 66 milliseconds\n"
     ]
    },
    {
     "name": "stderr",
     "output_type": "stream",
     "text": [
      "0: 384x640 2 K-001901s, 1 K-004378, 1 K-006697, 1 K-016548, 4 K-031490s, 1 K-044834, 47.5ms\n",
      "Speed: 2.0ms preprocess, 47.5ms inference, 2.0ms postprocess per image at shape (1, 3, 384, 640)\n",
      "\n",
      "0: 384x640 2 K-001901s, 1 K-004378, 4 K-031490s, 46.3ms\n",
      "Speed: 2.0ms preprocess, 46.3ms inference, 3.0ms postprocess per image at shape (1, 3, 384, 640)\n",
      "\n",
      "0: 384x640 2 K-001901s, 1 K-004378, 4 K-031490s, 47.0ms\n",
      "Speed: 2.0ms preprocess, 47.0ms inference, 2.0ms postprocess per image at shape (1, 3, 384, 640)\n",
      "\n",
      "0: 384x640 2 K-001901s, 1 K-004378, 1 K-006697, 4 K-031490s, 46.0ms\n"
     ]
    },
    {
     "name": "stdout",
     "output_type": "stream",
     "text": [
      "Time to process 1 frame: 68 milliseconds\n",
      "Time to process 1 frame: 67 milliseconds\n",
      "Time to process 1 frame: 67 milliseconds\n"
     ]
    },
    {
     "name": "stderr",
     "output_type": "stream",
     "text": [
      "Speed: 2.0ms preprocess, 46.0ms inference, 3.0ms postprocess per image at shape (1, 3, 384, 640)\n",
      "\n",
      "0: 384x640 2 K-001901s, 1 K-004378, 1 K-006697, 5 K-031490s, 47.5ms\n",
      "Speed: 2.0ms preprocess, 47.5ms inference, 3.0ms postprocess per image at shape (1, 3, 384, 640)\n",
      "\n",
      "0: 384x640 2 K-001901s, 1 K-004378, 5 K-031490s, 46.5ms\n",
      "Speed: 2.0ms preprocess, 46.5ms inference, 3.0ms postprocess per image at shape (1, 3, 384, 640)\n",
      "\n",
      "0: 384x640 2 K-001901s, 1 K-004378, 1 K-006697, 5 K-031490s, 46.0ms\n"
     ]
    },
    {
     "name": "stdout",
     "output_type": "stream",
     "text": [
      "Time to process 1 frame: 68 milliseconds\n",
      "Time to process 1 frame: 73 milliseconds\n",
      "Time to process 1 frame: 68 milliseconds\n"
     ]
    },
    {
     "name": "stderr",
     "output_type": "stream",
     "text": [
      "Speed: 2.0ms preprocess, 46.0ms inference, 3.0ms postprocess per image at shape (1, 3, 384, 640)\n",
      "\n",
      "0: 384x640 2 K-001901s, 1 K-004378, 1 K-006697, 4 K-031490s, 46.5ms\n",
      "Speed: 2.0ms preprocess, 46.5ms inference, 2.0ms postprocess per image at shape (1, 3, 384, 640)\n",
      "\n",
      "0: 384x640 2 K-001901s, 1 K-004378, 5 K-031490s, 46.8ms\n",
      "Speed: 2.0ms preprocess, 46.8ms inference, 2.6ms postprocess per image at shape (1, 3, 384, 640)\n",
      "\n"
     ]
    },
    {
     "name": "stdout",
     "output_type": "stream",
     "text": [
      "Time to process 1 frame: 68 milliseconds\n",
      "Time to process 1 frame: 67 milliseconds\n",
      "Time to process 1 frame: 67 milliseconds\n"
     ]
    },
    {
     "name": "stderr",
     "output_type": "stream",
     "text": [
      "0: 384x640 2 K-001901s, 1 K-004378, 1 K-006697, 4 K-031490s, 46.0ms\n",
      "Speed: 3.0ms preprocess, 46.0ms inference, 3.0ms postprocess per image at shape (1, 3, 384, 640)\n",
      "\n",
      "0: 384x640 2 K-001901s, 1 K-004378, 4 K-031490s, 46.0ms\n",
      "Speed: 2.0ms preprocess, 46.0ms inference, 2.0ms postprocess per image at shape (1, 3, 384, 640)\n",
      "\n",
      "0: 384x640 2 K-001901s, 1 K-004378, 1 K-006697, 4 K-031490s, 1 K-044834, 46.5ms\n",
      "Speed: 2.0ms preprocess, 46.5ms inference, 3.0ms postprocess per image at shape (1, 3, 384, 640)\n",
      "\n",
      "0: 384x640 2 K-001901s, 1 K-004378, 1 K-006697, 4 K-031490s, 46.0ms\n"
     ]
    },
    {
     "name": "stdout",
     "output_type": "stream",
     "text": [
      "Time to process 1 frame: 68 milliseconds\n",
      "Time to process 1 frame: 67 milliseconds\n",
      "Time to process 1 frame: 68 milliseconds\n"
     ]
    },
    {
     "name": "stderr",
     "output_type": "stream",
     "text": [
      "Speed: 2.0ms preprocess, 46.0ms inference, 2.0ms postprocess per image at shape (1, 3, 384, 640)\n",
      "\n",
      "0: 384x640 2 K-001901s, 1 K-004378, 1 K-006697, 4 K-031490s, 48.0ms\n",
      "Speed: 2.0ms preprocess, 48.0ms inference, 3.0ms postprocess per image at shape (1, 3, 384, 640)\n",
      "\n",
      "0: 384x640 2 K-001901s, 1 K-004378, 4 K-031490s, 45.5ms\n",
      "Speed: 2.0ms preprocess, 45.5ms inference, 3.0ms postprocess per image at shape (1, 3, 384, 640)\n",
      "\n"
     ]
    },
    {
     "name": "stdout",
     "output_type": "stream",
     "text": [
      "Time to process 1 frame: 66 milliseconds\n",
      "Time to process 1 frame: 68 milliseconds\n",
      "Time to process 1 frame: 66 milliseconds\n"
     ]
    },
    {
     "name": "stderr",
     "output_type": "stream",
     "text": [
      "0: 384x640 2 K-001901s, 1 K-004378, 4 K-031490s, 46.5ms\n",
      "Speed: 2.0ms preprocess, 46.5ms inference, 3.3ms postprocess per image at shape (1, 3, 384, 640)\n",
      "\n",
      "0: 384x640 2 K-001901s, 1 K-004378, 1 K-016548, 4 K-031490s, 45.0ms\n",
      "Speed: 3.0ms preprocess, 45.0ms inference, 3.0ms postprocess per image at shape (1, 3, 384, 640)\n",
      "\n",
      "0: 384x640 2 K-001901s, 1 K-004378, 1 K-006697, 4 K-031490s, 46.0ms\n",
      "Speed: 2.0ms preprocess, 46.0ms inference, 3.0ms postprocess per image at shape (1, 3, 384, 640)\n",
      "\n"
     ]
    },
    {
     "name": "stdout",
     "output_type": "stream",
     "text": [
      "Time to process 1 frame: 67 milliseconds\n",
      "Time to process 1 frame: 67 milliseconds\n",
      "Time to process 1 frame: 68 milliseconds\n"
     ]
    },
    {
     "name": "stderr",
     "output_type": "stream",
     "text": [
      "0: 384x640 2 K-001901s, 1 K-004378, 1 K-006697, 4 K-031490s, 46.2ms\n",
      "Speed: 1.0ms preprocess, 46.2ms inference, 2.0ms postprocess per image at shape (1, 3, 384, 640)\n",
      "\n",
      "0: 384x640 2 K-001901s, 1 K-006697, 5 K-031490s, 46.0ms\n",
      "Speed: 2.0ms preprocess, 46.0ms inference, 3.0ms postprocess per image at shape (1, 3, 384, 640)\n",
      "\n",
      "0: 384x640 2 K-001901s, 1 K-004378, 1 K-016548, 4 K-031490s, 47.0ms\n",
      "Speed: 2.0ms preprocess, 47.0ms inference, 2.0ms postprocess per image at shape (1, 3, 384, 640)\n",
      "\n"
     ]
    },
    {
     "name": "stdout",
     "output_type": "stream",
     "text": [
      "Time to process 1 frame: 66 milliseconds\n",
      "Time to process 1 frame: 66 milliseconds\n",
      "Time to process 1 frame: 67 milliseconds\n"
     ]
    },
    {
     "name": "stderr",
     "output_type": "stream",
     "text": [
      "0: 384x640 2 K-001901s, 1 K-004378, 1 K-016548, 4 K-031490s, 46.5ms\n",
      "Speed: 2.0ms preprocess, 46.5ms inference, 2.0ms postprocess per image at shape (1, 3, 384, 640)\n",
      "\n",
      "0: 384x640 2 K-001901s, 1 K-004378, 1 K-016548, 4 K-031490s, 46.1ms\n",
      "Speed: 2.0ms preprocess, 46.1ms inference, 2.0ms postprocess per image at shape (1, 3, 384, 640)\n",
      "\n",
      "0: 384x640 2 K-001901s, 1 K-004378, 4 K-031490s, 46.0ms\n",
      "Speed: 2.2ms preprocess, 46.0ms inference, 2.0ms postprocess per image at shape (1, 3, 384, 640)\n",
      "\n"
     ]
    },
    {
     "name": "stdout",
     "output_type": "stream",
     "text": [
      "Time to process 1 frame: 69 milliseconds\n",
      "Time to process 1 frame: 66 milliseconds\n",
      "Time to process 1 frame: 64 milliseconds\n"
     ]
    },
    {
     "name": "stderr",
     "output_type": "stream",
     "text": [
      "0: 384x640 2 K-001901s, 1 K-004378, 4 K-031490s, 46.5ms\n",
      "Speed: 2.0ms preprocess, 46.5ms inference, 4.0ms postprocess per image at shape (1, 3, 384, 640)\n",
      "\n",
      "0: 384x640 2 K-001901s, 1 K-006697, 4 K-031490s, 45.2ms\n",
      "Speed: 3.0ms preprocess, 45.2ms inference, 3.0ms postprocess per image at shape (1, 3, 384, 640)\n",
      "\n",
      "0: 384x640 2 K-001901s, 1 K-006697, 4 K-031490s, 46.0ms\n",
      "Speed: 3.0ms preprocess, 46.0ms inference, 3.0ms postprocess per image at shape (1, 3, 384, 640)\n",
      "\n"
     ]
    },
    {
     "name": "stdout",
     "output_type": "stream",
     "text": [
      "Time to process 1 frame: 69 milliseconds\n",
      "Time to process 1 frame: 67 milliseconds\n",
      "Time to process 1 frame: 67 milliseconds\n"
     ]
    },
    {
     "name": "stderr",
     "output_type": "stream",
     "text": [
      "0: 384x640 2 K-001901s, 1 K-006697, 5 K-031490s, 46.0ms\n",
      "Speed: 2.0ms preprocess, 46.0ms inference, 4.0ms postprocess per image at shape (1, 3, 384, 640)\n",
      "\n",
      "0: 384x640 2 K-001901s, 1 K-004378, 1 K-006697, 4 K-031490s, 46.5ms\n",
      "Speed: 2.0ms preprocess, 46.5ms inference, 3.0ms postprocess per image at shape (1, 3, 384, 640)\n",
      "\n",
      "0: 384x640 2 K-001901s, 1 K-004378, 5 K-031490s, 46.0ms\n",
      "Speed: 2.0ms preprocess, 46.0ms inference, 3.0ms postprocess per image at shape (1, 3, 384, 640)\n",
      "\n"
     ]
    },
    {
     "name": "stdout",
     "output_type": "stream",
     "text": [
      "Time to process 1 frame: 67 milliseconds\n",
      "Time to process 1 frame: 69 milliseconds\n",
      "Time to process 1 frame: 67 milliseconds\n"
     ]
    },
    {
     "name": "stderr",
     "output_type": "stream",
     "text": [
      "0: 384x640 2 K-001901s, 1 K-004378, 5 K-031490s, 46.5ms\n",
      "Speed: 2.0ms preprocess, 46.5ms inference, 3.0ms postprocess per image at shape (1, 3, 384, 640)\n",
      "\n",
      "0: 384x640 2 K-001901s, 1 K-006697, 5 K-031490s, 46.1ms\n",
      "Speed: 2.0ms preprocess, 46.1ms inference, 3.0ms postprocess per image at shape (1, 3, 384, 640)\n",
      "\n",
      "0: 384x640 2 K-001901s, 1 K-006697, 5 K-031490s, 47.5ms\n",
      "Speed: 2.0ms preprocess, 47.5ms inference, 3.0ms postprocess per image at shape (1, 3, 384, 640)\n",
      "\n"
     ]
    },
    {
     "name": "stdout",
     "output_type": "stream",
     "text": [
      "Time to process 1 frame: 66 milliseconds\n",
      "Time to process 1 frame: 67 milliseconds\n",
      "Time to process 1 frame: 71 milliseconds\n"
     ]
    },
    {
     "name": "stderr",
     "output_type": "stream",
     "text": [
      "0: 384x640 2 K-001901s, 1 K-006697, 5 K-031490s, 46.0ms\n",
      "Speed: 2.0ms preprocess, 46.0ms inference, 3.0ms postprocess per image at shape (1, 3, 384, 640)\n",
      "\n",
      "0: 384x640 2 K-001901s, 1 K-004378, 1 K-006697, 5 K-031490s, 46.0ms\n",
      "Speed: 2.0ms preprocess, 46.0ms inference, 2.0ms postprocess per image at shape (1, 3, 384, 640)\n",
      "\n",
      "0: 384x640 2 K-001901s, 1 K-006697, 5 K-031490s, 47.5ms\n",
      "Speed: 2.0ms preprocess, 47.5ms inference, 3.0ms postprocess per image at shape (1, 3, 384, 640)\n",
      "\n"
     ]
    },
    {
     "name": "stdout",
     "output_type": "stream",
     "text": [
      "Time to process 1 frame: 68 milliseconds\n",
      "Time to process 1 frame: 67 milliseconds\n",
      "Time to process 1 frame: 71 milliseconds\n"
     ]
    },
    {
     "name": "stderr",
     "output_type": "stream",
     "text": [
      "0: 384x640 2 K-001901s, 1 K-004378, 4 K-031490s, 46.0ms\n",
      "Speed: 2.0ms preprocess, 46.0ms inference, 2.5ms postprocess per image at shape (1, 3, 384, 640)\n",
      "\n",
      "0: 384x640 2 K-001901s, 1 K-004378, 1 K-006697, 4 K-031490s, 46.8ms\n",
      "Speed: 2.0ms preprocess, 46.8ms inference, 2.0ms postprocess per image at shape (1, 3, 384, 640)\n",
      "\n",
      "0: 384x640 2 K-001901s, 1 K-004378, 1 K-006697, 4 K-031490s, 47.5ms\n",
      "Speed: 2.0ms preprocess, 47.5ms inference, 2.0ms postprocess per image at shape (1, 3, 384, 640)\n",
      "\n"
     ]
    },
    {
     "name": "stdout",
     "output_type": "stream",
     "text": [
      "Time to process 1 frame: 68 milliseconds\n",
      "Time to process 1 frame: 68 milliseconds\n",
      "Time to process 1 frame: 68 milliseconds\n"
     ]
    },
    {
     "name": "stderr",
     "output_type": "stream",
     "text": [
      "0: 384x640 2 K-001901s, 1 K-006697, 5 K-031490s, 46.5ms\n",
      "Speed: 2.0ms preprocess, 46.5ms inference, 3.0ms postprocess per image at shape (1, 3, 384, 640)\n",
      "\n",
      "0: 384x640 2 K-001901s, 1 K-004378, 4 K-031490s, 46.0ms\n",
      "Speed: 2.0ms preprocess, 46.0ms inference, 3.0ms postprocess per image at shape (1, 3, 384, 640)\n",
      "\n",
      "0: 384x640 2 K-001901s, 1 K-004378, 1 K-006697, 5 K-031490s, 46.0ms\n",
      "Speed: 2.0ms preprocess, 46.0ms inference, 3.0ms postprocess per image at shape (1, 3, 384, 640)\n",
      "\n"
     ]
    },
    {
     "name": "stdout",
     "output_type": "stream",
     "text": [
      "Time to process 1 frame: 69 milliseconds\n",
      "Time to process 1 frame: 66 milliseconds\n",
      "Time to process 1 frame: 66 milliseconds\n"
     ]
    },
    {
     "name": "stderr",
     "output_type": "stream",
     "text": [
      "0: 384x640 2 K-001901s, 1 K-004378, 1 K-006697, 5 K-031490s, 46.5ms\n",
      "Speed: 2.0ms preprocess, 46.5ms inference, 3.0ms postprocess per image at shape (1, 3, 384, 640)\n",
      "\n",
      "0: 384x640 2 K-001901s, 1 K-006697, 5 K-031490s, 45.6ms\n",
      "Speed: 3.0ms preprocess, 45.6ms inference, 3.0ms postprocess per image at shape (1, 3, 384, 640)\n",
      "\n",
      "0: 384x640 2 K-001901s, 1 K-004378, 1 K-006697, 4 K-031490s, 47.0ms\n",
      "Speed: 2.0ms preprocess, 47.0ms inference, 2.0ms postprocess per image at shape (1, 3, 384, 640)\n",
      "\n",
      "0: 384x640 2 K-001901s, 1 K-006697, 5 K-031490s, 46.5ms\n"
     ]
    },
    {
     "name": "stdout",
     "output_type": "stream",
     "text": [
      "Time to process 1 frame: 67 milliseconds\n",
      "Time to process 1 frame: 67 milliseconds\n",
      "Time to process 1 frame: 66 milliseconds\n"
     ]
    },
    {
     "name": "stderr",
     "output_type": "stream",
     "text": [
      "Speed: 2.0ms preprocess, 46.5ms inference, 2.0ms postprocess per image at shape (1, 3, 384, 640)\n",
      "\n",
      "0: 384x640 2 K-001901s, 1 K-004378, 4 K-031490s, 46.5ms\n",
      "Speed: 2.0ms preprocess, 46.5ms inference, 3.0ms postprocess per image at shape (1, 3, 384, 640)\n",
      "\n",
      "0: 384x640 2 K-001901s, 1 K-004378, 4 K-031490s, 47.0ms\n",
      "Speed: 2.0ms preprocess, 47.0ms inference, 2.0ms postprocess per image at shape (1, 3, 384, 640)\n",
      "\n"
     ]
    },
    {
     "name": "stdout",
     "output_type": "stream",
     "text": [
      "Time to process 1 frame: 67 milliseconds\n",
      "Time to process 1 frame: 67 milliseconds\n",
      "Time to process 1 frame: 67 milliseconds\n"
     ]
    },
    {
     "name": "stderr",
     "output_type": "stream",
     "text": [
      "0: 384x640 2 K-001901s, 1 K-004378, 1 K-006697, 4 K-031490s, 48.0ms\n",
      "Speed: 2.5ms preprocess, 48.0ms inference, 3.0ms postprocess per image at shape (1, 3, 384, 640)\n",
      "\n",
      "0: 384x640 2 K-001901s, 1 K-004378, 1 K-006697, 5 K-031490s, 46.5ms\n",
      "Speed: 2.0ms preprocess, 46.5ms inference, 3.0ms postprocess per image at shape (1, 3, 384, 640)\n",
      "\n",
      "0: 384x640 2 K-001901s, 1 K-004378, 1 K-006697, 5 K-031490s, 46.5ms\n",
      "Speed: 2.0ms preprocess, 46.5ms inference, 3.0ms postprocess per image at shape (1, 3, 384, 640)\n",
      "\n",
      "0: 384x640 2 K-001901s, 1 K-004378, 1 K-006697, 4 K-031490s, 46.2ms\n"
     ]
    },
    {
     "name": "stdout",
     "output_type": "stream",
     "text": [
      "Time to process 1 frame: 69 milliseconds\n",
      "Time to process 1 frame: 67 milliseconds\n",
      "Time to process 1 frame: 67 milliseconds\n"
     ]
    },
    {
     "name": "stderr",
     "output_type": "stream",
     "text": [
      "Speed: 2.0ms preprocess, 46.2ms inference, 3.0ms postprocess per image at shape (1, 3, 384, 640)\n",
      "\n",
      "0: 384x640 2 K-001901s, 1 K-004378, 1 K-006697, 4 K-031490s, 46.2ms\n",
      "Speed: 2.0ms preprocess, 46.2ms inference, 3.0ms postprocess per image at shape (1, 3, 384, 640)\n",
      "\n",
      "0: 384x640 2 K-001901s, 1 K-004378, 1 K-006697, 4 K-031490s, 46.0ms\n",
      "Speed: 2.0ms preprocess, 46.0ms inference, 3.5ms postprocess per image at shape (1, 3, 384, 640)\n",
      "\n"
     ]
    },
    {
     "name": "stdout",
     "output_type": "stream",
     "text": [
      "Time to process 1 frame: 67 milliseconds\n",
      "Time to process 1 frame: 66 milliseconds\n",
      "Time to process 1 frame: 68 milliseconds\n"
     ]
    },
    {
     "name": "stderr",
     "output_type": "stream",
     "text": [
      "0: 384x640 2 K-001901s, 1 K-004378, 4 K-031490s, 46.0ms\n",
      "Speed: 2.0ms preprocess, 46.0ms inference, 3.0ms postprocess per image at shape (1, 3, 384, 640)\n",
      "\n",
      "0: 384x640 2 K-001901s, 1 K-004378, 4 K-031490s, 46.5ms\n",
      "Speed: 2.0ms preprocess, 46.5ms inference, 3.0ms postprocess per image at shape (1, 3, 384, 640)\n",
      "\n",
      "0: 384x640 2 K-001901s, 1 K-006697, 5 K-031490s, 46.5ms\n",
      "Speed: 2.0ms preprocess, 46.5ms inference, 2.0ms postprocess per image at shape (1, 3, 384, 640)\n",
      "\n"
     ]
    },
    {
     "name": "stdout",
     "output_type": "stream",
     "text": [
      "Time to process 1 frame: 67 milliseconds\n",
      "Time to process 1 frame: 69 milliseconds\n",
      "Time to process 1 frame: 68 milliseconds\n"
     ]
    },
    {
     "name": "stderr",
     "output_type": "stream",
     "text": [
      "0: 384x640 2 K-001901s, 1 K-004378, 1 K-006697, 4 K-031490s, 46.0ms\n",
      "Speed: 2.0ms preprocess, 46.0ms inference, 3.0ms postprocess per image at shape (1, 3, 384, 640)\n",
      "\n",
      "0: 384x640 2 K-001901s, 1 K-004378, 1 K-006697, 4 K-031490s, 47.5ms\n",
      "Speed: 2.0ms preprocess, 47.5ms inference, 3.0ms postprocess per image at shape (1, 3, 384, 640)\n",
      "\n",
      "0: 384x640 2 K-001901s, 1 K-006697, 4 K-031490s, 46.5ms\n",
      "Speed: 2.0ms preprocess, 46.5ms inference, 3.0ms postprocess per image at shape (1, 3, 384, 640)\n",
      "\n",
      "0: 384x640 2 K-001901s, 1 K-006697, 5 K-031490s, 46.5ms\n"
     ]
    },
    {
     "name": "stdout",
     "output_type": "stream",
     "text": [
      "Time to process 1 frame: 67 milliseconds\n",
      "Time to process 1 frame: 69 milliseconds\n",
      "Time to process 1 frame: 68 milliseconds\n"
     ]
    },
    {
     "name": "stderr",
     "output_type": "stream",
     "text": [
      "Speed: 2.0ms preprocess, 46.5ms inference, 3.0ms postprocess per image at shape (1, 3, 384, 640)\n",
      "\n",
      "0: 384x640 2 K-001901s, 1 K-006697, 5 K-031490s, 47.0ms\n",
      "Speed: 2.0ms preprocess, 47.0ms inference, 2.0ms postprocess per image at shape (1, 3, 384, 640)\n",
      "\n",
      "0: 384x640 2 K-001901s, 1 K-004378, 1 K-006697, 1 K-016548, 4 K-031490s, 46.5ms\n",
      "Speed: 2.0ms preprocess, 46.5ms inference, 2.0ms postprocess per image at shape (1, 3, 384, 640)\n",
      "\n"
     ]
    },
    {
     "name": "stdout",
     "output_type": "stream",
     "text": [
      "Time to process 1 frame: 68 milliseconds\n",
      "Time to process 1 frame: 67 milliseconds\n",
      "Time to process 1 frame: 68 milliseconds\n"
     ]
    },
    {
     "name": "stderr",
     "output_type": "stream",
     "text": [
      "0: 384x640 2 K-001901s, 1 K-006697, 5 K-031490s, 45.5ms\n",
      "Speed: 2.0ms preprocess, 45.5ms inference, 3.0ms postprocess per image at shape (1, 3, 384, 640)\n",
      "\n",
      "0: 384x640 2 K-001901s, 1 K-006697, 5 K-031490s, 47.0ms\n",
      "Speed: 2.0ms preprocess, 47.0ms inference, 3.0ms postprocess per image at shape (1, 3, 384, 640)\n",
      "\n",
      "0: 384x640 2 K-001901s, 1 K-006697, 5 K-031490s, 46.8ms\n",
      "Speed: 2.0ms preprocess, 46.8ms inference, 3.0ms postprocess per image at shape (1, 3, 384, 640)\n",
      "\n"
     ]
    },
    {
     "name": "stdout",
     "output_type": "stream",
     "text": [
      "Time to process 1 frame: 67 milliseconds\n",
      "Time to process 1 frame: 69 milliseconds\n",
      "Time to process 1 frame: 67 milliseconds\n"
     ]
    },
    {
     "name": "stderr",
     "output_type": "stream",
     "text": [
      "0: 384x640 2 K-001901s, 1 K-006697, 5 K-031490s, 46.4ms\n",
      "Speed: 2.0ms preprocess, 46.4ms inference, 3.0ms postprocess per image at shape (1, 3, 384, 640)\n",
      "\n",
      "0: 384x640 2 K-001901s, 1 K-006697, 5 K-031490s, 46.5ms\n",
      "Speed: 2.0ms preprocess, 46.5ms inference, 2.0ms postprocess per image at shape (1, 3, 384, 640)\n",
      "\n",
      "0: 384x640 2 K-001901s, 1 K-006697, 4 K-031490s, 46.0ms\n",
      "Speed: 2.0ms preprocess, 46.0ms inference, 3.0ms postprocess per image at shape (1, 3, 384, 640)\n",
      "\n"
     ]
    },
    {
     "name": "stdout",
     "output_type": "stream",
     "text": [
      "Time to process 1 frame: 65 milliseconds\n",
      "Time to process 1 frame: 68 milliseconds\n",
      "Time to process 1 frame: 68 milliseconds\n"
     ]
    },
    {
     "name": "stderr",
     "output_type": "stream",
     "text": [
      "0: 384x640 2 K-001901s, 1 K-006697, 5 K-031490s, 47.5ms\n",
      "Speed: 2.0ms preprocess, 47.5ms inference, 2.0ms postprocess per image at shape (1, 3, 384, 640)\n",
      "\n",
      "0: 384x640 2 K-001901s, 1 K-004378, 1 K-006697, 5 K-031490s, 46.5ms\n",
      "Speed: 2.0ms preprocess, 46.5ms inference, 3.0ms postprocess per image at shape (1, 3, 384, 640)\n",
      "\n",
      "0: 384x640 2 K-001901s, 1 K-006697, 5 K-031490s, 46.0ms\n",
      "Speed: 2.0ms preprocess, 46.0ms inference, 3.0ms postprocess per image at shape (1, 3, 384, 640)\n",
      "\n",
      "0: 384x640 2 K-001901s, 1 K-006697, 5 K-031490s, 46.9ms\n"
     ]
    },
    {
     "name": "stdout",
     "output_type": "stream",
     "text": [
      "Time to process 1 frame: 68 milliseconds\n",
      "Time to process 1 frame: 69 milliseconds\n",
      "Time to process 1 frame: 67 milliseconds\n"
     ]
    },
    {
     "name": "stderr",
     "output_type": "stream",
     "text": [
      "Speed: 2.0ms preprocess, 46.9ms inference, 2.6ms postprocess per image at shape (1, 3, 384, 640)\n",
      "\n",
      "0: 384x640 2 K-001901s, 1 K-006697, 5 K-031490s, 46.5ms\n",
      "Speed: 2.0ms preprocess, 46.5ms inference, 2.0ms postprocess per image at shape (1, 3, 384, 640)\n",
      "\n",
      "0: 384x640 2 K-001901s, 1 K-006697, 5 K-031490s, 46.0ms\n",
      "Speed: 2.0ms preprocess, 46.0ms inference, 2.5ms postprocess per image at shape (1, 3, 384, 640)\n",
      "\n"
     ]
    },
    {
     "name": "stdout",
     "output_type": "stream",
     "text": [
      "Time to process 1 frame: 69 milliseconds\n",
      "Time to process 1 frame: 66 milliseconds\n",
      "Time to process 1 frame: 68 milliseconds\n"
     ]
    },
    {
     "name": "stderr",
     "output_type": "stream",
     "text": [
      "0: 384x640 1 K-006697, 3 K-031490s, 46.0ms\n",
      "Speed: 2.0ms preprocess, 46.0ms inference, 3.0ms postprocess per image at shape (1, 3, 384, 640)\n",
      "\n",
      "0: 384x640 3 K-006697s, 46.5ms\n",
      "Speed: 2.0ms preprocess, 46.5ms inference, 3.0ms postprocess per image at shape (1, 3, 384, 640)\n",
      "\n",
      "0: 384x640 2 K-006697s, 47.5ms\n",
      "Speed: 2.0ms preprocess, 47.5ms inference, 2.0ms postprocess per image at shape (1, 3, 384, 640)\n",
      "\n"
     ]
    },
    {
     "name": "stdout",
     "output_type": "stream",
     "text": [
      "Time to process 1 frame: 67 milliseconds\n",
      "Time to process 1 frame: 66 milliseconds\n",
      "Time to process 1 frame: 66 milliseconds\n"
     ]
    },
    {
     "name": "stderr",
     "output_type": "stream",
     "text": [
      "0: 384x640 2 K-006697s, 46.0ms\n",
      "Speed: 3.0ms preprocess, 46.0ms inference, 3.0ms postprocess per image at shape (1, 3, 384, 640)\n",
      "\n",
      "0: 384x640 1 K-006697, 46.0ms\n",
      "Speed: 2.0ms preprocess, 46.0ms inference, 3.0ms postprocess per image at shape (1, 3, 384, 640)\n",
      "\n",
      "0: 384x640 (no detections), 46.1ms\n",
      "Speed: 2.1ms preprocess, 46.1ms inference, 2.0ms postprocess per image at shape (1, 3, 384, 640)\n",
      "\n",
      "0: 384x640 (no detections), 46.0ms\n"
     ]
    },
    {
     "name": "stdout",
     "output_type": "stream",
     "text": [
      "Time to process 1 frame: 66 milliseconds\n",
      "Time to process 1 frame: 66 milliseconds\n",
      "Time to process 1 frame: 61 milliseconds\n"
     ]
    },
    {
     "name": "stderr",
     "output_type": "stream",
     "text": [
      "Speed: 2.0ms preprocess, 46.0ms inference, 1.0ms postprocess per image at shape (1, 3, 384, 640)\n",
      "\n",
      "0: 384x640 (no detections), 46.0ms\n",
      "Speed: 2.0ms preprocess, 46.0ms inference, 2.0ms postprocess per image at shape (1, 3, 384, 640)\n",
      "\n",
      "0: 384x640 (no detections), 46.5ms\n",
      "Speed: 2.0ms preprocess, 46.5ms inference, 1.0ms postprocess per image at shape (1, 3, 384, 640)\n",
      "\n",
      "0: 384x640 (no detections), 46.0ms\n"
     ]
    },
    {
     "name": "stdout",
     "output_type": "stream",
     "text": [
      "Time to process 1 frame: 63 milliseconds\n",
      "Time to process 1 frame: 63 milliseconds\n",
      "Time to process 1 frame: 63 milliseconds\n"
     ]
    },
    {
     "name": "stderr",
     "output_type": "stream",
     "text": [
      "Speed: 2.0ms preprocess, 46.0ms inference, 1.0ms postprocess per image at shape (1, 3, 384, 640)\n",
      "\n",
      "0: 384x640 1 K-006697, 46.0ms\n",
      "Speed: 2.0ms preprocess, 46.0ms inference, 3.0ms postprocess per image at shape (1, 3, 384, 640)\n",
      "\n",
      "0: 384x640 1 K-006697, 47.1ms\n",
      "Speed: 2.0ms preprocess, 47.1ms inference, 3.0ms postprocess per image at shape (1, 3, 384, 640)\n",
      "\n"
     ]
    },
    {
     "name": "stdout",
     "output_type": "stream",
     "text": [
      "Time to process 1 frame: 63 milliseconds\n",
      "Time to process 1 frame: 66 milliseconds\n",
      "Time to process 1 frame: 67 milliseconds\n"
     ]
    },
    {
     "name": "stderr",
     "output_type": "stream",
     "text": [
      "0: 384x640 1 K-006697, 1 K-031490, 46.9ms\n",
      "Speed: 2.0ms preprocess, 46.9ms inference, 3.0ms postprocess per image at shape (1, 3, 384, 640)\n",
      "\n",
      "0: 384x640 1 K-006697, 1 K-031490, 46.0ms\n",
      "Speed: 2.0ms preprocess, 46.0ms inference, 2.0ms postprocess per image at shape (1, 3, 384, 640)\n",
      "\n",
      "0: 384x640 1 K-006697, 1 K-031490, 46.5ms\n",
      "Speed: 2.0ms preprocess, 46.5ms inference, 2.0ms postprocess per image at shape (1, 3, 384, 640)\n",
      "\n",
      "0: 384x640 1 K-006697, 2 K-031490s, 46.0ms\n"
     ]
    },
    {
     "name": "stdout",
     "output_type": "stream",
     "text": [
      "Time to process 1 frame: 67 milliseconds\n",
      "Time to process 1 frame: 65 milliseconds\n",
      "Time to process 1 frame: 66 milliseconds\n"
     ]
    },
    {
     "name": "stderr",
     "output_type": "stream",
     "text": [
      "Speed: 2.0ms preprocess, 46.0ms inference, 2.5ms postprocess per image at shape (1, 3, 384, 640)\n",
      "\n",
      "0: 384x640 1 K-006697, 2 K-031490s, 46.0ms\n",
      "Speed: 2.0ms preprocess, 46.0ms inference, 3.0ms postprocess per image at shape (1, 3, 384, 640)\n",
      "\n",
      "0: 384x640 1 K-001901, 1 K-006697, 4 K-031490s, 46.5ms\n",
      "Speed: 2.0ms preprocess, 46.5ms inference, 3.0ms postprocess per image at shape (1, 3, 384, 640)\n",
      "\n"
     ]
    },
    {
     "name": "stdout",
     "output_type": "stream",
     "text": [
      "Time to process 1 frame: 66 milliseconds\n",
      "Time to process 1 frame: 67 milliseconds\n",
      "Time to process 1 frame: 67 milliseconds\n"
     ]
    },
    {
     "name": "stderr",
     "output_type": "stream",
     "text": [
      "0: 384x640 1 K-001901, 1 K-006697, 5 K-031490s, 46.5ms\n",
      "Speed: 2.0ms preprocess, 46.5ms inference, 4.0ms postprocess per image at shape (1, 3, 384, 640)\n",
      "\n",
      "0: 384x640 2 K-001901s, 1 K-006697, 5 K-031490s, 45.9ms\n",
      "Speed: 2.0ms preprocess, 45.9ms inference, 2.6ms postprocess per image at shape (1, 3, 384, 640)\n",
      "\n",
      "0: 384x640 2 K-001901s, 1 K-006697, 5 K-031490s, 46.0ms\n",
      "Speed: 2.0ms preprocess, 46.0ms inference, 5.0ms postprocess per image at shape (1, 3, 384, 640)\n",
      "\n"
     ]
    },
    {
     "name": "stdout",
     "output_type": "stream",
     "text": [
      "Time to process 1 frame: 70 milliseconds\n",
      "Time to process 1 frame: 68 milliseconds\n",
      "Time to process 1 frame: 70 milliseconds\n"
     ]
    },
    {
     "name": "stderr",
     "output_type": "stream",
     "text": [
      "0: 384x640 2 K-001901s, 1 K-006697, 5 K-031490s, 46.5ms\n",
      "Speed: 2.0ms preprocess, 46.5ms inference, 3.0ms postprocess per image at shape (1, 3, 384, 640)\n",
      "\n",
      "0: 384x640 2 K-001901s, 1 K-006697, 5 K-031490s, 46.0ms\n",
      "Speed: 2.0ms preprocess, 46.0ms inference, 3.1ms postprocess per image at shape (1, 3, 384, 640)\n",
      "\n",
      "0: 384x640 2 K-001901s, 1 K-006697, 5 K-031490s, 47.0ms\n",
      "Speed: 2.0ms preprocess, 47.0ms inference, 2.0ms postprocess per image at shape (1, 3, 384, 640)\n",
      "\n"
     ]
    },
    {
     "name": "stdout",
     "output_type": "stream",
     "text": [
      "Time to process 1 frame: 68 milliseconds\n",
      "Time to process 1 frame: 66 milliseconds\n",
      "Time to process 1 frame: 66 milliseconds\n"
     ]
    },
    {
     "name": "stderr",
     "output_type": "stream",
     "text": [
      "0: 384x640 2 K-001901s, 1 K-004378, 1 K-006697, 5 K-031490s, 47.0ms\n",
      "Speed: 2.0ms preprocess, 47.0ms inference, 3.0ms postprocess per image at shape (1, 3, 384, 640)\n",
      "\n",
      "0: 384x640 2 K-001901s, 1 K-004378, 1 K-016548, 4 K-031490s, 47.1ms\n",
      "Speed: 2.0ms preprocess, 47.1ms inference, 2.0ms postprocess per image at shape (1, 3, 384, 640)\n",
      "\n",
      "0: 384x640 2 K-001901s, 1 K-004378, 4 K-031490s, 47.1ms\n",
      "Speed: 2.0ms preprocess, 47.1ms inference, 2.7ms postprocess per image at shape (1, 3, 384, 640)\n",
      "\n",
      "0: 384x640 2 K-001901s, 1 K-004378, 1 K-016548, 4 K-031490s, 46.0ms\n"
     ]
    },
    {
     "name": "stdout",
     "output_type": "stream",
     "text": [
      "Time to process 1 frame: 67 milliseconds\n",
      "Time to process 1 frame: 69 milliseconds\n",
      "Time to process 1 frame: 67 milliseconds\n"
     ]
    },
    {
     "name": "stderr",
     "output_type": "stream",
     "text": [
      "Speed: 2.0ms preprocess, 46.0ms inference, 3.0ms postprocess per image at shape (1, 3, 384, 640)\n",
      "\n",
      "0: 384x640 2 K-001901s, 1 K-004378, 1 K-016548, 4 K-031490s, 47.5ms\n",
      "Speed: 2.0ms preprocess, 47.5ms inference, 2.0ms postprocess per image at shape (1, 3, 384, 640)\n",
      "\n",
      "0: 384x640 2 K-001901s, 1 K-004378, 1 K-016548, 4 K-031490s, 46.0ms\n",
      "Speed: 2.0ms preprocess, 46.0ms inference, 3.0ms postprocess per image at shape (1, 3, 384, 640)\n",
      "\n"
     ]
    },
    {
     "name": "stdout",
     "output_type": "stream",
     "text": [
      "Time to process 1 frame: 68 milliseconds\n",
      "Time to process 1 frame: 68 milliseconds\n",
      "Time to process 1 frame: 67 milliseconds\n"
     ]
    },
    {
     "name": "stderr",
     "output_type": "stream",
     "text": [
      "0: 384x640 2 K-001901s, 1 K-004378, 1 K-016548, 4 K-031490s, 47.0ms\n",
      "Speed: 2.0ms preprocess, 47.0ms inference, 3.0ms postprocess per image at shape (1, 3, 384, 640)\n",
      "\n",
      "0: 384x640 2 K-001901s, 1 K-004378, 1 K-016548, 4 K-031490s, 46.5ms\n",
      "Speed: 2.0ms preprocess, 46.5ms inference, 3.0ms postprocess per image at shape (1, 3, 384, 640)\n",
      "\n",
      "0: 384x640 2 K-001901s, 1 K-004378, 1 K-016548, 4 K-031490s, 47.1ms\n",
      "Speed: 2.0ms preprocess, 47.1ms inference, 2.0ms postprocess per image at shape (1, 3, 384, 640)\n",
      "\n"
     ]
    },
    {
     "name": "stdout",
     "output_type": "stream",
     "text": [
      "Time to process 1 frame: 67 milliseconds\n",
      "Time to process 1 frame: 68 milliseconds\n",
      "Time to process 1 frame: 67 milliseconds\n"
     ]
    },
    {
     "name": "stderr",
     "output_type": "stream",
     "text": [
      "0: 384x640 2 K-001901s, 1 K-004378, 1 K-016548, 4 K-031490s, 47.0ms\n",
      "Speed: 2.0ms preprocess, 47.0ms inference, 3.0ms postprocess per image at shape (1, 3, 384, 640)\n",
      "\n",
      "0: 384x640 2 K-001901s, 1 K-004378, 4 K-031490s, 46.0ms\n",
      "Speed: 2.0ms preprocess, 46.0ms inference, 2.0ms postprocess per image at shape (1, 3, 384, 640)\n",
      "\n",
      "0: 384x640 2 K-001901s, 1 K-004378, 1 K-016548, 4 K-031490s, 46.2ms\n",
      "Speed: 2.0ms preprocess, 46.2ms inference, 3.0ms postprocess per image at shape (1, 3, 384, 640)\n",
      "\n"
     ]
    },
    {
     "name": "stdout",
     "output_type": "stream",
     "text": [
      "Time to process 1 frame: 68 milliseconds\n",
      "Time to process 1 frame: 64 milliseconds\n",
      "Time to process 1 frame: 66 milliseconds\n"
     ]
    },
    {
     "name": "stderr",
     "output_type": "stream",
     "text": [
      "0: 384x640 2 K-001901s, 1 K-004378, 1 K-016548, 4 K-031490s, 47.0ms\n",
      "Speed: 2.0ms preprocess, 47.0ms inference, 3.0ms postprocess per image at shape (1, 3, 384, 640)\n",
      "\n",
      "0: 384x640 2 K-001901s, 1 K-004378, 1 K-016548, 4 K-031490s, 47.0ms\n",
      "Speed: 2.0ms preprocess, 47.0ms inference, 2.0ms postprocess per image at shape (1, 3, 384, 640)\n",
      "\n",
      "0: 384x640 2 K-001901s, 1 K-004378, 1 K-016548, 4 K-031490s, 45.5ms\n",
      "Speed: 2.0ms preprocess, 45.5ms inference, 4.0ms postprocess per image at shape (1, 3, 384, 640)\n",
      "\n"
     ]
    },
    {
     "name": "stdout",
     "output_type": "stream",
     "text": [
      "Time to process 1 frame: 67 milliseconds\n",
      "Time to process 1 frame: 66 milliseconds\n",
      "Time to process 1 frame: 67 milliseconds\n"
     ]
    },
    {
     "name": "stderr",
     "output_type": "stream",
     "text": [
      "0: 384x640 2 K-001901s, 1 K-004378, 1 K-016548, 4 K-031490s, 46.5ms\n",
      "Speed: 2.0ms preprocess, 46.5ms inference, 2.0ms postprocess per image at shape (1, 3, 384, 640)\n",
      "\n",
      "0: 384x640 2 K-001901s, 1 K-004378, 1 K-006697, 1 K-016548, 4 K-031490s, 47.0ms\n",
      "Speed: 2.0ms preprocess, 47.0ms inference, 2.0ms postprocess per image at shape (1, 3, 384, 640)\n",
      "\n",
      "0: 384x640 2 K-001901s, 1 K-004378, 1 K-016548, 4 K-031490s, 45.8ms\n",
      "Speed: 2.1ms preprocess, 45.8ms inference, 3.0ms postprocess per image at shape (1, 3, 384, 640)\n",
      "\n"
     ]
    },
    {
     "name": "stdout",
     "output_type": "stream",
     "text": [
      "Time to process 1 frame: 66 milliseconds\n",
      "Time to process 1 frame: 69 milliseconds\n",
      "Time to process 1 frame: 66 milliseconds\n"
     ]
    },
    {
     "name": "stderr",
     "output_type": "stream",
     "text": [
      "0: 384x640 2 K-001901s, 1 K-004378, 1 K-016548, 4 K-031490s, 46.2ms\n",
      "Speed: 3.0ms preprocess, 46.2ms inference, 3.0ms postprocess per image at shape (1, 3, 384, 640)\n",
      "\n",
      "0: 384x640 2 K-001901s, 1 K-004378, 1 K-016548, 4 K-031490s, 46.0ms\n",
      "Speed: 2.0ms preprocess, 46.0ms inference, 3.0ms postprocess per image at shape (1, 3, 384, 640)\n",
      "\n",
      "0: 384x640 2 K-001901s, 1 K-004378, 1 K-016548, 4 K-031490s, 47.0ms\n",
      "Speed: 2.0ms preprocess, 47.0ms inference, 3.0ms postprocess per image at shape (1, 3, 384, 640)\n",
      "\n"
     ]
    },
    {
     "name": "stdout",
     "output_type": "stream",
     "text": [
      "Time to process 1 frame: 67 milliseconds\n",
      "Time to process 1 frame: 67 milliseconds\n",
      "Time to process 1 frame: 68 milliseconds\n"
     ]
    },
    {
     "name": "stderr",
     "output_type": "stream",
     "text": [
      "0: 384x640 2 K-001901s, 1 K-004378, 1 K-016548, 4 K-031490s, 47.5ms\n",
      "Speed: 2.0ms preprocess, 47.5ms inference, 3.0ms postprocess per image at shape (1, 3, 384, 640)\n",
      "\n",
      "0: 384x640 2 K-001901s, 1 K-004378, 1 K-016548, 4 K-031490s, 46.5ms\n",
      "Speed: 1.0ms preprocess, 46.5ms inference, 3.0ms postprocess per image at shape (1, 3, 384, 640)\n",
      "\n",
      "0: 384x640 2 K-001901s, 1 K-004378, 1 K-016548, 4 K-031490s, 46.0ms\n",
      "Speed: 2.0ms preprocess, 46.0ms inference, 2.0ms postprocess per image at shape (1, 3, 384, 640)\n",
      "\n"
     ]
    },
    {
     "name": "stdout",
     "output_type": "stream",
     "text": [
      "Time to process 1 frame: 69 milliseconds\n",
      "Time to process 1 frame: 66 milliseconds\n",
      "Time to process 1 frame: 66 milliseconds\n"
     ]
    },
    {
     "name": "stderr",
     "output_type": "stream",
     "text": [
      "0: 384x640 2 K-001901s, 1 K-004378, 1 K-016548, 4 K-031490s, 45.9ms\n",
      "Speed: 2.0ms preprocess, 45.9ms inference, 3.0ms postprocess per image at shape (1, 3, 384, 640)\n",
      "\n",
      "0: 384x640 2 K-001901s, 1 K-004378, 1 K-016548, 4 K-031490s, 47.1ms\n",
      "Speed: 2.0ms preprocess, 47.1ms inference, 3.0ms postprocess per image at shape (1, 3, 384, 640)\n",
      "\n",
      "0: 384x640 2 K-001901s, 1 K-004378, 1 K-016548, 4 K-031490s, 46.0ms\n",
      "Speed: 2.0ms preprocess, 46.0ms inference, 3.0ms postprocess per image at shape (1, 3, 384, 640)\n",
      "\n",
      "0: 384x640 2 K-001901s, 1 K-004378, 1 K-016548, 4 K-031490s, 46.0ms\n"
     ]
    },
    {
     "name": "stdout",
     "output_type": "stream",
     "text": [
      "Time to process 1 frame: 66 milliseconds\n",
      "Time to process 1 frame: 67 milliseconds\n",
      "Time to process 1 frame: 68 milliseconds\n"
     ]
    },
    {
     "name": "stderr",
     "output_type": "stream",
     "text": [
      "Speed: 2.0ms preprocess, 46.0ms inference, 3.0ms postprocess per image at shape (1, 3, 384, 640)\n",
      "\n",
      "0: 384x640 2 K-001901s, 1 K-004378, 4 K-031490s, 46.5ms\n",
      "Speed: 2.0ms preprocess, 46.5ms inference, 3.0ms postprocess per image at shape (1, 3, 384, 640)\n",
      "\n",
      "0: 384x640 2 K-001901s, 1 K-004378, 1 K-016548, 4 K-031490s, 48.0ms\n",
      "Speed: 2.0ms preprocess, 48.0ms inference, 2.0ms postprocess per image at shape (1, 3, 384, 640)\n",
      "\n",
      "0: 384x640 2 K-001901s, 1 K-004378, 1 K-016548, 4 K-031490s, 46.0ms\n"
     ]
    },
    {
     "name": "stdout",
     "output_type": "stream",
     "text": [
      "Time to process 1 frame: 67 milliseconds\n",
      "Time to process 1 frame: 67 milliseconds\n",
      "Time to process 1 frame: 67 milliseconds\n"
     ]
    },
    {
     "name": "stderr",
     "output_type": "stream",
     "text": [
      "Speed: 3.0ms preprocess, 46.0ms inference, 3.0ms postprocess per image at shape (1, 3, 384, 640)\n",
      "\n",
      "0: 384x640 2 K-001901s, 1 K-004378, 1 K-016548, 4 K-031490s, 46.0ms\n",
      "Speed: 2.0ms preprocess, 46.0ms inference, 3.0ms postprocess per image at shape (1, 3, 384, 640)\n",
      "\n",
      "0: 384x640 2 K-001901s, 1 K-004378, 1 K-016548, 4 K-031490s, 46.0ms\n",
      "Speed: 2.0ms preprocess, 46.0ms inference, 3.1ms postprocess per image at shape (1, 3, 384, 640)\n",
      "\n"
     ]
    },
    {
     "name": "stdout",
     "output_type": "stream",
     "text": [
      "Time to process 1 frame: 68 milliseconds\n",
      "Time to process 1 frame: 66 milliseconds\n",
      "Time to process 1 frame: 66 milliseconds\n"
     ]
    },
    {
     "name": "stderr",
     "output_type": "stream",
     "text": [
      "0: 384x640 2 K-001901s, 1 K-004378, 4 K-031490s, 47.0ms\n",
      "Speed: 2.0ms preprocess, 47.0ms inference, 3.0ms postprocess per image at shape (1, 3, 384, 640)\n",
      "\n",
      "0: 384x640 2 K-001901s, 1 K-006697, 4 K-031490s, 46.5ms\n",
      "Speed: 3.0ms preprocess, 46.5ms inference, 2.0ms postprocess per image at shape (1, 3, 384, 640)\n",
      "\n",
      "0: 384x640 2 K-001901s, 1 K-004378, 4 K-031490s, 46.5ms\n",
      "Speed: 2.0ms preprocess, 46.5ms inference, 3.0ms postprocess per image at shape (1, 3, 384, 640)\n",
      "\n"
     ]
    },
    {
     "name": "stdout",
     "output_type": "stream",
     "text": [
      "Time to process 1 frame: 67 milliseconds\n",
      "Time to process 1 frame: 67 milliseconds\n",
      "Time to process 1 frame: 67 milliseconds\n"
     ]
    },
    {
     "name": "stderr",
     "output_type": "stream",
     "text": [
      "0: 384x640 2 K-001901s, 1 K-004378, 1 K-016548, 4 K-031490s, 46.0ms\n",
      "Speed: 2.0ms preprocess, 46.0ms inference, 3.0ms postprocess per image at shape (1, 3, 384, 640)\n",
      "\n",
      "0: 384x640 2 K-001901s, 1 K-004378, 1 K-016548, 4 K-031490s, 46.0ms\n",
      "Speed: 3.0ms preprocess, 46.0ms inference, 2.0ms postprocess per image at shape (1, 3, 384, 640)\n",
      "\n",
      "0: 384x640 2 K-001901s, 1 K-004378, 1 K-016548, 4 K-031490s, 46.3ms\n",
      "Speed: 2.0ms preprocess, 46.3ms inference, 3.0ms postprocess per image at shape (1, 3, 384, 640)\n",
      "\n"
     ]
    },
    {
     "name": "stdout",
     "output_type": "stream",
     "text": [
      "Time to process 1 frame: 66 milliseconds\n",
      "Time to process 1 frame: 67 milliseconds\n",
      "Time to process 1 frame: 67 milliseconds\n"
     ]
    },
    {
     "name": "stderr",
     "output_type": "stream",
     "text": [
      "0: 384x640 2 K-001901s, 1 K-004378, 1 K-016548, 4 K-031490s, 46.0ms\n",
      "Speed: 2.0ms preprocess, 46.0ms inference, 4.0ms postprocess per image at shape (1, 3, 384, 640)\n",
      "\n",
      "0: 384x640 2 K-001901s, 1 K-004378, 1 K-016548, 4 K-031490s, 47.0ms\n",
      "Speed: 2.0ms preprocess, 47.0ms inference, 2.0ms postprocess per image at shape (1, 3, 384, 640)\n",
      "\n",
      "0: 384x640 2 K-001901s, 1 K-004378, 1 K-016548, 4 K-031490s, 46.1ms\n",
      "Speed: 2.0ms preprocess, 46.1ms inference, 3.0ms postprocess per image at shape (1, 3, 384, 640)\n",
      "\n",
      "0: 384x640 2 K-001901s, 1 K-006697, 4 K-031490s, 46.5ms\n"
     ]
    },
    {
     "name": "stdout",
     "output_type": "stream",
     "text": [
      "Time to process 1 frame: 68 milliseconds\n",
      "Time to process 1 frame: 67 milliseconds\n",
      "Time to process 1 frame: 67 milliseconds\n"
     ]
    },
    {
     "name": "stderr",
     "output_type": "stream",
     "text": [
      "Speed: 2.0ms preprocess, 46.5ms inference, 2.0ms postprocess per image at shape (1, 3, 384, 640)\n",
      "\n",
      "0: 384x640 2 K-001901s, 1 K-004378, 1 K-016548, 4 K-031490s, 46.0ms\n",
      "Speed: 2.0ms preprocess, 46.0ms inference, 2.0ms postprocess per image at shape (1, 3, 384, 640)\n",
      "\n",
      "0: 384x640 2 K-001901s, 1 K-004378, 1 K-016548, 4 K-031490s, 47.0ms\n",
      "Speed: 2.5ms preprocess, 47.0ms inference, 3.0ms postprocess per image at shape (1, 3, 384, 640)\n",
      "\n"
     ]
    },
    {
     "name": "stdout",
     "output_type": "stream",
     "text": [
      "Time to process 1 frame: 67 milliseconds\n",
      "Time to process 1 frame: 68 milliseconds\n",
      "Time to process 1 frame: 68 milliseconds\n"
     ]
    },
    {
     "name": "stderr",
     "output_type": "stream",
     "text": [
      "0: 384x640 2 K-001901s, 1 K-004378, 1 K-016548, 4 K-031490s, 46.4ms\n",
      "Speed: 2.0ms preprocess, 46.4ms inference, 4.0ms postprocess per image at shape (1, 3, 384, 640)\n",
      "\n",
      "0: 384x640 2 K-001901s, 1 K-006697, 4 K-031490s, 47.0ms\n",
      "Speed: 2.0ms preprocess, 47.0ms inference, 3.0ms postprocess per image at shape (1, 3, 384, 640)\n",
      "\n",
      "0: 384x640 2 K-001901s, 1 K-006697, 5 K-031490s, 47.0ms\n",
      "Speed: 2.0ms preprocess, 47.0ms inference, 3.0ms postprocess per image at shape (1, 3, 384, 640)\n",
      "\n",
      "0: 384x640 2 K-001901s, 1 K-006697, 5 K-031490s, 46.5ms\n"
     ]
    },
    {
     "name": "stdout",
     "output_type": "stream",
     "text": [
      "Time to process 1 frame: 67 milliseconds\n",
      "Time to process 1 frame: 67 milliseconds\n",
      "Time to process 1 frame: 67 milliseconds\n"
     ]
    },
    {
     "name": "stderr",
     "output_type": "stream",
     "text": [
      "Speed: 2.0ms preprocess, 46.5ms inference, 2.0ms postprocess per image at shape (1, 3, 384, 640)\n",
      "\n",
      "0: 384x640 2 K-001901s, 1 K-006697, 5 K-031490s, 46.5ms\n",
      "Speed: 2.0ms preprocess, 46.5ms inference, 2.0ms postprocess per image at shape (1, 3, 384, 640)\n",
      "\n",
      "0: 384x640 2 K-001901s, 1 K-006697, 5 K-031490s, 46.0ms\n",
      "Speed: 2.0ms preprocess, 46.0ms inference, 4.0ms postprocess per image at shape (1, 3, 384, 640)\n",
      "\n"
     ]
    },
    {
     "name": "stdout",
     "output_type": "stream",
     "text": [
      "Time to process 1 frame: 67 milliseconds\n",
      "Time to process 1 frame: 67 milliseconds\n",
      "Time to process 1 frame: 68 milliseconds\n"
     ]
    },
    {
     "name": "stderr",
     "output_type": "stream",
     "text": [
      "0: 384x640 2 K-001901s, 1 K-006697, 4 K-031490s, 46.0ms\n",
      "Speed: 2.2ms preprocess, 46.0ms inference, 3.0ms postprocess per image at shape (1, 3, 384, 640)\n",
      "\n",
      "0: 384x640 1 K-006697, 1 K-024127, 4 K-031490s, 46.3ms\n",
      "Speed: 2.0ms preprocess, 46.3ms inference, 2.6ms postprocess per image at shape (1, 3, 384, 640)\n",
      "\n",
      "0: 384x640 1 K-006697, 5 K-031490s, 46.0ms\n",
      "Speed: 7.0ms preprocess, 46.0ms inference, 3.0ms postprocess per image at shape (1, 3, 384, 640)\n",
      "\n"
     ]
    },
    {
     "name": "stdout",
     "output_type": "stream",
     "text": [
      "Time to process 1 frame: 66 milliseconds\n",
      "Time to process 1 frame: 66 milliseconds\n",
      "Time to process 1 frame: 70 milliseconds\n"
     ]
    },
    {
     "name": "stderr",
     "output_type": "stream",
     "text": [
      "0: 384x640 2 K-006697s, 3 K-031490s, 47.0ms\n",
      "Speed: 2.0ms preprocess, 47.0ms inference, 3.0ms postprocess per image at shape (1, 3, 384, 640)\n",
      "\n",
      "0: 384x640 1 K-001901, 1 K-006697, 2 K-031490s, 46.5ms\n",
      "Speed: 2.0ms preprocess, 46.5ms inference, 2.0ms postprocess per image at shape (1, 3, 384, 640)\n",
      "\n",
      "0: 384x640 1 K-001901, 1 K-006697, 3 K-031490s, 47.5ms\n",
      "Speed: 2.0ms preprocess, 47.5ms inference, 2.0ms postprocess per image at shape (1, 3, 384, 640)\n",
      "\n"
     ]
    },
    {
     "name": "stdout",
     "output_type": "stream",
     "text": [
      "Time to process 1 frame: 67 milliseconds\n",
      "Time to process 1 frame: 66 milliseconds\n",
      "Time to process 1 frame: 67 milliseconds\n"
     ]
    },
    {
     "name": "stderr",
     "output_type": "stream",
     "text": [
      "0: 384x640 2 K-001901s, 1 K-006697, 2 K-031490s, 47.0ms\n",
      "Speed: 2.0ms preprocess, 47.0ms inference, 4.0ms postprocess per image at shape (1, 3, 384, 640)\n",
      "\n",
      "0: 384x640 1 K-001901, 1 K-006697, 2 K-031490s, 46.0ms\n",
      "Speed: 2.5ms preprocess, 46.0ms inference, 3.0ms postprocess per image at shape (1, 3, 384, 640)\n",
      "\n",
      "0: 384x640 1 K-006697, 1 K-031490, 47.5ms\n",
      "Speed: 2.0ms preprocess, 47.5ms inference, 3.3ms postprocess per image at shape (1, 3, 384, 640)\n",
      "\n",
      "0: 384x640 1 K-001901, 1 K-006697, 3 K-031490s, 47.0ms\n"
     ]
    },
    {
     "name": "stdout",
     "output_type": "stream",
     "text": [
      "Time to process 1 frame: 70 milliseconds\n",
      "Time to process 1 frame: 67 milliseconds\n",
      "Time to process 1 frame: 67 milliseconds\n"
     ]
    },
    {
     "name": "stderr",
     "output_type": "stream",
     "text": [
      "Speed: 2.0ms preprocess, 47.0ms inference, 3.0ms postprocess per image at shape (1, 3, 384, 640)\n",
      "\n",
      "0: 384x640 1 K-001901, 1 K-006697, 3 K-031490s, 46.0ms\n",
      "Speed: 2.0ms preprocess, 46.0ms inference, 3.0ms postprocess per image at shape (1, 3, 384, 640)\n",
      "\n",
      "0: 384x640 1 K-001901, 1 K-006697, 4 K-031490s, 46.5ms\n",
      "Speed: 2.0ms preprocess, 46.5ms inference, 3.0ms postprocess per image at shape (1, 3, 384, 640)\n",
      "\n"
     ]
    },
    {
     "name": "stdout",
     "output_type": "stream",
     "text": [
      "Time to process 1 frame: 67 milliseconds\n",
      "Time to process 1 frame: 67 milliseconds\n",
      "Time to process 1 frame: 67 milliseconds\n"
     ]
    },
    {
     "name": "stderr",
     "output_type": "stream",
     "text": [
      "0: 384x640 1 K-001901, 1 K-006697, 4 K-031490s, 46.0ms\n",
      "Speed: 2.0ms preprocess, 46.0ms inference, 3.5ms postprocess per image at shape (1, 3, 384, 640)\n",
      "\n",
      "0: 384x640 1 K-001901, 1 K-006697, 4 K-031490s, 47.0ms\n",
      "Speed: 2.0ms preprocess, 47.0ms inference, 3.0ms postprocess per image at shape (1, 3, 384, 640)\n",
      "\n",
      "0: 384x640 2 K-006697s, 1 K-031490, 45.7ms\n",
      "Speed: 3.0ms preprocess, 45.7ms inference, 3.0ms postprocess per image at shape (1, 3, 384, 640)\n",
      "\n",
      "0: 384x640 2 K-006697s, 2 K-031490s, 45.5ms\n"
     ]
    },
    {
     "name": "stdout",
     "output_type": "stream",
     "text": [
      "Time to process 1 frame: 67 milliseconds\n",
      "Time to process 1 frame: 67 milliseconds\n",
      "Time to process 1 frame: 67 milliseconds\n"
     ]
    },
    {
     "name": "stderr",
     "output_type": "stream",
     "text": [
      "Speed: 2.0ms preprocess, 45.5ms inference, 3.0ms postprocess per image at shape (1, 3, 384, 640)\n",
      "\n",
      "0: 384x640 1 K-001901, 2 K-006697s, 3 K-031490s, 46.1ms\n",
      "Speed: 2.1ms preprocess, 46.1ms inference, 3.0ms postprocess per image at shape (1, 3, 384, 640)\n",
      "\n",
      "0: 384x640 1 K-001901, 2 K-006697s, 4 K-031490s, 46.0ms\n",
      "Speed: 1.0ms preprocess, 46.0ms inference, 3.0ms postprocess per image at shape (1, 3, 384, 640)\n",
      "\n",
      "0: 384x640 2 K-006697s, 2 K-031490s, 45.5ms\n"
     ]
    },
    {
     "name": "stdout",
     "output_type": "stream",
     "text": [
      "Time to process 1 frame: 64 milliseconds\n",
      "Time to process 1 frame: 63 milliseconds\n",
      "Time to process 1 frame: 65 milliseconds\n"
     ]
    },
    {
     "name": "stderr",
     "output_type": "stream",
     "text": [
      "Speed: 2.0ms preprocess, 45.5ms inference, 3.0ms postprocess per image at shape (1, 3, 384, 640)\n",
      "\n",
      "0: 384x640 2 K-006697s, 2 K-031490s, 47.0ms\n",
      "Speed: 2.0ms preprocess, 47.0ms inference, 4.0ms postprocess per image at shape (1, 3, 384, 640)\n",
      "\n",
      "0: 384x640 2 K-006697s, 1 K-031490, 46.0ms\n",
      "Speed: 2.0ms preprocess, 46.0ms inference, 3.0ms postprocess per image at shape (1, 3, 384, 640)\n",
      "\n"
     ]
    },
    {
     "name": "stdout",
     "output_type": "stream",
     "text": [
      "Time to process 1 frame: 66 milliseconds\n",
      "Time to process 1 frame: 69 milliseconds\n",
      "Time to process 1 frame: 65 milliseconds\n"
     ]
    },
    {
     "name": "stderr",
     "output_type": "stream",
     "text": [
      "0: 384x640 2 K-006697s, 1 K-031490, 46.2ms\n",
      "Speed: 2.0ms preprocess, 46.2ms inference, 3.0ms postprocess per image at shape (1, 3, 384, 640)\n",
      "\n",
      "0: 384x640 2 K-006697s, 1 K-031490, 46.5ms\n",
      "Speed: 2.0ms preprocess, 46.5ms inference, 3.0ms postprocess per image at shape (1, 3, 384, 640)\n",
      "\n",
      "0: 384x640 2 K-006697s, 1 K-031490, 46.3ms\n",
      "Speed: 2.0ms preprocess, 46.3ms inference, 2.0ms postprocess per image at shape (1, 3, 384, 640)\n",
      "\n"
     ]
    },
    {
     "name": "stdout",
     "output_type": "stream",
     "text": [
      "Time to process 1 frame: 67 milliseconds\n",
      "Time to process 1 frame: 67 milliseconds\n",
      "Time to process 1 frame: 65 milliseconds\n"
     ]
    },
    {
     "name": "stderr",
     "output_type": "stream",
     "text": [
      "0: 384x640 2 K-006697s, 2 K-031490s, 46.5ms\n",
      "Speed: 2.0ms preprocess, 46.5ms inference, 3.0ms postprocess per image at shape (1, 3, 384, 640)\n",
      "\n",
      "0: 384x640 2 K-006697s, 45.5ms\n",
      "Speed: 4.0ms preprocess, 45.5ms inference, 3.0ms postprocess per image at shape (1, 3, 384, 640)\n",
      "\n",
      "0: 384x640 2 K-006697s, 46.0ms\n",
      "Speed: 3.0ms preprocess, 46.0ms inference, 3.0ms postprocess per image at shape (1, 3, 384, 640)\n",
      "\n",
      "0: 384x640 1 K-006697, 47.0ms\n"
     ]
    },
    {
     "name": "stdout",
     "output_type": "stream",
     "text": [
      "Time to process 1 frame: 67 milliseconds\n",
      "Time to process 1 frame: 68 milliseconds\n",
      "Time to process 1 frame: 66 milliseconds\n"
     ]
    },
    {
     "name": "stderr",
     "output_type": "stream",
     "text": [
      "Speed: 2.0ms preprocess, 47.0ms inference, 2.0ms postprocess per image at shape (1, 3, 384, 640)\n",
      "\n",
      "0: 384x640 1 K-006697, 46.5ms\n",
      "Speed: 2.0ms preprocess, 46.5ms inference, 3.0ms postprocess per image at shape (1, 3, 384, 640)\n",
      "\n",
      "0: 384x640 1 K-006697, 46.0ms\n",
      "Speed: 3.0ms preprocess, 46.0ms inference, 3.0ms postprocess per image at shape (1, 3, 384, 640)\n",
      "\n",
      "0: 384x640 1 K-006697, 1 K-031490, 47.1ms\n"
     ]
    },
    {
     "name": "stdout",
     "output_type": "stream",
     "text": [
      "Time to process 1 frame: 65 milliseconds\n",
      "Time to process 1 frame: 67 milliseconds\n",
      "Time to process 1 frame: 66 milliseconds\n"
     ]
    },
    {
     "name": "stderr",
     "output_type": "stream",
     "text": [
      "Speed: 2.0ms preprocess, 47.1ms inference, 2.0ms postprocess per image at shape (1, 3, 384, 640)\n",
      "\n",
      "0: 384x640 1 K-006697, 1 K-031490, 46.5ms\n",
      "Speed: 2.0ms preprocess, 46.5ms inference, 3.0ms postprocess per image at shape (1, 3, 384, 640)\n",
      "\n",
      "0: 384x640 1 K-006697, 1 K-031490, 46.5ms\n",
      "Speed: 2.0ms preprocess, 46.5ms inference, 2.0ms postprocess per image at shape (1, 3, 384, 640)\n",
      "\n"
     ]
    },
    {
     "name": "stdout",
     "output_type": "stream",
     "text": [
      "Time to process 1 frame: 68 milliseconds\n",
      "Time to process 1 frame: 68 milliseconds\n",
      "Time to process 1 frame: 65 milliseconds\n"
     ]
    },
    {
     "name": "stderr",
     "output_type": "stream",
     "text": [
      "0: 384x640 1 K-006697, 1 K-031490, 46.0ms\n",
      "Speed: 2.0ms preprocess, 46.0ms inference, 4.0ms postprocess per image at shape (1, 3, 384, 640)\n",
      "\n",
      "0: 384x640 1 K-006697, 1 K-031490, 46.5ms\n",
      "Speed: 1.0ms preprocess, 46.5ms inference, 3.0ms postprocess per image at shape (1, 3, 384, 640)\n",
      "\n",
      "0: 384x640 1 K-006697, 1 K-031490, 46.5ms\n",
      "Speed: 2.1ms preprocess, 46.5ms inference, 2.0ms postprocess per image at shape (1, 3, 384, 640)\n",
      "\n"
     ]
    },
    {
     "name": "stdout",
     "output_type": "stream",
     "text": [
      "Time to process 1 frame: 69 milliseconds\n",
      "Time to process 1 frame: 66 milliseconds\n",
      "Time to process 1 frame: 62 milliseconds\n"
     ]
    },
    {
     "name": "stderr",
     "output_type": "stream",
     "text": [
      "0: 384x640 1 K-006697, 1 K-031490, 47.0ms\n",
      "Speed: 2.0ms preprocess, 47.0ms inference, 2.0ms postprocess per image at shape (1, 3, 384, 640)\n",
      "\n",
      "0: 384x640 1 K-006697, 1 K-031490, 46.5ms\n",
      "Speed: 2.0ms preprocess, 46.5ms inference, 2.0ms postprocess per image at shape (1, 3, 384, 640)\n",
      "\n",
      "0: 384x640 1 K-006697, 46.5ms\n",
      "Speed: 2.0ms preprocess, 46.5ms inference, 2.0ms postprocess per image at shape (1, 3, 384, 640)\n",
      "\n"
     ]
    },
    {
     "name": "stdout",
     "output_type": "stream",
     "text": [
      "Time to process 1 frame: 65 milliseconds\n",
      "Time to process 1 frame: 77 milliseconds\n",
      "Time to process 1 frame: 66 milliseconds\n"
     ]
    },
    {
     "name": "stderr",
     "output_type": "stream",
     "text": [
      "0: 384x640 1 K-006697, 1 K-031490, 47.0ms\n",
      "Speed: 2.0ms preprocess, 47.0ms inference, 3.2ms postprocess per image at shape (1, 3, 384, 640)\n",
      "\n",
      "0: 384x640 1 K-006697, 47.0ms\n",
      "Speed: 2.0ms preprocess, 47.0ms inference, 2.0ms postprocess per image at shape (1, 3, 384, 640)\n",
      "\n",
      "0: 384x640 1 K-006697, 45.5ms\n",
      "Speed: 3.0ms preprocess, 45.5ms inference, 3.0ms postprocess per image at shape (1, 3, 384, 640)\n",
      "\n",
      "0: 384x640 1 K-006697, 46.6ms\n"
     ]
    },
    {
     "name": "stdout",
     "output_type": "stream",
     "text": [
      "Time to process 1 frame: 66 milliseconds\n",
      "Time to process 1 frame: 66 milliseconds\n",
      "Time to process 1 frame: 66 milliseconds\n"
     ]
    },
    {
     "name": "stderr",
     "output_type": "stream",
     "text": [
      "Speed: 2.0ms preprocess, 46.6ms inference, 2.0ms postprocess per image at shape (1, 3, 384, 640)\n",
      "\n",
      "0: 384x640 1 K-006697, 46.0ms\n",
      "Speed: 2.0ms preprocess, 46.0ms inference, 3.0ms postprocess per image at shape (1, 3, 384, 640)\n",
      "\n",
      "0: 384x640 1 K-006697, 46.9ms\n",
      "Speed: 2.0ms preprocess, 46.9ms inference, 3.1ms postprocess per image at shape (1, 3, 384, 640)\n",
      "\n"
     ]
    },
    {
     "name": "stdout",
     "output_type": "stream",
     "text": [
      "Time to process 1 frame: 66 milliseconds\n",
      "Time to process 1 frame: 70 milliseconds\n",
      "Time to process 1 frame: 67 milliseconds\n"
     ]
    },
    {
     "name": "stderr",
     "output_type": "stream",
     "text": [
      "0: 384x640 1 K-006697, 47.3ms\n",
      "Speed: 2.0ms preprocess, 47.3ms inference, 3.0ms postprocess per image at shape (1, 3, 384, 640)\n",
      "\n",
      "0: 384x640 1 K-006697, 45.0ms\n",
      "Speed: 2.0ms preprocess, 45.0ms inference, 2.0ms postprocess per image at shape (1, 3, 384, 640)\n",
      "\n",
      "0: 384x640 1 K-006697, 46.0ms\n",
      "Speed: 2.0ms preprocess, 46.0ms inference, 3.0ms postprocess per image at shape (1, 3, 384, 640)\n",
      "\n",
      "0: 384x640 1 K-006697, 46.5ms\n"
     ]
    },
    {
     "name": "stdout",
     "output_type": "stream",
     "text": [
      "Time to process 1 frame: 67 milliseconds\n",
      "Time to process 1 frame: 66 milliseconds\n",
      "Time to process 1 frame: 65 milliseconds\n"
     ]
    },
    {
     "name": "stderr",
     "output_type": "stream",
     "text": [
      "Speed: 2.0ms preprocess, 46.5ms inference, 2.0ms postprocess per image at shape (1, 3, 384, 640)\n",
      "\n",
      "0: 384x640 1 K-006697, 47.0ms\n",
      "Speed: 2.0ms preprocess, 47.0ms inference, 2.0ms postprocess per image at shape (1, 3, 384, 640)\n",
      "\n",
      "0: 384x640 1 K-006697, 1 K-031490, 47.0ms\n",
      "Speed: 1.7ms preprocess, 47.0ms inference, 2.0ms postprocess per image at shape (1, 3, 384, 640)\n",
      "\n",
      "0: 384x640 1 K-006697, 2 K-031490s, 46.5ms\n"
     ]
    },
    {
     "name": "stdout",
     "output_type": "stream",
     "text": [
      "Time to process 1 frame: 66 milliseconds\n",
      "Time to process 1 frame: 65 milliseconds\n",
      "Time to process 1 frame: 66 milliseconds\n"
     ]
    },
    {
     "name": "stderr",
     "output_type": "stream",
     "text": [
      "Speed: 2.0ms preprocess, 46.5ms inference, 2.0ms postprocess per image at shape (1, 3, 384, 640)\n",
      "\n",
      "0: 384x640 1 K-006697, 2 K-031490s, 45.6ms\n",
      "Speed: 2.1ms preprocess, 45.6ms inference, 3.0ms postprocess per image at shape (1, 3, 384, 640)\n",
      "\n",
      "0: 384x640 1 K-006697, 2 K-031490s, 46.0ms\n",
      "Speed: 2.0ms preprocess, 46.0ms inference, 2.0ms postprocess per image at shape (1, 3, 384, 640)\n",
      "\n"
     ]
    },
    {
     "name": "stdout",
     "output_type": "stream",
     "text": [
      "Time to process 1 frame: 66 milliseconds\n",
      "Time to process 1 frame: 64 milliseconds\n",
      "Time to process 1 frame: 65 milliseconds\n"
     ]
    },
    {
     "name": "stderr",
     "output_type": "stream",
     "text": [
      "0: 384x640 1 K-006697, 2 K-031490s, 46.3ms\n",
      "Speed: 2.0ms preprocess, 46.3ms inference, 3.0ms postprocess per image at shape (1, 3, 384, 640)\n",
      "\n",
      "0: 384x640 1 K-006697, 2 K-031490s, 46.5ms\n",
      "Speed: 2.0ms preprocess, 46.5ms inference, 2.0ms postprocess per image at shape (1, 3, 384, 640)\n",
      "\n",
      "0: 384x640 1 K-006697, 1 K-031490, 46.0ms\n",
      "Speed: 2.0ms preprocess, 46.0ms inference, 3.0ms postprocess per image at shape (1, 3, 384, 640)\n",
      "\n",
      "0: 384x640 1 K-006697, 1 K-031490, 47.0ms\n"
     ]
    },
    {
     "name": "stdout",
     "output_type": "stream",
     "text": [
      "Time to process 1 frame: 66 milliseconds\n",
      "Time to process 1 frame: 67 milliseconds\n",
      "Time to process 1 frame: 66 milliseconds\n"
     ]
    },
    {
     "name": "stderr",
     "output_type": "stream",
     "text": [
      "Speed: 2.0ms preprocess, 47.0ms inference, 2.0ms postprocess per image at shape (1, 3, 384, 640)\n",
      "\n",
      "0: 384x640 1 K-006697, 1 K-031490, 46.1ms\n",
      "Speed: 2.0ms preprocess, 46.1ms inference, 3.0ms postprocess per image at shape (1, 3, 384, 640)\n",
      "\n",
      "0: 384x640 1 K-006697, 1 K-031490, 1 K-044834, 46.8ms\n",
      "Speed: 2.0ms preprocess, 46.8ms inference, 2.0ms postprocess per image at shape (1, 3, 384, 640)\n",
      "\n"
     ]
    },
    {
     "name": "stdout",
     "output_type": "stream",
     "text": [
      "Time to process 1 frame: 70 milliseconds\n",
      "Time to process 1 frame: 66 milliseconds\n",
      "Time to process 1 frame: 67 milliseconds\n"
     ]
    },
    {
     "name": "stderr",
     "output_type": "stream",
     "text": [
      "0: 384x640 1 K-006697, 1 K-031490, 1 K-044834, 45.0ms\n",
      "Speed: 3.0ms preprocess, 45.0ms inference, 3.0ms postprocess per image at shape (1, 3, 384, 640)\n",
      "\n",
      "0: 384x640 1 K-006697, 1 K-031490, 1 K-044834, 46.5ms\n",
      "Speed: 2.0ms preprocess, 46.5ms inference, 2.0ms postprocess per image at shape (1, 3, 384, 640)\n",
      "\n",
      "0: 384x640 1 K-004378, 1 K-031490, 1 K-044834, 45.5ms\n",
      "Speed: 2.0ms preprocess, 45.5ms inference, 3.0ms postprocess per image at shape (1, 3, 384, 640)\n",
      "\n",
      "0: 384x640 1 K-004378, 1 K-031490, 1 K-044834, 47.0ms\n"
     ]
    },
    {
     "name": "stdout",
     "output_type": "stream",
     "text": [
      "Time to process 1 frame: 68 milliseconds\n",
      "Time to process 1 frame: 67 milliseconds\n",
      "Time to process 1 frame: 67 milliseconds\n"
     ]
    },
    {
     "name": "stderr",
     "output_type": "stream",
     "text": [
      "Speed: 2.0ms preprocess, 47.0ms inference, 3.0ms postprocess per image at shape (1, 3, 384, 640)\n",
      "\n",
      "0: 384x640 1 K-004378, 2 K-031490s, 46.0ms\n",
      "Speed: 2.0ms preprocess, 46.0ms inference, 3.0ms postprocess per image at shape (1, 3, 384, 640)\n",
      "\n",
      "0: 384x640 1 K-004378, 2 K-031490s, 46.5ms\n",
      "Speed: 2.0ms preprocess, 46.5ms inference, 2.0ms postprocess per image at shape (1, 3, 384, 640)\n",
      "\n",
      "0: 384x640 1 K-004378, 2 K-031490s, 46.4ms\n"
     ]
    },
    {
     "name": "stdout",
     "output_type": "stream",
     "text": [
      "Time to process 1 frame: 67 milliseconds\n",
      "Time to process 1 frame: 66 milliseconds\n",
      "Time to process 1 frame: 65 milliseconds\n"
     ]
    },
    {
     "name": "stderr",
     "output_type": "stream",
     "text": [
      "Speed: 2.0ms preprocess, 46.4ms inference, 2.0ms postprocess per image at shape (1, 3, 384, 640)\n",
      "\n",
      "0: 384x640 1 K-004378, 1 K-031490, 1 K-044834, 47.0ms\n",
      "Speed: 3.0ms preprocess, 47.0ms inference, 2.0ms postprocess per image at shape (1, 3, 384, 640)\n",
      "\n",
      "0: 384x640 1 K-004378, 1 K-031490, 1 K-044834, 46.1ms\n",
      "Speed: 2.0ms preprocess, 46.1ms inference, 2.0ms postprocess per image at shape (1, 3, 384, 640)\n",
      "\n"
     ]
    },
    {
     "name": "stdout",
     "output_type": "stream",
     "text": [
      "Time to process 1 frame: 66 milliseconds\n",
      "Time to process 1 frame: 68 milliseconds\n",
      "Time to process 1 frame: 66 milliseconds\n"
     ]
    },
    {
     "name": "stderr",
     "output_type": "stream",
     "text": [
      "0: 384x640 1 K-004378, 1 K-031490, 1 K-044834, 46.5ms\n",
      "Speed: 2.0ms preprocess, 46.5ms inference, 3.0ms postprocess per image at shape (1, 3, 384, 640)\n",
      "\n",
      "0: 384x640 1 K-004378, 1 K-031490, 1 K-044834, 47.0ms\n",
      "Speed: 2.0ms preprocess, 47.0ms inference, 2.0ms postprocess per image at shape (1, 3, 384, 640)\n",
      "\n",
      "0: 384x640 1 K-004378, 1 K-031490, 1 K-044834, 47.0ms\n",
      "Speed: 2.0ms preprocess, 47.0ms inference, 2.0ms postprocess per image at shape (1, 3, 384, 640)\n",
      "\n"
     ]
    },
    {
     "name": "stdout",
     "output_type": "stream",
     "text": [
      "Time to process 1 frame: 66 milliseconds\n",
      "Time to process 1 frame: 70 milliseconds\n",
      "Time to process 1 frame: 69 milliseconds\n"
     ]
    },
    {
     "name": "stderr",
     "output_type": "stream",
     "text": [
      "0: 384x640 1 K-004378, 1 K-031490, 47.5ms\n",
      "Speed: 2.0ms preprocess, 47.5ms inference, 3.0ms postprocess per image at shape (1, 3, 384, 640)\n",
      "\n",
      "0: 384x640 1 K-004378, 1 K-031490, 45.1ms\n",
      "Speed: 2.0ms preprocess, 45.1ms inference, 2.0ms postprocess per image at shape (1, 3, 384, 640)\n",
      "\n",
      "0: 384x640 1 K-004378, 1 K-031490, 1 K-044834, 47.0ms\n",
      "Speed: 2.0ms preprocess, 47.0ms inference, 3.0ms postprocess per image at shape (1, 3, 384, 640)\n",
      "\n"
     ]
    },
    {
     "name": "stdout",
     "output_type": "stream",
     "text": [
      "Time to process 1 frame: 68 milliseconds\n",
      "Time to process 1 frame: 69 milliseconds\n",
      "Time to process 1 frame: 68 milliseconds\n"
     ]
    },
    {
     "name": "stderr",
     "output_type": "stream",
     "text": [
      "0: 384x640 1 K-006697, 2 K-031490s, 46.2ms\n",
      "Speed: 2.0ms preprocess, 46.2ms inference, 2.0ms postprocess per image at shape (1, 3, 384, 640)\n",
      "\n",
      "0: 384x640 1 K-006697, 2 K-031490s, 46.5ms\n",
      "Speed: 2.0ms preprocess, 46.5ms inference, 2.0ms postprocess per image at shape (1, 3, 384, 640)\n",
      "\n",
      "0: 384x640 1 K-006697, 2 K-031490s, 47.0ms\n",
      "Speed: 2.0ms preprocess, 47.0ms inference, 2.0ms postprocess per image at shape (1, 3, 384, 640)\n",
      "\n"
     ]
    },
    {
     "name": "stdout",
     "output_type": "stream",
     "text": [
      "Time to process 1 frame: 66 milliseconds\n",
      "Time to process 1 frame: 67 milliseconds\n",
      "Time to process 1 frame: 68 milliseconds\n"
     ]
    },
    {
     "name": "stderr",
     "output_type": "stream",
     "text": [
      "0: 384x640 1 K-006697, 3 K-031490s, 46.0ms\n",
      "Speed: 2.0ms preprocess, 46.0ms inference, 3.0ms postprocess per image at shape (1, 3, 384, 640)\n",
      "\n",
      "0: 384x640 1 K-006697, 3 K-031490s, 46.5ms\n",
      "Speed: 2.0ms preprocess, 46.5ms inference, 2.0ms postprocess per image at shape (1, 3, 384, 640)\n",
      "\n",
      "0: 384x640 1 K-006697, 3 K-031490s, 46.8ms\n",
      "Speed: 2.0ms preprocess, 46.8ms inference, 2.1ms postprocess per image at shape (1, 3, 384, 640)\n",
      "\n",
      "0: 384x640 1 K-006697, 2 K-031490s, 47.0ms\n"
     ]
    },
    {
     "name": "stdout",
     "output_type": "stream",
     "text": [
      "Time to process 1 frame: 68 milliseconds\n",
      "Time to process 1 frame: 68 milliseconds\n",
      "Time to process 1 frame: 68 milliseconds\n"
     ]
    },
    {
     "name": "stderr",
     "output_type": "stream",
     "text": [
      "Speed: 2.0ms preprocess, 47.0ms inference, 3.0ms postprocess per image at shape (1, 3, 384, 640)\n",
      "\n",
      "0: 384x640 1 K-006697, 2 K-031490s, 46.5ms\n",
      "Speed: 2.0ms preprocess, 46.5ms inference, 3.0ms postprocess per image at shape (1, 3, 384, 640)\n",
      "\n",
      "0: 384x640 2 K-031490s, 46.5ms\n",
      "Speed: 2.0ms preprocess, 46.5ms inference, 2.0ms postprocess per image at shape (1, 3, 384, 640)\n",
      "\n"
     ]
    },
    {
     "name": "stdout",
     "output_type": "stream",
     "text": [
      "Time to process 1 frame: 68 milliseconds\n",
      "Time to process 1 frame: 73 milliseconds\n",
      "Time to process 1 frame: 68 milliseconds\n"
     ]
    },
    {
     "name": "stderr",
     "output_type": "stream",
     "text": [
      "0: 384x640 2 K-031490s, 46.7ms\n",
      "Speed: 2.0ms preprocess, 46.7ms inference, 3.0ms postprocess per image at shape (1, 3, 384, 640)\n",
      "\n",
      "0: 384x640 2 K-031490s, 45.6ms\n",
      "Speed: 3.0ms preprocess, 45.6ms inference, 3.0ms postprocess per image at shape (1, 3, 384, 640)\n",
      "\n",
      "0: 384x640 2 K-031490s, 46.5ms\n",
      "Speed: 2.0ms preprocess, 46.5ms inference, 2.0ms postprocess per image at shape (1, 3, 384, 640)\n",
      "\n",
      "0: 384x640 2 K-031490s, 47.5ms\n"
     ]
    },
    {
     "name": "stdout",
     "output_type": "stream",
     "text": [
      "Time to process 1 frame: 68 milliseconds\n",
      "Time to process 1 frame: 68 milliseconds\n",
      "Time to process 1 frame: 67 milliseconds\n"
     ]
    },
    {
     "name": "stderr",
     "output_type": "stream",
     "text": [
      "Speed: 2.0ms preprocess, 47.5ms inference, 2.6ms postprocess per image at shape (1, 3, 384, 640)\n",
      "\n",
      "0: 384x640 2 K-031490s, 47.0ms\n",
      "Speed: 2.0ms preprocess, 47.0ms inference, 2.0ms postprocess per image at shape (1, 3, 384, 640)\n",
      "\n",
      "0: 384x640 2 K-031490s, 46.5ms\n",
      "Speed: 2.0ms preprocess, 46.5ms inference, 2.0ms postprocess per image at shape (1, 3, 384, 640)\n",
      "\n"
     ]
    },
    {
     "name": "stdout",
     "output_type": "stream",
     "text": [
      "Time to process 1 frame: 67 milliseconds\n",
      "Time to process 1 frame: 68 milliseconds\n",
      "Time to process 1 frame: 70 milliseconds\n"
     ]
    },
    {
     "name": "stderr",
     "output_type": "stream",
     "text": [
      "0: 384x640 2 K-031490s, 46.5ms\n",
      "Speed: 2.0ms preprocess, 46.5ms inference, 3.0ms postprocess per image at shape (1, 3, 384, 640)\n",
      "\n",
      "0: 384x640 2 K-031490s, 47.0ms\n",
      "Speed: 2.0ms preprocess, 47.0ms inference, 2.0ms postprocess per image at shape (1, 3, 384, 640)\n",
      "\n",
      "0: 384x640 2 K-031490s, 47.0ms\n",
      "Speed: 2.0ms preprocess, 47.0ms inference, 2.0ms postprocess per image at shape (1, 3, 384, 640)\n",
      "\n"
     ]
    },
    {
     "name": "stdout",
     "output_type": "stream",
     "text": [
      "Time to process 1 frame: 66 milliseconds\n",
      "Time to process 1 frame: 69 milliseconds\n",
      "Time to process 1 frame: 67 milliseconds\n"
     ]
    },
    {
     "name": "stderr",
     "output_type": "stream",
     "text": [
      "0: 384x640 2 K-031490s, 45.5ms\n",
      "Speed: 1.0ms preprocess, 45.5ms inference, 4.0ms postprocess per image at shape (1, 3, 384, 640)\n",
      "\n",
      "0: 384x640 2 K-031490s, 45.5ms\n",
      "Speed: 3.0ms preprocess, 45.5ms inference, 2.6ms postprocess per image at shape (1, 3, 384, 640)\n",
      "\n",
      "0: 384x640 2 K-031490s, 46.0ms\n",
      "Speed: 2.0ms preprocess, 46.0ms inference, 4.0ms postprocess per image at shape (1, 3, 384, 640)\n",
      "\n",
      "0: 384x640 3 K-031490s, 1 K-044834, 46.5ms\n"
     ]
    },
    {
     "name": "stdout",
     "output_type": "stream",
     "text": [
      "Time to process 1 frame: 68 milliseconds\n",
      "Time to process 1 frame: 67 milliseconds\n",
      "Time to process 1 frame: 68 milliseconds\n"
     ]
    },
    {
     "name": "stderr",
     "output_type": "stream",
     "text": [
      "Speed: 2.0ms preprocess, 46.5ms inference, 2.0ms postprocess per image at shape (1, 3, 384, 640)\n",
      "\n",
      "0: 384x640 2 K-031490s, 1 K-044834, 46.5ms\n",
      "Speed: 2.0ms preprocess, 46.5ms inference, 2.0ms postprocess per image at shape (1, 3, 384, 640)\n",
      "\n",
      "0: 384x640 3 K-031490s, 1 K-044834, 47.0ms\n",
      "Speed: 2.0ms preprocess, 47.0ms inference, 3.0ms postprocess per image at shape (1, 3, 384, 640)\n",
      "\n"
     ]
    },
    {
     "name": "stdout",
     "output_type": "stream",
     "text": [
      "Time to process 1 frame: 66 milliseconds\n",
      "Time to process 1 frame: 67 milliseconds\n",
      "Time to process 1 frame: 66 milliseconds\n"
     ]
    },
    {
     "name": "stderr",
     "output_type": "stream",
     "text": [
      "0: 384x640 2 K-031490s, 46.0ms\n",
      "Speed: 3.0ms preprocess, 46.0ms inference, 3.0ms postprocess per image at shape (1, 3, 384, 640)\n",
      "\n",
      "0: 384x640 2 K-031490s, 45.5ms\n",
      "Speed: 3.0ms preprocess, 45.5ms inference, 3.0ms postprocess per image at shape (1, 3, 384, 640)\n",
      "\n",
      "0: 384x640 2 K-031490s, 46.0ms\n",
      "Speed: 2.0ms preprocess, 46.0ms inference, 4.5ms postprocess per image at shape (1, 3, 384, 640)\n",
      "\n",
      "0: 384x640 2 K-031490s, 46.0ms\n"
     ]
    },
    {
     "name": "stdout",
     "output_type": "stream",
     "text": [
      "Time to process 1 frame: 69 milliseconds\n",
      "Time to process 1 frame: 67 milliseconds\n",
      "Time to process 1 frame: 69 milliseconds\n"
     ]
    },
    {
     "name": "stderr",
     "output_type": "stream",
     "text": [
      "Speed: 2.0ms preprocess, 46.0ms inference, 3.0ms postprocess per image at shape (1, 3, 384, 640)\n",
      "\n",
      "0: 384x640 2 K-031490s, 46.5ms\n",
      "Speed: 3.0ms preprocess, 46.5ms inference, 2.0ms postprocess per image at shape (1, 3, 384, 640)\n",
      "\n",
      "0: 384x640 2 K-031490s, 46.5ms\n",
      "Speed: 2.0ms preprocess, 46.5ms inference, 2.0ms postprocess per image at shape (1, 3, 384, 640)\n",
      "\n"
     ]
    },
    {
     "name": "stdout",
     "output_type": "stream",
     "text": [
      "Time to process 1 frame: 68 milliseconds\n",
      "Time to process 1 frame: 68 milliseconds\n",
      "Time to process 1 frame: 66 milliseconds\n"
     ]
    },
    {
     "name": "stderr",
     "output_type": "stream",
     "text": [
      "0: 384x640 2 K-031490s, 48.0ms\n",
      "Speed: 2.0ms preprocess, 48.0ms inference, 2.0ms postprocess per image at shape (1, 3, 384, 640)\n",
      "\n",
      "0: 384x640 2 K-031490s, 46.0ms\n",
      "Speed: 2.0ms preprocess, 46.0ms inference, 3.0ms postprocess per image at shape (1, 3, 384, 640)\n",
      "\n",
      "0: 384x640 1 K-004378, 2 K-031490s, 46.1ms\n",
      "Speed: 2.0ms preprocess, 46.1ms inference, 3.0ms postprocess per image at shape (1, 3, 384, 640)\n",
      "\n"
     ]
    },
    {
     "name": "stdout",
     "output_type": "stream",
     "text": [
      "Time to process 1 frame: 70 milliseconds\n",
      "Time to process 1 frame: 67 milliseconds\n",
      "Time to process 1 frame: 67 milliseconds\n"
     ]
    },
    {
     "name": "stderr",
     "output_type": "stream",
     "text": [
      "0: 384x640 2 K-031490s, 47.0ms\n",
      "Speed: 2.0ms preprocess, 47.0ms inference, 3.0ms postprocess per image at shape (1, 3, 384, 640)\n",
      "\n",
      "0: 384x640 2 K-031490s, 47.0ms\n",
      "Speed: 1.6ms preprocess, 47.0ms inference, 3.0ms postprocess per image at shape (1, 3, 384, 640)\n",
      "\n",
      "0: 384x640 2 K-031490s, 46.5ms\n",
      "Speed: 3.0ms preprocess, 46.5ms inference, 2.0ms postprocess per image at shape (1, 3, 384, 640)\n",
      "\n",
      "0: 384x640 2 K-031490s, 46.5ms\n"
     ]
    },
    {
     "name": "stdout",
     "output_type": "stream",
     "text": [
      "Time to process 1 frame: 65 milliseconds\n",
      "Time to process 1 frame: 62 milliseconds\n",
      "Time to process 1 frame: 67 milliseconds\n"
     ]
    },
    {
     "name": "stderr",
     "output_type": "stream",
     "text": [
      "Speed: 2.0ms preprocess, 46.5ms inference, 3.0ms postprocess per image at shape (1, 3, 384, 640)\n",
      "\n",
      "0: 384x640 2 K-031490s, 45.5ms\n",
      "Speed: 2.0ms preprocess, 45.5ms inference, 2.0ms postprocess per image at shape (1, 3, 384, 640)\n",
      "\n",
      "0: 384x640 2 K-031490s, 46.5ms\n",
      "Speed: 2.0ms preprocess, 46.5ms inference, 2.0ms postprocess per image at shape (1, 3, 384, 640)\n",
      "\n",
      "0: 384x640 2 K-031490s, 45.5ms\n"
     ]
    },
    {
     "name": "stdout",
     "output_type": "stream",
     "text": [
      "Time to process 1 frame: 66 milliseconds\n",
      "Time to process 1 frame: 65 milliseconds\n",
      "Time to process 1 frame: 65 milliseconds\n"
     ]
    },
    {
     "name": "stderr",
     "output_type": "stream",
     "text": [
      "Speed: 2.0ms preprocess, 45.5ms inference, 2.0ms postprocess per image at shape (1, 3, 384, 640)\n",
      "\n",
      "0: 384x640 2 K-031490s, 47.0ms\n",
      "Speed: 2.0ms preprocess, 47.0ms inference, 2.0ms postprocess per image at shape (1, 3, 384, 640)\n",
      "\n",
      "0: 384x640 2 K-031490s, 47.4ms\n",
      "Speed: 1.3ms preprocess, 47.4ms inference, 2.0ms postprocess per image at shape (1, 3, 384, 640)\n",
      "\n"
     ]
    },
    {
     "name": "stdout",
     "output_type": "stream",
     "text": [
      "Time to process 1 frame: 66 milliseconds\n",
      "Time to process 1 frame: 67 milliseconds\n",
      "Time to process 1 frame: 66 milliseconds\n"
     ]
    },
    {
     "name": "stderr",
     "output_type": "stream",
     "text": [
      "0: 384x640 2 K-031490s, 46.5ms\n",
      "Speed: 2.0ms preprocess, 46.5ms inference, 4.0ms postprocess per image at shape (1, 3, 384, 640)\n",
      "\n",
      "0: 384x640 2 K-031490s, 46.0ms\n",
      "Speed: 2.0ms preprocess, 46.0ms inference, 2.0ms postprocess per image at shape (1, 3, 384, 640)\n",
      "\n",
      "0: 384x640 2 K-031490s, 46.0ms\n",
      "Speed: 2.0ms preprocess, 46.0ms inference, 2.0ms postprocess per image at shape (1, 3, 384, 640)\n",
      "\n"
     ]
    },
    {
     "name": "stdout",
     "output_type": "stream",
     "text": [
      "Time to process 1 frame: 67 milliseconds\n",
      "Time to process 1 frame: 65 milliseconds\n",
      "Time to process 1 frame: 65 milliseconds\n"
     ]
    },
    {
     "name": "stderr",
     "output_type": "stream",
     "text": [
      "0: 384x640 2 K-031490s, 45.5ms\n",
      "Speed: 3.0ms preprocess, 45.5ms inference, 3.0ms postprocess per image at shape (1, 3, 384, 640)\n",
      "\n",
      "0: 384x640 2 K-031490s, 47.0ms\n",
      "Speed: 2.0ms preprocess, 47.0ms inference, 2.0ms postprocess per image at shape (1, 3, 384, 640)\n",
      "\n",
      "0: 384x640 1 K-004378, 2 K-031490s, 47.0ms\n",
      "Speed: 3.0ms preprocess, 47.0ms inference, 2.0ms postprocess per image at shape (1, 3, 384, 640)\n",
      "\n"
     ]
    },
    {
     "name": "stdout",
     "output_type": "stream",
     "text": [
      "Time to process 1 frame: 66 milliseconds\n",
      "Time to process 1 frame: 66 milliseconds\n",
      "Time to process 1 frame: 69 milliseconds\n"
     ]
    },
    {
     "name": "stderr",
     "output_type": "stream",
     "text": [
      "0: 384x640 1 K-004378, 2 K-031490s, 45.6ms\n",
      "Speed: 3.0ms preprocess, 45.6ms inference, 3.0ms postprocess per image at shape (1, 3, 384, 640)\n",
      "\n",
      "0: 384x640 2 K-031490s, 45.5ms\n",
      "Speed: 2.0ms preprocess, 45.5ms inference, 3.0ms postprocess per image at shape (1, 3, 384, 640)\n",
      "\n",
      "0: 384x640 1 K-004378, 2 K-031490s, 46.6ms\n",
      "Speed: 2.0ms preprocess, 46.6ms inference, 3.0ms postprocess per image at shape (1, 3, 384, 640)\n",
      "\n",
      "0: 384x640 2 K-031490s, 46.5ms\n"
     ]
    },
    {
     "name": "stdout",
     "output_type": "stream",
     "text": [
      "Time to process 1 frame: 68 milliseconds\n",
      "Time to process 1 frame: 66 milliseconds\n",
      "Time to process 1 frame: 68 milliseconds\n"
     ]
    },
    {
     "name": "stderr",
     "output_type": "stream",
     "text": [
      "Speed: 2.0ms preprocess, 46.5ms inference, 3.0ms postprocess per image at shape (1, 3, 384, 640)\n",
      "\n",
      "0: 384x640 1 K-004378, 2 K-031490s, 46.5ms\n",
      "Speed: 2.0ms preprocess, 46.5ms inference, 3.0ms postprocess per image at shape (1, 3, 384, 640)\n",
      "\n",
      "0: 384x640 2 K-031490s, 46.0ms\n",
      "Speed: 2.0ms preprocess, 46.0ms inference, 3.0ms postprocess per image at shape (1, 3, 384, 640)\n",
      "\n"
     ]
    },
    {
     "name": "stdout",
     "output_type": "stream",
     "text": [
      "Time to process 1 frame: 66 milliseconds\n",
      "Time to process 1 frame: 67 milliseconds\n",
      "Time to process 1 frame: 66 milliseconds\n"
     ]
    },
    {
     "name": "stderr",
     "output_type": "stream",
     "text": [
      "0: 384x640 2 K-031490s, 46.0ms\n",
      "Speed: 3.0ms preprocess, 46.0ms inference, 3.0ms postprocess per image at shape (1, 3, 384, 640)\n",
      "\n",
      "0: 384x640 1 K-004378, 2 K-031490s, 46.3ms\n",
      "Speed: 3.0ms preprocess, 46.3ms inference, 2.1ms postprocess per image at shape (1, 3, 384, 640)\n",
      "\n",
      "0: 384x640 2 K-031490s, 47.0ms\n",
      "Speed: 2.0ms preprocess, 47.0ms inference, 2.0ms postprocess per image at shape (1, 3, 384, 640)\n",
      "\n",
      "0: 384x640 2 K-031490s, 48.0ms\n"
     ]
    },
    {
     "name": "stdout",
     "output_type": "stream",
     "text": [
      "Time to process 1 frame: 68 milliseconds\n",
      "Time to process 1 frame: 66 milliseconds\n",
      "Time to process 1 frame: 66 milliseconds\n"
     ]
    },
    {
     "name": "stderr",
     "output_type": "stream",
     "text": [
      "Speed: 2.0ms preprocess, 48.0ms inference, 2.0ms postprocess per image at shape (1, 3, 384, 640)\n",
      "\n",
      "0: 384x640 2 K-031490s, 46.5ms\n",
      "Speed: 2.0ms preprocess, 46.5ms inference, 3.0ms postprocess per image at shape (1, 3, 384, 640)\n",
      "\n",
      "0: 384x640 3 K-031490s, 46.5ms\n",
      "Speed: 1.0ms preprocess, 46.5ms inference, 3.0ms postprocess per image at shape (1, 3, 384, 640)\n",
      "\n",
      "0: 384x640 2 K-031490s, 1 K-044834, 46.0ms\n"
     ]
    },
    {
     "name": "stdout",
     "output_type": "stream",
     "text": [
      "Time to process 1 frame: 68 milliseconds\n",
      "Time to process 1 frame: 66 milliseconds\n",
      "Time to process 1 frame: 65 milliseconds\n"
     ]
    },
    {
     "name": "stderr",
     "output_type": "stream",
     "text": [
      "Speed: 2.0ms preprocess, 46.0ms inference, 3.0ms postprocess per image at shape (1, 3, 384, 640)\n",
      "\n",
      "0: 384x640 2 K-031490s, 1 K-044834, 46.5ms\n",
      "Speed: 2.0ms preprocess, 46.5ms inference, 2.0ms postprocess per image at shape (1, 3, 384, 640)\n",
      "\n",
      "0: 384x640 3 K-031490s, 46.5ms\n",
      "Speed: 2.0ms preprocess, 46.5ms inference, 3.0ms postprocess per image at shape (1, 3, 384, 640)\n",
      "\n"
     ]
    },
    {
     "name": "stdout",
     "output_type": "stream",
     "text": [
      "Time to process 1 frame: 65 milliseconds\n",
      "Time to process 1 frame: 65 milliseconds\n",
      "Time to process 1 frame: 68 milliseconds\n"
     ]
    },
    {
     "name": "stderr",
     "output_type": "stream",
     "text": [
      "0: 384x640 1 K-006697, 3 K-031490s, 47.0ms\n",
      "Speed: 1.6ms preprocess, 47.0ms inference, 2.0ms postprocess per image at shape (1, 3, 384, 640)\n",
      "\n",
      "0: 384x640 3 K-031490s, 46.0ms\n",
      "Speed: 2.0ms preprocess, 46.0ms inference, 3.0ms postprocess per image at shape (1, 3, 384, 640)\n",
      "\n",
      "0: 384x640 3 K-031490s, 46.5ms\n",
      "Speed: 2.0ms preprocess, 46.5ms inference, 2.0ms postprocess per image at shape (1, 3, 384, 640)\n",
      "\n"
     ]
    },
    {
     "name": "stdout",
     "output_type": "stream",
     "text": [
      "Time to process 1 frame: 64 milliseconds\n",
      "Time to process 1 frame: 66 milliseconds\n",
      "Time to process 1 frame: 66 milliseconds\n"
     ]
    },
    {
     "name": "stderr",
     "output_type": "stream",
     "text": [
      "0: 384x640 3 K-031490s, 46.0ms\n",
      "Speed: 2.0ms preprocess, 46.0ms inference, 3.0ms postprocess per image at shape (1, 3, 384, 640)\n",
      "\n",
      "0: 384x640 3 K-031490s, 46.0ms\n",
      "Speed: 2.0ms preprocess, 46.0ms inference, 3.0ms postprocess per image at shape (1, 3, 384, 640)\n",
      "\n",
      "0: 384x640 3 K-031490s, 45.5ms\n",
      "Speed: 2.0ms preprocess, 45.5ms inference, 2.0ms postprocess per image at shape (1, 3, 384, 640)\n",
      "\n"
     ]
    },
    {
     "name": "stdout",
     "output_type": "stream",
     "text": [
      "Time to process 1 frame: 65 milliseconds\n",
      "Time to process 1 frame: 65 milliseconds\n",
      "Time to process 1 frame: 65 milliseconds\n"
     ]
    },
    {
     "name": "stderr",
     "output_type": "stream",
     "text": [
      "0: 384x640 3 K-031490s, 47.0ms\n",
      "Speed: 2.0ms preprocess, 47.0ms inference, 3.0ms postprocess per image at shape (1, 3, 384, 640)\n",
      "\n",
      "0: 384x640 1 K-006697, 3 K-031490s, 46.9ms\n",
      "Speed: 2.0ms preprocess, 46.9ms inference, 2.0ms postprocess per image at shape (1, 3, 384, 640)\n",
      "\n",
      "0: 384x640 3 K-031490s, 46.5ms\n",
      "Speed: 2.0ms preprocess, 46.5ms inference, 2.0ms postprocess per image at shape (1, 3, 384, 640)\n",
      "\n"
     ]
    },
    {
     "name": "stdout",
     "output_type": "stream",
     "text": [
      "Time to process 1 frame: 67 milliseconds\n",
      "Time to process 1 frame: 66 milliseconds\n",
      "Time to process 1 frame: 66 milliseconds\n"
     ]
    },
    {
     "name": "stderr",
     "output_type": "stream",
     "text": [
      "0: 384x640 1 K-006697, 3 K-031490s, 45.5ms\n",
      "Speed: 2.0ms preprocess, 45.5ms inference, 3.0ms postprocess per image at shape (1, 3, 384, 640)\n",
      "\n",
      "0: 384x640 1 K-006697, 3 K-031490s, 46.0ms\n",
      "Speed: 2.0ms preprocess, 46.0ms inference, 3.0ms postprocess per image at shape (1, 3, 384, 640)\n",
      "\n",
      "0: 384x640 1 K-006697, 4 K-031490s, 47.0ms\n",
      "Speed: 1.5ms preprocess, 47.0ms inference, 2.0ms postprocess per image at shape (1, 3, 384, 640)\n",
      "\n"
     ]
    },
    {
     "name": "stdout",
     "output_type": "stream",
     "text": [
      "Time to process 1 frame: 67 milliseconds\n",
      "Time to process 1 frame: 65 milliseconds\n",
      "Time to process 1 frame: 69 milliseconds\n"
     ]
    },
    {
     "name": "stderr",
     "output_type": "stream",
     "text": [
      "0: 384x640 3 K-031490s, 46.5ms\n",
      "Speed: 2.0ms preprocess, 46.5ms inference, 3.0ms postprocess per image at shape (1, 3, 384, 640)\n",
      "\n",
      "0: 384x640 3 K-031490s, 46.0ms\n",
      "Speed: 2.0ms preprocess, 46.0ms inference, 3.0ms postprocess per image at shape (1, 3, 384, 640)\n",
      "\n",
      "0: 384x640 3 K-031490s, 46.5ms\n",
      "Speed: 2.0ms preprocess, 46.5ms inference, 2.0ms postprocess per image at shape (1, 3, 384, 640)\n",
      "\n"
     ]
    },
    {
     "name": "stdout",
     "output_type": "stream",
     "text": [
      "Time to process 1 frame: 69 milliseconds\n",
      "Time to process 1 frame: 66 milliseconds\n",
      "Time to process 1 frame: 66 milliseconds\n"
     ]
    },
    {
     "name": "stderr",
     "output_type": "stream",
     "text": [
      "0: 384x640 3 K-031490s, 46.3ms\n",
      "Speed: 2.0ms preprocess, 46.3ms inference, 3.0ms postprocess per image at shape (1, 3, 384, 640)\n",
      "\n",
      "0: 384x640 4 K-031490s, 46.0ms\n",
      "Speed: 2.0ms preprocess, 46.0ms inference, 2.5ms postprocess per image at shape (1, 3, 384, 640)\n",
      "\n",
      "0: 384x640 4 K-031490s, 45.0ms\n",
      "Speed: 3.0ms preprocess, 45.0ms inference, 3.0ms postprocess per image at shape (1, 3, 384, 640)\n",
      "\n",
      "0: 384x640 4 K-031490s, 47.2ms\n"
     ]
    },
    {
     "name": "stdout",
     "output_type": "stream",
     "text": [
      "Time to process 1 frame: 65 milliseconds\n",
      "Time to process 1 frame: 66 milliseconds\n",
      "Time to process 1 frame: 65 milliseconds\n"
     ]
    },
    {
     "name": "stderr",
     "output_type": "stream",
     "text": [
      "Speed: 1.0ms preprocess, 47.2ms inference, 2.0ms postprocess per image at shape (1, 3, 384, 640)\n",
      "\n",
      "0: 384x640 4 K-031490s, 45.5ms\n",
      "Speed: 2.0ms preprocess, 45.5ms inference, 3.0ms postprocess per image at shape (1, 3, 384, 640)\n",
      "\n",
      "0: 384x640 3 K-031490s, 1 K-044834, 47.0ms\n",
      "Speed: 2.0ms preprocess, 47.0ms inference, 2.0ms postprocess per image at shape (1, 3, 384, 640)\n",
      "\n"
     ]
    },
    {
     "name": "stdout",
     "output_type": "stream",
     "text": [
      "Time to process 1 frame: 66 milliseconds\n",
      "Time to process 1 frame: 65 milliseconds\n",
      "Time to process 1 frame: 66 milliseconds\n"
     ]
    },
    {
     "name": "stderr",
     "output_type": "stream",
     "text": [
      "0: 384x640 4 K-031490s, 46.4ms\n",
      "Speed: 2.0ms preprocess, 46.4ms inference, 3.0ms postprocess per image at shape (1, 3, 384, 640)\n",
      "\n",
      "0: 384x640 3 K-031490s, 1 K-044834, 46.5ms\n",
      "Speed: 2.0ms preprocess, 46.5ms inference, 3.0ms postprocess per image at shape (1, 3, 384, 640)\n",
      "\n",
      "0: 384x640 4 K-031490s, 46.0ms\n",
      "Speed: 2.0ms preprocess, 46.0ms inference, 3.0ms postprocess per image at shape (1, 3, 384, 640)\n",
      "\n"
     ]
    },
    {
     "name": "stdout",
     "output_type": "stream",
     "text": [
      "Time to process 1 frame: 70 milliseconds\n",
      "Time to process 1 frame: 66 milliseconds\n",
      "Time to process 1 frame: 65 milliseconds\n"
     ]
    },
    {
     "name": "stderr",
     "output_type": "stream",
     "text": [
      "0: 384x640 3 K-031490s, 47.0ms\n",
      "Speed: 3.0ms preprocess, 47.0ms inference, 3.0ms postprocess per image at shape (1, 3, 384, 640)\n",
      "\n",
      "0: 384x640 3 K-031490s, 46.5ms\n",
      "Speed: 2.0ms preprocess, 46.5ms inference, 2.0ms postprocess per image at shape (1, 3, 384, 640)\n",
      "\n",
      "0: 384x640 3 K-031490s, 46.5ms\n",
      "Speed: 2.0ms preprocess, 46.5ms inference, 3.0ms postprocess per image at shape (1, 3, 384, 640)\n",
      "\n",
      "0: 384x640 3 K-031490s, 46.0ms\n"
     ]
    },
    {
     "name": "stdout",
     "output_type": "stream",
     "text": [
      "Time to process 1 frame: 67 milliseconds\n",
      "Time to process 1 frame: 66 milliseconds\n",
      "Time to process 1 frame: 67 milliseconds\n"
     ]
    },
    {
     "name": "stderr",
     "output_type": "stream",
     "text": [
      "Speed: 3.0ms preprocess, 46.0ms inference, 3.0ms postprocess per image at shape (1, 3, 384, 640)\n",
      "\n",
      "0: 384x640 3 K-031490s, 45.5ms\n",
      "Speed: 2.0ms preprocess, 45.5ms inference, 4.2ms postprocess per image at shape (1, 3, 384, 640)\n",
      "\n",
      "0: 384x640 3 K-031490s, 46.5ms\n",
      "Speed: 2.0ms preprocess, 46.5ms inference, 3.0ms postprocess per image at shape (1, 3, 384, 640)\n",
      "\n"
     ]
    },
    {
     "name": "stdout",
     "output_type": "stream",
     "text": [
      "Time to process 1 frame: 66 milliseconds\n",
      "Time to process 1 frame: 66 milliseconds\n",
      "Time to process 1 frame: 67 milliseconds\n"
     ]
    },
    {
     "name": "stderr",
     "output_type": "stream",
     "text": [
      "0: 384x640 3 K-031490s, 48.0ms\n",
      "Speed: 2.0ms preprocess, 48.0ms inference, 2.0ms postprocess per image at shape (1, 3, 384, 640)\n",
      "\n",
      "0: 384x640 2 K-031490s, 48.0ms\n",
      "Speed: 2.0ms preprocess, 48.0ms inference, 2.0ms postprocess per image at shape (1, 3, 384, 640)\n",
      "\n",
      "0: 384x640 3 K-031490s, 46.5ms\n",
      "Speed: 2.0ms preprocess, 46.5ms inference, 3.0ms postprocess per image at shape (1, 3, 384, 640)\n",
      "\n",
      "0: 384x640 3 K-031490s, 47.0ms\n"
     ]
    },
    {
     "name": "stdout",
     "output_type": "stream",
     "text": [
      "Time to process 1 frame: 66 milliseconds\n",
      "Time to process 1 frame: 64 milliseconds\n",
      "Time to process 1 frame: 66 milliseconds\n"
     ]
    },
    {
     "name": "stderr",
     "output_type": "stream",
     "text": [
      "Speed: 2.0ms preprocess, 47.0ms inference, 2.0ms postprocess per image at shape (1, 3, 384, 640)\n",
      "\n",
      "0: 384x640 3 K-031490s, 46.0ms\n",
      "Speed: 2.0ms preprocess, 46.0ms inference, 3.0ms postprocess per image at shape (1, 3, 384, 640)\n",
      "\n",
      "0: 384x640 1 K-006697, 3 K-031490s, 47.5ms\n",
      "Speed: 2.0ms preprocess, 47.5ms inference, 2.0ms postprocess per image at shape (1, 3, 384, 640)\n",
      "\n"
     ]
    },
    {
     "name": "stdout",
     "output_type": "stream",
     "text": [
      "Time to process 1 frame: 66 milliseconds\n",
      "Time to process 1 frame: 67 milliseconds\n",
      "Time to process 1 frame: 68 milliseconds\n"
     ]
    },
    {
     "name": "stderr",
     "output_type": "stream",
     "text": [
      "0: 384x640 1 K-006697, 3 K-031490s, 46.2ms\n",
      "Speed: 2.0ms preprocess, 46.2ms inference, 2.0ms postprocess per image at shape (1, 3, 384, 640)\n",
      "\n",
      "0: 384x640 3 K-031490s, 47.0ms\n",
      "Speed: 2.0ms preprocess, 47.0ms inference, 2.0ms postprocess per image at shape (1, 3, 384, 640)\n",
      "\n",
      "0: 384x640 3 K-031490s, 46.5ms\n",
      "Speed: 2.0ms preprocess, 46.5ms inference, 3.0ms postprocess per image at shape (1, 3, 384, 640)\n",
      "\n"
     ]
    },
    {
     "name": "stdout",
     "output_type": "stream",
     "text": [
      "Time to process 1 frame: 68 milliseconds\n",
      "Time to process 1 frame: 65 milliseconds\n",
      "Time to process 1 frame: 66 milliseconds\n"
     ]
    },
    {
     "name": "stderr",
     "output_type": "stream",
     "text": [
      "0: 384x640 3 K-031490s, 46.5ms\n",
      "Speed: 2.0ms preprocess, 46.5ms inference, 4.0ms postprocess per image at shape (1, 3, 384, 640)\n",
      "\n",
      "0: 384x640 1 K-004378, 3 K-031490s, 47.0ms\n",
      "Speed: 2.0ms preprocess, 47.0ms inference, 2.0ms postprocess per image at shape (1, 3, 384, 640)\n",
      "\n",
      "0: 384x640 4 K-031490s, 47.0ms\n",
      "Speed: 2.0ms preprocess, 47.0ms inference, 4.0ms postprocess per image at shape (1, 3, 384, 640)\n",
      "\n",
      "0: 384x640 1 K-004378, 4 K-031490s, 46.5ms\n"
     ]
    },
    {
     "name": "stdout",
     "output_type": "stream",
     "text": [
      "Time to process 1 frame: 64 milliseconds\n",
      "Time to process 1 frame: 66 milliseconds\n",
      "Time to process 1 frame: 70 milliseconds\n"
     ]
    },
    {
     "name": "stderr",
     "output_type": "stream",
     "text": [
      "Speed: 2.0ms preprocess, 46.5ms inference, 2.0ms postprocess per image at shape (1, 3, 384, 640)\n",
      "\n",
      "0: 384x640 1 K-004378, 4 K-031490s, 46.4ms\n",
      "Speed: 2.0ms preprocess, 46.4ms inference, 2.0ms postprocess per image at shape (1, 3, 384, 640)\n",
      "\n",
      "0: 384x640 1 K-004378, 4 K-031490s, 46.0ms\n",
      "Speed: 2.0ms preprocess, 46.0ms inference, 3.0ms postprocess per image at shape (1, 3, 384, 640)\n",
      "\n"
     ]
    },
    {
     "name": "stdout",
     "output_type": "stream",
     "text": [
      "Time to process 1 frame: 65 milliseconds\n",
      "Time to process 1 frame: 65 milliseconds\n",
      "Time to process 1 frame: 65 milliseconds\n"
     ]
    },
    {
     "name": "stderr",
     "output_type": "stream",
     "text": [
      "0: 384x640 1 K-004378, 4 K-031490s, 46.5ms\n",
      "Speed: 2.0ms preprocess, 46.5ms inference, 3.0ms postprocess per image at shape (1, 3, 384, 640)\n",
      "\n",
      "0: 384x640 1 K-004378, 4 K-031490s, 45.0ms\n",
      "Speed: 2.0ms preprocess, 45.0ms inference, 3.0ms postprocess per image at shape (1, 3, 384, 640)\n",
      "\n",
      "0: 384x640 1 K-006697, 4 K-031490s, 46.0ms\n",
      "Speed: 2.0ms preprocess, 46.0ms inference, 3.0ms postprocess per image at shape (1, 3, 384, 640)\n",
      "\n",
      "0: 384x640 1 K-001901, 1 K-006697, 4 K-031490s, 45.5ms\n"
     ]
    },
    {
     "name": "stdout",
     "output_type": "stream",
     "text": [
      "Time to process 1 frame: 68 milliseconds\n",
      "Time to process 1 frame: 66 milliseconds\n",
      "Time to process 1 frame: 67 milliseconds\n"
     ]
    },
    {
     "name": "stderr",
     "output_type": "stream",
     "text": [
      "Speed: 2.0ms preprocess, 45.5ms inference, 3.0ms postprocess per image at shape (1, 3, 384, 640)\n",
      "\n",
      "0: 384x640 1 K-001901, 1 K-007024, 4 K-031490s, 46.5ms\n",
      "Speed: 2.0ms preprocess, 46.5ms inference, 3.0ms postprocess per image at shape (1, 3, 384, 640)\n",
      "\n",
      "0: 384x640 1 K-001901, 1 K-004378, 1 K-007024, 4 K-031490s, 46.1ms\n",
      "Speed: 2.0ms preprocess, 46.1ms inference, 2.6ms postprocess per image at shape (1, 3, 384, 640)\n",
      "\n"
     ]
    },
    {
     "name": "stdout",
     "output_type": "stream",
     "text": [
      "Time to process 1 frame: 66 milliseconds\n",
      "Time to process 1 frame: 67 milliseconds\n",
      "Time to process 1 frame: 67 milliseconds\n"
     ]
    },
    {
     "name": "stderr",
     "output_type": "stream",
     "text": [
      "0: 384x640 1 K-001901, 1 K-007024, 4 K-031490s, 46.0ms\n",
      "Speed: 2.0ms preprocess, 46.0ms inference, 2.0ms postprocess per image at shape (1, 3, 384, 640)\n",
      "\n",
      "0: 384x640 1 K-001901, 1 K-007024, 4 K-031490s, 46.5ms\n",
      "Speed: 2.0ms preprocess, 46.5ms inference, 3.0ms postprocess per image at shape (1, 3, 384, 640)\n",
      "\n",
      "0: 384x640 1 K-001901, 1 K-006697, 1 K-007024, 4 K-031490s, 46.0ms\n",
      "Speed: 3.0ms preprocess, 46.0ms inference, 3.0ms postprocess per image at shape (1, 3, 384, 640)\n",
      "\n"
     ]
    },
    {
     "name": "stdout",
     "output_type": "stream",
     "text": [
      "Time to process 1 frame: 66 milliseconds\n",
      "Time to process 1 frame: 67 milliseconds\n",
      "Time to process 1 frame: 66 milliseconds\n"
     ]
    },
    {
     "name": "stderr",
     "output_type": "stream",
     "text": [
      "0: 384x640 1 K-001901, 1 K-006697, 4 K-031490s, 46.9ms\n",
      "Speed: 2.0ms preprocess, 46.9ms inference, 3.0ms postprocess per image at shape (1, 3, 384, 640)\n",
      "\n",
      "0: 384x640 1 K-001901, 1 K-006697, 4 K-031490s, 46.2ms\n",
      "Speed: 2.0ms preprocess, 46.2ms inference, 3.0ms postprocess per image at shape (1, 3, 384, 640)\n",
      "\n",
      "0: 384x640 1 K-001901, 1 K-006697, 4 K-031490s, 47.5ms\n",
      "Speed: 2.0ms preprocess, 47.5ms inference, 2.0ms postprocess per image at shape (1, 3, 384, 640)\n",
      "\n",
      "0: 384x640 1 K-001901, 1 K-006697, 4 K-031490s, 45.0ms\n"
     ]
    },
    {
     "name": "stdout",
     "output_type": "stream",
     "text": [
      "Time to process 1 frame: 67 milliseconds\n",
      "Time to process 1 frame: 67 milliseconds\n",
      "Time to process 1 frame: 67 milliseconds\n"
     ]
    },
    {
     "name": "stderr",
     "output_type": "stream",
     "text": [
      "Speed: 2.0ms preprocess, 45.0ms inference, 3.0ms postprocess per image at shape (1, 3, 384, 640)\n",
      "\n",
      "0: 384x640 1 K-001901, 1 K-006697, 4 K-031490s, 47.1ms\n",
      "Speed: 1.6ms preprocess, 47.1ms inference, 2.0ms postprocess per image at shape (1, 3, 384, 640)\n",
      "\n",
      "0: 384x640 1 K-001901, 1 K-006697, 4 K-031490s, 46.5ms\n",
      "Speed: 3.0ms preprocess, 46.5ms inference, 3.0ms postprocess per image at shape (1, 3, 384, 640)\n",
      "\n",
      "0: 384x640 1 K-001901, 1 K-006697, 4 K-031490s, 46.0ms\n"
     ]
    },
    {
     "name": "stdout",
     "output_type": "stream",
     "text": [
      "Time to process 1 frame: 65 milliseconds\n",
      "Time to process 1 frame: 63 milliseconds\n",
      "Time to process 1 frame: 68 milliseconds\n"
     ]
    },
    {
     "name": "stderr",
     "output_type": "stream",
     "text": [
      "Speed: 2.0ms preprocess, 46.0ms inference, 2.0ms postprocess per image at shape (1, 3, 384, 640)\n",
      "\n",
      "0: 384x640 1 K-001901, 1 K-006697, 4 K-031490s, 46.0ms\n",
      "Speed: 1.0ms preprocess, 46.0ms inference, 3.0ms postprocess per image at shape (1, 3, 384, 640)\n",
      "\n",
      "0: 384x640 1 K-001901, 1 K-006697, 4 K-031490s, 46.5ms\n",
      "Speed: 2.0ms preprocess, 46.5ms inference, 2.0ms postprocess per image at shape (1, 3, 384, 640)\n",
      "\n"
     ]
    },
    {
     "name": "stdout",
     "output_type": "stream",
     "text": [
      "Time to process 1 frame: 67 milliseconds\n",
      "Time to process 1 frame: 67 milliseconds\n",
      "Time to process 1 frame: 66 milliseconds\n"
     ]
    },
    {
     "name": "stderr",
     "output_type": "stream",
     "text": [
      "0: 384x640 1 K-001901, 1 K-006697, 4 K-031490s, 47.0ms\n",
      "Speed: 3.0ms preprocess, 47.0ms inference, 3.5ms postprocess per image at shape (1, 3, 384, 640)\n",
      "\n",
      "0: 384x640 1 K-001901, 1 K-006697, 4 K-031490s, 47.0ms\n",
      "Speed: 3.0ms preprocess, 47.0ms inference, 3.0ms postprocess per image at shape (1, 3, 384, 640)\n",
      "\n",
      "0: 384x640 1 K-001901, 1 K-006697, 4 K-031490s, 45.9ms\n",
      "Speed: 2.1ms preprocess, 45.9ms inference, 3.0ms postprocess per image at shape (1, 3, 384, 640)\n",
      "\n"
     ]
    },
    {
     "name": "stdout",
     "output_type": "stream",
     "text": [
      "Time to process 1 frame: 69 milliseconds\n",
      "Time to process 1 frame: 70 milliseconds\n",
      "Time to process 1 frame: 67 milliseconds\n"
     ]
    },
    {
     "name": "stderr",
     "output_type": "stream",
     "text": [
      "0: 384x640 1 K-001901, 1 K-006697, 4 K-031490s, 46.5ms\n",
      "Speed: 2.0ms preprocess, 46.5ms inference, 4.0ms postprocess per image at shape (1, 3, 384, 640)\n",
      "\n",
      "0: 384x640 1 K-001901, 1 K-006697, 4 K-031490s, 46.0ms\n",
      "Speed: 2.0ms preprocess, 46.0ms inference, 3.0ms postprocess per image at shape (1, 3, 384, 640)\n",
      "\n",
      "0: 384x640 1 K-001901, 1 K-006697, 1 K-007024, 4 K-031490s, 46.0ms\n",
      "Speed: 3.0ms preprocess, 46.0ms inference, 2.0ms postprocess per image at shape (1, 3, 384, 640)\n",
      "\n"
     ]
    },
    {
     "name": "stdout",
     "output_type": "stream",
     "text": [
      "Time to process 1 frame: 68 milliseconds\n",
      "Time to process 1 frame: 66 milliseconds\n",
      "Time to process 1 frame: 66 milliseconds\n"
     ]
    },
    {
     "name": "stderr",
     "output_type": "stream",
     "text": [
      "0: 384x640 1 K-001901, 1 K-006697, 1 K-007024, 4 K-031490s, 46.5ms\n",
      "Speed: 2.0ms preprocess, 46.5ms inference, 3.0ms postprocess per image at shape (1, 3, 384, 640)\n",
      "\n",
      "0: 384x640 2 K-001901s, 1 K-006697, 4 K-031490s, 1 K-044834, 47.0ms\n",
      "Speed: 2.0ms preprocess, 47.0ms inference, 2.5ms postprocess per image at shape (1, 3, 384, 640)\n",
      "\n",
      "0: 384x640 1 K-001901, 1 K-006697, 4 K-031490s, 1 K-044834, 47.0ms\n",
      "Speed: 2.0ms preprocess, 47.0ms inference, 2.0ms postprocess per image at shape (1, 3, 384, 640)\n",
      "\n"
     ]
    },
    {
     "name": "stdout",
     "output_type": "stream",
     "text": [
      "Time to process 1 frame: 68 milliseconds\n",
      "Time to process 1 frame: 69 milliseconds\n",
      "Time to process 1 frame: 68 milliseconds\n"
     ]
    },
    {
     "name": "stderr",
     "output_type": "stream",
     "text": [
      "0: 384x640 1 K-001901, 1 K-006697, 4 K-031490s, 46.9ms\n",
      "Speed: 2.0ms preprocess, 46.9ms inference, 3.0ms postprocess per image at shape (1, 3, 384, 640)\n",
      "\n",
      "0: 384x640 1 K-001901, 1 K-006697, 4 K-031490s, 46.5ms\n",
      "Speed: 2.0ms preprocess, 46.5ms inference, 3.0ms postprocess per image at shape (1, 3, 384, 640)\n",
      "\n",
      "0: 384x640 1 K-001901, 1 K-006697, 4 K-031490s, 47.0ms\n",
      "Speed: 2.0ms preprocess, 47.0ms inference, 2.0ms postprocess per image at shape (1, 3, 384, 640)\n",
      "\n",
      "0: 384x640 1 K-001901, 1 K-006697, 4 K-031490s, 46.0ms\n"
     ]
    },
    {
     "name": "stdout",
     "output_type": "stream",
     "text": [
      "Time to process 1 frame: 67 milliseconds\n",
      "Time to process 1 frame: 67 milliseconds\n",
      "Time to process 1 frame: 66 milliseconds\n"
     ]
    },
    {
     "name": "stderr",
     "output_type": "stream",
     "text": [
      "Speed: 2.0ms preprocess, 46.0ms inference, 3.0ms postprocess per image at shape (1, 3, 384, 640)\n",
      "\n",
      "0: 384x640 1 K-001901, 1 K-006697, 4 K-031490s, 46.5ms\n",
      "Speed: 2.0ms preprocess, 46.5ms inference, 2.0ms postprocess per image at shape (1, 3, 384, 640)\n",
      "\n",
      "0: 384x640 1 K-001901, 1 K-006697, 4 K-031490s, 46.0ms\n",
      "Speed: 2.0ms preprocess, 46.0ms inference, 3.0ms postprocess per image at shape (1, 3, 384, 640)\n",
      "\n",
      "0: 384x640 1 K-001901, 1 K-006697, 4 K-031490s, 47.5ms\n"
     ]
    },
    {
     "name": "stdout",
     "output_type": "stream",
     "text": [
      "Time to process 1 frame: 69 milliseconds\n",
      "Time to process 1 frame: 66 milliseconds\n",
      "Time to process 1 frame: 66 milliseconds\n"
     ]
    },
    {
     "name": "stderr",
     "output_type": "stream",
     "text": [
      "Speed: 1.0ms preprocess, 47.5ms inference, 3.0ms postprocess per image at shape (1, 3, 384, 640)\n",
      "\n",
      "0: 384x640 1 K-001901, 1 K-006697, 4 K-031490s, 45.0ms\n",
      "Speed: 2.0ms preprocess, 45.0ms inference, 3.0ms postprocess per image at shape (1, 3, 384, 640)\n",
      "\n",
      "0: 384x640 1 K-001901, 1 K-006697, 4 K-031490s, 45.5ms\n",
      "Speed: 2.0ms preprocess, 45.5ms inference, 2.0ms postprocess per image at shape (1, 3, 384, 640)\n",
      "\n"
     ]
    },
    {
     "name": "stdout",
     "output_type": "stream",
     "text": [
      "Time to process 1 frame: 69 milliseconds\n",
      "Time to process 1 frame: 66 milliseconds\n",
      "Time to process 1 frame: 66 milliseconds\n"
     ]
    },
    {
     "name": "stderr",
     "output_type": "stream",
     "text": [
      "0: 384x640 1 K-001901, 1 K-006697, 4 K-031490s, 46.0ms\n",
      "Speed: 2.0ms preprocess, 46.0ms inference, 3.0ms postprocess per image at shape (1, 3, 384, 640)\n",
      "\n",
      "0: 384x640 1 K-001901, 1 K-006697, 4 K-031490s, 46.5ms\n",
      "Speed: 2.0ms preprocess, 46.5ms inference, 3.0ms postprocess per image at shape (1, 3, 384, 640)\n",
      "\n",
      "0: 384x640 1 K-001901, 1 K-006697, 4 K-031490s, 46.5ms\n",
      "Speed: 2.0ms preprocess, 46.5ms inference, 2.0ms postprocess per image at shape (1, 3, 384, 640)\n",
      "\n",
      "0: 384x640 1 K-001901, 1 K-006697, 3 K-031490s, 46.0ms\n"
     ]
    },
    {
     "name": "stdout",
     "output_type": "stream",
     "text": [
      "Time to process 1 frame: 66 milliseconds\n",
      "Time to process 1 frame: 70 milliseconds\n",
      "Time to process 1 frame: 66 milliseconds\n"
     ]
    },
    {
     "name": "stderr",
     "output_type": "stream",
     "text": [
      "Speed: 2.0ms preprocess, 46.0ms inference, 3.0ms postprocess per image at shape (1, 3, 384, 640)\n",
      "\n",
      "0: 384x640 1 K-001901, 1 K-006697, 4 K-031490s, 46.0ms\n",
      "Speed: 2.0ms preprocess, 46.0ms inference, 3.0ms postprocess per image at shape (1, 3, 384, 640)\n",
      "\n",
      "0: 384x640 1 K-001901, 1 K-006697, 4 K-031490s, 46.5ms\n",
      "Speed: 2.0ms preprocess, 46.5ms inference, 4.0ms postprocess per image at shape (1, 3, 384, 640)\n",
      "\n"
     ]
    },
    {
     "name": "stdout",
     "output_type": "stream",
     "text": [
      "Time to process 1 frame: 66 milliseconds\n",
      "Time to process 1 frame: 66 milliseconds\n",
      "Time to process 1 frame: 67 milliseconds\n"
     ]
    },
    {
     "name": "stderr",
     "output_type": "stream",
     "text": [
      "0: 384x640 1 K-001901, 1 K-006697, 4 K-031490s, 47.0ms\n",
      "Speed: 2.0ms preprocess, 47.0ms inference, 2.0ms postprocess per image at shape (1, 3, 384, 640)\n",
      "\n",
      "0: 384x640 1 K-001901, 1 K-006697, 3 K-031490s, 46.0ms\n",
      "Speed: 2.0ms preprocess, 46.0ms inference, 3.0ms postprocess per image at shape (1, 3, 384, 640)\n",
      "\n",
      "0: 384x640 1 K-001901, 1 K-006697, 4 K-031490s, 47.1ms\n",
      "Speed: 2.0ms preprocess, 47.1ms inference, 3.0ms postprocess per image at shape (1, 3, 384, 640)\n",
      "\n",
      "0: 384x640 1 K-001901, 1 K-006697, 3 K-031490s, 46.5ms\n"
     ]
    },
    {
     "name": "stdout",
     "output_type": "stream",
     "text": [
      "Time to process 1 frame: 68 milliseconds\n",
      "Time to process 1 frame: 66 milliseconds\n",
      "Time to process 1 frame: 67 milliseconds\n"
     ]
    },
    {
     "name": "stderr",
     "output_type": "stream",
     "text": [
      "Speed: 2.0ms preprocess, 46.5ms inference, 2.0ms postprocess per image at shape (1, 3, 384, 640)\n",
      "\n",
      "0: 384x640 1 K-001901, 1 K-006697, 3 K-031490s, 47.0ms\n",
      "Speed: 2.0ms preprocess, 47.0ms inference, 2.0ms postprocess per image at shape (1, 3, 384, 640)\n",
      "\n",
      "0: 384x640 1 K-001901, 1 K-006697, 4 K-031490s, 47.0ms\n",
      "Speed: 2.0ms preprocess, 47.0ms inference, 3.0ms postprocess per image at shape (1, 3, 384, 640)\n",
      "\n"
     ]
    },
    {
     "name": "stdout",
     "output_type": "stream",
     "text": [
      "Time to process 1 frame: 65 milliseconds\n",
      "Time to process 1 frame: 66 milliseconds\n",
      "Time to process 1 frame: 68 milliseconds\n"
     ]
    },
    {
     "name": "stderr",
     "output_type": "stream",
     "text": [
      "0: 384x640 1 K-001901, 1 K-006697, 4 K-031490s, 46.5ms\n",
      "Speed: 2.0ms preprocess, 46.5ms inference, 3.0ms postprocess per image at shape (1, 3, 384, 640)\n",
      "\n",
      "0: 384x640 1 K-001901, 1 K-006697, 4 K-031490s, 46.0ms\n",
      "Speed: 2.0ms preprocess, 46.0ms inference, 3.0ms postprocess per image at shape (1, 3, 384, 640)\n",
      "\n",
      "0: 384x640 1 K-006697, 4 K-031490s, 46.0ms\n",
      "Speed: 2.0ms preprocess, 46.0ms inference, 3.0ms postprocess per image at shape (1, 3, 384, 640)\n",
      "\n"
     ]
    },
    {
     "name": "stdout",
     "output_type": "stream",
     "text": [
      "Time to process 1 frame: 68 milliseconds\n",
      "Time to process 1 frame: 65 milliseconds\n",
      "Time to process 1 frame: 66 milliseconds\n"
     ]
    },
    {
     "name": "stderr",
     "output_type": "stream",
     "text": [
      "0: 384x640 1 K-001901, 1 K-006697, 5 K-031490s, 47.5ms\n",
      "Speed: 2.0ms preprocess, 47.5ms inference, 3.0ms postprocess per image at shape (1, 3, 384, 640)\n",
      "\n",
      "0: 384x640 (no detections), 45.5ms\n",
      "Speed: 2.0ms preprocess, 45.5ms inference, 2.0ms postprocess per image at shape (1, 3, 384, 640)\n",
      "\n",
      "0: 384x640 (no detections), 47.0ms\n",
      "Speed: 2.0ms preprocess, 47.0ms inference, 1.0ms postprocess per image at shape (1, 3, 384, 640)\n",
      "\n",
      "0: 384x640 (no detections), 47.5ms\n"
     ]
    },
    {
     "name": "stdout",
     "output_type": "stream",
     "text": [
      "Time to process 1 frame: 69 milliseconds\n",
      "Time to process 1 frame: 65 milliseconds\n",
      "Time to process 1 frame: 63 milliseconds\n"
     ]
    },
    {
     "name": "stderr",
     "output_type": "stream",
     "text": [
      "Speed: 2.0ms preprocess, 47.5ms inference, 1.0ms postprocess per image at shape (1, 3, 384, 640)\n",
      "\n",
      "0: 384x640 (no detections), 46.5ms\n",
      "Speed: 2.0ms preprocess, 46.5ms inference, 2.0ms postprocess per image at shape (1, 3, 384, 640)\n",
      "\n",
      "0: 384x640 (no detections), 45.0ms\n",
      "Speed: 2.1ms preprocess, 45.0ms inference, 1.0ms postprocess per image at shape (1, 3, 384, 640)\n",
      "\n",
      "0: 384x640 (no detections), 46.5ms\n"
     ]
    },
    {
     "name": "stdout",
     "output_type": "stream",
     "text": [
      "Time to process 1 frame: 67 milliseconds\n",
      "Time to process 1 frame: 64 milliseconds\n",
      "Time to process 1 frame: 60 milliseconds\n"
     ]
    },
    {
     "name": "stderr",
     "output_type": "stream",
     "text": [
      "Speed: 3.0ms preprocess, 46.5ms inference, 1.0ms postprocess per image at shape (1, 3, 384, 640)\n",
      "\n",
      "0: 384x640 1 K-004378, 45.5ms\n",
      "Speed: 2.0ms preprocess, 45.5ms inference, 3.0ms postprocess per image at shape (1, 3, 384, 640)\n",
      "\n",
      "0: 384x640 (no detections), 46.0ms\n",
      "Speed: 2.0ms preprocess, 46.0ms inference, 1.0ms postprocess per image at shape (1, 3, 384, 640)\n",
      "\n",
      "0: 384x640 (no detections), 46.5ms\n"
     ]
    },
    {
     "name": "stdout",
     "output_type": "stream",
     "text": [
      "Time to process 1 frame: 64 milliseconds\n",
      "Time to process 1 frame: 64 milliseconds\n",
      "Time to process 1 frame: 62 milliseconds\n"
     ]
    },
    {
     "name": "stderr",
     "output_type": "stream",
     "text": [
      "Speed: 2.0ms preprocess, 46.5ms inference, 2.0ms postprocess per image at shape (1, 3, 384, 640)\n",
      "\n",
      "0: 384x640 (no detections), 45.4ms\n",
      "Speed: 3.0ms preprocess, 45.4ms inference, 2.0ms postprocess per image at shape (1, 3, 384, 640)\n",
      "\n",
      "0: 384x640 (no detections), 46.0ms\n",
      "Speed: 2.0ms preprocess, 46.0ms inference, 1.0ms postprocess per image at shape (1, 3, 384, 640)\n",
      "\n",
      "0: 384x640 (no detections), 46.4ms\n"
     ]
    },
    {
     "name": "stdout",
     "output_type": "stream",
     "text": [
      "Time to process 1 frame: 64 milliseconds\n",
      "Time to process 1 frame: 63 milliseconds\n",
      "Time to process 1 frame: 62 milliseconds\n"
     ]
    },
    {
     "name": "stderr",
     "output_type": "stream",
     "text": [
      "Speed: 2.0ms preprocess, 46.4ms inference, 2.0ms postprocess per image at shape (1, 3, 384, 640)\n",
      "\n",
      "0: 384x640 1 K-024029, 45.5ms\n",
      "Speed: 2.0ms preprocess, 45.5ms inference, 3.0ms postprocess per image at shape (1, 3, 384, 640)\n",
      "\n",
      "0: 384x640 (no detections), 47.0ms\n",
      "Speed: 2.0ms preprocess, 47.0ms inference, 2.0ms postprocess per image at shape (1, 3, 384, 640)\n",
      "\n",
      "0: 384x640 (no detections), 47.1ms\n"
     ]
    },
    {
     "name": "stdout",
     "output_type": "stream",
     "text": [
      "Time to process 1 frame: 63 milliseconds\n",
      "Time to process 1 frame: 69 milliseconds\n",
      "Time to process 1 frame: 64 milliseconds\n"
     ]
    },
    {
     "name": "stderr",
     "output_type": "stream",
     "text": [
      "Speed: 2.0ms preprocess, 47.1ms inference, 1.0ms postprocess per image at shape (1, 3, 384, 640)\n",
      "\n",
      "0: 384x640 (no detections), 46.5ms\n",
      "Speed: 2.0ms preprocess, 46.5ms inference, 1.0ms postprocess per image at shape (1, 3, 384, 640)\n",
      "\n",
      "0: 384x640 (no detections), 47.0ms\n",
      "Speed: 2.0ms preprocess, 47.0ms inference, 1.0ms postprocess per image at shape (1, 3, 384, 640)\n",
      "\n"
     ]
    },
    {
     "name": "stdout",
     "output_type": "stream",
     "text": [
      "Time to process 1 frame: 64 milliseconds\n",
      "Time to process 1 frame: 65 milliseconds\n",
      "Time to process 1 frame: 63 milliseconds\n"
     ]
    },
    {
     "name": "stderr",
     "output_type": "stream",
     "text": [
      "0: 384x640 (no detections), 46.0ms\n",
      "Speed: 2.0ms preprocess, 46.0ms inference, 2.0ms postprocess per image at shape (1, 3, 384, 640)\n",
      "\n",
      "0: 384x640 (no detections), 47.7ms\n",
      "Speed: 2.0ms preprocess, 47.7ms inference, 1.7ms postprocess per image at shape (1, 3, 384, 640)\n",
      "\n",
      "0: 384x640 (no detections), 46.0ms\n",
      "Speed: 2.0ms preprocess, 46.0ms inference, 1.0ms postprocess per image at shape (1, 3, 384, 640)\n",
      "\n"
     ]
    },
    {
     "name": "stdout",
     "output_type": "stream",
     "text": [
      "Time to process 1 frame: 63 milliseconds\n",
      "Time to process 1 frame: 65 milliseconds\n",
      "Time to process 1 frame: 63 milliseconds\n"
     ]
    },
    {
     "name": "stderr",
     "output_type": "stream",
     "text": [
      "0: 384x640 (no detections), 46.5ms\n",
      "Speed: 2.0ms preprocess, 46.5ms inference, 2.0ms postprocess per image at shape (1, 3, 384, 640)\n",
      "\n",
      "0: 384x640 (no detections), 46.5ms\n",
      "Speed: 3.0ms preprocess, 46.5ms inference, 1.0ms postprocess per image at shape (1, 3, 384, 640)\n",
      "\n",
      "0: 384x640 (no detections), 46.0ms\n",
      "Speed: 2.0ms preprocess, 46.0ms inference, 2.0ms postprocess per image at shape (1, 3, 384, 640)\n",
      "\n",
      "0: 384x640 (no detections), 46.0ms\n"
     ]
    },
    {
     "name": "stdout",
     "output_type": "stream",
     "text": [
      "Time to process 1 frame: 66 milliseconds\n",
      "Time to process 1 frame: 65 milliseconds\n",
      "Time to process 1 frame: 65 milliseconds\n"
     ]
    },
    {
     "name": "stderr",
     "output_type": "stream",
     "text": [
      "Speed: 2.0ms preprocess, 46.0ms inference, 2.0ms postprocess per image at shape (1, 3, 384, 640)\n",
      "\n",
      "0: 384x640 (no detections), 45.9ms\n",
      "Speed: 3.0ms preprocess, 45.9ms inference, 2.0ms postprocess per image at shape (1, 3, 384, 640)\n",
      "\n",
      "0: 384x640 (no detections), 46.5ms\n",
      "Speed: 2.0ms preprocess, 46.5ms inference, 1.0ms postprocess per image at shape (1, 3, 384, 640)\n",
      "\n",
      "0: 384x640 (no detections), 47.4ms\n"
     ]
    },
    {
     "name": "stdout",
     "output_type": "stream",
     "text": [
      "Time to process 1 frame: 64 milliseconds\n",
      "Time to process 1 frame: 66 milliseconds\n",
      "Time to process 1 frame: 64 milliseconds\n"
     ]
    },
    {
     "name": "stderr",
     "output_type": "stream",
     "text": [
      "Speed: 1.6ms preprocess, 47.4ms inference, 2.0ms postprocess per image at shape (1, 3, 384, 640)\n",
      "\n",
      "0: 384x640 (no detections), 46.0ms\n",
      "Speed: 2.5ms preprocess, 46.0ms inference, 2.0ms postprocess per image at shape (1, 3, 384, 640)\n",
      "\n",
      "0: 384x640 (no detections), 46.5ms\n",
      "Speed: 2.0ms preprocess, 46.5ms inference, 1.0ms postprocess per image at shape (1, 3, 384, 640)\n",
      "\n",
      "0: 384x640 (no detections), 46.0ms\n"
     ]
    },
    {
     "name": "stdout",
     "output_type": "stream",
     "text": [
      "Time to process 1 frame: 64 milliseconds\n",
      "Time to process 1 frame: 64 milliseconds\n",
      "Time to process 1 frame: 64 milliseconds\n"
     ]
    },
    {
     "name": "stderr",
     "output_type": "stream",
     "text": [
      "Speed: 2.0ms preprocess, 46.0ms inference, 2.0ms postprocess per image at shape (1, 3, 384, 640)\n",
      "\n",
      "0: 384x640 (no detections), 46.0ms\n",
      "Speed: 2.0ms preprocess, 46.0ms inference, 2.0ms postprocess per image at shape (1, 3, 384, 640)\n",
      "\n",
      "0: 384x640 (no detections), 46.5ms\n",
      "Speed: 2.0ms preprocess, 46.5ms inference, 1.0ms postprocess per image at shape (1, 3, 384, 640)\n",
      "\n"
     ]
    },
    {
     "name": "stdout",
     "output_type": "stream",
     "text": [
      "Time to process 1 frame: 64 milliseconds\n",
      "Time to process 1 frame: 64 milliseconds\n",
      "Time to process 1 frame: 66 milliseconds\n"
     ]
    },
    {
     "name": "stderr",
     "output_type": "stream",
     "text": [
      "0: 384x640 (no detections), 51.0ms\n",
      "Speed: 2.0ms preprocess, 51.0ms inference, 3.0ms postprocess per image at shape (1, 3, 384, 640)\n",
      "\n",
      "0: 384x640 (no detections), 53.9ms\n",
      "Speed: 3.0ms preprocess, 53.9ms inference, 2.0ms postprocess per image at shape (1, 3, 384, 640)\n",
      "\n",
      "0: 384x640 (no detections), 55.0ms\n",
      "Speed: 1.5ms preprocess, 55.0ms inference, 2.0ms postprocess per image at shape (1, 3, 384, 640)\n",
      "\n"
     ]
    },
    {
     "name": "stdout",
     "output_type": "stream",
     "text": [
      "Time to process 1 frame: 71 milliseconds\n",
      "Time to process 1 frame: 73 milliseconds\n",
      "Time to process 1 frame: 72 milliseconds\n"
     ]
    },
    {
     "name": "stderr",
     "output_type": "stream",
     "text": [
      "0: 384x640 (no detections), 55.5ms\n",
      "Speed: 2.0ms preprocess, 55.5ms inference, 2.0ms postprocess per image at shape (1, 3, 384, 640)\n",
      "\n",
      "0: 384x640 (no detections), 54.5ms\n",
      "Speed: 2.0ms preprocess, 54.5ms inference, 1.0ms postprocess per image at shape (1, 3, 384, 640)\n",
      "\n",
      "0: 384x640 (no detections), 48.0ms\n",
      "Speed: 2.0ms preprocess, 48.0ms inference, 2.0ms postprocess per image at shape (1, 3, 384, 640)\n",
      "\n"
     ]
    },
    {
     "name": "stdout",
     "output_type": "stream",
     "text": [
      "Time to process 1 frame: 76 milliseconds\n",
      "Time to process 1 frame: 71 milliseconds\n",
      "Time to process 1 frame: 67 milliseconds\n"
     ]
    },
    {
     "name": "stderr",
     "output_type": "stream",
     "text": [
      "0: 384x640 (no detections), 57.0ms\n",
      "Speed: 2.0ms preprocess, 57.0ms inference, 1.0ms postprocess per image at shape (1, 3, 384, 640)\n",
      "\n",
      "0: 384x640 (no detections), 56.1ms\n",
      "Speed: 2.0ms preprocess, 56.1ms inference, 1.1ms postprocess per image at shape (1, 3, 384, 640)\n",
      "\n",
      "0: 384x640 (no detections), 54.1ms\n",
      "Speed: 2.0ms preprocess, 54.1ms inference, 1.0ms postprocess per image at shape (1, 3, 384, 640)\n",
      "\n"
     ]
    },
    {
     "name": "stdout",
     "output_type": "stream",
     "text": [
      "Time to process 1 frame: 73 milliseconds\n",
      "Time to process 1 frame: 73 milliseconds\n",
      "Time to process 1 frame: 71 milliseconds\n"
     ]
    },
    {
     "name": "stderr",
     "output_type": "stream",
     "text": [
      "0: 384x640 (no detections), 48.0ms\n",
      "Speed: 3.0ms preprocess, 48.0ms inference, 2.0ms postprocess per image at shape (1, 3, 384, 640)\n",
      "\n",
      "0: 384x640 (no detections), 50.0ms\n",
      "Speed: 2.0ms preprocess, 50.0ms inference, 1.0ms postprocess per image at shape (1, 3, 384, 640)\n",
      "\n",
      "0: 384x640 (no detections), 50.5ms\n",
      "Speed: 2.0ms preprocess, 50.5ms inference, 1.0ms postprocess per image at shape (1, 3, 384, 640)\n",
      "\n"
     ]
    },
    {
     "name": "stdout",
     "output_type": "stream",
     "text": [
      "Time to process 1 frame: 67 milliseconds\n",
      "Time to process 1 frame: 66 milliseconds\n",
      "Time to process 1 frame: 67 milliseconds\n"
     ]
    },
    {
     "name": "stderr",
     "output_type": "stream",
     "text": [
      "0: 384x640 (no detections), 48.5ms\n",
      "Speed: 2.0ms preprocess, 48.5ms inference, 2.0ms postprocess per image at shape (1, 3, 384, 640)\n",
      "\n",
      "0: 384x640 (no detections), 50.0ms\n",
      "Speed: 2.0ms preprocess, 50.0ms inference, 1.0ms postprocess per image at shape (1, 3, 384, 640)\n",
      "\n",
      "0: 384x640 (no detections), 50.6ms\n",
      "Speed: 2.0ms preprocess, 50.6ms inference, 1.4ms postprocess per image at shape (1, 3, 384, 640)\n",
      "\n",
      "0: 384x640 (no detections), 49.5ms\n"
     ]
    },
    {
     "name": "stdout",
     "output_type": "stream",
     "text": [
      "Time to process 1 frame: 66 milliseconds\n",
      "Time to process 1 frame: 66 milliseconds\n",
      "Time to process 1 frame: 67 milliseconds\n"
     ]
    },
    {
     "name": "stderr",
     "output_type": "stream",
     "text": [
      "Speed: 2.0ms preprocess, 49.5ms inference, 2.0ms postprocess per image at shape (1, 3, 384, 640)\n",
      "\n",
      "0: 384x640 (no detections), 47.7ms\n",
      "Speed: 2.0ms preprocess, 47.7ms inference, 2.0ms postprocess per image at shape (1, 3, 384, 640)\n",
      "\n",
      "0: 384x640 (no detections), 47.0ms\n",
      "Speed: 2.0ms preprocess, 47.0ms inference, 1.0ms postprocess per image at shape (1, 3, 384, 640)\n",
      "\n",
      "0: 384x640 (no detections), 47.5ms\n"
     ]
    },
    {
     "name": "stdout",
     "output_type": "stream",
     "text": [
      "Time to process 1 frame: 65 milliseconds\n",
      "Time to process 1 frame: 65 milliseconds\n",
      "Time to process 1 frame: 65 milliseconds\n"
     ]
    },
    {
     "name": "stderr",
     "output_type": "stream",
     "text": [
      "Speed: 2.0ms preprocess, 47.5ms inference, 1.0ms postprocess per image at shape (1, 3, 384, 640)\n",
      "\n",
      "0: 384x640 (no detections), 49.0ms\n",
      "Speed: 2.0ms preprocess, 49.0ms inference, 1.0ms postprocess per image at shape (1, 3, 384, 640)\n",
      "\n",
      "0: 384x640 (no detections), 50.0ms\n",
      "Speed: 2.0ms preprocess, 50.0ms inference, 1.0ms postprocess per image at shape (1, 3, 384, 640)\n",
      "\n"
     ]
    },
    {
     "name": "stdout",
     "output_type": "stream",
     "text": [
      "Time to process 1 frame: 66 milliseconds\n",
      "Time to process 1 frame: 65 milliseconds\n",
      "Time to process 1 frame: 68 milliseconds\n"
     ]
    },
    {
     "name": "stderr",
     "output_type": "stream",
     "text": [
      "0: 384x640 (no detections), 52.5ms\n",
      "Speed: 2.0ms preprocess, 52.5ms inference, 2.0ms postprocess per image at shape (1, 3, 384, 640)\n",
      "\n",
      "0: 384x640 (no detections), 48.5ms\n",
      "Speed: 2.7ms preprocess, 48.5ms inference, 1.0ms postprocess per image at shape (1, 3, 384, 640)\n",
      "\n",
      "0: 384x640 (no detections), 49.0ms\n",
      "Speed: 2.0ms preprocess, 49.0ms inference, 1.0ms postprocess per image at shape (1, 3, 384, 640)\n",
      "\n"
     ]
    },
    {
     "name": "stdout",
     "output_type": "stream",
     "text": [
      "Time to process 1 frame: 68 milliseconds\n",
      "Time to process 1 frame: 65 milliseconds\n",
      "Time to process 1 frame: 66 milliseconds\n"
     ]
    },
    {
     "name": "stderr",
     "output_type": "stream",
     "text": [
      "0: 384x640 (no detections), 51.1ms\n",
      "Speed: 2.0ms preprocess, 51.1ms inference, 1.0ms postprocess per image at shape (1, 3, 384, 640)\n",
      "\n",
      "0: 384x640 (no detections), 48.5ms\n",
      "Speed: 2.0ms preprocess, 48.5ms inference, 1.0ms postprocess per image at shape (1, 3, 384, 640)\n",
      "\n",
      "0: 384x640 (no detections), 48.0ms\n",
      "Speed: 3.0ms preprocess, 48.0ms inference, 2.0ms postprocess per image at shape (1, 3, 384, 640)\n",
      "\n",
      "0: 384x640 (no detections), 49.0ms\n"
     ]
    },
    {
     "name": "stdout",
     "output_type": "stream",
     "text": [
      "Time to process 1 frame: 67 milliseconds\n",
      "Time to process 1 frame: 66 milliseconds\n",
      "Time to process 1 frame: 66 milliseconds\n"
     ]
    },
    {
     "name": "stderr",
     "output_type": "stream",
     "text": [
      "Speed: 2.0ms preprocess, 49.0ms inference, 2.0ms postprocess per image at shape (1, 3, 384, 640)\n",
      "\n",
      "0: 384x640 (no detections), 54.1ms\n",
      "Speed: 2.0ms preprocess, 54.1ms inference, 2.0ms postprocess per image at shape (1, 3, 384, 640)\n",
      "\n",
      "0: 384x640 (no detections), 55.5ms\n",
      "Speed: 2.2ms preprocess, 55.5ms inference, 1.0ms postprocess per image at shape (1, 3, 384, 640)\n",
      "\n"
     ]
    },
    {
     "name": "stdout",
     "output_type": "stream",
     "text": [
      "Time to process 1 frame: 67 milliseconds\n",
      "Time to process 1 frame: 71 milliseconds\n",
      "Time to process 1 frame: 74 milliseconds\n"
     ]
    },
    {
     "name": "stderr",
     "output_type": "stream",
     "text": [
      "0: 384x640 (no detections), 53.0ms\n",
      "Speed: 3.0ms preprocess, 53.0ms inference, 2.0ms postprocess per image at shape (1, 3, 384, 640)\n",
      "\n",
      "0: 384x640 (no detections), 55.3ms\n",
      "Speed: 2.0ms preprocess, 55.3ms inference, 1.0ms postprocess per image at shape (1, 3, 384, 640)\n",
      "\n",
      "0: 384x640 (no detections), 51.5ms\n",
      "Speed: 2.0ms preprocess, 51.5ms inference, 1.0ms postprocess per image at shape (1, 3, 384, 640)\n",
      "\n"
     ]
    },
    {
     "name": "stdout",
     "output_type": "stream",
     "text": [
      "Time to process 1 frame: 71 milliseconds\n",
      "Time to process 1 frame: 75 milliseconds\n",
      "Time to process 1 frame: 68 milliseconds\n"
     ]
    },
    {
     "name": "stderr",
     "output_type": "stream",
     "text": [
      "0: 384x640 (no detections), 56.5ms\n",
      "Speed: 2.0ms preprocess, 56.5ms inference, 1.0ms postprocess per image at shape (1, 3, 384, 640)\n",
      "\n",
      "0: 384x640 (no detections), 54.0ms\n",
      "Speed: 2.0ms preprocess, 54.0ms inference, 1.0ms postprocess per image at shape (1, 3, 384, 640)\n",
      "\n",
      "0: 384x640 (no detections), 56.2ms\n",
      "Speed: 2.0ms preprocess, 56.2ms inference, 1.1ms postprocess per image at shape (1, 3, 384, 640)\n",
      "\n"
     ]
    },
    {
     "name": "stdout",
     "output_type": "stream",
     "text": [
      "Time to process 1 frame: 74 milliseconds\n",
      "Time to process 1 frame: 71 milliseconds\n",
      "Time to process 1 frame: 72 milliseconds\n"
     ]
    },
    {
     "name": "stderr",
     "output_type": "stream",
     "text": [
      "0: 384x640 (no detections), 50.5ms\n",
      "Speed: 2.0ms preprocess, 50.5ms inference, 2.0ms postprocess per image at shape (1, 3, 384, 640)\n",
      "\n",
      "0: 384x640 (no detections), 55.3ms\n",
      "Speed: 3.0ms preprocess, 55.3ms inference, 1.0ms postprocess per image at shape (1, 3, 384, 640)\n",
      "\n",
      "0: 384x640 (no detections), 50.0ms\n",
      "Speed: 2.0ms preprocess, 50.0ms inference, 2.0ms postprocess per image at shape (1, 3, 384, 640)\n",
      "\n"
     ]
    },
    {
     "name": "stdout",
     "output_type": "stream",
     "text": [
      "Time to process 1 frame: 68 milliseconds\n",
      "Time to process 1 frame: 73 milliseconds\n",
      "Time to process 1 frame: 67 milliseconds\n"
     ]
    },
    {
     "name": "stderr",
     "output_type": "stream",
     "text": [
      "0: 384x640 (no detections), 49.0ms\n",
      "Speed: 2.0ms preprocess, 49.0ms inference, 2.0ms postprocess per image at shape (1, 3, 384, 640)\n",
      "\n",
      "0: 384x640 (no detections), 50.5ms\n",
      "Speed: 3.0ms preprocess, 50.5ms inference, 1.0ms postprocess per image at shape (1, 3, 384, 640)\n",
      "\n",
      "0: 384x640 (no detections), 50.5ms\n",
      "Speed: 2.0ms preprocess, 50.5ms inference, 2.0ms postprocess per image at shape (1, 3, 384, 640)\n",
      "\n"
     ]
    },
    {
     "name": "stdout",
     "output_type": "stream",
     "text": [
      "Time to process 1 frame: 66 milliseconds\n",
      "Time to process 1 frame: 70 milliseconds\n",
      "Time to process 1 frame: 69 milliseconds\n"
     ]
    },
    {
     "name": "stderr",
     "output_type": "stream",
     "text": [
      "0: 384x640 (no detections), 49.2ms\n",
      "Speed: 2.0ms preprocess, 49.2ms inference, 1.0ms postprocess per image at shape (1, 3, 384, 640)\n",
      "\n",
      "0: 384x640 (no detections), 50.0ms\n",
      "Speed: 2.1ms preprocess, 50.0ms inference, 3.0ms postprocess per image at shape (1, 3, 384, 640)\n",
      "\n",
      "0: 384x640 (no detections), 53.3ms\n",
      "Speed: 3.0ms preprocess, 53.3ms inference, 1.0ms postprocess per image at shape (1, 3, 384, 640)\n",
      "\n"
     ]
    },
    {
     "name": "stdout",
     "output_type": "stream",
     "text": [
      "Time to process 1 frame: 66 milliseconds\n",
      "Time to process 1 frame: 70 milliseconds\n",
      "Time to process 1 frame: 70 milliseconds\n"
     ]
    },
    {
     "name": "stderr",
     "output_type": "stream",
     "text": [
      "0: 384x640 (no detections), 51.5ms\n",
      "Speed: 2.0ms preprocess, 51.5ms inference, 2.0ms postprocess per image at shape (1, 3, 384, 640)\n",
      "\n",
      "0: 384x640 (no detections), 53.0ms\n",
      "Speed: 2.0ms preprocess, 53.0ms inference, 1.0ms postprocess per image at shape (1, 3, 384, 640)\n",
      "\n",
      "0: 384x640 (no detections), 54.5ms\n",
      "Speed: 2.0ms preprocess, 54.5ms inference, 1.0ms postprocess per image at shape (1, 3, 384, 640)\n",
      "\n"
     ]
    },
    {
     "name": "stdout",
     "output_type": "stream",
     "text": [
      "Time to process 1 frame: 69 milliseconds\n",
      "Time to process 1 frame: 70 milliseconds\n",
      "Time to process 1 frame: 73 milliseconds\n"
     ]
    },
    {
     "name": "stderr",
     "output_type": "stream",
     "text": [
      "0: 384x640 (no detections), 52.5ms\n",
      "Speed: 3.0ms preprocess, 52.5ms inference, 1.0ms postprocess per image at shape (1, 3, 384, 640)\n",
      "\n",
      "0: 384x640 (no detections), 48.0ms\n",
      "Speed: 2.0ms preprocess, 48.0ms inference, 2.5ms postprocess per image at shape (1, 3, 384, 640)\n",
      "\n",
      "0: 384x640 (no detections), 50.8ms\n",
      "Speed: 2.0ms preprocess, 50.8ms inference, 1.0ms postprocess per image at shape (1, 3, 384, 640)\n",
      "\n"
     ]
    },
    {
     "name": "stdout",
     "output_type": "stream",
     "text": [
      "Time to process 1 frame: 71 milliseconds\n",
      "Time to process 1 frame: 66 milliseconds\n",
      "Time to process 1 frame: 68 milliseconds\n"
     ]
    },
    {
     "name": "stderr",
     "output_type": "stream",
     "text": [
      "0: 384x640 (no detections), 52.5ms\n",
      "Speed: 2.0ms preprocess, 52.5ms inference, 2.0ms postprocess per image at shape (1, 3, 384, 640)\n",
      "\n",
      "0: 384x640 (no detections), 54.5ms\n",
      "Speed: 3.0ms preprocess, 54.5ms inference, 1.0ms postprocess per image at shape (1, 3, 384, 640)\n",
      "\n",
      "0: 384x640 (no detections), 52.0ms\n",
      "Speed: 2.0ms preprocess, 52.0ms inference, 1.0ms postprocess per image at shape (1, 3, 384, 640)\n",
      "\n"
     ]
    },
    {
     "name": "stdout",
     "output_type": "stream",
     "text": [
      "Time to process 1 frame: 70 milliseconds\n",
      "Time to process 1 frame: 73 milliseconds\n",
      "Time to process 1 frame: 68 milliseconds\n"
     ]
    },
    {
     "name": "stderr",
     "output_type": "stream",
     "text": [
      "0: 384x640 (no detections), 49.0ms\n",
      "Speed: 2.0ms preprocess, 49.0ms inference, 1.0ms postprocess per image at shape (1, 3, 384, 640)\n",
      "\n",
      "0: 384x640 (no detections), 59.5ms\n",
      "Speed: 2.0ms preprocess, 59.5ms inference, 1.0ms postprocess per image at shape (1, 3, 384, 640)\n",
      "\n",
      "0: 384x640 (no detections), 62.5ms\n",
      "Speed: 2.0ms preprocess, 62.5ms inference, 2.0ms postprocess per image at shape (1, 3, 384, 640)\n",
      "\n"
     ]
    },
    {
     "name": "stdout",
     "output_type": "stream",
     "text": [
      "Time to process 1 frame: 67 milliseconds\n",
      "Time to process 1 frame: 77 milliseconds\n",
      "Time to process 1 frame: 81 milliseconds\n"
     ]
    },
    {
     "name": "stderr",
     "output_type": "stream",
     "text": [
      "0: 384x640 (no detections), 51.5ms\n",
      "Speed: 2.0ms preprocess, 51.5ms inference, 2.0ms postprocess per image at shape (1, 3, 384, 640)\n",
      "\n",
      "0: 384x640 (no detections), 51.0ms\n",
      "Speed: 2.0ms preprocess, 51.0ms inference, 1.0ms postprocess per image at shape (1, 3, 384, 640)\n",
      "\n",
      "0: 384x640 (no detections), 50.3ms\n",
      "Speed: 2.0ms preprocess, 50.3ms inference, 1.0ms postprocess per image at shape (1, 3, 384, 640)\n",
      "\n"
     ]
    },
    {
     "name": "stdout",
     "output_type": "stream",
     "text": [
      "Time to process 1 frame: 68 milliseconds\n",
      "Time to process 1 frame: 67 milliseconds\n",
      "Time to process 1 frame: 66 milliseconds\n"
     ]
    },
    {
     "name": "stderr",
     "output_type": "stream",
     "text": [
      "0: 384x640 (no detections), 52.5ms\n",
      "Speed: 2.0ms preprocess, 52.5ms inference, 1.0ms postprocess per image at shape (1, 3, 384, 640)\n",
      "\n",
      "0: 384x640 (no detections), 59.5ms\n",
      "Speed: 2.0ms preprocess, 59.5ms inference, 1.0ms postprocess per image at shape (1, 3, 384, 640)\n",
      "\n",
      "0: 384x640 (no detections), 59.6ms\n",
      "Speed: 2.0ms preprocess, 59.6ms inference, 1.0ms postprocess per image at shape (1, 3, 384, 640)\n",
      "\n"
     ]
    },
    {
     "name": "stdout",
     "output_type": "stream",
     "text": [
      "Time to process 1 frame: 70 milliseconds\n",
      "Time to process 1 frame: 79 milliseconds\n",
      "Time to process 1 frame: 76 milliseconds\n"
     ]
    },
    {
     "name": "stderr",
     "output_type": "stream",
     "text": [
      "0: 384x640 (no detections), 51.0ms\n",
      "Speed: 2.0ms preprocess, 51.0ms inference, 1.0ms postprocess per image at shape (1, 3, 384, 640)\n",
      "\n",
      "0: 384x640 (no detections), 50.5ms\n",
      "Speed: 2.0ms preprocess, 50.5ms inference, 1.0ms postprocess per image at shape (1, 3, 384, 640)\n",
      "\n",
      "0: 384x640 (no detections), 50.6ms\n",
      "Speed: 2.2ms preprocess, 50.6ms inference, 2.0ms postprocess per image at shape (1, 3, 384, 640)\n",
      "\n",
      "0: 384x640 (no detections), 51.0ms\n"
     ]
    },
    {
     "name": "stdout",
     "output_type": "stream",
     "text": [
      "Time to process 1 frame: 72 milliseconds\n",
      "Time to process 1 frame: 68 milliseconds\n",
      "Time to process 1 frame: 66 milliseconds\n"
     ]
    },
    {
     "name": "stderr",
     "output_type": "stream",
     "text": [
      "Speed: 2.0ms preprocess, 51.0ms inference, 2.0ms postprocess per image at shape (1, 3, 384, 640)\n",
      "\n",
      "0: 384x640 (no detections), 52.2ms\n",
      "Speed: 2.0ms preprocess, 52.2ms inference, 1.0ms postprocess per image at shape (1, 3, 384, 640)\n",
      "\n",
      "0: 384x640 1 K-006697, 51.0ms\n",
      "Speed: 2.0ms preprocess, 51.0ms inference, 2.0ms postprocess per image at shape (1, 3, 384, 640)\n",
      "\n"
     ]
    },
    {
     "name": "stdout",
     "output_type": "stream",
     "text": [
      "Time to process 1 frame: 68 milliseconds\n",
      "Time to process 1 frame: 69 milliseconds\n",
      "Time to process 1 frame: 71 milliseconds\n"
     ]
    },
    {
     "name": "stderr",
     "output_type": "stream",
     "text": [
      "0: 384x640 (no detections), 50.8ms\n",
      "Speed: 3.0ms preprocess, 50.8ms inference, 2.0ms postprocess per image at shape (1, 3, 384, 640)\n",
      "\n",
      "0: 384x640 1 K-006697, 57.0ms\n",
      "Speed: 2.0ms preprocess, 57.0ms inference, 3.0ms postprocess per image at shape (1, 3, 384, 640)\n",
      "\n",
      "0: 384x640 (no detections), 53.0ms\n",
      "Speed: 2.0ms preprocess, 53.0ms inference, 1.0ms postprocess per image at shape (1, 3, 384, 640)\n",
      "\n"
     ]
    },
    {
     "name": "stdout",
     "output_type": "stream",
     "text": [
      "Time to process 1 frame: 69 milliseconds\n",
      "Time to process 1 frame: 76 milliseconds\n",
      "Time to process 1 frame: 71 milliseconds\n"
     ]
    },
    {
     "name": "stderr",
     "output_type": "stream",
     "text": [
      "0: 384x640 (no detections), 53.5ms\n",
      "Speed: 2.0ms preprocess, 53.5ms inference, 2.0ms postprocess per image at shape (1, 3, 384, 640)\n",
      "\n",
      "0: 384x640 1 K-006697, 56.5ms\n",
      "Speed: 2.0ms preprocess, 56.5ms inference, 3.0ms postprocess per image at shape (1, 3, 384, 640)\n",
      "\n",
      "0: 384x640 1 K-006697, 62.5ms\n",
      "Speed: 2.0ms preprocess, 62.5ms inference, 3.0ms postprocess per image at shape (1, 3, 384, 640)\n",
      "\n"
     ]
    },
    {
     "name": "stdout",
     "output_type": "stream",
     "text": [
      "Time to process 1 frame: 71 milliseconds\n",
      "Time to process 1 frame: 78 milliseconds\n",
      "Time to process 1 frame: 83 milliseconds\n"
     ]
    },
    {
     "name": "stderr",
     "output_type": "stream",
     "text": [
      "0: 384x640 (no detections), 62.5ms\n",
      "Speed: 3.0ms preprocess, 62.5ms inference, 1.1ms postprocess per image at shape (1, 3, 384, 640)\n",
      "\n",
      "0: 384x640 (no detections), 56.0ms\n",
      "Speed: 2.0ms preprocess, 56.0ms inference, 1.0ms postprocess per image at shape (1, 3, 384, 640)\n",
      "\n",
      "0: 384x640 (no detections), 52.5ms\n",
      "Speed: 2.0ms preprocess, 52.5ms inference, 1.0ms postprocess per image at shape (1, 3, 384, 640)\n",
      "\n"
     ]
    },
    {
     "name": "stdout",
     "output_type": "stream",
     "text": [
      "Time to process 1 frame: 80 milliseconds\n",
      "Time to process 1 frame: 73 milliseconds\n",
      "Time to process 1 frame: 69 milliseconds\n"
     ]
    },
    {
     "name": "stderr",
     "output_type": "stream",
     "text": [
      "0: 384x640 1 K-006697, 50.5ms\n",
      "Speed: 3.0ms preprocess, 50.5ms inference, 3.0ms postprocess per image at shape (1, 3, 384, 640)\n",
      "\n",
      "0: 384x640 1 K-006697, 59.5ms\n",
      "Speed: 2.0ms preprocess, 59.5ms inference, 3.0ms postprocess per image at shape (1, 3, 384, 640)\n",
      "\n",
      "0: 384x640 1 K-006697, 52.0ms\n",
      "Speed: 2.0ms preprocess, 52.0ms inference, 2.0ms postprocess per image at shape (1, 3, 384, 640)\n",
      "\n"
     ]
    },
    {
     "name": "stdout",
     "output_type": "stream",
     "text": [
      "Time to process 1 frame: 70 milliseconds\n",
      "Time to process 1 frame: 83 milliseconds\n",
      "Time to process 1 frame: 70 milliseconds\n"
     ]
    },
    {
     "name": "stderr",
     "output_type": "stream",
     "text": [
      "0: 384x640 1 K-006697, 52.0ms\n",
      "Speed: 2.0ms preprocess, 52.0ms inference, 2.0ms postprocess per image at shape (1, 3, 384, 640)\n",
      "\n",
      "0: 384x640 1 K-006697, 49.5ms\n",
      "Speed: 2.0ms preprocess, 49.5ms inference, 2.0ms postprocess per image at shape (1, 3, 384, 640)\n",
      "\n",
      "0: 384x640 (no detections), 53.5ms\n",
      "Speed: 3.0ms preprocess, 53.5ms inference, 1.0ms postprocess per image at shape (1, 3, 384, 640)\n",
      "\n"
     ]
    },
    {
     "name": "stdout",
     "output_type": "stream",
     "text": [
      "Time to process 1 frame: 70 milliseconds\n",
      "Time to process 1 frame: 69 milliseconds\n",
      "Time to process 1 frame: 71 milliseconds\n"
     ]
    },
    {
     "name": "stderr",
     "output_type": "stream",
     "text": [
      "0: 384x640 (no detections), 50.0ms\n",
      "Speed: 2.0ms preprocess, 50.0ms inference, 3.0ms postprocess per image at shape (1, 3, 384, 640)\n",
      "\n",
      "0: 384x640 (no detections), 52.1ms\n",
      "Speed: 2.0ms preprocess, 52.1ms inference, 1.0ms postprocess per image at shape (1, 3, 384, 640)\n",
      "\n",
      "0: 384x640 (no detections), 52.1ms\n",
      "Speed: 2.0ms preprocess, 52.1ms inference, 1.0ms postprocess per image at shape (1, 3, 384, 640)\n",
      "\n"
     ]
    },
    {
     "name": "stdout",
     "output_type": "stream",
     "text": [
      "Time to process 1 frame: 68 milliseconds\n",
      "Time to process 1 frame: 68 milliseconds\n",
      "Time to process 1 frame: 69 milliseconds\n"
     ]
    },
    {
     "name": "stderr",
     "output_type": "stream",
     "text": [
      "0: 384x640 (no detections), 58.0ms\n",
      "Speed: 2.0ms preprocess, 58.0ms inference, 2.0ms postprocess per image at shape (1, 3, 384, 640)\n",
      "\n",
      "0: 384x640 (no detections), 52.0ms\n",
      "Speed: 3.0ms preprocess, 52.0ms inference, 1.0ms postprocess per image at shape (1, 3, 384, 640)\n",
      "\n",
      "0: 384x640 (no detections), 60.4ms\n",
      "Speed: 2.0ms preprocess, 60.4ms inference, 1.0ms postprocess per image at shape (1, 3, 384, 640)\n",
      "\n"
     ]
    },
    {
     "name": "stdout",
     "output_type": "stream",
     "text": [
      "Time to process 1 frame: 76 milliseconds\n",
      "Time to process 1 frame: 69 milliseconds\n",
      "Time to process 1 frame: 76 milliseconds\n"
     ]
    },
    {
     "name": "stderr",
     "output_type": "stream",
     "text": [
      "0: 384x640 (no detections), 57.5ms\n",
      "Speed: 2.0ms preprocess, 57.5ms inference, 2.0ms postprocess per image at shape (1, 3, 384, 640)\n",
      "\n",
      "0: 384x640 1 K-031490, 57.0ms\n",
      "Speed: 2.0ms preprocess, 57.0ms inference, 2.0ms postprocess per image at shape (1, 3, 384, 640)\n",
      "\n",
      "0: 384x640 1 K-031490, 51.0ms\n",
      "Speed: 3.0ms preprocess, 51.0ms inference, 2.0ms postprocess per image at shape (1, 3, 384, 640)\n",
      "\n"
     ]
    },
    {
     "name": "stdout",
     "output_type": "stream",
     "text": [
      "Time to process 1 frame: 75 milliseconds\n",
      "Time to process 1 frame: 76 milliseconds\n",
      "Time to process 1 frame: 71 milliseconds\n"
     ]
    },
    {
     "name": "stderr",
     "output_type": "stream",
     "text": [
      "0: 384x640 (no detections), 52.0ms\n",
      "Speed: 2.0ms preprocess, 52.0ms inference, 2.0ms postprocess per image at shape (1, 3, 384, 640)\n",
      "\n",
      "0: 384x640 (no detections), 49.5ms\n",
      "Speed: 2.0ms preprocess, 49.5ms inference, 2.0ms postprocess per image at shape (1, 3, 384, 640)\n",
      "\n",
      "0: 384x640 (no detections), 51.5ms\n",
      "Speed: 2.0ms preprocess, 51.5ms inference, 1.0ms postprocess per image at shape (1, 3, 384, 640)\n",
      "\n"
     ]
    },
    {
     "name": "stdout",
     "output_type": "stream",
     "text": [
      "Time to process 1 frame: 70 milliseconds\n",
      "Time to process 1 frame: 68 milliseconds\n",
      "Time to process 1 frame: 69 milliseconds\n"
     ]
    },
    {
     "name": "stderr",
     "output_type": "stream",
     "text": [
      "0: 384x640 1 K-031490, 51.0ms\n",
      "Speed: 2.0ms preprocess, 51.0ms inference, 2.0ms postprocess per image at shape (1, 3, 384, 640)\n",
      "\n",
      "0: 384x640 1 K-031490, 57.7ms\n",
      "Speed: 3.0ms preprocess, 57.7ms inference, 2.0ms postprocess per image at shape (1, 3, 384, 640)\n",
      "\n",
      "0: 384x640 1 K-031490, 56.2ms\n",
      "Speed: 2.0ms preprocess, 56.2ms inference, 2.0ms postprocess per image at shape (1, 3, 384, 640)\n",
      "\n"
     ]
    },
    {
     "name": "stdout",
     "output_type": "stream",
     "text": [
      "Time to process 1 frame: 69 milliseconds\n",
      "Time to process 1 frame: 78 milliseconds\n",
      "Time to process 1 frame: 74 milliseconds\n"
     ]
    },
    {
     "name": "stderr",
     "output_type": "stream",
     "text": [
      "0: 384x640 1 K-031490, 54.5ms\n",
      "Speed: 3.0ms preprocess, 54.5ms inference, 2.0ms postprocess per image at shape (1, 3, 384, 640)\n",
      "\n",
      "0: 384x640 (no detections), 54.0ms\n",
      "Speed: 2.0ms preprocess, 54.0ms inference, 1.0ms postprocess per image at shape (1, 3, 384, 640)\n",
      "\n",
      "0: 384x640 1 K-031490, 49.0ms\n",
      "Speed: 2.0ms preprocess, 49.0ms inference, 3.0ms postprocess per image at shape (1, 3, 384, 640)\n",
      "\n"
     ]
    },
    {
     "name": "stdout",
     "output_type": "stream",
     "text": [
      "Time to process 1 frame: 74 milliseconds\n",
      "Time to process 1 frame: 70 milliseconds\n",
      "Time to process 1 frame: 68 milliseconds\n"
     ]
    },
    {
     "name": "stderr",
     "output_type": "stream",
     "text": [
      "0: 384x640 (no detections), 55.0ms\n",
      "Speed: 2.0ms preprocess, 55.0ms inference, 2.0ms postprocess per image at shape (1, 3, 384, 640)\n",
      "\n",
      "0: 384x640 1 K-031490, 51.0ms\n",
      "Speed: 2.0ms preprocess, 51.0ms inference, 2.0ms postprocess per image at shape (1, 3, 384, 640)\n",
      "\n",
      "0: 384x640 1 K-031490, 49.0ms\n",
      "Speed: 2.0ms preprocess, 49.0ms inference, 2.0ms postprocess per image at shape (1, 3, 384, 640)\n",
      "\n"
     ]
    },
    {
     "name": "stdout",
     "output_type": "stream",
     "text": [
      "Time to process 1 frame: 75 milliseconds\n",
      "Time to process 1 frame: 70 milliseconds\n",
      "Time to process 1 frame: 68 milliseconds\n"
     ]
    },
    {
     "name": "stderr",
     "output_type": "stream",
     "text": [
      "0: 384x640 1 K-031490, 51.0ms\n",
      "Speed: 2.0ms preprocess, 51.0ms inference, 3.0ms postprocess per image at shape (1, 3, 384, 640)\n",
      "\n",
      "0: 384x640 1 K-031490, 63.2ms\n",
      "Speed: 2.0ms preprocess, 63.2ms inference, 2.0ms postprocess per image at shape (1, 3, 384, 640)\n",
      "\n",
      "0: 384x640 1 K-031490, 1 K-044834, 60.5ms\n",
      "Speed: 3.0ms preprocess, 60.5ms inference, 2.0ms postprocess per image at shape (1, 3, 384, 640)\n",
      "\n"
     ]
    },
    {
     "name": "stdout",
     "output_type": "stream",
     "text": [
      "Time to process 1 frame: 70 milliseconds\n",
      "Time to process 1 frame: 81 milliseconds\n",
      "Time to process 1 frame: 82 milliseconds\n"
     ]
    },
    {
     "name": "stderr",
     "output_type": "stream",
     "text": [
      "0: 384x640 1 K-031490, 58.5ms\n",
      "Speed: 2.0ms preprocess, 58.5ms inference, 2.0ms postprocess per image at shape (1, 3, 384, 640)\n",
      "\n",
      "0: 384x640 2 K-031490s, 49.6ms\n",
      "Speed: 2.2ms preprocess, 49.6ms inference, 3.0ms postprocess per image at shape (1, 3, 384, 640)\n",
      "\n",
      "0: 384x640 2 K-031490s, 51.0ms\n",
      "Speed: 3.0ms preprocess, 51.0ms inference, 2.0ms postprocess per image at shape (1, 3, 384, 640)\n",
      "\n"
     ]
    },
    {
     "name": "stdout",
     "output_type": "stream",
     "text": [
      "Time to process 1 frame: 78 milliseconds\n",
      "Time to process 1 frame: 67 milliseconds\n",
      "Time to process 1 frame: 70 milliseconds\n"
     ]
    },
    {
     "name": "stderr",
     "output_type": "stream",
     "text": [
      "0: 384x640 1 K-031490, 62.5ms\n",
      "Speed: 2.0ms preprocess, 62.5ms inference, 2.0ms postprocess per image at shape (1, 3, 384, 640)\n",
      "\n",
      "0: 384x640 1 K-031490, 62.5ms\n",
      "Speed: 2.0ms preprocess, 62.5ms inference, 2.0ms postprocess per image at shape (1, 3, 384, 640)\n",
      "\n",
      "0: 384x640 (no detections), 51.2ms\n",
      "Speed: 2.0ms preprocess, 51.2ms inference, 2.0ms postprocess per image at shape (1, 3, 384, 640)\n",
      "\n"
     ]
    },
    {
     "name": "stdout",
     "output_type": "stream",
     "text": [
      "Time to process 1 frame: 85 milliseconds\n",
      "Time to process 1 frame: 82 milliseconds\n",
      "Time to process 1 frame: 68 milliseconds\n"
     ]
    },
    {
     "name": "stderr",
     "output_type": "stream",
     "text": [
      "0: 384x640 1 K-031490, 51.0ms\n",
      "Speed: 3.0ms preprocess, 51.0ms inference, 3.0ms postprocess per image at shape (1, 3, 384, 640)\n",
      "\n",
      "0: 384x640 1 K-031490, 57.9ms\n",
      "Speed: 2.0ms preprocess, 57.9ms inference, 5.0ms postprocess per image at shape (1, 3, 384, 640)\n",
      "\n",
      "0: 384x640 (no detections), 65.5ms\n",
      "Speed: 3.0ms preprocess, 65.5ms inference, 1.0ms postprocess per image at shape (1, 3, 384, 640)\n",
      "\n"
     ]
    },
    {
     "name": "stdout",
     "output_type": "stream",
     "text": [
      "Time to process 1 frame: 70 milliseconds\n",
      "Time to process 1 frame: 82 milliseconds\n",
      "Time to process 1 frame: 86 milliseconds\n"
     ]
    },
    {
     "name": "stderr",
     "output_type": "stream",
     "text": [
      "0: 384x640 1 K-031490, 58.2ms\n",
      "Speed: 2.0ms preprocess, 58.2ms inference, 2.0ms postprocess per image at shape (1, 3, 384, 640)\n",
      "\n",
      "0: 384x640 1 K-031490, 56.5ms\n",
      "Speed: 2.0ms preprocess, 56.5ms inference, 4.0ms postprocess per image at shape (1, 3, 384, 640)\n",
      "\n",
      "0: 384x640 1 K-044834, 57.5ms\n",
      "Speed: 3.0ms preprocess, 57.5ms inference, 2.0ms postprocess per image at shape (1, 3, 384, 640)\n",
      "\n"
     ]
    },
    {
     "name": "stdout",
     "output_type": "stream",
     "text": [
      "Time to process 1 frame: 78 milliseconds\n",
      "Time to process 1 frame: 80 milliseconds\n",
      "Time to process 1 frame: 77 milliseconds\n"
     ]
    },
    {
     "name": "stderr",
     "output_type": "stream",
     "text": [
      "0: 384x640 1 K-031490, 1 K-044834, 54.0ms\n",
      "Speed: 2.0ms preprocess, 54.0ms inference, 2.0ms postprocess per image at shape (1, 3, 384, 640)\n",
      "\n",
      "0: 384x640 1 K-044834, 66.9ms\n",
      "Speed: 3.0ms preprocess, 66.9ms inference, 3.0ms postprocess per image at shape (1, 3, 384, 640)\n",
      "\n",
      "0: 384x640 1 K-031490, 1 K-044834, 62.0ms\n"
     ]
    },
    {
     "name": "stdout",
     "output_type": "stream",
     "text": [
      "Time to process 1 frame: 73 milliseconds\n",
      "Time to process 1 frame: 87 milliseconds\n"
     ]
    },
    {
     "name": "stderr",
     "output_type": "stream",
     "text": [
      "Speed: 3.0ms preprocess, 62.0ms inference, 3.0ms postprocess per image at shape (1, 3, 384, 640)\n",
      "\n",
      "0: 384x640 1 K-031490, 1 K-038104, 59.1ms\n",
      "Speed: 3.0ms preprocess, 59.1ms inference, 3.0ms postprocess per image at shape (1, 3, 384, 640)\n",
      "\n",
      "0: 384x640 (no detections), 60.8ms\n",
      "Speed: 2.0ms preprocess, 60.8ms inference, 2.0ms postprocess per image at shape (1, 3, 384, 640)\n",
      "\n"
     ]
    },
    {
     "name": "stdout",
     "output_type": "stream",
     "text": [
      "Time to process 1 frame: 84 milliseconds\n",
      "Time to process 1 frame: 80 milliseconds\n",
      "Time to process 1 frame: 79 milliseconds\n"
     ]
    },
    {
     "name": "stderr",
     "output_type": "stream",
     "text": [
      "0: 384x640 1 K-031490, 57.1ms\n",
      "Speed: 2.0ms preprocess, 57.1ms inference, 2.0ms postprocess per image at shape (1, 3, 384, 640)\n",
      "\n",
      "0: 384x640 1 K-031490, 1 K-044834, 51.0ms\n",
      "Speed: 2.0ms preprocess, 51.0ms inference, 3.0ms postprocess per image at shape (1, 3, 384, 640)\n",
      "\n",
      "0: 384x640 1 K-031490, 1 K-044834, 52.0ms\n",
      "Speed: 3.0ms preprocess, 52.0ms inference, 2.0ms postprocess per image at shape (1, 3, 384, 640)\n",
      "\n"
     ]
    },
    {
     "name": "stdout",
     "output_type": "stream",
     "text": [
      "Time to process 1 frame: 74 milliseconds\n",
      "Time to process 1 frame: 74 milliseconds\n",
      "Time to process 1 frame: 70 milliseconds\n"
     ]
    },
    {
     "name": "stderr",
     "output_type": "stream",
     "text": [
      "0: 384x640 1 K-031490, 1 K-044834, 56.5ms\n",
      "Speed: 2.0ms preprocess, 56.5ms inference, 3.0ms postprocess per image at shape (1, 3, 384, 640)\n",
      "\n",
      "0: 384x640 1 K-031490, 1 K-044834, 57.5ms\n",
      "Speed: 3.0ms preprocess, 57.5ms inference, 3.0ms postprocess per image at shape (1, 3, 384, 640)\n",
      "\n",
      "0: 384x640 1 K-031490, 62.5ms\n",
      "Speed: 2.0ms preprocess, 62.5ms inference, 3.0ms postprocess per image at shape (1, 3, 384, 640)\n",
      "\n"
     ]
    },
    {
     "name": "stdout",
     "output_type": "stream",
     "text": [
      "Time to process 1 frame: 77 milliseconds\n",
      "Time to process 1 frame: 78 milliseconds\n",
      "Time to process 1 frame: 83 milliseconds\n"
     ]
    },
    {
     "name": "stderr",
     "output_type": "stream",
     "text": [
      "0: 384x640 1 K-031490, 1 K-044834, 59.3ms\n",
      "Speed: 2.0ms preprocess, 59.3ms inference, 3.0ms postprocess per image at shape (1, 3, 384, 640)\n",
      "\n",
      "0: 384x640 1 K-031490, 1 K-044834, 59.0ms\n",
      "Speed: 3.0ms preprocess, 59.0ms inference, 2.0ms postprocess per image at shape (1, 3, 384, 640)\n",
      "\n",
      "0: 384x640 1 K-031490, 62.8ms\n",
      "Speed: 3.0ms preprocess, 62.8ms inference, 4.0ms postprocess per image at shape (1, 3, 384, 640)\n",
      "\n"
     ]
    },
    {
     "name": "stdout",
     "output_type": "stream",
     "text": [
      "Time to process 1 frame: 78 milliseconds\n",
      "Time to process 1 frame: 81 milliseconds\n",
      "Time to process 1 frame: 84 milliseconds\n"
     ]
    },
    {
     "name": "stderr",
     "output_type": "stream",
     "text": [
      "0: 384x640 1 K-031490, 60.0ms\n",
      "Speed: 2.0ms preprocess, 60.0ms inference, 2.0ms postprocess per image at shape (1, 3, 384, 640)\n",
      "\n",
      "0: 384x640 (no detections), 50.5ms\n",
      "Speed: 2.0ms preprocess, 50.5ms inference, 1.0ms postprocess per image at shape (1, 3, 384, 640)\n",
      "\n",
      "0: 384x640 1 K-031490, 1 K-044834, 51.1ms\n",
      "Speed: 2.0ms preprocess, 51.1ms inference, 3.0ms postprocess per image at shape (1, 3, 384, 640)\n",
      "\n"
     ]
    },
    {
     "name": "stdout",
     "output_type": "stream",
     "text": [
      "Time to process 1 frame: 80 milliseconds\n",
      "Time to process 1 frame: 68 milliseconds\n",
      "Time to process 1 frame: 70 milliseconds\n"
     ]
    },
    {
     "name": "stderr",
     "output_type": "stream",
     "text": [
      "0: 384x640 1 K-031490, 49.0ms\n",
      "Speed: 2.0ms preprocess, 49.0ms inference, 3.0ms postprocess per image at shape (1, 3, 384, 640)\n",
      "\n",
      "0: 384x640 (no detections), 52.0ms\n",
      "Speed: 2.0ms preprocess, 52.0ms inference, 2.0ms postprocess per image at shape (1, 3, 384, 640)\n",
      "\n",
      "0: 384x640 1 K-031490, 60.5ms\n",
      "Speed: 2.0ms preprocess, 60.5ms inference, 2.0ms postprocess per image at shape (1, 3, 384, 640)\n",
      "\n"
     ]
    },
    {
     "name": "stdout",
     "output_type": "stream",
     "text": [
      "Time to process 1 frame: 68 milliseconds\n",
      "Time to process 1 frame: 69 milliseconds\n",
      "Time to process 1 frame: 79 milliseconds\n"
     ]
    },
    {
     "name": "stderr",
     "output_type": "stream",
     "text": [
      "0: 384x640 1 K-031490, 52.5ms\n",
      "Speed: 2.0ms preprocess, 52.5ms inference, 3.0ms postprocess per image at shape (1, 3, 384, 640)\n",
      "\n",
      "0: 384x640 1 K-031490, 50.0ms\n",
      "Speed: 2.0ms preprocess, 50.0ms inference, 2.0ms postprocess per image at shape (1, 3, 384, 640)\n",
      "\n",
      "0: 384x640 1 K-031490, 51.0ms\n",
      "Speed: 2.0ms preprocess, 51.0ms inference, 4.0ms postprocess per image at shape (1, 3, 384, 640)\n",
      "\n"
     ]
    },
    {
     "name": "stdout",
     "output_type": "stream",
     "text": [
      "Time to process 1 frame: 68 milliseconds\n",
      "Time to process 1 frame: 69 milliseconds\n",
      "Time to process 1 frame: 71 milliseconds\n"
     ]
    },
    {
     "name": "stderr",
     "output_type": "stream",
     "text": [
      "0: 384x640 1 K-031490, 63.5ms\n",
      "Speed: 2.0ms preprocess, 63.5ms inference, 2.0ms postprocess per image at shape (1, 3, 384, 640)\n",
      "\n",
      "0: 384x640 (no detections), 50.5ms\n",
      "Speed: 2.0ms preprocess, 50.5ms inference, 1.0ms postprocess per image at shape (1, 3, 384, 640)\n",
      "\n",
      "0: 384x640 1 K-031490, 51.0ms\n",
      "Speed: 2.0ms preprocess, 51.0ms inference, 2.0ms postprocess per image at shape (1, 3, 384, 640)\n",
      "\n"
     ]
    },
    {
     "name": "stdout",
     "output_type": "stream",
     "text": [
      "Time to process 1 frame: 82 milliseconds\n",
      "Time to process 1 frame: 69 milliseconds\n",
      "Time to process 1 frame: 70 milliseconds\n"
     ]
    },
    {
     "name": "stderr",
     "output_type": "stream",
     "text": [
      "0: 384x640 2 K-031490s, 1 K-044834, 63.8ms\n",
      "Speed: 2.0ms preprocess, 63.8ms inference, 3.0ms postprocess per image at shape (1, 3, 384, 640)\n",
      "\n",
      "0: 384x640 1 K-031490, 1 K-044834, 60.0ms\n",
      "Speed: 2.0ms preprocess, 60.0ms inference, 2.0ms postprocess per image at shape (1, 3, 384, 640)\n",
      "\n",
      "0: 384x640 2 K-031490s, 60.5ms\n",
      "Speed: 3.0ms preprocess, 60.5ms inference, 2.0ms postprocess per image at shape (1, 3, 384, 640)\n",
      "\n"
     ]
    },
    {
     "name": "stdout",
     "output_type": "stream",
     "text": [
      "Time to process 1 frame: 83 milliseconds\n",
      "Time to process 1 frame: 81 milliseconds\n",
      "Time to process 1 frame: 81 milliseconds\n"
     ]
    },
    {
     "name": "stderr",
     "output_type": "stream",
     "text": [
      "0: 384x640 2 K-031490s, 1 K-044834, 61.5ms\n",
      "Speed: 3.0ms preprocess, 61.5ms inference, 4.0ms postprocess per image at shape (1, 3, 384, 640)\n",
      "\n",
      "0: 384x640 (no detections), 59.2ms\n",
      "Speed: 2.0ms preprocess, 59.2ms inference, 1.0ms postprocess per image at shape (1, 3, 384, 640)\n",
      "\n",
      "0: 384x640 (no detections), 60.5ms\n",
      "Speed: 2.0ms preprocess, 60.5ms inference, 1.0ms postprocess per image at shape (1, 3, 384, 640)\n",
      "\n"
     ]
    },
    {
     "name": "stdout",
     "output_type": "stream",
     "text": [
      "Time to process 1 frame: 84 milliseconds\n",
      "Time to process 1 frame: 77 milliseconds\n",
      "Time to process 1 frame: 77 milliseconds\n"
     ]
    },
    {
     "name": "stderr",
     "output_type": "stream",
     "text": [
      "0: 384x640 1 K-031490, 1 K-044834, 54.8ms\n",
      "Speed: 2.0ms preprocess, 54.8ms inference, 2.0ms postprocess per image at shape (1, 3, 384, 640)\n",
      "\n",
      "0: 384x640 1 K-031490, 59.0ms\n",
      "Speed: 3.0ms preprocess, 59.0ms inference, 2.0ms postprocess per image at shape (1, 3, 384, 640)\n",
      "\n",
      "0: 384x640 1 K-031490, 52.5ms\n",
      "Speed: 2.0ms preprocess, 52.5ms inference, 3.0ms postprocess per image at shape (1, 3, 384, 640)\n",
      "\n"
     ]
    },
    {
     "name": "stdout",
     "output_type": "stream",
     "text": [
      "Time to process 1 frame: 73 milliseconds\n",
      "Time to process 1 frame: 77 milliseconds\n",
      "Time to process 1 frame: 72 milliseconds\n"
     ]
    },
    {
     "name": "stderr",
     "output_type": "stream",
     "text": [
      "0: 384x640 1 K-044834, 60.0ms\n",
      "Speed: 2.0ms preprocess, 60.0ms inference, 3.0ms postprocess per image at shape (1, 3, 384, 640)\n",
      "\n",
      "0: 384x640 1 K-031490, 1 K-044834, 56.0ms\n",
      "Speed: 3.0ms preprocess, 56.0ms inference, 2.5ms postprocess per image at shape (1, 3, 384, 640)\n",
      "\n",
      "0: 384x640 1 K-031490, 54.0ms\n",
      "Speed: 2.0ms preprocess, 54.0ms inference, 3.0ms postprocess per image at shape (1, 3, 384, 640)\n",
      "\n"
     ]
    },
    {
     "name": "stdout",
     "output_type": "stream",
     "text": [
      "Time to process 1 frame: 79 milliseconds\n",
      "Time to process 1 frame: 76 milliseconds\n",
      "Time to process 1 frame: 73 milliseconds\n"
     ]
    },
    {
     "name": "stderr",
     "output_type": "stream",
     "text": [
      "0: 384x640 1 K-031490, 1 K-044834, 57.5ms\n",
      "Speed: 1.0ms preprocess, 57.5ms inference, 2.0ms postprocess per image at shape (1, 3, 384, 640)\n",
      "\n",
      "0: 384x640 1 K-031490, 49.9ms\n",
      "Speed: 2.2ms preprocess, 49.9ms inference, 3.0ms postprocess per image at shape (1, 3, 384, 640)\n",
      "\n",
      "0: 384x640 1 K-031490, 1 K-044834, 51.5ms\n",
      "Speed: 2.0ms preprocess, 51.5ms inference, 2.0ms postprocess per image at shape (1, 3, 384, 640)\n",
      "\n"
     ]
    },
    {
     "name": "stdout",
     "output_type": "stream",
     "text": [
      "Time to process 1 frame: 75 milliseconds\n",
      "Time to process 1 frame: 67 milliseconds\n",
      "Time to process 1 frame: 72 milliseconds\n"
     ]
    },
    {
     "name": "stderr",
     "output_type": "stream",
     "text": [
      "0: 384x640 1 K-031490, 1 K-044834, 53.0ms\n",
      "Speed: 2.0ms preprocess, 53.0ms inference, 3.0ms postprocess per image at shape (1, 3, 384, 640)\n",
      "\n",
      "0: 384x640 1 K-031490, 1 K-044834, 48.5ms\n",
      "Speed: 2.0ms preprocess, 48.5ms inference, 3.0ms postprocess per image at shape (1, 3, 384, 640)\n",
      "\n",
      "0: 384x640 1 K-031490, 1 K-044834, 50.5ms\n",
      "Speed: 2.0ms preprocess, 50.5ms inference, 2.0ms postprocess per image at shape (1, 3, 384, 640)\n",
      "\n"
     ]
    },
    {
     "name": "stdout",
     "output_type": "stream",
     "text": [
      "Time to process 1 frame: 72 milliseconds\n",
      "Time to process 1 frame: 68 milliseconds\n",
      "Time to process 1 frame: 69 milliseconds\n"
     ]
    },
    {
     "name": "stderr",
     "output_type": "stream",
     "text": [
      "0: 384x640 1 K-031490, 1 K-044834, 48.0ms\n",
      "Speed: 3.0ms preprocess, 48.0ms inference, 2.0ms postprocess per image at shape (1, 3, 384, 640)\n",
      "\n",
      "0: 384x640 1 K-031490, 1 K-044834, 49.0ms\n",
      "Speed: 2.0ms preprocess, 49.0ms inference, 2.0ms postprocess per image at shape (1, 3, 384, 640)\n",
      "\n",
      "0: 384x640 1 K-031490, 1 K-044834, 52.5ms\n",
      "Speed: 2.0ms preprocess, 52.5ms inference, 2.0ms postprocess per image at shape (1, 3, 384, 640)\n",
      "\n"
     ]
    },
    {
     "name": "stdout",
     "output_type": "stream",
     "text": [
      "Time to process 1 frame: 68 milliseconds\n",
      "Time to process 1 frame: 71 milliseconds\n",
      "Time to process 1 frame: 69 milliseconds\n"
     ]
    },
    {
     "name": "stderr",
     "output_type": "stream",
     "text": [
      "0: 384x640 1 K-031490, 1 K-038104, 1 K-044834, 50.3ms\n",
      "Speed: 3.0ms preprocess, 50.3ms inference, 3.0ms postprocess per image at shape (1, 3, 384, 640)\n",
      "\n",
      "0: 384x640 2 K-031490s, 1 K-044834, 52.0ms\n",
      "Speed: 2.0ms preprocess, 52.0ms inference, 2.0ms postprocess per image at shape (1, 3, 384, 640)\n",
      "\n",
      "0: 384x640 1 K-031490, 50.0ms\n",
      "Speed: 3.0ms preprocess, 50.0ms inference, 2.0ms postprocess per image at shape (1, 3, 384, 640)\n",
      "\n"
     ]
    },
    {
     "name": "stdout",
     "output_type": "stream",
     "text": [
      "Time to process 1 frame: 70 milliseconds\n",
      "Time to process 1 frame: 71 milliseconds\n",
      "Time to process 1 frame: 69 milliseconds\n"
     ]
    },
    {
     "name": "stderr",
     "output_type": "stream",
     "text": [
      "0: 384x640 1 K-031490, 50.5ms\n",
      "Speed: 2.0ms preprocess, 50.5ms inference, 3.0ms postprocess per image at shape (1, 3, 384, 640)\n",
      "\n",
      "0: 384x640 1 K-031490, 51.1ms\n",
      "Speed: 3.0ms preprocess, 51.1ms inference, 3.0ms postprocess per image at shape (1, 3, 384, 640)\n",
      "\n",
      "0: 384x640 1 K-031490, 1 K-044834, 49.8ms\n",
      "Speed: 2.0ms preprocess, 49.8ms inference, 1.6ms postprocess per image at shape (1, 3, 384, 640)\n",
      "\n"
     ]
    },
    {
     "name": "stdout",
     "output_type": "stream",
     "text": [
      "Time to process 1 frame: 72 milliseconds\n",
      "Time to process 1 frame: 72 milliseconds\n",
      "Time to process 1 frame: 68 milliseconds\n"
     ]
    },
    {
     "name": "stderr",
     "output_type": "stream",
     "text": [
      "0: 384x640 1 K-031490, 55.0ms\n",
      "Speed: 3.0ms preprocess, 55.0ms inference, 2.0ms postprocess per image at shape (1, 3, 384, 640)\n",
      "\n",
      "0: 384x640 1 K-031490, 55.5ms\n",
      "Speed: 2.0ms preprocess, 55.5ms inference, 2.0ms postprocess per image at shape (1, 3, 384, 640)\n",
      "\n",
      "0: 384x640 1 K-031490, 1 K-044834, 51.5ms\n",
      "Speed: 2.0ms preprocess, 51.5ms inference, 2.0ms postprocess per image at shape (1, 3, 384, 640)\n",
      "\n"
     ]
    },
    {
     "name": "stdout",
     "output_type": "stream",
     "text": [
      "Time to process 1 frame: 76 milliseconds\n",
      "Time to process 1 frame: 73 milliseconds\n",
      "Time to process 1 frame: 70 milliseconds\n"
     ]
    },
    {
     "name": "stderr",
     "output_type": "stream",
     "text": [
      "0: 384x640 1 K-031490, 50.0ms\n",
      "Speed: 2.0ms preprocess, 50.0ms inference, 2.0ms postprocess per image at shape (1, 3, 384, 640)\n",
      "\n",
      "0: 384x640 1 K-031490, 60.0ms\n",
      "Speed: 1.0ms preprocess, 60.0ms inference, 4.0ms postprocess per image at shape (1, 3, 384, 640)\n",
      "\n",
      "0: 384x640 1 K-044834, 57.4ms\n",
      "Speed: 2.5ms preprocess, 57.4ms inference, 2.0ms postprocess per image at shape (1, 3, 384, 640)\n",
      "\n"
     ]
    },
    {
     "name": "stdout",
     "output_type": "stream",
     "text": [
      "Time to process 1 frame: 69 milliseconds\n",
      "Time to process 1 frame: 81 milliseconds\n",
      "Time to process 1 frame: 78 milliseconds\n"
     ]
    },
    {
     "name": "stderr",
     "output_type": "stream",
     "text": [
      "0: 384x640 1 K-044834, 58.0ms\n",
      "Speed: 2.6ms preprocess, 58.0ms inference, 4.0ms postprocess per image at shape (1, 3, 384, 640)\n",
      "\n",
      "0: 384x640 1 K-031490, 1 K-044834, 60.1ms\n",
      "Speed: 2.0ms preprocess, 60.1ms inference, 3.0ms postprocess per image at shape (1, 3, 384, 640)\n",
      "\n",
      "0: 384x640 1 K-031490, 1 K-044834, 57.1ms\n",
      "Speed: 2.0ms preprocess, 57.1ms inference, 2.0ms postprocess per image at shape (1, 3, 384, 640)\n"
     ]
    },
    {
     "name": "stdout",
     "output_type": "stream",
     "text": [
      "Time to process 1 frame: 82 milliseconds\n",
      "Time to process 1 frame: 91 milliseconds\n"
     ]
    },
    {
     "name": "stderr",
     "output_type": "stream",
     "text": [
      "\n",
      "0: 384x640 1 K-044834, 51.0ms\n",
      "Speed: 3.0ms preprocess, 51.0ms inference, 3.0ms postprocess per image at shape (1, 3, 384, 640)\n",
      "\n",
      "0: 384x640 1 K-031490, 1 K-044834, 58.0ms\n",
      "Speed: 2.0ms preprocess, 58.0ms inference, 2.0ms postprocess per image at shape (1, 3, 384, 640)\n",
      "\n"
     ]
    },
    {
     "name": "stdout",
     "output_type": "stream",
     "text": [
      "Time to process 1 frame: 78 milliseconds\n",
      "Time to process 1 frame: 75 milliseconds\n",
      "Time to process 1 frame: 77 milliseconds\n"
     ]
    },
    {
     "name": "stderr",
     "output_type": "stream",
     "text": [
      "0: 384x640 1 K-031490, 1 K-044834, 59.5ms\n",
      "Speed: 2.0ms preprocess, 59.5ms inference, 4.0ms postprocess per image at shape (1, 3, 384, 640)\n",
      "\n",
      "0: 384x640 1 K-031490, 1 K-044834, 57.5ms\n",
      "Speed: 1.6ms preprocess, 57.5ms inference, 2.0ms postprocess per image at shape (1, 3, 384, 640)\n",
      "\n",
      "0: 384x640 1 K-031490, 1 K-044834, 58.5ms\n",
      "Speed: 2.0ms preprocess, 58.5ms inference, 2.0ms postprocess per image at shape (1, 3, 384, 640)\n",
      "\n"
     ]
    },
    {
     "name": "stdout",
     "output_type": "stream",
     "text": [
      "Time to process 1 frame: 81 milliseconds\n",
      "Time to process 1 frame: 75 milliseconds\n",
      "Time to process 1 frame: 80 milliseconds\n"
     ]
    },
    {
     "name": "stderr",
     "output_type": "stream",
     "text": [
      "0: 384x640 1 K-031490, 1 K-044834, 52.5ms\n",
      "Speed: 2.0ms preprocess, 52.5ms inference, 2.0ms postprocess per image at shape (1, 3, 384, 640)\n",
      "\n",
      "0: 384x640 (no detections), 65.5ms\n",
      "Speed: 2.0ms preprocess, 65.5ms inference, 2.0ms postprocess per image at shape (1, 3, 384, 640)\n",
      "\n",
      "0: 384x640 1 K-031490, 65.0ms\n",
      "Speed: 2.0ms preprocess, 65.0ms inference, 3.0ms postprocess per image at shape (1, 3, 384, 640)\n"
     ]
    },
    {
     "name": "stdout",
     "output_type": "stream",
     "text": [
      "Time to process 1 frame: 72 milliseconds\n",
      "Time to process 1 frame: 84 milliseconds\n"
     ]
    },
    {
     "name": "stderr",
     "output_type": "stream",
     "text": [
      "\n",
      "0: 384x640 1 K-031490, 52.0ms\n",
      "Speed: 2.0ms preprocess, 52.0ms inference, 2.0ms postprocess per image at shape (1, 3, 384, 640)\n",
      "\n",
      "0: 384x640 1 K-028408, 1 K-031490, 1 K-044834, 47.5ms\n",
      "Speed: 2.6ms preprocess, 47.5ms inference, 5.0ms postprocess per image at shape (1, 3, 384, 640)\n",
      "\n"
     ]
    },
    {
     "name": "stdout",
     "output_type": "stream",
     "text": [
      "Time to process 1 frame: 85 milliseconds\n",
      "Time to process 1 frame: 71 milliseconds\n",
      "Time to process 1 frame: 71 milliseconds\n"
     ]
    },
    {
     "name": "stderr",
     "output_type": "stream",
     "text": [
      "0: 384x640 1 K-031490, 52.5ms\n",
      "Speed: 2.0ms preprocess, 52.5ms inference, 2.0ms postprocess per image at shape (1, 3, 384, 640)\n",
      "\n",
      "0: 384x640 1 K-031490, 56.0ms\n",
      "Speed: 2.0ms preprocess, 56.0ms inference, 2.5ms postprocess per image at shape (1, 3, 384, 640)\n",
      "\n",
      "0: 384x640 1 K-031490, 65.0ms\n",
      "Speed: 2.0ms preprocess, 65.0ms inference, 3.0ms postprocess per image at shape (1, 3, 384, 640)\n",
      "\n"
     ]
    },
    {
     "name": "stdout",
     "output_type": "stream",
     "text": [
      "Time to process 1 frame: 71 milliseconds\n",
      "Time to process 1 frame: 76 milliseconds\n",
      "Time to process 1 frame: 86 milliseconds\n"
     ]
    },
    {
     "name": "stderr",
     "output_type": "stream",
     "text": [
      "0: 384x640 1 K-031490, 54.0ms\n",
      "Speed: 2.0ms preprocess, 54.0ms inference, 3.0ms postprocess per image at shape (1, 3, 384, 640)\n",
      "\n",
      "0: 384x640 1 K-031490, 2 K-044834s, 55.5ms\n",
      "Speed: 2.0ms preprocess, 55.5ms inference, 4.0ms postprocess per image at shape (1, 3, 384, 640)\n",
      "\n",
      "0: 384x640 1 K-031490, 1 K-044834, 52.3ms\n",
      "Speed: 2.0ms preprocess, 52.3ms inference, 2.0ms postprocess per image at shape (1, 3, 384, 640)\n",
      "\n"
     ]
    },
    {
     "name": "stdout",
     "output_type": "stream",
     "text": [
      "Time to process 1 frame: 76 milliseconds\n",
      "Time to process 1 frame: 76 milliseconds\n",
      "Time to process 1 frame: 71 milliseconds\n"
     ]
    },
    {
     "name": "stderr",
     "output_type": "stream",
     "text": [
      "0: 384x640 1 K-031490, 49.0ms\n",
      "Speed: 2.0ms preprocess, 49.0ms inference, 2.0ms postprocess per image at shape (1, 3, 384, 640)\n",
      "\n",
      "0: 384x640 1 K-031490, 56.0ms\n",
      "Speed: 2.0ms preprocess, 56.0ms inference, 2.0ms postprocess per image at shape (1, 3, 384, 640)\n",
      "\n",
      "0: 384x640 1 K-031490, 57.2ms\n",
      "Speed: 2.0ms preprocess, 57.2ms inference, 2.0ms postprocess per image at shape (1, 3, 384, 640)\n",
      "\n"
     ]
    },
    {
     "name": "stdout",
     "output_type": "stream",
     "text": [
      "Time to process 1 frame: 68 milliseconds\n",
      "Time to process 1 frame: 76 milliseconds\n",
      "Time to process 1 frame: 75 milliseconds\n"
     ]
    },
    {
     "name": "stderr",
     "output_type": "stream",
     "text": [
      "0: 384x640 1 K-031490, 53.5ms\n",
      "Speed: 3.0ms preprocess, 53.5ms inference, 3.0ms postprocess per image at shape (1, 3, 384, 640)\n",
      "\n",
      "0: 384x640 1 K-031490, 1 K-044834, 55.5ms\n",
      "Speed: 2.0ms preprocess, 55.5ms inference, 2.0ms postprocess per image at shape (1, 3, 384, 640)\n",
      "\n",
      "0: 384x640 1 K-031490, 53.0ms\n",
      "Speed: 2.0ms preprocess, 53.0ms inference, 2.8ms postprocess per image at shape (1, 3, 384, 640)\n",
      "\n"
     ]
    },
    {
     "name": "stdout",
     "output_type": "stream",
     "text": [
      "Time to process 1 frame: 75 milliseconds\n",
      "Time to process 1 frame: 79 milliseconds\n",
      "Time to process 1 frame: 72 milliseconds\n"
     ]
    },
    {
     "name": "stderr",
     "output_type": "stream",
     "text": [
      "0: 384x640 1 K-031490, 49.0ms\n",
      "Speed: 2.0ms preprocess, 49.0ms inference, 2.0ms postprocess per image at shape (1, 3, 384, 640)\n",
      "\n",
      "0: 384x640 2 K-031490s, 51.5ms\n",
      "Speed: 1.0ms preprocess, 51.5ms inference, 2.0ms postprocess per image at shape (1, 3, 384, 640)\n",
      "\n",
      "0: 384x640 (no detections), 48.5ms\n",
      "Speed: 2.0ms preprocess, 48.5ms inference, 2.0ms postprocess per image at shape (1, 3, 384, 640)\n",
      "\n"
     ]
    },
    {
     "name": "stdout",
     "output_type": "stream",
     "text": [
      "Time to process 1 frame: 68 milliseconds\n",
      "Time to process 1 frame: 69 milliseconds\n",
      "Time to process 1 frame: 66 milliseconds\n"
     ]
    },
    {
     "name": "stderr",
     "output_type": "stream",
     "text": [
      "0: 384x640 (no detections), 50.0ms\n",
      "Speed: 2.0ms preprocess, 50.0ms inference, 2.0ms postprocess per image at shape (1, 3, 384, 640)\n",
      "\n",
      "0: 384x640 (no detections), 50.0ms\n",
      "Speed: 2.0ms preprocess, 50.0ms inference, 1.0ms postprocess per image at shape (1, 3, 384, 640)\n",
      "\n",
      "0: 384x640 (no detections), 48.5ms\n",
      "Speed: 3.0ms preprocess, 48.5ms inference, 1.0ms postprocess per image at shape (1, 3, 384, 640)\n",
      "\n",
      "0: 384x640 (no detections), 47.0ms\n"
     ]
    },
    {
     "name": "stdout",
     "output_type": "stream",
     "text": [
      "Time to process 1 frame: 67 milliseconds\n",
      "Time to process 1 frame: 67 milliseconds\n",
      "Time to process 1 frame: 66 milliseconds\n"
     ]
    },
    {
     "name": "stderr",
     "output_type": "stream",
     "text": [
      "Speed: 3.0ms preprocess, 47.0ms inference, 2.0ms postprocess per image at shape (1, 3, 384, 640)\n",
      "\n",
      "0: 384x640 (no detections), 47.5ms\n",
      "Speed: 2.1ms preprocess, 47.5ms inference, 1.0ms postprocess per image at shape (1, 3, 384, 640)\n",
      "\n",
      "0: 384x640 (no detections), 48.5ms\n",
      "Speed: 2.0ms preprocess, 48.5ms inference, 1.0ms postprocess per image at shape (1, 3, 384, 640)\n",
      "\n",
      "0: 384x640 (no detections), 48.0ms\n"
     ]
    },
    {
     "name": "stdout",
     "output_type": "stream",
     "text": [
      "Time to process 1 frame: 66 milliseconds\n",
      "Time to process 1 frame: 64 milliseconds\n",
      "Time to process 1 frame: 66 milliseconds\n"
     ]
    },
    {
     "name": "stderr",
     "output_type": "stream",
     "text": [
      "Speed: 2.0ms preprocess, 48.0ms inference, 1.5ms postprocess per image at shape (1, 3, 384, 640)\n",
      "\n",
      "0: 384x640 (no detections), 48.0ms\n",
      "Speed: 2.0ms preprocess, 48.0ms inference, 2.0ms postprocess per image at shape (1, 3, 384, 640)\n",
      "\n",
      "0: 384x640 (no detections), 50.5ms\n",
      "Speed: 2.0ms preprocess, 50.5ms inference, 1.0ms postprocess per image at shape (1, 3, 384, 640)\n",
      "\n"
     ]
    },
    {
     "name": "stdout",
     "output_type": "stream",
     "text": [
      "Time to process 1 frame: 66 milliseconds\n",
      "Time to process 1 frame: 69 milliseconds\n",
      "Time to process 1 frame: 67 milliseconds\n"
     ]
    },
    {
     "name": "stderr",
     "output_type": "stream",
     "text": [
      "0: 384x640 1 K-024127, 49.5ms\n",
      "Speed: 2.0ms preprocess, 49.5ms inference, 2.0ms postprocess per image at shape (1, 3, 384, 640)\n",
      "\n",
      "0: 384x640 1 K-024127, 53.0ms\n",
      "Speed: 3.0ms preprocess, 53.0ms inference, 2.0ms postprocess per image at shape (1, 3, 384, 640)\n",
      "\n",
      "0: 384x640 1 K-024127, 47.8ms\n",
      "Speed: 2.1ms preprocess, 47.8ms inference, 2.0ms postprocess per image at shape (1, 3, 384, 640)\n",
      "\n"
     ]
    },
    {
     "name": "stdout",
     "output_type": "stream",
     "text": [
      "Time to process 1 frame: 69 milliseconds\n",
      "Time to process 1 frame: 72 milliseconds\n",
      "Time to process 1 frame: 65 milliseconds\n"
     ]
    },
    {
     "name": "stderr",
     "output_type": "stream",
     "text": [
      "0: 384x640 (no detections), 48.5ms\n",
      "Speed: 2.0ms preprocess, 48.5ms inference, 2.0ms postprocess per image at shape (1, 3, 384, 640)\n",
      "\n",
      "0: 384x640 1 K-038722, 50.5ms\n",
      "Speed: 2.0ms preprocess, 50.5ms inference, 3.0ms postprocess per image at shape (1, 3, 384, 640)\n",
      "\n",
      "0: 384x640 1 K-024127, 50.0ms\n",
      "Speed: 3.0ms preprocess, 50.0ms inference, 2.0ms postprocess per image at shape (1, 3, 384, 640)\n",
      "\n",
      "0: 384x640 (no detections), 49.0ms\n"
     ]
    },
    {
     "name": "stdout",
     "output_type": "stream",
     "text": [
      "Time to process 1 frame: 66 milliseconds\n",
      "Time to process 1 frame: 70 milliseconds\n",
      "Time to process 1 frame: 69 milliseconds\n"
     ]
    },
    {
     "name": "stderr",
     "output_type": "stream",
     "text": [
      "Speed: 3.0ms preprocess, 49.0ms inference, 1.0ms postprocess per image at shape (1, 3, 384, 640)\n",
      "\n",
      "0: 384x640 (no detections), 50.2ms\n",
      "Speed: 3.0ms preprocess, 50.2ms inference, 1.0ms postprocess per image at shape (1, 3, 384, 640)\n",
      "\n",
      "0: 384x640 (no detections), 50.2ms\n",
      "Speed: 2.0ms preprocess, 50.2ms inference, 2.0ms postprocess per image at shape (1, 3, 384, 640)\n",
      "\n"
     ]
    },
    {
     "name": "stdout",
     "output_type": "stream",
     "text": [
      "Time to process 1 frame: 67 milliseconds\n",
      "Time to process 1 frame: 69 milliseconds\n",
      "Time to process 1 frame: 69 milliseconds\n"
     ]
    },
    {
     "name": "stderr",
     "output_type": "stream",
     "text": [
      "0: 384x640 (no detections), 50.7ms\n",
      "Speed: 2.0ms preprocess, 50.7ms inference, 1.0ms postprocess per image at shape (1, 3, 384, 640)\n",
      "\n",
      "0: 384x640 (no detections), 50.0ms\n",
      "Speed: 2.0ms preprocess, 50.0ms inference, 1.0ms postprocess per image at shape (1, 3, 384, 640)\n",
      "\n",
      "0: 384x640 (no detections), 48.5ms\n",
      "Speed: 3.0ms preprocess, 48.5ms inference, 1.0ms postprocess per image at shape (1, 3, 384, 640)\n",
      "\n"
     ]
    },
    {
     "name": "stdout",
     "output_type": "stream",
     "text": [
      "Time to process 1 frame: 67 milliseconds\n",
      "Time to process 1 frame: 68 milliseconds\n",
      "Time to process 1 frame: 66 milliseconds\n"
     ]
    },
    {
     "name": "stderr",
     "output_type": "stream",
     "text": [
      "0: 384x640 (no detections), 51.0ms\n",
      "Speed: 2.0ms preprocess, 51.0ms inference, 1.0ms postprocess per image at shape (1, 3, 384, 640)\n",
      "\n",
      "0: 384x640 1 K-041149, 49.0ms\n",
      "Speed: 2.0ms preprocess, 49.0ms inference, 3.0ms postprocess per image at shape (1, 3, 384, 640)\n",
      "\n",
      "0: 384x640 1 K-041149, 49.5ms\n",
      "Speed: 2.0ms preprocess, 49.5ms inference, 4.0ms postprocess per image at shape (1, 3, 384, 640)\n",
      "\n"
     ]
    },
    {
     "name": "stdout",
     "output_type": "stream",
     "text": [
      "Time to process 1 frame: 71 milliseconds\n",
      "Time to process 1 frame: 68 milliseconds\n",
      "Time to process 1 frame: 71 milliseconds\n"
     ]
    },
    {
     "name": "stderr",
     "output_type": "stream",
     "text": [
      "0: 384x640 (no detections), 53.0ms\n",
      "Speed: 3.0ms preprocess, 53.0ms inference, 1.6ms postprocess per image at shape (1, 3, 384, 640)\n",
      "\n",
      "0: 384x640 (no detections), 50.0ms\n",
      "Speed: 3.0ms preprocess, 50.0ms inference, 1.5ms postprocess per image at shape (1, 3, 384, 640)\n",
      "\n",
      "0: 384x640 1 K-031490, 51.0ms\n"
     ]
    },
    {
     "name": "stdout",
     "output_type": "stream",
     "text": [
      "Time to process 1 frame: 73 milliseconds\n",
      "Time to process 1 frame: 70 milliseconds\n"
     ]
    },
    {
     "name": "stderr",
     "output_type": "stream",
     "text": [
      "Speed: 3.0ms preprocess, 51.0ms inference, 2.0ms postprocess per image at shape (1, 3, 384, 640)\n",
      "\n",
      "0: 384x640 3 K-031490s, 49.0ms\n",
      "Speed: 2.0ms preprocess, 49.0ms inference, 4.0ms postprocess per image at shape (1, 3, 384, 640)\n",
      "\n",
      "0: 384x640 2 K-031490s, 48.0ms\n",
      "Speed: 2.0ms preprocess, 48.0ms inference, 3.0ms postprocess per image at shape (1, 3, 384, 640)\n",
      "\n"
     ]
    },
    {
     "name": "stdout",
     "output_type": "stream",
     "text": [
      "Time to process 1 frame: 109 milliseconds\n",
      "Time to process 1 frame: 72 milliseconds\n",
      "Time to process 1 frame: 69 milliseconds\n"
     ]
    },
    {
     "name": "stderr",
     "output_type": "stream",
     "text": [
      "0: 384x640 2 K-031490s, 57.1ms\n",
      "Speed: 2.0ms preprocess, 57.1ms inference, 5.0ms postprocess per image at shape (1, 3, 384, 640)\n",
      "\n",
      "0: 384x640 2 K-031490s, 49.5ms\n",
      "Speed: 2.0ms preprocess, 49.5ms inference, 2.1ms postprocess per image at shape (1, 3, 384, 640)\n",
      "\n",
      "0: 384x640 2 K-031490s, 1 K-044834, 49.0ms\n",
      "Speed: 3.0ms preprocess, 49.0ms inference, 2.0ms postprocess per image at shape (1, 3, 384, 640)\n",
      "\n"
     ]
    },
    {
     "name": "stdout",
     "output_type": "stream",
     "text": [
      "Time to process 1 frame: 79 milliseconds\n",
      "Time to process 1 frame: 71 milliseconds\n",
      "Time to process 1 frame: 71 milliseconds\n"
     ]
    },
    {
     "name": "stderr",
     "output_type": "stream",
     "text": [
      "0: 384x640 3 K-031490s, 50.0ms\n",
      "Speed: 2.0ms preprocess, 50.0ms inference, 2.0ms postprocess per image at shape (1, 3, 384, 640)\n",
      "\n",
      "0: 384x640 2 K-031490s, 1 K-044834, 51.0ms\n",
      "Speed: 1.5ms preprocess, 51.0ms inference, 2.0ms postprocess per image at shape (1, 3, 384, 640)\n",
      "\n",
      "0: 384x640 2 K-031490s, 48.5ms\n",
      "Speed: 3.0ms preprocess, 48.5ms inference, 2.0ms postprocess per image at shape (1, 3, 384, 640)\n",
      "\n"
     ]
    },
    {
     "name": "stdout",
     "output_type": "stream",
     "text": [
      "Time to process 1 frame: 69 milliseconds\n",
      "Time to process 1 frame: 69 milliseconds\n",
      "Time to process 1 frame: 68 milliseconds\n"
     ]
    },
    {
     "name": "stderr",
     "output_type": "stream",
     "text": [
      "0: 384x640 3 K-031490s, 1 K-044834, 48.0ms\n",
      "Speed: 2.0ms preprocess, 48.0ms inference, 3.0ms postprocess per image at shape (1, 3, 384, 640)\n",
      "\n",
      "0: 384x640 4 K-031490s, 51.0ms\n",
      "Speed: 2.0ms preprocess, 51.0ms inference, 2.0ms postprocess per image at shape (1, 3, 384, 640)\n",
      "\n",
      "0: 384x640 3 K-031490s, 58.4ms\n",
      "Speed: 3.0ms preprocess, 58.4ms inference, 3.0ms postprocess per image at shape (1, 3, 384, 640)\n",
      "\n"
     ]
    },
    {
     "name": "stdout",
     "output_type": "stream",
     "text": [
      "Time to process 1 frame: 67 milliseconds\n",
      "Time to process 1 frame: 70 milliseconds\n",
      "Time to process 1 frame: 80 milliseconds\n"
     ]
    },
    {
     "name": "stderr",
     "output_type": "stream",
     "text": [
      "0: 384x640 1 K-006697, 4 K-031490s, 1 K-044834, 57.1ms\n",
      "Speed: 3.0ms preprocess, 57.1ms inference, 2.0ms postprocess per image at shape (1, 3, 384, 640)\n",
      "\n",
      "0: 384x640 1 K-006697, 3 K-031490s, 1 K-044834, 61.1ms\n",
      "Speed: 2.0ms preprocess, 61.1ms inference, 2.0ms postprocess per image at shape (1, 3, 384, 640)\n",
      "\n",
      "0: 384x640 1 K-006697, 3 K-031490s, 1 K-044834, 52.0ms\n",
      "Speed: 2.0ms preprocess, 52.0ms inference, 1.5ms postprocess per image at shape (1, 3, 384, 640)\n",
      "\n"
     ]
    },
    {
     "name": "stdout",
     "output_type": "stream",
     "text": [
      "Time to process 1 frame: 80 milliseconds\n",
      "Time to process 1 frame: 81 milliseconds\n",
      "Time to process 1 frame: 74 milliseconds\n"
     ]
    },
    {
     "name": "stderr",
     "output_type": "stream",
     "text": [
      "0: 384x640 1 K-006697, 3 K-031490s, 1 K-044834, 60.0ms\n",
      "Speed: 2.0ms preprocess, 60.0ms inference, 2.0ms postprocess per image at shape (1, 3, 384, 640)\n",
      "\n",
      "0: 384x640 1 K-006697, 3 K-031490s, 1 K-044834, 52.5ms\n",
      "Speed: 2.0ms preprocess, 52.5ms inference, 3.0ms postprocess per image at shape (1, 3, 384, 640)\n",
      "\n",
      "0: 384x640 1 K-006697, 4 K-031490s, 1 K-044834, 57.8ms\n",
      "Speed: 2.0ms preprocess, 57.8ms inference, 2.2ms postprocess per image at shape (1, 3, 384, 640)\n",
      "\n"
     ]
    },
    {
     "name": "stdout",
     "output_type": "stream",
     "text": [
      "Time to process 1 frame: 80 milliseconds\n",
      "Time to process 1 frame: 75 milliseconds\n",
      "Time to process 1 frame: 80 milliseconds\n"
     ]
    },
    {
     "name": "stderr",
     "output_type": "stream",
     "text": [
      "0: 384x640 3 K-031490s, 2 K-044834s, 57.5ms\n",
      "Speed: 3.0ms preprocess, 57.5ms inference, 4.0ms postprocess per image at shape (1, 3, 384, 640)\n",
      "\n",
      "0: 384x640 1 K-006697, 3 K-031490s, 1 K-044834, 60.3ms\n",
      "Speed: 3.0ms preprocess, 60.3ms inference, 2.0ms postprocess per image at shape (1, 3, 384, 640)\n",
      "\n",
      "0: 384x640 1 K-006697, 3 K-031490s, 1 K-044834, 58.5ms\n",
      "Speed: 3.0ms preprocess, 58.5ms inference, 3.0ms postprocess per image at shape (1, 3, 384, 640)\n",
      "\n"
     ]
    },
    {
     "name": "stdout",
     "output_type": "stream",
     "text": [
      "Time to process 1 frame: 80 milliseconds\n",
      "Time to process 1 frame: 81 milliseconds\n",
      "Time to process 1 frame: 82 milliseconds\n"
     ]
    },
    {
     "name": "stderr",
     "output_type": "stream",
     "text": [
      "0: 384x640 1 K-006697, 2 K-031490s, 2 K-044834s, 54.0ms\n",
      "Speed: 2.0ms preprocess, 54.0ms inference, 2.0ms postprocess per image at shape (1, 3, 384, 640)\n",
      "\n",
      "0: 384x640 1 K-006697, 3 K-031490s, 1 K-044834, 48.0ms\n",
      "Speed: 2.0ms preprocess, 48.0ms inference, 3.0ms postprocess per image at shape (1, 3, 384, 640)\n",
      "\n",
      "0: 384x640 1 K-006697, 3 K-031490s, 1 K-044834, 47.5ms\n",
      "Speed: 2.0ms preprocess, 47.5ms inference, 2.0ms postprocess per image at shape (1, 3, 384, 640)\n",
      "\n"
     ]
    },
    {
     "name": "stdout",
     "output_type": "stream",
     "text": [
      "Time to process 1 frame: 74 milliseconds\n",
      "Time to process 1 frame: 69 milliseconds\n",
      "Time to process 1 frame: 69 milliseconds\n"
     ]
    },
    {
     "name": "stderr",
     "output_type": "stream",
     "text": [
      "0: 384x640 1 K-006697, 3 K-031490s, 1 K-044834, 48.3ms\n",
      "Speed: 2.1ms preprocess, 48.3ms inference, 5.0ms postprocess per image at shape (1, 3, 384, 640)\n",
      "\n",
      "0: 384x640 1 K-006697, 3 K-031490s, 1 K-044834, 48.0ms\n",
      "Speed: 2.0ms preprocess, 48.0ms inference, 2.0ms postprocess per image at shape (1, 3, 384, 640)\n",
      "\n",
      "0: 384x640 1 K-006697, 2 K-031490s, 1 K-044834, 50.0ms\n",
      "Speed: 2.0ms preprocess, 50.0ms inference, 3.0ms postprocess per image at shape (1, 3, 384, 640)\n",
      "\n"
     ]
    },
    {
     "name": "stdout",
     "output_type": "stream",
     "text": [
      "Time to process 1 frame: 71 milliseconds\n",
      "Time to process 1 frame: 68 milliseconds\n",
      "Time to process 1 frame: 72 milliseconds\n"
     ]
    },
    {
     "name": "stderr",
     "output_type": "stream",
     "text": [
      "0: 384x640 1 K-006697, 3 K-031490s, 1 K-044834, 48.5ms\n",
      "Speed: 3.0ms preprocess, 48.5ms inference, 2.0ms postprocess per image at shape (1, 3, 384, 640)\n",
      "\n",
      "0: 384x640 1 K-006697, 3 K-031490s, 1 K-044834, 49.8ms\n",
      "Speed: 1.6ms preprocess, 49.8ms inference, 3.0ms postprocess per image at shape (1, 3, 384, 640)\n",
      "\n",
      "0: 384x640 1 K-006697, 2 K-031490s, 2 K-044834s, 49.0ms\n",
      "Speed: 3.0ms preprocess, 49.0ms inference, 3.0ms postprocess per image at shape (1, 3, 384, 640)\n",
      "\n"
     ]
    },
    {
     "name": "stdout",
     "output_type": "stream",
     "text": [
      "Time to process 1 frame: 71 milliseconds\n",
      "Time to process 1 frame: 71 milliseconds\n",
      "Time to process 1 frame: 70 milliseconds\n"
     ]
    },
    {
     "name": "stderr",
     "output_type": "stream",
     "text": [
      "0: 384x640 1 K-006697, 2 K-031490s, 2 K-044834s, 53.8ms\n",
      "Speed: 2.0ms preprocess, 53.8ms inference, 2.7ms postprocess per image at shape (1, 3, 384, 640)\n",
      "\n",
      "0: 384x640 1 K-031490, 2 K-044834s, 49.5ms\n",
      "Speed: 2.0ms preprocess, 49.5ms inference, 2.0ms postprocess per image at shape (1, 3, 384, 640)\n",
      "\n",
      "0: 384x640 1 K-006697, 1 K-031490, 2 K-044834s, 55.5ms\n",
      "Speed: 3.0ms preprocess, 55.5ms inference, 2.0ms postprocess per image at shape (1, 3, 384, 640)\n",
      "\n"
     ]
    },
    {
     "name": "stdout",
     "output_type": "stream",
     "text": [
      "Time to process 1 frame: 73 milliseconds\n",
      "Time to process 1 frame: 69 milliseconds\n",
      "Time to process 1 frame: 77 milliseconds\n"
     ]
    },
    {
     "name": "stderr",
     "output_type": "stream",
     "text": [
      "0: 384x640 1 K-006697, 2 K-031490s, 2 K-044834s, 51.0ms\n",
      "Speed: 2.0ms preprocess, 51.0ms inference, 2.0ms postprocess per image at shape (1, 3, 384, 640)\n",
      "\n",
      "0: 384x640 2 K-006697s, 2 K-031490s, 1 K-044834, 58.0ms\n",
      "Speed: 2.0ms preprocess, 58.0ms inference, 2.0ms postprocess per image at shape (1, 3, 384, 640)\n",
      "\n",
      "0: 384x640 1 K-006697, 1 K-031490, 1 K-044834, 54.5ms\n",
      "Speed: 2.0ms preprocess, 54.5ms inference, 4.0ms postprocess per image at shape (1, 3, 384, 640)\n",
      "\n"
     ]
    },
    {
     "name": "stdout",
     "output_type": "stream",
     "text": [
      "Time to process 1 frame: 70 milliseconds\n",
      "Time to process 1 frame: 78 milliseconds\n",
      "Time to process 1 frame: 75 milliseconds\n"
     ]
    },
    {
     "name": "stderr",
     "output_type": "stream",
     "text": [
      "0: 384x640 2 K-006697s, 1 K-031490, 2 K-044834s, 51.5ms\n",
      "Speed: 2.0ms preprocess, 51.5ms inference, 3.0ms postprocess per image at shape (1, 3, 384, 640)\n",
      "\n",
      "0: 384x640 2 K-006697s, 2 K-031490s, 1 K-044834, 48.5ms\n",
      "Speed: 2.0ms preprocess, 48.5ms inference, 2.0ms postprocess per image at shape (1, 3, 384, 640)\n",
      "\n",
      "0: 384x640 2 K-006697s, 1 K-031490, 1 K-044834, 48.0ms\n",
      "Speed: 2.0ms preprocess, 48.0ms inference, 2.0ms postprocess per image at shape (1, 3, 384, 640)\n",
      "\n"
     ]
    },
    {
     "name": "stdout",
     "output_type": "stream",
     "text": [
      "Time to process 1 frame: 72 milliseconds\n",
      "Time to process 1 frame: 67 milliseconds\n",
      "Time to process 1 frame: 69 milliseconds\n"
     ]
    },
    {
     "name": "stderr",
     "output_type": "stream",
     "text": [
      "0: 384x640 1 K-006697, 1 K-031490, 1 K-044834, 53.5ms\n",
      "Speed: 2.0ms preprocess, 53.5ms inference, 5.0ms postprocess per image at shape (1, 3, 384, 640)\n",
      "\n",
      "0: 384x640 1 K-006697, 1 K-031490, 1 K-044834, 57.5ms\n",
      "Speed: 2.0ms preprocess, 57.5ms inference, 3.0ms postprocess per image at shape (1, 3, 384, 640)\n",
      "\n",
      "0: 384x640 1 K-006697, 2 K-031490s, 1 K-044834, 55.5ms\n",
      "Speed: 2.0ms preprocess, 55.5ms inference, 3.0ms postprocess per image at shape (1, 3, 384, 640)\n",
      "\n"
     ]
    },
    {
     "name": "stdout",
     "output_type": "stream",
     "text": [
      "Time to process 1 frame: 77 milliseconds\n",
      "Time to process 1 frame: 78 milliseconds\n",
      "Time to process 1 frame: 76 milliseconds\n"
     ]
    },
    {
     "name": "stderr",
     "output_type": "stream",
     "text": [
      "0: 384x640 1 K-006697, 2 K-031490s, 1 K-044834, 55.0ms\n",
      "Speed: 2.0ms preprocess, 55.0ms inference, 3.0ms postprocess per image at shape (1, 3, 384, 640)\n",
      "\n",
      "0: 384x640 1 K-006697, 2 K-031490s, 1 K-044834, 48.0ms\n",
      "Speed: 2.0ms preprocess, 48.0ms inference, 3.0ms postprocess per image at shape (1, 3, 384, 640)\n",
      "\n",
      "0: 384x640 1 K-006697, 2 K-031490s, 2 K-044834s, 50.5ms\n",
      "Speed: 1.5ms preprocess, 50.5ms inference, 2.0ms postprocess per image at shape (1, 3, 384, 640)\n",
      "\n"
     ]
    },
    {
     "name": "stdout",
     "output_type": "stream",
     "text": [
      "Time to process 1 frame: 75 milliseconds\n",
      "Time to process 1 frame: 69 milliseconds\n",
      "Time to process 1 frame: 67 milliseconds\n"
     ]
    },
    {
     "name": "stderr",
     "output_type": "stream",
     "text": [
      "0: 384x640 1 K-006697, 3 K-031490s, 48.1ms\n",
      "Speed: 2.0ms preprocess, 48.1ms inference, 2.0ms postprocess per image at shape (1, 3, 384, 640)\n",
      "\n",
      "0: 384x640 1 K-006697, 2 K-031490s, 1 K-044834, 51.0ms\n",
      "Speed: 2.0ms preprocess, 51.0ms inference, 2.0ms postprocess per image at shape (1, 3, 384, 640)\n",
      "\n",
      "0: 384x640 1 K-006697, 1 K-031490, 1 K-044834, 51.0ms\n",
      "Speed: 2.0ms preprocess, 51.0ms inference, 2.0ms postprocess per image at shape (1, 3, 384, 640)\n",
      "\n"
     ]
    },
    {
     "name": "stdout",
     "output_type": "stream",
     "text": [
      "Time to process 1 frame: 69 milliseconds\n",
      "Time to process 1 frame: 70 milliseconds\n",
      "Time to process 1 frame: 69 milliseconds\n"
     ]
    },
    {
     "name": "stderr",
     "output_type": "stream",
     "text": [
      "0: 384x640 1 K-006697, 1 K-031490, 1 K-044834, 48.5ms\n",
      "Speed: 3.0ms preprocess, 48.5ms inference, 2.0ms postprocess per image at shape (1, 3, 384, 640)\n",
      "\n",
      "0: 384x640 3 K-031490s, 52.2ms\n",
      "Speed: 3.0ms preprocess, 52.2ms inference, 3.0ms postprocess per image at shape (1, 3, 384, 640)\n",
      "\n",
      "0: 384x640 3 K-031490s, 51.2ms\n",
      "Speed: 3.0ms preprocess, 51.2ms inference, 2.0ms postprocess per image at shape (1, 3, 384, 640)\n",
      "\n"
     ]
    },
    {
     "name": "stdout",
     "output_type": "stream",
     "text": [
      "Time to process 1 frame: 70 milliseconds\n",
      "Time to process 1 frame: 74 milliseconds\n",
      "Time to process 1 frame: 71 milliseconds\n"
     ]
    },
    {
     "name": "stderr",
     "output_type": "stream",
     "text": [
      "0: 384x640 4 K-031490s, 50.0ms\n",
      "Speed: 2.0ms preprocess, 50.0ms inference, 3.0ms postprocess per image at shape (1, 3, 384, 640)\n",
      "\n",
      "0: 384x640 1 K-038722, 1 K-041149, 48.5ms\n",
      "Speed: 2.0ms preprocess, 48.5ms inference, 2.0ms postprocess per image at shape (1, 3, 384, 640)\n",
      "\n",
      "0: 384x640 1 K-038722, 1 K-041149, 49.5ms\n",
      "Speed: 2.0ms preprocess, 49.5ms inference, 2.0ms postprocess per image at shape (1, 3, 384, 640)\n",
      "\n"
     ]
    },
    {
     "name": "stdout",
     "output_type": "stream",
     "text": [
      "Time to process 1 frame: 70 milliseconds\n",
      "Time to process 1 frame: 71 milliseconds\n",
      "Time to process 1 frame: 70 milliseconds\n"
     ]
    },
    {
     "name": "stderr",
     "output_type": "stream",
     "text": [
      "0: 384x640 1 K-024127, 2 K-031490s, 48.0ms\n",
      "Speed: 2.0ms preprocess, 48.0ms inference, 2.0ms postprocess per image at shape (1, 3, 384, 640)\n",
      "\n",
      "0: 384x640 1 K-024127, 2 K-031490s, 1 K-044834, 50.0ms\n",
      "Speed: 3.0ms preprocess, 50.0ms inference, 2.0ms postprocess per image at shape (1, 3, 384, 640)\n",
      "\n",
      "0: 384x640 1 K-024127, 2 K-031490s, 49.1ms\n",
      "Speed: 3.0ms preprocess, 49.1ms inference, 2.0ms postprocess per image at shape (1, 3, 384, 640)\n",
      "\n"
     ]
    },
    {
     "name": "stdout",
     "output_type": "stream",
     "text": [
      "Time to process 1 frame: 67 milliseconds\n",
      "Time to process 1 frame: 71 milliseconds\n",
      "Time to process 1 frame: 68 milliseconds\n"
     ]
    },
    {
     "name": "stderr",
     "output_type": "stream",
     "text": [
      "0: 384x640 3 K-031490s, 48.9ms\n",
      "Speed: 2.0ms preprocess, 48.9ms inference, 3.0ms postprocess per image at shape (1, 3, 384, 640)\n",
      "\n",
      "0: 384x640 1 K-038722, 2 K-041149s, 51.0ms\n",
      "Speed: 2.0ms preprocess, 51.0ms inference, 2.0ms postprocess per image at shape (1, 3, 384, 640)\n",
      "\n",
      "0: 384x640 (no detections), 49.0ms\n",
      "Speed: 2.2ms preprocess, 49.0ms inference, 1.0ms postprocess per image at shape (1, 3, 384, 640)\n",
      "\n"
     ]
    },
    {
     "name": "stdout",
     "output_type": "stream",
     "text": [
      "Time to process 1 frame: 68 milliseconds\n",
      "Time to process 1 frame: 70 milliseconds\n",
      "Time to process 1 frame: 66 milliseconds\n"
     ]
    },
    {
     "name": "stderr",
     "output_type": "stream",
     "text": [
      "0: 384x640 (no detections), 51.1ms\n",
      "Speed: 2.0ms preprocess, 51.1ms inference, 1.0ms postprocess per image at shape (1, 3, 384, 640)\n",
      "\n",
      "0: 384x640 (no detections), 52.0ms\n",
      "Speed: 2.0ms preprocess, 52.0ms inference, 1.0ms postprocess per image at shape (1, 3, 384, 640)\n",
      "\n",
      "0: 384x640 (no detections), 48.0ms\n",
      "Speed: 3.0ms preprocess, 48.0ms inference, 2.0ms postprocess per image at shape (1, 3, 384, 640)\n",
      "\n"
     ]
    },
    {
     "name": "stdout",
     "output_type": "stream",
     "text": [
      "Time to process 1 frame: 67 milliseconds\n",
      "Time to process 1 frame: 69 milliseconds\n",
      "Time to process 1 frame: 67 milliseconds\n"
     ]
    },
    {
     "name": "stderr",
     "output_type": "stream",
     "text": [
      "0: 384x640 2 K-031490s, 50.5ms\n",
      "Speed: 2.0ms preprocess, 50.5ms inference, 2.0ms postprocess per image at shape (1, 3, 384, 640)\n",
      "\n",
      "0: 384x640 1 K-006697, 2 K-031490s, 51.7ms\n",
      "Speed: 2.0ms preprocess, 51.7ms inference, 2.0ms postprocess per image at shape (1, 3, 384, 640)\n",
      "\n",
      "0: 384x640 1 K-006697, 1 K-031490, 50.0ms\n",
      "Speed: 3.0ms preprocess, 50.0ms inference, 2.0ms postprocess per image at shape (1, 3, 384, 640)\n",
      "\n"
     ]
    },
    {
     "name": "stdout",
     "output_type": "stream",
     "text": [
      "Time to process 1 frame: 72 milliseconds\n",
      "Time to process 1 frame: 72 milliseconds\n",
      "Time to process 1 frame: 69 milliseconds\n"
     ]
    },
    {
     "name": "stderr",
     "output_type": "stream",
     "text": [
      "0: 384x640 2 K-006697s, 50.0ms\n",
      "Speed: 2.0ms preprocess, 50.0ms inference, 4.0ms postprocess per image at shape (1, 3, 384, 640)\n",
      "\n",
      "0: 384x640 2 K-031490s, 1 K-044834, 48.1ms\n",
      "Speed: 2.0ms preprocess, 48.1ms inference, 3.0ms postprocess per image at shape (1, 3, 384, 640)\n",
      "\n",
      "0: 384x640 1 K-006697, 1 K-031490, 1 K-044834, 48.3ms\n",
      "Speed: 2.0ms preprocess, 48.3ms inference, 3.0ms postprocess per image at shape (1, 3, 384, 640)\n",
      "\n",
      "0: 384x640 (no detections), 50.0ms\n"
     ]
    },
    {
     "name": "stdout",
     "output_type": "stream",
     "text": [
      "Time to process 1 frame: 70 milliseconds\n",
      "Time to process 1 frame: 68 milliseconds\n",
      "Time to process 1 frame: 68 milliseconds\n"
     ]
    },
    {
     "name": "stderr",
     "output_type": "stream",
     "text": [
      "Speed: 2.0ms preprocess, 50.0ms inference, 2.0ms postprocess per image at shape (1, 3, 384, 640)\n",
      "\n",
      "0: 384x640 (no detections), 49.0ms\n",
      "Speed: 2.0ms preprocess, 49.0ms inference, 2.0ms postprocess per image at shape (1, 3, 384, 640)\n",
      "\n",
      "0: 384x640 (no detections), 50.3ms\n",
      "Speed: 2.0ms preprocess, 50.3ms inference, 1.0ms postprocess per image at shape (1, 3, 384, 640)\n",
      "\n"
     ]
    },
    {
     "name": "stdout",
     "output_type": "stream",
     "text": [
      "Time to process 1 frame: 68 milliseconds\n",
      "Time to process 1 frame: 69 milliseconds\n",
      "Time to process 1 frame: 67 milliseconds\n"
     ]
    },
    {
     "name": "stderr",
     "output_type": "stream",
     "text": [
      "0: 384x640 (no detections), 50.0ms\n",
      "Speed: 2.0ms preprocess, 50.0ms inference, 1.0ms postprocess per image at shape (1, 3, 384, 640)\n",
      "\n",
      "0: 384x640 (no detections), 49.0ms\n",
      "Speed: 2.0ms preprocess, 49.0ms inference, 2.0ms postprocess per image at shape (1, 3, 384, 640)\n",
      "\n",
      "0: 384x640 (no detections), 49.5ms\n",
      "Speed: 2.0ms preprocess, 49.5ms inference, 2.0ms postprocess per image at shape (1, 3, 384, 640)\n",
      "\n"
     ]
    },
    {
     "name": "stdout",
     "output_type": "stream",
     "text": [
      "Time to process 1 frame: 68 milliseconds\n",
      "Time to process 1 frame: 68 milliseconds\n",
      "Time to process 1 frame: 70 milliseconds\n"
     ]
    },
    {
     "name": "stderr",
     "output_type": "stream",
     "text": [
      "0: 384x640 (no detections), 47.5ms\n",
      "Speed: 2.0ms preprocess, 47.5ms inference, 2.0ms postprocess per image at shape (1, 3, 384, 640)\n",
      "\n",
      "0: 384x640 (no detections), 47.9ms\n",
      "Speed: 2.1ms preprocess, 47.9ms inference, 2.0ms postprocess per image at shape (1, 3, 384, 640)\n",
      "\n",
      "0: 384x640 (no detections), 51.0ms\n",
      "Speed: 2.0ms preprocess, 51.0ms inference, 1.0ms postprocess per image at shape (1, 3, 384, 640)\n",
      "\n",
      "0: 384x640 (no detections), 50.7ms\n"
     ]
    },
    {
     "name": "stdout",
     "output_type": "stream",
     "text": [
      "Time to process 1 frame: 65 milliseconds\n",
      "Time to process 1 frame: 66 milliseconds\n",
      "Time to process 1 frame: 69 milliseconds\n"
     ]
    },
    {
     "name": "stderr",
     "output_type": "stream",
     "text": [
      "Speed: 2.0ms preprocess, 50.7ms inference, 1.0ms postprocess per image at shape (1, 3, 384, 640)\n",
      "\n",
      "0: 384x640 2 K-006697s, 50.0ms\n",
      "Speed: 3.0ms preprocess, 50.0ms inference, 2.0ms postprocess per image at shape (1, 3, 384, 640)\n",
      "\n",
      "0: 384x640 1 K-006697, 49.0ms\n",
      "Speed: 2.0ms preprocess, 49.0ms inference, 2.0ms postprocess per image at shape (1, 3, 384, 640)\n",
      "\n"
     ]
    },
    {
     "name": "stdout",
     "output_type": "stream",
     "text": [
      "Time to process 1 frame: 67 milliseconds\n",
      "Time to process 1 frame: 68 milliseconds\n",
      "Time to process 1 frame: 67 milliseconds\n"
     ]
    },
    {
     "name": "stderr",
     "output_type": "stream",
     "text": [
      "0: 384x640 2 K-006697s, 49.5ms\n",
      "Speed: 3.0ms preprocess, 49.5ms inference, 2.0ms postprocess per image at shape (1, 3, 384, 640)\n",
      "\n",
      "0: 384x640 1 K-031490, 1 K-038104, 48.5ms\n",
      "Speed: 2.0ms preprocess, 48.5ms inference, 2.0ms postprocess per image at shape (1, 3, 384, 640)\n",
      "\n",
      "0: 384x640 2 K-031490s, 1 K-038104, 49.5ms\n",
      "Speed: 1.9ms preprocess, 49.5ms inference, 3.0ms postprocess per image at shape (1, 3, 384, 640)\n",
      "\n"
     ]
    },
    {
     "name": "stdout",
     "output_type": "stream",
     "text": [
      "Time to process 1 frame: 69 milliseconds\n",
      "Time to process 1 frame: 68 milliseconds\n",
      "Time to process 1 frame: 70 milliseconds\n"
     ]
    },
    {
     "name": "stderr",
     "output_type": "stream",
     "text": [
      "0: 384x640 2 K-031490s, 1 K-044834, 59.0ms\n",
      "Speed: 3.0ms preprocess, 59.0ms inference, 2.0ms postprocess per image at shape (1, 3, 384, 640)\n",
      "\n",
      "0: 384x640 3 K-031490s, 1 K-038104, 1 K-044834, 56.5ms\n",
      "Speed: 2.0ms preprocess, 56.5ms inference, 2.0ms postprocess per image at shape (1, 3, 384, 640)\n",
      "\n",
      "0: 384x640 2 K-031490s, 1 K-044834, 59.5ms\n",
      "Speed: 2.0ms preprocess, 59.5ms inference, 2.0ms postprocess per image at shape (1, 3, 384, 640)\n",
      "\n"
     ]
    },
    {
     "name": "stdout",
     "output_type": "stream",
     "text": [
      "Time to process 1 frame: 79 milliseconds\n",
      "Time to process 1 frame: 75 milliseconds\n",
      "Time to process 1 frame: 78 milliseconds\n"
     ]
    },
    {
     "name": "stderr",
     "output_type": "stream",
     "text": [
      "0: 384x640 1 K-016688, 3 K-031490s, 1 K-044834, 53.5ms\n",
      "Speed: 2.0ms preprocess, 53.5ms inference, 2.0ms postprocess per image at shape (1, 3, 384, 640)\n",
      "\n",
      "0: 384x640 3 K-031490s, 1 K-038104, 52.0ms\n",
      "Speed: 2.0ms preprocess, 52.0ms inference, 3.0ms postprocess per image at shape (1, 3, 384, 640)\n",
      "\n",
      "0: 384x640 2 K-031490s, 1 K-038104, 52.0ms\n",
      "Speed: 3.0ms preprocess, 52.0ms inference, 2.0ms postprocess per image at shape (1, 3, 384, 640)\n",
      "\n"
     ]
    },
    {
     "name": "stdout",
     "output_type": "stream",
     "text": [
      "Time to process 1 frame: 75 milliseconds\n",
      "Time to process 1 frame: 72 milliseconds\n",
      "Time to process 1 frame: 72 milliseconds\n"
     ]
    },
    {
     "name": "stderr",
     "output_type": "stream",
     "text": [
      "0: 384x640 3 K-031490s, 51.4ms\n",
      "Speed: 2.0ms preprocess, 51.4ms inference, 2.0ms postprocess per image at shape (1, 3, 384, 640)\n",
      "\n",
      "0: 384x640 3 K-031490s, 50.5ms\n",
      "Speed: 2.0ms preprocess, 50.5ms inference, 2.0ms postprocess per image at shape (1, 3, 384, 640)\n",
      "\n",
      "0: 384x640 3 K-031490s, 50.0ms\n",
      "Speed: 2.0ms preprocess, 50.0ms inference, 3.0ms postprocess per image at shape (1, 3, 384, 640)\n",
      "\n"
     ]
    },
    {
     "name": "stdout",
     "output_type": "stream",
     "text": [
      "Time to process 1 frame: 70 milliseconds\n",
      "Time to process 1 frame: 72 milliseconds\n",
      "Time to process 1 frame: 72 milliseconds\n"
     ]
    },
    {
     "name": "stderr",
     "output_type": "stream",
     "text": [
      "0: 384x640 3 K-031490s, 52.0ms\n",
      "Speed: 2.0ms preprocess, 52.0ms inference, 2.0ms postprocess per image at shape (1, 3, 384, 640)\n",
      "\n",
      "0: 384x640 2 K-031490s, 52.5ms\n",
      "Speed: 2.0ms preprocess, 52.5ms inference, 2.0ms postprocess per image at shape (1, 3, 384, 640)\n",
      "\n",
      "0: 384x640 2 K-031490s, 50.5ms\n",
      "Speed: 3.0ms preprocess, 50.5ms inference, 3.0ms postprocess per image at shape (1, 3, 384, 640)\n",
      "\n"
     ]
    },
    {
     "name": "stdout",
     "output_type": "stream",
     "text": [
      "Time to process 1 frame: 73 milliseconds\n",
      "Time to process 1 frame: 75 milliseconds\n",
      "Time to process 1 frame: 72 milliseconds\n"
     ]
    },
    {
     "name": "stderr",
     "output_type": "stream",
     "text": [
      "0: 384x640 1 K-031490, 50.0ms\n",
      "Speed: 2.0ms preprocess, 50.0ms inference, 3.0ms postprocess per image at shape (1, 3, 384, 640)\n",
      "\n",
      "0: 384x640 1 K-016688, 1 K-031490, 49.0ms\n",
      "Speed: 2.0ms preprocess, 49.0ms inference, 3.0ms postprocess per image at shape (1, 3, 384, 640)\n",
      "\n",
      "0: 384x640 1 K-031490, 1 K-038104, 1 K-044834, 48.2ms\n",
      "Speed: 2.0ms preprocess, 48.2ms inference, 2.0ms postprocess per image at shape (1, 3, 384, 640)\n",
      "\n"
     ]
    },
    {
     "name": "stdout",
     "output_type": "stream",
     "text": [
      "Time to process 1 frame: 71 milliseconds\n",
      "Time to process 1 frame: 70 milliseconds\n",
      "Time to process 1 frame: 67 milliseconds\n"
     ]
    },
    {
     "name": "stderr",
     "output_type": "stream",
     "text": [
      "0: 384x640 3 K-031490s, 51.1ms\n",
      "Speed: 2.0ms preprocess, 51.1ms inference, 3.0ms postprocess per image at shape (1, 3, 384, 640)\n",
      "\n",
      "0: 384x640 2 K-031490s, 50.0ms\n",
      "Speed: 2.0ms preprocess, 50.0ms inference, 2.0ms postprocess per image at shape (1, 3, 384, 640)\n",
      "\n",
      "0: 384x640 2 K-031490s, 1 K-044834, 49.0ms\n",
      "Speed: 3.0ms preprocess, 49.0ms inference, 3.0ms postprocess per image at shape (1, 3, 384, 640)\n",
      "\n"
     ]
    },
    {
     "name": "stdout",
     "output_type": "stream",
     "text": [
      "Time to process 1 frame: 71 milliseconds\n",
      "Time to process 1 frame: 70 milliseconds\n",
      "Time to process 1 frame: 70 milliseconds\n"
     ]
    },
    {
     "name": "stderr",
     "output_type": "stream",
     "text": [
      "0: 384x640 2 K-031490s, 49.5ms\n",
      "Speed: 3.0ms preprocess, 49.5ms inference, 3.0ms postprocess per image at shape (1, 3, 384, 640)\n",
      "\n",
      "0: 384x640 2 K-031490s, 47.5ms\n",
      "Speed: 3.0ms preprocess, 47.5ms inference, 2.0ms postprocess per image at shape (1, 3, 384, 640)\n",
      "\n",
      "0: 384x640 1 K-031490, 52.0ms\n",
      "Speed: 2.0ms preprocess, 52.0ms inference, 3.0ms postprocess per image at shape (1, 3, 384, 640)\n",
      "\n"
     ]
    },
    {
     "name": "stdout",
     "output_type": "stream",
     "text": [
      "Time to process 1 frame: 71 milliseconds\n",
      "Time to process 1 frame: 69 milliseconds\n",
      "Time to process 1 frame: 72 milliseconds\n"
     ]
    },
    {
     "name": "stderr",
     "output_type": "stream",
     "text": [
      "0: 384x640 2 K-031490s, 49.3ms\n",
      "Speed: 2.0ms preprocess, 49.3ms inference, 3.0ms postprocess per image at shape (1, 3, 384, 640)\n",
      "\n",
      "0: 384x640 2 K-031490s, 1 K-044834, 51.1ms\n",
      "Speed: 2.0ms preprocess, 51.1ms inference, 2.0ms postprocess per image at shape (1, 3, 384, 640)\n",
      "\n",
      "0: 384x640 2 K-031490s, 1 K-044834, 49.2ms\n",
      "Speed: 2.0ms preprocess, 49.2ms inference, 2.0ms postprocess per image at shape (1, 3, 384, 640)\n",
      "\n"
     ]
    },
    {
     "name": "stdout",
     "output_type": "stream",
     "text": [
      "Time to process 1 frame: 70 milliseconds\n",
      "Time to process 1 frame: 69 milliseconds\n",
      "Time to process 1 frame: 69 milliseconds\n"
     ]
    },
    {
     "name": "stderr",
     "output_type": "stream",
     "text": [
      "0: 384x640 2 K-031490s, 1 K-044834, 55.0ms\n",
      "Speed: 2.0ms preprocess, 55.0ms inference, 3.0ms postprocess per image at shape (1, 3, 384, 640)\n",
      "\n",
      "0: 384x640 1 K-031490, 51.0ms\n",
      "Speed: 2.0ms preprocess, 51.0ms inference, 2.0ms postprocess per image at shape (1, 3, 384, 640)\n",
      "\n",
      "0: 384x640 2 K-031490s, 1 K-038104, 1 K-044834, 48.5ms\n",
      "Speed: 2.0ms preprocess, 48.5ms inference, 4.0ms postprocess per image at shape (1, 3, 384, 640)\n",
      "\n"
     ]
    },
    {
     "name": "stdout",
     "output_type": "stream",
     "text": [
      "Time to process 1 frame: 75 milliseconds\n",
      "Time to process 1 frame: 75 milliseconds\n",
      "Time to process 1 frame: 73 milliseconds\n"
     ]
    },
    {
     "name": "stderr",
     "output_type": "stream",
     "text": [
      "0: 384x640 2 K-031490s, 1 K-044834, 49.5ms\n",
      "Speed: 2.0ms preprocess, 49.5ms inference, 3.0ms postprocess per image at shape (1, 3, 384, 640)\n",
      "\n",
      "0: 384x640 2 K-031490s, 1 K-044834, 49.3ms\n",
      "Speed: 1.6ms preprocess, 49.3ms inference, 3.0ms postprocess per image at shape (1, 3, 384, 640)\n",
      "\n",
      "0: 384x640 2 K-031490s, 1 K-044834, 51.0ms\n",
      "Speed: 2.0ms preprocess, 51.0ms inference, 2.0ms postprocess per image at shape (1, 3, 384, 640)\n",
      "\n"
     ]
    },
    {
     "name": "stdout",
     "output_type": "stream",
     "text": [
      "Time to process 1 frame: 70 milliseconds\n",
      "Time to process 1 frame: 68 milliseconds\n",
      "Time to process 1 frame: 69 milliseconds\n"
     ]
    },
    {
     "name": "stderr",
     "output_type": "stream",
     "text": [
      "0: 384x640 2 K-031490s, 1 K-044834, 49.5ms\n",
      "Speed: 2.0ms preprocess, 49.5ms inference, 2.0ms postprocess per image at shape (1, 3, 384, 640)\n",
      "\n",
      "0: 384x640 2 K-031490s, 1 K-044834, 51.5ms\n",
      "Speed: 2.0ms preprocess, 51.5ms inference, 4.0ms postprocess per image at shape (1, 3, 384, 640)\n",
      "\n",
      "0: 384x640 2 K-031490s, 1 K-044834, 50.0ms\n",
      "Speed: 2.0ms preprocess, 50.0ms inference, 3.0ms postprocess per image at shape (1, 3, 384, 640)\n",
      "\n"
     ]
    },
    {
     "name": "stdout",
     "output_type": "stream",
     "text": [
      "Time to process 1 frame: 69 milliseconds\n",
      "Time to process 1 frame: 74 milliseconds\n",
      "Time to process 1 frame: 70 milliseconds\n"
     ]
    },
    {
     "name": "stderr",
     "output_type": "stream",
     "text": [
      "0: 384x640 3 K-031490s, 51.0ms\n",
      "Speed: 2.0ms preprocess, 51.0ms inference, 2.0ms postprocess per image at shape (1, 3, 384, 640)\n",
      "\n",
      "0: 384x640 3 K-031490s, 50.4ms\n",
      "Speed: 2.0ms preprocess, 50.4ms inference, 3.0ms postprocess per image at shape (1, 3, 384, 640)\n",
      "\n",
      "0: 384x640 3 K-031490s, 1 K-044834, 52.5ms\n",
      "Speed: 3.0ms preprocess, 52.5ms inference, 2.0ms postprocess per image at shape (1, 3, 384, 640)\n",
      "\n"
     ]
    },
    {
     "name": "stdout",
     "output_type": "stream",
     "text": [
      "Time to process 1 frame: 69 milliseconds\n",
      "Time to process 1 frame: 71 milliseconds\n",
      "Time to process 1 frame: 69 milliseconds\n"
     ]
    },
    {
     "name": "stderr",
     "output_type": "stream",
     "text": [
      "0: 384x640 2 K-031490s, 1 K-044834, 50.0ms\n",
      "Speed: 2.0ms preprocess, 50.0ms inference, 3.0ms postprocess per image at shape (1, 3, 384, 640)\n",
      "\n",
      "0: 384x640 2 K-031490s, 1 K-044834, 48.0ms\n",
      "Speed: 3.0ms preprocess, 48.0ms inference, 2.0ms postprocess per image at shape (1, 3, 384, 640)\n",
      "\n",
      "0: 384x640 2 K-031490s, 1 K-044834, 54.5ms\n",
      "Speed: 2.0ms preprocess, 54.5ms inference, 2.0ms postprocess per image at shape (1, 3, 384, 640)\n",
      "\n"
     ]
    },
    {
     "name": "stdout",
     "output_type": "stream",
     "text": [
      "Time to process 1 frame: 72 milliseconds\n",
      "Time to process 1 frame: 68 milliseconds\n",
      "Time to process 1 frame: 74 milliseconds\n"
     ]
    },
    {
     "name": "stderr",
     "output_type": "stream",
     "text": [
      "0: 384x640 3 K-031490s, 1 K-044834, 50.2ms\n",
      "Speed: 3.0ms preprocess, 50.2ms inference, 2.0ms postprocess per image at shape (1, 3, 384, 640)\n",
      "\n",
      "0: 384x640 2 K-031490s, 49.7ms\n",
      "Speed: 3.0ms preprocess, 49.7ms inference, 3.0ms postprocess per image at shape (1, 3, 384, 640)\n",
      "\n",
      "0: 384x640 2 K-031490s, 1 K-044834, 49.9ms\n",
      "Speed: 3.5ms preprocess, 49.9ms inference, 2.0ms postprocess per image at shape (1, 3, 384, 640)\n",
      "\n"
     ]
    },
    {
     "name": "stdout",
     "output_type": "stream",
     "text": [
      "Time to process 1 frame: 70 milliseconds\n",
      "Time to process 1 frame: 71 milliseconds\n",
      "Time to process 1 frame: 69 milliseconds\n"
     ]
    },
    {
     "name": "stderr",
     "output_type": "stream",
     "text": [
      "0: 384x640 2 K-031490s, 51.5ms\n",
      "Speed: 2.0ms preprocess, 51.5ms inference, 2.0ms postprocess per image at shape (1, 3, 384, 640)\n",
      "\n",
      "0: 384x640 2 K-031490s, 52.5ms\n",
      "Speed: 2.0ms preprocess, 52.5ms inference, 2.0ms postprocess per image at shape (1, 3, 384, 640)\n",
      "\n",
      "0: 384x640 1 K-031490, 1 K-038722, 1 K-044834, 49.0ms\n",
      "Speed: 2.0ms preprocess, 49.0ms inference, 2.0ms postprocess per image at shape (1, 3, 384, 640)\n",
      "\n"
     ]
    },
    {
     "name": "stdout",
     "output_type": "stream",
     "text": [
      "Time to process 1 frame: 71 milliseconds\n",
      "Time to process 1 frame: 73 milliseconds\n",
      "Time to process 1 frame: 68 milliseconds\n"
     ]
    },
    {
     "name": "stderr",
     "output_type": "stream",
     "text": [
      "0: 384x640 2 K-031490s, 1 K-038722, 1 K-044834, 50.0ms\n",
      "Speed: 2.5ms preprocess, 50.0ms inference, 2.0ms postprocess per image at shape (1, 3, 384, 640)\n",
      "\n",
      "0: 384x640 2 K-031490s, 1 K-044834, 50.5ms\n",
      "Speed: 2.0ms preprocess, 50.5ms inference, 2.0ms postprocess per image at shape (1, 3, 384, 640)\n",
      "\n",
      "0: 384x640 2 K-031490s, 1 K-044834, 53.0ms\n",
      "Speed: 2.0ms preprocess, 53.0ms inference, 3.0ms postprocess per image at shape (1, 3, 384, 640)\n",
      "\n"
     ]
    },
    {
     "name": "stdout",
     "output_type": "stream",
     "text": [
      "Time to process 1 frame: 72 milliseconds\n",
      "Time to process 1 frame: 69 milliseconds\n",
      "Time to process 1 frame: 74 milliseconds\n"
     ]
    },
    {
     "name": "stderr",
     "output_type": "stream",
     "text": [
      "0: 384x640 2 K-031490s, 1 K-044834, 49.2ms\n",
      "Speed: 3.0ms preprocess, 49.2ms inference, 3.0ms postprocess per image at shape (1, 3, 384, 640)\n",
      "\n",
      "0: 384x640 1 K-016688, 2 K-031490s, 1 K-044834, 48.0ms\n",
      "Speed: 2.0ms preprocess, 48.0ms inference, 2.0ms postprocess per image at shape (1, 3, 384, 640)\n",
      "\n",
      "0: 384x640 1 K-016688, 2 K-031490s, 1 K-044834, 49.5ms\n",
      "Speed: 2.0ms preprocess, 49.5ms inference, 2.0ms postprocess per image at shape (1, 3, 384, 640)\n",
      "\n"
     ]
    },
    {
     "name": "stdout",
     "output_type": "stream",
     "text": [
      "Time to process 1 frame: 70 milliseconds\n",
      "Time to process 1 frame: 70 milliseconds\n",
      "Time to process 1 frame: 69 milliseconds\n"
     ]
    },
    {
     "name": "stderr",
     "output_type": "stream",
     "text": [
      "0: 384x640 1 K-016688, 2 K-031490s, 1 K-044834, 51.0ms\n",
      "Speed: 2.0ms preprocess, 51.0ms inference, 2.5ms postprocess per image at shape (1, 3, 384, 640)\n",
      "\n",
      "0: 384x640 2 K-031490s, 1 K-044834, 49.0ms\n",
      "Speed: 2.0ms preprocess, 49.0ms inference, 2.0ms postprocess per image at shape (1, 3, 384, 640)\n",
      "\n",
      "0: 384x640 1 K-016688, 2 K-031490s, 1 K-044834, 47.5ms\n",
      "Speed: 2.0ms preprocess, 47.5ms inference, 2.0ms postprocess per image at shape (1, 3, 384, 640)\n",
      "\n"
     ]
    },
    {
     "name": "stdout",
     "output_type": "stream",
     "text": [
      "Time to process 1 frame: 71 milliseconds\n",
      "Time to process 1 frame: 67 milliseconds\n",
      "Time to process 1 frame: 68 milliseconds\n"
     ]
    },
    {
     "name": "stderr",
     "output_type": "stream",
     "text": [
      "0: 384x640 1 K-016688, 2 K-031490s, 1 K-044834, 53.5ms\n",
      "Speed: 2.0ms preprocess, 53.5ms inference, 3.0ms postprocess per image at shape (1, 3, 384, 640)\n",
      "\n",
      "0: 384x640 1 K-016688, 1 K-031490, 53.0ms\n",
      "Speed: 2.0ms preprocess, 53.0ms inference, 2.0ms postprocess per image at shape (1, 3, 384, 640)\n",
      "\n",
      "0: 384x640 1 K-016688, 2 K-031490s, 1 K-044834, 54.0ms\n",
      "Speed: 2.0ms preprocess, 54.0ms inference, 2.0ms postprocess per image at shape (1, 3, 384, 640)\n",
      "\n"
     ]
    },
    {
     "name": "stdout",
     "output_type": "stream",
     "text": [
      "Time to process 1 frame: 75 milliseconds\n",
      "Time to process 1 frame: 74 milliseconds\n",
      "Time to process 1 frame: 78 milliseconds\n"
     ]
    },
    {
     "name": "stderr",
     "output_type": "stream",
     "text": [
      "0: 384x640 1 K-016688, 1 K-031490, 56.0ms\n",
      "Speed: 3.0ms preprocess, 56.0ms inference, 4.0ms postprocess per image at shape (1, 3, 384, 640)\n",
      "\n",
      "0: 384x640 1 K-031490, 1 K-044834, 51.5ms\n",
      "Speed: 2.0ms preprocess, 51.5ms inference, 4.0ms postprocess per image at shape (1, 3, 384, 640)\n",
      "\n",
      "0: 384x640 1 K-031490, 1 K-044834, 48.5ms\n",
      "Speed: 2.0ms preprocess, 48.5ms inference, 3.0ms postprocess per image at shape (1, 3, 384, 640)\n",
      "\n"
     ]
    },
    {
     "name": "stdout",
     "output_type": "stream",
     "text": [
      "Time to process 1 frame: 80 milliseconds\n",
      "Time to process 1 frame: 75 milliseconds\n",
      "Time to process 1 frame: 71 milliseconds\n"
     ]
    },
    {
     "name": "stderr",
     "output_type": "stream",
     "text": [
      "0: 384x640 1 K-016688, 1 K-031490, 1 K-044834, 50.0ms\n",
      "Speed: 3.0ms preprocess, 50.0ms inference, 3.0ms postprocess per image at shape (1, 3, 384, 640)\n",
      "\n",
      "0: 384x640 1 K-016688, 1 K-031490, 1 K-044834, 49.3ms\n",
      "Speed: 3.0ms preprocess, 49.3ms inference, 2.1ms postprocess per image at shape (1, 3, 384, 640)\n",
      "\n",
      "0: 384x640 1 K-016688, 2 K-031490s, 48.5ms\n",
      "Speed: 3.0ms preprocess, 48.5ms inference, 2.0ms postprocess per image at shape (1, 3, 384, 640)\n",
      "\n",
      "0: 384x640 4 K-031490s, 49.5ms\n"
     ]
    },
    {
     "name": "stdout",
     "output_type": "stream",
     "text": [
      "Time to process 1 frame: 71 milliseconds\n",
      "Time to process 1 frame: 69 milliseconds\n",
      "Time to process 1 frame: 69 milliseconds\n"
     ]
    },
    {
     "name": "stderr",
     "output_type": "stream",
     "text": [
      "Speed: 2.0ms preprocess, 49.5ms inference, 2.0ms postprocess per image at shape (1, 3, 384, 640)\n",
      "\n",
      "0: 384x640 1 K-016688, 2 K-031490s, 48.0ms\n",
      "Speed: 2.0ms preprocess, 48.0ms inference, 2.0ms postprocess per image at shape (1, 3, 384, 640)\n",
      "\n",
      "0: 384x640 2 K-016688s, 2 K-031490s, 51.5ms\n",
      "Speed: 2.0ms preprocess, 51.5ms inference, 3.0ms postprocess per image at shape (1, 3, 384, 640)\n",
      "\n"
     ]
    },
    {
     "name": "stdout",
     "output_type": "stream",
     "text": [
      "Time to process 1 frame: 68 milliseconds\n",
      "Time to process 1 frame: 68 milliseconds\n",
      "Time to process 1 frame: 72 milliseconds\n"
     ]
    },
    {
     "name": "stderr",
     "output_type": "stream",
     "text": [
      "0: 384x640 2 K-016688s, 3 K-031490s, 52.5ms\n",
      "Speed: 2.0ms preprocess, 52.5ms inference, 3.0ms postprocess per image at shape (1, 3, 384, 640)\n",
      "\n",
      "0: 384x640 2 K-031490s, 51.5ms\n",
      "Speed: 2.0ms preprocess, 51.5ms inference, 3.0ms postprocess per image at shape (1, 3, 384, 640)\n",
      "\n",
      "0: 384x640 2 K-016688s, 1 K-031490, 52.1ms\n",
      "Speed: 2.0ms preprocess, 52.1ms inference, 2.0ms postprocess per image at shape (1, 3, 384, 640)\n",
      "\n"
     ]
    },
    {
     "name": "stdout",
     "output_type": "stream",
     "text": [
      "Time to process 1 frame: 75 milliseconds\n",
      "Time to process 1 frame: 71 milliseconds\n",
      "Time to process 1 frame: 74 milliseconds\n"
     ]
    },
    {
     "name": "stderr",
     "output_type": "stream",
     "text": [
      "0: 384x640 1 K-016688, 2 K-031490s, 51.0ms\n",
      "Speed: 2.9ms preprocess, 51.0ms inference, 2.0ms postprocess per image at shape (1, 3, 384, 640)\n",
      "\n",
      "0: 384x640 2 K-031490s, 1 K-044834, 49.4ms\n",
      "Speed: 2.0ms preprocess, 49.4ms inference, 2.0ms postprocess per image at shape (1, 3, 384, 640)\n",
      "\n",
      "0: 384x640 1 K-016688, 3 K-031490s, 1 K-044834, 48.5ms\n",
      "Speed: 2.0ms preprocess, 48.5ms inference, 2.0ms postprocess per image at shape (1, 3, 384, 640)\n",
      "\n"
     ]
    },
    {
     "name": "stdout",
     "output_type": "stream",
     "text": [
      "Time to process 1 frame: 70 milliseconds\n",
      "Time to process 1 frame: 69 milliseconds\n",
      "Time to process 1 frame: 71 milliseconds\n"
     ]
    },
    {
     "name": "stderr",
     "output_type": "stream",
     "text": [
      "0: 384x640 1 K-031490, 1 K-044834, 53.0ms\n",
      "Speed: 3.0ms preprocess, 53.0ms inference, 2.0ms postprocess per image at shape (1, 3, 384, 640)\n",
      "\n",
      "0: 384x640 1 K-031490, 1 K-044834, 49.0ms\n",
      "Speed: 2.0ms preprocess, 49.0ms inference, 3.0ms postprocess per image at shape (1, 3, 384, 640)\n",
      "\n",
      "0: 384x640 2 K-031490s, 1 K-044834, 50.5ms\n",
      "Speed: 2.0ms preprocess, 50.5ms inference, 2.0ms postprocess per image at shape (1, 3, 384, 640)\n",
      "\n"
     ]
    },
    {
     "name": "stdout",
     "output_type": "stream",
     "text": [
      "Time to process 1 frame: 73 milliseconds\n",
      "Time to process 1 frame: 69 milliseconds\n",
      "Time to process 1 frame: 70 milliseconds\n"
     ]
    },
    {
     "name": "stderr",
     "output_type": "stream",
     "text": [
      "0: 384x640 1 K-031490, 1 K-044834, 48.8ms\n",
      "Speed: 2.0ms preprocess, 48.8ms inference, 2.0ms postprocess per image at shape (1, 3, 384, 640)\n",
      "\n",
      "0: 384x640 1 K-031490, 1 K-044834, 51.0ms\n",
      "Speed: 3.0ms preprocess, 51.0ms inference, 3.0ms postprocess per image at shape (1, 3, 384, 640)\n",
      "\n",
      "0: 384x640 2 K-031490s, 1 K-044834, 50.0ms\n",
      "Speed: 2.0ms preprocess, 50.0ms inference, 3.0ms postprocess per image at shape (1, 3, 384, 640)\n",
      "\n"
     ]
    },
    {
     "name": "stdout",
     "output_type": "stream",
     "text": [
      "Time to process 1 frame: 68 milliseconds\n",
      "Time to process 1 frame: 75 milliseconds\n",
      "Time to process 1 frame: 69 milliseconds\n"
     ]
    },
    {
     "name": "stderr",
     "output_type": "stream",
     "text": [
      "0: 384x640 2 K-031490s, 48.5ms\n",
      "Speed: 2.0ms preprocess, 48.5ms inference, 3.0ms postprocess per image at shape (1, 3, 384, 640)\n",
      "\n",
      "0: 384x640 2 K-031490s, 50.5ms\n",
      "Speed: 3.0ms preprocess, 50.5ms inference, 2.0ms postprocess per image at shape (1, 3, 384, 640)\n",
      "\n",
      "0: 384x640 1 K-006697, 2 K-031490s, 49.0ms\n",
      "Speed: 2.0ms preprocess, 49.0ms inference, 4.0ms postprocess per image at shape (1, 3, 384, 640)\n",
      "\n",
      "0: 384x640 (no detections), 50.0ms\n"
     ]
    },
    {
     "name": "stdout",
     "output_type": "stream",
     "text": [
      "Time to process 1 frame: 70 milliseconds\n",
      "Time to process 1 frame: 72 milliseconds\n",
      "Time to process 1 frame: 70 milliseconds\n"
     ]
    },
    {
     "name": "stderr",
     "output_type": "stream",
     "text": [
      "Speed: 2.0ms preprocess, 50.0ms inference, 1.0ms postprocess per image at shape (1, 3, 384, 640)\n",
      "\n",
      "0: 384x640 (no detections), 50.5ms\n",
      "Speed: 2.1ms preprocess, 50.5ms inference, 1.0ms postprocess per image at shape (1, 3, 384, 640)\n",
      "\n",
      "0: 384x640 (no detections), 47.0ms\n",
      "Speed: 2.0ms preprocess, 47.0ms inference, 2.5ms postprocess per image at shape (1, 3, 384, 640)\n",
      "\n"
     ]
    },
    {
     "name": "stdout",
     "output_type": "stream",
     "text": [
      "Time to process 1 frame: 67 milliseconds\n",
      "Time to process 1 frame: 68 milliseconds\n",
      "Time to process 1 frame: 66 milliseconds\n"
     ]
    },
    {
     "name": "stderr",
     "output_type": "stream",
     "text": [
      "0: 384x640 1 K-006697, 1 K-041149, 50.0ms\n",
      "Speed: 2.0ms preprocess, 50.0ms inference, 3.0ms postprocess per image at shape (1, 3, 384, 640)\n",
      "\n",
      "0: 384x640 1 K-001901, 2 K-006697s, 1 K-031490, 48.5ms\n",
      "Speed: 2.0ms preprocess, 48.5ms inference, 2.0ms postprocess per image at shape (1, 3, 384, 640)\n",
      "\n",
      "0: 384x640 1 K-001901, 2 K-006697s, 1 K-031490, 48.5ms\n",
      "Speed: 3.0ms preprocess, 48.5ms inference, 2.0ms postprocess per image at shape (1, 3, 384, 640)\n",
      "\n"
     ]
    },
    {
     "name": "stdout",
     "output_type": "stream",
     "text": [
      "Time to process 1 frame: 69 milliseconds\n",
      "Time to process 1 frame: 69 milliseconds\n",
      "Time to process 1 frame: 71 milliseconds\n"
     ]
    },
    {
     "name": "stderr",
     "output_type": "stream",
     "text": [
      "0: 384x640 2 K-001901s, 1 K-006697, 4 K-031490s, 50.0ms\n",
      "Speed: 2.0ms preprocess, 50.0ms inference, 2.0ms postprocess per image at shape (1, 3, 384, 640)\n",
      "\n",
      "0: 384x640 1 K-001901, 3 K-031490s, 50.0ms\n",
      "Speed: 2.0ms preprocess, 50.0ms inference, 3.0ms postprocess per image at shape (1, 3, 384, 640)\n",
      "\n",
      "0: 384x640 2 K-006697s, 48.3ms\n",
      "Speed: 1.6ms preprocess, 48.3ms inference, 3.0ms postprocess per image at shape (1, 3, 384, 640)\n",
      "\n"
     ]
    },
    {
     "name": "stdout",
     "output_type": "stream",
     "text": [
      "Time to process 1 frame: 70 milliseconds\n",
      "Time to process 1 frame: 71 milliseconds\n",
      "Time to process 1 frame: 68 milliseconds\n"
     ]
    },
    {
     "name": "stderr",
     "output_type": "stream",
     "text": [
      "0: 384x640 1 K-004378, 48.5ms\n",
      "Speed: 2.0ms preprocess, 48.5ms inference, 2.0ms postprocess per image at shape (1, 3, 384, 640)\n",
      "\n",
      "0: 384x640 1 K-004378, 48.0ms\n",
      "Speed: 2.0ms preprocess, 48.0ms inference, 3.0ms postprocess per image at shape (1, 3, 384, 640)\n",
      "\n",
      "0: 384x640 1 K-001901, 1 K-006697, 50.0ms\n",
      "Speed: 2.0ms preprocess, 50.0ms inference, 2.0ms postprocess per image at shape (1, 3, 384, 640)\n",
      "\n",
      "0: 384x640 1 K-001901, 48.5ms\n"
     ]
    },
    {
     "name": "stdout",
     "output_type": "stream",
     "text": [
      "Time to process 1 frame: 69 milliseconds\n",
      "Time to process 1 frame: 70 milliseconds\n",
      "Time to process 1 frame: 70 milliseconds\n"
     ]
    },
    {
     "name": "stderr",
     "output_type": "stream",
     "text": [
      "Speed: 3.0ms preprocess, 48.5ms inference, 3.0ms postprocess per image at shape (1, 3, 384, 640)\n",
      "\n",
      "0: 384x640 (no detections), 48.4ms\n",
      "Speed: 2.0ms preprocess, 48.4ms inference, 1.0ms postprocess per image at shape (1, 3, 384, 640)\n",
      "\n",
      "0: 384x640 (no detections), 49.0ms\n",
      "Speed: 3.0ms preprocess, 49.0ms inference, 1.0ms postprocess per image at shape (1, 3, 384, 640)\n",
      "\n"
     ]
    },
    {
     "name": "stdout",
     "output_type": "stream",
     "text": [
      "Time to process 1 frame: 70 milliseconds\n",
      "Time to process 1 frame: 67 milliseconds\n",
      "Time to process 1 frame: 68 milliseconds\n"
     ]
    },
    {
     "name": "stderr",
     "output_type": "stream",
     "text": [
      "0: 384x640 (no detections), 48.0ms\n",
      "Speed: 2.5ms preprocess, 48.0ms inference, 2.0ms postprocess per image at shape (1, 3, 384, 640)\n",
      "\n",
      "0: 384x640 (no detections), 50.1ms\n",
      "Speed: 2.0ms preprocess, 50.1ms inference, 1.0ms postprocess per image at shape (1, 3, 384, 640)\n",
      "\n",
      "0: 384x640 (no detections), 50.0ms\n",
      "Speed: 2.0ms preprocess, 50.0ms inference, 1.0ms postprocess per image at shape (1, 3, 384, 640)\n",
      "\n"
     ]
    },
    {
     "name": "stdout",
     "output_type": "stream",
     "text": [
      "Time to process 1 frame: 68 milliseconds\n",
      "Time to process 1 frame: 69 milliseconds\n",
      "Time to process 1 frame: 69 milliseconds\n"
     ]
    },
    {
     "name": "stderr",
     "output_type": "stream",
     "text": [
      "0: 384x640 (no detections), 49.0ms\n",
      "Speed: 2.0ms preprocess, 49.0ms inference, 2.0ms postprocess per image at shape (1, 3, 384, 640)\n",
      "\n",
      "0: 384x640 1 K-006697, 49.5ms\n",
      "Speed: 2.0ms preprocess, 49.5ms inference, 2.0ms postprocess per image at shape (1, 3, 384, 640)\n",
      "\n",
      "0: 384x640 (no detections), 48.5ms\n",
      "Speed: 2.0ms preprocess, 48.5ms inference, 1.0ms postprocess per image at shape (1, 3, 384, 640)\n",
      "\n"
     ]
    },
    {
     "name": "stdout",
     "output_type": "stream",
     "text": [
      "Time to process 1 frame: 68 milliseconds\n",
      "Time to process 1 frame: 71 milliseconds\n",
      "Time to process 1 frame: 68 milliseconds\n"
     ]
    },
    {
     "name": "stderr",
     "output_type": "stream",
     "text": [
      "0: 384x640 1 K-001901, 2 K-006697s, 2 K-031490s, 49.0ms\n",
      "Speed: 2.0ms preprocess, 49.0ms inference, 2.0ms postprocess per image at shape (1, 3, 384, 640)\n",
      "\n",
      "0: 384x640 (no detections), 50.3ms\n",
      "Speed: 2.6ms preprocess, 50.3ms inference, 1.0ms postprocess per image at shape (1, 3, 384, 640)\n",
      "\n",
      "0: 384x640 1 K-001901, 3 K-031490s, 49.5ms\n",
      "Speed: 2.0ms preprocess, 49.5ms inference, 2.0ms postprocess per image at shape (1, 3, 384, 640)\n",
      "\n"
     ]
    },
    {
     "name": "stdout",
     "output_type": "stream",
     "text": [
      "Time to process 1 frame: 70 milliseconds\n",
      "Time to process 1 frame: 67 milliseconds\n",
      "Time to process 1 frame: 71 milliseconds\n"
     ]
    },
    {
     "name": "stderr",
     "output_type": "stream",
     "text": [
      "0: 384x640 1 K-001901, 1 K-006697, 3 K-031490s, 50.5ms\n",
      "Speed: 2.0ms preprocess, 50.5ms inference, 3.0ms postprocess per image at shape (1, 3, 384, 640)\n",
      "\n",
      "0: 384x640 1 K-001901, 1 K-006697, 3 K-031490s, 50.0ms\n",
      "Speed: 3.0ms preprocess, 50.0ms inference, 2.0ms postprocess per image at shape (1, 3, 384, 640)\n",
      "\n",
      "0: 384x640 1 K-001901, 1 K-006697, 3 K-031490s, 48.2ms\n",
      "Speed: 2.2ms preprocess, 48.2ms inference, 3.0ms postprocess per image at shape (1, 3, 384, 640)\n",
      "\n",
      "0: 384x640 1 K-001901, 1 K-006697, 3 K-031490s, 50.5ms\n"
     ]
    },
    {
     "name": "stdout",
     "output_type": "stream",
     "text": [
      "Time to process 1 frame: 73 milliseconds\n",
      "Time to process 1 frame: 71 milliseconds\n",
      "Time to process 1 frame: 68 milliseconds\n"
     ]
    },
    {
     "name": "stderr",
     "output_type": "stream",
     "text": [
      "Speed: 2.0ms preprocess, 50.5ms inference, 2.0ms postprocess per image at shape (1, 3, 384, 640)\n",
      "\n",
      "0: 384x640 2 K-001901s, 1 K-006697, 4 K-031490s, 51.0ms\n",
      "Speed: 2.0ms preprocess, 51.0ms inference, 2.1ms postprocess per image at shape (1, 3, 384, 640)\n",
      "\n",
      "0: 384x640 1 K-001901, 1 K-006697, 1 K-024127, 4 K-031490s, 48.1ms\n",
      "Speed: 2.1ms preprocess, 48.1ms inference, 2.0ms postprocess per image at shape (1, 3, 384, 640)\n",
      "\n"
     ]
    },
    {
     "name": "stdout",
     "output_type": "stream",
     "text": [
      "Time to process 1 frame: 71 milliseconds\n",
      "Time to process 1 frame: 71 milliseconds\n",
      "Time to process 1 frame: 67 milliseconds\n"
     ]
    },
    {
     "name": "stderr",
     "output_type": "stream",
     "text": [
      "0: 384x640 1 K-001901, 1 K-006697, 4 K-031490s, 51.5ms\n",
      "Speed: 2.0ms preprocess, 51.5ms inference, 2.0ms postprocess per image at shape (1, 3, 384, 640)\n",
      "\n",
      "0: 384x640 2 K-001901s, 1 K-006697, 4 K-031490s, 48.5ms\n",
      "Speed: 2.0ms preprocess, 48.5ms inference, 3.0ms postprocess per image at shape (1, 3, 384, 640)\n",
      "\n",
      "0: 384x640 2 K-001901s, 1 K-006697, 3 K-031490s, 1 K-044834, 51.0ms\n",
      "Speed: 2.0ms preprocess, 51.0ms inference, 2.5ms postprocess per image at shape (1, 3, 384, 640)\n",
      "\n"
     ]
    },
    {
     "name": "stdout",
     "output_type": "stream",
     "text": [
      "Time to process 1 frame: 72 milliseconds\n",
      "Time to process 1 frame: 71 milliseconds\n",
      "Time to process 1 frame: 72 milliseconds\n"
     ]
    },
    {
     "name": "stderr",
     "output_type": "stream",
     "text": [
      "0: 384x640 1 K-001901, 1 K-006697, 3 K-031490s, 49.0ms\n",
      "Speed: 2.0ms preprocess, 49.0ms inference, 3.0ms postprocess per image at shape (1, 3, 384, 640)\n",
      "\n",
      "0: 384x640 2 K-001901s, 1 K-006697, 3 K-031490s, 48.5ms\n",
      "Speed: 2.0ms preprocess, 48.5ms inference, 2.0ms postprocess per image at shape (1, 3, 384, 640)\n",
      "\n",
      "0: 384x640 1 K-001901, 1 K-006697, 3 K-031490s, 48.6ms\n",
      "Speed: 3.0ms preprocess, 48.6ms inference, 1.9ms postprocess per image at shape (1, 3, 384, 640)\n",
      "\n"
     ]
    },
    {
     "name": "stdout",
     "output_type": "stream",
     "text": [
      "Time to process 1 frame: 69 milliseconds\n",
      "Time to process 1 frame: 70 milliseconds\n",
      "Time to process 1 frame: 70 milliseconds\n"
     ]
    },
    {
     "name": "stderr",
     "output_type": "stream",
     "text": [
      "0: 384x640 1 K-001901, 1 K-006697, 3 K-031490s, 50.0ms\n",
      "Speed: 2.0ms preprocess, 50.0ms inference, 3.0ms postprocess per image at shape (1, 3, 384, 640)\n",
      "\n",
      "0: 384x640 1 K-001901, 1 K-006697, 3 K-031490s, 50.0ms\n",
      "Speed: 2.0ms preprocess, 50.0ms inference, 3.0ms postprocess per image at shape (1, 3, 384, 640)\n",
      "\n",
      "0: 384x640 1 K-001901, 1 K-006697, 4 K-031490s, 48.1ms\n",
      "Speed: 3.0ms preprocess, 48.1ms inference, 2.0ms postprocess per image at shape (1, 3, 384, 640)\n",
      "\n",
      "0: 384x640 2 K-001901s, 1 K-006697, 4 K-031490s, 48.5ms\n"
     ]
    },
    {
     "name": "stdout",
     "output_type": "stream",
     "text": [
      "Time to process 1 frame: 73 milliseconds\n",
      "Time to process 1 frame: 70 milliseconds\n",
      "Time to process 1 frame: 68 milliseconds\n"
     ]
    },
    {
     "name": "stderr",
     "output_type": "stream",
     "text": [
      "Speed: 2.0ms preprocess, 48.5ms inference, 2.0ms postprocess per image at shape (1, 3, 384, 640)\n",
      "\n",
      "0: 384x640 2 K-001901s, 1 K-006697, 3 K-031490s, 1 K-044834, 48.0ms\n",
      "Speed: 2.0ms preprocess, 48.0ms inference, 3.0ms postprocess per image at shape (1, 3, 384, 640)\n",
      "\n",
      "0: 384x640 2 K-001901s, 1 K-006697, 3 K-031490s, 1 K-044834, 52.0ms\n",
      "Speed: 2.0ms preprocess, 52.0ms inference, 2.0ms postprocess per image at shape (1, 3, 384, 640)\n",
      "\n"
     ]
    },
    {
     "name": "stdout",
     "output_type": "stream",
     "text": [
      "Time to process 1 frame: 69 milliseconds\n",
      "Time to process 1 frame: 71 milliseconds\n",
      "Time to process 1 frame: 71 milliseconds\n"
     ]
    },
    {
     "name": "stderr",
     "output_type": "stream",
     "text": [
      "0: 384x640 2 K-001901s, 1 K-006697, 3 K-031490s, 1 K-044834, 50.1ms\n",
      "Speed: 2.0ms preprocess, 50.1ms inference, 3.0ms postprocess per image at shape (1, 3, 384, 640)\n",
      "\n",
      "0: 384x640 2 K-001901s, 1 K-006697, 3 K-031490s, 1 K-044834, 49.5ms\n",
      "Speed: 2.0ms preprocess, 49.5ms inference, 2.0ms postprocess per image at shape (1, 3, 384, 640)\n",
      "\n",
      "0: 384x640 2 K-001901s, 1 K-004378, 1 K-006697, 3 K-031490s, 1 K-044834, 48.0ms\n",
      "Speed: 3.0ms preprocess, 48.0ms inference, 2.0ms postprocess per image at shape (1, 3, 384, 640)\n",
      "\n"
     ]
    },
    {
     "name": "stdout",
     "output_type": "stream",
     "text": [
      "Time to process 1 frame: 70 milliseconds\n",
      "Time to process 1 frame: 72 milliseconds\n",
      "Time to process 1 frame: 68 milliseconds\n"
     ]
    },
    {
     "name": "stderr",
     "output_type": "stream",
     "text": [
      "0: 384x640 2 K-001901s, 1 K-004378, 1 K-006697, 3 K-031490s, 1 K-044834, 47.9ms\n",
      "Speed: 2.0ms preprocess, 47.9ms inference, 3.0ms postprocess per image at shape (1, 3, 384, 640)\n",
      "\n",
      "0: 384x640 2 K-001901s, 1 K-006697, 4 K-031490s, 49.5ms\n",
      "Speed: 3.0ms preprocess, 49.5ms inference, 2.0ms postprocess per image at shape (1, 3, 384, 640)\n",
      "\n",
      "0: 384x640 2 K-001901s, 1 K-004378, 1 K-006697, 3 K-031490s, 1 K-044834, 50.5ms\n",
      "Speed: 2.0ms preprocess, 50.5ms inference, 2.0ms postprocess per image at shape (1, 3, 384, 640)\n",
      "\n"
     ]
    },
    {
     "name": "stdout",
     "output_type": "stream",
     "text": [
      "Time to process 1 frame: 72 milliseconds\n",
      "Time to process 1 frame: 70 milliseconds\n",
      "Time to process 1 frame: 71 milliseconds\n"
     ]
    },
    {
     "name": "stderr",
     "output_type": "stream",
     "text": [
      "0: 384x640 2 K-001901s, 1 K-006697, 3 K-031490s, 1 K-044834, 48.0ms\n",
      "Speed: 3.0ms preprocess, 48.0ms inference, 3.0ms postprocess per image at shape (1, 3, 384, 640)\n",
      "\n",
      "0: 384x640 2 K-001901s, 1 K-006697, 3 K-031490s, 1 K-044834, 50.7ms\n",
      "Speed: 2.0ms preprocess, 50.7ms inference, 2.0ms postprocess per image at shape (1, 3, 384, 640)\n",
      "\n",
      "0: 384x640 2 K-001901s, 1 K-006697, 3 K-031490s, 1 K-044834, 48.5ms\n",
      "Speed: 2.0ms preprocess, 48.5ms inference, 3.0ms postprocess per image at shape (1, 3, 384, 640)\n",
      "\n"
     ]
    },
    {
     "name": "stdout",
     "output_type": "stream",
     "text": [
      "Time to process 1 frame: 72 milliseconds\n",
      "Time to process 1 frame: 71 milliseconds\n",
      "Time to process 1 frame: 70 milliseconds\n"
     ]
    },
    {
     "name": "stderr",
     "output_type": "stream",
     "text": [
      "0: 384x640 2 K-001901s, 1 K-006697, 3 K-031490s, 50.5ms\n",
      "Speed: 2.0ms preprocess, 50.5ms inference, 4.0ms postprocess per image at shape (1, 3, 384, 640)\n",
      "\n",
      "0: 384x640 2 K-001901s, 1 K-006697, 3 K-031490s, 48.5ms\n",
      "Speed: 3.0ms preprocess, 48.5ms inference, 2.0ms postprocess per image at shape (1, 3, 384, 640)\n",
      "\n",
      "0: 384x640 2 K-001901s, 1 K-004378, 1 K-006697, 3 K-031490s, 1 K-044834, 48.0ms\n",
      "Speed: 2.0ms preprocess, 48.0ms inference, 2.0ms postprocess per image at shape (1, 3, 384, 640)\n",
      "\n"
     ]
    },
    {
     "name": "stdout",
     "output_type": "stream",
     "text": [
      "Time to process 1 frame: 73 milliseconds\n",
      "Time to process 1 frame: 71 milliseconds\n",
      "Time to process 1 frame: 71 milliseconds\n"
     ]
    },
    {
     "name": "stderr",
     "output_type": "stream",
     "text": [
      "0: 384x640 2 K-001901s, 1 K-006697, 3 K-031490s, 1 K-044834, 50.5ms\n",
      "Speed: 2.0ms preprocess, 50.5ms inference, 3.0ms postprocess per image at shape (1, 3, 384, 640)\n",
      "\n",
      "0: 384x640 2 K-001901s, 1 K-006697, 3 K-031490s, 1 K-044834, 50.5ms\n",
      "Speed: 2.0ms preprocess, 50.5ms inference, 2.0ms postprocess per image at shape (1, 3, 384, 640)\n",
      "\n",
      "0: 384x640 2 K-001901s, 1 K-006697, 3 K-031490s, 1 K-044834, 50.2ms\n",
      "Speed: 2.0ms preprocess, 50.2ms inference, 3.0ms postprocess per image at shape (1, 3, 384, 640)\n",
      "\n"
     ]
    },
    {
     "name": "stdout",
     "output_type": "stream",
     "text": [
      "Time to process 1 frame: 72 milliseconds\n",
      "Time to process 1 frame: 71 milliseconds\n",
      "Time to process 1 frame: 70 milliseconds\n"
     ]
    },
    {
     "name": "stderr",
     "output_type": "stream",
     "text": [
      "0: 384x640 2 K-001901s, 1 K-006697, 3 K-031490s, 1 K-044834, 48.0ms\n",
      "Speed: 2.0ms preprocess, 48.0ms inference, 2.0ms postprocess per image at shape (1, 3, 384, 640)\n",
      "\n",
      "0: 384x640 2 K-001901s, 1 K-006697, 3 K-031490s, 1 K-044834, 51.0ms\n",
      "Speed: 2.0ms preprocess, 51.0ms inference, 2.0ms postprocess per image at shape (1, 3, 384, 640)\n",
      "\n",
      "0: 384x640 2 K-001901s, 1 K-006697, 3 K-031490s, 1 K-044834, 51.2ms\n",
      "Speed: 2.0ms preprocess, 51.2ms inference, 2.0ms postprocess per image at shape (1, 3, 384, 640)\n",
      "\n"
     ]
    },
    {
     "name": "stdout",
     "output_type": "stream",
     "text": [
      "Time to process 1 frame: 70 milliseconds\n",
      "Time to process 1 frame: 71 milliseconds\n",
      "Time to process 1 frame: 72 milliseconds\n"
     ]
    },
    {
     "name": "stderr",
     "output_type": "stream",
     "text": [
      "0: 384x640 2 K-001901s, 1 K-006697, 3 K-031490s, 1 K-044834, 48.6ms\n",
      "Speed: 2.0ms preprocess, 48.6ms inference, 2.0ms postprocess per image at shape (1, 3, 384, 640)\n",
      "\n",
      "0: 384x640 2 K-001901s, 1 K-006697, 3 K-031490s, 1 K-044834, 48.0ms\n",
      "Speed: 2.5ms preprocess, 48.0ms inference, 4.0ms postprocess per image at shape (1, 3, 384, 640)\n",
      "\n",
      "0: 384x640 2 K-001901s, 1 K-006697, 3 K-031490s, 1 K-044834, 48.5ms\n",
      "Speed: 2.0ms preprocess, 48.5ms inference, 2.0ms postprocess per image at shape (1, 3, 384, 640)\n",
      "\n"
     ]
    },
    {
     "name": "stdout",
     "output_type": "stream",
     "text": [
      "Time to process 1 frame: 69 milliseconds\n",
      "Time to process 1 frame: 72 milliseconds\n",
      "Time to process 1 frame: 71 milliseconds\n"
     ]
    },
    {
     "name": "stderr",
     "output_type": "stream",
     "text": [
      "0: 384x640 1 K-001901, 1 K-006697, 3 K-031490s, 1 K-044834, 50.8ms\n",
      "Speed: 2.1ms preprocess, 50.8ms inference, 2.5ms postprocess per image at shape (1, 3, 384, 640)\n",
      "\n",
      "0: 384x640 1 K-001901, 1 K-006697, 3 K-031490s, 49.0ms\n",
      "Speed: 2.0ms preprocess, 49.0ms inference, 2.0ms postprocess per image at shape (1, 3, 384, 640)\n",
      "\n",
      "0: 384x640 1 K-001901, 1 K-006697, 3 K-031490s, 49.5ms\n",
      "Speed: 2.0ms preprocess, 49.5ms inference, 2.0ms postprocess per image at shape (1, 3, 384, 640)\n",
      "\n"
     ]
    },
    {
     "name": "stdout",
     "output_type": "stream",
     "text": [
      "Time to process 1 frame: 71 milliseconds\n",
      "Time to process 1 frame: 68 milliseconds\n",
      "Time to process 1 frame: 70 milliseconds\n"
     ]
    },
    {
     "name": "stderr",
     "output_type": "stream",
     "text": [
      "0: 384x640 1 K-001901, 1 K-006697, 3 K-031490s, 47.5ms\n",
      "Speed: 3.0ms preprocess, 47.5ms inference, 3.0ms postprocess per image at shape (1, 3, 384, 640)\n",
      "\n",
      "0: 384x640 1 K-001901, 1 K-006697, 3 K-031490s, 48.0ms\n",
      "Speed: 2.0ms preprocess, 48.0ms inference, 2.0ms postprocess per image at shape (1, 3, 384, 640)\n",
      "\n",
      "0: 384x640 1 K-001901, 1 K-006697, 3 K-031490s, 51.0ms\n",
      "Speed: 2.0ms preprocess, 51.0ms inference, 2.0ms postprocess per image at shape (1, 3, 384, 640)\n",
      "\n"
     ]
    },
    {
     "name": "stdout",
     "output_type": "stream",
     "text": [
      "Time to process 1 frame: 70 milliseconds\n",
      "Time to process 1 frame: 68 milliseconds\n",
      "Time to process 1 frame: 70 milliseconds\n"
     ]
    },
    {
     "name": "stderr",
     "output_type": "stream",
     "text": [
      "0: 384x640 1 K-001901, 1 K-006697, 3 K-031490s, 50.5ms\n",
      "Speed: 2.0ms preprocess, 50.5ms inference, 2.0ms postprocess per image at shape (1, 3, 384, 640)\n",
      "\n",
      "0: 384x640 1 K-001901, 1 K-004378, 1 K-006697, 3 K-031490s, 49.1ms\n",
      "Speed: 2.1ms preprocess, 49.1ms inference, 2.0ms postprocess per image at shape (1, 3, 384, 640)\n",
      "\n",
      "0: 384x640 1 K-001901, 1 K-006697, 3 K-031490s, 50.0ms\n",
      "Speed: 2.0ms preprocess, 50.0ms inference, 2.0ms postprocess per image at shape (1, 3, 384, 640)\n",
      "\n"
     ]
    },
    {
     "name": "stdout",
     "output_type": "stream",
     "text": [
      "Time to process 1 frame: 70 milliseconds\n",
      "Time to process 1 frame: 69 milliseconds\n",
      "Time to process 1 frame: 71 milliseconds\n"
     ]
    },
    {
     "name": "stderr",
     "output_type": "stream",
     "text": [
      "0: 384x640 1 K-001901, 1 K-006697, 3 K-031490s, 49.0ms\n",
      "Speed: 2.0ms preprocess, 49.0ms inference, 3.0ms postprocess per image at shape (1, 3, 384, 640)\n",
      "\n",
      "0: 384x640 1 K-001901, 1 K-004378, 3 K-031490s, 50.2ms\n",
      "Speed: 2.0ms preprocess, 50.2ms inference, 2.0ms postprocess per image at shape (1, 3, 384, 640)\n",
      "\n",
      "0: 384x640 1 K-001901, 1 K-004378, 3 K-031490s, 50.5ms\n",
      "Speed: 2.0ms preprocess, 50.5ms inference, 2.0ms postprocess per image at shape (1, 3, 384, 640)\n",
      "\n"
     ]
    },
    {
     "name": "stdout",
     "output_type": "stream",
     "text": [
      "Time to process 1 frame: 68 milliseconds\n",
      "Time to process 1 frame: 72 milliseconds\n",
      "Time to process 1 frame: 72 milliseconds\n"
     ]
    },
    {
     "name": "stderr",
     "output_type": "stream",
     "text": [
      "0: 384x640 1 K-001901, 1 K-006697, 3 K-031490s, 49.0ms\n",
      "Speed: 2.0ms preprocess, 49.0ms inference, 2.0ms postprocess per image at shape (1, 3, 384, 640)\n",
      "\n",
      "0: 384x640 1 K-001901, 1 K-006697, 3 K-031490s, 49.0ms\n",
      "Speed: 2.0ms preprocess, 49.0ms inference, 2.5ms postprocess per image at shape (1, 3, 384, 640)\n",
      "\n",
      "0: 384x640 1 K-001901, 1 K-006697, 3 K-031490s, 48.5ms\n",
      "Speed: 2.0ms preprocess, 48.5ms inference, 3.0ms postprocess per image at shape (1, 3, 384, 640)\n",
      "\n"
     ]
    },
    {
     "name": "stdout",
     "output_type": "stream",
     "text": [
      "Time to process 1 frame: 69 milliseconds\n",
      "Time to process 1 frame: 70 milliseconds\n",
      "Time to process 1 frame: 72 milliseconds\n"
     ]
    },
    {
     "name": "stderr",
     "output_type": "stream",
     "text": [
      "0: 384x640 1 K-001901, 1 K-006697, 3 K-031490s, 49.5ms\n",
      "Speed: 2.0ms preprocess, 49.5ms inference, 2.0ms postprocess per image at shape (1, 3, 384, 640)\n",
      "\n",
      "0: 384x640 1 K-001901, 1 K-006697, 1 K-024127, 3 K-031490s, 49.0ms\n",
      "Speed: 2.0ms preprocess, 49.0ms inference, 2.0ms postprocess per image at shape (1, 3, 384, 640)\n",
      "\n",
      "0: 384x640 1 K-001901, 1 K-006697, 2 K-031490s, 49.0ms\n",
      "Speed: 1.5ms preprocess, 49.0ms inference, 2.0ms postprocess per image at shape (1, 3, 384, 640)\n",
      "\n"
     ]
    },
    {
     "name": "stdout",
     "output_type": "stream",
     "text": [
      "Time to process 1 frame: 71 milliseconds\n",
      "Time to process 1 frame: 69 milliseconds\n",
      "Time to process 1 frame: 70 milliseconds\n"
     ]
    },
    {
     "name": "stderr",
     "output_type": "stream",
     "text": [
      "0: 384x640 1 K-001901, 1 K-006697, 2 K-031490s, 48.5ms\n",
      "Speed: 2.0ms preprocess, 48.5ms inference, 3.0ms postprocess per image at shape (1, 3, 384, 640)\n",
      "\n",
      "0: 384x640 1 K-001901, 1 K-006697, 2 K-031490s, 48.0ms\n",
      "Speed: 2.0ms preprocess, 48.0ms inference, 3.0ms postprocess per image at shape (1, 3, 384, 640)\n",
      "\n",
      "0: 384x640 1 K-001901, 2 K-006697s, 2 K-031490s, 50.3ms\n",
      "Speed: 2.0ms preprocess, 50.3ms inference, 2.6ms postprocess per image at shape (1, 3, 384, 640)\n",
      "\n"
     ]
    },
    {
     "name": "stdout",
     "output_type": "stream",
     "text": [
      "Time to process 1 frame: 68 milliseconds\n",
      "Time to process 1 frame: 71 milliseconds\n",
      "Time to process 1 frame: 69 milliseconds\n"
     ]
    },
    {
     "name": "stderr",
     "output_type": "stream",
     "text": [
      "0: 384x640 1 K-001901, 2 K-006697s, 1 K-031490, 51.5ms\n",
      "Speed: 2.0ms preprocess, 51.5ms inference, 2.0ms postprocess per image at shape (1, 3, 384, 640)\n",
      "\n",
      "0: 384x640 1 K-001901, 1 K-006697, 1 K-031490, 48.5ms\n",
      "Speed: 2.0ms preprocess, 48.5ms inference, 2.0ms postprocess per image at shape (1, 3, 384, 640)\n",
      "\n",
      "0: 384x640 1 K-001901, 1 K-006697, 3 K-031490s, 48.0ms\n",
      "Speed: 2.0ms preprocess, 48.0ms inference, 2.0ms postprocess per image at shape (1, 3, 384, 640)\n",
      "\n"
     ]
    },
    {
     "name": "stdout",
     "output_type": "stream",
     "text": [
      "Time to process 1 frame: 71 milliseconds\n",
      "Time to process 1 frame: 68 milliseconds\n",
      "Time to process 1 frame: 69 milliseconds\n"
     ]
    },
    {
     "name": "stderr",
     "output_type": "stream",
     "text": [
      "0: 384x640 1 K-001901, 1 K-006697, 3 K-031490s, 49.0ms\n",
      "Speed: 2.0ms preprocess, 49.0ms inference, 2.0ms postprocess per image at shape (1, 3, 384, 640)\n",
      "\n",
      "0: 384x640 1 K-001901, 1 K-006697, 3 K-031490s, 49.5ms\n",
      "Speed: 2.0ms preprocess, 49.5ms inference, 3.0ms postprocess per image at shape (1, 3, 384, 640)\n",
      "\n",
      "0: 384x640 1 K-001901, 3 K-031490s, 50.5ms\n",
      "Speed: 2.0ms preprocess, 50.5ms inference, 3.0ms postprocess per image at shape (1, 3, 384, 640)\n",
      "\n"
     ]
    },
    {
     "name": "stdout",
     "output_type": "stream",
     "text": [
      "Time to process 1 frame: 68 milliseconds\n",
      "Time to process 1 frame: 71 milliseconds\n",
      "Time to process 1 frame: 70 milliseconds\n"
     ]
    },
    {
     "name": "stderr",
     "output_type": "stream",
     "text": [
      "0: 384x640 1 K-001901, 1 K-006697, 3 K-031490s, 49.1ms\n",
      "Speed: 2.0ms preprocess, 49.1ms inference, 3.0ms postprocess per image at shape (1, 3, 384, 640)\n",
      "\n",
      "0: 384x640 1 K-001901, 1 K-006697, 3 K-031490s, 48.0ms\n",
      "Speed: 2.0ms preprocess, 48.0ms inference, 2.0ms postprocess per image at shape (1, 3, 384, 640)\n",
      "\n",
      "0: 384x640 1 K-001901, 3 K-031490s, 49.1ms\n",
      "Speed: 2.0ms preprocess, 49.1ms inference, 2.0ms postprocess per image at shape (1, 3, 384, 640)\n",
      "\n"
     ]
    },
    {
     "name": "stdout",
     "output_type": "stream",
     "text": [
      "Time to process 1 frame: 70 milliseconds\n",
      "Time to process 1 frame: 67 milliseconds\n",
      "Time to process 1 frame: 69 milliseconds\n"
     ]
    },
    {
     "name": "stderr",
     "output_type": "stream",
     "text": [
      "0: 384x640 1 K-001901, 3 K-031490s, 49.0ms\n",
      "Speed: 2.0ms preprocess, 49.0ms inference, 3.5ms postprocess per image at shape (1, 3, 384, 640)\n",
      "\n",
      "0: 384x640 1 K-001901, 3 K-031490s, 50.7ms\n",
      "Speed: 2.0ms preprocess, 50.7ms inference, 2.0ms postprocess per image at shape (1, 3, 384, 640)\n",
      "\n",
      "0: 384x640 1 K-001901, 1 K-006697, 3 K-031490s, 49.5ms\n",
      "Speed: 2.0ms preprocess, 49.5ms inference, 2.0ms postprocess per image at shape (1, 3, 384, 640)\n",
      "\n",
      "0: 384x640 1 K-001901, 1 K-006697, 3 K-031490s, 48.5ms\n"
     ]
    },
    {
     "name": "stdout",
     "output_type": "stream",
     "text": [
      "Time to process 1 frame: 70 milliseconds\n",
      "Time to process 1 frame: 69 milliseconds\n",
      "Time to process 1 frame: 69 milliseconds\n"
     ]
    },
    {
     "name": "stderr",
     "output_type": "stream",
     "text": [
      "Speed: 2.0ms preprocess, 48.5ms inference, 2.0ms postprocess per image at shape (1, 3, 384, 640)\n",
      "\n",
      "0: 384x640 1 K-001901, 1 K-006697, 3 K-031490s, 48.2ms\n",
      "Speed: 2.0ms preprocess, 48.2ms inference, 3.0ms postprocess per image at shape (1, 3, 384, 640)\n",
      "\n",
      "0: 384x640 1 K-001901, 1 K-006697, 3 K-031490s, 49.0ms\n",
      "Speed: 2.0ms preprocess, 49.0ms inference, 2.0ms postprocess per image at shape (1, 3, 384, 640)\n",
      "\n"
     ]
    },
    {
     "name": "stdout",
     "output_type": "stream",
     "text": [
      "Time to process 1 frame: 70 milliseconds\n",
      "Time to process 1 frame: 67 milliseconds\n",
      "Time to process 1 frame: 70 milliseconds\n"
     ]
    },
    {
     "name": "stderr",
     "output_type": "stream",
     "text": [
      "0: 384x640 1 K-001901, 3 K-031490s, 50.5ms\n",
      "Speed: 2.0ms preprocess, 50.5ms inference, 3.0ms postprocess per image at shape (1, 3, 384, 640)\n",
      "\n",
      "0: 384x640 1 K-001901, 3 K-031490s, 51.5ms\n",
      "Speed: 2.0ms preprocess, 51.5ms inference, 2.0ms postprocess per image at shape (1, 3, 384, 640)\n",
      "\n",
      "0: 384x640 1 K-001901, 3 K-031490s, 49.0ms\n",
      "Speed: 2.0ms preprocess, 49.0ms inference, 2.0ms postprocess per image at shape (1, 3, 384, 640)\n",
      "\n"
     ]
    },
    {
     "name": "stdout",
     "output_type": "stream",
     "text": [
      "Time to process 1 frame: 71 milliseconds\n",
      "Time to process 1 frame: 71 milliseconds\n",
      "Time to process 1 frame: 70 milliseconds\n"
     ]
    },
    {
     "name": "stderr",
     "output_type": "stream",
     "text": [
      "0: 384x640 1 K-001901, 1 K-006697, 3 K-031490s, 49.0ms\n",
      "Speed: 2.0ms preprocess, 49.0ms inference, 2.0ms postprocess per image at shape (1, 3, 384, 640)\n",
      "\n",
      "0: 384x640 1 K-001901, 1 K-006697, 3 K-031490s, 47.5ms\n",
      "Speed: 2.0ms preprocess, 47.5ms inference, 3.0ms postprocess per image at shape (1, 3, 384, 640)\n",
      "\n",
      "0: 384x640 1 K-001901, 1 K-006697, 2 K-031490s, 50.5ms\n",
      "Speed: 3.0ms preprocess, 50.5ms inference, 2.0ms postprocess per image at shape (1, 3, 384, 640)\n",
      "\n"
     ]
    },
    {
     "name": "stdout",
     "output_type": "stream",
     "text": [
      "Time to process 1 frame: 69 milliseconds\n",
      "Time to process 1 frame: 71 milliseconds\n",
      "Time to process 1 frame: 71 milliseconds\n"
     ]
    },
    {
     "name": "stderr",
     "output_type": "stream",
     "text": [
      "0: 384x640 1 K-001901, 1 K-006697, 3 K-031490s, 50.0ms\n",
      "Speed: 2.0ms preprocess, 50.0ms inference, 3.0ms postprocess per image at shape (1, 3, 384, 640)\n",
      "\n",
      "0: 384x640 1 K-001901, 1 K-006697, 3 K-031490s, 48.0ms\n",
      "Speed: 2.0ms preprocess, 48.0ms inference, 2.0ms postprocess per image at shape (1, 3, 384, 640)\n",
      "\n",
      "0: 384x640 1 K-001901, 1 K-006697, 3 K-031490s, 48.5ms\n",
      "Speed: 2.0ms preprocess, 48.5ms inference, 2.0ms postprocess per image at shape (1, 3, 384, 640)\n",
      "\n"
     ]
    },
    {
     "name": "stdout",
     "output_type": "stream",
     "text": [
      "Time to process 1 frame: 70 milliseconds\n",
      "Time to process 1 frame: 70 milliseconds\n",
      "Time to process 1 frame: 68 milliseconds\n"
     ]
    },
    {
     "name": "stderr",
     "output_type": "stream",
     "text": [
      "0: 384x640 1 K-001901, 1 K-006697, 3 K-031490s, 48.0ms\n",
      "Speed: 3.0ms preprocess, 48.0ms inference, 3.0ms postprocess per image at shape (1, 3, 384, 640)\n",
      "\n",
      "0: 384x640 1 K-001901, 1 K-006697, 3 K-031490s, 50.0ms\n",
      "Speed: 2.0ms preprocess, 50.0ms inference, 2.0ms postprocess per image at shape (1, 3, 384, 640)\n",
      "\n",
      "0: 384x640 1 K-001901, 1 K-006697, 2 K-031490s, 50.5ms\n",
      "Speed: 2.0ms preprocess, 50.5ms inference, 2.0ms postprocess per image at shape (1, 3, 384, 640)\n",
      "\n"
     ]
    },
    {
     "name": "stdout",
     "output_type": "stream",
     "text": [
      "Time to process 1 frame: 70 milliseconds\n",
      "Time to process 1 frame: 70 milliseconds\n",
      "Time to process 1 frame: 71 milliseconds\n"
     ]
    },
    {
     "name": "stderr",
     "output_type": "stream",
     "text": [
      "0: 384x640 1 K-001901, 1 K-006697, 2 K-031490s, 48.6ms\n",
      "Speed: 2.0ms preprocess, 48.6ms inference, 3.0ms postprocess per image at shape (1, 3, 384, 640)\n",
      "\n",
      "0: 384x640 1 K-001901, 1 K-006697, 3 K-031490s, 48.0ms\n",
      "Speed: 2.0ms preprocess, 48.0ms inference, 2.0ms postprocess per image at shape (1, 3, 384, 640)\n",
      "\n",
      "0: 384x640 1 K-001901, 1 K-006697, 3 K-031490s, 49.0ms\n",
      "Speed: 2.0ms preprocess, 49.0ms inference, 2.0ms postprocess per image at shape (1, 3, 384, 640)\n",
      "\n"
     ]
    },
    {
     "name": "stdout",
     "output_type": "stream",
     "text": [
      "Time to process 1 frame: 68 milliseconds\n",
      "Time to process 1 frame: 68 milliseconds\n",
      "Time to process 1 frame: 68 milliseconds\n"
     ]
    },
    {
     "name": "stderr",
     "output_type": "stream",
     "text": [
      "0: 384x640 1 K-001901, 1 K-006697, 3 K-031490s, 50.1ms\n",
      "Speed: 2.0ms preprocess, 50.1ms inference, 3.0ms postprocess per image at shape (1, 3, 384, 640)\n",
      "\n",
      "0: 384x640 1 K-001901, 1 K-006697, 3 K-031490s, 50.5ms\n",
      "Speed: 2.0ms preprocess, 50.5ms inference, 2.0ms postprocess per image at shape (1, 3, 384, 640)\n",
      "\n",
      "0: 384x640 1 K-001901, 1 K-006697, 3 K-031490s, 48.0ms\n",
      "Speed: 3.0ms preprocess, 48.0ms inference, 2.0ms postprocess per image at shape (1, 3, 384, 640)\n",
      "\n"
     ]
    },
    {
     "name": "stdout",
     "output_type": "stream",
     "text": [
      "Time to process 1 frame: 71 milliseconds\n",
      "Time to process 1 frame: 70 milliseconds\n",
      "Time to process 1 frame: 69 milliseconds\n"
     ]
    },
    {
     "name": "stderr",
     "output_type": "stream",
     "text": [
      "0: 384x640 1 K-001901, 1 K-006697, 3 K-031490s, 49.0ms\n",
      "Speed: 2.0ms preprocess, 49.0ms inference, 3.0ms postprocess per image at shape (1, 3, 384, 640)\n",
      "\n",
      "0: 384x640 1 K-001901, 1 K-004378, 3 K-031490s, 47.5ms\n",
      "Speed: 2.5ms preprocess, 47.5ms inference, 3.0ms postprocess per image at shape (1, 3, 384, 640)\n",
      "\n",
      "0: 384x640 1 K-001901, 1 K-004378, 3 K-031490s, 50.5ms\n",
      "Speed: 2.0ms preprocess, 50.5ms inference, 3.0ms postprocess per image at shape (1, 3, 384, 640)\n",
      "\n"
     ]
    },
    {
     "name": "stdout",
     "output_type": "stream",
     "text": [
      "Time to process 1 frame: 73 milliseconds\n",
      "Time to process 1 frame: 68 milliseconds\n",
      "Time to process 1 frame: 73 milliseconds\n"
     ]
    },
    {
     "name": "stderr",
     "output_type": "stream",
     "text": [
      "0: 384x640 1 K-001901, 1 K-006697, 3 K-031490s, 50.0ms\n",
      "Speed: 3.5ms preprocess, 50.0ms inference, 3.0ms postprocess per image at shape (1, 3, 384, 640)\n",
      "\n",
      "0: 384x640 1 K-001901, 1 K-006697, 3 K-031490s, 49.0ms\n",
      "Speed: 2.0ms preprocess, 49.0ms inference, 2.0ms postprocess per image at shape (1, 3, 384, 640)\n",
      "\n",
      "0: 384x640 1 K-001901, 1 K-006697, 3 K-031490s, 49.5ms\n",
      "Speed: 3.0ms preprocess, 49.5ms inference, 2.0ms postprocess per image at shape (1, 3, 384, 640)\n",
      "\n"
     ]
    },
    {
     "name": "stdout",
     "output_type": "stream",
     "text": [
      "Time to process 1 frame: 74 milliseconds\n",
      "Time to process 1 frame: 70 milliseconds\n",
      "Time to process 1 frame: 70 milliseconds\n"
     ]
    },
    {
     "name": "stderr",
     "output_type": "stream",
     "text": [
      "0: 384x640 2 K-001901s, 1 K-006697, 3 K-031490s, 50.5ms\n",
      "Speed: 2.0ms preprocess, 50.5ms inference, 2.0ms postprocess per image at shape (1, 3, 384, 640)\n",
      "\n",
      "0: 384x640 2 K-001901s, 1 K-006697, 4 K-031490s, 51.0ms\n",
      "Speed: 3.0ms preprocess, 51.0ms inference, 2.2ms postprocess per image at shape (1, 3, 384, 640)\n",
      "\n",
      "0: 384x640 2 K-001901s, 1 K-006697, 4 K-031490s, 48.0ms\n",
      "Speed: 2.0ms preprocess, 48.0ms inference, 3.0ms postprocess per image at shape (1, 3, 384, 640)\n",
      "\n"
     ]
    },
    {
     "name": "stdout",
     "output_type": "stream",
     "text": [
      "Time to process 1 frame: 71 milliseconds\n",
      "Time to process 1 frame: 72 milliseconds\n",
      "Time to process 1 frame: 67 milliseconds\n"
     ]
    },
    {
     "name": "stderr",
     "output_type": "stream",
     "text": [
      "0: 384x640 2 K-001901s, 1 K-006697, 4 K-031490s, 50.4ms\n",
      "Speed: 2.0ms preprocess, 50.4ms inference, 3.0ms postprocess per image at shape (1, 3, 384, 640)\n",
      "\n",
      "0: 384x640 2 K-001901s, 1 K-004378, 3 K-031490s, 51.5ms\n",
      "Speed: 2.0ms preprocess, 51.5ms inference, 2.0ms postprocess per image at shape (1, 3, 384, 640)\n",
      "\n",
      "0: 384x640 2 K-001901s, 1 K-004378, 4 K-031490s, 48.0ms\n",
      "Speed: 3.0ms preprocess, 48.0ms inference, 2.0ms postprocess per image at shape (1, 3, 384, 640)\n",
      "\n"
     ]
    },
    {
     "name": "stdout",
     "output_type": "stream",
     "text": [
      "Time to process 1 frame: 73 milliseconds\n",
      "Time to process 1 frame: 72 milliseconds\n",
      "Time to process 1 frame: 68 milliseconds\n"
     ]
    },
    {
     "name": "stderr",
     "output_type": "stream",
     "text": [
      "0: 384x640 2 K-001901s, 1 K-004378, 3 K-031490s, 1 K-044834, 50.0ms\n",
      "Speed: 2.0ms preprocess, 50.0ms inference, 3.0ms postprocess per image at shape (1, 3, 384, 640)\n",
      "\n",
      "0: 384x640 2 K-001901s, 1 K-004378, 3 K-031490s, 48.5ms\n",
      "Speed: 2.0ms preprocess, 48.5ms inference, 2.0ms postprocess per image at shape (1, 3, 384, 640)\n",
      "\n",
      "0: 384x640 2 K-001901s, 1 K-004378, 4 K-031490s, 49.9ms\n",
      "Speed: 2.0ms preprocess, 49.9ms inference, 2.0ms postprocess per image at shape (1, 3, 384, 640)\n",
      "\n"
     ]
    },
    {
     "name": "stdout",
     "output_type": "stream",
     "text": [
      "Time to process 1 frame: 71 milliseconds\n",
      "Time to process 1 frame: 70 milliseconds\n",
      "Time to process 1 frame: 71 milliseconds\n"
     ]
    },
    {
     "name": "stderr",
     "output_type": "stream",
     "text": [
      "0: 384x640 2 K-001901s, 1 K-004378, 3 K-031490s, 51.0ms\n",
      "Speed: 2.0ms preprocess, 51.0ms inference, 2.0ms postprocess per image at shape (1, 3, 384, 640)\n",
      "\n",
      "0: 384x640 2 K-001901s, 1 K-004378, 3 K-031490s, 47.5ms\n",
      "Speed: 2.0ms preprocess, 47.5ms inference, 3.0ms postprocess per image at shape (1, 3, 384, 640)\n",
      "\n",
      "0: 384x640 2 K-001901s, 1 K-004378, 3 K-031490s, 49.5ms\n",
      "Speed: 2.0ms preprocess, 49.5ms inference, 2.0ms postprocess per image at shape (1, 3, 384, 640)\n",
      "\n"
     ]
    },
    {
     "name": "stdout",
     "output_type": "stream",
     "text": [
      "Time to process 1 frame: 71 milliseconds\n",
      "Time to process 1 frame: 69 milliseconds\n",
      "Time to process 1 frame: 70 milliseconds\n"
     ]
    },
    {
     "name": "stderr",
     "output_type": "stream",
     "text": [
      "0: 384x640 2 K-001901s, 1 K-004378, 1 K-016548, 3 K-031490s, 49.0ms\n",
      "Speed: 2.0ms preprocess, 49.0ms inference, 2.0ms postprocess per image at shape (1, 3, 384, 640)\n",
      "\n",
      "0: 384x640 2 K-001901s, 1 K-004378, 1 K-016548, 3 K-031490s, 50.0ms\n",
      "Speed: 2.0ms preprocess, 50.0ms inference, 3.0ms postprocess per image at shape (1, 3, 384, 640)\n",
      "\n",
      "0: 384x640 2 K-001901s, 1 K-004378, 1 K-016548, 3 K-031490s, 1 K-044834, 50.2ms\n",
      "Speed: 2.0ms preprocess, 50.2ms inference, 2.0ms postprocess per image at shape (1, 3, 384, 640)\n",
      "\n"
     ]
    },
    {
     "name": "stdout",
     "output_type": "stream",
     "text": [
      "Time to process 1 frame: 72 milliseconds\n",
      "Time to process 1 frame: 70 milliseconds\n",
      "Time to process 1 frame: 70 milliseconds\n"
     ]
    },
    {
     "name": "stderr",
     "output_type": "stream",
     "text": [
      "0: 384x640 2 K-001901s, 1 K-004378, 1 K-016548, 3 K-031490s, 48.6ms\n",
      "Speed: 1.0ms preprocess, 48.6ms inference, 3.0ms postprocess per image at shape (1, 3, 384, 640)\n",
      "\n",
      "0: 384x640 2 K-001901s, 1 K-004378, 3 K-031490s, 50.0ms\n",
      "Speed: 2.0ms preprocess, 50.0ms inference, 2.0ms postprocess per image at shape (1, 3, 384, 640)\n",
      "\n",
      "0: 384x640 2 K-001901s, 1 K-004378, 1 K-016548, 3 K-031490s, 48.0ms\n",
      "Speed: 2.0ms preprocess, 48.0ms inference, 3.0ms postprocess per image at shape (1, 3, 384, 640)\n",
      "\n"
     ]
    },
    {
     "name": "stdout",
     "output_type": "stream",
     "text": [
      "Time to process 1 frame: 70 milliseconds\n",
      "Time to process 1 frame: 70 milliseconds\n",
      "Time to process 1 frame: 71 milliseconds\n"
     ]
    },
    {
     "name": "stderr",
     "output_type": "stream",
     "text": [
      "0: 384x640 2 K-001901s, 1 K-004378, 1 K-016548, 3 K-031490s, 50.2ms\n",
      "Speed: 2.0ms preprocess, 50.2ms inference, 2.0ms postprocess per image at shape (1, 3, 384, 640)\n",
      "\n",
      "0: 384x640 2 K-001901s, 1 K-004378, 3 K-031490s, 49.5ms\n",
      "Speed: 2.0ms preprocess, 49.5ms inference, 3.0ms postprocess per image at shape (1, 3, 384, 640)\n",
      "\n",
      "0: 384x640 2 K-001901s, 1 K-004378, 3 K-031490s, 1 K-044834, 48.0ms\n",
      "Speed: 2.0ms preprocess, 48.0ms inference, 3.0ms postprocess per image at shape (1, 3, 384, 640)\n",
      "\n",
      "0: 384x640 2 K-001901s, 1 K-004378, 3 K-031490s, 49.0ms\n"
     ]
    },
    {
     "name": "stdout",
     "output_type": "stream",
     "text": [
      "Time to process 1 frame: 70 milliseconds\n",
      "Time to process 1 frame: 70 milliseconds\n",
      "Time to process 1 frame: 69 milliseconds\n"
     ]
    },
    {
     "name": "stderr",
     "output_type": "stream",
     "text": [
      "Speed: 2.0ms preprocess, 49.0ms inference, 2.0ms postprocess per image at shape (1, 3, 384, 640)\n",
      "\n",
      "0: 384x640 2 K-001901s, 1 K-004378, 3 K-031490s, 1 K-044834, 48.6ms\n",
      "Speed: 2.0ms preprocess, 48.6ms inference, 2.0ms postprocess per image at shape (1, 3, 384, 640)\n",
      "\n",
      "0: 384x640 2 K-001901s, 1 K-004378, 3 K-031490s, 49.5ms\n",
      "Speed: 3.0ms preprocess, 49.5ms inference, 2.0ms postprocess per image at shape (1, 3, 384, 640)\n",
      "\n"
     ]
    },
    {
     "name": "stdout",
     "output_type": "stream",
     "text": [
      "Time to process 1 frame: 71 milliseconds\n",
      "Time to process 1 frame: 70 milliseconds\n",
      "Time to process 1 frame: 71 milliseconds\n"
     ]
    },
    {
     "name": "stderr",
     "output_type": "stream",
     "text": [
      "0: 384x640 2 K-001901s, 1 K-004378, 3 K-031490s, 1 K-044834, 51.0ms\n",
      "Speed: 2.0ms preprocess, 51.0ms inference, 3.0ms postprocess per image at shape (1, 3, 384, 640)\n",
      "\n",
      "0: 384x640 2 K-001901s, 1 K-004378, 3 K-031490s, 48.0ms\n",
      "Speed: 2.0ms preprocess, 48.0ms inference, 2.0ms postprocess per image at shape (1, 3, 384, 640)\n",
      "\n",
      "0: 384x640 2 K-001901s, 1 K-004378, 3 K-031490s, 48.5ms\n",
      "Speed: 2.0ms preprocess, 48.5ms inference, 2.0ms postprocess per image at shape (1, 3, 384, 640)\n",
      "\n"
     ]
    },
    {
     "name": "stdout",
     "output_type": "stream",
     "text": [
      "Time to process 1 frame: 71 milliseconds\n",
      "Time to process 1 frame: 69 milliseconds\n",
      "Time to process 1 frame: 69 milliseconds\n"
     ]
    },
    {
     "name": "stderr",
     "output_type": "stream",
     "text": [
      "0: 384x640 2 K-001901s, 1 K-004378, 1 K-006697, 4 K-031490s, 49.0ms\n",
      "Speed: 2.0ms preprocess, 49.0ms inference, 2.5ms postprocess per image at shape (1, 3, 384, 640)\n",
      "\n",
      "0: 384x640 2 K-001901s, 1 K-004378, 4 K-031490s, 51.0ms\n",
      "Speed: 2.0ms preprocess, 51.0ms inference, 2.0ms postprocess per image at shape (1, 3, 384, 640)\n",
      "\n",
      "0: 384x640 2 K-001901s, 1 K-004378, 1 K-016548, 3 K-031490s, 1 K-044834, 51.3ms\n",
      "Speed: 2.0ms preprocess, 51.3ms inference, 2.0ms postprocess per image at shape (1, 3, 384, 640)\n",
      "\n"
     ]
    },
    {
     "name": "stdout",
     "output_type": "stream",
     "text": [
      "Time to process 1 frame: 69 milliseconds\n",
      "Time to process 1 frame: 70 milliseconds\n",
      "Time to process 1 frame: 70 milliseconds\n"
     ]
    },
    {
     "name": "stderr",
     "output_type": "stream",
     "text": [
      "0: 384x640 2 K-001901s, 1 K-004378, 4 K-031490s, 48.5ms\n",
      "Speed: 2.0ms preprocess, 48.5ms inference, 2.0ms postprocess per image at shape (1, 3, 384, 640)\n",
      "\n",
      "0: 384x640 2 K-001901s, 1 K-004378, 3 K-031490s, 1 K-044834, 48.0ms\n",
      "Speed: 2.0ms preprocess, 48.0ms inference, 2.0ms postprocess per image at shape (1, 3, 384, 640)\n",
      "\n",
      "0: 384x640 2 K-001901s, 1 K-004378, 1 K-016548, 3 K-031490s, 1 K-044834, 48.0ms\n",
      "Speed: 2.0ms preprocess, 48.0ms inference, 2.0ms postprocess per image at shape (1, 3, 384, 640)\n",
      "\n"
     ]
    },
    {
     "name": "stdout",
     "output_type": "stream",
     "text": [
      "Time to process 1 frame: 69 milliseconds\n",
      "Time to process 1 frame: 68 milliseconds\n",
      "Time to process 1 frame: 68 milliseconds\n"
     ]
    },
    {
     "name": "stderr",
     "output_type": "stream",
     "text": [
      "0: 384x640 2 K-001901s, 1 K-004378, 3 K-031490s, 1 K-044834, 47.5ms\n",
      "Speed: 2.0ms preprocess, 47.5ms inference, 4.0ms postprocess per image at shape (1, 3, 384, 640)\n",
      "\n",
      "0: 384x640 2 K-001901s, 1 K-004378, 4 K-031490s, 51.1ms\n",
      "Speed: 2.0ms preprocess, 51.1ms inference, 3.0ms postprocess per image at shape (1, 3, 384, 640)\n",
      "\n",
      "0: 384x640 2 K-001901s, 1 K-004378, 1 K-016548, 3 K-031490s, 1 K-044834, 48.0ms\n",
      "Speed: 2.0ms preprocess, 48.0ms inference, 3.0ms postprocess per image at shape (1, 3, 384, 640)\n",
      "\n"
     ]
    },
    {
     "name": "stdout",
     "output_type": "stream",
     "text": [
      "Time to process 1 frame: 70 milliseconds\n",
      "Time to process 1 frame: 73 milliseconds\n",
      "Time to process 1 frame: 70 milliseconds\n"
     ]
    },
    {
     "name": "stderr",
     "output_type": "stream",
     "text": [
      "0: 384x640 2 K-001901s, 1 K-004378, 3 K-031490s, 1 K-044834, 49.3ms\n",
      "Speed: 2.0ms preprocess, 49.3ms inference, 2.0ms postprocess per image at shape (1, 3, 384, 640)\n",
      "\n",
      "0: 384x640 2 K-001901s, 1 K-004378, 3 K-031490s, 1 K-044834, 48.5ms\n",
      "Speed: 2.0ms preprocess, 48.5ms inference, 2.0ms postprocess per image at shape (1, 3, 384, 640)\n",
      "\n",
      "0: 384x640 2 K-001901s, 1 K-004378, 3 K-031490s, 1 K-044834, 49.2ms\n",
      "Speed: 2.0ms preprocess, 49.2ms inference, 2.0ms postprocess per image at shape (1, 3, 384, 640)\n",
      "\n"
     ]
    },
    {
     "name": "stdout",
     "output_type": "stream",
     "text": [
      "Time to process 1 frame: 70 milliseconds\n",
      "Time to process 1 frame: 69 milliseconds\n",
      "Time to process 1 frame: 69 milliseconds\n"
     ]
    },
    {
     "name": "stderr",
     "output_type": "stream",
     "text": [
      "0: 384x640 2 K-001901s, 1 K-004378, 3 K-031490s, 1 K-044834, 51.0ms\n",
      "Speed: 2.0ms preprocess, 51.0ms inference, 3.0ms postprocess per image at shape (1, 3, 384, 640)\n",
      "\n",
      "0: 384x640 2 K-001901s, 1 K-004378, 3 K-031490s, 1 K-044834, 49.0ms\n",
      "Speed: 2.0ms preprocess, 49.0ms inference, 2.0ms postprocess per image at shape (1, 3, 384, 640)\n",
      "\n",
      "0: 384x640 2 K-001901s, 1 K-004378, 3 K-031490s, 1 K-044834, 49.4ms\n",
      "Speed: 2.0ms preprocess, 49.4ms inference, 3.0ms postprocess per image at shape (1, 3, 384, 640)\n",
      "\n"
     ]
    },
    {
     "name": "stdout",
     "output_type": "stream",
     "text": [
      "Time to process 1 frame: 72 milliseconds\n",
      "Time to process 1 frame: 71 milliseconds\n",
      "Time to process 1 frame: 69 milliseconds\n"
     ]
    },
    {
     "name": "stderr",
     "output_type": "stream",
     "text": [
      "0: 384x640 2 K-001901s, 1 K-004378, 4 K-031490s, 47.5ms\n",
      "Speed: 2.0ms preprocess, 47.5ms inference, 3.0ms postprocess per image at shape (1, 3, 384, 640)\n",
      "\n",
      "0: 384x640 2 K-001901s, 1 K-004378, 3 K-031490s, 1 K-044834, 51.2ms\n",
      "Speed: 2.2ms preprocess, 51.2ms inference, 2.0ms postprocess per image at shape (1, 3, 384, 640)\n",
      "\n",
      "0: 384x640 2 K-001901s, 1 K-004378, 4 K-031490s, 50.0ms\n",
      "Speed: 2.5ms preprocess, 50.0ms inference, 3.0ms postprocess per image at shape (1, 3, 384, 640)\n",
      "\n"
     ]
    },
    {
     "name": "stdout",
     "output_type": "stream",
     "text": [
      "Time to process 1 frame: 68 milliseconds\n",
      "Time to process 1 frame: 71 milliseconds\n",
      "Time to process 1 frame: 71 milliseconds\n"
     ]
    },
    {
     "name": "stderr",
     "output_type": "stream",
     "text": [
      "0: 384x640 2 K-001901s, 1 K-004378, 4 K-031490s, 49.1ms\n",
      "Speed: 2.0ms preprocess, 49.1ms inference, 3.0ms postprocess per image at shape (1, 3, 384, 640)\n",
      "\n",
      "0: 384x640 2 K-001901s, 1 K-004378, 3 K-031490s, 50.5ms\n",
      "Speed: 2.0ms preprocess, 50.5ms inference, 4.0ms postprocess per image at shape (1, 3, 384, 640)\n",
      "\n",
      "0: 384x640 2 K-001901s, 1 K-004378, 1 K-016548, 3 K-031490s, 50.0ms\n",
      "Speed: 2.0ms preprocess, 50.0ms inference, 4.0ms postprocess per image at shape (1, 3, 384, 640)\n",
      "\n"
     ]
    },
    {
     "name": "stdout",
     "output_type": "stream",
     "text": [
      "Time to process 1 frame: 70 milliseconds\n",
      "Time to process 1 frame: 74 milliseconds\n",
      "Time to process 1 frame: 74 milliseconds\n"
     ]
    },
    {
     "name": "stderr",
     "output_type": "stream",
     "text": [
      "0: 384x640 2 K-001901s, 1 K-004378, 1 K-016548, 3 K-031490s, 1 K-044834, 51.0ms\n",
      "Speed: 2.0ms preprocess, 51.0ms inference, 2.0ms postprocess per image at shape (1, 3, 384, 640)\n",
      "\n",
      "0: 384x640 2 K-001901s, 1 K-004378, 1 K-016548, 3 K-031490s, 1 K-044834, 48.9ms\n",
      "Speed: 3.0ms preprocess, 48.9ms inference, 2.7ms postprocess per image at shape (1, 3, 384, 640)\n",
      "\n",
      "0: 384x640 2 K-001901s, 1 K-004378, 1 K-016548, 3 K-031490s, 49.5ms\n",
      "Speed: 2.0ms preprocess, 49.5ms inference, 2.0ms postprocess per image at shape (1, 3, 384, 640)\n",
      "\n"
     ]
    },
    {
     "name": "stdout",
     "output_type": "stream",
     "text": [
      "Time to process 1 frame: 72 milliseconds\n",
      "Time to process 1 frame: 73 milliseconds\n",
      "Time to process 1 frame: 70 milliseconds\n"
     ]
    },
    {
     "name": "stderr",
     "output_type": "stream",
     "text": [
      "0: 384x640 2 K-001901s, 1 K-004378, 3 K-031490s, 1 K-044834, 49.0ms\n",
      "Speed: 3.0ms preprocess, 49.0ms inference, 3.0ms postprocess per image at shape (1, 3, 384, 640)\n",
      "\n",
      "0: 384x640 2 K-001901s, 1 K-004378, 3 K-031490s, 1 K-044834, 48.0ms\n",
      "Speed: 2.0ms preprocess, 48.0ms inference, 2.0ms postprocess per image at shape (1, 3, 384, 640)\n",
      "\n",
      "0: 384x640 2 K-001901s, 1 K-004378, 3 K-031490s, 1 K-044834, 48.5ms\n",
      "Speed: 2.0ms preprocess, 48.5ms inference, 3.0ms postprocess per image at shape (1, 3, 384, 640)\n",
      "\n"
     ]
    },
    {
     "name": "stdout",
     "output_type": "stream",
     "text": [
      "Time to process 1 frame: 71 milliseconds\n",
      "Time to process 1 frame: 69 milliseconds\n",
      "Time to process 1 frame: 75 milliseconds\n"
     ]
    },
    {
     "name": "stderr",
     "output_type": "stream",
     "text": [
      "0: 384x640 2 K-001901s, 1 K-004378, 1 K-006697, 4 K-031490s, 50.5ms\n",
      "Speed: 2.0ms preprocess, 50.5ms inference, 5.0ms postprocess per image at shape (1, 3, 384, 640)\n",
      "\n",
      "0: 384x640 2 K-001901s, 1 K-004378, 1 K-016548, 3 K-031490s, 1 K-044834, 51.0ms\n",
      "Speed: 2.0ms preprocess, 51.0ms inference, 2.0ms postprocess per image at shape (1, 3, 384, 640)\n",
      "\n",
      "0: 384x640 2 K-001901s, 1 K-004378, 4 K-031490s, 49.2ms\n",
      "Speed: 2.0ms preprocess, 49.2ms inference, 2.0ms postprocess per image at shape (1, 3, 384, 640)\n",
      "\n"
     ]
    },
    {
     "name": "stdout",
     "output_type": "stream",
     "text": [
      "Time to process 1 frame: 75 milliseconds\n",
      "Time to process 1 frame: 72 milliseconds\n",
      "Time to process 1 frame: 70 milliseconds\n"
     ]
    },
    {
     "name": "stderr",
     "output_type": "stream",
     "text": [
      "0: 384x640 2 K-001901s, 1 K-004378, 3 K-031490s, 48.2ms\n",
      "Speed: 3.0ms preprocess, 48.2ms inference, 3.0ms postprocess per image at shape (1, 3, 384, 640)\n",
      "\n",
      "0: 384x640 2 K-001901s, 1 K-004378, 1 K-016548, 3 K-031490s, 1 K-044834, 50.5ms\n",
      "Speed: 2.0ms preprocess, 50.5ms inference, 2.0ms postprocess per image at shape (1, 3, 384, 640)\n",
      "\n",
      "0: 384x640 2 K-001901s, 1 K-004378, 3 K-031490s, 50.0ms\n",
      "Speed: 2.0ms preprocess, 50.0ms inference, 2.0ms postprocess per image at shape (1, 3, 384, 640)\n",
      "\n"
     ]
    },
    {
     "name": "stdout",
     "output_type": "stream",
     "text": [
      "Time to process 1 frame: 70 milliseconds\n",
      "Time to process 1 frame: 72 milliseconds\n",
      "Time to process 1 frame: 71 milliseconds\n"
     ]
    },
    {
     "name": "stderr",
     "output_type": "stream",
     "text": [
      "0: 384x640 2 K-001901s, 1 K-004378, 4 K-031490s, 48.0ms\n",
      "Speed: 3.0ms preprocess, 48.0ms inference, 3.0ms postprocess per image at shape (1, 3, 384, 640)\n",
      "\n",
      "0: 384x640 2 K-001901s, 1 K-004378, 1 K-016548, 3 K-031490s, 48.5ms\n",
      "Speed: 2.0ms preprocess, 48.5ms inference, 7.0ms postprocess per image at shape (1, 3, 384, 640)\n",
      "\n",
      "0: 384x640 2 K-001901s, 1 K-004378, 1 K-016548, 3 K-031490s, 48.5ms\n",
      "Speed: 2.0ms preprocess, 48.5ms inference, 2.0ms postprocess per image at shape (1, 3, 384, 640)\n",
      "\n"
     ]
    },
    {
     "name": "stdout",
     "output_type": "stream",
     "text": [
      "Time to process 1 frame: 69 milliseconds\n",
      "Time to process 1 frame: 75 milliseconds\n",
      "Time to process 1 frame: 68 milliseconds\n"
     ]
    },
    {
     "name": "stderr",
     "output_type": "stream",
     "text": [
      "0: 384x640 2 K-001901s, 1 K-004378, 4 K-031490s, 51.2ms\n",
      "Speed: 2.0ms preprocess, 51.2ms inference, 2.0ms postprocess per image at shape (1, 3, 384, 640)\n",
      "\n",
      "0: 384x640 2 K-001901s, 1 K-004378, 3 K-031490s, 50.5ms\n",
      "Speed: 1.0ms preprocess, 50.5ms inference, 2.0ms postprocess per image at shape (1, 3, 384, 640)\n",
      "\n",
      "0: 384x640 2 K-001901s, 1 K-004378, 3 K-031490s, 48.5ms\n",
      "Speed: 3.0ms preprocess, 48.5ms inference, 2.0ms postprocess per image at shape (1, 3, 384, 640)\n",
      "\n"
     ]
    },
    {
     "name": "stdout",
     "output_type": "stream",
     "text": [
      "Time to process 1 frame: 71 milliseconds\n",
      "Time to process 1 frame: 70 milliseconds\n",
      "Time to process 1 frame: 70 milliseconds\n"
     ]
    },
    {
     "name": "stderr",
     "output_type": "stream",
     "text": [
      "0: 384x640 2 K-001901s, 1 K-004378, 1 K-016548, 3 K-031490s, 49.0ms\n",
      "Speed: 3.0ms preprocess, 49.0ms inference, 4.2ms postprocess per image at shape (1, 3, 384, 640)\n",
      "\n",
      "0: 384x640 2 K-001901s, 1 K-004378, 1 K-016548, 3 K-031490s, 49.0ms\n",
      "Speed: 2.0ms preprocess, 49.0ms inference, 2.0ms postprocess per image at shape (1, 3, 384, 640)\n",
      "\n",
      "0: 384x640 2 K-001901s, 1 K-004378, 1 K-016548, 3 K-031490s, 50.3ms\n",
      "Speed: 2.0ms preprocess, 50.3ms inference, 3.0ms postprocess per image at shape (1, 3, 384, 640)\n",
      "\n"
     ]
    },
    {
     "name": "stdout",
     "output_type": "stream",
     "text": [
      "Time to process 1 frame: 72 milliseconds\n",
      "Time to process 1 frame: 69 milliseconds\n",
      "Time to process 1 frame: 71 milliseconds\n"
     ]
    },
    {
     "name": "stderr",
     "output_type": "stream",
     "text": [
      "0: 384x640 2 K-001901s, 1 K-004378, 3 K-031490s, 50.5ms\n",
      "Speed: 3.0ms preprocess, 50.5ms inference, 2.0ms postprocess per image at shape (1, 3, 384, 640)\n",
      "\n",
      "0: 384x640 2 K-001901s, 1 K-004378, 3 K-031490s, 48.3ms\n",
      "Speed: 2.0ms preprocess, 48.3ms inference, 4.0ms postprocess per image at shape (1, 3, 384, 640)\n",
      "\n",
      "0: 384x640 2 K-001901s, 1 K-004378, 3 K-031490s, 49.0ms\n",
      "Speed: 2.0ms preprocess, 49.0ms inference, 2.0ms postprocess per image at shape (1, 3, 384, 640)\n",
      "\n"
     ]
    },
    {
     "name": "stdout",
     "output_type": "stream",
     "text": [
      "Time to process 1 frame: 71 milliseconds\n",
      "Time to process 1 frame: 70 milliseconds\n",
      "Time to process 1 frame: 69 milliseconds\n"
     ]
    },
    {
     "name": "stderr",
     "output_type": "stream",
     "text": [
      "0: 384x640 2 K-001901s, 1 K-004378, 4 K-031490s, 50.2ms\n",
      "Speed: 2.0ms preprocess, 50.2ms inference, 3.0ms postprocess per image at shape (1, 3, 384, 640)\n",
      "\n",
      "0: 384x640 2 K-001901s, 1 K-004378, 1 K-016548, 3 K-031490s, 1 K-044834, 50.5ms\n",
      "Speed: 2.0ms preprocess, 50.5ms inference, 3.0ms postprocess per image at shape (1, 3, 384, 640)\n",
      "\n",
      "0: 384x640 2 K-001901s, 1 K-004378, 1 K-016548, 3 K-031490s, 50.0ms\n",
      "Speed: 2.0ms preprocess, 50.0ms inference, 3.0ms postprocess per image at shape (1, 3, 384, 640)\n",
      "\n"
     ]
    },
    {
     "name": "stdout",
     "output_type": "stream",
     "text": [
      "Time to process 1 frame: 72 milliseconds\n",
      "Time to process 1 frame: 73 milliseconds\n",
      "Time to process 1 frame: 71 milliseconds\n"
     ]
    },
    {
     "name": "stderr",
     "output_type": "stream",
     "text": [
      "0: 384x640 2 K-001901s, 1 K-004378, 1 K-016548, 3 K-031490s, 1 K-044834, 49.0ms\n",
      "Speed: 2.0ms preprocess, 49.0ms inference, 2.0ms postprocess per image at shape (1, 3, 384, 640)\n",
      "\n",
      "0: 384x640 2 K-001901s, 1 K-006697, 4 K-031490s, 51.5ms\n",
      "Speed: 1.0ms preprocess, 51.5ms inference, 2.0ms postprocess per image at shape (1, 3, 384, 640)\n",
      "\n",
      "0: 384x640 2 K-001901s, 1 K-006697, 4 K-031490s, 50.5ms\n",
      "Speed: 1.6ms preprocess, 50.5ms inference, 2.0ms postprocess per image at shape (1, 3, 384, 640)\n",
      "\n"
     ]
    },
    {
     "name": "stdout",
     "output_type": "stream",
     "text": [
      "Time to process 1 frame: 71 milliseconds\n",
      "Time to process 1 frame: 72 milliseconds\n",
      "Time to process 1 frame: 68 milliseconds\n"
     ]
    },
    {
     "name": "stderr",
     "output_type": "stream",
     "text": [
      "0: 384x640 2 K-001901s, 1 K-004378, 3 K-031490s, 51.0ms\n",
      "Speed: 2.0ms preprocess, 51.0ms inference, 2.0ms postprocess per image at shape (1, 3, 384, 640)\n",
      "\n",
      "0: 384x640 2 K-001901s, 1 K-004378, 3 K-031490s, 48.0ms\n",
      "Speed: 2.0ms preprocess, 48.0ms inference, 2.0ms postprocess per image at shape (1, 3, 384, 640)\n",
      "\n",
      "0: 384x640 2 K-001901s, 1 K-004378, 4 K-031490s, 48.1ms\n",
      "Speed: 2.0ms preprocess, 48.1ms inference, 2.0ms postprocess per image at shape (1, 3, 384, 640)\n",
      "\n"
     ]
    },
    {
     "name": "stdout",
     "output_type": "stream",
     "text": [
      "Time to process 1 frame: 71 milliseconds\n",
      "Time to process 1 frame: 68 milliseconds\n",
      "Time to process 1 frame: 68 milliseconds\n"
     ]
    },
    {
     "name": "stderr",
     "output_type": "stream",
     "text": [
      "0: 384x640 2 K-001901s, 1 K-004378, 3 K-031490s, 50.5ms\n",
      "Speed: 2.0ms preprocess, 50.5ms inference, 2.0ms postprocess per image at shape (1, 3, 384, 640)\n",
      "\n",
      "0: 384x640 2 K-001901s, 1 K-004378, 4 K-031490s, 50.0ms\n",
      "Speed: 2.0ms preprocess, 50.0ms inference, 3.0ms postprocess per image at shape (1, 3, 384, 640)\n",
      "\n",
      "0: 384x640 2 K-001901s, 1 K-004378, 3 K-031490s, 48.0ms\n",
      "Speed: 2.0ms preprocess, 48.0ms inference, 2.0ms postprocess per image at shape (1, 3, 384, 640)\n",
      "\n"
     ]
    },
    {
     "name": "stdout",
     "output_type": "stream",
     "text": [
      "Time to process 1 frame: 71 milliseconds\n",
      "Time to process 1 frame: 71 milliseconds\n",
      "Time to process 1 frame: 68 milliseconds\n"
     ]
    },
    {
     "name": "stderr",
     "output_type": "stream",
     "text": [
      "0: 384x640 2 K-001901s, 1 K-004378, 4 K-031490s, 51.1ms\n",
      "Speed: 2.0ms preprocess, 51.1ms inference, 2.0ms postprocess per image at shape (1, 3, 384, 640)\n",
      "\n",
      "0: 384x640 2 K-001901s, 1 K-004378, 3 K-031490s, 48.0ms\n",
      "Speed: 2.0ms preprocess, 48.0ms inference, 3.0ms postprocess per image at shape (1, 3, 384, 640)\n",
      "\n",
      "0: 384x640 2 K-001901s, 1 K-004378, 3 K-031490s, 51.0ms\n",
      "Speed: 2.0ms preprocess, 51.0ms inference, 2.0ms postprocess per image at shape (1, 3, 384, 640)\n",
      "\n"
     ]
    },
    {
     "name": "stdout",
     "output_type": "stream",
     "text": [
      "Time to process 1 frame: 68 milliseconds\n",
      "Time to process 1 frame: 69 milliseconds\n",
      "Time to process 1 frame: 71 milliseconds\n"
     ]
    },
    {
     "name": "stderr",
     "output_type": "stream",
     "text": [
      "0: 384x640 2 K-001901s, 1 K-006697, 4 K-031490s, 49.5ms\n",
      "Speed: 3.0ms preprocess, 49.5ms inference, 2.0ms postprocess per image at shape (1, 3, 384, 640)\n",
      "\n",
      "0: 384x640 2 K-001901s, 1 K-004378, 3 K-031490s, 48.5ms\n",
      "Speed: 2.0ms preprocess, 48.5ms inference, 2.0ms postprocess per image at shape (1, 3, 384, 640)\n",
      "\n",
      "0: 384x640 2 K-001901s, 1 K-004378, 4 K-031490s, 50.0ms\n",
      "Speed: 2.0ms preprocess, 50.0ms inference, 2.0ms postprocess per image at shape (1, 3, 384, 640)\n",
      "\n"
     ]
    },
    {
     "name": "stdout",
     "output_type": "stream",
     "text": [
      "Time to process 1 frame: 71 milliseconds\n",
      "Time to process 1 frame: 69 milliseconds\n",
      "Time to process 1 frame: 70 milliseconds\n"
     ]
    },
    {
     "name": "stderr",
     "output_type": "stream",
     "text": [
      "0: 384x640 2 K-001901s, 1 K-004378, 3 K-031490s, 1 K-044834, 48.5ms\n",
      "Speed: 2.0ms preprocess, 48.5ms inference, 2.7ms postprocess per image at shape (1, 3, 384, 640)\n",
      "\n",
      "0: 384x640 2 K-001901s, 1 K-004378, 3 K-031490s, 1 K-044834, 50.5ms\n",
      "Speed: 2.0ms preprocess, 50.5ms inference, 3.0ms postprocess per image at shape (1, 3, 384, 640)\n",
      "\n",
      "0: 384x640 2 K-001901s, 1 K-004378, 3 K-031490s, 1 K-044834, 49.4ms\n",
      "Speed: 1.0ms preprocess, 49.4ms inference, 3.0ms postprocess per image at shape (1, 3, 384, 640)\n",
      "\n"
     ]
    },
    {
     "name": "stdout",
     "output_type": "stream",
     "text": [
      "Time to process 1 frame: 70 milliseconds\n",
      "Time to process 1 frame: 74 milliseconds\n",
      "Time to process 1 frame: 70 milliseconds\n"
     ]
    },
    {
     "name": "stderr",
     "output_type": "stream",
     "text": [
      "0: 384x640 2 K-001901s, 1 K-004378, 3 K-031490s, 1 K-044834, 49.0ms\n",
      "Speed: 2.0ms preprocess, 49.0ms inference, 3.0ms postprocess per image at shape (1, 3, 384, 640)\n",
      "\n",
      "0: 384x640 2 K-001901s, 1 K-004378, 3 K-031490s, 1 K-044834, 49.0ms\n",
      "Speed: 2.0ms preprocess, 49.0ms inference, 2.0ms postprocess per image at shape (1, 3, 384, 640)\n",
      "\n",
      "0: 384x640 2 K-001901s, 1 K-004378, 4 K-031490s, 49.0ms\n",
      "Speed: 3.0ms preprocess, 49.0ms inference, 3.0ms postprocess per image at shape (1, 3, 384, 640)\n",
      "\n"
     ]
    },
    {
     "name": "stdout",
     "output_type": "stream",
     "text": [
      "Time to process 1 frame: 70 milliseconds\n",
      "Time to process 1 frame: 70 milliseconds\n",
      "Time to process 1 frame: 71 milliseconds\n"
     ]
    },
    {
     "name": "stderr",
     "output_type": "stream",
     "text": [
      "0: 384x640 2 K-001901s, 1 K-004378, 3 K-031490s, 50.3ms\n",
      "Speed: 2.0ms preprocess, 50.3ms inference, 2.0ms postprocess per image at shape (1, 3, 384, 640)\n",
      "\n",
      "0: 384x640 2 K-001901s, 1 K-004378, 1 K-016548, 3 K-031490s, 1 K-044834, 48.5ms\n",
      "Speed: 2.0ms preprocess, 48.5ms inference, 3.0ms postprocess per image at shape (1, 3, 384, 640)\n",
      "\n",
      "0: 384x640 2 K-001901s, 1 K-004378, 3 K-031490s, 51.0ms\n",
      "Speed: 2.0ms preprocess, 51.0ms inference, 2.0ms postprocess per image at shape (1, 3, 384, 640)\n",
      "\n"
     ]
    },
    {
     "name": "stdout",
     "output_type": "stream",
     "text": [
      "Time to process 1 frame: 71 milliseconds\n",
      "Time to process 1 frame: 69 milliseconds\n",
      "Time to process 1 frame: 70 milliseconds\n"
     ]
    },
    {
     "name": "stderr",
     "output_type": "stream",
     "text": [
      "0: 384x640 2 K-001901s, 1 K-004378, 4 K-031490s, 48.5ms\n",
      "Speed: 2.0ms preprocess, 48.5ms inference, 3.0ms postprocess per image at shape (1, 3, 384, 640)\n",
      "\n",
      "0: 384x640 2 K-001901s, 1 K-004378, 3 K-031490s, 49.5ms\n",
      "Speed: 2.0ms preprocess, 49.5ms inference, 2.0ms postprocess per image at shape (1, 3, 384, 640)\n",
      "\n",
      "0: 384x640 2 K-001901s, 1 K-006697, 4 K-031490s, 50.0ms\n",
      "Speed: 2.0ms preprocess, 50.0ms inference, 2.0ms postprocess per image at shape (1, 3, 384, 640)\n",
      "\n",
      "0: 384x640 2 K-001901s, 1 K-006697, 4 K-031490s, 48.0ms\n"
     ]
    },
    {
     "name": "stdout",
     "output_type": "stream",
     "text": [
      "Time to process 1 frame: 70 milliseconds\n",
      "Time to process 1 frame: 71 milliseconds\n",
      "Time to process 1 frame: 69 milliseconds\n"
     ]
    },
    {
     "name": "stderr",
     "output_type": "stream",
     "text": [
      "Speed: 2.0ms preprocess, 48.0ms inference, 3.0ms postprocess per image at shape (1, 3, 384, 640)\n",
      "\n",
      "0: 384x640 2 K-001901s, 1 K-006697, 4 K-031490s, 48.5ms\n",
      "Speed: 2.0ms preprocess, 48.5ms inference, 3.0ms postprocess per image at shape (1, 3, 384, 640)\n",
      "\n",
      "0: 384x640 2 K-001901s, 1 K-006697, 4 K-031490s, 49.6ms\n",
      "Speed: 2.0ms preprocess, 49.6ms inference, 2.0ms postprocess per image at shape (1, 3, 384, 640)\n",
      "\n"
     ]
    },
    {
     "name": "stdout",
     "output_type": "stream",
     "text": [
      "Time to process 1 frame: 69 milliseconds\n",
      "Time to process 1 frame: 69 milliseconds\n",
      "Time to process 1 frame: 71 milliseconds\n"
     ]
    },
    {
     "name": "stderr",
     "output_type": "stream",
     "text": [
      "0: 384x640 2 K-001901s, 1 K-004378, 3 K-031490s, 50.0ms\n",
      "Speed: 2.0ms preprocess, 50.0ms inference, 2.0ms postprocess per image at shape (1, 3, 384, 640)\n",
      "\n",
      "0: 384x640 2 K-001901s, 1 K-004378, 3 K-031490s, 50.3ms\n",
      "Speed: 2.0ms preprocess, 50.3ms inference, 2.0ms postprocess per image at shape (1, 3, 384, 640)\n",
      "\n",
      "0: 384x640 2 K-001901s, 1 K-004378, 3 K-031490s, 47.5ms\n",
      "Speed: 3.0ms preprocess, 47.5ms inference, 3.0ms postprocess per image at shape (1, 3, 384, 640)\n",
      "\n"
     ]
    },
    {
     "name": "stdout",
     "output_type": "stream",
     "text": [
      "Time to process 1 frame: 70 milliseconds\n",
      "Time to process 1 frame: 70 milliseconds\n",
      "Time to process 1 frame: 69 milliseconds\n"
     ]
    },
    {
     "name": "stderr",
     "output_type": "stream",
     "text": [
      "0: 384x640 2 K-001901s, 1 K-004378, 1 K-006697, 1 K-016548, 3 K-031490s, 1 K-044834, 49.0ms\n",
      "Speed: 2.0ms preprocess, 49.0ms inference, 2.5ms postprocess per image at shape (1, 3, 384, 640)\n",
      "\n",
      "0: 384x640 2 K-001901s, 1 K-006697, 3 K-031490s, 49.0ms\n",
      "Speed: 2.0ms preprocess, 49.0ms inference, 2.0ms postprocess per image at shape (1, 3, 384, 640)\n",
      "\n",
      "0: 384x640 2 K-001901s, 1 K-006697, 2 K-031490s, 50.0ms\n",
      "Speed: 1.5ms preprocess, 50.0ms inference, 2.0ms postprocess per image at shape (1, 3, 384, 640)\n",
      "\n"
     ]
    },
    {
     "name": "stdout",
     "output_type": "stream",
     "text": [
      "Time to process 1 frame: 73 milliseconds\n",
      "Time to process 1 frame: 70 milliseconds\n",
      "Time to process 1 frame: 71 milliseconds\n"
     ]
    },
    {
     "name": "stderr",
     "output_type": "stream",
     "text": [
      "0: 384x640 2 K-001901s, 1 K-006697, 2 K-031490s, 51.7ms\n",
      "Speed: 2.0ms preprocess, 51.7ms inference, 2.0ms postprocess per image at shape (1, 3, 384, 640)\n",
      "\n",
      "0: 384x640 2 K-001901s, 1 K-006697, 2 K-031490s, 48.0ms\n",
      "Speed: 2.0ms preprocess, 48.0ms inference, 2.5ms postprocess per image at shape (1, 3, 384, 640)\n",
      "\n",
      "0: 384x640 2 K-001901s, 1 K-006697, 2 K-031490s, 50.0ms\n",
      "Speed: 2.0ms preprocess, 50.0ms inference, 4.0ms postprocess per image at shape (1, 3, 384, 640)\n",
      "\n"
     ]
    },
    {
     "name": "stdout",
     "output_type": "stream",
     "text": [
      "Time to process 1 frame: 72 milliseconds\n",
      "Time to process 1 frame: 70 milliseconds\n",
      "Time to process 1 frame: 72 milliseconds\n"
     ]
    },
    {
     "name": "stderr",
     "output_type": "stream",
     "text": [
      "0: 384x640 2 K-001901s, 1 K-006697, 1 K-031490, 48.5ms\n",
      "Speed: 2.0ms preprocess, 48.5ms inference, 3.0ms postprocess per image at shape (1, 3, 384, 640)\n",
      "\n",
      "0: 384x640 2 K-001901s, 1 K-004378, 1 K-016548, 50.5ms\n",
      "Speed: 2.0ms preprocess, 50.5ms inference, 3.0ms postprocess per image at shape (1, 3, 384, 640)\n",
      "\n",
      "0: 384x640 2 K-001901s, 1 K-004378, 1 K-016548, 48.0ms\n",
      "Speed: 2.0ms preprocess, 48.0ms inference, 3.0ms postprocess per image at shape (1, 3, 384, 640)\n",
      "\n",
      "0: 384x640 2 K-001901s, 1 K-004378, 1 K-016548, 48.0ms\n"
     ]
    },
    {
     "name": "stdout",
     "output_type": "stream",
     "text": [
      "Time to process 1 frame: 70 milliseconds\n",
      "Time to process 1 frame: 71 milliseconds\n",
      "Time to process 1 frame: 69 milliseconds\n"
     ]
    },
    {
     "name": "stderr",
     "output_type": "stream",
     "text": [
      "Speed: 2.0ms preprocess, 48.0ms inference, 2.0ms postprocess per image at shape (1, 3, 384, 640)\n",
      "\n",
      "0: 384x640 2 K-001901s, 1 K-006697, 1 K-016548, 51.4ms\n",
      "Speed: 2.9ms preprocess, 51.4ms inference, 2.0ms postprocess per image at shape (1, 3, 384, 640)\n",
      "\n",
      "0: 384x640 2 K-001901s, 1 K-004378, 1 K-006697, 1 K-016548, 51.5ms\n",
      "Speed: 2.0ms preprocess, 51.5ms inference, 2.0ms postprocess per image at shape (1, 3, 384, 640)\n",
      "\n"
     ]
    },
    {
     "name": "stdout",
     "output_type": "stream",
     "text": [
      "Time to process 1 frame: 69 milliseconds\n",
      "Time to process 1 frame: 71 milliseconds\n",
      "Time to process 1 frame: 71 milliseconds\n"
     ]
    },
    {
     "name": "stderr",
     "output_type": "stream",
     "text": [
      "0: 384x640 2 K-001901s, 1 K-004378, 1 K-016548, 51.0ms\n",
      "Speed: 2.0ms preprocess, 51.0ms inference, 3.0ms postprocess per image at shape (1, 3, 384, 640)\n",
      "\n",
      "0: 384x640 2 K-001901s, 1 K-004378, 1 K-016548, 1 K-044834, 49.0ms\n",
      "Speed: 2.0ms preprocess, 49.0ms inference, 2.0ms postprocess per image at shape (1, 3, 384, 640)\n",
      "\n",
      "0: 384x640 2 K-001901s, 1 K-004378, 1 K-016548, 1 K-044834, 48.5ms\n",
      "Speed: 2.0ms preprocess, 48.5ms inference, 2.0ms postprocess per image at shape (1, 3, 384, 640)\n",
      "\n"
     ]
    },
    {
     "name": "stdout",
     "output_type": "stream",
     "text": [
      "Time to process 1 frame: 72 milliseconds\n",
      "Time to process 1 frame: 68 milliseconds\n",
      "Time to process 1 frame: 70 milliseconds\n"
     ]
    },
    {
     "name": "stderr",
     "output_type": "stream",
     "text": [
      "0: 384x640 2 K-001901s, 1 K-004378, 1 K-016548, 49.4ms\n",
      "Speed: 3.0ms preprocess, 49.4ms inference, 3.0ms postprocess per image at shape (1, 3, 384, 640)\n",
      "\n",
      "0: 384x640 2 K-001901s, 1 K-004378, 1 K-016548, 50.0ms\n",
      "Speed: 3.0ms preprocess, 50.0ms inference, 2.0ms postprocess per image at shape (1, 3, 384, 640)\n",
      "\n",
      "0: 384x640 2 K-001901s, 1 K-004378, 1 K-016548, 1 K-044834, 49.5ms\n",
      "Speed: 2.4ms preprocess, 49.5ms inference, 2.0ms postprocess per image at shape (1, 3, 384, 640)\n",
      "\n"
     ]
    },
    {
     "name": "stdout",
     "output_type": "stream",
     "text": [
      "Time to process 1 frame: 70 milliseconds\n",
      "Time to process 1 frame: 72 milliseconds\n",
      "Time to process 1 frame: 68 milliseconds\n"
     ]
    },
    {
     "name": "stderr",
     "output_type": "stream",
     "text": [
      "0: 384x640 2 K-001901s, 1 K-006697, 1 K-016548, 1 K-044834, 47.5ms\n",
      "Speed: 2.0ms preprocess, 47.5ms inference, 3.0ms postprocess per image at shape (1, 3, 384, 640)\n",
      "\n",
      "0: 384x640 2 K-001901s, 1 K-004378, 1 K-016548, 48.5ms\n",
      "Speed: 2.0ms preprocess, 48.5ms inference, 2.0ms postprocess per image at shape (1, 3, 384, 640)\n",
      "\n",
      "0: 384x640 2 K-001901s, 1 K-004378, 1 K-006697, 1 K-016548, 49.0ms\n",
      "Speed: 3.0ms preprocess, 49.0ms inference, 2.0ms postprocess per image at shape (1, 3, 384, 640)\n",
      "\n"
     ]
    },
    {
     "name": "stdout",
     "output_type": "stream",
     "text": [
      "Time to process 1 frame: 69 milliseconds\n",
      "Time to process 1 frame: 70 milliseconds\n",
      "Time to process 1 frame: 70 milliseconds\n"
     ]
    },
    {
     "name": "stderr",
     "output_type": "stream",
     "text": [
      "0: 384x640 2 K-001901s, 1 K-004378, 1 K-016548, 1 K-044834, 50.0ms\n",
      "Speed: 2.5ms preprocess, 50.0ms inference, 2.0ms postprocess per image at shape (1, 3, 384, 640)\n",
      "\n",
      "0: 384x640 2 K-001901s, 1 K-004378, 1 K-016548, 48.5ms\n",
      "Speed: 2.0ms preprocess, 48.5ms inference, 2.0ms postprocess per image at shape (1, 3, 384, 640)\n",
      "\n",
      "0: 384x640 2 K-001901s, 1 K-006697, 1 K-016548, 48.5ms\n",
      "Speed: 3.0ms preprocess, 48.5ms inference, 2.0ms postprocess per image at shape (1, 3, 384, 640)\n",
      "\n"
     ]
    },
    {
     "name": "stdout",
     "output_type": "stream",
     "text": [
      "Time to process 1 frame: 71 milliseconds\n",
      "Time to process 1 frame: 72 milliseconds\n",
      "Time to process 1 frame: 70 milliseconds\n"
     ]
    },
    {
     "name": "stderr",
     "output_type": "stream",
     "text": [
      "0: 384x640 2 K-001901s, 1 K-004378, 1 K-016548, 1 K-044834, 48.6ms\n",
      "Speed: 2.1ms preprocess, 48.6ms inference, 2.0ms postprocess per image at shape (1, 3, 384, 640)\n",
      "\n",
      "0: 384x640 2 K-001901s, 1 K-004378, 1 K-016548, 49.5ms\n",
      "Speed: 2.0ms preprocess, 49.5ms inference, 3.0ms postprocess per image at shape (1, 3, 384, 640)\n",
      "\n",
      "0: 384x640 2 K-001901s, 1 K-004378, 1 K-006697, 1 K-016548, 49.5ms\n",
      "Speed: 3.0ms preprocess, 49.5ms inference, 2.0ms postprocess per image at shape (1, 3, 384, 640)\n",
      "\n",
      "0: 384x640 2 K-001901s, 1 K-004378, 1 K-016548, 48.0ms\n"
     ]
    },
    {
     "name": "stdout",
     "output_type": "stream",
     "text": [
      "Time to process 1 frame: 67 milliseconds\n",
      "Time to process 1 frame: 70 milliseconds\n",
      "Time to process 1 frame: 71 milliseconds\n"
     ]
    },
    {
     "name": "stderr",
     "output_type": "stream",
     "text": [
      "Speed: 1.0ms preprocess, 48.0ms inference, 2.0ms postprocess per image at shape (1, 3, 384, 640)\n",
      "\n",
      "0: 384x640 2 K-001901s, 1 K-004378, 1 K-006697, 1 K-016548, 48.6ms\n",
      "Speed: 2.0ms preprocess, 48.6ms inference, 2.0ms postprocess per image at shape (1, 3, 384, 640)\n",
      "\n",
      "0: 384x640 2 K-001901s, 1 K-006697, 1 K-016548, 48.0ms\n",
      "Speed: 2.0ms preprocess, 48.0ms inference, 2.0ms postprocess per image at shape (1, 3, 384, 640)\n",
      "\n",
      "0: 384x640 2 K-001901s, 1 K-006697, 1 K-016548, 1 K-044834, 49.5ms\n"
     ]
    },
    {
     "name": "stdout",
     "output_type": "stream",
     "text": [
      "Time to process 1 frame: 68 milliseconds\n",
      "Time to process 1 frame: 70 milliseconds\n",
      "Time to process 1 frame: 69 milliseconds\n"
     ]
    },
    {
     "name": "stderr",
     "output_type": "stream",
     "text": [
      "Speed: 2.0ms preprocess, 49.5ms inference, 2.0ms postprocess per image at shape (1, 3, 384, 640)\n",
      "\n",
      "0: 384x640 2 K-001901s, 1 K-006697, 1 K-016548, 51.0ms\n",
      "Speed: 2.0ms preprocess, 51.0ms inference, 3.0ms postprocess per image at shape (1, 3, 384, 640)\n",
      "\n",
      "0: 384x640 2 K-001901s, 1 K-004378, 1 K-006697, 1 K-016548, 48.0ms\n",
      "Speed: 2.0ms preprocess, 48.0ms inference, 3.0ms postprocess per image at shape (1, 3, 384, 640)\n",
      "\n",
      "0: 384x640 2 K-001901s, 1 K-006697, 1 K-016548, 49.5ms\n"
     ]
    },
    {
     "name": "stdout",
     "output_type": "stream",
     "text": [
      "Time to process 1 frame: 70 milliseconds\n",
      "Time to process 1 frame: 69 milliseconds\n",
      "Time to process 1 frame: 69 milliseconds\n"
     ]
    },
    {
     "name": "stderr",
     "output_type": "stream",
     "text": [
      "Speed: 2.0ms preprocess, 49.5ms inference, 2.0ms postprocess per image at shape (1, 3, 384, 640)\n",
      "\n",
      "0: 384x640 2 K-001901s, 1 K-004378, 1 K-016548, 48.5ms\n",
      "Speed: 3.0ms preprocess, 48.5ms inference, 2.0ms postprocess per image at shape (1, 3, 384, 640)\n",
      "\n",
      "0: 384x640 2 K-001901s, 1 K-004378, 1 K-016548, 50.0ms\n",
      "Speed: 2.0ms preprocess, 50.0ms inference, 3.0ms postprocess per image at shape (1, 3, 384, 640)\n",
      "\n"
     ]
    },
    {
     "name": "stdout",
     "output_type": "stream",
     "text": [
      "Time to process 1 frame: 70 milliseconds\n",
      "Time to process 1 frame: 72 milliseconds\n",
      "Time to process 1 frame: 70 milliseconds\n"
     ]
    },
    {
     "name": "stderr",
     "output_type": "stream",
     "text": [
      "0: 384x640 2 K-001901s, 1 K-004378, 1 K-016548, 50.8ms\n",
      "Speed: 2.0ms preprocess, 50.8ms inference, 2.6ms postprocess per image at shape (1, 3, 384, 640)\n",
      "\n",
      "0: 384x640 2 K-001901s, 1 K-004378, 1 K-007024, 1 K-016548, 48.6ms\n",
      "Speed: 2.0ms preprocess, 48.6ms inference, 2.6ms postprocess per image at shape (1, 3, 384, 640)\n",
      "\n",
      "0: 384x640 2 K-001901s, 1 K-004378, 1 K-016548, 48.2ms\n",
      "Speed: 2.0ms preprocess, 48.2ms inference, 2.0ms postprocess per image at shape (1, 3, 384, 640)\n",
      "\n"
     ]
    },
    {
     "name": "stdout",
     "output_type": "stream",
     "text": [
      "Time to process 1 frame: 69 milliseconds\n",
      "Time to process 1 frame: 69 milliseconds\n",
      "Time to process 1 frame: 68 milliseconds\n"
     ]
    },
    {
     "name": "stderr",
     "output_type": "stream",
     "text": [
      "0: 384x640 2 K-001901s, 1 K-006697, 1 K-016548, 48.0ms\n",
      "Speed: 2.0ms preprocess, 48.0ms inference, 3.0ms postprocess per image at shape (1, 3, 384, 640)\n",
      "\n",
      "0: 384x640 2 K-001901s, 1 K-006697, 1 K-016548, 1 K-044834, 51.5ms\n",
      "Speed: 2.0ms preprocess, 51.5ms inference, 2.0ms postprocess per image at shape (1, 3, 384, 640)\n",
      "\n",
      "0: 384x640 2 K-001901s, 1 K-006697, 1 K-016548, 1 K-044834, 48.5ms\n",
      "Speed: 3.0ms preprocess, 48.5ms inference, 3.0ms postprocess per image at shape (1, 3, 384, 640)\n",
      "\n"
     ]
    },
    {
     "name": "stdout",
     "output_type": "stream",
     "text": [
      "Time to process 1 frame: 71 milliseconds\n",
      "Time to process 1 frame: 72 milliseconds\n",
      "Time to process 1 frame: 70 milliseconds\n"
     ]
    },
    {
     "name": "stderr",
     "output_type": "stream",
     "text": [
      "0: 384x640 2 K-001901s, 1 K-006697, 1 K-016548, 48.0ms\n",
      "Speed: 2.0ms preprocess, 48.0ms inference, 3.0ms postprocess per image at shape (1, 3, 384, 640)\n",
      "\n",
      "0: 384x640 2 K-001901s, 1 K-004378, 1 K-016548, 50.0ms\n",
      "Speed: 2.0ms preprocess, 50.0ms inference, 3.0ms postprocess per image at shape (1, 3, 384, 640)\n",
      "\n",
      "0: 384x640 2 K-001901s, 1 K-004378, 1 K-016548, 47.9ms\n",
      "Speed: 2.0ms preprocess, 47.9ms inference, 5.0ms postprocess per image at shape (1, 3, 384, 640)\n",
      "\n"
     ]
    },
    {
     "name": "stdout",
     "output_type": "stream",
     "text": [
      "Time to process 1 frame: 70 milliseconds\n",
      "Time to process 1 frame: 71 milliseconds\n",
      "Time to process 1 frame: 72 milliseconds\n"
     ]
    },
    {
     "name": "stderr",
     "output_type": "stream",
     "text": [
      "0: 384x640 2 K-001901s, 1 K-006697, 2 K-031490s, 50.5ms\n",
      "Speed: 2.0ms preprocess, 50.5ms inference, 2.0ms postprocess per image at shape (1, 3, 384, 640)\n",
      "\n",
      "0: 384x640 1 K-006697, 49.0ms\n",
      "Speed: 2.0ms preprocess, 49.0ms inference, 2.0ms postprocess per image at shape (1, 3, 384, 640)\n",
      "\n",
      "0: 384x640 1 K-006697, 48.0ms\n",
      "Speed: 2.0ms preprocess, 48.0ms inference, 2.0ms postprocess per image at shape (1, 3, 384, 640)\n",
      "\n",
      "0: 384x640 1 K-024029, 49.5ms\n"
     ]
    },
    {
     "name": "stdout",
     "output_type": "stream",
     "text": [
      "Time to process 1 frame: 71 milliseconds\n",
      "Time to process 1 frame: 68 milliseconds\n",
      "Time to process 1 frame: 67 milliseconds\n"
     ]
    },
    {
     "name": "stderr",
     "output_type": "stream",
     "text": [
      "Speed: 2.0ms preprocess, 49.5ms inference, 2.0ms postprocess per image at shape (1, 3, 384, 640)\n",
      "\n",
      "0: 384x640 (no detections), 48.5ms\n",
      "Speed: 2.0ms preprocess, 48.5ms inference, 1.0ms postprocess per image at shape (1, 3, 384, 640)\n",
      "\n",
      "0: 384x640 1 K-001562, 50.0ms\n",
      "Speed: 2.0ms preprocess, 50.0ms inference, 3.0ms postprocess per image at shape (1, 3, 384, 640)\n",
      "\n"
     ]
    },
    {
     "name": "stdout",
     "output_type": "stream",
     "text": [
      "Time to process 1 frame: 69 milliseconds\n",
      "Time to process 1 frame: 67 milliseconds\n",
      "Time to process 1 frame: 71 milliseconds\n"
     ]
    },
    {
     "name": "stderr",
     "output_type": "stream",
     "text": [
      "0: 384x640 1 K-001562, 50.2ms\n",
      "Speed: 2.0ms preprocess, 50.2ms inference, 3.0ms postprocess per image at shape (1, 3, 384, 640)\n",
      "\n",
      "0: 384x640 2 K-001562s, 1 K-024029, 47.5ms\n",
      "Speed: 3.0ms preprocess, 47.5ms inference, 3.0ms postprocess per image at shape (1, 3, 384, 640)\n",
      "\n",
      "0: 384x640 2 K-001562s, 48.0ms\n",
      "Speed: 2.0ms preprocess, 48.0ms inference, 2.0ms postprocess per image at shape (1, 3, 384, 640)\n",
      "\n"
     ]
    },
    {
     "name": "stdout",
     "output_type": "stream",
     "text": [
      "Time to process 1 frame: 71 milliseconds\n",
      "Time to process 1 frame: 70 milliseconds\n",
      "Time to process 1 frame: 67 milliseconds\n"
     ]
    },
    {
     "name": "stderr",
     "output_type": "stream",
     "text": [
      "0: 384x640 1 K-001562, 1 K-024029, 49.0ms\n",
      "Speed: 3.0ms preprocess, 49.0ms inference, 2.0ms postprocess per image at shape (1, 3, 384, 640)\n",
      "\n",
      "0: 384x640 (no detections), 51.1ms\n",
      "Speed: 2.0ms preprocess, 51.1ms inference, 1.0ms postprocess per image at shape (1, 3, 384, 640)\n",
      "\n",
      "0: 384x640 1 K-024029, 50.5ms\n",
      "Speed: 2.0ms preprocess, 50.5ms inference, 2.0ms postprocess per image at shape (1, 3, 384, 640)\n",
      "\n"
     ]
    },
    {
     "name": "stdout",
     "output_type": "stream",
     "text": [
      "Time to process 1 frame: 72 milliseconds\n",
      "Time to process 1 frame: 69 milliseconds\n",
      "Time to process 1 frame: 71 milliseconds\n"
     ]
    },
    {
     "name": "stderr",
     "output_type": "stream",
     "text": [
      "0: 384x640 (no detections), 49.0ms\n",
      "Speed: 2.0ms preprocess, 49.0ms inference, 1.0ms postprocess per image at shape (1, 3, 384, 640)\n",
      "\n",
      "0: 384x640 1 K-038104, 48.7ms\n",
      "Speed: 1.0ms preprocess, 48.7ms inference, 3.0ms postprocess per image at shape (1, 3, 384, 640)\n",
      "\n",
      "0: 384x640 (no detections), 48.5ms\n",
      "Speed: 2.0ms preprocess, 48.5ms inference, 1.0ms postprocess per image at shape (1, 3, 384, 640)\n",
      "\n"
     ]
    },
    {
     "name": "stdout",
     "output_type": "stream",
     "text": [
      "Time to process 1 frame: 68 milliseconds\n",
      "Time to process 1 frame: 70 milliseconds\n",
      "Time to process 1 frame: 67 milliseconds\n"
     ]
    },
    {
     "name": "stderr",
     "output_type": "stream",
     "text": [
      "0: 384x640 (no detections), 56.5ms\n",
      "Speed: 2.0ms preprocess, 56.5ms inference, 2.0ms postprocess per image at shape (1, 3, 384, 640)\n",
      "\n",
      "0: 384x640 (no detections), 54.0ms\n",
      "Speed: 2.0ms preprocess, 54.0ms inference, 2.0ms postprocess per image at shape (1, 3, 384, 640)\n",
      "\n",
      "0: 384x640 (no detections), 49.0ms\n",
      "Speed: 3.0ms preprocess, 49.0ms inference, 1.0ms postprocess per image at shape (1, 3, 384, 640)\n",
      "\n"
     ]
    },
    {
     "name": "stdout",
     "output_type": "stream",
     "text": [
      "Time to process 1 frame: 74 milliseconds\n",
      "Time to process 1 frame: 72 milliseconds\n",
      "Time to process 1 frame: 66 milliseconds\n"
     ]
    },
    {
     "name": "stderr",
     "output_type": "stream",
     "text": [
      "0: 384x640 1 K-006697, 1 K-031490, 53.5ms\n",
      "Speed: 2.0ms preprocess, 53.5ms inference, 3.0ms postprocess per image at shape (1, 3, 384, 640)\n",
      "\n",
      "0: 384x640 1 K-001901, 1 K-006697, 4 K-031490s, 53.5ms\n",
      "Speed: 2.0ms preprocess, 53.5ms inference, 4.0ms postprocess per image at shape (1, 3, 384, 640)\n",
      "\n",
      "0: 384x640 1 K-001901, 1 K-006697, 4 K-031490s, 54.5ms\n",
      "Speed: 2.2ms preprocess, 54.5ms inference, 2.0ms postprocess per image at shape (1, 3, 384, 640)\n",
      "\n"
     ]
    },
    {
     "name": "stdout",
     "output_type": "stream",
     "text": [
      "Time to process 1 frame: 77 milliseconds\n",
      "Time to process 1 frame: 78 milliseconds\n",
      "Time to process 1 frame: 79 milliseconds\n"
     ]
    },
    {
     "name": "stderr",
     "output_type": "stream",
     "text": [
      "0: 384x640 1 K-001901, 3 K-006697s, 4 K-031490s, 52.0ms\n",
      "Speed: 2.0ms preprocess, 52.0ms inference, 3.0ms postprocess per image at shape (1, 3, 384, 640)\n",
      "\n",
      "0: 384x640 1 K-001901, 1 K-006697, 3 K-031490s, 48.0ms\n",
      "Speed: 2.0ms preprocess, 48.0ms inference, 3.0ms postprocess per image at shape (1, 3, 384, 640)\n",
      "\n",
      "0: 384x640 1 K-001901, 2 K-006697s, 3 K-031490s, 57.5ms\n",
      "Speed: 2.0ms preprocess, 57.5ms inference, 2.0ms postprocess per image at shape (1, 3, 384, 640)\n",
      "\n"
     ]
    },
    {
     "name": "stdout",
     "output_type": "stream",
     "text": [
      "Time to process 1 frame: 73 milliseconds\n",
      "Time to process 1 frame: 69 milliseconds\n",
      "Time to process 1 frame: 80 milliseconds\n"
     ]
    },
    {
     "name": "stderr",
     "output_type": "stream",
     "text": [
      "0: 384x640 1 K-001901, 1 K-006697, 4 K-031490s, 54.5ms\n",
      "Speed: 3.0ms preprocess, 54.5ms inference, 2.0ms postprocess per image at shape (1, 3, 384, 640)\n",
      "\n",
      "0: 384x640 1 K-001901, 1 K-006697, 4 K-031490s, 52.5ms\n",
      "Speed: 2.0ms preprocess, 52.5ms inference, 2.0ms postprocess per image at shape (1, 3, 384, 640)\n",
      "\n",
      "0: 384x640 1 K-001901, 1 K-006697, 4 K-031490s, 53.0ms\n",
      "Speed: 2.0ms preprocess, 53.0ms inference, 2.0ms postprocess per image at shape (1, 3, 384, 640)\n",
      "\n"
     ]
    },
    {
     "name": "stdout",
     "output_type": "stream",
     "text": [
      "Time to process 1 frame: 77 milliseconds\n",
      "Time to process 1 frame: 75 milliseconds\n",
      "Time to process 1 frame: 74 milliseconds\n"
     ]
    },
    {
     "name": "stderr",
     "output_type": "stream",
     "text": [
      "0: 384x640 1 K-001901, 2 K-006697s, 4 K-031490s, 51.0ms\n",
      "Speed: 2.0ms preprocess, 51.0ms inference, 2.0ms postprocess per image at shape (1, 3, 384, 640)\n",
      "\n",
      "0: 384x640 1 K-001901, 2 K-006697s, 4 K-031490s, 55.5ms\n",
      "Speed: 2.0ms preprocess, 55.5ms inference, 2.0ms postprocess per image at shape (1, 3, 384, 640)\n",
      "\n",
      "0: 384x640 2 K-006697s, 4 K-031490s, 61.0ms\n",
      "Speed: 2.0ms preprocess, 61.0ms inference, 2.0ms postprocess per image at shape (1, 3, 384, 640)\n",
      "\n"
     ]
    },
    {
     "name": "stdout",
     "output_type": "stream",
     "text": [
      "Time to process 1 frame: 74 milliseconds\n",
      "Time to process 1 frame: 76 milliseconds\n",
      "Time to process 1 frame: 81 milliseconds\n"
     ]
    },
    {
     "name": "stderr",
     "output_type": "stream",
     "text": [
      "0: 384x640 3 K-006697s, 4 K-031490s, 61.1ms\n",
      "Speed: 2.0ms preprocess, 61.1ms inference, 4.0ms postprocess per image at shape (1, 3, 384, 640)\n",
      "\n",
      "0: 384x640 2 K-006697s, 4 K-031490s, 60.0ms\n",
      "Speed: 2.0ms preprocess, 60.0ms inference, 3.0ms postprocess per image at shape (1, 3, 384, 640)\n",
      "\n",
      "0: 384x640 2 K-006697s, 4 K-031490s, 50.3ms\n",
      "Speed: 2.0ms preprocess, 50.3ms inference, 3.0ms postprocess per image at shape (1, 3, 384, 640)\n",
      "\n"
     ]
    },
    {
     "name": "stdout",
     "output_type": "stream",
     "text": [
      "Time to process 1 frame: 84 milliseconds\n",
      "Time to process 1 frame: 79 milliseconds\n",
      "Time to process 1 frame: 75 milliseconds\n"
     ]
    },
    {
     "name": "stderr",
     "output_type": "stream",
     "text": [
      "0: 384x640 2 K-006697s, 4 K-031490s, 63.5ms\n",
      "Speed: 1.0ms preprocess, 63.5ms inference, 3.0ms postprocess per image at shape (1, 3, 384, 640)\n",
      "\n",
      "0: 384x640 2 K-006697s, 3 K-031490s, 57.5ms\n",
      "Speed: 2.0ms preprocess, 57.5ms inference, 3.0ms postprocess per image at shape (1, 3, 384, 640)\n",
      "\n",
      "0: 384x640 2 K-006697s, 3 K-031490s, 60.5ms\n",
      "Speed: 3.0ms preprocess, 60.5ms inference, 3.0ms postprocess per image at shape (1, 3, 384, 640)\n",
      "\n"
     ]
    },
    {
     "name": "stdout",
     "output_type": "stream",
     "text": [
      "Time to process 1 frame: 85 milliseconds\n",
      "Time to process 1 frame: 83 milliseconds\n",
      "Time to process 1 frame: 85 milliseconds\n"
     ]
    },
    {
     "name": "stderr",
     "output_type": "stream",
     "text": [
      "0: 384x640 2 K-006697s, 3 K-031490s, 59.1ms\n",
      "Speed: 2.0ms preprocess, 59.1ms inference, 2.0ms postprocess per image at shape (1, 3, 384, 640)\n",
      "\n",
      "0: 384x640 2 K-006697s, 3 K-031490s, 49.0ms\n",
      "Speed: 2.0ms preprocess, 49.0ms inference, 2.3ms postprocess per image at shape (1, 3, 384, 640)\n",
      "\n",
      "0: 384x640 2 K-006697s, 3 K-031490s, 60.3ms\n",
      "Speed: 2.1ms preprocess, 60.3ms inference, 3.0ms postprocess per image at shape (1, 3, 384, 640)\n",
      "\n"
     ]
    },
    {
     "name": "stdout",
     "output_type": "stream",
     "text": [
      "Time to process 1 frame: 80 milliseconds\n",
      "Time to process 1 frame: 71 milliseconds\n",
      "Time to process 1 frame: 81 milliseconds\n"
     ]
    },
    {
     "name": "stderr",
     "output_type": "stream",
     "text": [
      "0: 384x640 2 K-006697s, 3 K-031490s, 53.0ms\n",
      "Speed: 2.0ms preprocess, 53.0ms inference, 2.0ms postprocess per image at shape (1, 3, 384, 640)\n",
      "\n",
      "0: 384x640 2 K-006697s, 4 K-031490s, 51.5ms\n",
      "Speed: 2.0ms preprocess, 51.5ms inference, 2.0ms postprocess per image at shape (1, 3, 384, 640)\n",
      "\n",
      "0: 384x640 4 K-006697s, 4 K-031490s, 51.5ms\n",
      "Speed: 2.0ms preprocess, 51.5ms inference, 2.0ms postprocess per image at shape (1, 3, 384, 640)\n",
      "\n"
     ]
    },
    {
     "name": "stdout",
     "output_type": "stream",
     "text": [
      "Time to process 1 frame: 74 milliseconds\n",
      "Time to process 1 frame: 73 milliseconds\n",
      "Time to process 1 frame: 72 milliseconds\n"
     ]
    },
    {
     "name": "stderr",
     "output_type": "stream",
     "text": [
      "0: 384x640 4 K-006697s, 4 K-031490s, 55.0ms\n",
      "Speed: 2.0ms preprocess, 55.0ms inference, 3.0ms postprocess per image at shape (1, 3, 384, 640)\n",
      "\n",
      "0: 384x640 4 K-006697s, 4 K-031490s, 49.0ms\n",
      "Speed: 3.0ms preprocess, 49.0ms inference, 2.0ms postprocess per image at shape (1, 3, 384, 640)\n",
      "\n",
      "0: 384x640 2 K-006697s, 3 K-031490s, 53.0ms\n",
      "Speed: 2.0ms preprocess, 53.0ms inference, 3.0ms postprocess per image at shape (1, 3, 384, 640)\n",
      "\n"
     ]
    },
    {
     "name": "stdout",
     "output_type": "stream",
     "text": [
      "Time to process 1 frame: 77 milliseconds\n",
      "Time to process 1 frame: 72 milliseconds\n",
      "Time to process 1 frame: 73 milliseconds\n"
     ]
    },
    {
     "name": "stderr",
     "output_type": "stream",
     "text": [
      "0: 384x640 2 K-006697s, 4 K-031490s, 50.8ms\n",
      "Speed: 2.1ms preprocess, 50.8ms inference, 3.0ms postprocess per image at shape (1, 3, 384, 640)\n",
      "\n",
      "0: 384x640 1 K-006697, 2 K-031490s, 49.0ms\n",
      "Speed: 2.0ms preprocess, 49.0ms inference, 2.0ms postprocess per image at shape (1, 3, 384, 640)\n",
      "\n",
      "0: 384x640 (no detections), 48.0ms\n",
      "Speed: 2.0ms preprocess, 48.0ms inference, 2.0ms postprocess per image at shape (1, 3, 384, 640)\n",
      "\n"
     ]
    },
    {
     "name": "stdout",
     "output_type": "stream",
     "text": [
      "Time to process 1 frame: 70 milliseconds\n",
      "Time to process 1 frame: 69 milliseconds\n",
      "Time to process 1 frame: 67 milliseconds\n"
     ]
    },
    {
     "name": "stderr",
     "output_type": "stream",
     "text": [
      "0: 384x640 (no detections), 48.5ms\n",
      "Speed: 2.0ms preprocess, 48.5ms inference, 1.0ms postprocess per image at shape (1, 3, 384, 640)\n",
      "\n",
      "0: 384x640 (no detections), 48.5ms\n",
      "Speed: 2.0ms preprocess, 48.5ms inference, 2.0ms postprocess per image at shape (1, 3, 384, 640)\n",
      "\n",
      "0: 384x640 (no detections), 50.0ms\n",
      "Speed: 2.0ms preprocess, 50.0ms inference, 1.0ms postprocess per image at shape (1, 3, 384, 640)\n",
      "\n"
     ]
    },
    {
     "name": "stdout",
     "output_type": "stream",
     "text": [
      "Time to process 1 frame: 67 milliseconds\n",
      "Time to process 1 frame: 69 milliseconds\n",
      "Time to process 1 frame: 69 milliseconds\n"
     ]
    },
    {
     "name": "stderr",
     "output_type": "stream",
     "text": [
      "0: 384x640 3 K-031490s, 50.0ms\n",
      "Speed: 2.0ms preprocess, 50.0ms inference, 3.0ms postprocess per image at shape (1, 3, 384, 640)\n",
      "\n",
      "0: 384x640 (no detections), 48.8ms\n",
      "Speed: 2.1ms preprocess, 48.8ms inference, 1.0ms postprocess per image at shape (1, 3, 384, 640)\n",
      "\n",
      "0: 384x640 (no detections), 48.0ms\n",
      "Speed: 2.0ms preprocess, 48.0ms inference, 1.5ms postprocess per image at shape (1, 3, 384, 640)\n",
      "\n"
     ]
    },
    {
     "name": "stdout",
     "output_type": "stream",
     "text": [
      "Time to process 1 frame: 70 milliseconds\n",
      "Time to process 1 frame: 66 milliseconds\n",
      "Time to process 1 frame: 67 milliseconds\n"
     ]
    },
    {
     "name": "stderr",
     "output_type": "stream",
     "text": [
      "0: 384x640 1 K-024029, 48.0ms\n",
      "Speed: 3.0ms preprocess, 48.0ms inference, 2.0ms postprocess per image at shape (1, 3, 384, 640)\n",
      "\n",
      "0: 384x640 (no detections), 48.5ms\n",
      "Speed: 2.0ms preprocess, 48.5ms inference, 1.0ms postprocess per image at shape (1, 3, 384, 640)\n",
      "\n",
      "0: 384x640 (no detections), 48.5ms\n",
      "Speed: 2.0ms preprocess, 48.5ms inference, 2.0ms postprocess per image at shape (1, 3, 384, 640)\n",
      "\n"
     ]
    },
    {
     "name": "stdout",
     "output_type": "stream",
     "text": [
      "Time to process 1 frame: 70 milliseconds\n",
      "Time to process 1 frame: 67 milliseconds\n",
      "Time to process 1 frame: 67 milliseconds\n"
     ]
    },
    {
     "name": "stderr",
     "output_type": "stream",
     "text": [
      "0: 384x640 (no detections), 51.0ms\n",
      "Speed: 2.0ms preprocess, 51.0ms inference, 1.0ms postprocess per image at shape (1, 3, 384, 640)\n",
      "\n",
      "0: 384x640 (no detections), 48.0ms\n",
      "Speed: 2.0ms preprocess, 48.0ms inference, 2.0ms postprocess per image at shape (1, 3, 384, 640)\n",
      "\n",
      "0: 384x640 (no detections), 48.9ms\n",
      "Speed: 2.2ms preprocess, 48.9ms inference, 2.0ms postprocess per image at shape (1, 3, 384, 640)\n",
      "\n",
      "0: 384x640 (no detections), 50.0ms\n"
     ]
    },
    {
     "name": "stdout",
     "output_type": "stream",
     "text": [
      "Time to process 1 frame: 69 milliseconds\n",
      "Time to process 1 frame: 69 milliseconds\n",
      "Time to process 1 frame: 68 milliseconds\n"
     ]
    },
    {
     "name": "stderr",
     "output_type": "stream",
     "text": [
      "Speed: 3.0ms preprocess, 50.0ms inference, 1.5ms postprocess per image at shape (1, 3, 384, 640)\n",
      "\n",
      "0: 384x640 (no detections), 49.0ms\n",
      "Speed: 2.0ms preprocess, 49.0ms inference, 1.0ms postprocess per image at shape (1, 3, 384, 640)\n",
      "\n",
      "0: 384x640 (no detections), 48.5ms\n",
      "Speed: 2.0ms preprocess, 48.5ms inference, 1.0ms postprocess per image at shape (1, 3, 384, 640)\n",
      "\n"
     ]
    },
    {
     "name": "stdout",
     "output_type": "stream",
     "text": [
      "Time to process 1 frame: 69 milliseconds\n",
      "Time to process 1 frame: 67 milliseconds\n",
      "Time to process 1 frame: 68 milliseconds\n"
     ]
    },
    {
     "name": "stderr",
     "output_type": "stream",
     "text": [
      "0: 384x640 (no detections), 50.4ms\n",
      "Speed: 2.0ms preprocess, 50.4ms inference, 2.0ms postprocess per image at shape (1, 3, 384, 640)\n",
      "\n",
      "0: 384x640 1 K-001901, 49.0ms\n",
      "Speed: 2.0ms preprocess, 49.0ms inference, 2.0ms postprocess per image at shape (1, 3, 384, 640)\n",
      "\n",
      "0: 384x640 1 K-001901, 1 K-006697, 50.0ms\n",
      "Speed: 2.0ms preprocess, 50.0ms inference, 2.0ms postprocess per image at shape (1, 3, 384, 640)\n",
      "\n"
     ]
    },
    {
     "name": "stdout",
     "output_type": "stream",
     "text": [
      "Time to process 1 frame: 67 milliseconds\n",
      "Time to process 1 frame: 70 milliseconds\n",
      "Time to process 1 frame: 71 milliseconds\n"
     ]
    },
    {
     "name": "stderr",
     "output_type": "stream",
     "text": [
      "0: 384x640 1 K-001901, 1 K-006697, 49.2ms\n",
      "Speed: 1.9ms preprocess, 49.2ms inference, 2.0ms postprocess per image at shape (1, 3, 384, 640)\n",
      "\n",
      "0: 384x640 1 K-001901, 1 K-006697, 1 K-031490, 48.2ms\n",
      "Speed: 2.0ms preprocess, 48.2ms inference, 3.0ms postprocess per image at shape (1, 3, 384, 640)\n",
      "\n",
      "0: 384x640 1 K-001901, 1 K-006697, 2 K-031490s, 50.0ms\n",
      "Speed: 2.0ms preprocess, 50.0ms inference, 2.0ms postprocess per image at shape (1, 3, 384, 640)\n",
      "\n"
     ]
    },
    {
     "name": "stdout",
     "output_type": "stream",
     "text": [
      "Time to process 1 frame: 69 milliseconds\n",
      "Time to process 1 frame: 72 milliseconds\n",
      "Time to process 1 frame: 71 milliseconds\n"
     ]
    },
    {
     "name": "stderr",
     "output_type": "stream",
     "text": [
      "0: 384x640 2 K-001901s, 1 K-006697, 4 K-031490s, 48.0ms\n",
      "Speed: 2.0ms preprocess, 48.0ms inference, 3.0ms postprocess per image at shape (1, 3, 384, 640)\n",
      "\n",
      "0: 384x640 2 K-001901s, 1 K-006697, 4 K-031490s, 49.5ms\n",
      "Speed: 2.0ms preprocess, 49.5ms inference, 3.0ms postprocess per image at shape (1, 3, 384, 640)\n",
      "\n",
      "0: 384x640 2 K-001901s, 1 K-006697, 4 K-031490s, 48.5ms\n",
      "Speed: 2.0ms preprocess, 48.5ms inference, 3.0ms postprocess per image at shape (1, 3, 384, 640)\n",
      "\n"
     ]
    },
    {
     "name": "stdout",
     "output_type": "stream",
     "text": [
      "Time to process 1 frame: 70 milliseconds\n",
      "Time to process 1 frame: 71 milliseconds\n",
      "Time to process 1 frame: 71 milliseconds\n"
     ]
    },
    {
     "name": "stderr",
     "output_type": "stream",
     "text": [
      "0: 384x640 2 K-001901s, 1 K-004378, 4 K-031490s, 50.0ms\n",
      "Speed: 1.0ms preprocess, 50.0ms inference, 3.0ms postprocess per image at shape (1, 3, 384, 640)\n",
      "\n",
      "0: 384x640 2 K-001901s, 1 K-006697, 4 K-031490s, 50.0ms\n",
      "Speed: 2.1ms preprocess, 50.0ms inference, 3.0ms postprocess per image at shape (1, 3, 384, 640)\n",
      "\n",
      "0: 384x640 2 K-001901s, 1 K-004378, 1 K-006697, 4 K-031490s, 46.5ms\n",
      "Speed: 2.0ms preprocess, 46.5ms inference, 3.0ms postprocess per image at shape (1, 3, 384, 640)\n",
      "\n"
     ]
    },
    {
     "name": "stdout",
     "output_type": "stream",
     "text": [
      "Time to process 1 frame: 72 milliseconds\n",
      "Time to process 1 frame: 69 milliseconds\n",
      "Time to process 1 frame: 70 milliseconds\n"
     ]
    },
    {
     "name": "stderr",
     "output_type": "stream",
     "text": [
      "0: 384x640 2 K-001901s, 1 K-004378, 4 K-031490s, 49.5ms\n",
      "Speed: 2.0ms preprocess, 49.5ms inference, 2.0ms postprocess per image at shape (1, 3, 384, 640)\n",
      "\n",
      "0: 384x640 2 K-001901s, 1 K-006697, 4 K-031490s, 48.5ms\n",
      "Speed: 1.9ms preprocess, 48.5ms inference, 2.0ms postprocess per image at shape (1, 3, 384, 640)\n",
      "\n",
      "0: 384x640 2 K-001901s, 1 K-006697, 4 K-031490s, 51.0ms\n",
      "Speed: 2.5ms preprocess, 51.0ms inference, 3.0ms postprocess per image at shape (1, 3, 384, 640)\n",
      "\n"
     ]
    },
    {
     "name": "stdout",
     "output_type": "stream",
     "text": [
      "Time to process 1 frame: 72 milliseconds\n",
      "Time to process 1 frame: 72 milliseconds\n",
      "Time to process 1 frame: 72 milliseconds\n"
     ]
    },
    {
     "name": "stderr",
     "output_type": "stream",
     "text": [
      "0: 384x640 2 K-001901s, 1 K-006697, 4 K-031490s, 49.5ms\n",
      "Speed: 2.0ms preprocess, 49.5ms inference, 3.0ms postprocess per image at shape (1, 3, 384, 640)\n",
      "\n",
      "0: 384x640 2 K-001901s, 1 K-006697, 4 K-031490s, 49.0ms\n",
      "Speed: 2.0ms preprocess, 49.0ms inference, 2.1ms postprocess per image at shape (1, 3, 384, 640)\n",
      "\n",
      "0: 384x640 2 K-001901s, 1 K-006697, 4 K-031490s, 48.0ms\n",
      "Speed: 3.0ms preprocess, 48.0ms inference, 3.0ms postprocess per image at shape (1, 3, 384, 640)\n",
      "\n"
     ]
    },
    {
     "name": "stdout",
     "output_type": "stream",
     "text": [
      "Time to process 1 frame: 72 milliseconds\n",
      "Time to process 1 frame: 71 milliseconds\n",
      "Time to process 1 frame: 71 milliseconds\n"
     ]
    },
    {
     "name": "stderr",
     "output_type": "stream",
     "text": [
      "0: 384x640 2 K-001901s, 1 K-006697, 4 K-031490s, 52.0ms\n",
      "Speed: 2.0ms preprocess, 52.0ms inference, 3.0ms postprocess per image at shape (1, 3, 384, 640)\n",
      "\n",
      "0: 384x640 2 K-001901s, 1 K-006697, 4 K-031490s, 50.1ms\n",
      "Speed: 2.0ms preprocess, 50.1ms inference, 3.0ms postprocess per image at shape (1, 3, 384, 640)\n",
      "\n",
      "0: 384x640 2 K-001901s, 1 K-006697, 4 K-031490s, 49.0ms\n",
      "Speed: 2.0ms preprocess, 49.0ms inference, 2.0ms postprocess per image at shape (1, 3, 384, 640)\n",
      "\n"
     ]
    },
    {
     "name": "stdout",
     "output_type": "stream",
     "text": [
      "Time to process 1 frame: 76 milliseconds\n",
      "Time to process 1 frame: 72 milliseconds\n",
      "Time to process 1 frame: 69 milliseconds\n"
     ]
    },
    {
     "name": "stderr",
     "output_type": "stream",
     "text": [
      "0: 384x640 2 K-001901s, 1 K-006697, 4 K-031490s, 48.0ms\n",
      "Speed: 2.0ms preprocess, 48.0ms inference, 4.0ms postprocess per image at shape (1, 3, 384, 640)\n",
      "\n",
      "0: 384x640 2 K-001901s, 1 K-006697, 4 K-031490s, 48.0ms\n",
      "Speed: 3.0ms preprocess, 48.0ms inference, 5.0ms postprocess per image at shape (1, 3, 384, 640)\n",
      "\n",
      "0: 384x640 2 K-001901s, 1 K-006697, 4 K-031490s, 50.6ms\n",
      "Speed: 3.0ms preprocess, 50.6ms inference, 2.0ms postprocess per image at shape (1, 3, 384, 640)\n",
      "\n"
     ]
    },
    {
     "name": "stdout",
     "output_type": "stream",
     "text": [
      "Time to process 1 frame: 71 milliseconds\n",
      "Time to process 1 frame: 75 milliseconds\n",
      "Time to process 1 frame: 73 milliseconds\n"
     ]
    },
    {
     "name": "stderr",
     "output_type": "stream",
     "text": [
      "0: 384x640 2 K-001901s, 1 K-006697, 4 K-031490s, 48.5ms\n",
      "Speed: 2.0ms preprocess, 48.5ms inference, 3.0ms postprocess per image at shape (1, 3, 384, 640)\n",
      "\n",
      "0: 384x640 2 K-001901s, 1 K-006697, 4 K-031490s, 50.7ms\n",
      "Speed: 2.0ms preprocess, 50.7ms inference, 2.0ms postprocess per image at shape (1, 3, 384, 640)\n",
      "\n",
      "0: 384x640 2 K-001901s, 1 K-006697, 4 K-031490s, 50.1ms\n",
      "Speed: 1.5ms preprocess, 50.1ms inference, 2.0ms postprocess per image at shape (1, 3, 384, 640)\n",
      "\n"
     ]
    },
    {
     "name": "stdout",
     "output_type": "stream",
     "text": [
      "Time to process 1 frame: 72 milliseconds\n",
      "Time to process 1 frame: 72 milliseconds\n",
      "Time to process 1 frame: 70 milliseconds\n"
     ]
    },
    {
     "name": "stderr",
     "output_type": "stream",
     "text": [
      "0: 384x640 2 K-001901s, 1 K-006697, 4 K-031490s, 50.6ms\n",
      "Speed: 2.0ms preprocess, 50.6ms inference, 2.0ms postprocess per image at shape (1, 3, 384, 640)\n",
      "\n",
      "0: 384x640 2 K-001901s, 1 K-006697, 4 K-031490s, 48.8ms\n",
      "Speed: 2.5ms preprocess, 48.8ms inference, 2.4ms postprocess per image at shape (1, 3, 384, 640)\n",
      "\n",
      "0: 384x640 2 K-001901s, 1 K-006697, 4 K-031490s, 51.0ms\n",
      "Speed: 2.0ms preprocess, 51.0ms inference, 3.0ms postprocess per image at shape (1, 3, 384, 640)\n",
      "\n"
     ]
    },
    {
     "name": "stdout",
     "output_type": "stream",
     "text": [
      "Time to process 1 frame: 71 milliseconds\n",
      "Time to process 1 frame: 71 milliseconds\n",
      "Time to process 1 frame: 73 milliseconds\n"
     ]
    },
    {
     "name": "stderr",
     "output_type": "stream",
     "text": [
      "0: 384x640 2 K-001901s, 1 K-006697, 4 K-031490s, 50.0ms\n",
      "Speed: 2.1ms preprocess, 50.0ms inference, 2.0ms postprocess per image at shape (1, 3, 384, 640)\n",
      "\n",
      "0: 384x640 2 K-001901s, 1 K-006697, 4 K-031490s, 48.3ms\n",
      "Speed: 2.0ms preprocess, 48.3ms inference, 2.0ms postprocess per image at shape (1, 3, 384, 640)\n",
      "\n",
      "0: 384x640 2 K-001901s, 1 K-006697, 4 K-031490s, 49.8ms\n",
      "Speed: 1.0ms preprocess, 49.8ms inference, 1.5ms postprocess per image at shape (1, 3, 384, 640)\n",
      "\n"
     ]
    },
    {
     "name": "stdout",
     "output_type": "stream",
     "text": [
      "Time to process 1 frame: 72 milliseconds\n",
      "Time to process 1 frame: 69 milliseconds\n",
      "Time to process 1 frame: 69 milliseconds\n"
     ]
    },
    {
     "name": "stderr",
     "output_type": "stream",
     "text": [
      "0: 384x640 2 K-001901s, 1 K-006697, 4 K-031490s, 49.6ms\n",
      "Speed: 2.0ms preprocess, 49.6ms inference, 2.0ms postprocess per image at shape (1, 3, 384, 640)\n",
      "\n",
      "0: 384x640 2 K-001901s, 1 K-006697, 4 K-031490s, 50.4ms\n",
      "Speed: 2.0ms preprocess, 50.4ms inference, 2.0ms postprocess per image at shape (1, 3, 384, 640)\n",
      "\n",
      "0: 384x640 2 K-001901s, 1 K-006697, 4 K-031490s, 50.1ms\n",
      "Speed: 2.0ms preprocess, 50.1ms inference, 3.0ms postprocess per image at shape (1, 3, 384, 640)\n",
      "\n"
     ]
    },
    {
     "name": "stdout",
     "output_type": "stream",
     "text": [
      "Time to process 1 frame: 71 milliseconds\n",
      "Time to process 1 frame: 69 milliseconds\n",
      "Time to process 1 frame: 71 milliseconds\n"
     ]
    },
    {
     "name": "stderr",
     "output_type": "stream",
     "text": [
      "0: 384x640 2 K-001901s, 1 K-006697, 4 K-031490s, 48.1ms\n",
      "Speed: 2.0ms preprocess, 48.1ms inference, 3.0ms postprocess per image at shape (1, 3, 384, 640)\n",
      "\n",
      "0: 384x640 2 K-001901s, 1 K-006697, 4 K-031490s, 48.0ms\n",
      "Speed: 1.0ms preprocess, 48.0ms inference, 2.0ms postprocess per image at shape (1, 3, 384, 640)\n",
      "\n",
      "0: 384x640 2 K-001901s, 1 K-006697, 4 K-031490s, 48.9ms\n",
      "Speed: 2.0ms preprocess, 48.9ms inference, 2.0ms postprocess per image at shape (1, 3, 384, 640)\n",
      "\n"
     ]
    },
    {
     "name": "stdout",
     "output_type": "stream",
     "text": [
      "Time to process 1 frame: 70 milliseconds\n",
      "Time to process 1 frame: 68 milliseconds\n",
      "Time to process 1 frame: 69 milliseconds\n"
     ]
    },
    {
     "name": "stderr",
     "output_type": "stream",
     "text": [
      "0: 384x640 2 K-001901s, 1 K-006697, 4 K-031490s, 50.6ms\n",
      "Speed: 2.5ms preprocess, 50.6ms inference, 2.0ms postprocess per image at shape (1, 3, 384, 640)\n",
      "\n",
      "0: 384x640 2 K-001901s, 1 K-006697, 4 K-031490s, 49.8ms\n",
      "Speed: 2.0ms preprocess, 49.8ms inference, 2.0ms postprocess per image at shape (1, 3, 384, 640)\n",
      "\n",
      "0: 384x640 2 K-001901s, 1 K-006697, 4 K-031490s, 48.7ms\n",
      "Speed: 2.0ms preprocess, 48.7ms inference, 2.5ms postprocess per image at shape (1, 3, 384, 640)\n",
      "\n"
     ]
    },
    {
     "name": "stdout",
     "output_type": "stream",
     "text": [
      "Time to process 1 frame: 72 milliseconds\n",
      "Time to process 1 frame: 70 milliseconds\n",
      "Time to process 1 frame: 69 milliseconds\n"
     ]
    },
    {
     "name": "stderr",
     "output_type": "stream",
     "text": [
      "0: 384x640 2 K-001901s, 1 K-006697, 4 K-031490s, 48.2ms\n",
      "Speed: 2.0ms preprocess, 48.2ms inference, 2.0ms postprocess per image at shape (1, 3, 384, 640)\n",
      "\n",
      "0: 384x640 2 K-001901s, 1 K-006697, 4 K-031490s, 49.6ms\n",
      "Speed: 2.0ms preprocess, 49.6ms inference, 2.6ms postprocess per image at shape (1, 3, 384, 640)\n",
      "\n",
      "0: 384x640 2 K-001901s, 1 K-006697, 4 K-031490s, 50.1ms\n",
      "Speed: 2.0ms preprocess, 50.1ms inference, 2.0ms postprocess per image at shape (1, 3, 384, 640)\n",
      "\n"
     ]
    },
    {
     "name": "stdout",
     "output_type": "stream",
     "text": [
      "Time to process 1 frame: 69 milliseconds\n",
      "Time to process 1 frame: 74 milliseconds\n",
      "Time to process 1 frame: 71 milliseconds\n"
     ]
    },
    {
     "name": "stderr",
     "output_type": "stream",
     "text": [
      "0: 384x640 2 K-001901s, 1 K-006697, 4 K-031490s, 49.1ms\n",
      "Speed: 1.0ms preprocess, 49.1ms inference, 3.5ms postprocess per image at shape (1, 3, 384, 640)\n",
      "\n",
      "0: 384x640 2 K-001901s, 1 K-006697, 4 K-031490s, 48.6ms\n",
      "Speed: 2.0ms preprocess, 48.6ms inference, 3.0ms postprocess per image at shape (1, 3, 384, 640)\n",
      "\n",
      "0: 384x640 2 K-001901s, 1 K-006697, 4 K-031490s, 48.0ms\n",
      "Speed: 2.0ms preprocess, 48.0ms inference, 3.0ms postprocess per image at shape (1, 3, 384, 640)\n",
      "\n"
     ]
    },
    {
     "name": "stdout",
     "output_type": "stream",
     "text": [
      "Time to process 1 frame: 69 milliseconds\n",
      "Time to process 1 frame: 72 milliseconds\n",
      "Time to process 1 frame: 69 milliseconds\n"
     ]
    },
    {
     "name": "stderr",
     "output_type": "stream",
     "text": [
      "0: 384x640 2 K-001901s, 1 K-006697, 4 K-031490s, 48.8ms\n",
      "Speed: 2.0ms preprocess, 48.8ms inference, 3.0ms postprocess per image at shape (1, 3, 384, 640)\n",
      "\n",
      "0: 384x640 2 K-001901s, 1 K-006697, 4 K-031490s, 50.6ms\n",
      "Speed: 2.0ms preprocess, 50.6ms inference, 3.0ms postprocess per image at shape (1, 3, 384, 640)\n",
      "\n",
      "0: 384x640 2 K-001901s, 1 K-006697, 4 K-031490s, 48.1ms\n",
      "Speed: 2.1ms preprocess, 48.1ms inference, 2.5ms postprocess per image at shape (1, 3, 384, 640)\n",
      "\n"
     ]
    },
    {
     "name": "stdout",
     "output_type": "stream",
     "text": [
      "Time to process 1 frame: 71 milliseconds\n",
      "Time to process 1 frame: 72 milliseconds\n",
      "Time to process 1 frame: 70 milliseconds\n"
     ]
    },
    {
     "name": "stderr",
     "output_type": "stream",
     "text": [
      "0: 384x640 2 K-001901s, 1 K-006697, 4 K-031490s, 48.1ms\n",
      "Speed: 2.0ms preprocess, 48.1ms inference, 3.0ms postprocess per image at shape (1, 3, 384, 640)\n",
      "\n",
      "0: 384x640 2 K-001901s, 1 K-006697, 4 K-031490s, 48.6ms\n",
      "Speed: 2.0ms preprocess, 48.6ms inference, 2.5ms postprocess per image at shape (1, 3, 384, 640)\n",
      "\n",
      "0: 384x640 2 K-001901s, 1 K-006697, 4 K-031490s, 50.6ms\n",
      "Speed: 2.0ms preprocess, 50.6ms inference, 2.0ms postprocess per image at shape (1, 3, 384, 640)\n",
      "\n"
     ]
    },
    {
     "name": "stdout",
     "output_type": "stream",
     "text": [
      "Time to process 1 frame: 72 milliseconds\n",
      "Time to process 1 frame: 70 milliseconds\n",
      "Time to process 1 frame: 72 milliseconds\n"
     ]
    },
    {
     "name": "stderr",
     "output_type": "stream",
     "text": [
      "0: 384x640 2 K-001901s, 1 K-006697, 4 K-031490s, 50.0ms\n",
      "Speed: 2.0ms preprocess, 50.0ms inference, 3.0ms postprocess per image at shape (1, 3, 384, 640)\n",
      "\n",
      "0: 384x640 2 K-001901s, 1 K-006697, 4 K-031490s, 48.0ms\n",
      "Speed: 1.5ms preprocess, 48.0ms inference, 3.0ms postprocess per image at shape (1, 3, 384, 640)\n",
      "\n",
      "0: 384x640 2 K-001901s, 1 K-006697, 4 K-031490s, 50.5ms\n",
      "Speed: 2.0ms preprocess, 50.5ms inference, 3.0ms postprocess per image at shape (1, 3, 384, 640)\n",
      "\n"
     ]
    },
    {
     "name": "stdout",
     "output_type": "stream",
     "text": [
      "Time to process 1 frame: 72 milliseconds\n",
      "Time to process 1 frame: 70 milliseconds\n",
      "Time to process 1 frame: 72 milliseconds\n"
     ]
    },
    {
     "name": "stderr",
     "output_type": "stream",
     "text": [
      "0: 384x640 2 K-001901s, 1 K-006697, 4 K-031490s, 51.1ms\n",
      "Speed: 2.0ms preprocess, 51.1ms inference, 2.5ms postprocess per image at shape (1, 3, 384, 640)\n",
      "\n",
      "0: 384x640 2 K-001901s, 1 K-006697, 4 K-031490s, 50.0ms\n",
      "Speed: 3.0ms preprocess, 50.0ms inference, 3.0ms postprocess per image at shape (1, 3, 384, 640)\n",
      "\n",
      "0: 384x640 2 K-001901s, 1 K-006697, 4 K-031490s, 49.2ms\n",
      "Speed: 2.0ms preprocess, 49.2ms inference, 2.0ms postprocess per image at shape (1, 3, 384, 640)\n",
      "\n"
     ]
    },
    {
     "name": "stdout",
     "output_type": "stream",
     "text": [
      "Time to process 1 frame: 72 milliseconds\n",
      "Time to process 1 frame: 72 milliseconds\n",
      "Time to process 1 frame: 70 milliseconds\n"
     ]
    },
    {
     "name": "stderr",
     "output_type": "stream",
     "text": [
      "0: 384x640 2 K-001901s, 1 K-006697, 4 K-031490s, 47.5ms\n",
      "Speed: 3.0ms preprocess, 47.5ms inference, 4.0ms postprocess per image at shape (1, 3, 384, 640)\n",
      "\n",
      "0: 384x640 2 K-001901s, 1 K-006697, 4 K-031490s, 50.0ms\n",
      "Speed: 2.0ms preprocess, 50.0ms inference, 2.5ms postprocess per image at shape (1, 3, 384, 640)\n",
      "\n",
      "0: 384x640 2 K-001901s, 1 K-006697, 4 K-031490s, 47.0ms\n",
      "Speed: 2.0ms preprocess, 47.0ms inference, 2.0ms postprocess per image at shape (1, 3, 384, 640)\n",
      "\n"
     ]
    },
    {
     "name": "stdout",
     "output_type": "stream",
     "text": [
      "Time to process 1 frame: 70 milliseconds\n",
      "Time to process 1 frame: 75 milliseconds\n",
      "Time to process 1 frame: 69 milliseconds\n"
     ]
    },
    {
     "name": "stderr",
     "output_type": "stream",
     "text": [
      "0: 384x640 2 K-001901s, 1 K-006697, 4 K-031490s, 51.5ms\n",
      "Speed: 1.0ms preprocess, 51.5ms inference, 2.0ms postprocess per image at shape (1, 3, 384, 640)\n",
      "\n",
      "0: 384x640 2 K-001901s, 1 K-006697, 4 K-031490s, 48.4ms\n",
      "Speed: 2.0ms preprocess, 48.4ms inference, 2.0ms postprocess per image at shape (1, 3, 384, 640)\n",
      "\n",
      "0: 384x640 2 K-001901s, 1 K-006697, 4 K-031490s, 49.0ms\n",
      "Speed: 2.0ms preprocess, 49.0ms inference, 2.0ms postprocess per image at shape (1, 3, 384, 640)\n",
      "\n"
     ]
    },
    {
     "name": "stdout",
     "output_type": "stream",
     "text": [
      "Time to process 1 frame: 72 milliseconds\n",
      "Time to process 1 frame: 70 milliseconds\n",
      "Time to process 1 frame: 72 milliseconds\n"
     ]
    },
    {
     "name": "stderr",
     "output_type": "stream",
     "text": [
      "0: 384x640 2 K-001901s, 1 K-006697, 4 K-031490s, 50.0ms\n",
      "Speed: 2.0ms preprocess, 50.0ms inference, 3.0ms postprocess per image at shape (1, 3, 384, 640)\n",
      "\n",
      "0: 384x640 2 K-001901s, 2 K-006697s, 4 K-031490s, 48.5ms\n",
      "Speed: 2.0ms preprocess, 48.5ms inference, 2.0ms postprocess per image at shape (1, 3, 384, 640)\n",
      "\n",
      "0: 384x640 1 K-001901, 1 K-031490, 48.5ms\n",
      "Speed: 2.0ms preprocess, 48.5ms inference, 3.0ms postprocess per image at shape (1, 3, 384, 640)\n",
      "\n"
     ]
    },
    {
     "name": "stdout",
     "output_type": "stream",
     "text": [
      "Time to process 1 frame: 73 milliseconds\n",
      "Time to process 1 frame: 71 milliseconds\n",
      "Time to process 1 frame: 71 milliseconds\n"
     ]
    },
    {
     "name": "stderr",
     "output_type": "stream",
     "text": [
      "0: 384x640 1 K-001901, 49.0ms\n",
      "Speed: 2.0ms preprocess, 49.0ms inference, 3.0ms postprocess per image at shape (1, 3, 384, 640)\n",
      "\n",
      "0: 384x640 (no detections), 51.0ms\n",
      "Speed: 2.0ms preprocess, 51.0ms inference, 1.0ms postprocess per image at shape (1, 3, 384, 640)\n",
      "\n",
      "0: 384x640 1 K-024029, 49.1ms\n",
      "Speed: 2.7ms preprocess, 49.1ms inference, 2.0ms postprocess per image at shape (1, 3, 384, 640)\n",
      "\n"
     ]
    },
    {
     "name": "stdout",
     "output_type": "stream",
     "text": [
      "Time to process 1 frame: 70 milliseconds\n",
      "Time to process 1 frame: 70 milliseconds\n",
      "Time to process 1 frame: 68 milliseconds\n"
     ]
    },
    {
     "name": "stderr",
     "output_type": "stream",
     "text": [
      "0: 384x640 (no detections), 48.4ms\n",
      "Speed: 2.0ms preprocess, 48.4ms inference, 1.0ms postprocess per image at shape (1, 3, 384, 640)\n",
      "\n",
      "0: 384x640 1 K-024029, 49.0ms\n",
      "Speed: 2.0ms preprocess, 49.0ms inference, 2.0ms postprocess per image at shape (1, 3, 384, 640)\n",
      "\n",
      "0: 384x640 1 K-038104, 48.0ms\n",
      "Speed: 2.0ms preprocess, 48.0ms inference, 3.0ms postprocess per image at shape (1, 3, 384, 640)\n",
      "\n"
     ]
    },
    {
     "name": "stdout",
     "output_type": "stream",
     "text": [
      "Time to process 1 frame: 66 milliseconds\n",
      "Time to process 1 frame: 68 milliseconds\n",
      "Time to process 1 frame: 70 milliseconds\n"
     ]
    },
    {
     "name": "stderr",
     "output_type": "stream",
     "text": [
      "0: 384x640 (no detections), 50.5ms\n",
      "Speed: 2.0ms preprocess, 50.5ms inference, 2.0ms postprocess per image at shape (1, 3, 384, 640)\n",
      "\n",
      "0: 384x640 1 K-038722, 50.2ms\n",
      "Speed: 2.0ms preprocess, 50.2ms inference, 2.0ms postprocess per image at shape (1, 3, 384, 640)\n",
      "\n",
      "0: 384x640 (no detections), 48.0ms\n",
      "Speed: 2.0ms preprocess, 48.0ms inference, 2.0ms postprocess per image at shape (1, 3, 384, 640)\n",
      "\n",
      "0: 384x640 (no detections), 48.1ms\n"
     ]
    },
    {
     "name": "stdout",
     "output_type": "stream",
     "text": [
      "Time to process 1 frame: 68 milliseconds\n",
      "Time to process 1 frame: 69 milliseconds\n",
      "Time to process 1 frame: 67 milliseconds\n"
     ]
    },
    {
     "name": "stderr",
     "output_type": "stream",
     "text": [
      "Speed: 2.1ms preprocess, 48.1ms inference, 1.0ms postprocess per image at shape (1, 3, 384, 640)\n",
      "\n",
      "0: 384x640 (no detections), 50.1ms\n",
      "Speed: 2.0ms preprocess, 50.1ms inference, 2.0ms postprocess per image at shape (1, 3, 384, 640)\n",
      "\n",
      "0: 384x640 (no detections), 49.0ms\n",
      "Speed: 2.0ms preprocess, 49.0ms inference, 1.0ms postprocess per image at shape (1, 3, 384, 640)\n",
      "\n"
     ]
    },
    {
     "name": "stdout",
     "output_type": "stream",
     "text": [
      "Time to process 1 frame: 65 milliseconds\n",
      "Time to process 1 frame: 69 milliseconds\n",
      "Time to process 1 frame: 67 milliseconds\n"
     ]
    },
    {
     "name": "stderr",
     "output_type": "stream",
     "text": [
      "0: 384x640 (no detections), 48.0ms\n",
      "Speed: 2.0ms preprocess, 48.0ms inference, 1.0ms postprocess per image at shape (1, 3, 384, 640)\n",
      "\n",
      "0: 384x640 (no detections), 50.5ms\n",
      "Speed: 2.0ms preprocess, 50.5ms inference, 1.0ms postprocess per image at shape (1, 3, 384, 640)\n",
      "\n",
      "0: 384x640 (no detections), 51.5ms\n",
      "Speed: 2.0ms preprocess, 51.5ms inference, 1.0ms postprocess per image at shape (1, 3, 384, 640)\n",
      "\n"
     ]
    },
    {
     "name": "stdout",
     "output_type": "stream",
     "text": [
      "Time to process 1 frame: 68 milliseconds\n",
      "Time to process 1 frame: 70 milliseconds\n",
      "Time to process 1 frame: 69 milliseconds\n"
     ]
    },
    {
     "name": "stderr",
     "output_type": "stream",
     "text": [
      "0: 384x640 (no detections), 50.0ms\n",
      "Speed: 2.0ms preprocess, 50.0ms inference, 1.0ms postprocess per image at shape (1, 3, 384, 640)\n",
      "\n",
      "0: 384x640 (no detections), 49.9ms\n",
      "Speed: 2.1ms preprocess, 49.9ms inference, 1.0ms postprocess per image at shape (1, 3, 384, 640)\n",
      "\n",
      "0: 384x640 (no detections), 48.5ms\n",
      "Speed: 2.0ms preprocess, 48.5ms inference, 1.0ms postprocess per image at shape (1, 3, 384, 640)\n",
      "\n"
     ]
    },
    {
     "name": "stdout",
     "output_type": "stream",
     "text": [
      "Time to process 1 frame: 69 milliseconds\n",
      "Time to process 1 frame: 68 milliseconds\n",
      "Time to process 1 frame: 67 milliseconds\n"
     ]
    },
    {
     "name": "stderr",
     "output_type": "stream",
     "text": [
      "0: 384x640 (no detections), 50.0ms\n",
      "Speed: 2.0ms preprocess, 50.0ms inference, 1.0ms postprocess per image at shape (1, 3, 384, 640)\n",
      "\n",
      "0: 384x640 (no detections), 50.0ms\n",
      "Speed: 2.0ms preprocess, 50.0ms inference, 2.0ms postprocess per image at shape (1, 3, 384, 640)\n",
      "\n",
      "0: 384x640 (no detections), 53.5ms\n",
      "Speed: 2.0ms preprocess, 53.5ms inference, 2.0ms postprocess per image at shape (1, 3, 384, 640)\n",
      "\n"
     ]
    },
    {
     "name": "stdout",
     "output_type": "stream",
     "text": [
      "Time to process 1 frame: 69 milliseconds\n",
      "Time to process 1 frame: 68 milliseconds\n",
      "Time to process 1 frame: 73 milliseconds\n"
     ]
    },
    {
     "name": "stderr",
     "output_type": "stream",
     "text": [
      "0: 384x640 (no detections), 56.5ms\n",
      "Speed: 3.0ms preprocess, 56.5ms inference, 2.0ms postprocess per image at shape (1, 3, 384, 640)\n",
      "\n",
      "0: 384x640 (no detections), 50.7ms\n",
      "Speed: 2.0ms preprocess, 50.7ms inference, 2.0ms postprocess per image at shape (1, 3, 384, 640)\n",
      "\n",
      "0: 384x640 (no detections), 51.5ms\n",
      "Speed: 2.1ms preprocess, 51.5ms inference, 1.0ms postprocess per image at shape (1, 3, 384, 640)\n",
      "\n"
     ]
    },
    {
     "name": "stdout",
     "output_type": "stream",
     "text": [
      "Time to process 1 frame: 75 milliseconds\n",
      "Time to process 1 frame: 70 milliseconds\n",
      "Time to process 1 frame: 68 milliseconds\n"
     ]
    },
    {
     "name": "stderr",
     "output_type": "stream",
     "text": [
      "0: 384x640 (no detections), 51.3ms\n",
      "Speed: 2.0ms preprocess, 51.3ms inference, 1.0ms postprocess per image at shape (1, 3, 384, 640)\n",
      "\n",
      "0: 384x640 (no detections), 49.5ms\n",
      "Speed: 2.0ms preprocess, 49.5ms inference, 1.0ms postprocess per image at shape (1, 3, 384, 640)\n",
      "\n",
      "0: 384x640 (no detections), 51.0ms\n",
      "Speed: 1.0ms preprocess, 51.0ms inference, 1.0ms postprocess per image at shape (1, 3, 384, 640)\n",
      "\n"
     ]
    },
    {
     "name": "stdout",
     "output_type": "stream",
     "text": [
      "Time to process 1 frame: 70 milliseconds\n",
      "Time to process 1 frame: 68 milliseconds\n",
      "Time to process 1 frame: 69 milliseconds\n"
     ]
    },
    {
     "name": "stderr",
     "output_type": "stream",
     "text": [
      "0: 384x640 (no detections), 49.0ms\n",
      "Speed: 3.0ms preprocess, 49.0ms inference, 1.0ms postprocess per image at shape (1, 3, 384, 640)\n",
      "\n",
      "0: 384x640 (no detections), 47.5ms\n",
      "Speed: 3.0ms preprocess, 47.5ms inference, 2.0ms postprocess per image at shape (1, 3, 384, 640)\n",
      "\n",
      "0: 384x640 (no detections), 51.0ms\n",
      "Speed: 2.0ms preprocess, 51.0ms inference, 1.5ms postprocess per image at shape (1, 3, 384, 640)\n",
      "\n"
     ]
    },
    {
     "name": "stdout",
     "output_type": "stream",
     "text": [
      "Time to process 1 frame: 69 milliseconds\n",
      "Time to process 1 frame: 70 milliseconds\n",
      "Time to process 1 frame: 72 milliseconds\n"
     ]
    },
    {
     "name": "stderr",
     "output_type": "stream",
     "text": [
      "0: 384x640 (no detections), 52.0ms\n",
      "Speed: 2.0ms preprocess, 52.0ms inference, 1.0ms postprocess per image at shape (1, 3, 384, 640)\n",
      "\n",
      "0: 384x640 (no detections), 51.5ms\n",
      "Speed: 2.0ms preprocess, 51.5ms inference, 1.0ms postprocess per image at shape (1, 3, 384, 640)\n",
      "\n",
      "0: 384x640 (no detections), 50.5ms\n",
      "Speed: 3.0ms preprocess, 50.5ms inference, 1.0ms postprocess per image at shape (1, 3, 384, 640)\n",
      "\n"
     ]
    },
    {
     "name": "stdout",
     "output_type": "stream",
     "text": [
      "Time to process 1 frame: 68 milliseconds\n",
      "Time to process 1 frame: 70 milliseconds\n",
      "Time to process 1 frame: 69 milliseconds\n"
     ]
    },
    {
     "name": "stderr",
     "output_type": "stream",
     "text": [
      "0: 384x640 (no detections), 50.0ms\n",
      "Speed: 2.0ms preprocess, 50.0ms inference, 1.0ms postprocess per image at shape (1, 3, 384, 640)\n",
      "\n",
      "0: 384x640 (no detections), 51.0ms\n",
      "Speed: 3.0ms preprocess, 51.0ms inference, 1.0ms postprocess per image at shape (1, 3, 384, 640)\n",
      "\n",
      "0: 384x640 (no detections), 57.5ms\n",
      "Speed: 2.0ms preprocess, 57.5ms inference, 1.0ms postprocess per image at shape (1, 3, 384, 640)\n",
      "\n"
     ]
    },
    {
     "name": "stdout",
     "output_type": "stream",
     "text": [
      "Time to process 1 frame: 69 milliseconds\n",
      "Time to process 1 frame: 70 milliseconds\n",
      "Time to process 1 frame: 76 milliseconds\n"
     ]
    },
    {
     "name": "stderr",
     "output_type": "stream",
     "text": [
      "0: 384x640 (no detections), 52.3ms\n",
      "Speed: 2.0ms preprocess, 52.3ms inference, 1.1ms postprocess per image at shape (1, 3, 384, 640)\n",
      "\n",
      "0: 384x640 (no detections), 55.0ms\n",
      "Speed: 2.0ms preprocess, 55.0ms inference, 3.0ms postprocess per image at shape (1, 3, 384, 640)\n",
      "\n",
      "0: 384x640 (no detections), 57.0ms\n",
      "Speed: 2.0ms preprocess, 57.0ms inference, 2.0ms postprocess per image at shape (1, 3, 384, 640)\n",
      "\n"
     ]
    },
    {
     "name": "stdout",
     "output_type": "stream",
     "text": [
      "Time to process 1 frame: 74 milliseconds\n",
      "Time to process 1 frame: 76 milliseconds\n",
      "Time to process 1 frame: 75 milliseconds\n"
     ]
    },
    {
     "name": "stderr",
     "output_type": "stream",
     "text": [
      "0: 384x640 (no detections), 54.0ms\n",
      "Speed: 2.5ms preprocess, 54.0ms inference, 2.0ms postprocess per image at shape (1, 3, 384, 640)\n",
      "\n",
      "0: 384x640 (no detections), 57.5ms\n",
      "Speed: 3.0ms preprocess, 57.5ms inference, 1.0ms postprocess per image at shape (1, 3, 384, 640)\n",
      "\n",
      "0: 384x640 (no detections), 53.5ms\n",
      "Speed: 2.1ms preprocess, 53.5ms inference, 1.0ms postprocess per image at shape (1, 3, 384, 640)\n",
      "\n"
     ]
    },
    {
     "name": "stdout",
     "output_type": "stream",
     "text": [
      "Time to process 1 frame: 74 milliseconds\n",
      "Time to process 1 frame: 77 milliseconds\n",
      "Time to process 1 frame: 68 milliseconds\n"
     ]
    },
    {
     "name": "stderr",
     "output_type": "stream",
     "text": [
      "0: 384x640 (no detections), 50.0ms\n",
      "Speed: 2.0ms preprocess, 50.0ms inference, 1.0ms postprocess per image at shape (1, 3, 384, 640)\n",
      "\n",
      "0: 384x640 (no detections), 55.4ms\n",
      "Speed: 2.5ms preprocess, 55.4ms inference, 1.0ms postprocess per image at shape (1, 3, 384, 640)\n",
      "\n",
      "0: 384x640 (no detections), 55.4ms\n",
      "Speed: 2.0ms preprocess, 55.4ms inference, 1.0ms postprocess per image at shape (1, 3, 384, 640)\n",
      "\n"
     ]
    },
    {
     "name": "stdout",
     "output_type": "stream",
     "text": [
      "Time to process 1 frame: 68 milliseconds\n",
      "Time to process 1 frame: 76 milliseconds\n",
      "Time to process 1 frame: 74 milliseconds\n"
     ]
    },
    {
     "name": "stderr",
     "output_type": "stream",
     "text": [
      "0: 384x640 (no detections), 53.5ms\n",
      "Speed: 3.0ms preprocess, 53.5ms inference, 2.0ms postprocess per image at shape (1, 3, 384, 640)\n",
      "\n",
      "0: 384x640 (no detections), 53.0ms\n",
      "Speed: 2.0ms preprocess, 53.0ms inference, 2.0ms postprocess per image at shape (1, 3, 384, 640)\n",
      "\n",
      "0: 384x640 (no detections), 57.5ms\n",
      "Speed: 3.0ms preprocess, 57.5ms inference, 1.0ms postprocess per image at shape (1, 3, 384, 640)\n",
      "\n"
     ]
    },
    {
     "name": "stdout",
     "output_type": "stream",
     "text": [
      "Time to process 1 frame: 75 milliseconds\n",
      "Time to process 1 frame: 74 milliseconds\n",
      "Time to process 1 frame: 80 milliseconds\n"
     ]
    },
    {
     "name": "stderr",
     "output_type": "stream",
     "text": [
      "0: 384x640 (no detections), 53.0ms\n",
      "Speed: 2.0ms preprocess, 53.0ms inference, 2.0ms postprocess per image at shape (1, 3, 384, 640)\n",
      "\n",
      "0: 384x640 (no detections), 53.0ms\n",
      "Speed: 3.0ms preprocess, 53.0ms inference, 1.0ms postprocess per image at shape (1, 3, 384, 640)\n",
      "\n",
      "0: 384x640 (no detections), 50.5ms\n",
      "Speed: 2.0ms preprocess, 50.5ms inference, 2.0ms postprocess per image at shape (1, 3, 384, 640)\n",
      "\n"
     ]
    },
    {
     "name": "stdout",
     "output_type": "stream",
     "text": [
      "Time to process 1 frame: 74 milliseconds\n",
      "Time to process 1 frame: 73 milliseconds\n",
      "Time to process 1 frame: 71 milliseconds\n"
     ]
    },
    {
     "name": "stderr",
     "output_type": "stream",
     "text": [
      "0: 384x640 (no detections), 50.0ms\n",
      "Speed: 2.0ms preprocess, 50.0ms inference, 2.0ms postprocess per image at shape (1, 3, 384, 640)\n",
      "\n",
      "0: 384x640 (no detections), 49.0ms\n",
      "Speed: 2.0ms preprocess, 49.0ms inference, 1.0ms postprocess per image at shape (1, 3, 384, 640)\n",
      "\n",
      "0: 384x640 1 K-007024, 47.5ms\n",
      "Speed: 2.0ms preprocess, 47.5ms inference, 3.0ms postprocess per image at shape (1, 3, 384, 640)\n",
      "\n"
     ]
    },
    {
     "name": "stdout",
     "output_type": "stream",
     "text": [
      "Time to process 1 frame: 69 milliseconds\n",
      "Time to process 1 frame: 68 milliseconds\n",
      "Time to process 1 frame: 70 milliseconds\n"
     ]
    },
    {
     "name": "stderr",
     "output_type": "stream",
     "text": [
      "0: 384x640 (no detections), 51.0ms\n",
      "Speed: 2.0ms preprocess, 51.0ms inference, 1.2ms postprocess per image at shape (1, 3, 384, 640)\n",
      "\n",
      "0: 384x640 (no detections), 50.0ms\n",
      "Speed: 2.0ms preprocess, 50.0ms inference, 1.0ms postprocess per image at shape (1, 3, 384, 640)\n",
      "\n",
      "0: 384x640 (no detections), 47.7ms\n",
      "Speed: 2.0ms preprocess, 47.7ms inference, 1.0ms postprocess per image at shape (1, 3, 384, 640)\n",
      "\n"
     ]
    },
    {
     "name": "stdout",
     "output_type": "stream",
     "text": [
      "Time to process 1 frame: 69 milliseconds\n",
      "Time to process 1 frame: 68 milliseconds\n",
      "Time to process 1 frame: 67 milliseconds\n"
     ]
    },
    {
     "name": "stderr",
     "output_type": "stream",
     "text": [
      "0: 384x640 (no detections), 50.5ms\n",
      "Speed: 2.0ms preprocess, 50.5ms inference, 2.0ms postprocess per image at shape (1, 3, 384, 640)\n",
      "\n",
      "0: 384x640 (no detections), 49.0ms\n",
      "Speed: 2.0ms preprocess, 49.0ms inference, 2.0ms postprocess per image at shape (1, 3, 384, 640)\n",
      "\n",
      "0: 384x640 (no detections), 56.0ms\n",
      "Speed: 2.0ms preprocess, 56.0ms inference, 1.0ms postprocess per image at shape (1, 3, 384, 640)\n",
      "\n"
     ]
    },
    {
     "name": "stdout",
     "output_type": "stream",
     "text": [
      "Time to process 1 frame: 70 milliseconds\n",
      "Time to process 1 frame: 68 milliseconds\n",
      "Time to process 1 frame: 76 milliseconds\n"
     ]
    },
    {
     "name": "stderr",
     "output_type": "stream",
     "text": [
      "0: 384x640 (no detections), 55.5ms\n",
      "Speed: 2.0ms preprocess, 55.5ms inference, 2.0ms postprocess per image at shape (1, 3, 384, 640)\n",
      "\n",
      "0: 384x640 (no detections), 50.5ms\n",
      "Speed: 1.0ms preprocess, 50.5ms inference, 1.0ms postprocess per image at shape (1, 3, 384, 640)\n",
      "\n",
      "0: 384x640 (no detections), 48.0ms\n",
      "Speed: 2.0ms preprocess, 48.0ms inference, 1.0ms postprocess per image at shape (1, 3, 384, 640)\n",
      "\n",
      "0: 384x640 (no detections), 48.4ms\n"
     ]
    },
    {
     "name": "stdout",
     "output_type": "stream",
     "text": [
      "Time to process 1 frame: 75 milliseconds\n",
      "Time to process 1 frame: 68 milliseconds\n",
      "Time to process 1 frame: 67 milliseconds\n"
     ]
    },
    {
     "name": "stderr",
     "output_type": "stream",
     "text": [
      "Speed: 2.0ms preprocess, 48.4ms inference, 1.0ms postprocess per image at shape (1, 3, 384, 640)\n",
      "\n",
      "0: 384x640 (no detections), 49.5ms\n",
      "Speed: 2.0ms preprocess, 49.5ms inference, 2.0ms postprocess per image at shape (1, 3, 384, 640)\n",
      "\n",
      "0: 384x640 (no detections), 51.5ms\n",
      "Speed: 2.0ms preprocess, 51.5ms inference, 1.0ms postprocess per image at shape (1, 3, 384, 640)\n",
      "\n"
     ]
    },
    {
     "name": "stdout",
     "output_type": "stream",
     "text": [
      "Time to process 1 frame: 67 milliseconds\n",
      "Time to process 1 frame: 69 milliseconds\n",
      "Time to process 1 frame: 71 milliseconds\n"
     ]
    },
    {
     "name": "stderr",
     "output_type": "stream",
     "text": [
      "0: 384x640 (no detections), 48.0ms\n",
      "Speed: 2.0ms preprocess, 48.0ms inference, 1.0ms postprocess per image at shape (1, 3, 384, 640)\n",
      "\n",
      "0: 384x640 (no detections), 50.0ms\n",
      "Speed: 2.0ms preprocess, 50.0ms inference, 2.0ms postprocess per image at shape (1, 3, 384, 640)\n",
      "\n",
      "0: 384x640 (no detections), 48.5ms\n",
      "Speed: 1.0ms preprocess, 48.5ms inference, 2.0ms postprocess per image at shape (1, 3, 384, 640)\n",
      "\n"
     ]
    },
    {
     "name": "stdout",
     "output_type": "stream",
     "text": [
      "Time to process 1 frame: 67 milliseconds\n",
      "Time to process 1 frame: 70 milliseconds\n",
      "Time to process 1 frame: 68 milliseconds\n"
     ]
    },
    {
     "name": "stderr",
     "output_type": "stream",
     "text": [
      "0: 384x640 (no detections), 49.0ms\n",
      "Speed: 3.0ms preprocess, 49.0ms inference, 2.5ms postprocess per image at shape (1, 3, 384, 640)\n",
      "\n",
      "0: 384x640 (no detections), 50.0ms\n",
      "Speed: 2.0ms preprocess, 50.0ms inference, 1.0ms postprocess per image at shape (1, 3, 384, 640)\n",
      "\n",
      "0: 384x640 (no detections), 48.5ms\n",
      "Speed: 2.0ms preprocess, 48.5ms inference, 1.0ms postprocess per image at shape (1, 3, 384, 640)\n",
      "\n"
     ]
    },
    {
     "name": "stdout",
     "output_type": "stream",
     "text": [
      "Time to process 1 frame: 70 milliseconds\n",
      "Time to process 1 frame: 69 milliseconds\n",
      "Time to process 1 frame: 67 milliseconds\n"
     ]
    },
    {
     "name": "stderr",
     "output_type": "stream",
     "text": [
      "0: 384x640 (no detections), 50.5ms\n",
      "Speed: 2.0ms preprocess, 50.5ms inference, 2.0ms postprocess per image at shape (1, 3, 384, 640)\n",
      "\n",
      "0: 384x640 (no detections), 48.0ms\n",
      "Speed: 3.0ms preprocess, 48.0ms inference, 1.0ms postprocess per image at shape (1, 3, 384, 640)\n",
      "\n",
      "0: 384x640 (no detections), 48.0ms\n",
      "Speed: 2.0ms preprocess, 48.0ms inference, 2.0ms postprocess per image at shape (1, 3, 384, 640)\n",
      "\n"
     ]
    },
    {
     "name": "stdout",
     "output_type": "stream",
     "text": [
      "Time to process 1 frame: 69 milliseconds\n",
      "Time to process 1 frame: 68 milliseconds\n",
      "Time to process 1 frame: 66 milliseconds\n"
     ]
    },
    {
     "name": "stderr",
     "output_type": "stream",
     "text": [
      "0: 384x640 (no detections), 51.5ms\n",
      "Speed: 2.0ms preprocess, 51.5ms inference, 1.0ms postprocess per image at shape (1, 3, 384, 640)\n",
      "\n",
      "0: 384x640 (no detections), 51.1ms\n",
      "Speed: 2.0ms preprocess, 51.1ms inference, 1.0ms postprocess per image at shape (1, 3, 384, 640)\n",
      "\n",
      "0: 384x640 1 K-007024, 46.8ms\n",
      "Speed: 2.0ms preprocess, 46.8ms inference, 3.0ms postprocess per image at shape (1, 3, 384, 640)\n",
      "\n"
     ]
    },
    {
     "name": "stdout",
     "output_type": "stream",
     "text": [
      "Time to process 1 frame: 69 milliseconds\n",
      "Time to process 1 frame: 69 milliseconds\n",
      "Time to process 1 frame: 67 milliseconds\n"
     ]
    },
    {
     "name": "stderr",
     "output_type": "stream",
     "text": [
      "0: 384x640 1 K-007024, 50.0ms\n",
      "Speed: 2.5ms preprocess, 50.0ms inference, 3.0ms postprocess per image at shape (1, 3, 384, 640)\n",
      "\n",
      "0: 384x640 (no detections), 48.5ms\n",
      "Speed: 2.0ms preprocess, 48.5ms inference, 1.0ms postprocess per image at shape (1, 3, 384, 640)\n",
      "\n",
      "0: 384x640 1 K-007024, 50.5ms\n",
      "Speed: 2.0ms preprocess, 50.5ms inference, 2.0ms postprocess per image at shape (1, 3, 384, 640)\n",
      "\n",
      "0: 384x640 (no detections), 50.0ms\n"
     ]
    },
    {
     "name": "stdout",
     "output_type": "stream",
     "text": [
      "Time to process 1 frame: 70 milliseconds\n",
      "Time to process 1 frame: 67 milliseconds\n",
      "Time to process 1 frame: 70 milliseconds\n"
     ]
    },
    {
     "name": "stderr",
     "output_type": "stream",
     "text": [
      "Speed: 2.0ms preprocess, 50.0ms inference, 1.0ms postprocess per image at shape (1, 3, 384, 640)\n",
      "\n",
      "0: 384x640 (no detections), 47.5ms\n",
      "Speed: 2.0ms preprocess, 47.5ms inference, 2.0ms postprocess per image at shape (1, 3, 384, 640)\n",
      "\n",
      "0: 384x640 (no detections), 51.5ms\n",
      "Speed: 2.0ms preprocess, 51.5ms inference, 1.0ms postprocess per image at shape (1, 3, 384, 640)\n",
      "\n"
     ]
    },
    {
     "name": "stdout",
     "output_type": "stream",
     "text": [
      "Time to process 1 frame: 68 milliseconds\n",
      "Time to process 1 frame: 67 milliseconds\n",
      "Time to process 1 frame: 69 milliseconds\n"
     ]
    },
    {
     "name": "stderr",
     "output_type": "stream",
     "text": [
      "0: 384x640 (no detections), 46.9ms\n",
      "Speed: 3.0ms preprocess, 46.9ms inference, 2.0ms postprocess per image at shape (1, 3, 384, 640)\n",
      "\n",
      "0: 384x640 (no detections), 49.0ms\n",
      "Speed: 2.0ms preprocess, 49.0ms inference, 1.0ms postprocess per image at shape (1, 3, 384, 640)\n",
      "\n",
      "0: 384x640 (no detections), 50.4ms\n",
      "Speed: 2.0ms preprocess, 50.4ms inference, 2.0ms postprocess per image at shape (1, 3, 384, 640)\n",
      "\n"
     ]
    },
    {
     "name": "stdout",
     "output_type": "stream",
     "text": [
      "Time to process 1 frame: 67 milliseconds\n",
      "Time to process 1 frame: 70 milliseconds\n",
      "Time to process 1 frame: 68 milliseconds\n"
     ]
    },
    {
     "name": "stderr",
     "output_type": "stream",
     "text": [
      "0: 384x640 (no detections), 51.5ms\n",
      "Speed: 2.0ms preprocess, 51.5ms inference, 2.0ms postprocess per image at shape (1, 3, 384, 640)\n",
      "\n",
      "0: 384x640 (no detections), 51.0ms\n",
      "Speed: 2.0ms preprocess, 51.0ms inference, 1.0ms postprocess per image at shape (1, 3, 384, 640)\n",
      "\n",
      "0: 384x640 (no detections), 48.2ms\n",
      "Speed: 2.0ms preprocess, 48.2ms inference, 1.0ms postprocess per image at shape (1, 3, 384, 640)\n",
      "\n"
     ]
    },
    {
     "name": "stdout",
     "output_type": "stream",
     "text": [
      "Time to process 1 frame: 70 milliseconds\n",
      "Time to process 1 frame: 68 milliseconds\n",
      "Time to process 1 frame: 66 milliseconds\n"
     ]
    },
    {
     "name": "stderr",
     "output_type": "stream",
     "text": [
      "0: 384x640 (no detections), 47.5ms\n",
      "Speed: 2.0ms preprocess, 47.5ms inference, 2.0ms postprocess per image at shape (1, 3, 384, 640)\n",
      "\n",
      "0: 384x640 (no detections), 50.9ms\n",
      "Speed: 2.0ms preprocess, 50.9ms inference, 1.0ms postprocess per image at shape (1, 3, 384, 640)\n",
      "\n",
      "0: 384x640 (no detections), 49.0ms\n",
      "Speed: 2.0ms preprocess, 49.0ms inference, 2.0ms postprocess per image at shape (1, 3, 384, 640)\n",
      "\n"
     ]
    },
    {
     "name": "stdout",
     "output_type": "stream",
     "text": [
      "Time to process 1 frame: 67 milliseconds\n",
      "Time to process 1 frame: 70 milliseconds\n",
      "Time to process 1 frame: 68 milliseconds\n"
     ]
    },
    {
     "name": "stderr",
     "output_type": "stream",
     "text": [
      "0: 384x640 (no detections), 48.0ms\n",
      "Speed: 2.5ms preprocess, 48.0ms inference, 2.0ms postprocess per image at shape (1, 3, 384, 640)\n",
      "\n",
      "0: 384x640 (no detections), 48.5ms\n",
      "Speed: 2.0ms preprocess, 48.5ms inference, 1.0ms postprocess per image at shape (1, 3, 384, 640)\n",
      "\n",
      "0: 384x640 (no detections), 48.0ms\n",
      "Speed: 2.0ms preprocess, 48.0ms inference, 2.0ms postprocess per image at shape (1, 3, 384, 640)\n",
      "\n"
     ]
    },
    {
     "name": "stdout",
     "output_type": "stream",
     "text": [
      "Time to process 1 frame: 68 milliseconds\n",
      "Time to process 1 frame: 67 milliseconds\n",
      "Time to process 1 frame: 67 milliseconds\n"
     ]
    },
    {
     "name": "stderr",
     "output_type": "stream",
     "text": [
      "0: 384x640 (no detections), 51.0ms\n",
      "Speed: 2.0ms preprocess, 51.0ms inference, 1.0ms postprocess per image at shape (1, 3, 384, 640)\n",
      "\n",
      "0: 384x640 (no detections), 50.1ms\n",
      "Speed: 2.0ms preprocess, 50.1ms inference, 1.0ms postprocess per image at shape (1, 3, 384, 640)\n"
     ]
    },
    {
     "name": "stdout",
     "output_type": "stream",
     "text": [
      "Time to process 1 frame: 70 milliseconds\n",
      "Time to process 1 frame: 69 milliseconds\n"
     ]
    },
    {
     "name": "stderr",
     "output_type": "stream",
     "text": [
      "\n",
      "0: 384x640 (no detections), 47.5ms\n",
      "Speed: 1.0ms preprocess, 47.5ms inference, 1.0ms postprocess per image at shape (1, 3, 384, 640)\n",
      "\n",
      "0: 384x640 (no detections), 46.2ms\n",
      "Speed: 3.0ms preprocess, 46.2ms inference, 1.0ms postprocess per image at shape (1, 3, 384, 640)\n",
      "\n",
      "0: 384x640 (no detections), 47.0ms\n",
      "Speed: 1.0ms preprocess, 47.0ms inference, 2.0ms postprocess per image at shape (1, 3, 384, 640)\n"
     ]
    },
    {
     "name": "stdout",
     "output_type": "stream",
     "text": [
      "Time to process 1 frame: 65 milliseconds\n",
      "Time to process 1 frame: 65 milliseconds\n",
      "Time to process 1 frame: 66 milliseconds\n"
     ]
    }
   ],
   "source": [
    "import datetime\n",
    "import cv2\n",
    "from ultralytics import YOLO\n",
    "\n",
    "CONFIDENCE_THRESHOLD = 0.6\n",
    "GREEN = (0, 255, 0)\n",
    "WHITE = (255, 255, 255)\n",
    "\n",
    "# coco128 = open('./yolov8_pretrained/coco128.txt', 'r')\n",
    "# data = coco128.read()\n",
    "# class_list = data.split('\\n')\n",
    "# coco128.close()\n",
    "classcode = ['K-001562', 'K-001901', 'K-002052', 'K-004378', 'K-005391', 'K-006192', 'K-006563', 'K-006697', 'K-007024', 'K-007348', 'K-012769', 'K-013398', 'K-013900', 'K-015710', 'K-016206', 'K-016548', 'K-016688', 'K-021771', 'K-023933', 'K-024029', 'K-024127', 'K-025629', 'K-027777', 'K-028408', 'K-031490', 'K-038104', 'K-038722', 'K-040265', 'K-041149', 'K-044830', 'K-044834']\n",
    "class_list = ['Minocin Cap. 50mg', 'Buspar Tab. 10mg Boryung', 'Dinacs Tab.', 'Tylenol Tab. 500mg', 'Proscar Tab. 5mg', 'Beecom-CF Tab.', 'Joins Tab.', 'Ssiznal Tab.', 'Festal Plus Tab.', 'Riboteine Tab.', 'Dr. Bearse Tab.', 'Isotinone Soft Cap.', 'Ebixa Tab.', 'Entelon Tab. 150mg', 'Avodart Soft Cap. 0.5mg', 'Gabatopa Tab. 100mg', 'Omacor Soft Cap.', 'Rabiet Tab.20mg', 'Allerdin Tab.', 'Neotigason Cap. 10mg', 'Cacepin Tab 25mg', 'Zeromine Soft Cap.', 'Kanarb Tab. 60mg', 'Olzapine Tab. 2.5mg', 'Aspid Tab.', 'Hanmi Tams Cap. 0.4mg', 'Entresto Film Coated Tab. 100mg', 'Agen-F Tab.', 'Ramnos Cap. 500mg', 'Haben Herb F Cap.', 'Elsteine Tab.']\n",
    "\n",
    "model = YOLO('./weights/last.pt')\n",
    "\n",
    "cap = cv2.VideoCapture(0)\n",
    "cap.set(cv2.CAP_PROP_FRAME_WIDTH, 1920) \n",
    "cap.set(cv2.CAP_PROP_FRAME_HEIGHT, 1280)\n",
    "\n",
    "while True:\n",
    "    start = datetime.datetime.now()\n",
    "\n",
    "    ret, frame = cap.read()\n",
    "    if not ret:\n",
    "        print('Cam Error')\n",
    "        break\n",
    "\n",
    "    detection = model(frame)[0]\n",
    "\n",
    "    for data in detection.boxes.data.tolist() : # data : [xmin, ymin, xmax, ymax, confidence_score, class_id]\n",
    "        confidence = float(data[4])\n",
    "        if confidence < CONFIDENCE_THRESHOLD:\n",
    "            continue\n",
    "\n",
    "        xmin, ymin, xmax, ymax = int(data[0]), int(data[1]), int(data[2]), int(data[3])\n",
    "        label = int(data[5])\n",
    "        cv2.rectangle(frame, (xmin, ymin), (xmax, ymax), GREEN, 2)\n",
    "        cv2.putText(frame, class_list[label]+' '+str(round(confidence, 2)) + '%', (xmin, ymin), cv2.FONT_ITALIC, 1, WHITE, 2)\n",
    "\n",
    "    end = datetime.datetime.now()\n",
    "\n",
    "    total = (end - start).total_seconds()\n",
    "    print(f'Time to process 1 frame: {total * 1000:.0f} milliseconds')\n",
    "\n",
    "    fps = f'FPS: {1 / total:.2f}'\n",
    "    cv2.putText(frame, fps, (10, 20), cv2.FONT_HERSHEY_SIMPLEX, 0.5, (0, 0, 255), 2)\n",
    "\n",
    "    cv2.imshow('frame', frame)\n",
    "\n",
    "    if cv2.waitKey(1) == ord('q'):\n",
    "        break\n",
    "\n",
    "cap.release()\n",
    "cv2.destroyAllWindows()"
   ]
  },
  {
   "cell_type": "code",
   "execution_count": null,
   "metadata": {},
   "outputs": [],
   "source": []
  }
 ],
 "metadata": {
  "kernelspec": {
   "display_name": "pt_gpu",
   "language": "python",
   "name": "python3"
  },
  "language_info": {
   "codemirror_mode": {
    "name": "ipython",
    "version": 3
   },
   "file_extension": ".py",
   "mimetype": "text/x-python",
   "name": "python",
   "nbconvert_exporter": "python",
   "pygments_lexer": "ipython3",
   "version": "3.11.4"
  }
 },
 "nbformat": 4,
 "nbformat_minor": 2
}
