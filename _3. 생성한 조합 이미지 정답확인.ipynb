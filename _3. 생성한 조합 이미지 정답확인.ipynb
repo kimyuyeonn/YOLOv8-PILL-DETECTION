{
 "cells": [
  {
   "cell_type": "code",
   "execution_count": 2,
   "metadata": {},
   "outputs": [],
   "source": [
    "# 골라놓은 알약\n",
    "SRC_DIR = 'E:/Download_informatica30/경구약제 이미지 데이터/01.데이터/1.Training/원천데이터'  # '/경구약제조합 5000종/TL_1_조합/K-000250-000573-002483-006192_json/K-000250/K-000250-000573-002483-006192_0_2_0_2_75_000_200.json'\n",
    "DST_DIR = './DATASET'\n",
    "DST_COMB_DIR = './DATASET/COMBI' \n",
    "\n",
    "SEL_DRUG = ['K-001562', 'K-001901', 'K-002052', 'K-004378', 'K-005391', 'K-006192', 'K-006563', 'K-006697', 'K-007024', 'K-007348', 'K-012769', 'K-013398', 'K-013900', 'K-015710', 'K-016206', 'K-016548', 'K-016688', 'K-021771', 'K-023933', 'K-024029', 'K-024127', 'K-025629', 'K-027777', 'K-028408', 'K-031490', 'K-038104', 'K-038722', 'K-040265', 'K-041149', 'K-044830', 'K-044834']\n",
    "NO = [i for i in range(31)]\n",
    "\n",
    "CLS_N2D = dict(zip(NO, SEL_DRUG))\n",
    "CLS_D2N = dict(zip(SEL_DRUG, NO))"
   ]
  },
  {
   "cell_type": "markdown",
   "metadata": {},
   "source": [
    "### 조합 경구약 이미지 정답 부분 체크 보고"
   ]
  },
  {
   "cell_type": "code",
   "execution_count": 8,
   "metadata": {},
   "outputs": [],
   "source": [
    "from PIL import Image, ImageFont, ImageDraw\n",
    "import numpy as np\n",
    "import matplotlib.pyplot as plt\n",
    "\n",
    "def convert_bbox_yolo2coco(img_width, img_height, bbox):\n",
    "    w = bbox[2] * img_width\n",
    "    h = bbox[3] * img_height\n",
    "    x = (bbox[0] * img_width - yolo_w * img_width / 2)\n",
    "    y = (bbox[1] * img_height - yolo_h * img_height / 2)\n",
    "\n",
    "    return [x, y, w, h]\n",
    "\n",
    "def pil_draw_rect(image, point1, point2, drug_cls):\n",
    "    draw = ImageDraw.Draw(image)\n",
    "    draw.rectangle((point1, point2), outline=(0, 0, 255), width=3)\n",
    "    font_ = ImageFont.truetype(font = \"NanumGothic.ttf\", size=20)\n",
    "    draw.text(point1, f'{CLS_N2D[drug_cls]}', font=font_)\n",
    "    \n",
    "    return image\n",
    "\n",
    "path = './' + 'DATASET\\COMBI\\K-001562_K-005391_K-005391_K-002052.png'\n",
    "lable_file = path.replace('.png', '.txt')\n",
    "\n",
    "image = Image.open(path)\n",
    "with open(lable_file, \"r\") as f:\n",
    "    lines = f.readlines() # ['첫 번째 줄\\n', '두 번째 줄\\n', '세 번째 줄'] 저장\n",
    "    for line in lines:\n",
    "        drug_cls, yolo_x, yolo_y, yolo_w, yolo_h = map(float, line.split())\n",
    "\n",
    "        bbox = convert_bbox_yolo2coco(976, 1280, [yolo_x, yolo_y, yolo_w, yolo_h])\n",
    "\n",
    "        drug_cls = int(drug_cls)\n",
    "        \n",
    "        image = pil_draw_rect(image, (bbox[0], bbox[1]), (bbox[0]+bbox[2], bbox[1]+bbox[3]), drug_cls)\n",
    "\n",
    "\n",
    "image.show()"
   ]
  },
  {
   "cell_type": "code",
   "execution_count": null,
   "metadata": {},
   "outputs": [],
   "source": []
  }
 ],
 "metadata": {
  "kernelspec": {
   "display_name": "pt_gpu",
   "language": "python",
   "name": "python3"
  },
  "language_info": {
   "codemirror_mode": {
    "name": "ipython",
    "version": 3
   },
   "file_extension": ".py",
   "mimetype": "text/x-python",
   "name": "python",
   "nbconvert_exporter": "python",
   "pygments_lexer": "ipython3",
   "version": "3.11.4"
  }
 },
 "nbformat": 4,
 "nbformat_minor": 2
}
