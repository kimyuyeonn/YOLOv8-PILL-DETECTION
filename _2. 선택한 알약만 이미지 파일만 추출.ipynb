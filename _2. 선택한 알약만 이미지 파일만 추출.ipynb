{
 "cells": [
  {
   "cell_type": "code",
   "execution_count": 20,
   "metadata": {},
   "outputs": [
    {
     "data": {
      "text/plain": [
       "31"
      ]
     },
     "execution_count": 20,
     "metadata": {},
     "output_type": "execute_result"
    }
   ],
   "source": [
    "# 골라놓은 알약\n",
    "SRC_DIR = 'E:/Download_informatica30/경구약제 이미지 데이터/01.데이터/1.Training/원천데이터'  # '/경구약제조합 5000종/TL_1_조합/K-000250-000573-002483-006192_json/K-000250/K-000250-000573-002483-006192_0_2_0_2_75_000_200.json'\n",
    "DST_DIR = './DATASET'\n",
    "\n",
    "SEL_DRUG = ['K-001562', 'K-001901', 'K-002052', 'K-004378', 'K-005391', 'K-006192', 'K-006563', 'K-006697', 'K-007024', 'K-007348', 'K-012769', 'K-013398', 'K-013900', 'K-015710', 'K-016206', 'K-016548', 'K-016688', 'K-021771', 'K-023933', 'K-024029', 'K-024127', 'K-025629', 'K-027777', 'K-028408', 'K-031490', 'K-038104', 'K-038722', 'K-040265', 'K-041149', 'K-044830', 'K-044834']\n",
    "\n",
    "len(SEL_DRUG)\n",
    "# 이 알약은 없음  : \n",
    "# 카발린캡슐 25mg,K-041768,\n",
    "# 케이캡정 50mg,K-044199,"
   ]
  },
  {
   "cell_type": "code",
   "execution_count": 85,
   "metadata": {},
   "outputs": [
    {
     "data": {
      "text/html": [
       "<div>\n",
       "<style scoped>\n",
       "    .dataframe tbody tr th:only-of-type {\n",
       "        vertical-align: middle;\n",
       "    }\n",
       "\n",
       "    .dataframe tbody tr th {\n",
       "        vertical-align: top;\n",
       "    }\n",
       "\n",
       "    .dataframe thead th {\n",
       "        text-align: right;\n",
       "    }\n",
       "</style>\n",
       "<table border=\"1\" class=\"dataframe\">\n",
       "  <thead>\n",
       "    <tr style=\"text-align: right;\">\n",
       "      <th></th>\n",
       "      <th>drug_N</th>\n",
       "      <th>drug_code</th>\n",
       "      <th>dl_name</th>\n",
       "      <th>dl_name_en</th>\n",
       "      <th>dl_material</th>\n",
       "      <th>dl_material_en</th>\n",
       "      <th>bbox</th>\n",
       "      <th>dl_company</th>\n",
       "      <th>dl_company_en</th>\n",
       "      <th>di_class_no</th>\n",
       "      <th>di_etc_otc_code</th>\n",
       "      <th>imgfile</th>\n",
       "      <th>json_path</th>\n",
       "      <th>Combi</th>\n",
       "    </tr>\n",
       "  </thead>\n",
       "  <tbody>\n",
       "    <tr>\n",
       "      <th>0</th>\n",
       "      <td>K-001562</td>\n",
       "      <td>644700590</td>\n",
       "      <td>미노씬캡슐 50mg</td>\n",
       "      <td>Minocin Cap. 50mg</td>\n",
       "      <td>미노사이클린염산염</td>\n",
       "      <td>Minocycline Hydrochloride</td>\n",
       "      <td>326|433|307|321</td>\n",
       "      <td>에스케이케미칼(주)</td>\n",
       "      <td>Sk Chemicals</td>\n",
       "      <td>[06150]주로 그람양성, 음성균, 리케치아, 비루스에 작용하는 것</td>\n",
       "      <td>전문의약품</td>\n",
       "      <td>K-001562_0_2_0_0_70_000_200.png</td>\n",
       "      <td>/단일경구약제 5000종/TL_23_단일/K-001562_json/K-001...</td>\n",
       "      <td>TL_23_단일</td>\n",
       "    </tr>\n",
       "    <tr>\n",
       "      <th>324</th>\n",
       "      <td>K-001901</td>\n",
       "      <td>641901270</td>\n",
       "      <td>보령부스파정 10mg</td>\n",
       "      <td>Buspar Tab. 10mg Boryung</td>\n",
       "      <td>부스피론염산염</td>\n",
       "      <td>Buspirone Hydrochloride</td>\n",
       "      <td>343|485|257|244</td>\n",
       "      <td>보령제약(주)</td>\n",
       "      <td>Boryung</td>\n",
       "      <td>[01170]정신신경용제</td>\n",
       "      <td>전문의약품</td>\n",
       "      <td>K-001901_0_0_0_0_60_000_200.png</td>\n",
       "      <td>/단일경구약제 5000종/TL_2_단일/K-001901_json/K-0019...</td>\n",
       "      <td>TL_2_단일</td>\n",
       "    </tr>\n",
       "  </tbody>\n",
       "</table>\n",
       "</div>"
      ],
      "text/plain": [
       "       drug_N  drug_code      dl_name                dl_name_en dl_material  \\\n",
       "0    K-001562  644700590   미노씬캡슐 50mg         Minocin Cap. 50mg   미노사이클린염산염   \n",
       "324  K-001901  641901270  보령부스파정 10mg  Buspar Tab. 10mg Boryung     부스피론염산염   \n",
       "\n",
       "                dl_material_en             bbox  dl_company dl_company_en  \\\n",
       "0    Minocycline Hydrochloride  326|433|307|321  에스케이케미칼(주)  Sk Chemicals   \n",
       "324    Buspirone Hydrochloride  343|485|257|244     보령제약(주)       Boryung   \n",
       "\n",
       "                                di_class_no di_etc_otc_code  \\\n",
       "0    [06150]주로 그람양성, 음성균, 리케치아, 비루스에 작용하는 것           전문의약품   \n",
       "324                           [01170]정신신경용제           전문의약품   \n",
       "\n",
       "                             imgfile  \\\n",
       "0    K-001562_0_2_0_0_70_000_200.png   \n",
       "324  K-001901_0_0_0_0_60_000_200.png   \n",
       "\n",
       "                                             json_path         Combi  \n",
       "0    /단일경구약제 5000종/TL_23_단일/K-001562_json/K-001...  TL_23_단일  \n",
       "324  /단일경구약제 5000종/TL_2_단일/K-001901_json/K-0019...   TL_2_단일  "
      ]
     },
     "execution_count": 85,
     "metadata": {},
     "output_type": "execute_result"
    }
   ],
   "source": [
    "import pandas as pd\n",
    "\n",
    "df_sel_drug = pd.read_csv('./DRUG_INFO/선택한알약이미지정보.csv')\n",
    "df_sel_unique = df.drop_duplicates(['drug_N']) # 중복제거 - 경구약이 저장된 서브 폴더명 알아내기 위해\n",
    "\n",
    "df_sel_unique.head(2)"
   ]
  },
  {
   "cell_type": "code",
   "execution_count": 87,
   "metadata": {},
   "outputs": [],
   "source": [
    "# 단일 경구약제 폴더 복사\n",
    "import os\n",
    "import shutil\n",
    "\n",
    "for drug_N in SEL_DRUG :\n",
    "    sub_dir = df_sel_unique.loc[df_sel_unique['drug_N'] == drug_N, 'Combi'].reset_index(drop=True)[0].replace('TL', 'TS').replace('단일', '단일')\n",
    "    src_dir = SRC_DIR + '/단일경구약제 5000종/' + sub_dir + '/' + drug_N\n",
    "    dst_dir = DST_DIR + '/' + drug_N + '/'\n",
    "\n",
    "    shutil.copytree(src_dir, dst_dir)"
   ]
  },
  {
   "cell_type": "code",
   "execution_count": null,
   "metadata": {},
   "outputs": [],
   "source": []
  }
 ],
 "metadata": {
  "kernelspec": {
   "display_name": "pt_gpu_py3.9",
   "language": "python",
   "name": "python3"
  },
  "language_info": {
   "codemirror_mode": {
    "name": "ipython",
    "version": 3
   },
   "file_extension": ".py",
   "mimetype": "text/x-python",
   "name": "python",
   "nbconvert_exporter": "python",
   "pygments_lexer": "ipython3",
   "version": "3.9.17"
  }
 },
 "nbformat": 4,
 "nbformat_minor": 2
}
